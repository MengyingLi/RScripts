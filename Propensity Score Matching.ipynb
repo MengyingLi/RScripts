{
 "cells": [
  {
   "cell_type": "markdown",
   "metadata": {},
   "source": [
    "<h2 align = \"center\"> Propensity Score Matching </h2>"
   ]
  },
  {
   "cell_type": "markdown",
   "metadata": {},
   "source": [
    "#### How likely each one is going to be treated then find the observations which are equally likely to be treated but the only difference is the treatment itself.\n",
    "\n",
    "#### The variables using here to calculate the propensity score should be related to the treatment itself as well as the metric you want to compare these two with "
   ]
  },
  {
   "cell_type": "markdown",
   "metadata": {},
   "source": [
    "http://stanford.edu/~ejdemyr/r-tutorials-archive/tutorial8.html"
   ]
  },
  {
   "cell_type": "markdown",
   "metadata": {},
   "source": [
    "http://pareonline.net/pdf/v19n18.pdf"
   ]
  },
  {
   "cell_type": "markdown",
   "metadata": {},
   "source": [
    "Propensity score matching is a statistical technique\n",
    "in which a treatment case is matched with one or more\n",
    "control cases based on each case’s propensity score.\n",
    "This matching can help strengthen causal arguments in\n",
    "quasi-experimental and observational studies by\n",
    "reducing selection bias"
   ]
  },
  {
   "cell_type": "markdown",
   "metadata": {},
   "source": [
    "We estimate the propensity score by running a logit model (probit also works) where the outcome variable is a binary variable indicating treatment status. What covariates should you include? For the matching to give you a causal estimate in the end, you need to include any covariate that is related to both the treatment assignment and potential outcomes. I choose just a few covariates below—they are unlikely to capture all covariates that should be included. You’ll be asked to come up with a potentially better model on your own later."
   ]
  },
  {
   "cell_type": "markdown",
   "metadata": {},
   "source": [
    "1.  ### Run the algorithm"
   ]
  },
  {
   "cell_type": "markdown",
   "metadata": {},
   "source": [
    "* Simple one: use logistic regression. regress the treatment status on covariates (should be related to the treatment itself as well as the metric you want to compare these two with ). Then calculate the likelihood(predict) their logit scores and find the common support range of both treatment and control groups in terms of the propensity score and divide the propensity score range to 5 quantiles and compare the metric within each quantile"
   ]
  },
  {
   "cell_type": "markdown",
   "metadata": {},
   "source": [
    "* Use `Matchit` package use one of the method as below \n",
    "\n",
    "\n",
    "1)  Exact Matching – This\n",
    "treated unit with a control unit that has exactly\n",
    "the same values on each covariate. When there\n",
    "are many covariates and/or covariates that can\n",
    "take a large range of values, exact matching may\n",
    "not be possible (method = “exact”).\n",
    "\n",
    "2)  Subclassification – This technique breaks the\n",
    "data set into subclasses such that the\n",
    "distributions of the covariates are similar in\n",
    "each subclass (method = “subclass”).\n",
    "\n",
    "\n",
    "3)  Nearest Neighbor – This technique matches a treated unit to a control u\n",
    "terms of a distance measure such as a logit\n",
    "(method = “nearest”).\n",
    "\n",
    "4) Optimal Matching – This technique focuses on\n",
    "minimizing the average absolute distance across\n",
    "all matched pairs (method = “optimal”). This\n",
    "method of matching requir\n",
    "package.\n",
    "\n",
    "5) Genetic Matching –\n",
    "computationally intensive genetic search\n",
    "algorithm to match treatment and control units\n",
    "(method = “genetic”). It requires the Matching\n",
    "package.\n",
    "\n",
    "6)  Coarsened Exact Matching\n",
    "technique matches on a covariate while\n",
    "maintaining the balance of other covariates. It is\n",
    "claimed to work “well for multicategory\n",
    "treatments, determining blocks in experimental\n",
    "designs, and evaluating extreme\n",
    "counterfactuals” (Ho, Kosuke, King, & Stuart,\n",
    "2011, p.12) (method = “cem”)"
   ]
  },
  {
   "cell_type": "markdown",
   "metadata": {},
   "source": [
    "2. ### Run the t-stest on the selected matching instances (in the matchit package just use *match.data*) "
   ]
  },
  {
   "cell_type": "markdown",
   "metadata": {},
   "source": [
    "2. Visualize the distribution of the covariate on the propensity scores. No matter whether it is a control or treatment, the covariate value on the same propensity score should be similar as well \n",
    "\n",
    "3. Or use t-test to see whether a certain covariate is similar between control and treatment"
   ]
  },
  {
   "cell_type": "code",
   "execution_count": null,
   "metadata": {
    "collapsed": true
   },
   "outputs": [],
   "source": []
  }
 ],
 "metadata": {
  "kernelspec": {
   "display_name": "R",
   "language": "R",
   "name": "ir"
  },
  "language_info": {
   "codemirror_mode": "r",
   "file_extension": ".r",
   "mimetype": "text/x-r-source",
   "name": "R",
   "pygments_lexer": "r",
   "version": "3.3.1"
  }
 },
 "nbformat": 4,
 "nbformat_minor": 0
}
