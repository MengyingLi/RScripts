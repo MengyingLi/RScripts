{
 "cells": [
  {
   "cell_type": "code",
   "execution_count": 10,
   "metadata": {
    "collapsed": true
   },
   "outputs": [],
   "source": [
    "examData <- read.delim(\"E:/Personal/InterviewQuestion/Rscripts/LearningStatistics/Exam Anxiety.dat\", header=TRUE)"
   ]
  },
  {
   "cell_type": "code",
   "execution_count": 5,
   "metadata": {
    "collapsed": false
   },
   "outputs": [
    {
     "data": {
      "text/html": [
       "<table>\n",
       "<thead><tr><th></th><th scope=col>Code</th><th scope=col>Revise</th><th scope=col>Exam</th><th scope=col>Anxiety</th><th scope=col>Gender</th></tr></thead>\n",
       "<tbody>\n",
       "\t<tr><th scope=row>1</th><td>1     </td><td>4     </td><td>40    </td><td>86.298</td><td>2     </td></tr>\n",
       "\t<tr><th scope=row>2</th><td>2     </td><td>11    </td><td>65    </td><td>88.716</td><td>1     </td></tr>\n",
       "\t<tr><th scope=row>3</th><td>3     </td><td>27    </td><td>80    </td><td>70.178</td><td>2     </td></tr>\n",
       "\t<tr><th scope=row>4</th><td>4     </td><td>53    </td><td>80    </td><td>61.312</td><td>2     </td></tr>\n",
       "\t<tr><th scope=row>5</th><td>5     </td><td>4     </td><td>40    </td><td>89.522</td><td>2     </td></tr>\n",
       "\t<tr><th scope=row>6</th><td>6     </td><td>22    </td><td>70    </td><td>60.506</td><td>1     </td></tr>\n",
       "</tbody>\n",
       "</table>\n"
      ],
      "text/latex": [
       "\\begin{tabular}{r|lllll}\n",
       "  & Code & Revise & Exam & Anxiety & Gender\\\\\n",
       "\\hline\n",
       "\t1 & 1      & 4      & 40     & 86.298 & 2     \\\\\n",
       "\t2 & 2      & 11     & 65     & 88.716 & 1     \\\\\n",
       "\t3 & 3      & 27     & 80     & 70.178 & 2     \\\\\n",
       "\t4 & 4      & 53     & 80     & 61.312 & 2     \\\\\n",
       "\t5 & 5      & 4      & 40     & 89.522 & 2     \\\\\n",
       "\t6 & 6      & 22     & 70     & 60.506 & 1     \\\\\n",
       "\\end{tabular}\n"
      ],
      "text/plain": [
       "  Code Revise Exam Anxiety Gender\n",
       "1    1      4   40  86.298   Male\n",
       "2    2     11   65  88.716 Female\n",
       "3    3     27   80  70.178   Male\n",
       "4    4     53   80  61.312   Male\n",
       "5    5      4   40  89.522   Male\n",
       "6    6     22   70  60.506 Female"
      ]
     },
     "metadata": {},
     "output_type": "display_data"
    }
   ],
   "source": [
    "head(exam)"
   ]
  },
  {
   "cell_type": "code",
   "execution_count": 9,
   "metadata": {
    "collapsed": false
   },
   "outputs": [
    {
     "data": {
      "text/html": [
       "<table>\n",
       "<thead><tr><th></th><th scope=col>adverts</th><th scope=col>packetsNA</th><th scope=col>age</th></tr></thead>\n",
       "<tbody>\n",
       "\t<tr><th scope=row>adverts</th><td>1                 </td><td>NA                </td><td>0.0207296247308543</td></tr>\n",
       "\t<tr><th scope=row>packetsNA</th><td>NA</td><td>1 </td><td>NA</td></tr>\n",
       "\t<tr><th scope=row>age</th><td>0.0207296247308543</td><td>NA                </td><td>1                 </td></tr>\n",
       "</tbody>\n",
       "</table>\n"
      ],
      "text/latex": [
       "\\begin{tabular}{r|lll}\n",
       "  & adverts & packetsNA & age\\\\\n",
       "\\hline\n",
       "\tadverts & 1                  & NA                 & 0.0207296247308543\\\\\n",
       "\tpacketsNA & NA & 1  & NA\\\\\n",
       "\tage & 0.0207296247308543 & NA                 & 1                 \\\\\n",
       "\\end{tabular}\n"
      ],
      "text/markdown": [
       "1. 1\n",
       "2. NA\n",
       "3. 0.0207296247308543\n",
       "4. NA\n",
       "5. 1\n",
       "6. NA\n",
       "7. 0.0207296247308543\n",
       "8. NA\n",
       "9. 1\n",
       "\n",
       "\n"
      ],
      "text/plain": [
       "             adverts packetsNA        age\n",
       "adverts   1.00000000        NA 0.02072962\n",
       "packetsNA         NA         1         NA\n",
       "age       0.02072962        NA 1.00000000"
      ]
     },
     "metadata": {},
     "output_type": "display_data"
    },
    {
     "data": {
      "text/html": [
       "<table>\n",
       "<thead><tr><th></th><th scope=col>adverts</th><th scope=col>packetsNA</th><th scope=col>age</th></tr></thead>\n",
       "<tbody>\n",
       "\t<tr><th scope=row>adverts</th><td>1                 </td><td>0.182574185835055 </td><td>-0.182574185835055</td></tr>\n",
       "\t<tr><th scope=row>packetsNA</th><td>0.182574185835055</td><td>1                </td><td>0.666666666666667</td></tr>\n",
       "\t<tr><th scope=row>age</th><td>-0.182574185835055</td><td>0.666666666666667 </td><td>1                 </td></tr>\n",
       "</tbody>\n",
       "</table>\n"
      ],
      "text/latex": [
       "\\begin{tabular}{r|lll}\n",
       "  & adverts & packetsNA & age\\\\\n",
       "\\hline\n",
       "\tadverts & 1                  & 0.182574185835055  & -0.182574185835055\\\\\n",
       "\tpacketsNA & 0.182574185835055 & 1                 & 0.666666666666667\\\\\n",
       "\tage & -0.182574185835055 & 0.666666666666667  & 1                 \\\\\n",
       "\\end{tabular}\n"
      ],
      "text/markdown": [
       "1. 1\n",
       "2. 0.182574185835055\n",
       "3. -0.182574185835055\n",
       "4. 0.182574185835055\n",
       "5. 1\n",
       "6. 0.666666666666667\n",
       "7. -0.182574185835055\n",
       "8. 0.666666666666667\n",
       "9. 1\n",
       "\n",
       "\n"
      ],
      "text/plain": [
       "             adverts packetsNA        age\n",
       "adverts    1.0000000 0.1825742 -0.1825742\n",
       "packetsNA  0.1825742 1.0000000  0.6666667\n",
       "age       -0.1825742 0.6666667  1.0000000"
      ]
     },
     "metadata": {},
     "output_type": "display_data"
    }
   ],
   "source": [
    "adverts<-c(5,4,4,6,8)\n",
    "packetsNA<-c(8,9,10,NA,15)\n",
    "age<-c(5, 12, 16, 9, 14)\n",
    "advertNA<-data.frame(adverts, packetsNA, age)\n",
    "cor(advertNA, use = \"everything\",  method = \"pearson\") \n",
    "#use specify how to deal with missing value. complete.obs means list wise which means remove the entire row\n",
    "# pairwise.complete.obs:remove the missing with the variables being compared\n",
    "cor(advertNA, use = \"complete.obs\",  method = \"kendall\")\n"
   ]
  },
  {
   "cell_type": "code",
   "execution_count": 12,
   "metadata": {
    "collapsed": false
   },
   "outputs": [
    {
     "data": {
      "text/html": [
       "<table>\n",
       "<thead><tr><th></th><th scope=col>adverts</th><th scope=col>packetsNA</th><th scope=col>age</th></tr></thead>\n",
       "<tbody>\n",
       "\t<tr><th scope=row>adverts</th><td>1                 </td><td>0.182574185835055 </td><td>-0.105409255338946</td></tr>\n",
       "\t<tr><th scope=row>packetsNA</th><td>0.182574185835055</td><td>1                </td><td>0.666666666666667</td></tr>\n",
       "\t<tr><th scope=row>age</th><td>-0.105409255338946</td><td>0.666666666666667 </td><td>1                 </td></tr>\n",
       "</tbody>\n",
       "</table>\n"
      ],
      "text/latex": [
       "\\begin{tabular}{r|lll}\n",
       "  & adverts & packetsNA & age\\\\\n",
       "\\hline\n",
       "\tadverts & 1                  & 0.182574185835055  & -0.105409255338946\\\\\n",
       "\tpacketsNA & 0.182574185835055 & 1                 & 0.666666666666667\\\\\n",
       "\tage & -0.105409255338946 & 0.666666666666667  & 1                 \\\\\n",
       "\\end{tabular}\n"
      ],
      "text/markdown": [
       "1. 1\n",
       "2. 0.182574185835055\n",
       "3. -0.105409255338946\n",
       "4. 0.182574185835055\n",
       "5. 1\n",
       "6. 0.666666666666667\n",
       "7. -0.105409255338946\n",
       "8. 0.666666666666667\n",
       "9. 1\n",
       "\n",
       "\n"
      ],
      "text/plain": [
       "             adverts packetsNA        age\n",
       "adverts    1.0000000 0.1825742 -0.1054093\n",
       "packetsNA  0.1825742 1.0000000  0.6666667\n",
       "age       -0.1054093 0.6666667  1.0000000"
      ]
     },
     "metadata": {},
     "output_type": "display_data"
    }
   ],
   "source": [
    "cor(advertNA, use = \"pairwise.complete.obs\",  method = \"kendall\")\n"
   ]
  },
  {
   "cell_type": "code",
   "execution_count": 11,
   "metadata": {
    "collapsed": false
   },
   "outputs": [
    {
     "data": {
      "text/html": [
       "-0.284791875904157"
      ],
      "text/latex": [
       "-0.284791875904157"
      ],
      "text/markdown": [
       "-0.284791875904157"
      ],
      "text/plain": [
       "[1] -0.2847919"
      ]
     },
     "metadata": {},
     "output_type": "display_data"
    }
   ],
   "source": [
    "cor(examData$Exam, examData$Anxiety, use = \"pairwise.complete.obs\", method =\n",
    "\"kendall\")"
   ]
  },
  {
   "cell_type": "code",
   "execution_count": 14,
   "metadata": {
    "collapsed": false
   },
   "outputs": [
    {
     "data": {
      "text/plain": [
       "\n",
       "\tPearson's product-moment correlation\n",
       "\n",
       "data:  examData$Exam and examData$Anxiety\n",
       "t = -4.938, df = 101, p-value = 1.564e-06\n",
       "alternative hypothesis: true correlation is less than 0\n",
       "95 percent confidence interval:\n",
       " -1.0000000 -0.2995071\n",
       "sample estimates:\n",
       "       cor \n",
       "-0.4409934 \n"
      ]
     },
     "metadata": {},
     "output_type": "display_data"
    }
   ],
   "source": [
    "cor.test(examData$Exam, examData$Anxiety, method = \"pearson\", alternative = \"less\")"
   ]
  },
  {
   "cell_type": "code",
   "execution_count": 15,
   "metadata": {
    "collapsed": false
   },
   "outputs": [
    {
     "data": {
      "text/html": [
       "<table>\n",
       "<thead><tr><th></th><th scope=col>Exam</th><th scope=col>Anxiety</th><th scope=col>Revise</th></tr></thead>\n",
       "<tbody>\n",
       "\t<tr><th scope=row>Exam</th><td>1                 </td><td>-0.440993411608789</td><td>0.396720696926757 </td></tr>\n",
       "\t<tr><th scope=row>Anxiety</th><td>-0.440993411608789</td><td>1                 </td><td>-0.709249255109869</td></tr>\n",
       "\t<tr><th scope=row>Revise</th><td>0.396720696926757 </td><td>-0.709249255109869</td><td>1                 </td></tr>\n",
       "</tbody>\n",
       "</table>\n"
      ],
      "text/latex": [
       "\\begin{tabular}{r|lll}\n",
       "  & Exam & Anxiety & Revise\\\\\n",
       "\\hline\n",
       "\tExam & 1                  & -0.440993411608789 & 0.396720696926757 \\\\\n",
       "\tAnxiety & -0.440993411608789 & 1                  & -0.709249255109869\\\\\n",
       "\tRevise & 0.396720696926757  & -0.709249255109869 & 1                 \\\\\n",
       "\\end{tabular}\n"
      ],
      "text/markdown": [
       "1. 1\n",
       "2. -0.440993411608789\n",
       "3. 0.396720696926757\n",
       "4. -0.440993411608789\n",
       "5. 1\n",
       "6. -0.709249255109869\n",
       "7. 0.396720696926757\n",
       "8. -0.709249255109869\n",
       "9. 1\n",
       "\n",
       "\n"
      ],
      "text/plain": [
       "              Exam    Anxiety     Revise\n",
       "Exam     1.0000000 -0.4409934  0.3967207\n",
       "Anxiety -0.4409934  1.0000000 -0.7092493\n",
       "Revise   0.3967207 -0.7092493  1.0000000"
      ]
     },
     "metadata": {},
     "output_type": "display_data"
    }
   ],
   "source": [
    "cor(examData[, c(\"Exam\", \"Anxiety\", \"Revise\")])"
   ]
  },
  {
   "cell_type": "markdown",
   "metadata": {},
   "source": [
    "### spearman correlation (Non-parametric)"
   ]
  },
  {
   "cell_type": "code",
   "execution_count": 16,
   "metadata": {
    "collapsed": true
   },
   "outputs": [],
   "source": [
    "liarData <- read.delim(\"E:/Personal/InterviewQuestion/Rscripts/LearningStatistics/The Biggest Liar.dat\", header=TRUE)"
   ]
  },
  {
   "cell_type": "code",
   "execution_count": 17,
   "metadata": {
    "collapsed": false
   },
   "outputs": [
    {
     "data": {
      "text/html": [
       "-0.373218381287678"
      ],
      "text/latex": [
       "-0.373218381287678"
      ],
      "text/markdown": [
       "-0.373218381287678"
      ],
      "text/plain": [
       "[1] -0.3732184"
      ]
     },
     "metadata": {},
     "output_type": "display_data"
    }
   ],
   "source": [
    "cor(liarData$Position, liarData$Creativity, method = \"spearman\")"
   ]
  },
  {
   "cell_type": "code",
   "execution_count": 18,
   "metadata": {
    "collapsed": false
   },
   "outputs": [
    {
     "name": "stderr",
     "output_type": "stream",
     "text": [
      "Warning message:\n",
      "In cor.test.default(liarData$Position, liarData$Creativity, alternative = \"less\", : Cannot compute exact p-value with ties"
     ]
    },
    {
     "data": {
      "text/plain": [
       "\n",
       "\tSpearman's rank correlation rho\n",
       "\n",
       "data:  liarData$Position and liarData$Creativity\n",
       "S = 71948, p-value = 0.0008602\n",
       "alternative hypothesis: true rho is less than 0\n",
       "sample estimates:\n",
       "       rho \n",
       "-0.3732184 \n"
      ]
     },
     "metadata": {},
     "output_type": "display_data"
    }
   ],
   "source": [
    "cor.test(liarData$Position, liarData$Creativity, alternative = \"less\", method\n",
    "= \"spearman\")"
   ]
  },
  {
   "cell_type": "markdown",
   "metadata": {},
   "source": [
    "### Kendall's tau (Non-parametric) : when you have a samm data set with a large number of tied ranks."
   ]
  },
  {
   "cell_type": "code",
   "execution_count": 19,
   "metadata": {
    "collapsed": false
   },
   "outputs": [
    {
     "data": {
      "text/html": [
       "-0.300241308065175"
      ],
      "text/latex": [
       "-0.300241308065175"
      ],
      "text/markdown": [
       "-0.300241308065175"
      ],
      "text/plain": [
       "[1] -0.3002413"
      ]
     },
     "metadata": {},
     "output_type": "display_data"
    },
    {
     "data": {
      "text/plain": [
       "\n",
       "\tKendall's rank correlation tau\n",
       "\n",
       "data:  liarData$Position and liarData$Creativity\n",
       "z = -3.2252, p-value = 0.0006294\n",
       "alternative hypothesis: true tau is less than 0\n",
       "sample estimates:\n",
       "       tau \n",
       "-0.3002413 \n"
      ]
     },
     "metadata": {},
     "output_type": "display_data"
    }
   ],
   "source": [
    "cor(liarData$Position, liarData$Creativity, method = \"kendall\")\n",
    "cor.test(liarData$Position, liarData$Creativity, alternative = \"less\", method\n",
    "= \"kendall\")"
   ]
  },
  {
   "cell_type": "markdown",
   "metadata": {},
   "source": [
    "### Bootstrapping correlations"
   ]
  },
  {
   "cell_type": "code",
   "execution_count": 21,
   "metadata": {
    "collapsed": true
   },
   "outputs": [],
   "source": [
    "library(boot)"
   ]
  },
  {
   "cell_type": "code",
   "execution_count": 22,
   "metadata": {
    "collapsed": false
   },
   "outputs": [
    {
     "data": {
      "text/plain": [
       "\n",
       "ORDINARY NONPARAMETRIC BOOTSTRAP\n",
       "\n",
       "\n",
       "Call:\n",
       "boot(data = liarData, statistic = bootTau, R = 2000)\n",
       "\n",
       "\n",
       "Bootstrap Statistics :\n",
       "      original      bias    std. error\n",
       "t1* -0.3002413 0.004094165  0.09425343"
      ]
     },
     "metadata": {},
     "output_type": "display_data"
    },
    {
     "name": "stderr",
     "output_type": "stream",
     "text": [
      "Warning message:\n",
      "In boot.ci(boot_kendall): bootstrap variances needed for studentized intervals"
     ]
    },
    {
     "data": {
      "text/plain": [
       "BOOTSTRAP CONFIDENCE INTERVAL CALCULATIONS\n",
       "Based on 2000 bootstrap replicates\n",
       "\n",
       "CALL : \n",
       "boot.ci(boot.out = boot_kendall)\n",
       "\n",
       "Intervals : \n",
       "Level      Normal              Basic         \n",
       "95%   (-0.4891, -0.1196 )   (-0.4939, -0.1201 )  \n",
       "\n",
       "Level     Percentile            BCa          \n",
       "95%   (-0.4804, -0.1066 )   (-0.4756, -0.0987 )  \n",
       "Calculations and Intervals on Original Scale"
      ]
     },
     "metadata": {},
     "output_type": "display_data"
    },
    {
     "name": "stderr",
     "output_type": "stream",
     "text": [
      "Warning message:\n",
      "In boot.ci(boot_kendall, 0.99): bootstrap variances needed for studentized intervals"
     ]
    },
    {
     "data": {
      "text/plain": [
       "BOOTSTRAP CONFIDENCE INTERVAL CALCULATIONS\n",
       "Based on 2000 bootstrap replicates\n",
       "\n",
       "CALL : \n",
       "boot.ci(boot.out = boot_kendall, conf = 0.99)\n",
       "\n",
       "Intervals : \n",
       "Level      Normal              Basic         \n",
       "99%   (-0.5471, -0.0616 )   (-0.5425, -0.0632 )  \n",
       "\n",
       "Level     Percentile            BCa          \n",
       "99%   (-0.5373, -0.0580 )   (-0.5169, -0.0525 )  \n",
       "Calculations and Intervals on Original Scale\n",
       "Some BCa intervals may be unstable"
      ]
     },
     "metadata": {},
     "output_type": "display_data"
    }
   ],
   "source": [
    "bootTau<-function(liarData,i)cor(liarData$Position[i], liarData$Creativity[i], use = \"complete.obs\", method = \"kendall\") \n",
    "    #i represents each bootstrap sample\n",
    "boot_kendall<-boot(liarData, bootTau, 2000)\n",
    "boot_kendall\n",
    "boot.ci(boot_kendall)\n",
    "boot.ci(boot_kendall, 0.99)"
   ]
  },
  {
   "cell_type": "markdown",
   "metadata": {},
   "source": [
    "### biserial and point-biserial correlation"
   ]
  },
  {
   "cell_type": "code",
   "execution_count": null,
   "metadata": {
    "collapsed": true
   },
   "outputs": [],
   "source": [
    "The point-biserial correlation coefficient (rpb) is\n",
    "used when one variable is a discrete dichotomy (e.g., pregnancy), whereas the biserial correlation\n",
    "coefficient (rb) is used when one variable is a continuous dichotomy (e.g., passing or failing an\n",
    "exam)."
   ]
  },
  {
   "cell_type": "code",
   "execution_count": 23,
   "metadata": {
    "collapsed": true
   },
   "outputs": [],
   "source": [
    "catData = read.csv(\"E:/Personal/InterviewQuestion/Rscripts/LearningStatistics/pbcorr.csv\", header = TRUE)"
   ]
  },
  {
   "cell_type": "code",
   "execution_count": 24,
   "metadata": {
    "collapsed": false
   },
   "outputs": [
    {
     "data": {
      "text/plain": [
       "\n",
       "\tPearson's product-moment correlation\n",
       "\n",
       "data:  catData$time and catData$gender\n",
       "t = 3.1138, df = 58, p-value = 0.002868\n",
       "alternative hypothesis: true correlation is not equal to 0\n",
       "95 percent confidence interval:\n",
       " 0.137769 0.576936\n",
       "sample estimates:\n",
       "      cor \n",
       "0.3784542 \n"
      ]
     },
     "metadata": {},
     "output_type": "display_data"
    }
   ],
   "source": [
    "cor.test(catData$time, catData$gender) #biserial correlation"
   ]
  },
  {
   "cell_type": "code",
   "execution_count": 25,
   "metadata": {
    "collapsed": false
   },
   "outputs": [
    {
     "data": {
      "text/plain": [
       "\n",
       "        0         1 \n",
       "0.5333333 0.4666667 "
      ]
     },
     "metadata": {},
     "output_type": "display_data"
    }
   ],
   "source": [
    "catFrequencies<-table(catData$gender)\n",
    "prop.table(catFrequencies)"
   ]
  },
  {
   "cell_type": "code",
   "execution_count": 27,
   "metadata": {
    "collapsed": false
   },
   "outputs": [
    {
     "name": "stderr",
     "output_type": "stream",
     "text": [
      "Loading required package: mvtnorm\n",
      "Loading required package: sfsmisc\n"
     ]
    }
   ],
   "source": [
    "library(polycor)"
   ]
  },
  {
   "cell_type": "code",
   "execution_count": 28,
   "metadata": {
    "collapsed": false
   },
   "outputs": [
    {
     "data": {
      "text/html": [
       "0.474925607546145"
      ],
      "text/latex": [
       "0.474925607546145"
      ],
      "text/markdown": [
       "0.474925607546145"
      ],
      "text/plain": [
       "[1] 0.4749256"
      ]
     },
     "metadata": {},
     "output_type": "display_data"
    }
   ],
   "source": [
    "polyserial(catData$time, catData$gender) #point-biserial correlation"
   ]
  },
  {
   "cell_type": "markdown",
   "metadata": {},
   "source": [
    "### partial correlation"
   ]
  },
  {
   "cell_type": "code",
   "execution_count": 30,
   "metadata": {
    "collapsed": false
   },
   "outputs": [
    {
     "name": "stderr",
     "output_type": "stream",
     "text": [
      "Loading required package: igraph\n",
      "\n",
      "Attaching package: 'igraph'\n",
      "\n",
      "The following objects are masked from 'package:stats':\n",
      "\n",
      "    decompose, spectrum\n",
      "\n",
      "The following object is masked from 'package:base':\n",
      "\n",
      "    union\n",
      "\n",
      "\n",
      "Attaching package: 'ggm'\n",
      "\n",
      "The following object is masked from 'package:igraph':\n",
      "\n",
      "    pa\n",
      "\n"
     ]
    }
   ],
   "source": [
    "library(ggm)"
   ]
  },
  {
   "cell_type": "code",
   "execution_count": 32,
   "metadata": {
    "collapsed": false
   },
   "outputs": [
    {
     "data": {
      "text/html": [
       "<table>\n",
       "<thead><tr><th></th><th scope=col>Exam</th><th scope=col>Anxiety</th></tr></thead>\n",
       "<tbody>\n",
       "\t<tr><th scope=row>Exam</th><td>1                 </td><td>-0.505687438297803</td></tr>\n",
       "\t<tr><th scope=row>Anxiety</th><td>-0.505687438297803</td><td>1                 </td></tr>\n",
       "</tbody>\n",
       "</table>\n"
      ],
      "text/latex": [
       "\\begin{tabular}{r|ll}\n",
       "  & Exam & Anxiety\\\\\n",
       "\\hline\n",
       "\tExam & 1                  & -0.505687438297803\\\\\n",
       "\tAnxiety & -0.505687438297803 & 1                 \\\\\n",
       "\\end{tabular}\n"
      ],
      "text/markdown": [
       "1. 1\n",
       "2. -0.505687438297803\n",
       "3. -0.505687438297803\n",
       "4. 1\n",
       "\n",
       "\n"
      ],
      "text/plain": [
       "              Exam    Anxiety\n",
       "Exam     1.0000000 -0.5056874\n",
       "Anxiety -0.5056874  1.0000000"
      ]
     },
     "metadata": {},
     "output_type": "display_data"
    },
    {
     "data": {
      "text/html": [
       "<table>\n",
       "<thead><tr><th></th><th scope=col>Exam</th><th scope=col>Anxiety</th></tr></thead>\n",
       "<tbody>\n",
       "\t<tr><th scope=row>Exam</th><td>1                 </td><td>-0.381384505927721</td></tr>\n",
       "\t<tr><th scope=row>Anxiety</th><td>-0.381384505927721</td><td>1                 </td></tr>\n",
       "</tbody>\n",
       "</table>\n"
      ],
      "text/latex": [
       "\\begin{tabular}{r|ll}\n",
       "  & Exam & Anxiety\\\\\n",
       "\\hline\n",
       "\tExam & 1                  & -0.381384505927721\\\\\n",
       "\tAnxiety & -0.381384505927721 & 1                 \\\\\n",
       "\\end{tabular}\n"
      ],
      "text/markdown": [
       "1. 1\n",
       "2. -0.381384505927721\n",
       "3. -0.381384505927721\n",
       "4. 1\n",
       "\n",
       "\n"
      ],
      "text/plain": [
       "              Exam    Anxiety\n",
       "Exam     1.0000000 -0.3813845\n",
       "Anxiety -0.3813845  1.0000000"
      ]
     },
     "metadata": {},
     "output_type": "display_data"
    },
    {
     "data": {
      "text/html": [
       "-0.246665820246124"
      ],
      "text/latex": [
       "-0.246665820246124"
      ],
      "text/markdown": [
       "-0.246665820246124"
      ],
      "text/plain": [
       "[1] -0.2466658"
      ]
     },
     "metadata": {},
     "output_type": "display_data"
    },
    {
     "data": {
      "text/html": [
       "0.0608440268776932"
      ],
      "text/latex": [
       "0.0608440268776932"
      ],
      "text/markdown": [
       "0.0608440268776932"
      ],
      "text/plain": [
       "[1] 0.06084403"
      ]
     },
     "metadata": {},
     "output_type": "display_data"
    },
    {
     "data": {
      "text/html": [
       "<dl>\n",
       "\t<dt>$tval</dt>\n",
       "\t\t<dd>-2.5453066505129</dd>\n",
       "\t<dt>$df</dt>\n",
       "\t\t<dd>100</dd>\n",
       "\t<dt>$pvalue</dt>\n",
       "\t\t<dd>0.0124458135120866</dd>\n",
       "</dl>\n"
      ],
      "text/latex": [
       "\\begin{description}\n",
       "\\item[\\$tval] -2.5453066505129\n",
       "\\item[\\$df] 100\n",
       "\\item[\\$pvalue] 0.0124458135120866\n",
       "\\end{description}\n"
      ],
      "text/markdown": [
       "$tval\n",
       ":   -2.5453066505129\n",
       "$df\n",
       ":   100\n",
       "$pvalue\n",
       ":   0.0124458135120866\n",
       "\n",
       "\n"
      ],
      "text/plain": [
       "$tval\n",
       "[1] -2.545307\n",
       "\n",
       "$df\n",
       "[1] 100\n",
       "\n",
       "$pvalue\n",
       "[1] 0.01244581\n"
      ]
     },
     "metadata": {},
     "output_type": "display_data"
    }
   ],
   "source": [
    "maleExam<-subset(examData, Gender == \"Male\", select= c(\"Exam\", \"Anxiety\"))\n",
    "femaleExam<-subset(examData, Gender == \"Female\", select= c(\"Exam\", \"Anxiety\"))\n",
    "cor(maleExam)\n",
    "cor(femaleExam)\n",
    "examData2 <- examData[, c(\"Exam\", \"Anxiety\", \"Revise\")]\n",
    "pc<-pcor(c(\"Exam\", \"Anxiety\", \"Revise\"), var(examData2))\n",
    "\n",
    "pc\n",
    "pc^2\n",
    "pcor.test(pc, 1, 103)## number of control variable is 1 and the sample size is 103"
   ]
  },
  {
   "cell_type": "code",
   "execution_count": null,
   "metadata": {
    "collapsed": true
   },
   "outputs": [],
   "source": []
  }
 ],
 "metadata": {
  "kernelspec": {
   "display_name": "R",
   "language": "R",
   "name": "ir"
  },
  "language_info": {
   "codemirror_mode": "r",
   "file_extension": ".r",
   "mimetype": "text/x-r-source",
   "name": "R",
   "pygments_lexer": "r",
   "version": "3.3.1"
  }
 },
 "nbformat": 4,
 "nbformat_minor": 0
}
