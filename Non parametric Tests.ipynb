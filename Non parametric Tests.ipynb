{
 "cells": [
  {
   "cell_type": "markdown",
   "metadata": {},
   "source": [
    "<h1 align = \"center\"> Non-parametric tests </h2>"
   ]
  },
  {
   "cell_type": "markdown",
   "metadata": {},
   "source": [
    "### Some key terms:\n",
    "* When to use non-parametric tests: Ranking the data will lose the information about the magnitude of differences between scores. It is not as powerful as parametric test only if the assumption of the parametric tests are met (the sampling distribution is normally distributed)"
   ]
  },
  {
   "cell_type": "code",
   "execution_count": 1,
   "metadata": {
    "collapsed": false
   },
   "outputs": [
    {
     "name": "stderr",
     "output_type": "stream",
     "text": [
      "Loading required package: boot\n",
      "\n",
      "Attaching package: 'boot'\n",
      "\n",
      "The following object is masked from 'package:car':\n",
      "\n",
      "    logit\n",
      "\n"
     ]
    }
   ],
   "source": [
    "#------And then load these packages, along with the boot package.-----\n",
    "\n",
    "library(car)\n",
    "library(clinfun)\n",
    "library(ggplot2)\n",
    "library(pastecs)\n",
    "library(pgirmess)\n",
    "\n",
    "#********************* Wilcoxon Rank Sum ********************"
   ]
  },
  {
   "cell_type": "markdown",
   "metadata": {},
   "source": [
    "### Wilcoxon rank sum test: equivalent to the compare two means (independent group)"
   ]
  },
  {
   "cell_type": "code",
   "execution_count": 2,
   "metadata": {
    "collapsed": true
   },
   "outputs": [],
   "source": [
    "#Enter raw data\n",
    "sundayBDI<-c(15, 35, 16, 18, 19, 17, 27, 16, 13, 20, 16, 15, 20, 15, 16, 13, 14, 19, 18, 18)\n",
    "wedsBDI<-c(28, 35, 35, 24, 39, 32, 27, 29, 36, 35, 5, 6, 30, 8, 9, 7, 6, 17, 3, 10)\n",
    "drug<-gl(2, 10, labels = c(\"Ecstasy\", \"Alcohol\"))\n",
    "drugData<-data.frame(drug, sundayBDI, wedsBDI)"
   ]
  },
  {
   "cell_type": "code",
   "execution_count": 3,
   "metadata": {
    "collapsed": false
   },
   "outputs": [
    {
     "data": {
      "text/plain": [
       "drugData$drug: Ecstasy\n",
       "               sundayBDI    wedsBDI\n",
       "median       17.50000000 33.5000000\n",
       "mean         19.60000000 32.0000000\n",
       "SE.mean       2.08806130  1.5129074\n",
       "CI.mean.0.95  4.72352283  3.4224344\n",
       "var          43.60000000 22.8888889\n",
       "std.dev       6.60302961  4.7842334\n",
       "coef.var      0.33688927  0.1495073\n",
       "skewness      1.23571300 -0.2191665\n",
       "skew.2SE      0.89929826 -0.1594999\n",
       "kurtosis      0.26030385 -1.4810114\n",
       "kurt.2SE      0.09754697 -0.5549982\n",
       "normtest.W    0.81063991  0.9411413\n",
       "normtest.p    0.01952060  0.5657814\n",
       "------------------------------------------------------------ \n",
       "drugData$drug: Alcohol\n",
       "               sundayBDI      wedsBDI\n",
       "median       16.00000000  7.500000000\n",
       "mean         16.40000000 10.100000000\n",
       "SE.mean       0.71802197  2.514181996\n",
       "CI.mean.0.95  1.62427855  5.687474812\n",
       "var           5.15555556 63.211111111\n",
       "std.dev       2.27058485  7.950541561\n",
       "coef.var      0.13845030  0.787182333\n",
       "skewness      0.11686189  1.500374383\n",
       "skew.2SE      0.08504701  1.091907319\n",
       "kurtosis     -1.49015904  1.079109997\n",
       "kurt.2SE     -0.55842624  0.404388605\n",
       "normtest.W    0.95946584  0.753466511\n",
       "normtest.p    0.77976459  0.003933024"
      ]
     },
     "metadata": {},
     "output_type": "display_data"
    },
    {
     "data": {
      "text/html": [
       "<table>\n",
       "<thead><tr><th></th><th scope=col>Df</th><th scope=col>F value</th><th scope=col>Pr(&gt;F)</th></tr></thead>\n",
       "<tbody>\n",
       "\t<tr><th scope=row>group</th><td>1.00000000</td><td>3.64362245</td><td>0.07235984</td></tr>\n",
       "\t<tr><th scope=row> </th><td>18</td><td>NA</td><td>NA</td></tr>\n",
       "</tbody>\n",
       "</table>\n"
      ],
      "text/latex": [
       "\\begin{tabular}{r|lll}\n",
       "  & Df & F value & Pr(>F)\\\\\n",
       "\\hline\n",
       "\tgroup & 1.00000000 & 3.64362245 & 0.07235984\\\\\n",
       "\t  & 18 & NA & NA\\\\\n",
       "\\end{tabular}\n"
      ],
      "text/plain": [
       "Levene's Test for Homogeneity of Variance (center = \"mean\")\n",
       "      Df F value  Pr(>F)  \n",
       "group  1  3.6436 0.07236 .\n",
       "      18                  \n",
       "---\n",
       "Signif. codes:  0 '***' 0.001 '**' 0.01 '*' 0.05 '.' 0.1 ' ' 1"
      ]
     },
     "metadata": {},
     "output_type": "display_data"
    },
    {
     "data": {
      "text/html": [
       "<table>\n",
       "<thead><tr><th></th><th scope=col>Df</th><th scope=col>F value</th><th scope=col>Pr(&gt;F)</th></tr></thead>\n",
       "<tbody>\n",
       "\t<tr><th scope=row>group</th><td>1.0000000</td><td>0.5081257</td><td>0.4850905</td></tr>\n",
       "\t<tr><th scope=row> </th><td>18</td><td>NA</td><td>NA</td></tr>\n",
       "</tbody>\n",
       "</table>\n"
      ],
      "text/latex": [
       "\\begin{tabular}{r|lll}\n",
       "  & Df & F value & Pr(>F)\\\\\n",
       "\\hline\n",
       "\tgroup & 1.0000000 & 0.5081257 & 0.4850905\\\\\n",
       "\t  & 18 & NA & NA\\\\\n",
       "\\end{tabular}\n"
      ],
      "text/plain": [
       "Levene's Test for Homogeneity of Variance (center = \"mean\")\n",
       "      Df F value Pr(>F)\n",
       "group  1  0.5081 0.4851\n",
       "      18               "
      ]
     },
     "metadata": {},
     "output_type": "display_data"
    }
   ],
   "source": [
    "#exploratory analysis\n",
    "by(drugData[,c(2:3)], drugData$drug, stat.desc, basic=FALSE, norm=TRUE)\n",
    "leveneTest(drugData$sundayBDI, drugData$drug, center = \"mean\")\n",
    "leveneTest(drugData$wedsBDI, drugData$drug, center = \"mean\")"
   ]
  },
  {
   "cell_type": "code",
   "execution_count": 5,
   "metadata": {
    "collapsed": false
   },
   "outputs": [
    {
     "name": "stderr",
     "output_type": "stream",
     "text": [
      "Warning message:\n",
      "In wilcox.test.default(x = c(15, 35, 16, 18, 19, 17, 27, 16, 13, : cannot compute exact p-value with ties"
     ]
    },
    {
     "data": {
      "text/plain": [
       "\n",
       "\tWilcoxon rank sum test with continuity correction\n",
       "\n",
       "data:  sundayBDI by drug\n",
       "W = 64.5, p-value = 0.2861\n",
       "alternative hypothesis: true location shift is not equal to 0\n"
      ]
     },
     "metadata": {},
     "output_type": "display_data"
    },
    {
     "name": "stderr",
     "output_type": "stream",
     "text": [
      "Warning message:\n",
      "In wilcox.test.default(x = c(28, 35, 35, 24, 39, 32, 27, 29, 36, : cannot compute exact p-value with ties"
     ]
    },
    {
     "data": {
      "text/plain": [
       "\n",
       "\tWilcoxon rank sum test with continuity correction\n",
       "\n",
       "data:  wedsBDI by drug\n",
       "W = 96, p-value = 0.000569\n",
       "alternative hypothesis: true location shift is not equal to 0\n"
      ]
     },
     "metadata": {},
     "output_type": "display_data"
    },
    {
     "data": {
      "text/plain": [
       "\n",
       "\tWilcoxon rank sum test\n",
       "\n",
       "data:  sundayBDI by drug\n",
       "W = 64.5, p-value = 0.2692\n",
       "alternative hypothesis: true location shift is not equal to 0\n"
      ]
     },
     "metadata": {},
     "output_type": "display_data"
    },
    {
     "data": {
      "text/plain": [
       "\n",
       "\tWilcoxon rank sum test\n",
       "\n",
       "data:  wedsBDI by drug\n",
       "W = 96, p-value = 0.0004943\n",
       "alternative hypothesis: true location shift is not equal to 0\n"
      ]
     },
     "metadata": {},
     "output_type": "display_data"
    }
   ],
   "source": [
    "#wilcox.test(x, y = NULL, alternative = c(\"two.sided\", \"less\", \"greater\"),\n",
    "     #  mu = 0, paired = FALSE, exact = FALSE, correct = FALSE, conf.level = 0.95, na.action = na.exclude)\n",
    "\n",
    "# When the rank has a tie, we can't use the exact method which is based on mento-carlo simulation\n",
    "# (randomly assign rank to all the observations and look at how many times the result will show higher than the observed one)\n",
    "sunModel<-wilcox.test(sundayBDI ~ drug, data = drugData)\n",
    "sunModel\n",
    "wedModel<-wilcox.test(wedsBDI ~ drug, data = drugData)\n",
    "wedModel\n",
    "\n",
    "\n",
    "sunModel<-wilcox.test(sundayBDI ~ drug, data = drugData, exact = FALSE, correct= FALSE)\n",
    "sunModel\n",
    "wedModel<-wilcox.test(wedsBDI ~ drug, data = drugData, exact = FALSE, correct= FALSE)\n",
    "wedModel"
   ]
  },
  {
   "cell_type": "code",
   "execution_count": 11,
   "metadata": {
    "collapsed": false
   },
   "outputs": [
    {
     "data": {
      "text/html": [
       "35.5"
      ],
      "text/latex": [
       "35.5"
      ],
      "text/markdown": [
       "35.5"
      ],
      "text/plain": [
       "[1] 35.5"
      ]
     },
     "metadata": {},
     "output_type": "display_data"
    },
    {
     "data": {
      "text/html": [
       "9.05"
      ],
      "text/latex": [
       "9.05"
      ],
      "text/markdown": [
       "9.05"
      ],
      "text/plain": [
       "[1] 9.05"
      ]
     },
     "metadata": {},
     "output_type": "display_data"
    },
    {
     "data": {
      "text/html": [
       "11.95"
      ],
      "text/latex": [
       "11.95"
      ],
      "text/markdown": [
       "11.95"
      ],
      "text/plain": [
       "[1] 11.95"
      ]
     },
     "metadata": {},
     "output_type": "display_data"
    },
    {
     "name": "stdout",
     "output_type": "stream",
     "text": [
      "sundayBDI by drug Effect Size, r =  -0.2470529wedsBDI by drug Effect Size, r =  -0.7790076"
     ]
    }
   ],
   "source": [
    "#Jane superbrain:\n",
    "g1 <- drugData$sundayBDI[drugData$drug == \"Alcohol\"]\n",
    "g2 <- drugData$sundayBDI[drugData$drug == \"Ecstasy\"]\n",
    "n1 <- length(g1); n2 <- length(g2)\n",
    "w <- rank(c(g1, g2)) \n",
    "r1 <- w[1:n1]; r2 <- w[(n1+1):(n1+n2)]\n",
    "w1 <- sum(r1); w2 <- sum(r2)\n",
    "wilc1 <- w1-n1*(n1+1)/2; wilc2 <- w2-n2*(n2+1)/2\n",
    "wilc = min(wilc1, wilc2)\n",
    "wilc\n",
    "m1 <- mean(r1); m2 <- mean(r2)\n",
    "m1; m2\n",
    "\n",
    "rFromWilcox<-function(wilcoxModel, N){\n",
    "\tz<- qnorm(wilcoxModel$p.value/2)\n",
    "\tr<- z/ sqrt(N)\n",
    "\tcat(wilcoxModel$data.name, \"Effect Size, r = \", r)\n",
    "}\n",
    "\n",
    "rFromWilcox(sunModel, 20)\n",
    "rFromWilcox(wedModel, 20)"
   ]
  },
  {
   "cell_type": "markdown",
   "metadata": {},
   "source": [
    "### Wilcoxon signed rank test: equivalent to the compare two means (dependent group)"
   ]
  },
  {
   "cell_type": "code",
   "execution_count": 6,
   "metadata": {
    "collapsed": false
   },
   "outputs": [
    {
     "data": {
      "text/plain": [
       "drugData$drug: Ecstasy\n",
       "      median         mean      SE.mean CI.mean.0.95          var      std.dev \n",
       "  14.0000000   12.4000000    2.5307004    5.7248420   64.0444444    8.0027773 \n",
       "    coef.var     skewness     skew.2SE     kurtosis     kurt.2SE   normtest.W \n",
       "   0.6453853   -0.4140842   -0.3013525   -1.3686700   -0.5128991    0.9087803 \n",
       "  normtest.p \n",
       "   0.2727175 \n",
       "------------------------------------------------------------ \n",
       "drugData$drug: Alcohol\n",
       "      median         mean      SE.mean CI.mean.0.95          var      std.dev \n",
       " -7.50000000  -6.30000000   2.09788253   4.74573999  44.01111111   6.63408706 \n",
       "    coef.var     skewness     skew.2SE     kurtosis     kurt.2SE   normtest.W \n",
       " -1.05302969   1.23907117   0.90174219   0.98664006   0.36973617   0.82795980 \n",
       "  normtest.p \n",
       "  0.03161929 "
      ]
     },
     "metadata": {},
     "output_type": "display_data"
    }
   ],
   "source": [
    "#********************* Wilcoxon Signed Rank ********************\n",
    "\n",
    "drugData$BDIchange<-drugData$wedsBDI-drugData$sundayBDI \n",
    "by(drugData$BDIchange, drugData$drug, stat.desc, basic = FALSE, norm = TRUE) #it violates the nomarlity for Algohol"
   ]
  },
  {
   "cell_type": "code",
   "execution_count": 7,
   "metadata": {
    "collapsed": false
   },
   "outputs": [
    {
     "data": {
      "text/plain": []
     },
     "metadata": {},
     "output_type": "display_data"
    },
    {
     "data": {
      "image/png": "[encoded data removed]",
      "image/svg+xml": [
       "<?xml version=\"1.0\" encoding=\"UTF-8\"?>\n",
       "<svg xmlns=\"http://www.w3.org/2000/svg\" xmlns:xlink=\"http://www.w3.org/1999/xlink\" width=\"504pt\" height=\"504pt\" viewBox=\"0 0 504 504\" version=\"1.1\">\n",
       "<defs>\n",
       "<g>\n",
       "<symbol overflow=\"visible\" id=\"glyph0-0\">\n",
       "<path style=\"stroke:none;\" d=\"M 0.296875 -2 L 0.296875 -2.820313 L 2.804688 -2.820313 L 2.804688 -2 Z M 0.296875 -2 \"/>\n",
       "</symbol>\n",
       "<symbol overflow=\"visible\" id=\"glyph0-1\">\n",
       "<path style=\"stroke:none;\" d=\"M 3.464844 0 L 2.648438 0 L 2.648438 -5.207031 C 2.449219 -5.015625 2.1875 -4.828125 1.871094 -4.644531 C 1.550781 -4.453125 1.265625 -4.3125 1.011719 -4.222656 L 1.011719 -5.011719 C 1.46875 -5.222656 1.867188 -5.484375 2.210938 -5.792969 C 2.550781 -6.097656 2.792969 -6.394531 2.9375 -6.683594 L 3.464844 -6.683594 Z M 3.464844 0 \"/>\n",
       "</symbol>\n",
       "<symbol overflow=\"visible\" id=\"glyph0-2\">\n",
       "<path style=\"stroke:none;\" d=\"M 0.386719 -3.28125 C 0.386719 -4.070313 0.464844 -4.703125 0.628906 -5.183594 C 0.785156 -5.660156 1.027344 -6.03125 1.347656 -6.292969 C 1.667969 -6.550781 2.070313 -6.679688 2.554688 -6.683594 C 2.914063 -6.679688 3.226563 -6.609375 3.496094 -6.46875 C 3.765625 -6.324219 3.988281 -6.117188 4.164063 -5.847656 C 4.335938 -5.574219 4.472656 -5.242188 4.574219 -4.855469 C 4.671875 -4.464844 4.722656 -3.941406 4.726563 -3.28125 C 4.722656 -2.5 4.640625 -1.867188 4.484375 -1.390625 C 4.320313 -0.90625 4.082031 -0.535156 3.765625 -0.277344 C 3.445313 -0.015625 3.042969 0.109375 2.554688 0.113281 C 1.914063 0.109375 1.410156 -0.117188 1.042969 -0.578125 C 0.605469 -1.128906 0.386719 -2.03125 0.386719 -3.28125 Z M 1.226563 -3.28125 C 1.222656 -2.1875 1.351563 -1.460938 1.609375 -1.101563 C 1.863281 -0.738281 2.179688 -0.554688 2.554688 -0.558594 C 2.929688 -0.554688 3.246094 -0.738281 3.503906 -1.101563 C 3.757813 -1.464844 3.882813 -2.191406 3.886719 -3.28125 C 3.882813 -4.375 3.757813 -5.101563 3.503906 -5.464844 C 3.246094 -5.824219 2.925781 -6.003906 2.546875 -6.007813 C 2.167969 -6.003906 1.867188 -5.847656 1.648438 -5.53125 C 1.363281 -5.125 1.222656 -4.375 1.226563 -3.28125 Z M 1.226563 -3.28125 \"/>\n",
       "</symbol>\n",
       "<symbol overflow=\"visible\" id=\"glyph0-3\">\n",
       "<path style=\"stroke:none;\" d=\"M 4.683594 -0.785156 L 4.683594 0 L 0.28125 0 C 0.273438 -0.195313 0.304688 -0.382813 0.375 -0.566406 C 0.488281 -0.863281 0.667969 -1.160156 0.914063 -1.453125 C 1.160156 -1.742188 1.515625 -2.078125 1.984375 -2.460938 C 2.707031 -3.054688 3.195313 -3.523438 3.449219 -3.871094 C 3.703125 -4.214844 3.832031 -4.542969 3.832031 -4.855469 C 3.832031 -5.175781 3.714844 -5.449219 3.484375 -5.671875 C 3.25 -5.894531 2.949219 -6.003906 2.578125 -6.007813 C 2.183594 -6.003906 1.867188 -5.886719 1.632813 -5.652344 C 1.394531 -5.414063 1.277344 -5.085938 1.277344 -4.671875 L 0.4375 -4.757813 C 0.492188 -5.382813 0.707031 -5.859375 1.085938 -6.191406 C 1.457031 -6.515625 1.960938 -6.679688 2.597656 -6.683594 C 3.230469 -6.679688 3.738281 -6.503906 4.113281 -6.152344 C 4.484375 -5.796875 4.667969 -5.355469 4.671875 -4.835938 C 4.667969 -4.566406 4.613281 -4.304688 4.507813 -4.050781 C 4.398438 -3.789063 4.21875 -3.519531 3.964844 -3.238281 C 3.710938 -2.953125 3.292969 -2.5625 2.707031 -2.066406 C 2.214844 -1.652344 1.898438 -1.371094 1.761719 -1.226563 C 1.621094 -1.078125 1.507813 -0.933594 1.417969 -0.785156 Z M 4.683594 -0.785156 \"/>\n",
       "</symbol>\n",
       "<symbol overflow=\"visible\" id=\"glyph0-4\">\n",
       "<path style=\"stroke:none;\" d=\"M 0.734375 0 L 0.734375 -6.65625 L 5.550781 -6.65625 L 5.550781 -5.871094 L 1.617188 -5.871094 L 1.617188 -3.832031 L 5.300781 -3.832031 L 5.300781 -3.050781 L 1.617188 -3.050781 L 1.617188 -0.785156 L 5.703125 -0.785156 L 5.703125 0 Z M 0.734375 0 \"/>\n",
       "</symbol>\n",
       "<symbol overflow=\"visible\" id=\"glyph0-5\">\n",
       "<path style=\"stroke:none;\" d=\"M 3.761719 -1.765625 L 4.5625 -1.660156 C 4.472656 -1.105469 4.25 -0.671875 3.890625 -0.359375 C 3.527344 -0.046875 3.082031 0.105469 2.554688 0.109375 C 1.894531 0.105469 1.363281 -0.105469 0.964844 -0.535156 C 0.5625 -0.964844 0.363281 -1.585938 0.363281 -2.394531 C 0.363281 -2.914063 0.449219 -3.371094 0.621094 -3.761719 C 0.792969 -4.152344 1.054688 -4.441406 1.410156 -4.636719 C 1.757813 -4.828125 2.140625 -4.925781 2.5625 -4.929688 C 3.082031 -4.925781 3.511719 -4.792969 3.847656 -4.53125 C 4.179688 -4.265625 4.394531 -3.890625 4.488281 -3.40625 L 3.691406 -3.28125 C 3.613281 -3.605469 3.476563 -3.847656 3.289063 -4.011719 C 3.09375 -4.171875 2.863281 -4.253906 2.59375 -4.257813 C 2.179688 -4.253906 1.84375 -4.105469 1.589844 -3.816406 C 1.328125 -3.519531 1.199219 -3.054688 1.203125 -2.414063 C 1.199219 -1.765625 1.324219 -1.292969 1.574219 -1.003906 C 1.820313 -0.707031 2.144531 -0.5625 2.546875 -0.5625 C 2.863281 -0.5625 3.128906 -0.660156 3.347656 -0.855469 C 3.558594 -1.050781 3.699219 -1.351563 3.761719 -1.765625 Z M 3.761719 -1.765625 \"/>\n",
       "</symbol>\n",
       "<symbol overflow=\"visible\" id=\"glyph0-6\">\n",
       "<path style=\"stroke:none;\" d=\"M 0.285156 -1.441406 L 1.09375 -1.566406 C 1.136719 -1.238281 1.261719 -0.992188 1.472656 -0.820313 C 1.675781 -0.648438 1.96875 -0.5625 2.34375 -0.5625 C 2.71875 -0.5625 2.996094 -0.636719 3.179688 -0.792969 C 3.359375 -0.941406 3.449219 -1.121094 3.453125 -1.332031 C 3.449219 -1.511719 3.371094 -1.65625 3.210938 -1.765625 C 3.097656 -1.835938 2.816406 -1.929688 2.375 -2.042969 C 1.773438 -2.191406 1.359375 -2.320313 1.128906 -2.433594 C 0.894531 -2.542969 0.71875 -2.699219 0.601563 -2.894531 C 0.480469 -3.089844 0.421875 -3.304688 0.421875 -3.542969 C 0.421875 -3.753906 0.46875 -3.953125 0.570313 -4.136719 C 0.664063 -4.320313 0.800781 -4.472656 0.972656 -4.59375 C 1.097656 -4.6875 1.269531 -4.765625 1.492188 -4.832031 C 1.707031 -4.894531 1.941406 -4.925781 2.199219 -4.929688 C 2.574219 -4.925781 2.90625 -4.871094 3.195313 -4.765625 C 3.476563 -4.65625 3.6875 -4.511719 3.828125 -4.324219 C 3.960938 -4.136719 4.054688 -3.886719 4.109375 -3.578125 L 3.308594 -3.46875 C 3.273438 -3.714844 3.167969 -3.90625 2.996094 -4.046875 C 2.816406 -4.183594 2.570313 -4.253906 2.257813 -4.257813 C 1.878906 -4.253906 1.613281 -4.191406 1.453125 -4.070313 C 1.289063 -3.945313 1.207031 -3.800781 1.210938 -3.636719 C 1.207031 -3.527344 1.242188 -3.433594 1.3125 -3.351563 C 1.378906 -3.261719 1.480469 -3.1875 1.625 -3.132813 C 1.703125 -3.101563 1.945313 -3.03125 2.347656 -2.925781 C 2.921875 -2.765625 3.324219 -2.640625 3.558594 -2.542969 C 3.785156 -2.445313 3.964844 -2.300781 4.097656 -2.117188 C 4.222656 -1.925781 4.289063 -1.695313 4.292969 -1.417969 C 4.289063 -1.144531 4.210938 -0.886719 4.054688 -0.644531 C 3.894531 -0.402344 3.664063 -0.214844 3.363281 -0.0859375 C 3.0625 0.0429688 2.722656 0.105469 2.347656 0.109375 C 1.71875 0.105469 1.242188 -0.0234375 0.914063 -0.28125 C 0.585938 -0.539063 0.375 -0.925781 0.285156 -1.441406 Z M 0.285156 -1.441406 \"/>\n",
       "</symbol>\n",
       "<symbol overflow=\"visible\" id=\"glyph0-7\">\n",
       "<path style=\"stroke:none;\" d=\"M 2.398438 -0.730469 L 2.515625 -0.0078125 C 2.28125 0.0390625 2.078125 0.0585938 1.898438 0.0625 C 1.601563 0.0585938 1.371094 0.015625 1.207031 -0.078125 C 1.042969 -0.167969 0.925781 -0.292969 0.859375 -0.445313 C 0.792969 -0.597656 0.761719 -0.917969 0.761719 -1.414063 L 0.761719 -4.1875 L 0.164063 -4.1875 L 0.164063 -4.824219 L 0.761719 -4.824219 L 0.761719 -6.015625 L 1.574219 -6.507813 L 1.574219 -4.824219 L 2.398438 -4.824219 L 2.398438 -4.1875 L 1.574219 -4.1875 L 1.574219 -1.367188 C 1.570313 -1.128906 1.585938 -0.980469 1.617188 -0.914063 C 1.644531 -0.847656 1.691406 -0.792969 1.757813 -0.757813 C 1.820313 -0.714844 1.914063 -0.695313 2.039063 -0.699219 C 2.128906 -0.695313 2.246094 -0.707031 2.398438 -0.730469 Z M 2.398438 -0.730469 \"/>\n",
       "</symbol>\n",
       "<symbol overflow=\"visible\" id=\"glyph0-8\">\n",
       "<path style=\"stroke:none;\" d=\"M 3.761719 -0.59375 C 3.457031 -0.332031 3.164063 -0.152344 2.882813 -0.046875 C 2.601563 0.0546875 2.300781 0.105469 1.984375 0.109375 C 1.453125 0.105469 1.046875 -0.0195313 0.761719 -0.277344 C 0.476563 -0.535156 0.332031 -0.867188 0.335938 -1.273438 C 0.332031 -1.503906 0.386719 -1.71875 0.496094 -1.917969 C 0.601563 -2.109375 0.742188 -2.265625 0.917969 -2.386719 C 1.089844 -2.503906 1.285156 -2.59375 1.507813 -2.65625 C 1.664063 -2.695313 1.90625 -2.738281 2.234375 -2.777344 C 2.890625 -2.855469 3.378906 -2.949219 3.691406 -3.0625 C 3.691406 -3.171875 3.691406 -3.242188 3.695313 -3.273438 C 3.691406 -3.605469 3.613281 -3.839844 3.464844 -3.976563 C 3.253906 -4.160156 2.945313 -4.253906 2.535156 -4.253906 C 2.148438 -4.253906 1.863281 -4.183594 1.679688 -4.050781 C 1.496094 -3.914063 1.363281 -3.675781 1.277344 -3.335938 L 0.476563 -3.445313 C 0.546875 -3.789063 0.667969 -4.0625 0.835938 -4.273438 C 1 -4.480469 1.242188 -4.644531 1.558594 -4.757813 C 1.871094 -4.871094 2.234375 -4.925781 2.652344 -4.929688 C 3.0625 -4.925781 3.398438 -4.878906 3.65625 -4.785156 C 3.914063 -4.6875 4.101563 -4.566406 4.222656 -4.417969 C 4.34375 -4.269531 4.429688 -4.082031 4.476563 -3.863281 C 4.503906 -3.722656 4.515625 -3.472656 4.519531 -3.109375 L 4.519531 -2.019531 C 4.515625 -1.257813 4.535156 -0.777344 4.570313 -0.578125 C 4.601563 -0.375 4.667969 -0.183594 4.777344 0 L 3.921875 0 C 3.835938 -0.167969 3.785156 -0.363281 3.761719 -0.59375 Z M 3.691406 -2.421875 C 3.394531 -2.296875 2.949219 -2.195313 2.355469 -2.113281 C 2.019531 -2.0625 1.78125 -2.007813 1.640625 -1.945313 C 1.5 -1.882813 1.390625 -1.792969 1.320313 -1.679688 C 1.242188 -1.5625 1.207031 -1.433594 1.207031 -1.292969 C 1.207031 -1.074219 1.289063 -0.894531 1.453125 -0.75 C 1.617188 -0.601563 1.859375 -0.527344 2.179688 -0.53125 C 2.492188 -0.527344 2.769531 -0.597656 3.019531 -0.738281 C 3.261719 -0.875 3.441406 -1.0625 3.558594 -1.304688 C 3.644531 -1.488281 3.691406 -1.761719 3.691406 -2.121094 Z M 3.691406 -2.421875 \"/>\n",
       "</symbol>\n",
       "<symbol overflow=\"visible\" id=\"glyph0-9\">\n",
       "<path style=\"stroke:none;\" d=\"M 0.578125 1.855469 L 0.484375 1.089844 C 0.660156 1.136719 0.816406 1.160156 0.953125 1.164063 C 1.132813 1.160156 1.277344 1.128906 1.390625 1.070313 C 1.496094 1.007813 1.585938 0.921875 1.65625 0.816406 C 1.707031 0.730469 1.789063 0.527344 1.90625 0.207031 C 1.917969 0.160156 1.945313 0.09375 1.980469 0.0078125 L 0.148438 -4.824219 L 1.03125 -4.824219 L 2.035156 -2.03125 C 2.160156 -1.675781 2.277344 -1.304688 2.382813 -0.914063 C 2.472656 -1.289063 2.585938 -1.652344 2.71875 -2.011719 L 3.75 -4.824219 L 4.566406 -4.824219 L 2.734375 0.0820313 C 2.535156 0.609375 2.382813 0.972656 2.273438 1.175781 C 2.128906 1.445313 1.960938 1.644531 1.773438 1.769531 C 1.582031 1.894531 1.359375 1.957031 1.101563 1.957031 C 0.945313 1.957031 0.769531 1.921875 0.578125 1.855469 Z M 0.578125 1.855469 \"/>\n",
       "</symbol>\n",
       "<symbol overflow=\"visible\" id=\"glyph0-10\">\n",
       "<path style=\"stroke:none;\" d=\"M -0.0117188 0 L 2.542969 -6.65625 L 3.492188 -6.65625 L 6.214844 0 L 5.214844 0 L 4.4375 -2.015625 L 1.652344 -2.015625 L 0.921875 0 Z M 1.90625 -2.734375 L 4.164063 -2.734375 L 3.46875 -4.578125 C 3.257813 -5.132813 3.097656 -5.59375 2.996094 -5.957031 C 2.910156 -5.527344 2.792969 -5.105469 2.636719 -4.6875 Z M 1.90625 -2.734375 \"/>\n",
       "</symbol>\n",
       "<symbol overflow=\"visible\" id=\"glyph0-11\">\n",
       "<path style=\"stroke:none;\" d=\"M 0.59375 0 L 0.59375 -6.65625 L 1.414063 -6.65625 L 1.414063 0 Z M 0.59375 0 \"/>\n",
       "</symbol>\n",
       "<symbol overflow=\"visible\" id=\"glyph0-12\">\n",
       "<path style=\"stroke:none;\" d=\"M 0.308594 -2.410156 C 0.304688 -3.300781 0.554688 -3.964844 1.054688 -4.394531 C 1.46875 -4.75 1.972656 -4.925781 2.570313 -4.929688 C 3.230469 -4.925781 3.773438 -4.710938 4.195313 -4.277344 C 4.617188 -3.84375 4.828125 -3.242188 4.828125 -2.480469 C 4.828125 -1.855469 4.734375 -1.367188 4.546875 -1.011719 C 4.359375 -0.65625 4.085938 -0.378906 3.734375 -0.183594 C 3.375 0.0117188 2.988281 0.105469 2.570313 0.109375 C 1.894531 0.105469 1.347656 -0.109375 0.933594 -0.539063 C 0.511719 -0.972656 0.304688 -1.59375 0.308594 -2.410156 Z M 1.148438 -2.410156 C 1.148438 -1.789063 1.28125 -1.328125 1.550781 -1.023438 C 1.820313 -0.714844 2.160156 -0.5625 2.570313 -0.5625 C 2.972656 -0.5625 3.308594 -0.714844 3.582031 -1.023438 C 3.847656 -1.332031 3.984375 -1.804688 3.988281 -2.4375 C 3.984375 -3.03125 3.847656 -3.480469 3.582031 -3.792969 C 3.308594 -4.097656 2.972656 -4.253906 2.570313 -4.253906 C 2.160156 -4.253906 1.820313 -4.097656 1.550781 -3.792969 C 1.28125 -3.484375 1.148438 -3.023438 1.148438 -2.410156 Z M 1.148438 -2.410156 \"/>\n",
       "</symbol>\n",
       "<symbol overflow=\"visible\" id=\"glyph0-13\">\n",
       "<path style=\"stroke:none;\" d=\"M 0.613281 0 L 0.613281 -6.65625 L 1.429688 -6.65625 L 1.429688 -4.269531 C 1.8125 -4.707031 2.292969 -4.925781 2.875 -4.929688 C 3.230469 -4.925781 3.539063 -4.855469 3.804688 -4.71875 C 4.0625 -4.574219 4.25 -4.382813 4.367188 -4.136719 C 4.476563 -3.886719 4.535156 -3.523438 4.539063 -3.054688 L 4.539063 0 L 3.722656 0 L 3.722656 -3.054688 C 3.71875 -3.460938 3.632813 -3.757813 3.457031 -3.945313 C 3.277344 -4.128906 3.027344 -4.222656 2.707031 -4.226563 C 2.464844 -4.222656 2.234375 -4.160156 2.023438 -4.039063 C 1.804688 -3.910156 1.652344 -3.742188 1.566406 -3.527344 C 1.472656 -3.3125 1.429688 -3.015625 1.429688 -2.636719 L 1.429688 0 Z M 0.613281 0 \"/>\n",
       "</symbol>\n",
       "<symbol overflow=\"visible\" id=\"glyph1-0\">\n",
       "<path style=\"stroke:none;\" d=\"M 4.625 0 L 4.625 -0.753906 C 4.242188 -0.164063 3.6875 0.128906 2.960938 0.132813 C 2.480469 0.128906 2.042969 0 1.648438 -0.257813 C 1.246094 -0.519531 0.9375 -0.882813 0.722656 -1.355469 C 0.5 -1.824219 0.390625 -2.367188 0.394531 -2.976563 C 0.390625 -3.570313 0.492188 -4.109375 0.691406 -4.59375 C 0.886719 -5.078125 1.183594 -5.449219 1.582031 -5.710938 C 1.980469 -5.964844 2.421875 -6.09375 2.914063 -6.097656 C 3.269531 -6.09375 3.589844 -6.019531 3.875 -5.871094 C 4.152344 -5.71875 4.382813 -5.519531 4.558594 -5.277344 L 4.558594 -8.230469 L 5.566406 -8.230469 L 5.566406 0 Z M 1.433594 -2.976563 C 1.429688 -2.210938 1.589844 -1.636719 1.914063 -1.261719 C 2.234375 -0.878906 2.613281 -0.691406 3.054688 -0.695313 C 3.492188 -0.691406 3.867188 -0.871094 4.179688 -1.238281 C 4.484375 -1.597656 4.640625 -2.148438 4.644531 -2.890625 C 4.640625 -3.703125 4.484375 -4.304688 4.171875 -4.6875 C 3.855469 -5.070313 3.464844 -5.261719 3.007813 -5.261719 C 2.554688 -5.261719 2.179688 -5.078125 1.882813 -4.710938 C 1.578125 -4.34375 1.429688 -3.765625 1.433594 -2.976563 Z M 1.433594 -2.976563 \"/>\n",
       "</symbol>\n",
       "<symbol overflow=\"visible\" id=\"glyph1-1\">\n",
       "<path style=\"stroke:none;\" d=\"M 0.746094 0 L 0.746094 -5.964844 L 1.65625 -5.964844 L 1.65625 -5.058594 C 1.886719 -5.480469 2.101563 -5.761719 2.296875 -5.894531 C 2.492188 -6.027344 2.707031 -6.09375 2.949219 -6.097656 C 3.285156 -6.09375 3.632813 -5.984375 3.988281 -5.773438 L 3.640625 -4.835938 C 3.390625 -4.976563 3.144531 -5.050781 2.898438 -5.054688 C 2.675781 -5.050781 2.476563 -4.984375 2.300781 -4.855469 C 2.125 -4.71875 2 -4.535156 1.925781 -4.300781 C 1.8125 -3.941406 1.757813 -3.546875 1.757813 -3.121094 L 1.757813 0 Z M 0.746094 0 \"/>\n",
       "</symbol>\n",
       "<symbol overflow=\"visible\" id=\"glyph1-2\">\n",
       "<path style=\"stroke:none;\" d=\"M 4.667969 0 L 4.667969 -0.875 C 4.199219 -0.203125 3.566406 0.128906 2.773438 0.132813 C 2.417969 0.128906 2.089844 0.0664063 1.789063 -0.0664063 C 1.480469 -0.199219 1.253906 -0.371094 1.109375 -0.574219 C 0.957031 -0.777344 0.855469 -1.027344 0.796875 -1.324219 C 0.753906 -1.519531 0.730469 -1.832031 0.734375 -2.269531 L 0.734375 -5.964844 L 1.746094 -5.964844 L 1.746094 -2.65625 C 1.746094 -2.125 1.765625 -1.769531 1.808594 -1.589844 C 1.867188 -1.320313 2 -1.113281 2.210938 -0.960938 C 2.414063 -0.808594 2.671875 -0.730469 2.976563 -0.734375 C 3.277344 -0.730469 3.558594 -0.808594 3.828125 -0.96875 C 4.089844 -1.121094 4.277344 -1.332031 4.390625 -1.601563 C 4.5 -1.867188 4.558594 -2.257813 4.558594 -2.769531 L 4.558594 -5.964844 L 5.570313 -5.964844 L 5.570313 0 Z M 4.667969 0 \"/>\n",
       "</symbol>\n",
       "<symbol overflow=\"visible\" id=\"glyph1-3\">\n",
       "<path style=\"stroke:none;\" d=\"M 0.574219 0.492188 L 1.554688 0.640625 C 1.59375 0.9375 1.710938 1.160156 1.898438 1.304688 C 2.148438 1.488281 2.488281 1.582031 2.925781 1.582031 C 3.390625 1.582031 3.753906 1.488281 4.007813 1.300781 C 4.261719 1.113281 4.433594 0.851563 4.527344 0.515625 C 4.578125 0.308594 4.601563 -0.121094 4.597656 -0.78125 C 4.15625 -0.257813 3.605469 0 2.949219 0 C 2.125 0 1.492188 -0.292969 1.042969 -0.886719 C 0.59375 -1.472656 0.367188 -2.183594 0.371094 -3.015625 C 0.367188 -3.582031 0.472656 -4.105469 0.679688 -4.589844 C 0.882813 -5.066406 1.179688 -5.4375 1.574219 -5.703125 C 1.960938 -5.960938 2.421875 -6.09375 2.953125 -6.097656 C 3.65625 -6.09375 4.234375 -5.808594 4.695313 -5.246094 L 4.695313 -5.964844 L 5.625 -5.964844 L 5.625 -0.808594 C 5.625 0.121094 5.527344 0.777344 5.339844 1.164063 C 5.148438 1.550781 4.851563 1.855469 4.441406 2.082031 C 4.03125 2.304688 3.527344 2.417969 2.929688 2.421875 C 2.21875 2.417969 1.644531 2.257813 1.207031 1.941406 C 0.769531 1.617188 0.558594 1.136719 0.574219 0.492188 Z M 1.410156 -3.089844 C 1.40625 -2.300781 1.5625 -1.730469 1.875 -1.375 C 2.183594 -1.011719 2.570313 -0.832031 3.042969 -0.835938 C 3.503906 -0.832031 3.894531 -1.011719 4.210938 -1.371094 C 4.523438 -1.730469 4.679688 -2.289063 4.683594 -3.054688 C 4.679688 -3.78125 4.519531 -4.332031 4.195313 -4.703125 C 3.871094 -5.074219 3.480469 -5.261719 3.027344 -5.261719 C 2.574219 -5.261719 2.191406 -5.078125 1.878906 -4.714844 C 1.5625 -4.347656 1.40625 -3.804688 1.410156 -3.089844 Z M 1.410156 -3.089844 \"/>\n",
       "</symbol>\n",
       "<symbol overflow=\"visible\" id=\"glyph2-0\">\n",
       "<path style=\"stroke:none;\" d=\"M 0 -0.84375 L -8.230469 -0.84375 L -8.230469 -3.929688 C -8.226563 -4.558594 -8.144531 -5.0625 -7.980469 -5.445313 C -7.8125 -5.820313 -7.554688 -6.117188 -7.210938 -6.335938 C -6.863281 -6.546875 -6.5 -6.65625 -6.125 -6.660156 C -5.769531 -6.65625 -5.441406 -6.558594 -5.132813 -6.371094 C -4.820313 -6.175781 -4.566406 -5.890625 -4.378906 -5.507813 C -4.230469 -6.003906 -3.984375 -6.386719 -3.632813 -6.65625 C -3.28125 -6.921875 -2.863281 -7.054688 -2.386719 -7.058594 C -1.996094 -7.054688 -1.636719 -6.972656 -1.308594 -6.8125 C -0.972656 -6.648438 -0.71875 -6.449219 -0.542969 -6.210938 C -0.359375 -5.96875 -0.222656 -5.667969 -0.136719 -5.308594 C -0.0429688 -4.945313 0 -4.5 0 -3.980469 Z M -4.773438 -1.933594 L -4.773438 -3.710938 C -4.769531 -4.191406 -4.800781 -4.539063 -4.867188 -4.75 C -4.949219 -5.023438 -5.085938 -5.230469 -5.277344 -5.375 C -5.46875 -5.511719 -5.707031 -5.582031 -5.996094 -5.585938 C -6.265625 -5.582031 -6.507813 -5.519531 -6.71875 -5.390625 C -6.925781 -5.257813 -7.066406 -5.070313 -7.144531 -4.828125 C -7.21875 -4.585938 -7.257813 -4.167969 -7.261719 -3.578125 L -7.261719 -1.933594 Z M -0.972656 -1.929688 L -0.972656 -3.980469 C -0.972656 -4.328125 -0.984375 -4.578125 -1.011719 -4.722656 C -1.054688 -4.972656 -1.128906 -5.179688 -1.234375 -5.351563 C -1.335938 -5.515625 -1.488281 -5.65625 -1.691406 -5.765625 C -1.890625 -5.875 -2.121094 -5.929688 -2.386719 -5.929688 C -2.691406 -5.929688 -2.960938 -5.847656 -3.1875 -5.691406 C -3.414063 -5.53125 -3.570313 -5.316406 -3.664063 -5.039063 C -3.75 -4.757813 -3.796875 -4.355469 -3.800781 -3.835938 L -3.800781 -1.933594 Z M -0.972656 -1.929688 \"/>\n",
       "</symbol>\n",
       "<symbol overflow=\"visible\" id=\"glyph2-1\">\n",
       "<path style=\"stroke:none;\" d=\"M 0 -0.886719 L -8.230469 -0.886719 L -8.230469 -3.722656 C -8.226563 -4.359375 -8.1875 -4.847656 -8.113281 -5.1875 C -8.003906 -5.65625 -7.808594 -6.058594 -7.523438 -6.394531 C -7.15625 -6.824219 -6.6875 -7.148438 -6.117188 -7.367188 C -5.546875 -7.578125 -4.894531 -7.6875 -4.160156 -7.691406 C -3.535156 -7.6875 -2.980469 -7.613281 -2.496094 -7.472656 C -2.011719 -7.324219 -1.609375 -7.136719 -1.296875 -6.910156 C -0.976563 -6.679688 -0.730469 -6.429688 -0.550781 -6.160156 C -0.371094 -5.886719 -0.234375 -5.5625 -0.140625 -5.179688 C -0.046875 -4.796875 0 -4.355469 0 -3.859375 Z M -0.972656 -1.976563 L -0.972656 -3.734375 C -0.972656 -4.273438 -1.019531 -4.699219 -1.121094 -5.011719 C -1.21875 -5.316406 -1.363281 -5.5625 -1.550781 -5.75 C -1.804688 -6.003906 -2.152344 -6.207031 -2.589844 -6.351563 C -3.027344 -6.496094 -3.554688 -6.566406 -4.179688 -6.570313 C -5.035156 -6.566406 -5.695313 -6.425781 -6.160156 -6.144531 C -6.621094 -5.859375 -6.933594 -5.515625 -7.09375 -5.117188 C -7.203125 -4.820313 -7.257813 -4.351563 -7.261719 -3.707031 L -7.261719 -1.976563 Z M -0.972656 -1.976563 \"/>\n",
       "</symbol>\n",
       "<symbol overflow=\"visible\" id=\"glyph2-2\">\n",
       "<path style=\"stroke:none;\" d=\"M 0 -1.074219 L -8.230469 -1.074219 L -8.230469 -2.160156 L 0 -2.160156 Z M 0 -1.074219 \"/>\n",
       "</symbol>\n",
       "<symbol overflow=\"visible\" id=\"glyph2-3\">\n",
       "<path style=\"stroke:none;\" d=\"M -2.183594 -4.648438 L -2.054688 -5.644531 C -1.367188 -5.53125 -0.832031 -5.253906 -0.445313 -4.808594 C -0.0585938 -4.359375 0.132813 -3.808594 0.136719 -3.160156 C 0.132813 -2.339844 -0.128906 -1.683594 -0.664063 -1.191406 C -1.195313 -0.691406 -1.960938 -0.445313 -2.960938 -0.449219 C -3.601563 -0.445313 -4.164063 -0.550781 -4.648438 -0.769531 C -5.128906 -0.980469 -5.492188 -1.304688 -5.734375 -1.742188 C -5.972656 -2.175781 -6.09375 -2.652344 -6.097656 -3.167969 C -6.09375 -3.8125 -5.929688 -4.339844 -5.605469 -4.753906 C -5.277344 -5.164063 -4.8125 -5.429688 -4.210938 -5.546875 L -4.058594 -4.566406 C -4.457031 -4.46875 -4.757813 -4.304688 -4.960938 -4.066406 C -5.160156 -3.828125 -5.261719 -3.539063 -5.265625 -3.207031 C -5.261719 -2.691406 -5.078125 -2.277344 -4.71875 -1.964844 C -4.351563 -1.644531 -3.777344 -1.488281 -2.988281 -1.488281 C -2.183594 -1.488281 -1.597656 -1.640625 -1.238281 -1.949219 C -0.871094 -2.253906 -0.691406 -2.652344 -0.695313 -3.148438 C -0.691406 -3.542969 -0.8125 -3.875 -1.058594 -4.144531 C -1.300781 -4.40625 -1.675781 -4.574219 -2.183594 -4.648438 Z M -2.183594 -4.648438 \"/>\n",
       "</symbol>\n",
       "<symbol overflow=\"visible\" id=\"glyph2-4\">\n",
       "<path style=\"stroke:none;\" d=\"M 0 -0.757813 L -8.230469 -0.757813 L -8.230469 -1.769531 L -5.277344 -1.769531 C -5.820313 -2.238281 -6.09375 -2.832031 -6.097656 -3.554688 C -6.09375 -3.996094 -6.007813 -4.378906 -5.835938 -4.707031 C -5.660156 -5.027344 -5.417969 -5.261719 -5.113281 -5.40625 C -4.804688 -5.542969 -4.359375 -5.613281 -3.777344 -5.617188 L 0 -5.617188 L 0 -4.605469 L -3.777344 -4.605469 C -4.28125 -4.605469 -4.648438 -4.496094 -4.882813 -4.277344 C -5.109375 -4.058594 -5.226563 -3.746094 -5.226563 -3.347656 C -5.226563 -3.042969 -5.148438 -2.761719 -4.992188 -2.5 C -4.835938 -2.234375 -4.625 -2.046875 -4.363281 -1.9375 C -4.09375 -1.824219 -3.726563 -1.769531 -3.261719 -1.769531 L 0 -1.769531 Z M 0 -0.757813 \"/>\n",
       "</symbol>\n",
       "<symbol overflow=\"visible\" id=\"glyph2-5\">\n",
       "<path style=\"stroke:none;\" d=\"M -0.734375 -4.648438 C -0.414063 -4.269531 -0.191406 -3.910156 -0.0585938 -3.566406 C 0.0703125 -3.21875 0.132813 -2.847656 0.136719 -2.453125 C 0.132813 -1.796875 -0.0234375 -1.292969 -0.34375 -0.941406 C -0.660156 -0.585938 -1.070313 -0.410156 -1.570313 -0.414063 C -1.863281 -0.410156 -2.128906 -0.476563 -2.371094 -0.613281 C -2.609375 -0.742188 -2.804688 -0.917969 -2.953125 -1.136719 C -3.097656 -1.351563 -3.207031 -1.59375 -3.285156 -1.863281 C -3.335938 -2.058594 -3.386719 -2.355469 -3.4375 -2.761719 C -3.53125 -3.574219 -3.648438 -4.175781 -3.785156 -4.566406 C -3.921875 -4.566406 -4.007813 -4.570313 -4.046875 -4.570313 C -4.457031 -4.570313 -4.746094 -4.472656 -4.917969 -4.285156 C -5.144531 -4.023438 -5.261719 -3.640625 -5.261719 -3.132813 C -5.261719 -2.65625 -5.175781 -2.304688 -5.011719 -2.082031 C -4.839844 -1.851563 -4.546875 -1.683594 -4.128906 -1.578125 L -4.261719 -0.589844 C -4.683594 -0.675781 -5.027344 -0.824219 -5.285156 -1.03125 C -5.542969 -1.238281 -5.742188 -1.535156 -5.886719 -1.925781 C -6.023438 -2.3125 -6.09375 -2.765625 -6.097656 -3.28125 C -6.09375 -3.789063 -6.035156 -4.199219 -5.917969 -4.519531 C -5.796875 -4.832031 -5.644531 -5.066406 -5.464844 -5.21875 C -5.28125 -5.367188 -5.050781 -5.472656 -4.777344 -5.535156 C -4.601563 -5.566406 -4.292969 -5.582031 -3.847656 -5.585938 L -2.5 -5.585938 C -1.558594 -5.582031 -0.964844 -5.605469 -0.714844 -5.648438 C -0.464844 -5.691406 -0.226563 -5.777344 0 -5.90625 L 0 -4.851563 C -0.207031 -4.746094 -0.449219 -4.675781 -0.734375 -4.648438 Z M -2.992188 -4.566406 C -2.839844 -4.195313 -2.710938 -3.644531 -2.609375 -2.914063 C -2.546875 -2.492188 -2.480469 -2.199219 -2.40625 -2.03125 C -2.332031 -1.855469 -2.222656 -1.722656 -2.078125 -1.632813 C -1.933594 -1.535156 -1.773438 -1.488281 -1.601563 -1.492188 C -1.328125 -1.488281 -1.105469 -1.589844 -0.925781 -1.796875 C -0.746094 -2 -0.65625 -2.300781 -0.65625 -2.695313 C -0.65625 -3.085938 -0.738281 -3.429688 -0.910156 -3.734375 C -1.078125 -4.03125 -1.3125 -4.253906 -1.613281 -4.402344 C -1.835938 -4.507813 -2.171875 -4.5625 -2.621094 -4.566406 Z M -2.992188 -4.566406 \"/>\n",
       "</symbol>\n",
       "<symbol overflow=\"visible\" id=\"glyph2-6\">\n",
       "<path style=\"stroke:none;\" d=\"M 0 -0.757813 L -5.964844 -0.757813 L -5.964844 -1.667969 L -5.117188 -1.667969 C -5.765625 -2.101563 -6.09375 -2.734375 -6.097656 -3.566406 C -6.09375 -3.921875 -6.027344 -4.25 -5.902344 -4.554688 C -5.769531 -4.851563 -5.601563 -5.078125 -5.394531 -5.230469 C -5.183594 -5.378906 -4.933594 -5.484375 -4.648438 -5.546875 C -4.457031 -5.582031 -4.132813 -5.601563 -3.667969 -5.605469 L 0 -5.605469 L 0 -4.59375 L -3.628906 -4.59375 C -4.035156 -4.59375 -4.34375 -4.554688 -4.550781 -4.476563 C -4.75 -4.398438 -4.914063 -4.257813 -5.039063 -4.058594 C -5.160156 -3.855469 -5.21875 -3.621094 -5.222656 -3.351563 C -5.21875 -2.921875 -5.082031 -2.550781 -4.8125 -2.238281 C -4.535156 -1.925781 -4.019531 -1.769531 -3.257813 -1.769531 L 0 -1.769531 Z M 0 -0.757813 \"/>\n",
       "</symbol>\n",
       "<symbol overflow=\"visible\" id=\"glyph2-7\">\n",
       "<path style=\"stroke:none;\" d=\"M 0.496094 -0.574219 L 0.640625 -1.554688 C 0.9375 -1.59375 1.160156 -1.710938 1.304688 -1.898438 C 1.488281 -2.148438 1.582031 -2.488281 1.582031 -2.925781 C 1.582031 -3.390625 1.488281 -3.753906 1.300781 -4.007813 C 1.113281 -4.261719 0.851563 -4.433594 0.515625 -4.527344 C 0.308594 -4.578125 -0.121094 -4.601563 -0.78125 -4.597656 C -0.257813 -4.15625 0 -3.605469 0 -2.949219 C 0 -2.125 -0.292969 -1.492188 -0.886719 -1.042969 C -1.472656 -0.59375 -2.183594 -0.367188 -3.015625 -0.371094 C -3.582031 -0.367188 -4.105469 -0.472656 -4.589844 -0.679688 C -5.066406 -0.882813 -5.4375 -1.179688 -5.703125 -1.574219 C -5.960938 -1.960938 -6.09375 -2.421875 -6.097656 -2.953125 C -6.09375 -3.65625 -5.808594 -4.234375 -5.246094 -4.695313 L -5.964844 -4.695313 L -5.964844 -5.625 L -0.808594 -5.625 C 0.121094 -5.625 0.777344 -5.527344 1.164063 -5.339844 C 1.550781 -5.148438 1.855469 -4.851563 2.082031 -4.441406 C 2.304688 -4.03125 2.417969 -3.527344 2.421875 -2.929688 C 2.417969 -2.21875 2.257813 -1.644531 1.941406 -1.207031 C 1.617188 -0.769531 1.136719 -0.558594 0.496094 -0.574219 Z M -3.089844 -1.410156 C -2.300781 -1.40625 -1.730469 -1.5625 -1.375 -1.875 C -1.011719 -2.183594 -0.832031 -2.570313 -0.835938 -3.042969 C -0.832031 -3.503906 -1.011719 -3.894531 -1.371094 -4.210938 C -1.730469 -4.523438 -2.289063 -4.679688 -3.054688 -4.683594 C -3.78125 -4.679688 -4.332031 -4.519531 -4.703125 -4.195313 C -5.074219 -3.871094 -5.261719 -3.480469 -5.261719 -3.027344 C -5.261719 -2.574219 -5.078125 -2.191406 -4.714844 -1.878906 C -4.347656 -1.5625 -3.804688 -1.40625 -3.089844 -1.410156 Z M -3.089844 -1.410156 \"/>\n",
       "</symbol>\n",
       "<symbol overflow=\"visible\" id=\"glyph2-8\">\n",
       "<path style=\"stroke:none;\" d=\"M -1.921875 -4.839844 L -1.792969 -5.882813 C -1.179688 -5.71875 -0.703125 -5.414063 -0.367188 -4.96875 C -0.03125 -4.523438 0.132813 -3.953125 0.136719 -3.261719 C 0.132813 -2.386719 -0.132813 -1.695313 -0.667969 -1.1875 C -1.207031 -0.675781 -1.960938 -0.421875 -2.929688 -0.421875 C -3.933594 -0.421875 -4.710938 -0.679688 -5.265625 -1.195313 C -5.816406 -1.710938 -6.09375 -2.378906 -6.097656 -3.207031 C -6.09375 -4 -5.820313 -4.652344 -5.28125 -5.160156 C -4.734375 -5.664063 -3.972656 -5.917969 -2.992188 -5.917969 C -2.929688 -5.917969 -2.839844 -5.914063 -2.722656 -5.914063 L -2.722656 -1.464844 C -2.066406 -1.503906 -1.566406 -1.6875 -1.21875 -2.019531 C -0.867188 -2.351563 -0.691406 -2.769531 -0.695313 -3.269531 C -0.691406 -3.636719 -0.789063 -3.949219 -0.988281 -4.214844 C -1.179688 -4.472656 -1.492188 -4.683594 -1.921875 -4.839844 Z M -3.554688 -1.523438 L -3.554688 -4.851563 C -4.054688 -4.804688 -4.429688 -4.675781 -4.683594 -4.46875 C -5.066406 -4.144531 -5.261719 -3.726563 -5.265625 -3.21875 C -5.261719 -2.75 -5.105469 -2.359375 -4.800781 -2.046875 C -4.488281 -1.726563 -4.074219 -1.554688 -3.554688 -1.523438 Z M -3.554688 -1.523438 \"/>\n",
       "</symbol>\n",
       "</g>\n",
       "<clipPath id=\"clip1\">\n",
       "  <path d=\"M 38.660156 5.480469 L 499.519531 5.480469 L 499.519531 473.125 L 38.660156 473.125 Z M 38.660156 5.480469 \"/>\n",
       "</clipPath>\n",
       "</defs>\n",
       "<g id=\"surface83\">\n",
       "<rect x=\"0\" y=\"0\" width=\"504\" height=\"504\" style=\"fill:rgb(100%,100%,100%);fill-opacity:1;stroke:none;\"/>\n",
       "<rect x=\"0\" y=\"0\" width=\"504\" height=\"504\" style=\"fill:rgb(100%,100%,100%);fill-opacity:1;stroke:none;\"/>\n",
       "<path style=\"fill:none;stroke-width:1.422638;stroke-linecap:round;stroke-linejoin:round;stroke:rgb(100%,100%,100%);stroke-opacity:1;stroke-miterlimit:10;\" d=\"M 0 0 L 504 0 L 504 504 L 0 504 Z M 0 0 \"/>\n",
       "<g clip-path=\"url(#clip1)\" clip-rule=\"nonzero\">\n",
       "<path style=\" stroke:none;fill-rule:nonzero;fill:rgb(92.156863%,92.156863%,92.156863%);fill-opacity:1;\" d=\"M 38.660156 5.480469 L 498.519531 5.480469 L 498.519531 472.125 L 38.660156 472.125 Z M 38.660156 5.480469 \"/>\n",
       "<path style=\"fill:none;stroke-width:0.711319;stroke-linecap:butt;stroke-linejoin:round;stroke:rgb(100%,100%,100%);stroke-opacity:1;stroke-miterlimit:10;\" d=\"M 38.660156 450.914063 L 498.519531 450.914063 \"/>\n",
       "<path style=\"fill:none;stroke-width:0.711319;stroke-linecap:butt;stroke-linejoin:round;stroke:rgb(100%,100%,100%);stroke-opacity:1;stroke-miterlimit:10;\" d=\"M 38.660156 339.277344 L 498.519531 339.277344 \"/>\n",
       "<path style=\"fill:none;stroke-width:0.711319;stroke-linecap:butt;stroke-linejoin:round;stroke:rgb(100%,100%,100%);stroke-opacity:1;stroke-miterlimit:10;\" d=\"M 38.660156 227.636719 L 498.519531 227.636719 \"/>\n",
       "<path style=\"fill:none;stroke-width:0.711319;stroke-linecap:butt;stroke-linejoin:round;stroke:rgb(100%,100%,100%);stroke-opacity:1;stroke-miterlimit:10;\" d=\"M 38.660156 116 L 498.519531 116 \"/>\n",
       "<path style=\"fill:none;stroke-width:1.422638;stroke-linecap:butt;stroke-linejoin:round;stroke:rgb(100%,100%,100%);stroke-opacity:1;stroke-miterlimit:10;\" d=\"M 38.660156 395.09375 L 498.519531 395.09375 \"/>\n",
       "<path style=\"fill:none;stroke-width:1.422638;stroke-linecap:butt;stroke-linejoin:round;stroke:rgb(100%,100%,100%);stroke-opacity:1;stroke-miterlimit:10;\" d=\"M 38.660156 283.457031 L 498.519531 283.457031 \"/>\n",
       "<path style=\"fill:none;stroke-width:1.422638;stroke-linecap:butt;stroke-linejoin:round;stroke:rgb(100%,100%,100%);stroke-opacity:1;stroke-miterlimit:10;\" d=\"M 38.660156 171.820313 L 498.519531 171.820313 \"/>\n",
       "<path style=\"fill:none;stroke-width:1.422638;stroke-linecap:butt;stroke-linejoin:round;stroke:rgb(100%,100%,100%);stroke-opacity:1;stroke-miterlimit:10;\" d=\"M 38.660156 60.183594 L 498.519531 60.183594 \"/>\n",
       "<path style=\"fill:none;stroke-width:1.422638;stroke-linecap:butt;stroke-linejoin:round;stroke:rgb(100%,100%,100%);stroke-opacity:1;stroke-miterlimit:10;\" d=\"M 164.078125 472.125 L 164.078125 5.480469 \"/>\n",
       "<path style=\"fill:none;stroke-width:1.422638;stroke-linecap:butt;stroke-linejoin:round;stroke:rgb(100%,100%,100%);stroke-opacity:1;stroke-miterlimit:10;\" d=\"M 373.105469 472.125 L 373.105469 5.480469 \"/>\n",
       "<path style=\"fill:none;stroke-width:1.422638;stroke-linecap:butt;stroke-linejoin:round;stroke:rgb(20%,20%,20%);stroke-opacity:1;stroke-miterlimit:10;\" d=\"M 164.078125 82.507813 L 164.078125 26.691406 \"/>\n",
       "<path style=\"fill:none;stroke-width:1.422638;stroke-linecap:butt;stroke-linejoin:round;stroke:rgb(20%,20%,20%);stroke-opacity:1;stroke-miterlimit:10;\" d=\"M 164.078125 196.9375 L 164.078125 283.457031 \"/>\n",
       "<path style=\"fill-rule:nonzero;fill:rgb(100%,100%,100%);fill-opacity:1;stroke-width:1.422638;stroke-linecap:round;stroke-linejoin:round;stroke:rgb(20%,20%,20%);stroke-opacity:1;stroke-miterlimit:10;\" d=\"M 85.691406 82.507813 L 85.691406 196.9375 L 242.460938 196.9375 L 242.460938 82.507813 Z M 85.691406 82.507813 \"/>\n",
       "<path style=\"fill:none;stroke-width:2.845276;stroke-linecap:butt;stroke-linejoin:round;stroke:rgb(20%,20%,20%);stroke-opacity:1;stroke-miterlimit:10;\" d=\"M 85.691406 127.164063 L 242.460938 127.164063 \"/>\n",
       "<path style=\"fill-rule:nonzero;fill:rgb(20%,20%,20%);fill-opacity:1;stroke-width:0.944882;stroke-linecap:round;stroke-linejoin:round;stroke:rgb(20%,20%,20%);stroke-opacity:1;stroke-miterlimit:10;\" d=\"M 375.558594 171.820313 C 375.558594 175.09375 370.648438 175.09375 370.648438 171.820313 C 370.648438 168.546875 375.558594 168.546875 375.558594 171.820313 \"/>\n",
       "<path style=\"fill-rule:nonzero;fill:rgb(20%,20%,20%);fill-opacity:1;stroke-width:0.944882;stroke-linecap:round;stroke-linejoin:round;stroke:rgb(20%,20%,20%);stroke-opacity:1;stroke-miterlimit:10;\" d=\"M 375.558594 305.785156 C 375.558594 309.058594 370.648438 309.058594 370.648438 305.785156 C 370.648438 302.511719 375.558594 302.511719 375.558594 305.785156 \"/>\n",
       "<path style=\"fill-rule:nonzero;fill:rgb(20%,20%,20%);fill-opacity:1;stroke-width:0.944882;stroke-linecap:round;stroke-linejoin:round;stroke:rgb(20%,20%,20%);stroke-opacity:1;stroke-miterlimit:10;\" d=\"M 375.558594 450.914063 C 375.558594 454.1875 370.648438 454.1875 370.648438 450.914063 C 370.648438 447.640625 375.558594 447.640625 375.558594 450.914063 \"/>\n",
       "<path style=\"fill:none;stroke-width:1.422638;stroke-linecap:butt;stroke-linejoin:round;stroke:rgb(20%,20%,20%);stroke-opacity:1;stroke-miterlimit:10;\" d=\"M 373.105469 353.230469 L 373.105469 350.441406 \"/>\n",
       "<path style=\"fill:none;stroke-width:1.422638;stroke-linecap:butt;stroke-linejoin:round;stroke:rgb(20%,20%,20%);stroke-opacity:1;stroke-miterlimit:10;\" d=\"M 373.105469 381.140625 L 373.105469 406.257813 \"/>\n",
       "<path style=\"fill-rule:nonzero;fill:rgb(100%,100%,100%);fill-opacity:1;stroke-width:1.422638;stroke-linecap:round;stroke-linejoin:round;stroke:rgb(20%,20%,20%);stroke-opacity:1;stroke-miterlimit:10;\" d=\"M 294.71875 353.230469 L 294.71875 381.140625 L 451.488281 381.140625 L 451.488281 353.230469 Z M 294.71875 353.230469 \"/>\n",
       "<path style=\"fill:none;stroke-width:2.845276;stroke-linecap:butt;stroke-linejoin:round;stroke:rgb(20%,20%,20%);stroke-opacity:1;stroke-miterlimit:10;\" d=\"M 294.71875 367.183594 L 451.488281 367.183594 \"/>\n",
       "</g>\n",
       "<g style=\"fill:rgb(30.196078%,30.196078%,30.196078%);fill-opacity:1;\">\n",
       "  <use xlink:href=\"#glyph0-0\" x=\"20.285156\" y=\"398.421875\"/>\n",
       "  <use xlink:href=\"#glyph0-1\" x=\"23.382129\" y=\"398.421875\"/>\n",
       "  <use xlink:href=\"#glyph0-2\" x=\"28.554346\" y=\"398.421875\"/>\n",
       "</g>\n",
       "<g style=\"fill:rgb(30.196078%,30.196078%,30.196078%);fill-opacity:1;\">\n",
       "  <use xlink:href=\"#glyph0-2\" x=\"28.554688\" y=\"286.785156\"/>\n",
       "</g>\n",
       "<g style=\"fill:rgb(30.196078%,30.196078%,30.196078%);fill-opacity:1;\">\n",
       "  <use xlink:href=\"#glyph0-1\" x=\"23.382813\" y=\"175.148438\"/>\n",
       "  <use xlink:href=\"#glyph0-2\" x=\"28.555029\" y=\"175.148438\"/>\n",
       "</g>\n",
       "<g style=\"fill:rgb(30.196078%,30.196078%,30.196078%);fill-opacity:1;\">\n",
       "  <use xlink:href=\"#glyph0-3\" x=\"23.382813\" y=\"63.511719\"/>\n",
       "  <use xlink:href=\"#glyph0-2\" x=\"28.555029\" y=\"63.511719\"/>\n",
       "</g>\n",
       "<path style=\"fill:none;stroke-width:1.422638;stroke-linecap:butt;stroke-linejoin:round;stroke:rgb(20%,20%,20%);stroke-opacity:1;stroke-miterlimit:10;\" d=\"M 35.917969 395.09375 L 38.660156 395.09375 \"/>\n",
       "<path style=\"fill:none;stroke-width:1.422638;stroke-linecap:butt;stroke-linejoin:round;stroke:rgb(20%,20%,20%);stroke-opacity:1;stroke-miterlimit:10;\" d=\"M 35.917969 283.457031 L 38.660156 283.457031 \"/>\n",
       "<path style=\"fill:none;stroke-width:1.422638;stroke-linecap:butt;stroke-linejoin:round;stroke:rgb(20%,20%,20%);stroke-opacity:1;stroke-miterlimit:10;\" d=\"M 35.917969 171.820313 L 38.660156 171.820313 \"/>\n",
       "<path style=\"fill:none;stroke-width:1.422638;stroke-linecap:butt;stroke-linejoin:round;stroke:rgb(20%,20%,20%);stroke-opacity:1;stroke-miterlimit:10;\" d=\"M 35.917969 60.183594 L 38.660156 60.183594 \"/>\n",
       "<path style=\"fill:none;stroke-width:1.422638;stroke-linecap:butt;stroke-linejoin:round;stroke:rgb(20%,20%,20%);stroke-opacity:1;stroke-miterlimit:10;\" d=\"M 164.078125 474.863281 L 164.078125 472.125 \"/>\n",
       "<path style=\"fill:none;stroke-width:1.422638;stroke-linecap:butt;stroke-linejoin:round;stroke:rgb(20%,20%,20%);stroke-opacity:1;stroke-miterlimit:10;\" d=\"M 373.105469 474.863281 L 373.105469 472.125 \"/>\n",
       "<g style=\"fill:rgb(30.196078%,30.196078%,30.196078%);fill-opacity:1;\">\n",
       "  <use xlink:href=\"#glyph0-4\" x=\"147.796875\" y=\"483.714844\"/>\n",
       "  <use xlink:href=\"#glyph0-5\" x=\"153.999902\" y=\"483.714844\"/>\n",
       "  <use xlink:href=\"#glyph0-6\" x=\"158.649902\" y=\"483.714844\"/>\n",
       "  <use xlink:href=\"#glyph0-7\" x=\"163.299902\" y=\"483.714844\"/>\n",
       "  <use xlink:href=\"#glyph0-8\" x=\"165.88374\" y=\"483.714844\"/>\n",
       "  <use xlink:href=\"#glyph0-6\" x=\"171.055957\" y=\"483.714844\"/>\n",
       "  <use xlink:href=\"#glyph0-9\" x=\"175.705957\" y=\"483.714844\"/>\n",
       "</g>\n",
       "<g style=\"fill:rgb(30.196078%,30.196078%,30.196078%);fill-opacity:1;\">\n",
       "  <use xlink:href=\"#glyph0-10\" x=\"357.855469\" y=\"483.714844\"/>\n",
       "  <use xlink:href=\"#glyph0-11\" x=\"364.058496\" y=\"483.714844\"/>\n",
       "  <use xlink:href=\"#glyph0-5\" x=\"366.124658\" y=\"483.714844\"/>\n",
       "  <use xlink:href=\"#glyph0-12\" x=\"370.774658\" y=\"483.714844\"/>\n",
       "  <use xlink:href=\"#glyph0-13\" x=\"375.946875\" y=\"483.714844\"/>\n",
       "  <use xlink:href=\"#glyph0-12\" x=\"381.119092\" y=\"483.714844\"/>\n",
       "  <use xlink:href=\"#glyph0-11\" x=\"386.291309\" y=\"483.714844\"/>\n",
       "</g>\n",
       "<g style=\"fill:rgb(0%,0%,0%);fill-opacity:1;\">\n",
       "  <use xlink:href=\"#glyph1-0\" x=\"257.082031\" y=\"496.328125\"/>\n",
       "  <use xlink:href=\"#glyph1-1\" x=\"263.477783\" y=\"496.328125\"/>\n",
       "  <use xlink:href=\"#glyph1-2\" x=\"267.307373\" y=\"496.328125\"/>\n",
       "  <use xlink:href=\"#glyph1-3\" x=\"273.703125\" y=\"496.328125\"/>\n",
       "</g>\n",
       "<g style=\"fill:rgb(0%,0%,0%);fill-opacity:1;\">\n",
       "  <use xlink:href=\"#glyph2-0\" x=\"15.902344\" y=\"267.25\"/>\n",
       "  <use xlink:href=\"#glyph2-1\" x=\"15.902344\" y=\"259.57959\"/>\n",
       "  <use xlink:href=\"#glyph2-2\" x=\"15.902344\" y=\"251.274658\"/>\n",
       "  <use xlink:href=\"#glyph2-3\" x=\"15.902344\" y=\"248.07959\"/>\n",
       "  <use xlink:href=\"#glyph2-4\" x=\"15.902344\" y=\"242.32959\"/>\n",
       "  <use xlink:href=\"#glyph2-5\" x=\"15.902344\" y=\"235.933838\"/>\n",
       "  <use xlink:href=\"#glyph2-6\" x=\"15.902344\" y=\"229.538086\"/>\n",
       "  <use xlink:href=\"#glyph2-7\" x=\"15.902344\" y=\"223.142334\"/>\n",
       "  <use xlink:href=\"#glyph2-8\" x=\"15.902344\" y=\"216.746582\"/>\n",
       "</g>\n",
       "</g>\n",
       "</svg>\n"
      ],
      "text/plain": [
       "plot without title"
      ]
     },
     "metadata": {
      "image/svg+xml": {
       "isolated": true
      }
     },
     "output_type": "display_data"
    }
   ],
   "source": [
    "boxplot<-ggplot(drugData, aes(drug, BDIchange)) + geom_boxplot()\n",
    "boxplot"
   ]
  },
  {
   "cell_type": "code",
   "execution_count": 8,
   "metadata": {
    "collapsed": true
   },
   "outputs": [],
   "source": [
    "alcoholData<-subset(drugData, drug == \"Alcohol\")\n",
    "ecstasyData<-subset(drugData, drug == \"Ecstasy\")"
   ]
  },
  {
   "cell_type": "code",
   "execution_count": 9,
   "metadata": {
    "collapsed": false
   },
   "outputs": [
    {
     "name": "stderr",
     "output_type": "stream",
     "text": [
      "Warning message:\n",
      "In wilcox.test.default(alcoholData$wedsBDI, alcoholData$sundayBDI, : cannot compute exact p-value with ties"
     ]
    },
    {
     "data": {
      "text/plain": [
       "\n",
       "\tWilcoxon signed rank test\n",
       "\n",
       "data:  alcoholData$wedsBDI and alcoholData$sundayBDI\n",
       "V = 8, p-value = 0.04657\n",
       "alternative hypothesis: true location shift is not equal to 0\n"
      ]
     },
     "metadata": {},
     "output_type": "display_data"
    },
    {
     "name": "stderr",
     "output_type": "stream",
     "text": [
      "Warning message:\n",
      "In wilcox.test.default(ecstasyData$wedsBDI, ecstasyData$sundayBDI, : cannot compute exact p-value with tiesWarning message:\n",
      "In wilcox.test.default(ecstasyData$wedsBDI, ecstasyData$sundayBDI, : cannot compute exact p-value with zeroes"
     ]
    },
    {
     "data": {
      "text/plain": [
       "\n",
       "\tWilcoxon signed rank test\n",
       "\n",
       "data:  ecstasyData$wedsBDI and ecstasyData$sundayBDI\n",
       "V = 36, p-value = 0.01151\n",
       "alternative hypothesis: true location shift is not equal to 0\n"
      ]
     },
     "metadata": {},
     "output_type": "display_data"
    }
   ],
   "source": [
    "alcoholModel<-wilcox.test(alcoholData$wedsBDI, alcoholData$sundayBDI,  paired = TRUE, correct= FALSE)\n",
    "alcoholModel\n",
    "ecstasyModel<-wilcox.test(ecstasyData$wedsBDI, ecstasyData$sundayBDI, paired = TRUE, correct= FALSE)\n",
    "ecstasyModel"
   ]
  },
  {
   "cell_type": "code",
   "execution_count": 12,
   "metadata": {
    "collapsed": false
   },
   "outputs": [
    {
     "name": "stdout",
     "output_type": "stream",
     "text": [
      "alcoholData$wedsBDI and alcoholData$sundayBDI Effect Size, r =  -0.4450246ecstasyData$wedsBDI and ecstasyData$sundayBDI Effect Size, r =  -0.5649883"
     ]
    }
   ],
   "source": [
    "rFromWilcox(alcoholModel, 20)\n",
    "rFromWilcox(ecstasyModel, 20)"
   ]
  },
  {
   "cell_type": "code",
   "execution_count": 13,
   "metadata": {
    "collapsed": false
   },
   "outputs": [
    {
     "data": {
      "text/plain": [
       "soyaData$Soya: 7 Soya Meals\n",
       "      median         mean      SE.mean CI.mean.0.95          var      std.dev \n",
       "   1.3350000    1.6535000    0.2479774    0.5190226    1.2298555    1.1089885 \n",
       "    coef.var \n",
       "   0.6706916 \n",
       "------------------------------------------------------------ \n",
       "soyaData$Soya: No Soya\n",
       "      median         mean      SE.mean CI.mean.0.95          var      std.dev \n",
       "    3.095000     4.987000     1.136926     2.379614    25.852022     5.084488 \n",
       "    coef.var \n",
       "    1.019549 \n",
       "------------------------------------------------------------ \n",
       "soyaData$Soya: 1 Soya Meal\n",
       "      median         mean      SE.mean CI.mean.0.95          var      std.dev \n",
       "    2.595000     4.606000     1.044822     2.186837    21.833057     4.672586 \n",
       "    coef.var \n",
       "    1.014456 \n",
       "------------------------------------------------------------ \n",
       "soyaData$Soya: 4 Soya Meals\n",
       "      median         mean      SE.mean CI.mean.0.95          var      std.dev \n",
       "   2.9450000    4.1105000    0.9861233    2.0639798   19.4487839    4.4100775 \n",
       "    coef.var \n",
       "   1.0728810 "
      ]
     },
     "metadata": {},
     "output_type": "display_data"
    },
    {
     "data": {
      "text/plain": [
       "soyaData$Soya: 7 Soya Meals\n",
       "  skewness   skew.2SE   kurtosis   kurt.2SE normtest.W normtest.p \n",
       " 0.6086712  0.5942855 -0.9161653 -0.4615984  0.9122606  0.0703908 \n",
       "------------------------------------------------------------ \n",
       "soyaData$Soya: No Soya\n",
       "   skewness    skew.2SE    kurtosis    kurt.2SE  normtest.W  normtest.p \n",
       "1.546140856 1.509598499 2.328051363 1.172959394 0.805255802 0.001035917 \n",
       "------------------------------------------------------------ \n",
       "soyaData$Soya: 1 Soya Meal\n",
       "   skewness    skew.2SE    kurtosis    kurt.2SE  normtest.W  normtest.p \n",
       "1.350565932 1.318645901 1.422731699 0.716825470 0.825831600 0.002153894 \n",
       "------------------------------------------------------------ \n",
       "soyaData$Soya: 4 Soya Meals\n",
       "    skewness     skew.2SE     kurtosis     kurt.2SE   normtest.W   normtest.p \n",
       "1.8222369167 1.7791691502 2.7926151830 1.4070240317 0.7427432543 0.0001359072 "
      ]
     },
     "metadata": {},
     "output_type": "display_data"
    },
    {
     "data": {
      "text/html": [
       "<table>\n",
       "<thead><tr><th></th><th scope=col>Df</th><th scope=col>F value</th><th scope=col>Pr(&gt;F)</th></tr></thead>\n",
       "<tbody>\n",
       "\t<tr><th scope=row>group</th><td>3.00000000</td><td>2.86059664</td><td>0.04236514</td></tr>\n",
       "\t<tr><th scope=row> </th><td>76</td><td>NA</td><td>NA</td></tr>\n",
       "</tbody>\n",
       "</table>\n"
      ],
      "text/latex": [
       "\\begin{tabular}{r|lll}\n",
       "  & Df & F value & Pr(>F)\\\\\n",
       "\\hline\n",
       "\tgroup & 3.00000000 & 2.86059664 & 0.04236514\\\\\n",
       "\t  & 76 & NA & NA\\\\\n",
       "\\end{tabular}\n"
      ],
      "text/plain": [
       "Levene's Test for Homogeneity of Variance (center = median)\n",
       "      Df F value  Pr(>F)  \n",
       "group  3  2.8606 0.04237 *\n",
       "      76                  \n",
       "---\n",
       "Signif. codes:  0 '***' 0.001 '**' 0.01 '*' 0.05 '.' 0.1 ' ' 1"
      ]
     },
     "metadata": {},
     "output_type": "display_data"
    }
   ],
   "source": [
    "#********************* Kruskal-Wallis ********************\n",
    "\n",
    "Sperm<-c(0.35, 0.58, 0.88, 0.92, 1.22, 1.51, 1.52, 1.57, 2.43, 2.79, 3.40, 4.52, \n",
    "         4.72, 6.90, 7.58, 7.78, 9.62, 10.05, 10.32, 21.08, 0.33, 0.36, 0.63, 0.64, 0.77, \n",
    "         1.53, 1.62, 1.71, 1.94, 2.48, 2.71, 4.12, 5.65, 6.76, 7.08, 7.26, 7.92, 8.04, 12.10, \n",
    "         18.47, 0.40, 0.60, 0.96, 1.20, 1.31, 1.35, 1.68, 1.83, 2.10, 2.93, 2.96, 3.00, 3.09, 3.36, \n",
    "         4.34, 5.81, 5.94, 10.16, 10.98, 18.21, 0.31, 0.32, 0.56, 0.57, 0.71, 0.81, 0.87, 1.18, 1.25, \n",
    "         1.33, 1.34, 1.49, 1.50, 2.09, 2.70, 2.75, 2.83, 3.07, 3.28, 4.11)\n",
    "Soya<-gl(4, 20, labels = c(\"No Soya\", \"1 Soya Meal\", \"4 Soya Meals\", \"7 Soya Meals\"))\n",
    "soyaData<-data.frame(Sperm, Soya)\n",
    "\n",
    "soyaData$Soya<-factor(soyaData$Soya, levels = levels(soyaData$Soya)[c(4, 1, 2, 3)])\n",
    "\n",
    "by(soyaData$Sperm, soyaData$Soya, stat.desc, basic=FALSE)\n",
    "by(soyaData$Sperm, soyaData$Soya, stat.desc, desc = FALSE, basic=FALSE, norm=TRUE)\n",
    "\n",
    "leveneTest(soyaData$Sperm, soyaData$Soya)"
   ]
  },
  {
   "cell_type": "code",
   "execution_count": 14,
   "metadata": {
    "collapsed": false
   },
   "outputs": [
    {
     "data": {
      "text/plain": [
       "\n",
       "\tKruskal-Wallis rank sum test\n",
       "\n",
       "data:  Sperm by Soya\n",
       "Kruskal-Wallis chi-squared = 8.6589, df = 3, p-value = 0.03419\n"
      ]
     },
     "metadata": {},
     "output_type": "display_data"
    },
    {
     "data": {
      "text/plain": [
       "soyaData$Soya: 7 Soya Meals\n",
       "[1] 27.35\n",
       "------------------------------------------------------------ \n",
       "soyaData$Soya: No Soya\n",
       "[1] 46.35\n",
       "------------------------------------------------------------ \n",
       "soyaData$Soya: 1 Soya Meal\n",
       "[1] 44.15\n",
       "------------------------------------------------------------ \n",
       "soyaData$Soya: 4 Soya Meals\n",
       "[1] 44.15"
      ]
     },
     "metadata": {},
     "output_type": "display_data"
    }
   ],
   "source": [
    "kruskal.test(Sperm ~ Soya, data = soyaData)\n",
    "soyaData$Ranks<-rank(soyaData$Sperm)\n",
    "by(soyaData$Ranks, soyaData$Soya, mean)"
   ]
  },
  {
   "cell_type": "code",
   "execution_count": null,
   "metadata": {
    "collapsed": true
   },
   "outputs": [],
   "source": [
    "ggplot(soyaData, aes(Soya, Sperm)) + geom_boxplot() +\n",
    "  labs(y = \"Sperm Count\", x = \"Number of Soya Meals Per Week\")\n",
    "  "
   ]
  },
  {
   "cell_type": "code",
   "execution_count": null,
   "metadata": {
    "collapsed": true
   },
   "outputs": [],
   "source": [
    "kruskalmc(Sperm ~ Soya, data = soyaData)\n",
    "kruskalmc(Sperm ~ Soya, data = soyaData, cont = 'two-tailed')\n",
    "\n",
    "jonckheere.test(soyaData$Sperm, as.numeric(soyaData$Soya))"
   ]
  }
 ],
 "metadata": {
  "kernelspec": {
   "display_name": "R",
   "language": "R",
   "name": "ir"
  },
  "language_info": {
   "codemirror_mode": "r",
   "file_extension": ".r",
   "mimetype": "text/x-r-source",
   "name": "R",
   "pygments_lexer": "r",
   "version": "3.3.0"
  }
 },
 "nbformat": 4,
 "nbformat_minor": 0
}
