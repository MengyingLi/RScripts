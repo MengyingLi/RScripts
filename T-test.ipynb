{
 "cells": [
  {
   "cell_type": "markdown",
   "metadata": {},
   "source": [
    "<h1 align = \"center\"> Independent T-test </h1>"
   ]
  },
  {
   "cell_type": "markdown",
   "metadata": {},
   "source": [
    "* if the samples contain more than about 50 scores the sampling distribution\n",
    "should be normally distributed."
   ]
  },
  {
   "cell_type": "code",
   "execution_count": 22,
   "metadata": {
    "collapsed": true
   },
   "outputs": [],
   "source": [
    "Group<-gl(2, 12, labels = c(\"Picture\", \"Real Spider\")) #Generate factors by specifying the pattern of their levels.\n",
    "Anxiety<-c(30, 35, 45, 40, 50, 35, 55, 25, 30, 45, 40, 50, 40, 35, 50, 55, 65,\n",
    "55, 50, 35, 30, 50, 60, 39)"
   ]
  },
  {
   "cell_type": "code",
   "execution_count": 23,
   "metadata": {
    "collapsed": false
   },
   "outputs": [],
   "source": [
    "spiderLong<-data.frame(Group, Anxiety)"
   ]
  },
  {
   "cell_type": "markdown",
   "metadata": {},
   "source": [
    "### Test for normality"
   ]
  },
  {
   "cell_type": "code",
   "execution_count": 5,
   "metadata": {
    "collapsed": false,
    "scrolled": true
   },
   "outputs": [
    {
     "name": "stderr",
     "output_type": "stream",
     "text": [
      "Loading required package: boot\n"
     ]
    }
   ],
   "source": [
    "library(pastecs)"
   ]
  },
  {
   "cell_type": "code",
   "execution_count": 6,
   "metadata": {
    "collapsed": false
   },
   "outputs": [
    {
     "data": {
      "text/plain": [
       "spiderLong$Group: Picture\n",
       "      median         mean      SE.mean CI.mean.0.95          var      std.dev \n",
       "  40.0000000   40.0000000    2.6827168    5.9046200   86.3636364    9.2932038 \n",
       "    coef.var     skewness     skew.2SE     kurtosis     kurt.2SE   normtest.W \n",
       "   0.2323301    0.0000000    0.0000000   -1.3939289   -0.5656047    0.9650165 \n",
       "  normtest.p \n",
       "   0.8522870 \n",
       "------------------------------------------------------------ \n",
       "spiderLong$Group: Real Spider\n",
       "       median          mean       SE.mean  CI.mean.0.95           var \n",
       " 50.000000000  47.000000000   3.183765638   7.007420922 121.636363636 \n",
       "      std.dev      coef.var      skewness      skew.2SE      kurtosis \n",
       " 11.028887688   0.234657185  -0.005590699  -0.004386224  -1.459758279 \n",
       "     kurt.2SE    normtest.W    normtest.p \n",
       " -0.592315868   0.948872904   0.620569431 "
      ]
     },
     "metadata": {},
     "output_type": "display_data"
    }
   ],
   "source": [
    "by(spiderLong$Anxiety, spiderLong$Group, stat.desc, basic = FALSE, norm =\n",
    "TRUE)"
   ]
  },
  {
   "cell_type": "markdown",
   "metadata": {},
   "source": [
    "### t-test"
   ]
  },
  {
   "cell_type": "code",
   "execution_count": 7,
   "metadata": {
    "collapsed": false
   },
   "outputs": [
    {
     "data": {
      "text/plain": [
       "\n",
       "\tWelch Two Sample t-test\n",
       "\n",
       "data:  Anxiety by Group\n",
       "t = -1.6813, df = 21.385, p-value = 0.1072\n",
       "alternative hypothesis: true difference in means is not equal to 0\n",
       "95 percent confidence interval:\n",
       " -15.648641   1.648641\n",
       "sample estimates:\n",
       "    mean in group Picture mean in group Real Spider \n",
       "                       40                        47 \n"
      ]
     },
     "metadata": {},
     "output_type": "display_data"
    }
   ],
   "source": [
    "ind.t.test<-t.test(Anxiety ~ Group, data = spiderLong)\n",
    "ind.t.test"
   ]
  },
  {
   "cell_type": "code",
   "execution_count": 10,
   "metadata": {
    "collapsed": false
   },
   "outputs": [
    {
     "data": {
      "text/html": [
       "<table>\n",
       "<thead><tr><th></th><th scope=col>Group</th><th scope=col>Anxiety</th></tr></thead>\n",
       "<tbody>\n",
       "\t<tr><th scope=row>1</th><td>Picture</td><td>30     </td></tr>\n",
       "\t<tr><th scope=row>2</th><td>Picture</td><td>35     </td></tr>\n",
       "\t<tr><th scope=row>3</th><td>Picture</td><td>45     </td></tr>\n",
       "\t<tr><th scope=row>4</th><td>Picture</td><td>40     </td></tr>\n",
       "\t<tr><th scope=row>5</th><td>Picture</td><td>50     </td></tr>\n",
       "\t<tr><th scope=row>6</th><td>Picture</td><td>35     </td></tr>\n",
       "\t<tr><th scope=row>7</th><td>Picture</td><td>55     </td></tr>\n",
       "\t<tr><th scope=row>8</th><td>Picture</td><td>25     </td></tr>\n",
       "\t<tr><th scope=row>9</th><td>Picture</td><td>30     </td></tr>\n",
       "\t<tr><th scope=row>10</th><td>Picture</td><td>45     </td></tr>\n",
       "\t<tr><th scope=row>11</th><td>Picture</td><td>40     </td></tr>\n",
       "\t<tr><th scope=row>12</th><td>Picture</td><td>50     </td></tr>\n",
       "\t<tr><th scope=row>13</th><td>Real Spider</td><td>40         </td></tr>\n",
       "\t<tr><th scope=row>14</th><td>Real Spider</td><td>35         </td></tr>\n",
       "\t<tr><th scope=row>15</th><td>Real Spider</td><td>50         </td></tr>\n",
       "\t<tr><th scope=row>16</th><td>Real Spider</td><td>55         </td></tr>\n",
       "\t<tr><th scope=row>17</th><td>Real Spider</td><td>65         </td></tr>\n",
       "\t<tr><th scope=row>18</th><td>Real Spider</td><td>55         </td></tr>\n",
       "\t<tr><th scope=row>19</th><td>Real Spider</td><td>50         </td></tr>\n",
       "\t<tr><th scope=row>20</th><td>Real Spider</td><td>35         </td></tr>\n",
       "\t<tr><th scope=row>21</th><td>Real Spider</td><td>30         </td></tr>\n",
       "\t<tr><th scope=row>22</th><td>Real Spider</td><td>50         </td></tr>\n",
       "\t<tr><th scope=row>23</th><td>Real Spider</td><td>60         </td></tr>\n",
       "\t<tr><th scope=row>24</th><td>Real Spider</td><td>39         </td></tr>\n",
       "</tbody>\n",
       "</table>\n"
      ],
      "text/latex": [
       "\\begin{tabular}{r|ll}\n",
       "  & Group & Anxiety\\\\\n",
       "\\hline\n",
       "\t1 & Picture & 30     \\\\\n",
       "\t2 & Picture & 35     \\\\\n",
       "\t3 & Picture & 45     \\\\\n",
       "\t4 & Picture & 40     \\\\\n",
       "\t5 & Picture & 50     \\\\\n",
       "\t6 & Picture & 35     \\\\\n",
       "\t7 & Picture & 55     \\\\\n",
       "\t8 & Picture & 25     \\\\\n",
       "\t9 & Picture & 30     \\\\\n",
       "\t10 & Picture & 45     \\\\\n",
       "\t11 & Picture & 40     \\\\\n",
       "\t12 & Picture & 50     \\\\\n",
       "\t13 & Real Spider & 40         \\\\\n",
       "\t14 & Real Spider & 35         \\\\\n",
       "\t15 & Real Spider & 50         \\\\\n",
       "\t16 & Real Spider & 55         \\\\\n",
       "\t17 & Real Spider & 65         \\\\\n",
       "\t18 & Real Spider & 55         \\\\\n",
       "\t19 & Real Spider & 50         \\\\\n",
       "\t20 & Real Spider & 35         \\\\\n",
       "\t21 & Real Spider & 30         \\\\\n",
       "\t22 & Real Spider & 50         \\\\\n",
       "\t23 & Real Spider & 60         \\\\\n",
       "\t24 & Real Spider & 39         \\\\\n",
       "\\end{tabular}\n"
      ],
      "text/plain": [
       "         Group Anxiety\n",
       "1      Picture      30\n",
       "2      Picture      35\n",
       "3      Picture      45\n",
       "4      Picture      40\n",
       "5      Picture      50\n",
       "6      Picture      35\n",
       "7      Picture      55\n",
       "8      Picture      25\n",
       "9      Picture      30\n",
       "10     Picture      45\n",
       "11     Picture      40\n",
       "12     Picture      50\n",
       "13 Real Spider      40\n",
       "14 Real Spider      35\n",
       "15 Real Spider      50\n",
       "16 Real Spider      55\n",
       "17 Real Spider      65\n",
       "18 Real Spider      55\n",
       "19 Real Spider      50\n",
       "20 Real Spider      35\n",
       "21 Real Spider      30\n",
       "22 Real Spider      50\n",
       "23 Real Spider      60\n",
       "24 Real Spider      39"
      ]
     },
     "metadata": {},
     "output_type": "display_data"
    }
   ],
   "source": [
    "spiderLong"
   ]
  },
  {
   "cell_type": "code",
   "execution_count": 11,
   "metadata": {
    "collapsed": false,
    "scrolled": true
   },
   "outputs": [
    {
     "name": "stderr",
     "output_type": "stream",
     "text": [
      "\n",
      "Attaching package: 'tidyr'\n",
      "\n",
      "The following object is masked from 'package:pastecs':\n",
      "\n",
      "    extract\n",
      "\n"
     ]
    }
   ],
   "source": [
    "library(tidyr)"
   ]
  },
  {
   "cell_type": "code",
   "execution_count": 35,
   "metadata": {
    "collapsed": false
   },
   "outputs": [],
   "source": [
    "spiderLong$id = rep(1:(nrow(spiderLong)/2),2)"
   ]
  },
  {
   "cell_type": "code",
   "execution_count": 36,
   "metadata": {
    "collapsed": true
   },
   "outputs": [],
   "source": [
    "spiderLong$Group = as.character(spiderLong$Group)"
   ]
  },
  {
   "cell_type": "code",
   "execution_count": 60,
   "metadata": {
    "collapsed": false
   },
   "outputs": [
    {
     "data": {
      "text/html": [
       "<table>\n",
       "<thead><tr><th></th><th scope=col>Group</th><th scope=col>Anxiety</th><th scope=col>id</th></tr></thead>\n",
       "<tbody>\n",
       "\t<tr><th scope=row>1</th><td>Picture</td><td>30     </td><td>1      </td></tr>\n",
       "\t<tr><th scope=row>2</th><td>Picture</td><td>35     </td><td>2      </td></tr>\n",
       "\t<tr><th scope=row>3</th><td>Picture</td><td>45     </td><td>3      </td></tr>\n",
       "\t<tr><th scope=row>4</th><td>Picture</td><td>40     </td><td>4      </td></tr>\n",
       "\t<tr><th scope=row>5</th><td>Picture</td><td>50     </td><td>5      </td></tr>\n",
       "\t<tr><th scope=row>6</th><td>Picture</td><td>35     </td><td>6      </td></tr>\n",
       "</tbody>\n",
       "</table>\n"
      ],
      "text/latex": [
       "\\begin{tabular}{r|lll}\n",
       "  & Group & Anxiety & id\\\\\n",
       "\\hline\n",
       "\t1 & Picture & 30      & 1      \\\\\n",
       "\t2 & Picture & 35      & 2      \\\\\n",
       "\t3 & Picture & 45      & 3      \\\\\n",
       "\t4 & Picture & 40      & 4      \\\\\n",
       "\t5 & Picture & 50      & 5      \\\\\n",
       "\t6 & Picture & 35      & 6      \\\\\n",
       "\\end{tabular}\n"
      ],
      "text/plain": [
       "    Group Anxiety id\n",
       "1 Picture      30  1\n",
       "2 Picture      35  2\n",
       "3 Picture      45  3\n",
       "4 Picture      40  4\n",
       "5 Picture      50  5\n",
       "6 Picture      35  6"
      ]
     },
     "metadata": {},
     "output_type": "display_data"
    }
   ],
   "source": [
    "head(spiderLong)"
   ]
  },
  {
   "cell_type": "code",
   "execution_count": 61,
   "metadata": {
    "collapsed": false
   },
   "outputs": [],
   "source": [
    "spiderWide = unstack(spiderLong, Anxiety~Group)"
   ]
  },
  {
   "cell_type": "code",
   "execution_count": 62,
   "metadata": {
    "collapsed": false
   },
   "outputs": [
    {
     "data": {
      "text/html": [
       "<table>\n",
       "<thead><tr><th></th><th scope=col>Picture</th><th scope=col>Real.Spider</th></tr></thead>\n",
       "<tbody>\n",
       "\t<tr><th scope=row>1</th><td>30</td><td>40</td></tr>\n",
       "\t<tr><th scope=row>2</th><td>35</td><td>35</td></tr>\n",
       "\t<tr><th scope=row>3</th><td>45</td><td>50</td></tr>\n",
       "\t<tr><th scope=row>4</th><td>40</td><td>55</td></tr>\n",
       "\t<tr><th scope=row>5</th><td>50</td><td>65</td></tr>\n",
       "\t<tr><th scope=row>6</th><td>35</td><td>55</td></tr>\n",
       "\t<tr><th scope=row>7</th><td>55</td><td>50</td></tr>\n",
       "\t<tr><th scope=row>8</th><td>25</td><td>35</td></tr>\n",
       "\t<tr><th scope=row>9</th><td>30</td><td>30</td></tr>\n",
       "\t<tr><th scope=row>10</th><td>45</td><td>50</td></tr>\n",
       "\t<tr><th scope=row>11</th><td>40</td><td>60</td></tr>\n",
       "\t<tr><th scope=row>12</th><td>50</td><td>39</td></tr>\n",
       "</tbody>\n",
       "</table>\n"
      ],
      "text/latex": [
       "\\begin{tabular}{r|ll}\n",
       "  & Picture & Real.Spider\\\\\n",
       "\\hline\n",
       "\t1 & 30 & 40\\\\\n",
       "\t2 & 35 & 35\\\\\n",
       "\t3 & 45 & 50\\\\\n",
       "\t4 & 40 & 55\\\\\n",
       "\t5 & 50 & 65\\\\\n",
       "\t6 & 35 & 55\\\\\n",
       "\t7 & 55 & 50\\\\\n",
       "\t8 & 25 & 35\\\\\n",
       "\t9 & 30 & 30\\\\\n",
       "\t10 & 45 & 50\\\\\n",
       "\t11 & 40 & 60\\\\\n",
       "\t12 & 50 & 39\\\\\n",
       "\\end{tabular}\n"
      ],
      "text/plain": [
       "   Picture Real.Spider\n",
       "1       30          40\n",
       "2       35          35\n",
       "3       45          50\n",
       "4       40          55\n",
       "5       50          65\n",
       "6       35          55\n",
       "7       55          50\n",
       "8       25          35\n",
       "9       30          30\n",
       "10      45          50\n",
       "11      40          60\n",
       "12      50          39"
      ]
     },
     "metadata": {},
     "output_type": "display_data"
    }
   ],
   "source": [
    "spiderWide"
   ]
  },
  {
   "cell_type": "code",
   "execution_count": 45,
   "metadata": {
    "collapsed": false
   },
   "outputs": [],
   "source": [
    "colnames(spiderWide) = c(\"id\", \"picture\", \"real\")"
   ]
  },
  {
   "cell_type": "code",
   "execution_count": 46,
   "metadata": {
    "collapsed": false
   },
   "outputs": [
    {
     "data": {
      "text/plain": [
       "\n",
       "\tWelch Two Sample t-test\n",
       "\n",
       "data:  spiderWide$real and spiderWide$picture\n",
       "t = 1.6813, df = 21.385, p-value = 0.1072\n",
       "alternative hypothesis: true difference in means is not equal to 0\n",
       "95 percent confidence interval:\n",
       " -1.648641 15.648641\n",
       "sample estimates:\n",
       "mean of x mean of y \n",
       "       47        40 \n"
      ]
     },
     "metadata": {},
     "output_type": "display_data"
    }
   ],
   "source": [
    "ind.t.test<-t.test(spiderWide$real, spiderWide$picture)\n",
    "ind.t.test"
   ]
  },
  {
   "cell_type": "code",
   "execution_count": null,
   "metadata": {
    "collapsed": true
   },
   "outputs": [],
   "source": [
    "* df has digits because it is corrected for heteroskedacistity based on the Welch's t-stest'"
   ]
  },
  {
   "cell_type": "code",
   "execution_count": 8,
   "metadata": {
    "collapsed": false,
    "scrolled": true
   },
   "outputs": [
    {
     "name": "stderr",
     "output_type": "stream",
     "text": [
      "Loading required package: MASS\n",
      "Loading required package: akima\n",
      "Loading required package: robustbase\n",
      "\n",
      "Attaching package: 'robustbase'\n",
      "\n",
      "The following object is masked from 'package:boot':\n",
      "\n",
      "    salinity\n",
      "\n",
      "\n",
      "Attaching package: 'WRS'\n",
      "\n",
      "The following object is masked from 'package:robustbase':\n",
      "\n",
      "    hard.rejection\n",
      "\n",
      "The following object is masked from 'package:MASS':\n",
      "\n",
      "    ltsreg\n",
      "\n",
      "The following object is masked from 'package:stats':\n",
      "\n",
      "    ecdf\n",
      "\n",
      "The following object is masked from 'package:grDevices':\n",
      "\n",
      "    bmp\n",
      "\n"
     ]
    }
   ],
   "source": [
    "library(WRS)"
   ]
  },
  {
   "cell_type": "code",
   "execution_count": 40,
   "metadata": {
    "collapsed": false
   },
   "outputs": [
    {
     "data": {
      "text/html": [
       "<table>\n",
       "<thead><tr><th></th><th scope=col>id</th><th scope=col>Picture</th><th scope=col>Real Spider</th></tr></thead>\n",
       "<tbody>\n",
       "\t<tr><th scope=row>1</th><td> 1</td><td>30</td><td>40</td></tr>\n",
       "\t<tr><th scope=row>2</th><td> 2</td><td>35</td><td>35</td></tr>\n",
       "\t<tr><th scope=row>3</th><td> 3</td><td>45</td><td>50</td></tr>\n",
       "\t<tr><th scope=row>4</th><td> 4</td><td>40</td><td>55</td></tr>\n",
       "\t<tr><th scope=row>5</th><td> 5</td><td>50</td><td>65</td></tr>\n",
       "\t<tr><th scope=row>6</th><td> 6</td><td>35</td><td>55</td></tr>\n",
       "\t<tr><th scope=row>7</th><td> 7</td><td>55</td><td>50</td></tr>\n",
       "\t<tr><th scope=row>8</th><td> 8</td><td>25</td><td>35</td></tr>\n",
       "\t<tr><th scope=row>9</th><td> 9</td><td>30</td><td>30</td></tr>\n",
       "\t<tr><th scope=row>10</th><td>10</td><td>45</td><td>50</td></tr>\n",
       "\t<tr><th scope=row>11</th><td>11</td><td>40</td><td>60</td></tr>\n",
       "\t<tr><th scope=row>12</th><td>12</td><td>50</td><td>39</td></tr>\n",
       "</tbody>\n",
       "</table>\n"
      ],
      "text/latex": [
       "\\begin{tabular}{r|lll}\n",
       "  & id & Picture & Real Spider\\\\\n",
       "\\hline\n",
       "\t1 &  1 & 30 & 40\\\\\n",
       "\t2 &  2 & 35 & 35\\\\\n",
       "\t3 &  3 & 45 & 50\\\\\n",
       "\t4 &  4 & 40 & 55\\\\\n",
       "\t5 &  5 & 50 & 65\\\\\n",
       "\t6 &  6 & 35 & 55\\\\\n",
       "\t7 &  7 & 55 & 50\\\\\n",
       "\t8 &  8 & 25 & 35\\\\\n",
       "\t9 &  9 & 30 & 30\\\\\n",
       "\t10 & 10 & 45 & 50\\\\\n",
       "\t11 & 11 & 40 & 60\\\\\n",
       "\t12 & 12 & 50 & 39\\\\\n",
       "\\end{tabular}\n"
      ],
      "text/plain": [
       "   id Picture Real Spider\n",
       "1   1      30          40\n",
       "2   2      35          35\n",
       "3   3      45          50\n",
       "4   4      40          55\n",
       "5   5      50          65\n",
       "6   6      35          55\n",
       "7   7      55          50\n",
       "8   8      25          35\n",
       "9   9      30          30\n",
       "10 10      45          50\n",
       "11 11      40          60\n",
       "12 12      50          39"
      ]
     },
     "metadata": {},
     "output_type": "display_data"
    }
   ],
   "source": [
    "spiderWide"
   ]
  },
  {
   "cell_type": "code",
   "execution_count": 48,
   "metadata": {
    "collapsed": false
   },
   "outputs": [
    {
     "data": {
      "text/html": [
       "<dl>\n",
       "\t<dt>$n1</dt>\n",
       "\t\t<dd>12</dd>\n",
       "\t<dt>$n2</dt>\n",
       "\t\t<dd>12</dd>\n",
       "\t<dt>$est.1</dt>\n",
       "\t\t<dd>46.75</dd>\n",
       "\t<dt>$est.2</dt>\n",
       "\t\t<dd>40</dd>\n",
       "\t<dt>$ci</dt>\n",
       "\t\t<dd><ol class=list-inline>\n",
       "\t<li>-4.42936071020934</li>\n",
       "\t<li>17.9293607102093</li>\n",
       "</ol>\n",
       "</dd>\n",
       "\t<dt>$p.value</dt>\n",
       "\t\t<dd>0.216143324927692</dd>\n",
       "\t<dt>$dif</dt>\n",
       "\t\t<dd>6.75</dd>\n",
       "\t<dt>$se</dt>\n",
       "\t\t<dd>5.20930943234367</dd>\n",
       "\t<dt>$teststat</dt>\n",
       "\t\t<dd>1.29575716084179</dd>\n",
       "\t<dt>$crit</dt>\n",
       "\t\t<dd>2.14603506576106</dd>\n",
       "\t<dt>$df</dt>\n",
       "\t\t<dd>13.9137233889032</dd>\n",
       "</dl>\n"
      ],
      "text/latex": [
       "\\begin{description}\n",
       "\\item[\\$n1] 12\n",
       "\\item[\\$n2] 12\n",
       "\\item[\\$est.1] 46.75\n",
       "\\item[\\$est.2] 40\n",
       "\\item[\\$ci] \\begin{enumerate*}\n",
       "\\item -4.42936071020934\n",
       "\\item 17.9293607102093\n",
       "\\end{enumerate*}\n",
       "\n",
       "\\item[\\$p.value] 0.216143324927692\n",
       "\\item[\\$dif] 6.75\n",
       "\\item[\\$se] 5.20930943234367\n",
       "\\item[\\$teststat] 1.29575716084179\n",
       "\\item[\\$crit] 2.14603506576106\n",
       "\\item[\\$df] 13.9137233889032\n",
       "\\end{description}\n"
      ],
      "text/markdown": [
       "$n1\n",
       ":   12\n",
       "$n2\n",
       ":   12\n",
       "$est.1\n",
       ":   46.75\n",
       "$est.2\n",
       ":   40\n",
       "$ci\n",
       ":   1. -4.42936071020934\n",
       "2. 17.9293607102093\n",
       "\n",
       "\n",
       "\n",
       "$p.value\n",
       ":   0.216143324927692\n",
       "$dif\n",
       ":   6.75\n",
       "$se\n",
       ":   5.20930943234367\n",
       "$teststat\n",
       ":   1.29575716084179\n",
       "$crit\n",
       ":   2.14603506576106\n",
       "$df\n",
       ":   13.9137233889032\n",
       "\n",
       "\n"
      ],
      "text/plain": [
       "$n1\n",
       "[1] 12\n",
       "\n",
       "$n2\n",
       "[1] 12\n",
       "\n",
       "$est.1\n",
       "[1] 46.75\n",
       "\n",
       "$est.2\n",
       "[1] 40\n",
       "\n",
       "$ci\n",
       "[1] -4.429361 17.929361\n",
       "\n",
       "$p.value\n",
       "[1] 0.2161433\n",
       "\n",
       "$dif\n",
       "[1] 6.75\n",
       "\n",
       "$se\n",
       "[1] 5.209309\n",
       "\n",
       "$teststat\n",
       "[1] 1.295757\n",
       "\n",
       "$crit\n",
       "[1] 2.146035\n",
       "\n",
       "$df\n",
       "[1] 13.91372\n"
      ]
     },
     "metadata": {},
     "output_type": "display_data"
    }
   ],
   "source": [
    "yuen(spiderWide$real, spiderWide$picture) #default is 20% trimming"
   ]
  },
  {
   "cell_type": "code",
   "execution_count": 49,
   "metadata": {
    "collapsed": false
   },
   "outputs": [
    {
     "data": {
      "text/html": [
       "<dl>\n",
       "\t<dt>$n1</dt>\n",
       "\t\t<dd>12</dd>\n",
       "\t<dt>$n2</dt>\n",
       "\t\t<dd>12</dd>\n",
       "\t<dt>$est.1</dt>\n",
       "\t\t<dd>46.9</dd>\n",
       "\t<dt>$est.2</dt>\n",
       "\t\t<dd>40</dd>\n",
       "\t<dt>$ci</dt>\n",
       "\t\t<dd><ol class=list-inline>\n",
       "\t<li>-2.35747048576476</li>\n",
       "\t<li>16.1574704857648</li>\n",
       "</ol>\n",
       "</dd>\n",
       "\t<dt>$p.value</dt>\n",
       "\t\t<dd>0.134439987268378</dd>\n",
       "\t<dt>$dif</dt>\n",
       "\t\t<dd>6.9</dd>\n",
       "\t<dt>$se</dt>\n",
       "\t\t<dd>4.39444093271387</dd>\n",
       "\t<dt>$teststat</dt>\n",
       "\t\t<dd>1.5701656036912</dd>\n",
       "\t<dt>$crit</dt>\n",
       "\t\t<dd>2.1066321353528</dd>\n",
       "\t<dt>$df</dt>\n",
       "\t\t<dd>17.3440301535493</dd>\n",
       "</dl>\n"
      ],
      "text/latex": [
       "\\begin{description}\n",
       "\\item[\\$n1] 12\n",
       "\\item[\\$n2] 12\n",
       "\\item[\\$est.1] 46.9\n",
       "\\item[\\$est.2] 40\n",
       "\\item[\\$ci] \\begin{enumerate*}\n",
       "\\item -2.35747048576476\n",
       "\\item 16.1574704857648\n",
       "\\end{enumerate*}\n",
       "\n",
       "\\item[\\$p.value] 0.134439987268378\n",
       "\\item[\\$dif] 6.9\n",
       "\\item[\\$se] 4.39444093271387\n",
       "\\item[\\$teststat] 1.5701656036912\n",
       "\\item[\\$crit] 2.1066321353528\n",
       "\\item[\\$df] 17.3440301535493\n",
       "\\end{description}\n"
      ],
      "text/markdown": [
       "$n1\n",
       ":   12\n",
       "$n2\n",
       ":   12\n",
       "$est.1\n",
       ":   46.9\n",
       "$est.2\n",
       ":   40\n",
       "$ci\n",
       ":   1. -2.35747048576476\n",
       "2. 16.1574704857648\n",
       "\n",
       "\n",
       "\n",
       "$p.value\n",
       ":   0.134439987268378\n",
       "$dif\n",
       ":   6.9\n",
       "$se\n",
       ":   4.39444093271387\n",
       "$teststat\n",
       ":   1.5701656036912\n",
       "$crit\n",
       ":   2.1066321353528\n",
       "$df\n",
       ":   17.3440301535493\n",
       "\n",
       "\n"
      ],
      "text/plain": [
       "$n1\n",
       "[1] 12\n",
       "\n",
       "$n2\n",
       "[1] 12\n",
       "\n",
       "$est.1\n",
       "[1] 46.9\n",
       "\n",
       "$est.2\n",
       "[1] 40\n",
       "\n",
       "$ci\n",
       "[1] -2.35747 16.15747\n",
       "\n",
       "$p.value\n",
       "[1] 0.13444\n",
       "\n",
       "$dif\n",
       "[1] 6.9\n",
       "\n",
       "$se\n",
       "[1] 4.394441\n",
       "\n",
       "$teststat\n",
       "[1] 1.570166\n",
       "\n",
       "$crit\n",
       "[1] 2.106632\n",
       "\n",
       "$df\n",
       "[1] 17.34403\n"
      ]
     },
     "metadata": {},
     "output_type": "display_data"
    }
   ],
   "source": [
    "yuen(spiderWide$real, spiderWide$picture, tr = .1)"
   ]
  },
  {
   "cell_type": "code",
   "execution_count": 51,
   "metadata": {
    "collapsed": false
   },
   "outputs": [
    {
     "name": "stdout",
     "output_type": "stream",
     "text": [
      "[1] \"NOTE: p-value computed only when side=T\"\n"
     ]
    },
    {
     "data": {
      "text/html": [
       "<dl>\n",
       "\t<dt>$ci</dt>\n",
       "\t\t<dd><ol class=list-inline>\n",
       "\t<li>-5.39929180980606</li>\n",
       "\t<li>17.8698612761537</li>\n",
       "</ol>\n",
       "</dd>\n",
       "\t<dt>$test.stat</dt>\n",
       "\t\t<dd>1.1936247628873</dd>\n",
       "\t<dt>$p.value</dt>\n",
       "\t\t<dd>NA</dd>\n",
       "\t<dt>$est.1</dt>\n",
       "\t\t<dd>46.75</dd>\n",
       "\t<dt>$est.2</dt>\n",
       "\t\t<dd>40</dd>\n",
       "\t<dt>$est.dif</dt>\n",
       "\t\t<dd>6.75</dd>\n",
       "\t<dt>$n1</dt>\n",
       "\t\t<dd>12</dd>\n",
       "\t<dt>$n2</dt>\n",
       "\t\t<dd>12</dd>\n",
       "</dl>\n"
      ],
      "text/latex": [
       "\\begin{description}\n",
       "\\item[\\$ci] \\begin{enumerate*}\n",
       "\\item -5.39929180980606\n",
       "\\item 17.8698612761537\n",
       "\\end{enumerate*}\n",
       "\n",
       "\\item[\\$test.stat] 1.1936247628873\n",
       "\\item[\\$p.value] NA\n",
       "\\item[\\$est.1] 46.75\n",
       "\\item[\\$est.2] 40\n",
       "\\item[\\$est.dif] 6.75\n",
       "\\item[\\$n1] 12\n",
       "\\item[\\$n2] 12\n",
       "\\end{description}\n"
      ],
      "text/markdown": [
       "$ci\n",
       ":   1. -5.39929180980606\n",
       "2. 17.8698612761537\n",
       "\n",
       "\n",
       "\n",
       "$test.stat\n",
       ":   1.1936247628873\n",
       "$p.value\n",
       ":   NA\n",
       "$est.1\n",
       ":   46.75\n",
       "$est.2\n",
       ":   40\n",
       "$est.dif\n",
       ":   6.75\n",
       "$n1\n",
       ":   12\n",
       "$n2\n",
       ":   12\n",
       "\n",
       "\n"
      ],
      "text/plain": [
       "$ci\n",
       "[1] -5.399292 17.869861\n",
       "\n",
       "$test.stat\n",
       "[1] 1.193625\n",
       "\n",
       "$p.value\n",
       "[1] NA\n",
       "\n",
       "$est.1\n",
       "[1] 46.75\n",
       "\n",
       "$est.2\n",
       "[1] 40\n",
       "\n",
       "$est.dif\n",
       "[1] 6.75\n",
       "\n",
       "$n1\n",
       "[1] 12\n",
       "\n",
       "$n2\n",
       "[1] 12\n"
      ]
     },
     "metadata": {},
     "output_type": "display_data"
    }
   ],
   "source": [
    "yuenbt(spiderWide$real, spiderWide$picture, nboot = 2000)"
   ]
  },
  {
   "cell_type": "code",
   "execution_count": 52,
   "metadata": {
    "collapsed": false
   },
   "outputs": [
    {
     "name": "stdout",
     "output_type": "stream",
     "text": [
      "[1] \"Taking bootstrap samples. Please wait.\"\n"
     ]
    },
    {
     "data": {
      "text/html": [
       "<dl>\n",
       "\t<dt>$est.1</dt>\n",
       "\t\t<dd>47</dd>\n",
       "\t<dt>$est.2</dt>\n",
       "\t\t<dd>40</dd>\n",
       "\t<dt>$est.dif</dt>\n",
       "\t\t<dd>7</dd>\n",
       "\t<dt>$ci</dt>\n",
       "\t\t<dd><ol class=list-inline>\n",
       "\t<li>-3.90909090909091</li>\n",
       "\t<li>17.25</li>\n",
       "</ol>\n",
       "</dd>\n",
       "\t<dt>$p.value</dt>\n",
       "\t\t<dd>0.2255</dd>\n",
       "\t<dt>$sq.se</dt>\n",
       "\t\t<dd>28.9248034753609</dd>\n",
       "\t<dt>$n1</dt>\n",
       "\t\t<dd>12</dd>\n",
       "\t<dt>$n2</dt>\n",
       "\t\t<dd>12</dd>\n",
       "</dl>\n"
      ],
      "text/latex": [
       "\\begin{description}\n",
       "\\item[\\$est.1] 47\n",
       "\\item[\\$est.2] 40\n",
       "\\item[\\$est.dif] 7\n",
       "\\item[\\$ci] \\begin{enumerate*}\n",
       "\\item -3.90909090909091\n",
       "\\item 17.25\n",
       "\\end{enumerate*}\n",
       "\n",
       "\\item[\\$p.value] 0.2255\n",
       "\\item[\\$sq.se] 28.9248034753609\n",
       "\\item[\\$n1] 12\n",
       "\\item[\\$n2] 12\n",
       "\\end{description}\n"
      ],
      "text/markdown": [
       "$est.1\n",
       ":   47\n",
       "$est.2\n",
       ":   40\n",
       "$est.dif\n",
       ":   7\n",
       "$ci\n",
       ":   1. -3.90909090909091\n",
       "2. 17.25\n",
       "\n",
       "\n",
       "\n",
       "$p.value\n",
       ":   0.2255\n",
       "$sq.se\n",
       ":   28.9248034753609\n",
       "$n1\n",
       ":   12\n",
       "$n2\n",
       ":   12\n",
       "\n",
       "\n"
      ],
      "text/plain": [
       "$est.1\n",
       "[1] 47\n",
       "\n",
       "$est.2\n",
       "[1] 40\n",
       "\n",
       "$est.dif\n",
       "[1] 7\n",
       "\n",
       "$ci\n",
       "[1] -3.909091 17.250000\n",
       "\n",
       "$p.value\n",
       "[1] 0.2255\n",
       "\n",
       "$sq.se\n",
       "[1] 28.9248\n",
       "\n",
       "$n1\n",
       "[1] 12\n",
       "\n",
       "$n2\n",
       "[1] 12\n"
      ]
     },
     "metadata": {},
     "output_type": "display_data"
    }
   ],
   "source": [
    "pb2gen(spiderWide$real, spiderWide$picture, alpha=.05, nboot=2000, est = mom) #m estimator"
   ]
  },
  {
   "cell_type": "markdown",
   "metadata": {},
   "source": [
    "#### Effect size "
   ]
  },
  {
   "cell_type": "code",
   "execution_count": 53,
   "metadata": {
    "collapsed": true
   },
   "outputs": [],
   "source": [
    "t<-ind.t.test$statistic[[1]]"
   ]
  },
  {
   "cell_type": "code",
   "execution_count": 54,
   "metadata": {
    "collapsed": false
   },
   "outputs": [
    {
     "data": {
      "text/html": [
       "1.68134561495341"
      ],
      "text/latex": [
       "1.68134561495341"
      ],
      "text/markdown": [
       "1.68134561495341"
      ],
      "text/plain": [
       "[1] 1.681346"
      ]
     },
     "metadata": {},
     "output_type": "display_data"
    }
   ],
   "source": [
    "t"
   ]
  },
  {
   "cell_type": "code",
   "execution_count": 55,
   "metadata": {
    "collapsed": true
   },
   "outputs": [],
   "source": [
    "df<-ind.t.test$parameter[[1]]"
   ]
  },
  {
   "cell_type": "code",
   "execution_count": 56,
   "metadata": {
    "collapsed": true
   },
   "outputs": [],
   "source": [
    "r <- sqrt(t^2/(t^2+df))"
   ]
  },
  {
   "cell_type": "code",
   "execution_count": 57,
   "metadata": {
    "collapsed": false,
    "scrolled": false
   },
   "outputs": [
    {
     "data": {
      "text/html": [
       "0.341697793555029"
      ],
      "text/latex": [
       "0.341697793555029"
      ],
      "text/markdown": [
       "0.341697793555029"
      ],
      "text/plain": [
       "[1] 0.3416978"
      ]
     },
     "metadata": {},
     "output_type": "display_data"
    }
   ],
   "source": [
    "r"
   ]
  },
  {
   "cell_type": "markdown",
   "metadata": {},
   "source": [
    "* Report the result"
   ]
  },
  {
   "cell_type": "markdown",
   "metadata": {},
   "source": [
    "On average, participants experienced greater anxiety from real spiders (M =\n",
    "47.00, SE = 3.18), than from pictures of spiders (M = 40.00, SE = 2.68).\n",
    "This difference was not significant t(21.39) = —1.68, p > .05; however, it\n",
    "did represent a medium-sized effect r = .34"
   ]
  },
  {
   "cell_type": "markdown",
   "metadata": {},
   "source": [
    "#### Steps for t-test"
   ]
  },
  {
   "cell_type": "markdown",
   "metadata": {},
   "source": [
    "* The independent t-test compares two means, when those means have come from different groups of\n",
    "entities; for example, if you have used different participants in each of two experimental conditions.\n",
    "* Look at the value labelled p-value. If the value is less than .05 then the means of the two groups are\n",
    "significantly different.\n",
    "* Look at the values of the means to tell you how the groups differ.\n",
    "Report the t-statistic, the degrees of freedom and the p-value. Also report the means and their\n",
    "corresponding standard errors (or draw an error bar chart).\n",
    "* Calculate and report the effect size."
   ]
  },
  {
   "cell_type": "code",
   "execution_count": 58,
   "metadata": {
    "collapsed": false
   },
   "outputs": [
    {
     "data": {
      "text/plain": [
       "\n",
       "\tPaired t-test\n",
       "\n",
       "data:  spiderWide$real and spiderWide$picture\n",
       "t = 2.4725, df = 11, p-value = 0.03098\n",
       "alternative hypothesis: true difference in means is not equal to 0\n",
       "95 percent confidence interval:\n",
       "  0.7687815 13.2312185\n",
       "sample estimates:\n",
       "mean of the differences \n",
       "                      7 \n"
      ]
     },
     "metadata": {},
     "output_type": "display_data"
    }
   ],
   "source": [
    "dep.t.test<-t.test(spiderWide$real, spiderWide$picture, paired = TRUE)\n",
    "dep.t.test"
   ]
  },
  {
   "cell_type": "code",
   "execution_count": 59,
   "metadata": {
    "collapsed": false
   },
   "outputs": [
    {
     "data": {
      "text/html": [
       "<dl>\n",
       "\t<dt>$ci</dt>\n",
       "\t\t<dd><ol class=list-inline>\n",
       "\t<li>-1.84381795448762</li>\n",
       "\t<li>15.3438179544876</li>\n",
       "</ol>\n",
       "</dd>\n",
       "\t<dt>$p.value</dt>\n",
       "\t\t<dd>0.105630836178616</dd>\n",
       "\t<dt>$est1</dt>\n",
       "\t\t<dd>46.75</dd>\n",
       "\t<dt>$est2</dt>\n",
       "\t\t<dd>40</dd>\n",
       "\t<dt>$dif</dt>\n",
       "\t\t<dd>6.75</dd>\n",
       "\t<dt>$se</dt>\n",
       "\t\t<dd>3.63432708122609</dd>\n",
       "\t<dt>$teststat</dt>\n",
       "\t\t<dd>1.85729018031112</dd>\n",
       "\t<dt>$n</dt>\n",
       "\t\t<dd>12</dd>\n",
       "\t<dt>$df</dt>\n",
       "\t\t<dd>7</dd>\n",
       "</dl>\n"
      ],
      "text/latex": [
       "\\begin{description}\n",
       "\\item[\\$ci] \\begin{enumerate*}\n",
       "\\item -1.84381795448762\n",
       "\\item 15.3438179544876\n",
       "\\end{enumerate*}\n",
       "\n",
       "\\item[\\$p.value] 0.105630836178616\n",
       "\\item[\\$est1] 46.75\n",
       "\\item[\\$est2] 40\n",
       "\\item[\\$dif] 6.75\n",
       "\\item[\\$se] 3.63432708122609\n",
       "\\item[\\$teststat] 1.85729018031112\n",
       "\\item[\\$n] 12\n",
       "\\item[\\$df] 7\n",
       "\\end{description}\n"
      ],
      "text/markdown": [
       "$ci\n",
       ":   1. -1.84381795448762\n",
       "2. 15.3438179544876\n",
       "\n",
       "\n",
       "\n",
       "$p.value\n",
       ":   0.105630836178616\n",
       "$est1\n",
       ":   46.75\n",
       "$est2\n",
       ":   40\n",
       "$dif\n",
       ":   6.75\n",
       "$se\n",
       ":   3.63432708122609\n",
       "$teststat\n",
       ":   1.85729018031112\n",
       "$n\n",
       ":   12\n",
       "$df\n",
       ":   7\n",
       "\n",
       "\n"
      ],
      "text/plain": [
       "$ci\n",
       "[1] -1.843818 15.343818\n",
       "\n",
       "$p.value\n",
       "[1] 0.1056308\n",
       "\n",
       "$est1\n",
       "[1] 46.75\n",
       "\n",
       "$est2\n",
       "[1] 40\n",
       "\n",
       "$dif\n",
       "[1] 6.75\n",
       "\n",
       "$se\n",
       "[1] 3.634327\n",
       "\n",
       "$teststat\n",
       "[1] 1.85729\n",
       "\n",
       "$n\n",
       "[1] 12\n",
       "\n",
       "$df\n",
       "[1] 7\n"
      ]
     },
     "metadata": {},
     "output_type": "display_data"
    }
   ],
   "source": [
    "yuend(spiderWide$real, spiderWide$picture)"
   ]
  },
  {
   "cell_type": "code",
   "execution_count": null,
   "metadata": {
    "collapsed": true
   },
   "outputs": [],
   "source": []
  }
 ],
 "metadata": {
  "kernelspec": {
   "display_name": "R",
   "language": "R",
   "name": "ir"
  },
  "language_info": {
   "codemirror_mode": "r",
   "file_extension": ".r",
   "mimetype": "text/x-r-source",
   "name": "R",
   "pygments_lexer": "r",
   "version": "3.3.0"
  }
 },
 "nbformat": 4,
 "nbformat_minor": 0
}
