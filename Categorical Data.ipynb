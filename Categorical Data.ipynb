{
 "cells": [
  {
   "cell_type": "markdown",
   "metadata": {},
   "source": [
    "<h2 align = \"center\"> Categorical Variables </h2>"
   ]
  },
  {
   "cell_type": "markdown",
   "metadata": {},
   "source": [
    "### Some Key Terms\n",
    "* Chi-squared test: Still think of the (observed-model)^2/model(Expected frequencies should be greater than 5) and the standardized residual will be (observed - model)/sqrt(model)\n",
    "* Fisher exact test: When the sample is small \n",
    "* The likelihood ratio: 2* sum(observed*ln(observed/model)) [Chi-squared distribution]\n",
    "* Yates correction: Chi square tend to have a small significance value which makes it easier to reject null and make type 1 error. \n",
    "* "
   ]
  },
  {
   "cell_type": "markdown",
   "metadata": {},
   "source": [
    "### Chi-square test"
   ]
  },
  {
   "cell_type": "markdown",
   "metadata": {},
   "source": [
    "* If you want to test the relationship between two categorical variables you can do this with the chi-square\n",
    "test.\n",
    "* Look at the value of the chi-squared test; if the p-value is less than .05 then there is a significant\n",
    "relationship between your two variables.\n",
    "* Check to make sure that no expected frequencies are less than 5.\n",
    "* Look at the crosstabulation table to work out what the relationship between the variables is. Better still,\n",
    "* look out for significant standardized residuals (values outside of ±1.96), and calculate the odds ratio.\n",
    "Report the χ2 statistic, the degrees of freedom and the significance value. Also report the contingency\n",
    "table."
   ]
  },
  {
   "cell_type": "code",
   "execution_count": 1,
   "metadata": {
    "collapsed": true
   },
   "outputs": [],
   "source": [
    "#------And then load these packages, along with the boot package.-----\n",
    "\n",
    "library(gmodels)\n",
    "library(MASS)\n",
    "\n",
    "\n",
    "#********************* Chi-Square Example ********************\n",
    "\n",
    "#Enter raw data\n",
    "\n",
    "Training<-c(rep(0, 38), rep(1, 162))\n",
    "Dance<-c(rep(1, 10), rep(0, 28),  rep(1, 114), rep(0, 48))\n",
    "\n",
    "Training<-factor(Training, labels = c(\"Food as Reward\", \"Affection as Reward\"))\n",
    "Dance<-factor(Dance, labels = c(\"No\", \"Yes\"))\n",
    "\n",
    "catsData<-data.frame(Training, Dance)"
   ]
  },
  {
   "cell_type": "code",
   "execution_count": 4,
   "metadata": {
    "collapsed": true
   },
   "outputs": [],
   "source": [
    "food <- c(10, 28)\n",
    "affection <- c(114, 48)\n",
    "catsTable <- cbind(food, affection) #so the predictor is the column name and the outcome is the row name"
   ]
  },
  {
   "cell_type": "markdown",
   "metadata": {},
   "source": [
    "<h3><font color = \"red\"> chi-squared test has two ways to enter the table to the test. One use x = m$preditor, y = m$outcome so you should melt the data in a way to handle this or use the table directly the predictor is the column name and the outcome is the rowname. \n",
    "\n",
    "But in the corss table restult, the column name is the outcome but the row name is the predictor<font>"
   ]
  },
  {
   "cell_type": "code",
   "execution_count": 5,
   "metadata": {
    "collapsed": false
   },
   "outputs": [
    {
     "data": {
      "text/html": [
       "<table>\n",
       "<thead><tr><th scope=col>food</th><th scope=col>affection</th></tr></thead>\n",
       "<tbody>\n",
       "\t<tr><td> 10</td><td>114</td></tr>\n",
       "\t<tr><td>28</td><td>48</td></tr>\n",
       "</tbody>\n",
       "</table>\n"
      ],
      "text/latex": [
       "\\begin{tabular}{ll}\n",
       " food & affection\\\\\n",
       "\\hline\n",
       "\t  10 & 114\\\\\n",
       "\t 28 & 48\\\\\n",
       "\\end{tabular}\n"
      ],
      "text/markdown": [
       "1. 10\n",
       "2. 28\n",
       "3. 114\n",
       "4. 48\n",
       "\n",
       "\n"
      ],
      "text/plain": [
       "     food affection\n",
       "[1,]   10       114\n",
       "[2,]   28        48"
      ]
     },
     "metadata": {},
     "output_type": "display_data"
    }
   ],
   "source": [
    "head(catsTable)"
   ]
  },
  {
   "cell_type": "code",
   "execution_count": 2,
   "metadata": {
    "collapsed": false
   },
   "outputs": [
    {
     "data": {
      "text/html": [
       "<table>\n",
       "<thead><tr><th></th><th scope=col>Training</th><th scope=col>Dance</th></tr></thead>\n",
       "<tbody>\n",
       "\t<tr><th scope=row>1</th><td>Food as Reward</td><td>Yes           </td></tr>\n",
       "\t<tr><th scope=row>2</th><td>Food as Reward</td><td>Yes           </td></tr>\n",
       "\t<tr><th scope=row>3</th><td>Food as Reward</td><td>Yes           </td></tr>\n",
       "\t<tr><th scope=row>4</th><td>Food as Reward</td><td>Yes           </td></tr>\n",
       "\t<tr><th scope=row>5</th><td>Food as Reward</td><td>Yes           </td></tr>\n",
       "\t<tr><th scope=row>6</th><td>Food as Reward</td><td>Yes           </td></tr>\n",
       "</tbody>\n",
       "</table>\n"
      ],
      "text/latex": [
       "\\begin{tabular}{r|ll}\n",
       "  & Training & Dance\\\\\n",
       "\\hline\n",
       "\t1 & Food as Reward & Yes           \\\\\n",
       "\t2 & Food as Reward & Yes           \\\\\n",
       "\t3 & Food as Reward & Yes           \\\\\n",
       "\t4 & Food as Reward & Yes           \\\\\n",
       "\t5 & Food as Reward & Yes           \\\\\n",
       "\t6 & Food as Reward & Yes           \\\\\n",
       "\\end{tabular}\n"
      ],
      "text/plain": [
       "        Training Dance\n",
       "1 Food as Reward   Yes\n",
       "2 Food as Reward   Yes\n",
       "3 Food as Reward   Yes\n",
       "4 Food as Reward   Yes\n",
       "5 Food as Reward   Yes\n",
       "6 Food as Reward   Yes"
      ]
     },
     "metadata": {},
     "output_type": "display_data"
    }
   ],
   "source": [
    "head(catsData)"
   ]
  },
  {
   "cell_type": "code",
   "execution_count": null,
   "metadata": {
    "collapsed": true
   },
   "outputs": [],
   "source": [
    "#Do the chi-square test\n",
    "\n",
    "# CrossTable(predictor, outcome, fisher = TRUE, chisq = TRUE, expected = TRUE) #see the expected values of each cell of the contingency table\n",
    "# CrossTable(contingencyTable, fisher = TRUE, chisq = TRUE, expected = TRUE)"
   ]
  },
  {
   "cell_type": "code",
   "execution_count": 7,
   "metadata": {
    "collapsed": false
   },
   "outputs": [
    {
     "name": "stdout",
     "output_type": "stream",
     "text": [
      "\n",
      "   Cell Contents\n",
      "|-------------------------|\n",
      "|                   Count |\n",
      "|         Expected Values |\n",
      "| Chi-square contribution |\n",
      "|             Row Percent |\n",
      "|          Column Percent |\n",
      "|           Total Percent |\n",
      "|            Std Residual |\n",
      "|-------------------------|\n",
      "\n",
      "Total Observations in Table:  200 \n",
      "\n",
      "                    | catsData$Dance \n",
      "  catsData$Training |       No  |      Yes  | Row Total | \n",
      "--------------------|-----------|-----------|-----------|\n",
      "     Food as Reward |       28  |       10  |       38  | \n",
      "                    |   14.440  |   23.560  |           | \n",
      "                    |   12.734  |    7.804  |           | \n",
      "                    |   73.684% |   26.316% |   19.000% | \n",
      "                    |   36.842% |    8.065% |           | \n",
      "                    |   14.000% |    5.000% |           | \n",
      "                    |    3.568  |   -2.794  |           | \n",
      "--------------------|-----------|-----------|-----------|\n",
      "Affection as Reward |       48  |      114  |      162  | \n",
      "                    |   61.560  |  100.440  |           | \n",
      "                    |    2.987  |    1.831  |           | \n",
      "                    |   29.630% |   70.370% |   81.000% | \n",
      "                    |   63.158% |   91.935% |           | \n",
      "                    |   24.000% |   57.000% |           | \n",
      "                    |   -1.728  |    1.353  |           | \n",
      "--------------------|-----------|-----------|-----------|\n",
      "       Column Total |       76  |      124  |      200  | \n",
      "                    |   38.000% |   62.000% |           | \n",
      "--------------------|-----------|-----------|-----------|\n",
      "\n",
      " \n",
      "Statistics for All Table Factors\n",
      "\n",
      "\n",
      "Pearson's Chi-squared test \n",
      "------------------------------------------------------------\n",
      "Chi^2 =  25.35569     d.f. =  1     p =  4.767434e-07 \n",
      "\n",
      "Pearson's Chi-squared test with Yates' continuity correction \n",
      "------------------------------------------------------------\n",
      "Chi^2 =  23.52028     d.f. =  1     p =  1.236041e-06 \n",
      "\n",
      " \n",
      "Fisher's Exact Test for Count Data\n",
      "------------------------------------------------------------\n",
      "Sample estimate odds ratio:  6.579265 \n",
      "\n",
      "Alternative hypothesis: true odds ratio is not equal to 1\n",
      "p =  1.311709e-06 \n",
      "95% confidence interval:  2.837773 16.42969 \n",
      "\n",
      "Alternative hypothesis: true odds ratio is less than 1\n",
      "p =  0.9999999 \n",
      "95% confidence interval:  0 14.25436 \n",
      "\n",
      "Alternative hypothesis: true odds ratio is greater than 1\n",
      "p =  7.7122e-07 \n",
      "95% confidence interval:  3.193221 Inf \n",
      "\n",
      "\n",
      " \n",
      "       Minimum expected frequency: 14.44 \n",
      "\n"
     ]
    }
   ],
   "source": [
    "CrossTable(catsData$Training, catsData$Dance, fisher = TRUE, chisq = TRUE, expected = TRUE, sresid = TRUE, format = \"SPSS\")"
   ]
  },
  {
   "cell_type": "code",
   "execution_count": null,
   "metadata": {
    "collapsed": true
   },
   "outputs": [],
   "source": [
    "CrossTable(catsTable, fisher = TRUE, chisq = TRUE, expected = TRUE, sresid = TRUE, format = \"SPSS\")"
   ]
  },
  {
   "cell_type": "code",
   "execution_count": 9,
   "metadata": {
    "collapsed": false
   },
   "outputs": [
    {
     "name": "stdout",
     "output_type": "stream",
     "text": [
      "\n",
      "   Cell Contents\n",
      "|-------------------------|\n",
      "|                   Count |\n",
      "|         Expected Values |\n",
      "|             Row Percent |\n",
      "|            Std Residual |\n",
      "|-------------------------|\n",
      "\n",
      "Total Observations in Table:  200 \n",
      "\n",
      "                    | catsData$Dance \n",
      "  catsData$Training |       No  |      Yes  | Row Total | \n",
      "--------------------|-----------|-----------|-----------|\n",
      "     Food as Reward |       28  |       10  |       38  | \n",
      "                    |   14.440  |   23.560  |           | \n",
      "                    |   73.684% |   26.316% |   19.000% | \n",
      "                    |    3.568  |   -2.794  |           | \n",
      "--------------------|-----------|-----------|-----------|\n",
      "Affection as Reward |       48  |      114  |      162  | \n",
      "                    |   61.560  |  100.440  |           | \n",
      "                    |   29.630% |   70.370% |   81.000% | \n",
      "                    |   -1.728  |    1.353  |           | \n",
      "--------------------|-----------|-----------|-----------|\n",
      "       Column Total |       76  |      124  |      200  | \n",
      "--------------------|-----------|-----------|-----------|\n",
      "\n",
      " \n",
      "Statistics for All Table Factors\n",
      "\n",
      "\n",
      "Pearson's Chi-squared test \n",
      "------------------------------------------------------------\n",
      "Chi^2 =  25.35569     d.f. =  1     p =  4.767434e-07 \n",
      "\n",
      "Pearson's Chi-squared test with Yates' continuity correction \n",
      "------------------------------------------------------------\n",
      "Chi^2 =  23.52028     d.f. =  1     p =  1.236041e-06 \n",
      "\n",
      " \n",
      "Fisher's Exact Test for Count Data\n",
      "------------------------------------------------------------\n",
      "Sample estimate odds ratio:  6.579265 \n",
      "\n",
      "Alternative hypothesis: true odds ratio is not equal to 1\n",
      "p =  1.311709e-06 \n",
      "95% confidence interval:  2.837773 16.42969 \n",
      "\n",
      "Alternative hypothesis: true odds ratio is less than 1\n",
      "p =  0.9999999 \n",
      "95% confidence interval:  0 14.25436 \n",
      "\n",
      "Alternative hypothesis: true odds ratio is greater than 1\n",
      "p =  7.7122e-07 \n",
      "95% confidence interval:  3.193221 Inf \n",
      "\n",
      "\n",
      " \n",
      "       Minimum expected frequency: 14.44 \n",
      "\n"
     ]
    }
   ],
   "source": [
    "CrossTable(catsData$Training, catsData$Dance, fisher = TRUE, chisq = TRUE, expected = TRUE, prop.c = FALSE, prop.t = FALSE, \n",
    "           prop.chisq = FALSE,  sresid = TRUE, format = \"SPSS\") "
   ]
  },
  {
   "cell_type": "markdown",
   "metadata": {},
   "source": [
    "* Standardized residual can be used as the decomposition of the chi-squared statistics/each one is a z-score. We can assess the significance \n",
    "* when food was used as a reward significantly more cats than expected danced, and significantly fewer cats than expected did not dance\n",
    "* the cells for when food was used as a reward both significantly contribute to the overall chi-square statistic. Put another way, the association between the type of reward and dancing is mainly driven by when food is a reward."
   ]
  },
  {
   "cell_type": "markdown",
   "metadata": {},
   "source": [
    "* The odds ratio is the odds of dancing after food divided by the odds of dancing after affection\n",
    "* the confidence interval does not cross 1. Remember that a value of 1 means that the odds of\n",
    "dancing after food would be exactly the same as dancing after affection, a value less than 1 means\n",
    "that the odds of dancing are smaller after food than after affection, and a value greater than 1 means\n",
    "that the odds of dancing are greater after food than after affection. Therefore, a 1 is the point at\n",
    "which the direction of the effect changes."
   ]
  },
  {
   "cell_type": "code",
   "execution_count": 10,
   "metadata": {
    "collapsed": false
   },
   "outputs": [
    {
     "name": "stderr",
     "output_type": "stream",
     "text": [
      "Warning message:\n",
      "In file(file, \"rt\"): cannot open file 'E:/Personal/InterviewQuestion/Rscripts/LearningStatistics/Cat Regression.dat': No such file or directory"
     ]
    },
    {
     "ename": "ERROR",
     "evalue": "Error in file(file, \"rt\"): cannot open the connection\n",
     "output_type": "error",
     "traceback": [
      "Error in file(file, \"rt\"): cannot open the connection\nTraceback:\n",
      "1. read.delim(\"E:/Personal/InterviewQuestion/Rscripts/LearningStatistics/Cat Regression.dat\", \n .     header = TRUE)",
      "2. read.table(file = file, header = header, sep = sep, quote = quote, \n .     dec = dec, fill = fill, comment.char = comment.char, ...)",
      "3. file(file, \"rt\")"
     ]
    }
   ],
   "source": [
    "#********************* Loglinear Example ********************\n",
    "#Self test\n",
    "\n",
    "catsRegression<-read.delim(\"E:/Personal/InterviewQuestion/Rscripts/LearningStatistics/Cat Regression.dat\", header = TRUE)\n",
    "\n",
    "catModel<-lm(LnObserved ~ Training + Dance + Interaction, data = catsRegression)\n",
    "summary(catModel)"
   ]
  },
  {
   "cell_type": "code",
   "execution_count": null,
   "metadata": {
    "collapsed": true
   },
   "outputs": [],
   "source": [
    "#Self test\n",
    "\n",
    "catsRegression<-read.delim(\"Cat Regression.dat\", header = TRUE)\n",
    "\n",
    "catModel2<-lm(LNExpected ~ Training + Dance, data = catsRegression)\n",
    "summary(catModel2)"
   ]
  },
  {
   "cell_type": "code",
   "execution_count": 13,
   "metadata": {
    "collapsed": false,
    "scrolled": true
   },
   "outputs": [
    {
     "data": {
      "text/html": [
       "<table>\n",
       "<thead><tr><th></th><th scope=col>Animal</th><th scope=col>Training</th><th scope=col>Dance</th></tr></thead>\n",
       "<tbody>\n",
       "\t<tr><th scope=row>1</th><td>Cat           </td><td>Food as Reward</td><td>Yes           </td></tr>\n",
       "\t<tr><th scope=row>2</th><td>Cat           </td><td>Food as Reward</td><td>Yes           </td></tr>\n",
       "\t<tr><th scope=row>3</th><td>Cat           </td><td>Food as Reward</td><td>Yes           </td></tr>\n",
       "\t<tr><th scope=row>4</th><td>Cat           </td><td>Food as Reward</td><td>Yes           </td></tr>\n",
       "\t<tr><th scope=row>5</th><td>Cat           </td><td>Food as Reward</td><td>Yes           </td></tr>\n",
       "\t<tr><th scope=row>6</th><td>Cat           </td><td>Food as Reward</td><td>Yes           </td></tr>\n",
       "\t<tr><th scope=row>7</th><td>Cat           </td><td>Food as Reward</td><td>Yes           </td></tr>\n",
       "\t<tr><th scope=row>8</th><td>Cat           </td><td>Food as Reward</td><td>Yes           </td></tr>\n",
       "\t<tr><th scope=row>9</th><td>Cat           </td><td>Food as Reward</td><td>Yes           </td></tr>\n",
       "\t<tr><th scope=row>10</th><td>Cat           </td><td>Food as Reward</td><td>Yes           </td></tr>\n",
       "\t<tr><th scope=row>11</th><td>Cat           </td><td>Food as Reward</td><td>Yes           </td></tr>\n",
       "\t<tr><th scope=row>12</th><td>Cat           </td><td>Food as Reward</td><td>Yes           </td></tr>\n",
       "\t<tr><th scope=row>13</th><td>Cat           </td><td>Food as Reward</td><td>Yes           </td></tr>\n",
       "\t<tr><th scope=row>14</th><td>Cat           </td><td>Food as Reward</td><td>Yes           </td></tr>\n",
       "\t<tr><th scope=row>15</th><td>Cat           </td><td>Food as Reward</td><td>Yes           </td></tr>\n",
       "\t<tr><th scope=row>16</th><td>Cat           </td><td>Food as Reward</td><td>Yes           </td></tr>\n",
       "\t<tr><th scope=row>17</th><td>Cat           </td><td>Food as Reward</td><td>Yes           </td></tr>\n",
       "\t<tr><th scope=row>18</th><td>Cat           </td><td>Food as Reward</td><td>Yes           </td></tr>\n",
       "\t<tr><th scope=row>19</th><td>Cat           </td><td>Food as Reward</td><td>Yes           </td></tr>\n",
       "\t<tr><th scope=row>20</th><td>Cat           </td><td>Food as Reward</td><td>Yes           </td></tr>\n",
       "\t<tr><th scope=row>21</th><td>Cat           </td><td>Food as Reward</td><td>Yes           </td></tr>\n",
       "\t<tr><th scope=row>22</th><td>Cat           </td><td>Food as Reward</td><td>Yes           </td></tr>\n",
       "\t<tr><th scope=row>23</th><td>Cat           </td><td>Food as Reward</td><td>Yes           </td></tr>\n",
       "\t<tr><th scope=row>24</th><td>Cat           </td><td>Food as Reward</td><td>Yes           </td></tr>\n",
       "\t<tr><th scope=row>25</th><td>Cat           </td><td>Food as Reward</td><td>Yes           </td></tr>\n",
       "\t<tr><th scope=row>26</th><td>Cat           </td><td>Food as Reward</td><td>Yes           </td></tr>\n",
       "\t<tr><th scope=row>27</th><td>Cat           </td><td>Food as Reward</td><td>Yes           </td></tr>\n",
       "\t<tr><th scope=row>28</th><td>Cat           </td><td>Food as Reward</td><td>Yes           </td></tr>\n",
       "\t<tr><th scope=row>29</th><td>Cat           </td><td>Food as Reward</td><td>No            </td></tr>\n",
       "\t<tr><th scope=row>30</th><td>Cat           </td><td>Food as Reward</td><td>No            </td></tr>\n",
       "\t<tr><th scope=row>...</th><td>...</td><td>...</td><td>...</td></tr>\n",
       "\t<tr><th scope=row>241</th><td>Dog                </td><td>Affection as Reward</td><td>Yes                </td></tr>\n",
       "\t<tr><th scope=row>242</th><td>Dog                </td><td>Affection as Reward</td><td>Yes                </td></tr>\n",
       "\t<tr><th scope=row>243</th><td>Dog                </td><td>Affection as Reward</td><td>Yes                </td></tr>\n",
       "\t<tr><th scope=row>244</th><td>Dog                </td><td>Affection as Reward</td><td>Yes                </td></tr>\n",
       "\t<tr><th scope=row>245</th><td>Dog                </td><td>Affection as Reward</td><td>Yes                </td></tr>\n",
       "\t<tr><th scope=row>246</th><td>Dog                </td><td>Affection as Reward</td><td>Yes                </td></tr>\n",
       "\t<tr><th scope=row>247</th><td>Dog                </td><td>Affection as Reward</td><td>Yes                </td></tr>\n",
       "\t<tr><th scope=row>248</th><td>Dog                </td><td>Affection as Reward</td><td>Yes                </td></tr>\n",
       "\t<tr><th scope=row>249</th><td>Dog                </td><td>Affection as Reward</td><td>Yes                </td></tr>\n",
       "\t<tr><th scope=row>250</th><td>Dog                </td><td>Affection as Reward</td><td>Yes                </td></tr>\n",
       "\t<tr><th scope=row>251</th><td>Dog                </td><td>Affection as Reward</td><td>Yes                </td></tr>\n",
       "\t<tr><th scope=row>252</th><td>Dog                </td><td>Affection as Reward</td><td>Yes                </td></tr>\n",
       "\t<tr><th scope=row>253</th><td>Dog                </td><td>Affection as Reward</td><td>Yes                </td></tr>\n",
       "\t<tr><th scope=row>254</th><td>Dog                </td><td>Affection as Reward</td><td>Yes                </td></tr>\n",
       "\t<tr><th scope=row>255</th><td>Dog                </td><td>Affection as Reward</td><td>Yes                </td></tr>\n",
       "\t<tr><th scope=row>256</th><td>Dog                </td><td>Affection as Reward</td><td>Yes                </td></tr>\n",
       "\t<tr><th scope=row>257</th><td>Dog                </td><td>Affection as Reward</td><td>Yes                </td></tr>\n",
       "\t<tr><th scope=row>258</th><td>Dog                </td><td>Affection as Reward</td><td>Yes                </td></tr>\n",
       "\t<tr><th scope=row>259</th><td>Dog                </td><td>Affection as Reward</td><td>Yes                </td></tr>\n",
       "\t<tr><th scope=row>260</th><td>Dog                </td><td>Affection as Reward</td><td>Yes                </td></tr>\n",
       "\t<tr><th scope=row>261</th><td>Dog                </td><td>Affection as Reward</td><td>Yes                </td></tr>\n",
       "\t<tr><th scope=row>262</th><td>Dog                </td><td>Affection as Reward</td><td>Yes                </td></tr>\n",
       "\t<tr><th scope=row>263</th><td>Dog                </td><td>Affection as Reward</td><td>Yes                </td></tr>\n",
       "\t<tr><th scope=row>264</th><td>Dog                </td><td>Affection as Reward</td><td>No                 </td></tr>\n",
       "\t<tr><th scope=row>265</th><td>Dog                </td><td>Affection as Reward</td><td>No                 </td></tr>\n",
       "\t<tr><th scope=row>266</th><td>Dog                </td><td>Affection as Reward</td><td>No                 </td></tr>\n",
       "\t<tr><th scope=row>267</th><td>Dog                </td><td>Affection as Reward</td><td>No                 </td></tr>\n",
       "\t<tr><th scope=row>268</th><td>Dog                </td><td>Affection as Reward</td><td>No                 </td></tr>\n",
       "\t<tr><th scope=row>269</th><td>Dog                </td><td>Affection as Reward</td><td>No                 </td></tr>\n",
       "\t<tr><th scope=row>270</th><td>Dog                </td><td>Affection as Reward</td><td>No                 </td></tr>\n",
       "</tbody>\n",
       "</table>\n"
      ],
      "text/latex": [
       "\\begin{tabular}{r|lll}\n",
       "  & Animal & Training & Dance\\\\\n",
       "\\hline\n",
       "\t1 & Cat            & Food as Reward & Yes           \\\\\n",
       "\t2 & Cat            & Food as Reward & Yes           \\\\\n",
       "\t3 & Cat            & Food as Reward & Yes           \\\\\n",
       "\t4 & Cat            & Food as Reward & Yes           \\\\\n",
       "\t5 & Cat            & Food as Reward & Yes           \\\\\n",
       "\t6 & Cat            & Food as Reward & Yes           \\\\\n",
       "\t7 & Cat            & Food as Reward & Yes           \\\\\n",
       "\t8 & Cat            & Food as Reward & Yes           \\\\\n",
       "\t9 & Cat            & Food as Reward & Yes           \\\\\n",
       "\t10 & Cat            & Food as Reward & Yes           \\\\\n",
       "\t11 & Cat            & Food as Reward & Yes           \\\\\n",
       "\t12 & Cat            & Food as Reward & Yes           \\\\\n",
       "\t13 & Cat            & Food as Reward & Yes           \\\\\n",
       "\t14 & Cat            & Food as Reward & Yes           \\\\\n",
       "\t15 & Cat            & Food as Reward & Yes           \\\\\n",
       "\t16 & Cat            & Food as Reward & Yes           \\\\\n",
       "\t17 & Cat            & Food as Reward & Yes           \\\\\n",
       "\t18 & Cat            & Food as Reward & Yes           \\\\\n",
       "\t19 & Cat            & Food as Reward & Yes           \\\\\n",
       "\t20 & Cat            & Food as Reward & Yes           \\\\\n",
       "\t21 & Cat            & Food as Reward & Yes           \\\\\n",
       "\t22 & Cat            & Food as Reward & Yes           \\\\\n",
       "\t23 & Cat            & Food as Reward & Yes           \\\\\n",
       "\t24 & Cat            & Food as Reward & Yes           \\\\\n",
       "\t25 & Cat            & Food as Reward & Yes           \\\\\n",
       "\t26 & Cat            & Food as Reward & Yes           \\\\\n",
       "\t27 & Cat            & Food as Reward & Yes           \\\\\n",
       "\t28 & Cat            & Food as Reward & Yes           \\\\\n",
       "\t29 & Cat            & Food as Reward & No            \\\\\n",
       "\t30 & Cat            & Food as Reward & No            \\\\\n",
       "\t... & ... & ... & ...\\\\\n",
       "\t241 & Dog                 & Affection as Reward & Yes                \\\\\n",
       "\t242 & Dog                 & Affection as Reward & Yes                \\\\\n",
       "\t243 & Dog                 & Affection as Reward & Yes                \\\\\n",
       "\t244 & Dog                 & Affection as Reward & Yes                \\\\\n",
       "\t245 & Dog                 & Affection as Reward & Yes                \\\\\n",
       "\t246 & Dog                 & Affection as Reward & Yes                \\\\\n",
       "\t247 & Dog                 & Affection as Reward & Yes                \\\\\n",
       "\t248 & Dog                 & Affection as Reward & Yes                \\\\\n",
       "\t249 & Dog                 & Affection as Reward & Yes                \\\\\n",
       "\t250 & Dog                 & Affection as Reward & Yes                \\\\\n",
       "\t251 & Dog                 & Affection as Reward & Yes                \\\\\n",
       "\t252 & Dog                 & Affection as Reward & Yes                \\\\\n",
       "\t253 & Dog                 & Affection as Reward & Yes                \\\\\n",
       "\t254 & Dog                 & Affection as Reward & Yes                \\\\\n",
       "\t255 & Dog                 & Affection as Reward & Yes                \\\\\n",
       "\t256 & Dog                 & Affection as Reward & Yes                \\\\\n",
       "\t257 & Dog                 & Affection as Reward & Yes                \\\\\n",
       "\t258 & Dog                 & Affection as Reward & Yes                \\\\\n",
       "\t259 & Dog                 & Affection as Reward & Yes                \\\\\n",
       "\t260 & Dog                 & Affection as Reward & Yes                \\\\\n",
       "\t261 & Dog                 & Affection as Reward & Yes                \\\\\n",
       "\t262 & Dog                 & Affection as Reward & Yes                \\\\\n",
       "\t263 & Dog                 & Affection as Reward & Yes                \\\\\n",
       "\t264 & Dog                 & Affection as Reward & No                 \\\\\n",
       "\t265 & Dog                 & Affection as Reward & No                 \\\\\n",
       "\t266 & Dog                 & Affection as Reward & No                 \\\\\n",
       "\t267 & Dog                 & Affection as Reward & No                 \\\\\n",
       "\t268 & Dog                 & Affection as Reward & No                 \\\\\n",
       "\t269 & Dog                 & Affection as Reward & No                 \\\\\n",
       "\t270 & Dog                 & Affection as Reward & No                 \\\\\n",
       "\\end{tabular}\n"
      ],
      "text/plain": [
       "    Animal            Training Dance\n",
       "1      Cat      Food as Reward   Yes\n",
       "2      Cat      Food as Reward   Yes\n",
       "3      Cat      Food as Reward   Yes\n",
       "4      Cat      Food as Reward   Yes\n",
       "5      Cat      Food as Reward   Yes\n",
       "6      Cat      Food as Reward   Yes\n",
       "7      Cat      Food as Reward   Yes\n",
       "8      Cat      Food as Reward   Yes\n",
       "9      Cat      Food as Reward   Yes\n",
       "10     Cat      Food as Reward   Yes\n",
       "11     Cat      Food as Reward   Yes\n",
       "12     Cat      Food as Reward   Yes\n",
       "13     Cat      Food as Reward   Yes\n",
       "14     Cat      Food as Reward   Yes\n",
       "15     Cat      Food as Reward   Yes\n",
       "16     Cat      Food as Reward   Yes\n",
       "17     Cat      Food as Reward   Yes\n",
       "18     Cat      Food as Reward   Yes\n",
       "19     Cat      Food as Reward   Yes\n",
       "20     Cat      Food as Reward   Yes\n",
       "21     Cat      Food as Reward   Yes\n",
       "22     Cat      Food as Reward   Yes\n",
       "23     Cat      Food as Reward   Yes\n",
       "24     Cat      Food as Reward   Yes\n",
       "25     Cat      Food as Reward   Yes\n",
       "26     Cat      Food as Reward   Yes\n",
       "27     Cat      Food as Reward   Yes\n",
       "28     Cat      Food as Reward   Yes\n",
       "29     Cat      Food as Reward    No\n",
       "30     Cat      Food as Reward    No\n",
       "...    ...                 ...   ...\n",
       "241    Dog Affection as Reward   Yes\n",
       "242    Dog Affection as Reward   Yes\n",
       "243    Dog Affection as Reward   Yes\n",
       "244    Dog Affection as Reward   Yes\n",
       "245    Dog Affection as Reward   Yes\n",
       "246    Dog Affection as Reward   Yes\n",
       "247    Dog Affection as Reward   Yes\n",
       "248    Dog Affection as Reward   Yes\n",
       "249    Dog Affection as Reward   Yes\n",
       "250    Dog Affection as Reward   Yes\n",
       "251    Dog Affection as Reward   Yes\n",
       "252    Dog Affection as Reward   Yes\n",
       "253    Dog Affection as Reward   Yes\n",
       "254    Dog Affection as Reward   Yes\n",
       "255    Dog Affection as Reward   Yes\n",
       "256    Dog Affection as Reward   Yes\n",
       "257    Dog Affection as Reward   Yes\n",
       "258    Dog Affection as Reward   Yes\n",
       "259    Dog Affection as Reward   Yes\n",
       "260    Dog Affection as Reward   Yes\n",
       "261    Dog Affection as Reward   Yes\n",
       "262    Dog Affection as Reward   Yes\n",
       "263    Dog Affection as Reward   Yes\n",
       "264    Dog Affection as Reward    No\n",
       "265    Dog Affection as Reward    No\n",
       "266    Dog Affection as Reward    No\n",
       "267    Dog Affection as Reward    No\n",
       "268    Dog Affection as Reward    No\n",
       "269    Dog Affection as Reward    No\n",
       "270    Dog Affection as Reward    No"
      ]
     },
     "metadata": {},
     "output_type": "display_data"
    }
   ],
   "source": [
    "#chi-square as Loglinear analysis\n",
    "catsDogs <- read.delim(\"E:/Personal/InterviewQuestion/Rscripts/LearningStatistics/CatsandDogs.dat\", header = TRUE)\n",
    "catsDogs"
   ]
  },
  {
   "cell_type": "code",
   "execution_count": null,
   "metadata": {
    "collapsed": true
   },
   "outputs": [],
   "source": [
    "ln(Observed_ij) = b0 + b1*X1 + b2*X2+ b3*X1*x2\n",
    "ln(Expected_ij) = b0 + b1*X1 + b2*X2 #assume independence"
   ]
  },
  {
   "cell_type": "code",
   "execution_count": null,
   "metadata": {
    "collapsed": true
   },
   "outputs": [],
   "source": [
    "table(catsDogs$Animal, catsDogs$Training, catsDogs$Dance)"
   ]
  },
  {
   "cell_type": "code",
   "execution_count": 15,
   "metadata": {
    "collapsed": false
   },
   "outputs": [
    {
     "data": {
      "text/plain": [
       ", , Dance = No\n",
       "\n",
       "      Training\n",
       "Animal Affection as Reward Food as Reward\n",
       "   Cat                 114             10\n",
       "   Dog                   7             14\n",
       "\n",
       ", , Dance = Yes\n",
       "\n",
       "      Training\n",
       "Animal Affection as Reward Food as Reward\n",
       "   Cat                  48             28\n",
       "   Dog                  29             20\n"
      ]
     },
     "metadata": {},
     "output_type": "display_data"
    }
   ],
   "source": [
    "xtabs(~Animal + Training + Dance, data = catsDogs) #generate contingent table"
   ]
  },
  {
   "cell_type": "code",
   "execution_count": null,
   "metadata": {
    "collapsed": true
   },
   "outputs": [],
   "source": [
    "justCats = subset(catsDogs, Animal==\"Cat\")\n",
    "justDogs = subset(catsDogs, Animal==\"Dog\")\n",
    "\n",
    "\n",
    "catTable<-xtabs(~ Training + Dance, data = justCats)\n",
    "CrossTable(justCats$Training, justCats$Dance, sresid = TRUE, prop.t=FALSE, prop.c=FALSE, prop.chisq=FALSE, format = \"SPSS\")\n",
    "CrossTable(justDogs$Training, justDogs$Dance, sresid = TRUE, prop.t=FALSE, prop.c=FALSE, prop.chisq=FALSE, format = \"SPSS\")\n",
    "\n",
    "\n",
    "catSaturated<-loglm(~ Training + Dance + Training:Dance, data = catTable, fit = TRUE)\n",
    "catNoInteraction<-loglm(~ Training + Dance, data = catTable, fit = TRUE)\n",
    "summary(catSaturated); summary(catNoInteraction)\n",
    "#mosaic plot\n",
    "mosaicplot(catSaturated$fit, shade = TRUE, main = \"Cats: Saturated Model\")\n",
    "mosaicplot(catNoInteraction$fit, shade = TRUE, main = \"Cats: Expected Values\")\n",
    "\n",
    "# Loglinear analysis\n",
    "\n",
    "CatDogContingencyTable<-xtabs(~ Animal + Training + Dance, data = catsDogs)\n",
    "\n",
    "caturated<-loglm(~ Animal*Training*Dance, data = CatDogContingencyTable)\n",
    "summary(caturated)\n",
    "threeWay <- loglm(~ Animal + Training + Dance + Animal:Training + Animal:Dance + Dance:Training, data = CatDogContingencyTable)\n",
    "#or\n",
    "threeWay<-update(caturated, .~. -Animal:Training:Dance)\n",
    "summary(threeWay)\n",
    "anova(caturated, threeWay)\n",
    "\n",
    "\n",
    "trainingDance<-update(threeWay, .~. -Training:Dance)\n",
    "animalDance<-update(threeWay, .~. -Animal:Dance)\n",
    "animalTraining<-update(threeWay, .~. -Animal:Training)\n",
    "summary(animalDance)\n",
    "\n",
    "anova(threeWay, trainingDance)\n",
    "anova(threeWay, animalDance)\n",
    "anova(threeWay, animalTraining)\n",
    "\n",
    "mosaicplot(CatDogContingencyTable, shade = TRUE, main = \"Cats and Dogs\")\n",
    "\n",
    "#self tes\n",
    "justCats = subset(catsDogs, Animal==\"Cat\")\n",
    "justDogs = subset(catsDogs, Animal==\"Dog\")\n",
    "\n",
    "\n",
    "CrossTable(justCats$Training, justCats$Dance, chisq = TRUE, fisher = TRUE, sresid = TRUE, format = \"SPSS\")\n",
    "CrossTable(justDogs$Training, justDogs$Dance, chisq = TRUE, fisher = TRUE, sresid = TRUE, format = \"SPSS\")\n",
    "\n",
    "#----Labcoat Leni-------------------\n",
    "\n",
    "americanData<-read.delim(\"Beckham(1929).dat\", header = TRUE)\n",
    "\n",
    "#Are black Americans Happy?:\n",
    "\n",
    "#Enter contingency table for Happy data:\n",
    "College <- c(1610, 390)\n",
    "Laborers <- c(122, 378)\n",
    "Preachers <- c(265, 35)\n",
    "Physicians <- c(51, 159)\n",
    "Housewives <- c(122, 78)\n",
    "Teachers <- c(38, 108)\n",
    "Lawyers <- c(64, 11)\n",
    "Musician <- c(19, 31)\n",
    "happyTable <- cbind(College, Laborers, Preachers, Physicians, Housewives, Teachers, Lawyers, Musician) \n",
    "\n",
    "#Run chi square for Happy:\n",
    "CrossTable(happyTable, fisher = TRUE, chisq = TRUE, expected = TRUE, sresid = TRUE, format = \"SPSS\")\n",
    "\n",
    "#Are you happy being a black American?:\n",
    "\n",
    "#Enter contingency table for You_Happy data:\n",
    "College <- c(48, 1822)\n",
    "Laborers <- c(195, 305)\n",
    "Preachers <- c(0, 230)\n",
    "Physicians <- c(7, 203)\n",
    "Housewives <- c(146, 17)\n",
    "Teachers <- c(28, 79)\n",
    "Lawyers <- c(0, 30)\n",
    "Musician <- c(34, 16)\n",
    "you_happyTable <- cbind(College, Laborers, Preachers, Physicians, Housewives, Teachers, Lawyers, Musician) \n",
    "\n",
    "#Run chi square for You_Happy:\n",
    "CrossTable(you_happyTable, fisher = TRUE, chisq = TRUE, expected = TRUE, sresid = TRUE, format = \"SPSS\")\n",
    "\n",
    "#Should black Americans be happy?:\n",
    "\n",
    "#Enter contingency table for Should_be_Happy data:\n",
    "\n",
    "College <- c(1810, 141)\n",
    "Laborers <- c(104, 396)\n",
    "Preachers <- c(36, 264)\n",
    "Physicians <- c(36, 174)\n",
    "Housewives <- c(120, 90)\n",
    "Teachers <- c(33, 75)\n",
    "Lawyers <- c(57, 7)\n",
    "Musician <- c(14, 36)\n",
    "should_happyTable <- cbind(College, Laborers, Preachers, Physicians, Housewives, Teachers, Lawyers, Musician) \n",
    "\n",
    "#Run chi square for Should_be_Happy:\n",
    "CrossTable(should_happyTable, fisher = TRUE, chisq = TRUE, expected = TRUE, sresid = TRUE, format = \"SPSS\")"
   ]
  }
 ],
 "metadata": {
  "kernelspec": {
   "display_name": "R",
   "language": "R",
   "name": "ir"
  },
  "language_info": {
   "codemirror_mode": "r",
   "file_extension": ".r",
   "mimetype": "text/x-r-source",
   "name": "R",
   "pygments_lexer": "r",
   "version": "3.3.1"
  }
 },
 "nbformat": 4,
 "nbformat_minor": 0
}
