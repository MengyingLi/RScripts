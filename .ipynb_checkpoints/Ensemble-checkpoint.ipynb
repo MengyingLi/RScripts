{
 "cells": [
  {
   "cell_type": "markdown",
   "metadata": {},
   "source": [
    "<h2 align = \"center\"> Ensemble</h2>"
   ]
  },
  {
   "cell_type": "markdown",
   "metadata": {},
   "source": [
    "### Some important terms"
   ]
  },
  {
   "cell_type": "markdown",
   "metadata": {},
   "source": [
    "* Bagging, Random Forest, Boosting\n",
    "* For bagging, we end up with having 63% of unique observations\n",
    "* To measure the confidence of the classification, we can either use margin (the difference between the majority vote and the minority vote\n",
    "* In a real-world situation, we generally want to have a much larger test set to estimate our unseen accuracy. In fact, because of this, we are more inclined to believe our outof-bag accuracy measurement, which is done over a larger number of observations and averaged over many models.\n",
    "* Adaboost is basically update the coefficient weight for each weak learner, update the weights for each data points all based on the weighted classification error and the final model is the sign of the sum of all the weak learners"
   ]
  },
  {
   "cell_type": "markdown",
   "metadata": {},
   "source": [
    "### Bagging"
   ]
  },
  {
   "cell_type": "markdown",
   "metadata": {},
   "source": [
    "### Bagging "
   ]
  },
  {
   "cell_type": "markdown",
   "metadata": {},
   "source": [
    "  Strenghts     | Weakness\n",
    "  ------------- | -------------\n",
    "  1) Smoothens the overall output and reduce the bias when the target function is smooth| Sampling<br/> 1) sampling might have ignored the level in the categorical variables with very few observations <br/> 2) Unbalanced sample will always favor the majority one <br/>3) High Leverage points bagging performance depends on how often these particular observations are sampled <br/> Bagging: <br/>4) Not truly independent (the same set of the features) "
   ]
  },
  {
   "cell_type": "code",
   "execution_count": 1,
   "metadata": {
    "collapsed": true
   },
   "outputs": [],
   "source": [
    "library(ipred)"
   ]
  },
  {
   "cell_type": "code",
   "execution_count": null,
   "metadata": {
    "collapsed": true
   },
   "outputs": [],
   "source": [
    "baggedTree = bagging(y~., data = , nbagg = 100, coob = T) # "
   ]
  },
  {
   "cell_type": "code",
   "execution_count": 20,
   "metadata": {
    "collapsed": true
   },
   "outputs": [],
   "source": [
    "setwd(\"E:/Personal/InterviewQuestion/Rscripts\")\n",
    "bnote = read.table(\"data_banknote_authentication.txt\", sep = \",\")\n",
    "colnames(bnote) = c(\"waveletVar\", \"waveletSkew\", \"waveletCurt\", \"entropy\",\"class\")\n",
    "#bnote$class = as.factor(bnote$class)"
   ]
  },
  {
   "cell_type": "code",
   "execution_count": 3,
   "metadata": {
    "collapsed": false
   },
   "outputs": [
    {
     "data": {
      "text/html": [
       "<table>\n",
       "<thead><tr><th></th><th scope=col>waveletVar</th><th scope=col>waveletSkew</th><th scope=col>waveletCurt</th><th scope=col>entropy</th><th scope=col>class</th></tr></thead>\n",
       "<tbody>\n",
       "\t<tr><th scope=row>1</th><td>3.6216  </td><td>8.6661  </td><td>-2.8073 </td><td>-0.44699</td><td>1       </td></tr>\n",
       "\t<tr><th scope=row>2</th><td>4.5459 </td><td>8.1674 </td><td>-2.4586</td><td>-1.4621</td><td>1      </td></tr>\n",
       "\t<tr><th scope=row>3</th><td>3.866  </td><td>-2.6383</td><td>1.9242 </td><td>0.10645</td><td>1      </td></tr>\n",
       "\t<tr><th scope=row>4</th><td>3.4566 </td><td>9.5228 </td><td>-4.0112</td><td>-3.5944</td><td>1      </td></tr>\n",
       "\t<tr><th scope=row>5</th><td>0.32924</td><td>-4.4552</td><td>4.5718 </td><td>-0.9888</td><td>1      </td></tr>\n",
       "\t<tr><th scope=row>6</th><td>4.3684 </td><td>9.6718 </td><td>-3.9606</td><td>-3.1625</td><td>1      </td></tr>\n",
       "</tbody>\n",
       "</table>\n"
      ],
      "text/latex": [
       "\\begin{tabular}{r|lllll}\n",
       "  & waveletVar & waveletSkew & waveletCurt & entropy & class\\\\\n",
       "\\hline\n",
       "\t1 & 3.6216   & 8.6661   & -2.8073  & -0.44699 & 1       \\\\\n",
       "\t2 & 4.5459  & 8.1674  & -2.4586 & -1.4621 & 1      \\\\\n",
       "\t3 & 3.866   & -2.6383 & 1.9242  & 0.10645 & 1      \\\\\n",
       "\t4 & 3.4566  & 9.5228  & -4.0112 & -3.5944 & 1      \\\\\n",
       "\t5 & 0.32924 & -4.4552 & 4.5718  & -0.9888 & 1      \\\\\n",
       "\t6 & 4.3684  & 9.6718  & -3.9606 & -3.1625 & 1      \\\\\n",
       "\\end{tabular}\n"
      ],
      "text/plain": [
       "  waveletVar waveletSkew waveletCurt  entropy class\n",
       "1    3.62160      8.6661     -2.8073 -0.44699     0\n",
       "2    4.54590      8.1674     -2.4586 -1.46210     0\n",
       "3    3.86600     -2.6383      1.9242  0.10645     0\n",
       "4    3.45660      9.5228     -4.0112 -3.59440     0\n",
       "5    0.32924     -4.4552      4.5718 -0.98880     0\n",
       "6    4.36840      9.6718     -3.9606 -3.16250     0"
      ]
     },
     "metadata": {},
     "output_type": "display_data"
    }
   ],
   "source": [
    "head(bnote)"
   ]
  },
  {
   "cell_type": "code",
   "execution_count": 4,
   "metadata": {
    "collapsed": true
   },
   "outputs": [],
   "source": [
    "n = dim(bnote)[1]"
   ]
  },
  {
   "cell_type": "markdown",
   "metadata": {},
   "source": [
    "### Construct the bootstrapped samples by sampling the index"
   ]
  },
  {
   "cell_type": "code",
   "execution_count": 26,
   "metadata": {
    "collapsed": false
   },
   "outputs": [],
   "source": [
    "M = 11\n",
    "seeds = 1000: (1000+M-1)\n",
    "sample_vector = sapply(seeds, function(i){\n",
    "    set.seed(i); return (sample(n,n,replace = T))})"
   ]
  },
  {
   "cell_type": "markdown",
   "metadata": {},
   "source": [
    "### Create one initial model"
   ]
  },
  {
   "cell_type": "code",
   "execution_count": 22,
   "metadata": {
    "collapsed": true
   },
   "outputs": [],
   "source": [
    "train_1glm = function(sample_indices){\n",
    "    data = bnote[sample_indices,]\n",
    "    model = glm(class~., data = data, family = binomial(\"logit\"))\n",
    "    return(model)\n",
    "}"
   ]
  },
  {
   "cell_type": "markdown",
   "metadata": {},
   "source": [
    "### Get all the models"
   ]
  },
  {
   "cell_type": "code",
   "execution_count": 23,
   "metadata": {
    "collapsed": false
   },
   "outputs": [
    {
     "name": "stderr",
     "output_type": "stream",
     "text": [
      "Warning message:\n",
      ": glm.fit: fitted probabilities numerically 0 or 1 occurredWarning message:\n",
      ": glm.fit: fitted probabilities numerically 0 or 1 occurredWarning message:\n",
      ": glm.fit: fitted probabilities numerically 0 or 1 occurredWarning message:\n",
      ": glm.fit: fitted probabilities numerically 0 or 1 occurredWarning message:\n",
      ": glm.fit: fitted probabilities numerically 0 or 1 occurredWarning message:\n",
      ": glm.fit: fitted probabilities numerically 0 or 1 occurredWarning message:\n",
      ": glm.fit: fitted probabilities numerically 0 or 1 occurredWarning message:\n",
      ": glm.fit: fitted probabilities numerically 0 or 1 occurredWarning message:\n",
      ": glm.fit: fitted probabilities numerically 0 or 1 occurredWarning message:\n",
      ": glm.fit: fitted probabilities numerically 0 or 1 occurredWarning message:\n",
      ": glm.fit: fitted probabilities numerically 0 or 1 occurred"
     ]
    }
   ],
   "source": [
    "allModels = apply(sample_vector,2,train_1glm)"
   ]
  },
  {
   "cell_type": "markdown",
   "metadata": {},
   "source": [
    "### Find unique observations in each data"
   ]
  },
  {
   "cell_type": "code",
   "execution_count": null,
   "metadata": {
    "collapsed": true
   },
   "outputs": [],
   "source": [
    " get_1bag <- function(sample_indices) {     \n",
    "     unique_sample <- unique(sample_indices)\n",
    "     df <- heart_train[unique_sample, ]\n",
    "     df$ID <- unique_sample\n",
    "     return(df)  }"
   ]
  },
  {
   "cell_type": "code",
   "execution_count": null,
   "metadata": {
    "collapsed": true
   },
   "outputs": [],
   "source": [
    "bags = apply(sample_vectors, 2, get_1bag)"
   ]
  },
  {
   "cell_type": "markdown",
   "metadata": {},
   "source": [
    "### Construct the prediction model"
   ]
  },
  {
   "cell_type": "code",
   "execution_count": 13,
   "metadata": {
    "collapsed": false
   },
   "outputs": [
    {
     "data": {
      "text/html": [
       "1372"
      ],
      "text/latex": [
       "1372"
      ],
      "text/markdown": [
       "1372"
      ],
      "text/plain": [
       "[1] 1372"
      ]
     },
     "metadata": {},
     "output_type": "display_data"
    }
   ],
   "source": [
    "glm_prediction = function(model, data, model_index){\n",
    "    colname = paste(\"prediction\", model_index)\n",
    "    data[colname] = as.numeric(predict(model, data, type = \"response\") >0.5)\n",
    "    return(data[,c(\"ID\", colname)], drop = FALSE)\n",
    "}"
   ]
  },
  {
   "cell_type": "code",
   "execution_count": null,
   "metadata": {
    "collapsed": true
   },
   "outputs": [],
   "source": [
    "training_predictions =  mapply(glm_predictions, models, bags, 1 : M, SIMPLIFY = F) \n",
    "# mapply is to  applies FUN to the first elements of each ... argument, the second elements, the third elements, and so on."
   ]
  },
  {
   "cell_type": "code",
   "execution_count": null,
   "metadata": {
    "collapsed": true
   },
   "outputs": [],
   "source": [
    "rain_pred_df <- Reduce(function(x, y) merge(x, y, by = \"ID\", all = T), training_predictions)"
   ]
  },
  {
   "cell_type": "code",
   "execution_count": null,
   "metadata": {
    "collapsed": true
   },
   "outputs": [],
   "source": [
    "train_pred_vote <- apply(train_pred_df[,-1], 1, function(x) as.numeric(mean(x, na.rm = TRUE) > 0.5))"
   ]
  },
  {
   "cell_type": "code",
   "execution_count": null,
   "metadata": {
    "collapsed": true
   },
   "outputs": [],
   "source": [
    "### Then merge all the data and its prediction to one dataframe"
   ]
  },
  {
   "cell_type": "code",
   "execution_count": 24,
   "metadata": {
    "collapsed": true
   },
   "outputs": [],
   "source": [
    "get_1oo_bag <- function(sample_indices) {  unique_sample <- setdiff(1 : n, unique(sample_indices))\n",
    "                                         df <- bnote[unique_sample,]     \n",
    "                                         df$ID <- unique_sample\n",
    "                                         return(df)  }"
   ]
  },
  {
   "cell_type": "code",
   "execution_count": 27,
   "metadata": {
    "collapsed": false
   },
   "outputs": [],
   "source": [
    "oo_bags <- apply(sample_vector, 2, get_1oo_bag) # Each list has different size of observations"
   ]
  },
  {
   "cell_type": "markdown",
   "metadata": {},
   "source": [
    "### Boosting"
   ]
  },
  {
   "cell_type": "markdown",
   "metadata": {},
   "source": [
    "  Strenghts     | Weakness\n",
    "  ------------- | -------------\n",
    "  1) combining the weak learners can help reduce overfitting|  1) Use all training data and progressively to correct each mistake <br/> 2) Symetric loss funtction no distinction that is made in classification between a fp and fn error"
   ]
  },
  {
   "cell_type": "code",
   "execution_count": null,
   "metadata": {
    "collapsed": true
   },
   "outputs": [],
   "source": [
    "AdaBoostNN <- function(training_data, output_column, M, hidden_units) {   \n",
    "    require(\"nnet\")   \n",
    "    models <- list()   \n",
    "    alphas <- list()   \n",
    "    n <- nrow(training_data)   \n",
    "    model_formula <- as.formula(paste(output_column, '~ .', sep = ''))   \n",
    "    w <- rep((1/n), n)   \n",
    "    for (m in 1:M) {    model <- nnet(model_formula, data = training_data, size = hidden_units, weights = w)   \n",
    "                        models[[m]] <- model    \n",
    "                        predictions <- as.numeric(predict(model,\n",
    "                                                          training_data[, -which(names(training_data) == output_column)], type = \"class\")) \n",
    "                        errors <- predictions != training_data[, output_column]     \n",
    "                        error_rate <- sum(w * as.numeric(errors)) / sum(w)    \n",
    "                         alpha <- 0.5 * log((1 - error_rate) / error_rate)     \n",
    "                         alphas[[m]] <- alpha     \n",
    "                         temp_w <- mapply(function(x, y) if (y) { x * exp(alpha) } else { x * exp(-alpha)}, w, errors)     \n",
    "                                 w <- temp_w / sum(temp_w)   }   \n",
    "                        return(list(models = models, alphas = unlist(alphas))) }"
   ]
  },
  {
   "cell_type": "markdown",
   "metadata": {
    "collapsed": true
   },
   "source": [
    "## Stochastic Gradient Boosting"
   ]
  },
  {
   "cell_type": "markdown",
   "metadata": {
    "collapsed": true
   },
   "source": [
    "in every iteration of boosting, we compute a gradient in the direction of the errors that are made by the model trained in the current iteration."
   ]
  },
  {
   "cell_type": "code",
   "execution_count": null,
   "metadata": {
    "collapsed": true
   },
   "outputs": [],
   "source": [
    "N <- 1000\n",
    "X1 <- runif(N)\n",
    "X2 <- 2*runif(N)\n",
    "X3 <- ordered(sample(letters[1:4],N,replace=TRUE),levels=letters[4:1])\n",
    "X4 <- factor(sample(letters[1:6],N,replace=TRUE))\n",
    "X5 <- factor(sample(letters[1:3],N,replace=TRUE))\n",
    "X6 <- 3*runif(N) \n",
    "mu <- c(-1,0,1,2)[as.numeric(X3)]\n",
    "\n",
    "SNR <- 10 # signal-to-noise ratio\n",
    "Y <- X1**1.5 + 2 * (X2**.5) + mu\n",
    "sigma <- sqrt(var(Y)/SNR)\n",
    "Y <- Y + rnorm(N,0,sigma)\n",
    "\n",
    "# introduce some missing values\n",
    "X1[sample(1:N,size=500)] <- NA\n",
    "X4[sample(1:N,size=300)] <- NA\n",
    "\n",
    "data <- data.frame(Y=Y,X1=X1,X2=X2,X3=X3,X4=X4,X5=X5,X6=X6)\n",
    "\n",
    "# fit initial model\n",
    "gbm1 <-\n",
    "gbm(Y~X1+X2+X3+X4+X5+X6,         # formula\n",
    "    data=data,                   # dataset\n",
    "    var.monotone=c(0,0,0,0,0,0), # -1: monotone decrease,\n",
    "                                 # +1: monotone increase,\n",
    "                                 #  0: no monotone restrictions\n",
    "    distribution=\"gaussian\",     # For regression model\n",
    "    n.trees=1000,                # number of trees\n",
    "    shrinkage=0.05,              # shrinkage or learning rate,(how fast the algorithm is going to learn the parameter before each sequential model)\n",
    "                                 # 0.001 to 0.1 usually work\n",
    "    interaction.depth=3,         # 1: additive model, 2: two-way interactions, etc.\n",
    "    bag.fraction = 0.5,          # subsampling fraction, 0.5 is probably best\n",
    "    train.fraction = 0.5,        # fraction of data for training,\n",
    "                                 # first train.fraction*N used for training\n",
    "    n.minobsinnode = 10,         # minimum total weight needed in each node\n",
    "    cv.folds = 3,                # do 3-fold cross-validation\n",
    "    keep.data=TRUE,              # keep a copy of the dataset with the object\n",
    "    verbose=FALSE,               # don't print out progress\n",
    "    n.cores=1)                   # use only a single core (detecting #cores is\n",
    "                                 # error-prone, so avoided here)\n",
    "\n",
    "# check performance using an out-of-bag estimator\n",
    "# OOB underestimates the optimal number of iterations\n",
    "best.iter <- gbm.perf(gbm1,method=\"OOB\") # Get the best iteration\n",
    "print(best.iter)\n",
    "\n",
    "# check performance using a 50% heldout test set\n",
    "best.iter <- gbm.perf(gbm1,method=\"test\")\n",
    "print(best.iter)"
   ]
  },
  {
   "cell_type": "markdown",
   "metadata": {},
   "source": [
    "## Random Forest (see the conversion example in take home) "
   ]
  },
  {
   "cell_type": "markdown",
   "metadata": {},
   "source": [
    "  Strenghts     | Weakness\n",
    "  ------------- | -------------\n",
    "  1) Feature sampling allows us to consider input features that are successful in splitting the data for only a small range of the target variable. These locally relevant features are rarely chosen without the sampling constraint because we usually prefer features that form good overall splits of the data at a given node in the tree. <br/> 2)sampling input features is useful when we have correlated input features. Regular tree construction tends to favor only one of the features from a correlated set while ignoring the rest despite the fact that the resulting splits from even highly correlated features are not exactly the same.<br/> 3) , this model is a good choice when the number of features exceeds the number of observations. <br/> 4) the sampling process mitigates the cost of constructing a large number of trees </br> 5) Can handle noisy or missing outliers data as well as categorical, continuous features </br> 6) did feature selection </br>|  1)  Unlike a decision tree, the model is not easily interpretable 2)  May require some work to tune the model to the data"
   ]
  },
  {
   "cell_type": "code",
   "execution_count": null,
   "metadata": {
    "collapsed": true
   },
   "outputs": [],
   "source": []
  },
  {
   "cell_type": "markdown",
   "metadata": {},
   "source": [
    "<h3> <font color = \"red\"> don't have to include interaction terms as tree is good at finding interactions </font></h3>"
   ]
  },
  {
   "cell_type": "markdown",
   "metadata": {},
   "source": [
    "Random Forest handle missing values : https://www.stat.berkeley.edu/~breiman/RandomForests/cc_home.htm#missing1"
   ]
  },
  {
   "cell_type": "code",
   "execution_count": 1,
   "metadata": {
    "collapsed": false,
    "scrolled": true
   },
   "outputs": [
    {
     "name": "stderr",
     "output_type": "stream",
     "text": [
      "randomForest 4.6-12\n",
      "Type rfNews() to see new features/changes/bug fixes.\n"
     ]
    }
   ],
   "source": [
    "library(randomForest)"
   ]
  },
  {
   "cell_type": "markdown",
   "metadata": {},
   "source": [
    "For random forests, it turns out that we can still measure variable importance scores for the different input features by tallying and keeping track of the reductions in our error function across all the trees in the ensemble. "
   ]
  },
  {
   "cell_type": "code",
   "execution_count": null,
   "metadata": {
    "collapsed": true
   },
   "outputs": [],
   "source": [
    "randomForest(x, y=NULL, xtest=NULL, ytest=NULL, \n",
    "             ntree=500,#How many trees## Very common to build somewhere between 700 and several thousand trees\n",
    "#n rees is the number of trees that will be built for the ensemble and mtry is the number of features sampled for use at each node for splitin\n",
    "             mtry=,#p/3 or sqrt(p)\n",
    "             replace=TRUE, \n",
    "             classwt=NULL, \n",
    "#Priors of the classes. Need not add up to one. \n",
    " #The basic idea is to weight classes such that rarely observations are more likely to be selected to the group\n",
    " #these values are trasformed in probabilities for sampling training data\n",
    "             cutoff, \n",
    "             strata,\n",
    "             sampsize = if (replace) nrow(x) else ceiling(.632*nrow(x)),\n",
    "             nodesize = if (!is.null(y) && !is.factor(y)) 5 else 1,\n",
    "             maxnodes = NULL,\n",
    "             importance=FALSE, \n",
    "#. MeanDecreaseAccuracy is computed from permuting OOB data: For each tree, the prediction error on the out-of-bag portion of the data is\n",
    "# recorded (error rate for classification, MSE for regression). Then the same is done after permuting\n",
    "# each predictor variable. The difference between the two are then averaged over all trees, and normalized\n",
    "# by the standard deviation of the differences. If the standard deviation of the differences is\n",
    "# equal to 0 for a variable, the division is not done (but the average is almost always equal to 0 in that\n",
    "    # case).\n",
    "# MeanDecreaseGini is the total decrease in node impurities from splitting on the variable, averaged over all trees. \n",
    "# For classification, the node impurity is measured by the Gini index. For regression, it\n",
    "                    # is measured by residual sum of squares.\n",
    "  \n",
    "                 localImp=FALSE, nPerm=1,\n",
    "             proximity, #Should proximity measure among the rows be calculated? \n",
    " #It is like clustering as we assume the observations which fall into the same terminal node are more similar \n",
    "#Since observations that have similar x values ‘travel’ the same way on splits more often than values\n",
    "# with dissimilar values, the co-occurence in terminal nodes is a suitable measure of similarity. Using this logic\n",
    "# a so called proximity matrix is calculated. \n",
    "# It is a n by n matrix where each entry gives the proportion of terminal nodes that two observations are fall together\n",
    "             oob.prox=proximity,\n",
    "             norm.votes=TRUE, \n",
    "             do.trace=FALSE,\n",
    "             keep.forest=,\n",
    "             corr.bias=FALSE,\n",
    "             keep.inbag=FALSE, ...)"
   ]
  },
  {
   "cell_type": "code",
   "execution_count": 2,
   "metadata": {
    "collapsed": false
   },
   "outputs": [
    {
     "name": "stderr",
     "output_type": "stream",
     "text": [
      "Loading required package: RCurl\n",
      "Loading required package: bitops\n",
      "Loading required package: prettyR\n"
     ]
    }
   ],
   "source": [
    "require(RCurl)\n",
    "require(prettyR)\n",
    "\n",
    "url <- \"https://raw.githubusercontent.com/gastonstat/CreditScoring/master/CleanCreditScoring.csv\"\n",
    "cs_data <- getURL(url)\n",
    "cs_data <- read.csv(textConnection(cs_data))"
   ]
  },
  {
   "cell_type": "code",
   "execution_count": 3,
   "metadata": {
    "collapsed": false
   },
   "outputs": [
    {
     "name": "stdout",
     "output_type": "stream",
     "text": [
      "'data.frame':\t4446 obs. of  27 variables:\n",
      " $ Status    : Factor w/ 2 levels \"bad\",\"good\": 2 2 1 2 2 2 2 2 2 1 ...\n",
      " $ Seniority : int  9 17 10 0 0 1 29 9 0 0 ...\n",
      " $ Home      : Factor w/ 6 levels \"ignore\",\"other\",..: 6 6 3 6 6 3 3 4 3 4 ...\n",
      " $ Time      : int  60 60 36 60 36 60 60 12 60 48 ...\n",
      " $ Age       : int  30 58 46 24 26 36 44 27 32 41 ...\n",
      " $ Marital   : Factor w/ 5 levels \"divorced\",\"married\",..: 2 5 2 4 4 2 2 4 2 2 ...\n",
      " $ Records   : Factor w/ 2 levels \"no_rec\",\"yes_rec\": 1 1 2 1 1 1 1 1 1 1 ...\n",
      " $ Job       : Factor w/ 4 levels \"fixed\",\"freelance\",..: 2 1 2 1 1 1 1 1 2 4 ...\n",
      " $ Expenses  : int  73 48 90 63 46 75 75 35 90 90 ...\n",
      " $ Income    : int  129 131 200 182 107 214 125 80 107 80 ...\n",
      " $ Assets    : int  0 0 3000 2500 0 3500 10000 0 15000 0 ...\n",
      " $ Debt      : int  0 0 0 0 0 0 0 0 0 0 ...\n",
      " $ Amount    : int  800 1000 2000 900 310 650 1600 200 1200 1200 ...\n",
      " $ Price     : int  846 1658 2985 1325 910 1645 1800 1093 1957 1468 ...\n",
      " $ Finrat    : num  94.6 60.3 67 67.9 34.1 ...\n",
      " $ Savings   : num  4.2 4.98 1.98 7.93 7.08 ...\n",
      " $ seniorityR: Factor w/ 5 levels \"sen (-1,1]\",\"sen (1,3]\",..: 5 3 5 1 1 1 3 5 1 1 ...\n",
      " $ timeR     : Factor w/ 5 levels \"time (0,12]\",..: 5 5 3 5 3 5 5 1 5 4 ...\n",
      " $ ageR      : Factor w/ 5 levels \"age (0,25]\",\"age (25,30]\",..: 2 5 4 1 2 3 4 2 3 4 ...\n",
      " $ expensesR : Factor w/ 5 levels \"exp (0,40]\",\"exp (40,50]\",..: 4 2 5 4 2 4 4 1 5 5 ...\n",
      " $ incomeR   : Factor w/ 5 levels \"inc (0,80]\",\"inc (110,140]\",..: 2 2 4 3 5 4 2 1 5 1 ...\n",
      " $ assetsR   : Factor w/ 5 levels \"asset (-1,0]\",..: 1 1 2 2 1 3 5 1 5 1 ...\n",
      " $ debtR     : Factor w/ 5 levels \"debt (-1,0]\",..: 1 1 1 1 1 1 1 1 1 1 ...\n",
      " $ amountR   : Factor w/ 5 levels \"am (0,600]\",\"am (1.1e+03,1.4e+03]\",..: 4 5 3 4 1 4 3 1 2 2 ...\n",
      " $ priceR    : Factor w/ 5 levels \"priz (0,1e+03]\",..: 1 3 4 2 1 3 3 5 4 2 ...\n",
      " $ finratR   : Factor w/ 5 levels \"finr (0,50]\",..: 5 2 2 2 1 1 4 1 2 4 ...\n",
      " $ savingsR  : Factor w/ 5 levels \"sav (-99,0]\",..: 4 4 2 5 5 5 2 3 2 1 ...\n"
     ]
    }
   ],
   "source": [
    "str(cs_data)"
   ]
  },
  {
   "cell_type": "code",
   "execution_count": 32,
   "metadata": {
    "collapsed": false
   },
   "outputs": [
    {
     "name": "stderr",
     "output_type": "stream",
     "text": [
      "\n",
      "Attaching package: 'dplyr'\n",
      "\n",
      "The following object is masked from 'package:randomForest':\n",
      "\n",
      "    combine\n",
      "\n",
      "The following objects are masked from 'package:stats':\n",
      "\n",
      "    filter, lag\n",
      "\n",
      "The following objects are masked from 'package:base':\n",
      "\n",
      "    intersect, setdiff, setequal, union\n",
      "\n"
     ]
    }
   ],
   "source": [
    "library(dplyr)"
   ]
  },
  {
   "cell_type": "code",
   "execution_count": 33,
   "metadata": {
    "collapsed": false
   },
   "outputs": [],
   "source": [
    "cs_data = cs_data %>% mutate(Status = ifelse(Status == \"bad\",1,0))"
   ]
  },
  {
   "cell_type": "markdown",
   "metadata": {},
   "source": [
    "#### Get the train set and test set"
   ]
  },
  {
   "cell_type": "code",
   "execution_count": 5,
   "metadata": {
    "collapsed": false
   },
   "outputs": [
    {
     "name": "stderr",
     "output_type": "stream",
     "text": [
      "Loading required package: lattice\n",
      "Loading required package: ggplot2\n"
     ]
    }
   ],
   "source": [
    "library(caret)"
   ]
  },
  {
   "cell_type": "code",
   "execution_count": 6,
   "metadata": {
    "collapsed": false
   },
   "outputs": [],
   "source": [
    "classes <- cs_data[, \"Status\"]\n",
    "predictors <- cs_data[, -match(c(\"Status\", \"Seniority\", \"Time\", \"Age\", \"Expenses\", \n",
    "    \"Income\", \"Assets\", \"Debt\", \"Amount\", \"Price\", \"Finrat\", \"Savings\"), colnames(cs_data))]\n",
    "\n",
    "train_set <- createDataPartition(classes, p = 0.8, list = FALSE)"
   ]
  },
  {
   "cell_type": "markdown",
   "metadata": {},
   "source": [
    "#### Tune the parameter"
   ]
  },
  {
   "cell_type": "code",
   "execution_count": 10,
   "metadata": {
    "collapsed": false
   },
   "outputs": [
    {
     "data": {
      "text/plain": [
       "Random Forest \n",
       "\n",
       "3558 samples\n",
       "  26 predictor\n",
       "   2 classes: 'bad', 'good' \n",
       "\n",
       "Pre-processing: centered (68), scaled (68) \n",
       "Resampling: Cross-Validated (10 fold) \n",
       "Summary of sample sizes: 3202, 3202, 3202, 3202, 3203, 3202, ... \n",
       "Resampling results across tuning parameters:\n",
       "\n",
       "  mtry  ROC        Sens   Spec     \n",
       "   4    0.8263032  0.365  0.9487837\n",
       "   8    0.8301719  0.432  0.9217984\n",
       "  12    0.8262691  0.454  0.9100735\n",
       "  16    0.8262233  0.476  0.9038235\n",
       "\n",
       "ROC was used to select the optimal model using  the largest value.\n",
       "The final value used for the model was mtry = 8. "
      ]
     },
     "metadata": {},
     "output_type": "display_data"
    }
   ],
   "source": [
    "set.seed(123)\n",
    "\n",
    "cs_data_train = cs_data[train_set, ]\n",
    "cs_data_test = cs_data[-train_set, ]\n",
    "\n",
    "# Define the tuned parameter\n",
    "grid <- expand.grid(mtry = seq(4,16,4), ntree = c(700, 1000,2000) )\n",
    "\n",
    "ctrl <- trainControl(method = \"cv\", number = 10, summaryFunction = twoClassSummary,classProbs = TRUE)\n",
    "\n",
    "rf_fit <- train(Status ~ ., data = cs_data_train,\n",
    "                    method = \"rf\",\n",
    "                    preProcess = c(\"center\", \"scale\"),\n",
    "                    tuneGrid = grid,\n",
    "                    trControl = ctrl,         \n",
    "                   family= \"binomial\",\n",
    "                   metric= \"ROC\" #define which metric to optimize metric='RMSE'\n",
    "               )\n",
    "rf_fit"
   ]
  },
  {
   "cell_type": "markdown",
   "metadata": {},
   "source": [
    "#### Train the whole data on the chosen parameter"
   ]
  },
  {
   "cell_type": "code",
   "execution_count": 24,
   "metadata": {
    "collapsed": false
   },
   "outputs": [
    {
     "data": {
      "text/plain": [
       "\n",
       "Call:\n",
       " randomForest(x = cs_data_train[, -1], y = cs_data_train$Status,      xtest = cs_data_test[, -1], ytest = cs_data_test$Status,      ntree = 100, mtry = 8, keep.forest = TRUE) \n",
       "               Type of random forest: classification\n",
       "                     Number of trees: 100\n",
       "No. of variables tried at each split: 8\n",
       "\n",
       "        OOB estimate of  error rate: 22.88%\n",
       "Confusion matrix:\n",
       "     bad good class.error\n",
       "bad  468  532   0.5320000\n",
       "good 282 2276   0.1102424\n",
       "                Test set error rate: 19.59%\n",
       "Confusion matrix:\n",
       "     bad good class.error\n",
       "bad  128  121   0.4859438\n",
       "good  53  586   0.0829421"
      ]
     },
     "metadata": {},
     "output_type": "display_data"
    }
   ],
   "source": [
    "rf = randomForest(y = cs_data_train$Status, x = cs_data_train[,-1],\n",
    "ytest = cs_data_test$Status, xtest = cs_data_test[, -1],\n",
    "ntree = 100, mtry = 8, keep.forest = TRUE) #mtry use three features on each split\n",
    "rf"
   ]
  },
  {
   "cell_type": "markdown",
   "metadata": {},
   "source": [
    "### Variable Importance"
   ]
  },
  {
   "cell_type": "markdown",
   "metadata": {},
   "source": [
    "* Default is mean Gini gain produced by X over all trees. Biased in favor of continuous variables and variables with many categories. http://freakonometrics.hypotheses.org/19835\n",
    "* mean decrease in classification accuracy after permuting Xj over all trees\n",
    "* the current null hypothesis reflects independence of Xj (The idea is if the Xj is independent of Y and Xi then rearranging it should not affect the accuracy)\n",
    "from\n",
    "both Y and the remaining predictor variables Z. However it works poorly if the variables are highly correlated, so we need to condition the result on the highly correlated ones. Use the `cforest` in `party` package.library(party)\n",
    "cf1 <- cforest(y~.,data=df,control=cforest_unbiased(mtry=2,ntree=50))\n",
    "varimp(cf1)\n",
    "varimp(cf1,conditional=TRUE). However it is very computationally intensive."
   ]
  },
  {
   "cell_type": "code",
   "execution_count": 25,
   "metadata": {
    "collapsed": false,
    "scrolled": false
   },
   "outputs": [
    {
     "data": {
      "image/png": "[encoded data removed]",
      "image/svg+xml": [
       "<?xml version=\"1.0\" encoding=\"UTF-8\"?>\n",
       "<svg xmlns=\"http://www.w3.org/2000/svg\" xmlns:xlink=\"http://www.w3.org/1999/xlink\" width=\"504pt\" height=\"504pt\" viewBox=\"0 0 504 504\" version=\"1.1\">\n",
       "<defs>\n",
       "<g>\n",
       "<symbol overflow=\"visible\" id=\"glyph0-0\">\n",
       "<path style=\"stroke:none;\" d=\"M 5.03125 0 L 5.03125 -0.816406 C 4.617188 -0.171875 4.011719 0.144531 3.214844 0.148438 C 2.695313 0.144531 2.21875 0.0078125 1.789063 -0.277344 C 1.351563 -0.558594 1.015625 -0.957031 0.78125 -1.472656 C 0.539063 -1.980469 0.421875 -2.570313 0.425781 -3.234375 C 0.421875 -3.882813 0.53125 -4.46875 0.75 -4.996094 C 0.964844 -5.519531 1.285156 -5.921875 1.71875 -6.207031 C 2.148438 -6.484375 2.632813 -6.625 3.167969 -6.628906 C 3.554688 -6.625 3.902344 -6.542969 4.210938 -6.378906 C 4.511719 -6.210938 4.761719 -5.996094 4.957031 -5.738281 L 4.957031 -8.949219 L 6.046875 -8.949219 L 6.046875 0 Z M 1.554688 -3.234375 C 1.550781 -2.402344 1.726563 -1.78125 2.078125 -1.371094 C 2.425781 -0.960938 2.839844 -0.753906 3.320313 -0.757813 C 3.796875 -0.753906 4.203125 -0.949219 4.542969 -1.34375 C 4.875 -1.734375 5.042969 -2.335938 5.046875 -3.144531 C 5.042969 -4.027344 4.875 -4.675781 4.535156 -5.09375 C 4.191406 -5.507813 3.769531 -5.71875 3.273438 -5.71875 C 2.78125 -5.71875 2.371094 -5.519531 2.046875 -5.121094 C 1.714844 -4.722656 1.550781 -4.09375 1.554688 -3.234375 Z M 1.554688 -3.234375 \"/>\n",
       "</symbol>\n",
       "<symbol overflow=\"visible\" id=\"glyph0-1\">\n",
       "<path style=\"stroke:none;\" d=\"M 5.261719 -2.085938 L 6.398438 -1.945313 C 6.21875 -1.28125 5.886719 -0.765625 5.402344 -0.402344 C 4.917969 -0.0351563 4.296875 0.144531 3.546875 0.148438 C 2.59375 0.144531 1.84375 -0.144531 1.289063 -0.726563 C 0.734375 -1.3125 0.457031 -2.132813 0.457031 -3.1875 C 0.457031 -4.273438 0.734375 -5.117188 1.296875 -5.722656 C 1.855469 -6.324219 2.585938 -6.625 3.484375 -6.628906 C 4.347656 -6.625 5.054688 -6.332031 5.609375 -5.742188 C 6.15625 -5.152344 6.433594 -4.320313 6.433594 -3.253906 C 6.433594 -3.183594 6.429688 -3.085938 6.425781 -2.960938 L 1.59375 -2.960938 C 1.632813 -2.242188 1.832031 -1.699219 2.195313 -1.324219 C 2.558594 -0.945313 3.011719 -0.753906 3.550781 -0.757813 C 3.953125 -0.753906 4.296875 -0.859375 4.582031 -1.074219 C 4.867188 -1.28125 5.09375 -1.621094 5.261719 -2.085938 Z M 1.652344 -3.863281 L 5.273438 -3.863281 C 5.222656 -4.402344 5.082031 -4.8125 4.859375 -5.089844 C 4.503906 -5.511719 4.050781 -5.722656 3.496094 -5.726563 C 2.992188 -5.722656 2.570313 -5.554688 2.226563 -5.21875 C 1.882813 -4.878906 1.691406 -4.425781 1.652344 -3.863281 Z M 1.652344 -3.863281 \"/>\n",
       "</symbol>\n",
       "<symbol overflow=\"visible\" id=\"glyph0-2\">\n",
       "<path style=\"stroke:none;\" d=\"M 1.835938 0 L 0.816406 0 L 0.816406 -8.949219 L 1.917969 -8.949219 L 1.917969 -5.753906 C 2.378906 -6.335938 2.972656 -6.625 3.691406 -6.628906 C 4.089844 -6.625 4.464844 -6.546875 4.824219 -6.386719 C 5.175781 -6.222656 5.46875 -5.996094 5.703125 -5.707031 C 5.929688 -5.417969 6.109375 -5.066406 6.242188 -4.65625 C 6.367188 -4.242188 6.433594 -3.804688 6.4375 -3.339844 C 6.433594 -2.226563 6.160156 -1.367188 5.613281 -0.761719 C 5.066406 -0.15625 4.40625 0.144531 3.636719 0.148438 C 2.871094 0.144531 2.269531 -0.171875 1.835938 -0.8125 Z M 1.824219 -3.289063 C 1.820313 -2.507813 1.925781 -1.949219 2.140625 -1.605469 C 2.484375 -1.039063 2.953125 -0.753906 3.546875 -0.757813 C 4.023438 -0.753906 4.4375 -0.964844 4.789063 -1.382813 C 5.136719 -1.796875 5.3125 -2.417969 5.316406 -3.246094 C 5.3125 -4.089844 5.144531 -4.714844 4.8125 -5.121094 C 4.472656 -5.523438 4.066406 -5.722656 3.59375 -5.726563 C 3.109375 -5.722656 2.695313 -5.515625 2.347656 -5.097656 C 1.996094 -4.679688 1.820313 -4.074219 1.824219 -3.289063 Z M 1.824219 -3.289063 \"/>\n",
       "</symbol>\n",
       "<symbol overflow=\"visible\" id=\"glyph0-3\">\n",
       "<path style=\"stroke:none;\" d=\"M 3.222656 -0.984375 L 3.382813 -0.0117188 C 3.070313 0.0507813 2.792969 0.0820313 2.550781 0.0859375 C 2.148438 0.0820313 1.839844 0.0234375 1.621094 -0.101563 C 1.398438 -0.226563 1.242188 -0.394531 1.15625 -0.601563 C 1.0625 -0.804688 1.019531 -1.238281 1.023438 -1.898438 L 1.023438 -5.628906 L 0.21875 -5.628906 L 0.21875 -6.480469 L 1.023438 -6.480469 L 1.023438 -8.085938 L 2.117188 -8.746094 L 2.117188 -6.480469 L 3.222656 -6.480469 L 3.222656 -5.628906 L 2.117188 -5.628906 L 2.117188 -1.835938 C 2.113281 -1.519531 2.132813 -1.320313 2.175781 -1.230469 C 2.210938 -1.140625 2.273438 -1.070313 2.363281 -1.019531 C 2.449219 -0.964844 2.578125 -0.9375 2.742188 -0.941406 C 2.859375 -0.9375 3.019531 -0.953125 3.222656 -0.984375 Z M 3.222656 -0.984375 \"/>\n",
       "</symbol>\n",
       "<symbol overflow=\"visible\" id=\"glyph0-4\">\n",
       "<path style=\"stroke:none;\" d=\"M 0.984375 0 L 0.984375 -8.949219 L 4.949219 -8.949219 C 5.742188 -8.945313 6.347656 -8.867188 6.765625 -8.707031 C 7.179688 -8.542969 7.511719 -8.257813 7.761719 -7.855469 C 8.007813 -7.445313 8.132813 -6.996094 8.136719 -6.507813 C 8.132813 -5.871094 7.925781 -5.335938 7.519531 -4.902344 C 7.105469 -4.464844 6.472656 -4.1875 5.617188 -4.070313 C 5.925781 -3.917969 6.164063 -3.769531 6.328125 -3.625 C 6.671875 -3.304688 7 -2.90625 7.3125 -2.433594 L 8.867188 0 L 7.378906 0 L 6.195313 -1.863281 C 5.84375 -2.398438 5.558594 -2.808594 5.339844 -3.09375 C 5.113281 -3.378906 4.914063 -3.578125 4.738281 -3.691406 C 4.558594 -3.804688 4.378906 -3.882813 4.199219 -3.929688 C 4.0625 -3.957031 3.84375 -3.972656 3.539063 -3.972656 L 2.167969 -3.972656 L 2.167969 0 Z M 2.167969 -5 L 4.710938 -5 C 5.25 -4.996094 5.671875 -5.054688 5.980469 -5.167969 C 6.28125 -5.277344 6.511719 -5.453125 6.675781 -5.703125 C 6.832031 -5.945313 6.914063 -6.214844 6.914063 -6.507813 C 6.914063 -6.925781 6.757813 -7.273438 6.453125 -7.550781 C 6.140625 -7.820313 5.65625 -7.957031 5 -7.960938 L 2.167969 -7.960938 Z M 2.167969 -5 \"/>\n",
       "</symbol>\n",
       "<symbol overflow=\"visible\" id=\"glyph0-5\">\n",
       "<path style=\"stroke:none;\" d=\"M 0.929688 0 L 0.929688 -8.949219 L 2.710938 -8.949219 L 4.828125 -2.613281 C 5.023438 -2.019531 5.164063 -1.578125 5.253906 -1.289063 C 5.351563 -1.613281 5.511719 -2.089844 5.730469 -2.722656 L 7.875 -8.949219 L 9.464844 -8.949219 L 9.464844 0 L 8.324219 0 L 8.324219 -7.488281 L 5.726563 0 L 4.65625 0 L 2.070313 -7.617188 L 2.070313 0 Z M 0.929688 0 \"/>\n",
       "</symbol>\n",
       "<symbol overflow=\"visible\" id=\"glyph0-6\">\n",
       "<path style=\"stroke:none;\" d=\"M 5.054688 -0.800781 C 4.644531 -0.453125 4.253906 -0.207031 3.878906 -0.0664063 C 3.5 0.078125 3.09375 0.144531 2.667969 0.148438 C 1.949219 0.144531 1.402344 -0.0273438 1.023438 -0.375 C 0.640625 -0.722656 0.449219 -1.167969 0.453125 -1.710938 C 0.449219 -2.023438 0.523438 -2.3125 0.667969 -2.578125 C 0.8125 -2.839844 1 -3.050781 1.234375 -3.210938 C 1.464844 -3.367188 1.730469 -3.484375 2.027344 -3.570313 C 2.242188 -3.625 2.566406 -3.679688 3.003906 -3.734375 C 3.886719 -3.835938 4.539063 -3.964844 4.960938 -4.113281 C 4.964844 -4.261719 4.96875 -4.355469 4.96875 -4.402344 C 4.96875 -4.84375 4.863281 -5.160156 4.65625 -5.347656 C 4.371094 -5.59375 3.953125 -5.71875 3.40625 -5.71875 C 2.882813 -5.71875 2.5 -5.625 2.257813 -5.445313 C 2.007813 -5.261719 1.828125 -4.941406 1.714844 -4.484375 L 0.640625 -4.632813 C 0.734375 -5.089844 0.894531 -5.460938 1.121094 -5.746094 C 1.339844 -6.027344 1.664063 -6.246094 2.089844 -6.398438 C 2.511719 -6.550781 3.003906 -6.625 3.5625 -6.628906 C 4.117188 -6.625 4.566406 -6.5625 4.914063 -6.433594 C 5.257813 -6.300781 5.511719 -6.136719 5.675781 -5.941406 C 5.835938 -5.742188 5.949219 -5.492188 6.019531 -5.195313 C 6.050781 -5.003906 6.070313 -4.664063 6.074219 -4.179688 L 6.074219 -2.714844 C 6.070313 -1.691406 6.09375 -1.046875 6.144531 -0.777344 C 6.1875 -0.503906 6.28125 -0.246094 6.421875 0 L 5.273438 0 C 5.15625 -0.226563 5.082031 -0.492188 5.054688 -0.800781 Z M 4.960938 -3.253906 C 4.558594 -3.085938 3.960938 -2.949219 3.167969 -2.839844 C 2.714844 -2.773438 2.394531 -2.699219 2.210938 -2.617188 C 2.019531 -2.535156 1.875 -2.417969 1.777344 -2.261719 C 1.671875 -2.105469 1.621094 -1.929688 1.625 -1.738281 C 1.621094 -1.445313 1.734375 -1.203125 1.957031 -1.007813 C 2.175781 -0.8125 2.5 -0.714844 2.929688 -0.714844 C 3.351563 -0.714844 3.726563 -0.804688 4.058594 -0.992188 C 4.386719 -1.171875 4.628906 -1.425781 4.785156 -1.75 C 4.898438 -1.996094 4.957031 -2.363281 4.960938 -2.851563 Z M 4.960938 -3.253906 \"/>\n",
       "</symbol>\n",
       "<symbol overflow=\"visible\" id=\"glyph0-7\">\n",
       "<path style=\"stroke:none;\" d=\"M 0.8125 0 L 0.8125 -6.480469 L 1.800781 -6.480469 L 1.800781 -5.5 C 2.050781 -5.957031 2.285156 -6.257813 2.5 -6.40625 C 2.710938 -6.550781 2.945313 -6.625 3.203125 -6.628906 C 3.570313 -6.625 3.945313 -6.507813 4.332031 -6.273438 L 3.953125 -5.253906 C 3.683594 -5.410156 3.414063 -5.488281 3.148438 -5.492188 C 2.90625 -5.488281 2.691406 -5.417969 2.5 -5.273438 C 2.308594 -5.128906 2.171875 -4.929688 2.09375 -4.675781 C 1.96875 -4.285156 1.910156 -3.855469 1.910156 -3.394531 L 1.910156 0 Z M 0.8125 0 \"/>\n",
       "</symbol>\n",
       "<symbol overflow=\"visible\" id=\"glyph0-8\">\n",
       "<path style=\"stroke:none;\" d=\"M 0.828125 -7.683594 L 0.828125 -8.949219 L 1.929688 -8.949219 L 1.929688 -7.683594 Z M 0.828125 0 L 0.828125 -6.480469 L 1.929688 -6.480469 L 1.929688 0 Z M 0.828125 0 \"/>\n",
       "</symbol>\n",
       "<symbol overflow=\"visible\" id=\"glyph0-9\">\n",
       "<path style=\"stroke:none;\" d=\"M 0.800781 0 L 0.800781 -8.949219 L 1.898438 -8.949219 L 1.898438 0 Z M 0.800781 0 \"/>\n",
       "</symbol>\n",
       "<symbol overflow=\"visible\" id=\"glyph0-10\">\n",
       "<path style=\"stroke:none;\" d=\"M 0.964844 0 L 0.964844 -8.949219 L 4.046875 -8.949219 C 4.738281 -8.945313 5.269531 -8.902344 5.640625 -8.820313 C 6.152344 -8.695313 6.589844 -8.484375 6.953125 -8.179688 C 7.421875 -7.78125 7.773438 -7.269531 8.011719 -6.648438 C 8.242188 -6.027344 8.359375 -5.320313 8.363281 -4.523438 C 8.359375 -3.84375 8.28125 -3.238281 8.125 -2.714844 C 7.964844 -2.1875 7.761719 -1.753906 7.511719 -1.414063 C 7.261719 -1.066406 6.988281 -0.796875 6.699219 -0.601563 C 6.402344 -0.402344 6.046875 -0.253906 5.628906 -0.152344 C 5.210938 -0.0507813 4.730469 0 4.191406 0 Z M 2.148438 -1.054688 L 4.058594 -1.054688 C 4.648438 -1.054688 5.109375 -1.109375 5.445313 -1.21875 C 5.777344 -1.328125 6.046875 -1.480469 6.25 -1.683594 C 6.527344 -1.960938 6.746094 -2.339844 6.90625 -2.816406 C 7.058594 -3.289063 7.136719 -3.863281 7.140625 -4.539063 C 7.136719 -5.472656 6.984375 -6.191406 6.679688 -6.699219 C 6.371094 -7.199219 5.996094 -7.535156 5.558594 -7.707031 C 5.242188 -7.824219 4.730469 -7.886719 4.027344 -7.890625 L 2.148438 -7.890625 Z M 2.148438 -1.054688 \"/>\n",
       "</symbol>\n",
       "<symbol overflow=\"visible\" id=\"glyph0-11\">\n",
       "<path style=\"stroke:none;\" d=\"M 0.824219 0 L 0.824219 -6.480469 L 1.8125 -6.480469 L 1.8125 -5.558594 C 2.285156 -6.269531 2.972656 -6.625 3.875 -6.628906 C 4.261719 -6.625 4.621094 -6.554688 4.953125 -6.417969 C 5.277344 -6.273438 5.523438 -6.089844 5.6875 -5.863281 C 5.847656 -5.632813 5.960938 -5.363281 6.03125 -5.054688 C 6.066406 -4.847656 6.085938 -4.492188 6.089844 -3.984375 L 6.089844 0 L 4.992188 0 L 4.992188 -3.941406 C 4.992188 -4.386719 4.949219 -4.722656 4.863281 -4.945313 C 4.777344 -5.167969 4.625 -5.34375 4.40625 -5.476563 C 4.1875 -5.605469 3.933594 -5.671875 3.644531 -5.675781 C 3.175781 -5.671875 2.769531 -5.523438 2.429688 -5.230469 C 2.089844 -4.929688 1.921875 -4.367188 1.921875 -3.539063 L 1.921875 0 Z M 0.824219 0 \"/>\n",
       "</symbol>\n",
       "<symbol overflow=\"visible\" id=\"glyph0-12\">\n",
       "<path style=\"stroke:none;\" d=\"M 5.054688 -2.375 L 6.132813 -2.234375 C 6.011719 -1.484375 5.710938 -0.902344 5.226563 -0.484375 C 4.742188 -0.0625 4.144531 0.144531 3.4375 0.148438 C 2.546875 0.144531 1.832031 -0.140625 1.296875 -0.722656 C 0.753906 -1.300781 0.484375 -2.132813 0.488281 -3.214844 C 0.484375 -3.914063 0.601563 -4.527344 0.835938 -5.050781 C 1.066406 -5.574219 1.417969 -5.96875 1.894531 -6.234375 C 2.363281 -6.496094 2.878906 -6.625 3.441406 -6.628906 C 4.144531 -6.625 4.722656 -6.449219 5.167969 -6.09375 C 5.613281 -5.734375 5.898438 -5.226563 6.03125 -4.578125 L 4.960938 -4.414063 C 4.855469 -4.84375 4.675781 -5.171875 4.421875 -5.394531 C 4.160156 -5.613281 3.847656 -5.722656 3.484375 -5.726563 C 2.929688 -5.722656 2.480469 -5.523438 2.136719 -5.128906 C 1.789063 -4.730469 1.617188 -4.105469 1.617188 -3.246094 C 1.617188 -2.375 1.78125 -1.742188 2.117188 -1.347656 C 2.445313 -0.953125 2.882813 -0.753906 3.425781 -0.757813 C 3.851563 -0.753906 4.210938 -0.886719 4.503906 -1.152344 C 4.789063 -1.414063 4.972656 -1.820313 5.054688 -2.375 Z M 5.054688 -2.375 \"/>\n",
       "</symbol>\n",
       "<symbol overflow=\"visible\" id=\"glyph0-13\">\n",
       "<path style=\"stroke:none;\" d=\"M 0.414063 -3.242188 C 0.410156 -4.4375 0.742188 -5.328125 1.414063 -5.90625 C 1.96875 -6.386719 2.648438 -6.625 3.453125 -6.628906 C 4.34375 -6.625 5.074219 -6.332031 5.640625 -5.75 C 6.203125 -5.164063 6.484375 -4.359375 6.488281 -3.332031 C 6.484375 -2.496094 6.359375 -1.839844 6.113281 -1.363281 C 5.859375 -0.882813 5.496094 -0.511719 5.019531 -0.25 C 4.539063 0.015625 4.015625 0.144531 3.453125 0.148438 C 2.542969 0.144531 1.8125 -0.140625 1.253906 -0.722656 C 0.691406 -1.300781 0.410156 -2.140625 0.414063 -3.242188 Z M 1.542969 -3.242188 C 1.539063 -2.40625 1.722656 -1.785156 2.085938 -1.375 C 2.445313 -0.960938 2.898438 -0.753906 3.453125 -0.757813 C 3.996094 -0.753906 4.453125 -0.960938 4.816406 -1.378906 C 5.175781 -1.789063 5.355469 -2.421875 5.359375 -3.277344 C 5.355469 -4.074219 5.171875 -4.683594 4.8125 -5.097656 C 4.445313 -5.511719 3.992188 -5.71875 3.453125 -5.71875 C 2.898438 -5.71875 2.445313 -5.511719 2.085938 -5.101563 C 1.722656 -4.6875 1.539063 -4.066406 1.542969 -3.242188 Z M 1.542969 -3.242188 \"/>\n",
       "</symbol>\n",
       "<symbol overflow=\"visible\" id=\"glyph0-14\">\n",
       "<path style=\"stroke:none;\" d=\"M 0.824219 0 L 0.824219 -6.480469 L 1.804688 -6.480469 L 1.804688 -5.574219 C 2.007813 -5.886719 2.277344 -6.140625 2.617188 -6.335938 C 2.953125 -6.527344 3.339844 -6.625 3.773438 -6.628906 C 4.25 -6.625 4.640625 -6.527344 4.953125 -6.328125 C 5.257813 -6.128906 5.476563 -5.847656 5.601563 -5.492188 C 6.113281 -6.246094 6.78125 -6.625 7.605469 -6.628906 C 8.246094 -6.625 8.738281 -6.449219 9.085938 -6.09375 C 9.429688 -5.734375 9.601563 -5.183594 9.605469 -4.449219 L 9.605469 0 L 8.515625 0 L 8.515625 -4.082031 C 8.511719 -4.519531 8.476563 -4.835938 8.40625 -5.03125 C 8.332031 -5.222656 8.203125 -5.378906 8.019531 -5.496094 C 7.828125 -5.613281 7.609375 -5.671875 7.359375 -5.675781 C 6.902344 -5.671875 6.523438 -5.519531 6.222656 -5.21875 C 5.921875 -4.914063 5.769531 -4.429688 5.773438 -3.765625 L 5.773438 0 L 4.675781 0 L 4.675781 -4.210938 C 4.675781 -4.699219 4.585938 -5.066406 4.40625 -5.308594 C 4.226563 -5.550781 3.933594 -5.671875 3.527344 -5.675781 C 3.214844 -5.671875 2.925781 -5.589844 2.667969 -5.429688 C 2.402344 -5.265625 2.214844 -5.027344 2.097656 -4.71875 C 1.980469 -4.402344 1.921875 -3.953125 1.921875 -3.363281 L 1.921875 0 Z M 0.824219 0 \"/>\n",
       "</symbol>\n",
       "<symbol overflow=\"visible\" id=\"glyph0-15\">\n",
       "<path style=\"stroke:none;\" d=\"M 5.070313 0 L 5.070313 -0.953125 C 4.5625 -0.21875 3.878906 0.144531 3.015625 0.148438 C 2.628906 0.144531 2.269531 0.0742188 1.941406 -0.0703125 C 1.605469 -0.21875 1.359375 -0.402344 1.203125 -0.625 C 1.039063 -0.84375 0.929688 -1.117188 0.867188 -1.441406 C 0.820313 -1.65625 0.796875 -1.996094 0.800781 -2.464844 L 0.800781 -6.480469 L 1.898438 -6.480469 L 1.898438 -2.886719 C 1.898438 -2.3125 1.917969 -1.925781 1.964844 -1.726563 C 2.03125 -1.433594 2.179688 -1.207031 2.40625 -1.046875 C 2.628906 -0.878906 2.90625 -0.796875 3.234375 -0.800781 C 3.5625 -0.796875 3.871094 -0.878906 4.164063 -1.050781 C 4.449219 -1.214844 4.652344 -1.445313 4.777344 -1.742188 C 4.894531 -2.03125 4.957031 -2.453125 4.957031 -3.007813 L 4.957031 -6.480469 L 6.054688 -6.480469 L 6.054688 0 Z M 5.070313 0 \"/>\n",
       "</symbol>\n",
       "<symbol overflow=\"visible\" id=\"glyph0-16\">\n",
       "<path style=\"stroke:none;\" d=\"M 0.382813 -1.933594 L 1.472656 -2.105469 C 1.527344 -1.667969 1.699219 -1.335938 1.980469 -1.105469 C 2.257813 -0.871094 2.644531 -0.753906 3.148438 -0.757813 C 3.648438 -0.753906 4.023438 -0.859375 4.273438 -1.066406 C 4.515625 -1.269531 4.640625 -1.507813 4.640625 -1.789063 C 4.640625 -2.03125 4.53125 -2.226563 4.316406 -2.375 C 4.164063 -2.46875 3.789063 -2.59375 3.191406 -2.746094 C 2.382813 -2.945313 1.824219 -3.121094 1.515625 -3.273438 C 1.203125 -3.417969 0.96875 -3.625 0.808594 -3.890625 C 0.644531 -4.152344 0.5625 -4.441406 0.566406 -4.761719 C 0.5625 -5.046875 0.628906 -5.3125 0.765625 -5.5625 C 0.894531 -5.804688 1.074219 -6.011719 1.304688 -6.175781 C 1.472656 -6.300781 1.707031 -6.40625 2.003906 -6.496094 C 2.300781 -6.582031 2.617188 -6.625 2.953125 -6.628906 C 3.460938 -6.625 3.90625 -6.550781 4.292969 -6.40625 C 4.675781 -6.257813 4.960938 -6.0625 5.144531 -5.8125 C 5.328125 -5.5625 5.453125 -5.226563 5.523438 -4.808594 L 4.449219 -4.664063 C 4.394531 -4.996094 4.253906 -5.253906 4.023438 -5.445313 C 3.789063 -5.628906 3.460938 -5.722656 3.035156 -5.726563 C 2.527344 -5.722656 2.164063 -5.640625 1.953125 -5.476563 C 1.734375 -5.308594 1.628906 -5.113281 1.628906 -4.890625 C 1.628906 -4.746094 1.671875 -4.617188 1.765625 -4.503906 C 1.851563 -4.382813 1.992188 -4.285156 2.183594 -4.210938 C 2.292969 -4.167969 2.617188 -4.074219 3.15625 -3.929688 C 3.929688 -3.722656 4.472656 -3.554688 4.78125 -3.421875 C 5.085938 -3.289063 5.324219 -3.09375 5.503906 -2.84375 C 5.675781 -2.585938 5.765625 -2.273438 5.769531 -1.90625 C 5.765625 -1.535156 5.65625 -1.191406 5.445313 -0.867188 C 5.226563 -0.542969 4.917969 -0.292969 4.519531 -0.117188 C 4.113281 0.0585938 3.660156 0.144531 3.15625 0.148438 C 2.308594 0.144531 1.664063 -0.0273438 1.226563 -0.375 C 0.78125 -0.726563 0.5 -1.246094 0.382813 -1.933594 Z M 0.382813 -1.933594 \"/>\n",
       "</symbol>\n",
       "<symbol overflow=\"visible\" id=\"glyph0-17\">\n",
       "<path style=\"stroke:none;\" d=\"M 2.625 0 L 0.160156 -6.480469 L 1.320313 -6.480469 L 2.710938 -2.601563 C 2.859375 -2.179688 2.996094 -1.742188 3.125 -1.292969 C 3.21875 -1.632813 3.355469 -2.042969 3.535156 -2.527344 L 4.972656 -6.480469 L 6.101563 -6.480469 L 3.648438 0 Z M 2.625 0 \"/>\n",
       "</symbol>\n",
       "<symbol overflow=\"visible\" id=\"glyph0-18\">\n",
       "<path style=\"stroke:none;\" d=\"M 0.621094 0.539063 L 1.691406 0.695313 C 1.734375 1.023438 1.859375 1.261719 2.0625 1.414063 C 2.335938 1.617188 2.707031 1.722656 3.179688 1.722656 C 3.683594 1.722656 4.074219 1.617188 4.355469 1.414063 C 4.628906 1.207031 4.816406 0.925781 4.917969 0.5625 C 4.972656 0.335938 5 -0.132813 5 -0.847656 C 4.515625 -0.28125 3.917969 0 3.203125 0 C 2.308594 0 1.617188 -0.320313 1.132813 -0.964844 C 0.640625 -1.605469 0.398438 -2.375 0.402344 -3.277344 C 0.398438 -3.894531 0.511719 -4.464844 0.738281 -4.988281 C 0.960938 -5.507813 1.285156 -5.914063 1.710938 -6.199219 C 2.136719 -6.484375 2.636719 -6.625 3.210938 -6.628906 C 3.976563 -6.625 4.605469 -6.316406 5.101563 -5.699219 L 5.101563 -6.480469 L 6.117188 -6.480469 L 6.117188 -0.878906 C 6.117188 0.128906 6.011719 0.84375 5.808594 1.265625 C 5.597656 1.6875 5.273438 2.019531 4.832031 2.261719 C 4.382813 2.503906 3.835938 2.625 3.1875 2.628906 C 2.414063 2.625 1.789063 2.449219 1.3125 2.105469 C 0.835938 1.753906 0.605469 1.234375 0.621094 0.539063 Z M 1.53125 -3.355469 C 1.527344 -2.503906 1.699219 -1.882813 2.039063 -1.496094 C 2.375 -1.101563 2.796875 -0.90625 3.308594 -0.910156 C 3.8125 -0.90625 4.234375 -1.101563 4.578125 -1.492188 C 4.914063 -1.878906 5.085938 -2.488281 5.089844 -3.320313 C 5.085938 -4.113281 4.910156 -4.710938 4.5625 -5.113281 C 4.207031 -5.515625 3.78125 -5.71875 3.289063 -5.71875 C 2.796875 -5.71875 2.382813 -5.519531 2.042969 -5.121094 C 1.699219 -4.722656 1.527344 -4.132813 1.53125 -3.355469 Z M 1.53125 -3.355469 \"/>\n",
       "</symbol>\n",
       "<symbol overflow=\"visible\" id=\"glyph0-19\">\n",
       "<path style=\"stroke:none;\" d=\"M 3.242188 0 L 3.242188 -7.890625 L 0.292969 -7.890625 L 0.292969 -8.949219 L 7.386719 -8.949219 L 7.386719 -7.890625 L 4.425781 -7.890625 L 4.425781 0 Z M 3.242188 0 \"/>\n",
       "</symbol>\n",
       "<symbol overflow=\"visible\" id=\"glyph0-20\">\n",
       "<path style=\"stroke:none;\" d=\"M 0.824219 2.484375 L 0.824219 -6.480469 L 1.824219 -6.480469 L 1.824219 -5.640625 C 2.058594 -5.964844 2.328125 -6.210938 2.625 -6.378906 C 2.921875 -6.542969 3.28125 -6.625 3.703125 -6.628906 C 4.257813 -6.625 4.746094 -6.484375 5.167969 -6.199219 C 5.589844 -5.914063 5.910156 -5.511719 6.128906 -4.996094 C 6.34375 -4.476563 6.449219 -3.90625 6.453125 -3.289063 C 6.449219 -2.625 6.332031 -2.03125 6.09375 -1.5 C 5.855469 -0.96875 5.507813 -0.558594 5.054688 -0.277344 C 4.597656 0.0078125 4.121094 0.144531 3.625 0.148438 C 3.257813 0.144531 2.929688 0.0703125 2.640625 -0.0820313 C 2.347656 -0.238281 2.109375 -0.433594 1.921875 -0.671875 L 1.921875 2.484375 Z M 1.820313 -3.203125 C 1.816406 -2.367188 1.984375 -1.75 2.324219 -1.355469 C 2.660156 -0.953125 3.070313 -0.753906 3.550781 -0.757813 C 4.039063 -0.753906 4.457031 -0.960938 4.804688 -1.375 C 5.152344 -1.785156 5.324219 -2.425781 5.328125 -3.296875 C 5.324219 -4.121094 5.15625 -4.738281 4.816406 -5.152344 C 4.476563 -5.558594 4.070313 -5.765625 3.601563 -5.769531 C 3.128906 -5.765625 2.714844 -5.546875 2.359375 -5.113281 C 1.996094 -4.671875 1.816406 -4.035156 1.820313 -3.203125 Z M 1.820313 -3.203125 \"/>\n",
       "</symbol>\n",
       "<symbol overflow=\"visible\" id=\"glyph0-21\">\n",
       "<path style=\"stroke:none;\" d=\"M 0.0898438 0 L 2.460938 -3.367188 L 0.269531 -6.480469 L 1.640625 -6.480469 L 2.636719 -4.960938 C 2.824219 -4.667969 2.972656 -4.425781 3.089844 -4.234375 C 3.261719 -4.503906 3.425781 -4.742188 3.582031 -4.949219 L 4.675781 -6.480469 L 5.988281 -6.480469 L 3.746094 -3.429688 L 6.160156 0 L 4.808594 0 L 3.480469 -2.015625 L 3.125 -2.558594 L 1.421875 0 Z M 0.0898438 0 \"/>\n",
       "</symbol>\n",
       "<symbol overflow=\"visible\" id=\"glyph0-22\">\n",
       "<path style=\"stroke:none;\" d=\"M 1.085938 0 L 1.085938 -5.628906 L 0.117188 -5.628906 L 0.117188 -6.480469 L 1.085938 -6.480469 L 1.085938 -7.171875 C 1.082031 -7.605469 1.121094 -7.925781 1.203125 -8.140625 C 1.304688 -8.421875 1.492188 -8.65625 1.757813 -8.835938 C 2.023438 -9.011719 2.398438 -9.097656 2.882813 -9.101563 C 3.1875 -9.097656 3.527344 -9.0625 3.90625 -8.992188 L 3.742188 -8.03125 C 3.511719 -8.070313 3.296875 -8.089844 3.09375 -8.09375 C 2.757813 -8.089844 2.519531 -8.019531 2.386719 -7.878906 C 2.246094 -7.734375 2.179688 -7.46875 2.179688 -7.078125 L 2.179688 -6.480469 L 3.441406 -6.480469 L 3.441406 -5.628906 L 2.179688 -5.628906 L 2.179688 0 Z M 1.085938 0 \"/>\n",
       "</symbol>\n",
       "<symbol overflow=\"visible\" id=\"glyph0-23\">\n",
       "<path style=\"stroke:none;\" d=\"M 0.988281 0 L 0.988281 -8.949219 L 7.457031 -8.949219 L 7.457031 -7.890625 L 2.171875 -7.890625 L 2.171875 -5.152344 L 7.121094 -5.152344 L 7.121094 -4.101563 L 2.171875 -4.101563 L 2.171875 -1.054688 L 7.664063 -1.054688 L 7.664063 0 Z M 0.988281 0 \"/>\n",
       "</symbol>\n",
       "<symbol overflow=\"visible\" id=\"glyph0-24\">\n",
       "<path style=\"stroke:none;\" d=\"M 1 0 L 1 -8.949219 L 2.183594 -8.949219 L 2.183594 -5.273438 L 6.835938 -5.273438 L 6.835938 -8.949219 L 8.019531 -8.949219 L 8.019531 0 L 6.835938 0 L 6.835938 -4.21875 L 2.183594 -4.21875 L 2.183594 0 Z M 1 0 \"/>\n",
       "</symbol>\n",
       "<symbol overflow=\"visible\" id=\"glyph0-25\">\n",
       "<path style=\"stroke:none;\" d=\"M 0.773438 2.496094 L 0.652344 1.464844 C 0.886719 1.527344 1.097656 1.558594 1.28125 1.5625 C 1.523438 1.558594 1.71875 1.519531 1.867188 1.441406 C 2.011719 1.359375 2.132813 1.242188 2.226563 1.097656 C 2.296875 0.984375 2.40625 0.714844 2.5625 0.28125 C 2.578125 0.21875 2.613281 0.128906 2.660156 0.0117188 L 0.203125 -6.480469 L 1.386719 -6.480469 L 2.734375 -2.726563 C 2.90625 -2.25 3.0625 -1.75 3.203125 -1.226563 C 3.328125 -1.726563 3.480469 -2.21875 3.65625 -2.703125 L 5.042969 -6.480469 L 6.140625 -6.480469 L 3.675781 0.109375 C 3.40625 0.820313 3.203125 1.3125 3.058594 1.582031 C 2.863281 1.941406 2.636719 2.203125 2.386719 2.375 C 2.128906 2.539063 1.828125 2.625 1.484375 2.628906 C 1.265625 2.625 1.03125 2.582031 0.773438 2.496094 Z M 0.773438 2.496094 \"/>\n",
       "</symbol>\n",
       "<symbol overflow=\"visible\" id=\"glyph0-26\">\n",
       "<path style=\"stroke:none;\" d=\"M -0.0195313 0 L 3.417969 -8.949219 L 4.695313 -8.949219 L 8.355469 0 L 7.007813 0 L 5.964844 -2.710938 L 2.222656 -2.710938 L 1.238281 0 Z M 2.5625 -3.675781 L 5.597656 -3.675781 L 4.664063 -6.152344 C 4.375 -6.902344 4.160156 -7.519531 4.027344 -8.007813 C 3.910156 -7.433594 3.75 -6.863281 3.546875 -6.296875 Z M 2.5625 -3.675781 \"/>\n",
       "</symbol>\n",
       "<symbol overflow=\"visible\" id=\"glyph0-27\">\n",
       "<path style=\"stroke:none;\" d=\"M 0.359375 -2.539063 L 1.429688 -2.6875 C 1.457031 -2 1.582031 -1.53125 1.8125 -1.28125 C 2.039063 -1.027344 2.355469 -0.902344 2.757813 -0.902344 C 3.050781 -0.902344 3.308594 -0.96875 3.527344 -1.105469 C 3.742188 -1.242188 3.890625 -1.429688 3.972656 -1.664063 C 4.050781 -1.898438 4.089844 -2.269531 4.09375 -2.78125 L 4.09375 -8.949219 L 5.28125 -8.949219 L 5.28125 -2.851563 C 5.277344 -2.097656 5.1875 -1.515625 5.007813 -1.109375 C 4.824219 -0.695313 4.535156 -0.382813 4.144531 -0.171875 C 3.75 0.046875 3.292969 0.152344 2.765625 0.152344 C 1.976563 0.152344 1.375 -0.0703125 0.960938 -0.523438 C 0.542969 -0.972656 0.339844 -1.644531 0.359375 -2.539063 Z M 0.359375 -2.539063 \"/>\n",
       "</symbol>\n",
       "<symbol overflow=\"visible\" id=\"glyph0-28\">\n",
       "<path style=\"stroke:none;\" d=\"M 1.164063 0 L 1.164063 -8.949219 L 2.351563 -8.949219 L 2.351563 0 Z M 1.164063 0 \"/>\n",
       "</symbol>\n",
       "<symbol overflow=\"visible\" id=\"glyph0-29\">\n",
       "<path style=\"stroke:none;\" d=\"M 0.964844 0 L 0.964844 -8.949219 L 4.339844 -8.949219 C 4.929688 -8.945313 5.382813 -8.917969 5.699219 -8.863281 C 6.136719 -8.789063 6.503906 -8.648438 6.804688 -8.445313 C 7.097656 -8.234375 7.335938 -7.945313 7.519531 -7.578125 C 7.699219 -7.203125 7.792969 -6.796875 7.792969 -6.359375 C 7.792969 -5.59375 7.550781 -4.949219 7.066406 -4.425781 C 6.582031 -3.894531 5.707031 -3.632813 4.445313 -3.636719 L 2.148438 -3.636719 L 2.148438 0 Z M 2.148438 -4.695313 L 4.460938 -4.695313 C 5.222656 -4.691406 5.765625 -4.835938 6.089844 -5.121094 C 6.410156 -5.402344 6.574219 -5.800781 6.574219 -6.324219 C 6.574219 -6.691406 6.476563 -7.011719 6.289063 -7.28125 C 6.097656 -7.546875 5.851563 -7.722656 5.542969 -7.8125 C 5.339844 -7.859375 4.96875 -7.886719 4.4375 -7.890625 L 2.148438 -7.890625 Z M 2.148438 -4.695313 \"/>\n",
       "</symbol>\n",
       "<symbol overflow=\"visible\" id=\"glyph0-30\">\n",
       "<path style=\"stroke:none;\" d=\"M 0.5625 -2.875 L 1.679688 -2.972656 C 1.730469 -2.519531 1.851563 -2.152344 2.046875 -1.871094 C 2.234375 -1.582031 2.535156 -1.351563 2.945313 -1.175781 C 3.351563 -0.996094 3.808594 -0.90625 4.320313 -0.910156 C 4.769531 -0.90625 5.167969 -0.972656 5.515625 -1.109375 C 5.859375 -1.242188 6.117188 -1.429688 6.289063 -1.664063 C 6.453125 -1.898438 6.539063 -2.152344 6.542969 -2.429688 C 6.539063 -2.707031 6.457031 -2.953125 6.296875 -3.164063 C 6.132813 -3.375 5.863281 -3.550781 5.492188 -3.691406 C 5.25 -3.785156 4.71875 -3.929688 3.898438 -4.128906 C 3.074219 -4.324219 2.5 -4.511719 2.171875 -4.6875 C 1.742188 -4.910156 1.421875 -5.1875 1.214844 -5.519531 C 1.003906 -5.851563 0.902344 -6.222656 0.902344 -6.632813 C 0.902344 -7.085938 1.027344 -7.507813 1.285156 -7.898438 C 1.539063 -8.289063 1.914063 -8.585938 2.410156 -8.792969 C 2.898438 -8.996094 3.449219 -9.097656 4.054688 -9.101563 C 4.714844 -9.097656 5.296875 -8.992188 5.804688 -8.78125 C 6.308594 -8.566406 6.699219 -8.25 6.976563 -7.835938 C 7.246094 -7.417969 7.390625 -6.949219 7.414063 -6.425781 L 6.28125 -6.339844 C 6.21875 -6.90625 6.011719 -7.332031 5.660156 -7.621094 C 5.308594 -7.90625 4.789063 -8.050781 4.101563 -8.054688 C 3.382813 -8.050781 2.859375 -7.917969 2.535156 -7.660156 C 2.203125 -7.394531 2.039063 -7.082031 2.042969 -6.714844 C 2.039063 -6.390625 2.15625 -6.125 2.390625 -5.921875 C 2.617188 -5.710938 3.210938 -5.496094 4.175781 -5.28125 C 5.136719 -5.0625 5.796875 -4.875 6.160156 -4.710938 C 6.675781 -4.46875 7.0625 -4.164063 7.3125 -3.796875 C 7.558594 -3.429688 7.679688 -3.003906 7.683594 -2.527344 C 7.679688 -2.046875 7.542969 -1.597656 7.273438 -1.179688 C 7 -0.757813 6.609375 -0.433594 6.101563 -0.199219 C 5.585938 0.0351563 5.011719 0.152344 4.375 0.152344 C 3.5625 0.152344 2.882813 0.0351563 2.339844 -0.199219 C 1.789063 -0.433594 1.359375 -0.789063 1.050781 -1.265625 C 0.738281 -1.738281 0.578125 -2.273438 0.5625 -2.875 Z M 0.5625 -2.875 \"/>\n",
       "</symbol>\n",
       "<symbol overflow=\"visible\" id=\"glyph0-31\">\n",
       "<path style=\"stroke:none;\" d=\"M 1.023438 0 L 1.023438 -8.949219 L 7.0625 -8.949219 L 7.0625 -7.890625 L 2.210938 -7.890625 L 2.210938 -5.121094 L 6.410156 -5.121094 L 6.410156 -4.066406 L 2.210938 -4.066406 L 2.210938 0 Z M 1.023438 0 \"/>\n",
       "</symbol>\n",
       "<symbol overflow=\"visible\" id=\"glyph0-32\">\n",
       "<path style=\"stroke:none;\" d=\"M 0.519531 -4.414063 C 0.515625 -5.46875 0.625 -6.320313 0.84375 -6.964844 C 1.0625 -7.609375 1.386719 -8.105469 1.816406 -8.457031 C 2.246094 -8.804688 2.785156 -8.980469 3.4375 -8.984375 C 3.914063 -8.980469 4.335938 -8.886719 4.699219 -8.695313 C 5.058594 -8.5 5.355469 -8.21875 5.59375 -7.859375 C 5.828125 -7.492188 6.015625 -7.050781 6.152344 -6.527344 C 6.285156 -6.003906 6.351563 -5.296875 6.355469 -4.414063 C 6.351563 -3.359375 6.242188 -2.511719 6.03125 -1.871094 C 5.8125 -1.222656 5.492188 -0.726563 5.0625 -0.375 C 4.632813 -0.0234375 4.089844 0.152344 3.4375 0.152344 C 2.570313 0.152344 1.890625 -0.15625 1.402344 -0.773438 C 0.808594 -1.515625 0.515625 -2.726563 0.519531 -4.414063 Z M 1.648438 -4.414063 C 1.644531 -2.941406 1.816406 -1.964844 2.164063 -1.480469 C 2.503906 -0.992188 2.929688 -0.75 3.4375 -0.75 C 3.9375 -0.75 4.359375 -0.992188 4.707031 -1.480469 C 5.050781 -1.96875 5.226563 -2.945313 5.226563 -4.414063 C 5.226563 -5.882813 5.050781 -6.863281 4.707031 -7.347656 C 4.359375 -7.832031 3.933594 -8.074219 3.425781 -8.074219 C 2.917969 -8.074219 2.515625 -7.859375 2.214844 -7.433594 C 1.835938 -6.886719 1.644531 -5.878906 1.648438 -4.414063 Z M 1.648438 -4.414063 \"/>\n",
       "</symbol>\n",
       "<symbol overflow=\"visible\" id=\"glyph0-33\">\n",
       "<path style=\"stroke:none;\" d=\"M 6.292969 -1.054688 L 6.292969 0 L 0.378906 0 C 0.367188 -0.265625 0.410156 -0.519531 0.507813 -0.761719 C 0.65625 -1.164063 0.898438 -1.558594 1.230469 -1.953125 C 1.558594 -2.339844 2.035156 -2.792969 2.667969 -3.308594 C 3.636719 -4.101563 4.292969 -4.734375 4.636719 -5.203125 C 4.976563 -5.667969 5.148438 -6.105469 5.152344 -6.523438 C 5.148438 -6.957031 4.992188 -7.324219 4.683594 -7.625 C 4.371094 -7.921875 3.96875 -8.074219 3.46875 -8.074219 C 2.9375 -8.074219 2.511719 -7.914063 2.195313 -7.597656 C 1.878906 -7.277344 1.71875 -6.839844 1.714844 -6.28125 L 0.585938 -6.398438 C 0.664063 -7.238281 0.953125 -7.878906 1.457031 -8.320313 C 1.960938 -8.761719 2.640625 -8.980469 3.492188 -8.984375 C 4.347656 -8.980469 5.023438 -8.742188 5.527344 -8.269531 C 6.027344 -7.789063 6.28125 -7.199219 6.28125 -6.5 C 6.28125 -6.140625 6.207031 -5.789063 6.058594 -5.445313 C 5.910156 -5.09375 5.664063 -4.730469 5.328125 -4.351563 C 4.984375 -3.964844 4.421875 -3.441406 3.636719 -2.777344 C 2.976563 -2.222656 2.554688 -1.84375 2.367188 -1.648438 C 2.179688 -1.449219 2.023438 -1.253906 1.90625 -1.054688 Z M 6.292969 -1.054688 \"/>\n",
       "</symbol>\n",
       "<symbol overflow=\"visible\" id=\"glyph0-34\">\n",
       "<path style=\"stroke:none;\" d=\"M 4.039063 0 L 4.039063 -2.140625 L 0.160156 -2.140625 L 0.160156 -3.148438 L 4.242188 -8.949219 L 5.140625 -8.949219 L 5.140625 -3.148438 L 6.347656 -3.148438 L 6.347656 -2.140625 L 5.140625 -2.140625 L 5.140625 0 Z M 4.039063 -3.148438 L 4.039063 -7.183594 L 1.238281 -3.148438 Z M 4.039063 -3.148438 \"/>\n",
       "</symbol>\n",
       "<symbol overflow=\"visible\" id=\"glyph0-35\">\n",
       "<path style=\"stroke:none;\" d=\"M 6.21875 -6.757813 L 5.125 -6.671875 C 5.027344 -7.097656 4.890625 -7.410156 4.710938 -7.609375 C 4.414063 -7.921875 4.046875 -8.078125 3.613281 -8.082031 C 3.261719 -8.078125 2.953125 -7.980469 2.691406 -7.789063 C 2.339844 -7.53125 2.066406 -7.164063 1.871094 -6.683594 C 1.667969 -6.195313 1.566406 -5.503906 1.5625 -4.613281 C 1.824219 -5.011719 2.148438 -5.3125 2.53125 -5.511719 C 2.914063 -5.703125 3.3125 -5.800781 3.734375 -5.804688 C 4.464844 -5.800781 5.089844 -5.53125 5.605469 -4.996094 C 6.117188 -4.453125 6.375 -3.757813 6.378906 -2.90625 C 6.375 -2.34375 6.253906 -1.820313 6.015625 -1.339844 C 5.769531 -0.855469 5.4375 -0.484375 5.015625 -0.230469 C 4.59375 0.0273438 4.113281 0.152344 3.578125 0.152344 C 2.660156 0.152344 1.914063 -0.183594 1.335938 -0.855469 C 0.757813 -1.527344 0.46875 -2.636719 0.46875 -4.1875 C 0.46875 -5.914063 0.789063 -7.171875 1.429688 -7.960938 C 1.984375 -8.640625 2.734375 -8.980469 3.679688 -8.984375 C 4.382813 -8.980469 4.957031 -8.785156 5.410156 -8.390625 C 5.855469 -7.996094 6.125 -7.449219 6.21875 -6.757813 Z M 1.734375 -2.898438 C 1.734375 -2.519531 1.8125 -2.15625 1.972656 -1.8125 C 2.132813 -1.460938 2.359375 -1.199219 2.648438 -1.019531 C 2.9375 -0.839844 3.238281 -0.75 3.558594 -0.75 C 4.019531 -0.75 4.417969 -0.9375 4.753906 -1.3125 C 5.082031 -1.6875 5.25 -2.195313 5.253906 -2.839844 C 5.25 -3.453125 5.085938 -3.941406 4.757813 -4.300781 C 4.429688 -4.65625 4.015625 -4.832031 3.515625 -4.835938 C 3.015625 -4.832031 2.59375 -4.65625 2.25 -4.300781 C 1.90625 -3.941406 1.734375 -3.472656 1.734375 -2.898438 Z M 1.734375 -2.898438 \"/>\n",
       "</symbol>\n",
       "<symbol overflow=\"visible\" id=\"glyph0-36\">\n",
       "<path style=\"stroke:none;\" d=\"M 2.210938 -4.851563 C 1.75 -5.015625 1.414063 -5.253906 1.195313 -5.566406 C 0.976563 -5.875 0.867188 -6.242188 0.867188 -6.675781 C 0.867188 -7.324219 1.097656 -7.871094 1.566406 -8.316406 C 2.03125 -8.757813 2.65625 -8.980469 3.4375 -8.984375 C 4.214844 -8.980469 4.84375 -8.753906 5.320313 -8.304688 C 5.796875 -7.847656 6.035156 -7.296875 6.035156 -6.648438 C 6.035156 -6.230469 5.925781 -5.867188 5.707031 -5.5625 C 5.488281 -5.25 5.15625 -5.015625 4.71875 -4.851563 C 5.265625 -4.671875 5.683594 -4.382813 5.972656 -3.984375 C 6.253906 -3.585938 6.398438 -3.109375 6.402344 -2.558594 C 6.398438 -1.789063 6.128906 -1.144531 5.589844 -0.628906 C 5.046875 -0.105469 4.332031 0.152344 3.453125 0.152344 C 2.566406 0.152344 1.855469 -0.105469 1.316406 -0.628906 C 0.773438 -1.148438 0.503906 -1.800781 0.507813 -2.585938 C 0.503906 -3.164063 0.652344 -3.652344 0.949219 -4.050781 C 1.242188 -4.441406 1.660156 -4.710938 2.210938 -4.851563 Z M 1.988281 -6.714844 C 1.984375 -6.289063 2.121094 -5.941406 2.398438 -5.675781 C 2.667969 -5.40625 3.023438 -5.273438 3.460938 -5.273438 C 3.878906 -5.273438 4.226563 -5.40625 4.5 -5.671875 C 4.769531 -5.9375 4.902344 -6.261719 4.90625 -6.652344 C 4.902344 -7.050781 4.765625 -7.390625 4.488281 -7.667969 C 4.207031 -7.941406 3.859375 -8.078125 3.449219 -8.082031 C 3.027344 -8.078125 2.679688 -7.945313 2.402344 -7.675781 C 2.125 -7.40625 1.984375 -7.085938 1.988281 -6.714844 Z M 1.636719 -2.582031 C 1.632813 -2.265625 1.707031 -1.960938 1.859375 -1.671875 C 2.003906 -1.375 2.226563 -1.148438 2.519531 -0.992188 C 2.8125 -0.828125 3.128906 -0.75 3.46875 -0.75 C 3.992188 -0.75 4.421875 -0.917969 4.765625 -1.257813 C 5.105469 -1.59375 5.277344 -2.023438 5.28125 -2.546875 C 5.277344 -3.074219 5.101563 -3.511719 4.75 -3.855469 C 4.394531 -4.199219 3.953125 -4.371094 3.429688 -4.375 C 2.910156 -4.371094 2.484375 -4.199219 2.144531 -3.863281 C 1.804688 -3.519531 1.632813 -3.09375 1.636719 -2.582031 Z M 1.636719 -2.582031 \"/>\n",
       "</symbol>\n",
       "<symbol overflow=\"visible\" id=\"glyph0-37\">\n",
       "<path style=\"stroke:none;\" d=\"M 4.65625 0 L 3.558594 0 L 3.558594 -7 C 3.289063 -6.746094 2.941406 -6.492188 2.515625 -6.242188 C 2.085938 -5.988281 1.703125 -5.800781 1.359375 -5.675781 L 1.359375 -6.738281 C 1.972656 -7.027344 2.507813 -7.375 2.972656 -7.789063 C 3.429688 -8.195313 3.757813 -8.59375 3.949219 -8.984375 L 4.65625 -8.984375 Z M 4.65625 0 \"/>\n",
       "</symbol>\n",
       "<symbol overflow=\"visible\" id=\"glyph0-38\">\n",
       "<path style=\"stroke:none;\" d=\"M 5.152344 -3.507813 L 5.152344 -4.558594 L 8.941406 -4.566406 L 8.941406 -1.246094 C 8.359375 -0.78125 7.757813 -0.433594 7.140625 -0.199219 C 6.519531 0.0351563 5.886719 0.152344 5.238281 0.152344 C 4.355469 0.152344 3.554688 -0.0351563 2.839844 -0.410156 C 2.121094 -0.785156 1.578125 -1.328125 1.214844 -2.042969 C 0.84375 -2.753906 0.660156 -3.550781 0.664063 -4.429688 C 0.660156 -5.300781 0.84375 -6.113281 1.210938 -6.867188 C 1.574219 -7.621094 2.097656 -8.179688 2.78125 -8.550781 C 3.464844 -8.914063 4.253906 -9.097656 5.144531 -9.101563 C 5.792969 -9.097656 6.375 -8.992188 6.898438 -8.785156 C 7.417969 -8.574219 7.828125 -8.285156 8.128906 -7.910156 C 8.421875 -7.535156 8.648438 -7.046875 8.808594 -6.445313 L 7.738281 -6.152344 C 7.601563 -6.605469 7.433594 -6.960938 7.238281 -7.226563 C 7.035156 -7.484375 6.75 -7.695313 6.382813 -7.851563 C 6.007813 -8.007813 5.597656 -8.085938 5.152344 -8.085938 C 4.605469 -8.085938 4.136719 -8.003906 3.746094 -7.839844 C 3.347656 -7.675781 3.03125 -7.457031 2.792969 -7.191406 C 2.546875 -6.917969 2.359375 -6.625 2.226563 -6.304688 C 2 -5.75 1.886719 -5.148438 1.886719 -4.503906 C 1.886719 -3.703125 2.023438 -3.035156 2.296875 -2.5 C 2.570313 -1.960938 2.96875 -1.5625 3.496094 -1.304688 C 4.019531 -1.042969 4.578125 -0.914063 5.167969 -0.914063 C 5.679688 -0.914063 6.179688 -1.011719 6.667969 -1.210938 C 7.15625 -1.40625 7.527344 -1.617188 7.78125 -1.84375 L 7.78125 -3.507813 Z M 5.152344 -3.507813 \"/>\n",
       "</symbol>\n",
       "<symbol overflow=\"visible\" id=\"glyph1-0\">\n",
       "<path style=\"stroke:none;\" d=\"M 3.027344 0 L 0.980469 0 L 0.980469 -7.726563 L 2.882813 -7.726563 L 2.882813 -6.628906 C 3.203125 -7.144531 3.492188 -7.488281 3.757813 -7.652344 C 4.015625 -7.816406 4.3125 -7.898438 4.640625 -7.902344 C 5.105469 -7.898438 5.554688 -7.769531 5.988281 -7.515625 L 5.355469 -5.734375 C 5.011719 -5.953125 4.691406 -6.0625 4.394531 -6.066406 C 4.105469 -6.0625 3.859375 -5.984375 3.664063 -5.828125 C 3.460938 -5.667969 3.304688 -5.382813 3.195313 -4.976563 C 3.078125 -4.5625 3.023438 -3.699219 3.027344 -2.386719 Z M 3.027344 0 \"/>\n",
       "</symbol>\n",
       "<symbol overflow=\"visible\" id=\"glyph1-1\">\n",
       "<path style=\"stroke:none;\" d=\"M 0.175781 -7.726563 L 1.308594 -7.726563 L 1.308594 -8.308594 C 1.304688 -8.957031 1.375 -9.441406 1.515625 -9.761719 C 1.652344 -10.082031 1.90625 -10.339844 2.277344 -10.542969 C 2.648438 -10.742188 3.117188 -10.84375 3.6875 -10.847656 C 4.265625 -10.84375 4.835938 -10.757813 5.398438 -10.585938 L 5.121094 -9.160156 C 4.792969 -9.234375 4.480469 -9.273438 4.183594 -9.277344 C 3.886719 -9.273438 3.671875 -9.207031 3.546875 -9.070313 C 3.414063 -8.929688 3.351563 -8.664063 3.355469 -8.273438 L 3.355469 -7.726563 L 4.882813 -7.726563 L 4.882813 -6.117188 L 3.355469 -6.117188 L 3.355469 0 L 1.308594 0 L 1.308594 -6.117188 L 0.175781 -6.117188 Z M 0.175781 -7.726563 \"/>\n",
       "</symbol>\n",
       "</g>\n",
       "<clipPath id=\"clip1\">\n",
       "  <path d=\"M 100.441406 59.039063 L 474.761719 59.039063 L 474.761719 431.558594 L 100.441406 431.558594 Z M 100.441406 59.039063 \"/>\n",
       "</clipPath>\n",
       "</defs>\n",
       "<g id=\"surface125\">\n",
       "<rect x=\"0\" y=\"0\" width=\"504\" height=\"504\" style=\"fill:rgb(100%,100%,100%);fill-opacity:1;stroke:none;\"/>\n",
       "<g style=\"fill:rgb(0%,0%,0%);fill-opacity:1;\">\n",
       "  <use xlink:href=\"#glyph0-0\" x=\"30.238281\" y=\"421.273438\"/>\n",
       "  <use xlink:href=\"#glyph0-1\" x=\"37.190186\" y=\"421.273438\"/>\n",
       "  <use xlink:href=\"#glyph0-2\" x=\"44.14209\" y=\"421.273438\"/>\n",
       "  <use xlink:href=\"#glyph0-3\" x=\"51.093994\" y=\"421.273438\"/>\n",
       "  <use xlink:href=\"#glyph0-4\" x=\"54.566895\" y=\"421.273438\"/>\n",
       "</g>\n",
       "<g style=\"fill:rgb(0%,0%,0%);fill-opacity:1;\">\n",
       "  <use xlink:href=\"#glyph0-5\" x=\"30.238281\" y=\"407.515625\"/>\n",
       "  <use xlink:href=\"#glyph0-6\" x=\"40.650879\" y=\"407.515625\"/>\n",
       "  <use xlink:href=\"#glyph0-7\" x=\"47.602783\" y=\"407.515625\"/>\n",
       "  <use xlink:href=\"#glyph0-8\" x=\"51.765381\" y=\"407.515625\"/>\n",
       "  <use xlink:href=\"#glyph0-3\" x=\"54.54248\" y=\"407.515625\"/>\n",
       "  <use xlink:href=\"#glyph0-6\" x=\"58.015381\" y=\"407.515625\"/>\n",
       "  <use xlink:href=\"#glyph0-9\" x=\"64.967285\" y=\"407.515625\"/>\n",
       "</g>\n",
       "<g style=\"fill:rgb(0%,0%,0%);fill-opacity:1;\">\n",
       "  <use xlink:href=\"#glyph0-10\" x=\"30.238281\" y=\"393.753906\"/>\n",
       "  <use xlink:href=\"#glyph0-1\" x=\"39.265381\" y=\"393.753906\"/>\n",
       "  <use xlink:href=\"#glyph0-2\" x=\"46.217285\" y=\"393.753906\"/>\n",
       "  <use xlink:href=\"#glyph0-3\" x=\"53.169189\" y=\"393.753906\"/>\n",
       "</g>\n",
       "<g style=\"fill:rgb(0%,0%,0%);fill-opacity:1;\">\n",
       "  <use xlink:href=\"#glyph0-8\" x=\"30.238281\" y=\"379.992188\"/>\n",
       "  <use xlink:href=\"#glyph0-11\" x=\"33.015381\" y=\"379.992188\"/>\n",
       "  <use xlink:href=\"#glyph0-12\" x=\"39.967285\" y=\"379.992188\"/>\n",
       "  <use xlink:href=\"#glyph0-13\" x=\"46.217285\" y=\"379.992188\"/>\n",
       "  <use xlink:href=\"#glyph0-14\" x=\"53.169189\" y=\"379.992188\"/>\n",
       "  <use xlink:href=\"#glyph0-1\" x=\"63.581787\" y=\"379.992188\"/>\n",
       "  <use xlink:href=\"#glyph0-4\" x=\"70.533691\" y=\"379.992188\"/>\n",
       "</g>\n",
       "<g style=\"fill:rgb(0%,0%,0%);fill-opacity:1;\">\n",
       "  <use xlink:href=\"#glyph0-6\" x=\"30.238281\" y=\"366.234375\"/>\n",
       "  <use xlink:href=\"#glyph0-14\" x=\"37.190186\" y=\"366.234375\"/>\n",
       "  <use xlink:href=\"#glyph0-13\" x=\"47.602783\" y=\"366.234375\"/>\n",
       "  <use xlink:href=\"#glyph0-15\" x=\"54.554688\" y=\"366.234375\"/>\n",
       "  <use xlink:href=\"#glyph0-11\" x=\"61.506592\" y=\"366.234375\"/>\n",
       "  <use xlink:href=\"#glyph0-3\" x=\"68.458496\" y=\"366.234375\"/>\n",
       "  <use xlink:href=\"#glyph0-4\" x=\"71.931396\" y=\"366.234375\"/>\n",
       "</g>\n",
       "<g style=\"fill:rgb(0%,0%,0%);fill-opacity:1;\">\n",
       "  <use xlink:href=\"#glyph0-3\" x=\"30.238281\" y=\"352.472656\"/>\n",
       "  <use xlink:href=\"#glyph0-8\" x=\"33.711182\" y=\"352.472656\"/>\n",
       "  <use xlink:href=\"#glyph0-14\" x=\"36.488281\" y=\"352.472656\"/>\n",
       "  <use xlink:href=\"#glyph0-1\" x=\"46.900879\" y=\"352.472656\"/>\n",
       "  <use xlink:href=\"#glyph0-4\" x=\"53.852783\" y=\"352.472656\"/>\n",
       "</g>\n",
       "<g style=\"fill:rgb(0%,0%,0%);fill-opacity:1;\">\n",
       "  <use xlink:href=\"#glyph0-16\" x=\"30.238281\" y=\"338.714844\"/>\n",
       "  <use xlink:href=\"#glyph0-6\" x=\"36.488281\" y=\"338.714844\"/>\n",
       "  <use xlink:href=\"#glyph0-17\" x=\"43.440186\" y=\"338.714844\"/>\n",
       "  <use xlink:href=\"#glyph0-8\" x=\"49.690186\" y=\"338.714844\"/>\n",
       "  <use xlink:href=\"#glyph0-11\" x=\"52.467285\" y=\"338.714844\"/>\n",
       "  <use xlink:href=\"#glyph0-18\" x=\"59.419189\" y=\"338.714844\"/>\n",
       "  <use xlink:href=\"#glyph0-16\" x=\"66.371094\" y=\"338.714844\"/>\n",
       "  <use xlink:href=\"#glyph0-4\" x=\"72.621094\" y=\"338.714844\"/>\n",
       "</g>\n",
       "<g style=\"fill:rgb(0%,0%,0%);fill-opacity:1;\">\n",
       "  <use xlink:href=\"#glyph0-19\" x=\"30.238281\" y=\"324.953125\"/>\n",
       "  <use xlink:href=\"#glyph0-8\" x=\"37.873779\" y=\"324.953125\"/>\n",
       "  <use xlink:href=\"#glyph0-14\" x=\"40.650879\" y=\"324.953125\"/>\n",
       "  <use xlink:href=\"#glyph0-1\" x=\"51.063477\" y=\"324.953125\"/>\n",
       "</g>\n",
       "<g style=\"fill:rgb(0%,0%,0%);fill-opacity:1;\">\n",
       "  <use xlink:href=\"#glyph0-20\" x=\"30.238281\" y=\"311.195313\"/>\n",
       "  <use xlink:href=\"#glyph0-7\" x=\"37.190186\" y=\"311.195313\"/>\n",
       "  <use xlink:href=\"#glyph0-8\" x=\"41.352783\" y=\"311.195313\"/>\n",
       "  <use xlink:href=\"#glyph0-12\" x=\"44.129883\" y=\"311.195313\"/>\n",
       "  <use xlink:href=\"#glyph0-1\" x=\"50.379883\" y=\"311.195313\"/>\n",
       "  <use xlink:href=\"#glyph0-4\" x=\"57.331787\" y=\"311.195313\"/>\n",
       "</g>\n",
       "<g style=\"fill:rgb(0%,0%,0%);fill-opacity:1;\">\n",
       "  <use xlink:href=\"#glyph0-6\" x=\"30.238281\" y=\"297.433594\"/>\n",
       "  <use xlink:href=\"#glyph0-18\" x=\"37.190186\" y=\"297.433594\"/>\n",
       "  <use xlink:href=\"#glyph0-1\" x=\"44.14209\" y=\"297.433594\"/>\n",
       "  <use xlink:href=\"#glyph0-4\" x=\"51.093994\" y=\"297.433594\"/>\n",
       "</g>\n",
       "<g style=\"fill:rgb(0%,0%,0%);fill-opacity:1;\">\n",
       "  <use xlink:href=\"#glyph0-6\" x=\"30.238281\" y=\"283.675781\"/>\n",
       "  <use xlink:href=\"#glyph0-16\" x=\"37.190186\" y=\"283.675781\"/>\n",
       "  <use xlink:href=\"#glyph0-16\" x=\"43.440186\" y=\"283.675781\"/>\n",
       "  <use xlink:href=\"#glyph0-1\" x=\"49.690186\" y=\"283.675781\"/>\n",
       "  <use xlink:href=\"#glyph0-3\" x=\"56.64209\" y=\"283.675781\"/>\n",
       "  <use xlink:href=\"#glyph0-16\" x=\"60.11499\" y=\"283.675781\"/>\n",
       "  <use xlink:href=\"#glyph0-4\" x=\"66.36499\" y=\"283.675781\"/>\n",
       "</g>\n",
       "<g style=\"fill:rgb(0%,0%,0%);fill-opacity:1;\">\n",
       "  <use xlink:href=\"#glyph0-1\" x=\"30.238281\" y=\"269.914063\"/>\n",
       "  <use xlink:href=\"#glyph0-21\" x=\"37.190186\" y=\"269.914063\"/>\n",
       "  <use xlink:href=\"#glyph0-20\" x=\"43.440186\" y=\"269.914063\"/>\n",
       "  <use xlink:href=\"#glyph0-1\" x=\"50.39209\" y=\"269.914063\"/>\n",
       "  <use xlink:href=\"#glyph0-11\" x=\"57.343994\" y=\"269.914063\"/>\n",
       "  <use xlink:href=\"#glyph0-16\" x=\"64.295898\" y=\"269.914063\"/>\n",
       "  <use xlink:href=\"#glyph0-1\" x=\"70.545898\" y=\"269.914063\"/>\n",
       "  <use xlink:href=\"#glyph0-16\" x=\"77.497803\" y=\"269.914063\"/>\n",
       "  <use xlink:href=\"#glyph0-4\" x=\"83.747803\" y=\"269.914063\"/>\n",
       "</g>\n",
       "<g style=\"fill:rgb(0%,0%,0%);fill-opacity:1;\">\n",
       "  <use xlink:href=\"#glyph0-22\" x=\"30.238281\" y=\"256.152344\"/>\n",
       "  <use xlink:href=\"#glyph0-8\" x=\"33.711182\" y=\"256.152344\"/>\n",
       "  <use xlink:href=\"#glyph0-11\" x=\"36.488281\" y=\"256.152344\"/>\n",
       "  <use xlink:href=\"#glyph0-7\" x=\"43.440186\" y=\"256.152344\"/>\n",
       "  <use xlink:href=\"#glyph0-6\" x=\"47.602783\" y=\"256.152344\"/>\n",
       "  <use xlink:href=\"#glyph0-3\" x=\"54.554688\" y=\"256.152344\"/>\n",
       "  <use xlink:href=\"#glyph0-4\" x=\"58.027588\" y=\"256.152344\"/>\n",
       "</g>\n",
       "<g style=\"fill:rgb(0%,0%,0%);fill-opacity:1;\">\n",
       "  <use xlink:href=\"#glyph0-23\" x=\"30.238281\" y=\"242.394531\"/>\n",
       "  <use xlink:href=\"#glyph0-21\" x=\"38.575684\" y=\"242.394531\"/>\n",
       "  <use xlink:href=\"#glyph0-20\" x=\"44.825684\" y=\"242.394531\"/>\n",
       "  <use xlink:href=\"#glyph0-1\" x=\"51.777588\" y=\"242.394531\"/>\n",
       "  <use xlink:href=\"#glyph0-11\" x=\"58.729492\" y=\"242.394531\"/>\n",
       "  <use xlink:href=\"#glyph0-16\" x=\"65.681396\" y=\"242.394531\"/>\n",
       "  <use xlink:href=\"#glyph0-1\" x=\"71.931396\" y=\"242.394531\"/>\n",
       "  <use xlink:href=\"#glyph0-16\" x=\"78.883301\" y=\"242.394531\"/>\n",
       "</g>\n",
       "<g style=\"fill:rgb(0%,0%,0%);fill-opacity:1;\">\n",
       "  <use xlink:href=\"#glyph0-24\" x=\"30.238281\" y=\"228.632813\"/>\n",
       "  <use xlink:href=\"#glyph0-13\" x=\"39.265381\" y=\"228.632813\"/>\n",
       "  <use xlink:href=\"#glyph0-14\" x=\"46.217285\" y=\"228.632813\"/>\n",
       "  <use xlink:href=\"#glyph0-1\" x=\"56.629883\" y=\"228.632813\"/>\n",
       "</g>\n",
       "<g style=\"fill:rgb(0%,0%,0%);fill-opacity:1;\">\n",
       "  <use xlink:href=\"#glyph0-16\" x=\"30.238281\" y=\"214.875\"/>\n",
       "  <use xlink:href=\"#glyph0-1\" x=\"36.488281\" y=\"214.875\"/>\n",
       "  <use xlink:href=\"#glyph0-11\" x=\"43.440186\" y=\"214.875\"/>\n",
       "  <use xlink:href=\"#glyph0-8\" x=\"50.39209\" y=\"214.875\"/>\n",
       "  <use xlink:href=\"#glyph0-13\" x=\"53.169189\" y=\"214.875\"/>\n",
       "  <use xlink:href=\"#glyph0-7\" x=\"60.121094\" y=\"214.875\"/>\n",
       "  <use xlink:href=\"#glyph0-8\" x=\"64.283691\" y=\"214.875\"/>\n",
       "  <use xlink:href=\"#glyph0-3\" x=\"67.060791\" y=\"214.875\"/>\n",
       "  <use xlink:href=\"#glyph0-25\" x=\"70.533691\" y=\"214.875\"/>\n",
       "  <use xlink:href=\"#glyph0-4\" x=\"76.783691\" y=\"214.875\"/>\n",
       "</g>\n",
       "<g style=\"fill:rgb(0%,0%,0%);fill-opacity:1;\">\n",
       "  <use xlink:href=\"#glyph0-26\" x=\"30.238281\" y=\"201.113281\"/>\n",
       "  <use xlink:href=\"#glyph0-16\" x=\"38.575684\" y=\"201.113281\"/>\n",
       "  <use xlink:href=\"#glyph0-16\" x=\"44.825684\" y=\"201.113281\"/>\n",
       "  <use xlink:href=\"#glyph0-1\" x=\"51.075684\" y=\"201.113281\"/>\n",
       "  <use xlink:href=\"#glyph0-3\" x=\"58.027588\" y=\"201.113281\"/>\n",
       "  <use xlink:href=\"#glyph0-16\" x=\"61.500488\" y=\"201.113281\"/>\n",
       "</g>\n",
       "<g style=\"fill:rgb(0%,0%,0%);fill-opacity:1;\">\n",
       "  <use xlink:href=\"#glyph0-27\" x=\"30.238281\" y=\"187.355469\"/>\n",
       "  <use xlink:href=\"#glyph0-13\" x=\"36.488281\" y=\"187.355469\"/>\n",
       "  <use xlink:href=\"#glyph0-2\" x=\"43.440186\" y=\"187.355469\"/>\n",
       "</g>\n",
       "<g style=\"fill:rgb(0%,0%,0%);fill-opacity:1;\">\n",
       "  <use xlink:href=\"#glyph0-26\" x=\"30.238281\" y=\"173.59375\"/>\n",
       "  <use xlink:href=\"#glyph0-18\" x=\"38.575684\" y=\"173.59375\"/>\n",
       "  <use xlink:href=\"#glyph0-1\" x=\"45.527588\" y=\"173.59375\"/>\n",
       "</g>\n",
       "<g style=\"fill:rgb(0%,0%,0%);fill-opacity:1;\">\n",
       "  <use xlink:href=\"#glyph0-26\" x=\"30.238281\" y=\"159.832031\"/>\n",
       "  <use xlink:href=\"#glyph0-14\" x=\"38.575684\" y=\"159.832031\"/>\n",
       "  <use xlink:href=\"#glyph0-13\" x=\"48.988281\" y=\"159.832031\"/>\n",
       "  <use xlink:href=\"#glyph0-15\" x=\"55.940186\" y=\"159.832031\"/>\n",
       "  <use xlink:href=\"#glyph0-11\" x=\"62.89209\" y=\"159.832031\"/>\n",
       "  <use xlink:href=\"#glyph0-3\" x=\"69.843994\" y=\"159.832031\"/>\n",
       "</g>\n",
       "<g style=\"fill:rgb(0%,0%,0%);fill-opacity:1;\">\n",
       "  <use xlink:href=\"#glyph0-28\" x=\"30.238281\" y=\"146.074219\"/>\n",
       "  <use xlink:href=\"#glyph0-11\" x=\"33.711182\" y=\"146.074219\"/>\n",
       "  <use xlink:href=\"#glyph0-12\" x=\"40.663086\" y=\"146.074219\"/>\n",
       "  <use xlink:href=\"#glyph0-13\" x=\"46.913086\" y=\"146.074219\"/>\n",
       "  <use xlink:href=\"#glyph0-14\" x=\"53.86499\" y=\"146.074219\"/>\n",
       "  <use xlink:href=\"#glyph0-1\" x=\"64.277588\" y=\"146.074219\"/>\n",
       "</g>\n",
       "<g style=\"fill:rgb(0%,0%,0%);fill-opacity:1;\">\n",
       "  <use xlink:href=\"#glyph0-29\" x=\"30.238281\" y=\"132.3125\"/>\n",
       "  <use xlink:href=\"#glyph0-7\" x=\"38.575684\" y=\"132.3125\"/>\n",
       "  <use xlink:href=\"#glyph0-8\" x=\"42.738281\" y=\"132.3125\"/>\n",
       "  <use xlink:href=\"#glyph0-12\" x=\"45.515381\" y=\"132.3125\"/>\n",
       "  <use xlink:href=\"#glyph0-1\" x=\"51.765381\" y=\"132.3125\"/>\n",
       "</g>\n",
       "<g style=\"fill:rgb(0%,0%,0%);fill-opacity:1;\">\n",
       "  <use xlink:href=\"#glyph0-4\" x=\"30.238281\" y=\"118.554688\"/>\n",
       "  <use xlink:href=\"#glyph0-1\" x=\"39.265381\" y=\"118.554688\"/>\n",
       "  <use xlink:href=\"#glyph0-12\" x=\"46.217285\" y=\"118.554688\"/>\n",
       "  <use xlink:href=\"#glyph0-13\" x=\"52.467285\" y=\"118.554688\"/>\n",
       "  <use xlink:href=\"#glyph0-7\" x=\"59.419189\" y=\"118.554688\"/>\n",
       "  <use xlink:href=\"#glyph0-0\" x=\"63.581787\" y=\"118.554688\"/>\n",
       "  <use xlink:href=\"#glyph0-16\" x=\"70.533691\" y=\"118.554688\"/>\n",
       "</g>\n",
       "<g style=\"fill:rgb(0%,0%,0%);fill-opacity:1;\">\n",
       "  <use xlink:href=\"#glyph0-30\" x=\"30.238281\" y=\"104.792969\"/>\n",
       "  <use xlink:href=\"#glyph0-1\" x=\"38.575684\" y=\"104.792969\"/>\n",
       "  <use xlink:href=\"#glyph0-11\" x=\"45.527588\" y=\"104.792969\"/>\n",
       "  <use xlink:href=\"#glyph0-8\" x=\"52.479492\" y=\"104.792969\"/>\n",
       "  <use xlink:href=\"#glyph0-13\" x=\"55.256592\" y=\"104.792969\"/>\n",
       "  <use xlink:href=\"#glyph0-7\" x=\"62.208496\" y=\"104.792969\"/>\n",
       "  <use xlink:href=\"#glyph0-8\" x=\"66.371094\" y=\"104.792969\"/>\n",
       "  <use xlink:href=\"#glyph0-3\" x=\"69.148193\" y=\"104.792969\"/>\n",
       "  <use xlink:href=\"#glyph0-25\" x=\"72.621094\" y=\"104.792969\"/>\n",
       "</g>\n",
       "<g style=\"fill:rgb(0%,0%,0%);fill-opacity:1;\">\n",
       "  <use xlink:href=\"#glyph0-31\" x=\"30.238281\" y=\"91.035156\"/>\n",
       "  <use xlink:href=\"#glyph0-8\" x=\"37.873779\" y=\"91.035156\"/>\n",
       "  <use xlink:href=\"#glyph0-11\" x=\"40.650879\" y=\"91.035156\"/>\n",
       "  <use xlink:href=\"#glyph0-7\" x=\"47.602783\" y=\"91.035156\"/>\n",
       "  <use xlink:href=\"#glyph0-6\" x=\"51.765381\" y=\"91.035156\"/>\n",
       "  <use xlink:href=\"#glyph0-3\" x=\"58.717285\" y=\"91.035156\"/>\n",
       "</g>\n",
       "<g style=\"fill:rgb(0%,0%,0%);fill-opacity:1;\">\n",
       "  <use xlink:href=\"#glyph0-30\" x=\"30.238281\" y=\"77.273438\"/>\n",
       "  <use xlink:href=\"#glyph0-6\" x=\"38.575684\" y=\"77.273438\"/>\n",
       "  <use xlink:href=\"#glyph0-17\" x=\"45.527588\" y=\"77.273438\"/>\n",
       "  <use xlink:href=\"#glyph0-8\" x=\"51.777588\" y=\"77.273438\"/>\n",
       "  <use xlink:href=\"#glyph0-11\" x=\"54.554688\" y=\"77.273438\"/>\n",
       "  <use xlink:href=\"#glyph0-18\" x=\"61.506592\" y=\"77.273438\"/>\n",
       "  <use xlink:href=\"#glyph0-16\" x=\"68.458496\" y=\"77.273438\"/>\n",
       "</g>\n",
       "<g clip-path=\"url(#clip1)\" clip-rule=\"nonzero\">\n",
       "<path style=\"fill:none;stroke-width:1;stroke-linecap:round;stroke-linejoin:round;stroke:rgb(74.509804%,74.509804%,74.509804%);stroke-opacity:1;stroke-dasharray:1,3;stroke-miterlimit:10;\" d=\"M 100.441406 416.800781 L 473.761719 416.800781 \"/>\n",
       "<path style=\"fill:none;stroke-width:1;stroke-linecap:round;stroke-linejoin:round;stroke:rgb(74.509804%,74.509804%,74.509804%);stroke-opacity:1;stroke-dasharray:1,3;stroke-miterlimit:10;\" d=\"M 100.441406 403.039063 L 473.761719 403.039063 \"/>\n",
       "<path style=\"fill:none;stroke-width:1;stroke-linecap:round;stroke-linejoin:round;stroke:rgb(74.509804%,74.509804%,74.509804%);stroke-opacity:1;stroke-dasharray:1,3;stroke-miterlimit:10;\" d=\"M 100.441406 389.28125 L 473.761719 389.28125 \"/>\n",
       "<path style=\"fill:none;stroke-width:1;stroke-linecap:round;stroke-linejoin:round;stroke:rgb(74.509804%,74.509804%,74.509804%);stroke-opacity:1;stroke-dasharray:1,3;stroke-miterlimit:10;\" d=\"M 100.441406 375.519531 L 473.761719 375.519531 \"/>\n",
       "<path style=\"fill:none;stroke-width:1;stroke-linecap:round;stroke-linejoin:round;stroke:rgb(74.509804%,74.509804%,74.509804%);stroke-opacity:1;stroke-dasharray:1,3;stroke-miterlimit:10;\" d=\"M 100.441406 361.761719 L 473.761719 361.761719 \"/>\n",
       "<path style=\"fill:none;stroke-width:1;stroke-linecap:round;stroke-linejoin:round;stroke:rgb(74.509804%,74.509804%,74.509804%);stroke-opacity:1;stroke-dasharray:1,3;stroke-miterlimit:10;\" d=\"M 100.441406 348 L 473.761719 348 \"/>\n",
       "<path style=\"fill:none;stroke-width:1;stroke-linecap:round;stroke-linejoin:round;stroke:rgb(74.509804%,74.509804%,74.509804%);stroke-opacity:1;stroke-dasharray:1,3;stroke-miterlimit:10;\" d=\"M 100.441406 334.238281 L 473.761719 334.238281 \"/>\n",
       "<path style=\"fill:none;stroke-width:1;stroke-linecap:round;stroke-linejoin:round;stroke:rgb(74.509804%,74.509804%,74.509804%);stroke-opacity:1;stroke-dasharray:1,3;stroke-miterlimit:10;\" d=\"M 100.441406 320.480469 L 473.761719 320.480469 \"/>\n",
       "<path style=\"fill:none;stroke-width:1;stroke-linecap:round;stroke-linejoin:round;stroke:rgb(74.509804%,74.509804%,74.509804%);stroke-opacity:1;stroke-dasharray:1,3;stroke-miterlimit:10;\" d=\"M 100.441406 306.71875 L 473.761719 306.71875 \"/>\n",
       "<path style=\"fill:none;stroke-width:1;stroke-linecap:round;stroke-linejoin:round;stroke:rgb(74.509804%,74.509804%,74.509804%);stroke-opacity:1;stroke-dasharray:1,3;stroke-miterlimit:10;\" d=\"M 100.441406 292.960938 L 473.761719 292.960938 \"/>\n",
       "<path style=\"fill:none;stroke-width:1;stroke-linecap:round;stroke-linejoin:round;stroke:rgb(74.509804%,74.509804%,74.509804%);stroke-opacity:1;stroke-dasharray:1,3;stroke-miterlimit:10;\" d=\"M 100.441406 279.199219 L 473.761719 279.199219 \"/>\n",
       "<path style=\"fill:none;stroke-width:1;stroke-linecap:round;stroke-linejoin:round;stroke:rgb(74.509804%,74.509804%,74.509804%);stroke-opacity:1;stroke-dasharray:1,3;stroke-miterlimit:10;\" d=\"M 100.441406 265.441406 L 473.761719 265.441406 \"/>\n",
       "<path style=\"fill:none;stroke-width:1;stroke-linecap:round;stroke-linejoin:round;stroke:rgb(74.509804%,74.509804%,74.509804%);stroke-opacity:1;stroke-dasharray:1,3;stroke-miterlimit:10;\" d=\"M 100.441406 251.679688 L 473.761719 251.679688 \"/>\n",
       "<path style=\"fill:none;stroke-width:1;stroke-linecap:round;stroke-linejoin:round;stroke:rgb(74.509804%,74.509804%,74.509804%);stroke-opacity:1;stroke-dasharray:1,3;stroke-miterlimit:10;\" d=\"M 100.441406 237.921875 L 473.761719 237.921875 \"/>\n",
       "<path style=\"fill:none;stroke-width:1;stroke-linecap:round;stroke-linejoin:round;stroke:rgb(74.509804%,74.509804%,74.509804%);stroke-opacity:1;stroke-dasharray:1,3;stroke-miterlimit:10;\" d=\"M 100.441406 224.160156 L 473.761719 224.160156 \"/>\n",
       "<path style=\"fill:none;stroke-width:1;stroke-linecap:round;stroke-linejoin:round;stroke:rgb(74.509804%,74.509804%,74.509804%);stroke-opacity:1;stroke-dasharray:1,3;stroke-miterlimit:10;\" d=\"M 100.441406 210.398438 L 473.761719 210.398438 \"/>\n",
       "<path style=\"fill:none;stroke-width:1;stroke-linecap:round;stroke-linejoin:round;stroke:rgb(74.509804%,74.509804%,74.509804%);stroke-opacity:1;stroke-dasharray:1,3;stroke-miterlimit:10;\" d=\"M 100.441406 196.640625 L 473.761719 196.640625 \"/>\n",
       "<path style=\"fill:none;stroke-width:1;stroke-linecap:round;stroke-linejoin:round;stroke:rgb(74.509804%,74.509804%,74.509804%);stroke-opacity:1;stroke-dasharray:1,3;stroke-miterlimit:10;\" d=\"M 100.441406 182.878906 L 473.761719 182.878906 \"/>\n",
       "<path style=\"fill:none;stroke-width:1;stroke-linecap:round;stroke-linejoin:round;stroke:rgb(74.509804%,74.509804%,74.509804%);stroke-opacity:1;stroke-dasharray:1,3;stroke-miterlimit:10;\" d=\"M 100.441406 169.121094 L 473.761719 169.121094 \"/>\n",
       "<path style=\"fill:none;stroke-width:1;stroke-linecap:round;stroke-linejoin:round;stroke:rgb(74.509804%,74.509804%,74.509804%);stroke-opacity:1;stroke-dasharray:1,3;stroke-miterlimit:10;\" d=\"M 100.441406 155.359375 L 473.761719 155.359375 \"/>\n",
       "<path style=\"fill:none;stroke-width:1;stroke-linecap:round;stroke-linejoin:round;stroke:rgb(74.509804%,74.509804%,74.509804%);stroke-opacity:1;stroke-dasharray:1,3;stroke-miterlimit:10;\" d=\"M 100.441406 141.601563 L 473.761719 141.601563 \"/>\n",
       "<path style=\"fill:none;stroke-width:1;stroke-linecap:round;stroke-linejoin:round;stroke:rgb(74.509804%,74.509804%,74.509804%);stroke-opacity:1;stroke-dasharray:1,3;stroke-miterlimit:10;\" d=\"M 100.441406 127.839844 L 473.761719 127.839844 \"/>\n",
       "<path style=\"fill:none;stroke-width:1;stroke-linecap:round;stroke-linejoin:round;stroke:rgb(74.509804%,74.509804%,74.509804%);stroke-opacity:1;stroke-dasharray:1,3;stroke-miterlimit:10;\" d=\"M 100.441406 114.078125 L 473.761719 114.078125 \"/>\n",
       "<path style=\"fill:none;stroke-width:1;stroke-linecap:round;stroke-linejoin:round;stroke:rgb(74.509804%,74.509804%,74.509804%);stroke-opacity:1;stroke-dasharray:1,3;stroke-miterlimit:10;\" d=\"M 100.441406 100.320313 L 473.761719 100.320313 \"/>\n",
       "<path style=\"fill:none;stroke-width:1;stroke-linecap:round;stroke-linejoin:round;stroke:rgb(74.509804%,74.509804%,74.509804%);stroke-opacity:1;stroke-dasharray:1,3;stroke-miterlimit:10;\" d=\"M 100.441406 86.558594 L 473.761719 86.558594 \"/>\n",
       "<path style=\"fill:none;stroke-width:1;stroke-linecap:round;stroke-linejoin:round;stroke:rgb(74.509804%,74.509804%,74.509804%);stroke-opacity:1;stroke-dasharray:1,3;stroke-miterlimit:10;\" d=\"M 100.441406 72.800781 L 473.761719 72.800781 \"/>\n",
       "<path style=\"fill-rule:nonzero;fill:rgb(100%,100%,100%);fill-opacity:1;stroke-width:1;stroke-linecap:round;stroke-linejoin:round;stroke:rgb(0%,0%,0%);stroke-opacity:1;stroke-miterlimit:10;\" d=\"M 161.105469 416.800781 C 161.105469 421.066406 154.703125 421.066406 154.703125 416.800781 C 154.703125 412.535156 161.105469 412.535156 161.105469 416.800781 \"/>\n",
       "<path style=\"fill-rule:nonzero;fill:rgb(100%,100%,100%);fill-opacity:1;stroke-width:1;stroke-linecap:round;stroke-linejoin:round;stroke:rgb(0%,0%,0%);stroke-opacity:1;stroke-miterlimit:10;\" d=\"M 170.820313 403.039063 C 170.820313 407.308594 164.421875 407.308594 164.421875 403.039063 C 164.421875 398.773438 170.820313 398.773438 170.820313 403.039063 \"/>\n",
       "<path style=\"fill-rule:nonzero;fill:rgb(100%,100%,100%);fill-opacity:1;stroke-width:1;stroke-linecap:round;stroke-linejoin:round;stroke:rgb(0%,0%,0%);stroke-opacity:1;stroke-miterlimit:10;\" d=\"M 171.535156 389.28125 C 171.535156 393.546875 165.136719 393.546875 165.136719 389.28125 C 165.136719 385.011719 171.535156 385.011719 171.535156 389.28125 \"/>\n",
       "<path style=\"fill-rule:nonzero;fill:rgb(100%,100%,100%);fill-opacity:1;stroke-width:1;stroke-linecap:round;stroke-linejoin:round;stroke:rgb(0%,0%,0%);stroke-opacity:1;stroke-miterlimit:10;\" d=\"M 184.984375 375.519531 C 184.984375 379.785156 178.582031 379.785156 178.582031 375.519531 C 178.582031 371.253906 184.984375 371.253906 184.984375 375.519531 \"/>\n",
       "<path style=\"fill-rule:nonzero;fill:rgb(100%,100%,100%);fill-opacity:1;stroke-width:1;stroke-linecap:round;stroke-linejoin:round;stroke:rgb(0%,0%,0%);stroke-opacity:1;stroke-miterlimit:10;\" d=\"M 197.773438 361.761719 C 197.773438 366.027344 191.371094 366.027344 191.371094 361.761719 C 191.371094 357.492188 197.773438 357.492188 197.773438 361.761719 \"/>\n",
       "<path style=\"fill-rule:nonzero;fill:rgb(100%,100%,100%);fill-opacity:1;stroke-width:1;stroke-linecap:round;stroke-linejoin:round;stroke:rgb(0%,0%,0%);stroke-opacity:1;stroke-miterlimit:10;\" d=\"M 198.914063 348 C 198.914063 352.265625 192.515625 352.265625 192.515625 348 C 192.515625 343.734375 198.914063 343.734375 198.914063 348 \"/>\n",
       "<path style=\"fill-rule:nonzero;fill:rgb(100%,100%,100%);fill-opacity:1;stroke-width:1;stroke-linecap:round;stroke-linejoin:round;stroke:rgb(0%,0%,0%);stroke-opacity:1;stroke-miterlimit:10;\" d=\"M 202.566406 334.238281 C 202.566406 338.507813 196.167969 338.507813 196.167969 334.238281 C 196.167969 329.972656 202.566406 329.972656 202.566406 334.238281 \"/>\n",
       "<path style=\"fill-rule:nonzero;fill:rgb(100%,100%,100%);fill-opacity:1;stroke-width:1;stroke-linecap:round;stroke-linejoin:round;stroke:rgb(0%,0%,0%);stroke-opacity:1;stroke-miterlimit:10;\" d=\"M 205.574219 320.480469 C 205.574219 324.746094 199.171875 324.746094 199.171875 320.480469 C 199.171875 316.214844 205.574219 316.214844 205.574219 320.480469 \"/>\n",
       "<path style=\"fill-rule:nonzero;fill:rgb(100%,100%,100%);fill-opacity:1;stroke-width:1;stroke-linecap:round;stroke-linejoin:round;stroke:rgb(0%,0%,0%);stroke-opacity:1;stroke-miterlimit:10;\" d=\"M 206.039063 306.71875 C 206.039063 310.988281 199.636719 310.988281 199.636719 306.71875 C 199.636719 302.453125 206.039063 302.453125 206.039063 306.71875 \"/>\n",
       "<path style=\"fill-rule:nonzero;fill:rgb(100%,100%,100%);fill-opacity:1;stroke-width:1;stroke-linecap:round;stroke-linejoin:round;stroke:rgb(0%,0%,0%);stroke-opacity:1;stroke-miterlimit:10;\" d=\"M 212.605469 292.960938 C 212.605469 297.226563 206.207031 297.226563 206.207031 292.960938 C 206.207031 288.691406 212.605469 288.691406 212.605469 292.960938 \"/>\n",
       "<path style=\"fill-rule:nonzero;fill:rgb(100%,100%,100%);fill-opacity:1;stroke-width:1;stroke-linecap:round;stroke-linejoin:round;stroke:rgb(0%,0%,0%);stroke-opacity:1;stroke-miterlimit:10;\" d=\"M 214.679688 279.199219 C 214.679688 283.464844 208.277344 283.464844 208.277344 279.199219 C 208.277344 274.933594 214.679688 274.933594 214.679688 279.199219 \"/>\n",
       "<path style=\"fill-rule:nonzero;fill:rgb(100%,100%,100%);fill-opacity:1;stroke-width:1;stroke-linecap:round;stroke-linejoin:round;stroke:rgb(0%,0%,0%);stroke-opacity:1;stroke-miterlimit:10;\" d=\"M 216.972656 265.441406 C 216.972656 269.707031 210.570313 269.707031 210.570313 265.441406 C 210.570313 261.171875 216.972656 261.171875 216.972656 265.441406 \"/>\n",
       "<path style=\"fill-rule:nonzero;fill:rgb(100%,100%,100%);fill-opacity:1;stroke-width:1;stroke-linecap:round;stroke-linejoin:round;stroke:rgb(0%,0%,0%);stroke-opacity:1;stroke-miterlimit:10;\" d=\"M 223.972656 251.679688 C 223.972656 255.945313 217.574219 255.945313 217.574219 251.679688 C 217.574219 247.414063 223.972656 247.414063 223.972656 251.679688 \"/>\n",
       "<path style=\"fill-rule:nonzero;fill:rgb(100%,100%,100%);fill-opacity:1;stroke-width:1;stroke-linecap:round;stroke-linejoin:round;stroke:rgb(0%,0%,0%);stroke-opacity:1;stroke-miterlimit:10;\" d=\"M 244.777344 237.921875 C 244.777344 242.1875 238.378906 242.1875 238.378906 237.921875 C 238.378906 233.652344 244.777344 233.652344 244.777344 237.921875 \"/>\n",
       "<path style=\"fill-rule:nonzero;fill:rgb(100%,100%,100%);fill-opacity:1;stroke-width:1;stroke-linecap:round;stroke-linejoin:round;stroke:rgb(0%,0%,0%);stroke-opacity:1;stroke-miterlimit:10;\" d=\"M 260.902344 224.160156 C 260.902344 228.425781 254.503906 228.425781 254.503906 224.160156 C 254.503906 219.894531 260.902344 219.894531 260.902344 224.160156 \"/>\n",
       "<path style=\"fill-rule:nonzero;fill:rgb(100%,100%,100%);fill-opacity:1;stroke-width:1;stroke-linecap:round;stroke-linejoin:round;stroke:rgb(0%,0%,0%);stroke-opacity:1;stroke-miterlimit:10;\" d=\"M 261.839844 210.398438 C 261.839844 214.667969 255.441406 214.667969 255.441406 210.398438 C 255.441406 206.132813 261.839844 206.132813 261.839844 210.398438 \"/>\n",
       "<path style=\"fill-rule:nonzero;fill:rgb(100%,100%,100%);fill-opacity:1;stroke-width:1;stroke-linecap:round;stroke-linejoin:round;stroke:rgb(0%,0%,0%);stroke-opacity:1;stroke-miterlimit:10;\" d=\"M 295.742188 196.640625 C 295.742188 200.90625 289.34375 200.90625 289.34375 196.640625 C 289.34375 192.375 295.742188 192.375 295.742188 196.640625 \"/>\n",
       "<path style=\"fill-rule:nonzero;fill:rgb(100%,100%,100%);fill-opacity:1;stroke-width:1;stroke-linecap:round;stroke-linejoin:round;stroke:rgb(0%,0%,0%);stroke-opacity:1;stroke-miterlimit:10;\" d=\"M 302.011719 182.878906 C 302.011719 187.148438 295.609375 187.148438 295.609375 182.878906 C 295.609375 178.613281 302.011719 178.613281 302.011719 182.878906 \"/>\n",
       "<path style=\"fill-rule:nonzero;fill:rgb(100%,100%,100%);fill-opacity:1;stroke-width:1;stroke-linecap:round;stroke-linejoin:round;stroke:rgb(0%,0%,0%);stroke-opacity:1;stroke-miterlimit:10;\" d=\"M 323.996094 169.121094 C 323.996094 173.386719 317.597656 173.386719 317.597656 169.121094 C 317.597656 164.851563 323.996094 164.851563 323.996094 169.121094 \"/>\n",
       "<path style=\"fill-rule:nonzero;fill:rgb(100%,100%,100%);fill-opacity:1;stroke-width:1;stroke-linecap:round;stroke-linejoin:round;stroke:rgb(0%,0%,0%);stroke-opacity:1;stroke-miterlimit:10;\" d=\"M 331.515625 155.359375 C 331.515625 159.625 325.117188 159.625 325.117188 155.359375 C 325.117188 151.09375 331.515625 151.09375 331.515625 155.359375 \"/>\n",
       "<path style=\"fill-rule:nonzero;fill:rgb(100%,100%,100%);fill-opacity:1;stroke-width:1;stroke-linecap:round;stroke-linejoin:round;stroke:rgb(0%,0%,0%);stroke-opacity:1;stroke-miterlimit:10;\" d=\"M 371.109375 141.601563 C 371.109375 145.867188 364.707031 145.867188 364.707031 141.601563 C 364.707031 137.332031 371.109375 137.332031 371.109375 141.601563 \"/>\n",
       "<path style=\"fill-rule:nonzero;fill:rgb(100%,100%,100%);fill-opacity:1;stroke-width:1;stroke-linecap:round;stroke-linejoin:round;stroke:rgb(0%,0%,0%);stroke-opacity:1;stroke-miterlimit:10;\" d=\"M 372.875 127.839844 C 372.875 132.105469 366.472656 132.105469 366.472656 127.839844 C 366.472656 123.574219 372.875 123.574219 372.875 127.839844 \"/>\n",
       "<path style=\"fill-rule:nonzero;fill:rgb(100%,100%,100%);fill-opacity:1;stroke-width:1;stroke-linecap:round;stroke-linejoin:round;stroke:rgb(0%,0%,0%);stroke-opacity:1;stroke-miterlimit:10;\" d=\"M 401.046875 114.078125 C 401.046875 118.347656 394.648438 118.347656 394.648438 114.078125 C 394.648438 109.8125 401.046875 109.8125 401.046875 114.078125 \"/>\n",
       "<path style=\"fill-rule:nonzero;fill:rgb(100%,100%,100%);fill-opacity:1;stroke-width:1;stroke-linecap:round;stroke-linejoin:round;stroke:rgb(0%,0%,0%);stroke-opacity:1;stroke-miterlimit:10;\" d=\"M 411.023438 100.320313 C 411.023438 104.585938 404.621094 104.585938 404.621094 100.320313 C 404.621094 96.054688 411.023438 96.054688 411.023438 100.320313 \"/>\n",
       "<path style=\"fill-rule:nonzero;fill:rgb(100%,100%,100%);fill-opacity:1;stroke-width:1;stroke-linecap:round;stroke-linejoin:round;stroke:rgb(0%,0%,0%);stroke-opacity:1;stroke-miterlimit:10;\" d=\"M 459.292969 86.558594 C 459.292969 90.828125 452.890625 90.828125 452.890625 86.558594 C 452.890625 82.292969 459.292969 82.292969 459.292969 86.558594 \"/>\n",
       "<path style=\"fill-rule:nonzero;fill:rgb(100%,100%,100%);fill-opacity:1;stroke-width:1;stroke-linecap:round;stroke-linejoin:round;stroke:rgb(0%,0%,0%);stroke-opacity:1;stroke-miterlimit:10;\" d=\"M 463.132813 72.800781 C 463.132813 77.066406 456.734375 77.066406 456.734375 72.800781 C 456.734375 68.535156 463.132813 68.535156 463.132813 72.800781 \"/>\n",
       "</g>\n",
       "<path style=\"fill:none;stroke-width:1;stroke-linecap:round;stroke-linejoin:round;stroke:rgb(0%,0%,0%);stroke-opacity:1;stroke-miterlimit:10;\" d=\"M 114.265625 430.558594 L 449.542969 430.558594 \"/>\n",
       "<path style=\"fill:none;stroke-width:1;stroke-linecap:round;stroke-linejoin:round;stroke:rgb(0%,0%,0%);stroke-opacity:1;stroke-miterlimit:10;\" d=\"M 114.265625 430.558594 L 114.265625 437.761719 \"/>\n",
       "<path style=\"fill:none;stroke-width:1;stroke-linecap:round;stroke-linejoin:round;stroke:rgb(0%,0%,0%);stroke-opacity:1;stroke-miterlimit:10;\" d=\"M 170.144531 430.558594 L 170.144531 437.761719 \"/>\n",
       "<path style=\"fill:none;stroke-width:1;stroke-linecap:round;stroke-linejoin:round;stroke:rgb(0%,0%,0%);stroke-opacity:1;stroke-miterlimit:10;\" d=\"M 226.023438 430.558594 L 226.023438 437.761719 \"/>\n",
       "<path style=\"fill:none;stroke-width:1;stroke-linecap:round;stroke-linejoin:round;stroke:rgb(0%,0%,0%);stroke-opacity:1;stroke-miterlimit:10;\" d=\"M 281.902344 430.558594 L 281.902344 437.761719 \"/>\n",
       "<path style=\"fill:none;stroke-width:1;stroke-linecap:round;stroke-linejoin:round;stroke:rgb(0%,0%,0%);stroke-opacity:1;stroke-miterlimit:10;\" d=\"M 337.785156 430.558594 L 337.785156 437.761719 \"/>\n",
       "<path style=\"fill:none;stroke-width:1;stroke-linecap:round;stroke-linejoin:round;stroke:rgb(0%,0%,0%);stroke-opacity:1;stroke-miterlimit:10;\" d=\"M 393.664063 430.558594 L 393.664063 437.761719 \"/>\n",
       "<path style=\"fill:none;stroke-width:1;stroke-linecap:round;stroke-linejoin:round;stroke:rgb(0%,0%,0%);stroke-opacity:1;stroke-miterlimit:10;\" d=\"M 449.542969 430.558594 L 449.542969 437.761719 \"/>\n",
       "<g style=\"fill:rgb(0%,0%,0%);fill-opacity:1;\">\n",
       "  <use xlink:href=\"#glyph0-32\" x=\"110.789063\" y=\"457.921875\"/>\n",
       "</g>\n",
       "<g style=\"fill:rgb(0%,0%,0%);fill-opacity:1;\">\n",
       "  <use xlink:href=\"#glyph0-33\" x=\"163.191406\" y=\"457.921875\"/>\n",
       "  <use xlink:href=\"#glyph0-32\" x=\"170.143311\" y=\"457.921875\"/>\n",
       "</g>\n",
       "<g style=\"fill:rgb(0%,0%,0%);fill-opacity:1;\">\n",
       "  <use xlink:href=\"#glyph0-34\" x=\"219.070313\" y=\"457.921875\"/>\n",
       "  <use xlink:href=\"#glyph0-32\" x=\"226.022217\" y=\"457.921875\"/>\n",
       "</g>\n",
       "<g style=\"fill:rgb(0%,0%,0%);fill-opacity:1;\">\n",
       "  <use xlink:href=\"#glyph0-35\" x=\"274.949219\" y=\"457.921875\"/>\n",
       "  <use xlink:href=\"#glyph0-32\" x=\"281.901123\" y=\"457.921875\"/>\n",
       "</g>\n",
       "<g style=\"fill:rgb(0%,0%,0%);fill-opacity:1;\">\n",
       "  <use xlink:href=\"#glyph0-36\" x=\"330.832031\" y=\"457.921875\"/>\n",
       "  <use xlink:href=\"#glyph0-32\" x=\"337.783936\" y=\"457.921875\"/>\n",
       "</g>\n",
       "<g style=\"fill:rgb(0%,0%,0%);fill-opacity:1;\">\n",
       "  <use xlink:href=\"#glyph0-37\" x=\"383.234375\" y=\"457.921875\"/>\n",
       "  <use xlink:href=\"#glyph0-32\" x=\"390.186279\" y=\"457.921875\"/>\n",
       "  <use xlink:href=\"#glyph0-32\" x=\"397.138184\" y=\"457.921875\"/>\n",
       "</g>\n",
       "<g style=\"fill:rgb(0%,0%,0%);fill-opacity:1;\">\n",
       "  <use xlink:href=\"#glyph0-37\" x=\"439.113281\" y=\"457.921875\"/>\n",
       "  <use xlink:href=\"#glyph0-33\" x=\"446.065186\" y=\"457.921875\"/>\n",
       "  <use xlink:href=\"#glyph0-32\" x=\"453.01709\" y=\"457.921875\"/>\n",
       "</g>\n",
       "<path style=\"fill:none;stroke-width:1;stroke-linecap:round;stroke-linejoin:round;stroke:rgb(0%,0%,0%);stroke-opacity:1;stroke-miterlimit:10;\" d=\"M 100.441406 430.558594 L 473.761719 430.558594 L 473.761719 59.039063 L 100.441406 59.039063 L 100.441406 430.558594 \"/>\n",
       "<g style=\"fill:rgb(0%,0%,0%);fill-opacity:1;\">\n",
       "  <use xlink:href=\"#glyph1-0\" x=\"281.722656\" y=\"34.851563\"/>\n",
       "  <use xlink:href=\"#glyph1-1\" x=\"287.521143\" y=\"34.851563\"/>\n",
       "</g>\n",
       "<g style=\"fill:rgb(0%,0%,0%);fill-opacity:1;\">\n",
       "  <use xlink:href=\"#glyph0-5\" x=\"233.605469\" y=\"486.71875\"/>\n",
       "  <use xlink:href=\"#glyph0-1\" x=\"244.018066\" y=\"486.71875\"/>\n",
       "  <use xlink:href=\"#glyph0-6\" x=\"250.969971\" y=\"486.71875\"/>\n",
       "  <use xlink:href=\"#glyph0-11\" x=\"257.921875\" y=\"486.71875\"/>\n",
       "  <use xlink:href=\"#glyph0-10\" x=\"264.873779\" y=\"486.71875\"/>\n",
       "  <use xlink:href=\"#glyph0-1\" x=\"273.900879\" y=\"486.71875\"/>\n",
       "  <use xlink:href=\"#glyph0-12\" x=\"280.852783\" y=\"486.71875\"/>\n",
       "  <use xlink:href=\"#glyph0-7\" x=\"287.102783\" y=\"486.71875\"/>\n",
       "  <use xlink:href=\"#glyph0-1\" x=\"291.265381\" y=\"486.71875\"/>\n",
       "  <use xlink:href=\"#glyph0-6\" x=\"298.217285\" y=\"486.71875\"/>\n",
       "  <use xlink:href=\"#glyph0-16\" x=\"305.169189\" y=\"486.71875\"/>\n",
       "  <use xlink:href=\"#glyph0-1\" x=\"311.419189\" y=\"486.71875\"/>\n",
       "  <use xlink:href=\"#glyph0-38\" x=\"318.371094\" y=\"486.71875\"/>\n",
       "  <use xlink:href=\"#glyph0-8\" x=\"328.093994\" y=\"486.71875\"/>\n",
       "  <use xlink:href=\"#glyph0-11\" x=\"330.871094\" y=\"486.71875\"/>\n",
       "  <use xlink:href=\"#glyph0-8\" x=\"337.822998\" y=\"486.71875\"/>\n",
       "</g>\n",
       "</g>\n",
       "</svg>\n"
      ],
      "text/plain": [
       "Plot with title \"rf\""
      ]
     },
     "metadata": {
      "image/svg+xml": {
       "isolated": true
      }
     },
     "output_type": "display_data"
    }
   ],
   "source": [
    "varImpPlot(rf,type=2)"
   ]
  },
  {
   "cell_type": "code",
   "execution_count": 27,
   "metadata": {
    "collapsed": true
   },
   "outputs": [],
   "source": [
    "library(randomForest)"
   ]
  },
  {
   "cell_type": "code",
   "execution_count": 29,
   "metadata": {
    "collapsed": false,
    "scrolled": true
   },
   "outputs": [
    {
     "data": {
      "text/html": [
       "<ol class=list-inline>\n",
       "\t<li>\"Status\"</li>\n",
       "\t<li>\"Seniority\"</li>\n",
       "\t<li>\"Home\"</li>\n",
       "\t<li>\"Time\"</li>\n",
       "\t<li>\"Age\"</li>\n",
       "\t<li>\"Marital\"</li>\n",
       "\t<li>\"Records\"</li>\n",
       "\t<li>\"Job\"</li>\n",
       "\t<li>\"Expenses\"</li>\n",
       "\t<li>\"Income\"</li>\n",
       "\t<li>\"Assets\"</li>\n",
       "\t<li>\"Debt\"</li>\n",
       "\t<li>\"Amount\"</li>\n",
       "\t<li>\"Price\"</li>\n",
       "\t<li>\"Finrat\"</li>\n",
       "\t<li>\"Savings\"</li>\n",
       "\t<li>\"seniorityR\"</li>\n",
       "\t<li>\"timeR\"</li>\n",
       "\t<li>\"ageR\"</li>\n",
       "\t<li>\"expensesR\"</li>\n",
       "\t<li>\"incomeR\"</li>\n",
       "\t<li>\"assetsR\"</li>\n",
       "\t<li>\"debtR\"</li>\n",
       "\t<li>\"amountR\"</li>\n",
       "\t<li>\"priceR\"</li>\n",
       "\t<li>\"finratR\"</li>\n",
       "\t<li>\"savingsR\"</li>\n",
       "</ol>\n"
      ],
      "text/latex": [
       "\\begin{enumerate*}\n",
       "\\item \"Status\"\n",
       "\\item \"Seniority\"\n",
       "\\item \"Home\"\n",
       "\\item \"Time\"\n",
       "\\item \"Age\"\n",
       "\\item \"Marital\"\n",
       "\\item \"Records\"\n",
       "\\item \"Job\"\n",
       "\\item \"Expenses\"\n",
       "\\item \"Income\"\n",
       "\\item \"Assets\"\n",
       "\\item \"Debt\"\n",
       "\\item \"Amount\"\n",
       "\\item \"Price\"\n",
       "\\item \"Finrat\"\n",
       "\\item \"Savings\"\n",
       "\\item \"seniorityR\"\n",
       "\\item \"timeR\"\n",
       "\\item \"ageR\"\n",
       "\\item \"expensesR\"\n",
       "\\item \"incomeR\"\n",
       "\\item \"assetsR\"\n",
       "\\item \"debtR\"\n",
       "\\item \"amountR\"\n",
       "\\item \"priceR\"\n",
       "\\item \"finratR\"\n",
       "\\item \"savingsR\"\n",
       "\\end{enumerate*}\n"
      ],
      "text/markdown": [
       "1. \"Status\"\n",
       "2. \"Seniority\"\n",
       "3. \"Home\"\n",
       "4. \"Time\"\n",
       "5. \"Age\"\n",
       "6. \"Marital\"\n",
       "7. \"Records\"\n",
       "8. \"Job\"\n",
       "9. \"Expenses\"\n",
       "10. \"Income\"\n",
       "11. \"Assets\"\n",
       "12. \"Debt\"\n",
       "13. \"Amount\"\n",
       "14. \"Price\"\n",
       "15. \"Finrat\"\n",
       "16. \"Savings\"\n",
       "17. \"seniorityR\"\n",
       "18. \"timeR\"\n",
       "19. \"ageR\"\n",
       "20. \"expensesR\"\n",
       "21. \"incomeR\"\n",
       "22. \"assetsR\"\n",
       "23. \"debtR\"\n",
       "24. \"amountR\"\n",
       "25. \"priceR\"\n",
       "26. \"finratR\"\n",
       "27. \"savingsR\"\n",
       "\n",
       "\n"
      ],
      "text/plain": [
       " [1] \"Status\"     \"Seniority\"  \"Home\"       \"Time\"       \"Age\"       \n",
       " [6] \"Marital\"    \"Records\"    \"Job\"        \"Expenses\"   \"Income\"    \n",
       "[11] \"Assets\"     \"Debt\"       \"Amount\"     \"Price\"      \"Finrat\"    \n",
       "[16] \"Savings\"    \"seniorityR\" \"timeR\"      \"ageR\"       \"expensesR\" \n",
       "[21] \"incomeR\"    \"assetsR\"    \"debtR\"      \"amountR\"    \"priceR\"    \n",
       "[26] \"finratR\"    \"savingsR\"  "
      ]
     },
     "metadata": {},
     "output_type": "display_data"
    }
   ],
   "source": [
    "colnames(cs_data_train)"
   ]
  },
  {
   "cell_type": "markdown",
   "metadata": {},
   "source": [
    "#### Partial Plot"
   ]
  },
  {
   "cell_type": "markdown",
   "metadata": {},
   "source": [
    "They can approximate arbitrary functional forms between explanatory and outcome variables, making it easy to discover complex\n",
    "nonlinear relationships that would be missed without explicit specification by many standard methods"
   ]
  },
  {
   "cell_type": "markdown",
   "metadata": {},
   "source": [
    "1) Find the feature you are interested in and all the possible values of size k\n",
    "\n",
    "2) Then at each iteration, assign each data point the same value in this feature and drop this dataset \n",
    "   through the random forest and find the prediction for each data point\n",
    "   \n",
    "3) Then compute the percentage of the vote that favors class i (if it is a classification, use logit transformation\n",
    "    ,f(x) = log pk(x) − sum(log(pj(x)))/j) compared to the votes for other classes, how favorable the feature is to this class controlling for other factors\n",
    "\n",
    "    \n",
    " * The range is compressed compared to the original data because of averaging.  For classification, the function is computed in the logit scale, so it's not necessarily positive.  High does mean higher probability for the target class.\n",
    " * The actual y value does not matter but the trend of the plot \n",
    " * Interpretation: The value of this feature is more likely to be a positive class."
   ]
  },
  {
   "cell_type": "code",
   "execution_count": 36,
   "metadata": {
    "collapsed": false
   },
   "outputs": [
    {
     "data": {
      "image/png": "[encoded data removed]",
      "image/svg+xml": [
       "<?xml version=\"1.0\" encoding=\"UTF-8\"?>\n",
       "<svg xmlns=\"http://www.w3.org/2000/svg\" xmlns:xlink=\"http://www.w3.org/1999/xlink\" width=\"504pt\" height=\"504pt\" viewBox=\"0 0 504 504\" version=\"1.1\">\n",
       "<defs>\n",
       "<g>\n",
       "<symbol overflow=\"visible\" id=\"glyph0-0\">\n",
       "<path style=\"stroke:none;\" d=\"M 0.433594 -3.691406 C 0.433594 -4.574219 0.523438 -5.285156 0.707031 -5.828125 C 0.886719 -6.367188 1.15625 -6.785156 1.519531 -7.078125 C 1.875 -7.371094 2.328125 -7.515625 2.875 -7.519531 C 3.273438 -7.515625 3.625 -7.433594 3.929688 -7.273438 C 4.230469 -7.109375 4.480469 -6.878906 4.683594 -6.574219 C 4.878906 -6.269531 5.035156 -5.898438 5.148438 -5.460938 C 5.257813 -5.023438 5.3125 -4.433594 5.316406 -3.691406 C 5.3125 -2.8125 5.222656 -2.101563 5.046875 -1.566406 C 4.863281 -1.023438 4.59375 -0.605469 4.238281 -0.3125 C 3.875 -0.015625 3.421875 0.128906 2.875 0.128906 C 2.152344 0.128906 1.585938 -0.128906 1.175781 -0.648438 C 0.679688 -1.269531 0.433594 -2.285156 0.433594 -3.691406 Z M 1.378906 -3.691406 C 1.375 -2.460938 1.519531 -1.640625 1.808594 -1.238281 C 2.09375 -0.828125 2.449219 -0.625 2.875 -0.628906 C 3.292969 -0.625 3.648438 -0.832031 3.9375 -1.242188 C 4.226563 -1.648438 4.371094 -2.464844 4.371094 -3.691406 C 4.371094 -4.925781 4.226563 -5.742188 3.9375 -6.148438 C 3.648438 -6.550781 3.289063 -6.753906 2.867188 -6.757813 C 2.4375 -6.753906 2.101563 -6.578125 1.855469 -6.222656 C 1.535156 -5.761719 1.375 -4.917969 1.378906 -3.691406 Z M 1.378906 -3.691406 \"/>\n",
       "</symbol>\n",
       "<symbol overflow=\"visible\" id=\"glyph0-1\">\n",
       "<path style=\"stroke:none;\" d=\"M 3.898438 0 L 2.976563 0 L 2.976563 -5.859375 C 2.753906 -5.648438 2.460938 -5.4375 2.105469 -5.226563 C 1.742188 -5.015625 1.421875 -4.855469 1.140625 -4.75 L 1.140625 -5.636719 C 1.652344 -5.878906 2.101563 -6.171875 2.484375 -6.515625 C 2.867188 -6.859375 3.140625 -7.191406 3.304688 -7.519531 L 3.898438 -7.519531 Z M 3.898438 0 \"/>\n",
       "</symbol>\n",
       "<symbol overflow=\"visible\" id=\"glyph0-2\">\n",
       "<path style=\"stroke:none;\" d=\"M 5.265625 -0.882813 L 5.265625 0 L 0.316406 0 C 0.308594 -0.21875 0.34375 -0.429688 0.425781 -0.636719 C 0.546875 -0.972656 0.746094 -1.304688 1.027344 -1.632813 C 1.300781 -1.957031 1.703125 -2.335938 2.230469 -2.769531 C 3.042969 -3.433594 3.59375 -3.960938 3.882813 -4.351563 C 4.167969 -4.738281 4.3125 -5.109375 4.3125 -5.460938 C 4.3125 -5.824219 4.179688 -6.128906 3.917969 -6.382813 C 3.65625 -6.628906 3.316406 -6.753906 2.902344 -6.757813 C 2.457031 -6.753906 2.105469 -6.621094 1.839844 -6.359375 C 1.574219 -6.089844 1.4375 -5.722656 1.433594 -5.253906 L 0.492188 -5.351563 C 0.554688 -6.054688 0.796875 -6.59375 1.21875 -6.964844 C 1.640625 -7.332031 2.207031 -7.515625 2.921875 -7.519531 C 3.636719 -7.515625 4.203125 -7.316406 4.625 -6.921875 C 5.039063 -6.519531 5.25 -6.027344 5.253906 -5.4375 C 5.25 -5.136719 5.1875 -4.839844 5.070313 -4.554688 C 4.945313 -4.261719 4.742188 -3.957031 4.460938 -3.640625 C 4.171875 -3.316406 3.699219 -2.878906 3.042969 -2.324219 C 2.488281 -1.859375 2.136719 -1.542969 1.980469 -1.378906 C 1.824219 -1.210938 1.695313 -1.046875 1.59375 -0.882813 Z M 5.265625 -0.882813 \"/>\n",
       "</symbol>\n",
       "<symbol overflow=\"visible\" id=\"glyph0-3\">\n",
       "<path style=\"stroke:none;\" d=\"M 0.4375 -1.976563 L 1.359375 -2.097656 C 1.460938 -1.574219 1.636719 -1.199219 1.894531 -0.972656 C 2.144531 -0.742188 2.457031 -0.625 2.824219 -0.628906 C 3.253906 -0.625 3.617188 -0.777344 3.917969 -1.078125 C 4.214844 -1.375 4.363281 -1.746094 4.367188 -2.191406 C 4.363281 -2.613281 4.226563 -2.960938 3.953125 -3.234375 C 3.675781 -3.507813 3.324219 -3.644531 2.902344 -3.648438 C 2.722656 -3.644531 2.507813 -3.609375 2.253906 -3.542969 L 2.355469 -4.351563 C 2.414063 -4.339844 2.460938 -4.335938 2.503906 -4.339844 C 2.890625 -4.335938 3.242188 -4.4375 3.558594 -4.644531 C 3.871094 -4.847656 4.03125 -5.164063 4.03125 -5.59375 C 4.03125 -5.925781 3.914063 -6.203125 3.6875 -6.429688 C 3.453125 -6.648438 3.160156 -6.761719 2.804688 -6.761719 C 2.445313 -6.761719 2.148438 -6.648438 1.910156 -6.425781 C 1.667969 -6.199219 1.511719 -5.863281 1.449219 -5.414063 L 0.53125 -5.578125 C 0.640625 -6.191406 0.894531 -6.667969 1.296875 -7.007813 C 1.691406 -7.347656 2.1875 -7.515625 2.785156 -7.519531 C 3.1875 -7.515625 3.5625 -7.429688 3.910156 -7.253906 C 4.253906 -7.078125 4.519531 -6.835938 4.703125 -6.535156 C 4.882813 -6.230469 4.972656 -5.910156 4.976563 -5.570313 C 4.972656 -5.246094 4.886719 -4.953125 4.714844 -4.6875 C 4.539063 -4.421875 4.28125 -4.210938 3.941406 -4.054688 C 4.382813 -3.953125 4.726563 -3.738281 4.972656 -3.417969 C 5.21875 -3.09375 5.34375 -2.691406 5.34375 -2.210938 C 5.34375 -1.554688 5.105469 -1 4.628906 -0.546875 C 4.152344 -0.09375 3.546875 0.128906 2.820313 0.132813 C 2.15625 0.128906 1.609375 -0.0625 1.179688 -0.453125 C 0.742188 -0.84375 0.496094 -1.351563 0.4375 -1.976563 Z M 0.4375 -1.976563 \"/>\n",
       "</symbol>\n",
       "<symbol overflow=\"visible\" id=\"glyph0-4\">\n",
       "<path style=\"stroke:none;\" d=\"M 0.46875 -2.40625 L 1.40625 -2.488281 C 1.449219 -2.109375 1.550781 -1.800781 1.714844 -1.566406 C 1.875 -1.324219 2.125 -1.132813 2.464844 -0.984375 C 2.804688 -0.835938 3.1875 -0.761719 3.617188 -0.761719 C 3.992188 -0.761719 4.328125 -0.816406 4.617188 -0.929688 C 4.90625 -1.039063 5.121094 -1.191406 5.261719 -1.390625 C 5.402344 -1.582031 5.472656 -1.796875 5.476563 -2.03125 C 5.472656 -2.265625 5.402344 -2.472656 5.269531 -2.648438 C 5.128906 -2.820313 4.90625 -2.964844 4.597656 -3.089844 C 4.394531 -3.164063 3.949219 -3.285156 3.261719 -3.453125 C 2.570313 -3.617188 2.089844 -3.773438 1.816406 -3.921875 C 1.457031 -4.105469 1.191406 -4.339844 1.019531 -4.617188 C 0.84375 -4.894531 0.753906 -5.203125 0.757813 -5.550781 C 0.753906 -5.925781 0.863281 -6.28125 1.078125 -6.609375 C 1.289063 -6.9375 1.601563 -7.1875 2.015625 -7.359375 C 2.429688 -7.527344 2.886719 -7.609375 3.390625 -7.613281 C 3.941406 -7.609375 4.429688 -7.519531 4.859375 -7.34375 C 5.28125 -7.164063 5.609375 -6.902344 5.835938 -6.554688 C 6.0625 -6.207031 6.183594 -5.816406 6.207031 -5.378906 L 5.253906 -5.304688 C 5.203125 -5.773438 5.03125 -6.132813 4.738281 -6.378906 C 4.441406 -6.617188 4.007813 -6.738281 3.433594 -6.742188 C 2.832031 -6.738281 2.394531 -6.628906 2.121094 -6.410156 C 1.847656 -6.191406 1.710938 -5.925781 1.710938 -5.617188 C 1.710938 -5.347656 1.808594 -5.125 2.003906 -4.953125 C 2.191406 -4.777344 2.6875 -4.601563 3.496094 -4.421875 C 4.296875 -4.238281 4.847656 -4.078125 5.152344 -3.941406 C 5.585938 -3.738281 5.910156 -3.484375 6.117188 -3.179688 C 6.324219 -2.871094 6.425781 -2.515625 6.429688 -2.113281 C 6.425781 -1.710938 6.3125 -1.335938 6.085938 -0.988281 C 5.855469 -0.632813 5.527344 -0.359375 5.105469 -0.164063 C 4.675781 0.03125 4.195313 0.128906 3.660156 0.128906 C 2.980469 0.128906 2.414063 0.03125 1.957031 -0.167969 C 1.5 -0.363281 1.140625 -0.660156 0.882813 -1.058594 C 0.621094 -1.453125 0.484375 -1.902344 0.46875 -2.40625 Z M 0.46875 -2.40625 \"/>\n",
       "</symbol>\n",
       "<symbol overflow=\"visible\" id=\"glyph0-5\">\n",
       "<path style=\"stroke:none;\" d=\"M 4.230469 -0.667969 C 3.886719 -0.378906 3.558594 -0.171875 3.246094 -0.0546875 C 2.929688 0.0625 2.589844 0.117188 2.230469 0.121094 C 1.632813 0.117188 1.175781 -0.0234375 0.859375 -0.3125 C 0.535156 -0.601563 0.375 -0.976563 0.378906 -1.429688 C 0.375 -1.695313 0.433594 -1.9375 0.558594 -2.15625 C 0.675781 -2.375 0.835938 -2.550781 1.035156 -2.6875 C 1.226563 -2.816406 1.445313 -2.917969 1.695313 -2.988281 C 1.871094 -3.035156 2.144531 -3.078125 2.511719 -3.125 C 3.25 -3.210938 3.796875 -3.316406 4.152344 -3.441406 C 4.152344 -3.566406 4.152344 -3.648438 4.15625 -3.683594 C 4.152344 -4.054688 4.066406 -4.316406 3.898438 -4.472656 C 3.65625 -4.675781 3.308594 -4.78125 2.851563 -4.785156 C 2.417969 -4.78125 2.097656 -4.707031 1.890625 -4.558594 C 1.683594 -4.40625 1.53125 -4.136719 1.433594 -3.753906 L 0.535156 -3.875 C 0.613281 -4.257813 0.75 -4.570313 0.9375 -4.808594 C 1.125 -5.042969 1.394531 -5.226563 1.75 -5.355469 C 2.101563 -5.480469 2.511719 -5.542969 2.984375 -5.546875 C 3.441406 -5.542969 3.816406 -5.488281 4.109375 -5.382813 C 4.398438 -5.269531 4.613281 -5.132813 4.75 -4.96875 C 4.882813 -4.804688 4.976563 -4.597656 5.035156 -4.347656 C 5.0625 -4.191406 5.078125 -3.90625 5.082031 -3.5 L 5.082031 -2.273438 C 5.078125 -1.417969 5.097656 -0.875 5.140625 -0.652344 C 5.175781 -0.421875 5.253906 -0.207031 5.371094 0 L 4.414063 0 C 4.3125 -0.1875 4.253906 -0.410156 4.230469 -0.667969 Z M 4.152344 -2.722656 C 3.816406 -2.585938 3.316406 -2.46875 2.652344 -2.375 C 2.269531 -2.316406 2 -2.257813 1.847656 -2.191406 C 1.6875 -2.121094 1.566406 -2.019531 1.484375 -1.890625 C 1.398438 -1.757813 1.359375 -1.613281 1.359375 -1.457031 C 1.359375 -1.207031 1.449219 -1 1.636719 -0.839844 C 1.816406 -0.675781 2.089844 -0.597656 2.453125 -0.597656 C 2.804688 -0.597656 3.117188 -0.671875 3.394531 -0.828125 C 3.667969 -0.980469 3.871094 -1.195313 4.003906 -1.464844 C 4.097656 -1.671875 4.148438 -1.976563 4.152344 -2.386719 Z M 4.152344 -2.722656 \"/>\n",
       "</symbol>\n",
       "<symbol overflow=\"visible\" id=\"glyph0-6\">\n",
       "<path style=\"stroke:none;\" d=\"M 2.195313 0 L 0.132813 -5.425781 L 1.101563 -5.425781 L 2.269531 -2.175781 C 2.390625 -1.820313 2.507813 -1.457031 2.613281 -1.082031 C 2.695313 -1.367188 2.808594 -1.710938 2.957031 -2.113281 L 4.164063 -5.425781 L 5.105469 -5.425781 L 3.054688 0 Z M 2.195313 0 \"/>\n",
       "</symbol>\n",
       "<symbol overflow=\"visible\" id=\"glyph0-7\">\n",
       "<path style=\"stroke:none;\" d=\"M 0.695313 -6.429688 L 0.695313 -7.488281 L 1.613281 -7.488281 L 1.613281 -6.429688 Z M 0.695313 0 L 0.695313 -5.425781 L 1.613281 -5.425781 L 1.613281 0 Z M 0.695313 0 \"/>\n",
       "</symbol>\n",
       "<symbol overflow=\"visible\" id=\"glyph0-8\">\n",
       "<path style=\"stroke:none;\" d=\"M 0.691406 0 L 0.691406 -5.425781 L 1.515625 -5.425781 L 1.515625 -4.652344 C 1.910156 -5.246094 2.484375 -5.542969 3.242188 -5.546875 C 3.566406 -5.542969 3.867188 -5.484375 4.144531 -5.371094 C 4.414063 -5.25 4.621094 -5.09375 4.757813 -4.90625 C 4.894531 -4.710938 4.988281 -4.488281 5.046875 -4.230469 C 5.078125 -4.058594 5.097656 -3.757813 5.097656 -3.335938 L 5.097656 0 L 4.179688 0 L 4.179688 -3.300781 C 4.175781 -3.667969 4.140625 -3.949219 4.070313 -4.136719 C 3.996094 -4.324219 3.871094 -4.472656 3.691406 -4.582031 C 3.507813 -4.691406 3.292969 -4.746094 3.050781 -4.75 C 2.65625 -4.746094 2.316406 -4.621094 2.035156 -4.375 C 1.746094 -4.125 1.605469 -3.652344 1.609375 -2.960938 L 1.609375 0 Z M 0.691406 0 \"/>\n",
       "</symbol>\n",
       "<symbol overflow=\"visible\" id=\"glyph0-9\">\n",
       "<path style=\"stroke:none;\" d=\"M 0.519531 0.449219 L 1.414063 0.582031 C 1.449219 0.855469 1.554688 1.058594 1.726563 1.183594 C 1.953125 1.355469 2.265625 1.441406 2.660156 1.441406 C 3.085938 1.441406 3.414063 1.355469 3.644531 1.183594 C 3.875 1.011719 4.03125 0.773438 4.117188 0.46875 C 4.160156 0.28125 4.183594 -0.109375 4.183594 -0.710938 C 3.78125 -0.234375 3.277344 0 2.679688 0 C 1.929688 0 1.355469 -0.265625 0.949219 -0.804688 C 0.539063 -1.339844 0.332031 -1.988281 0.335938 -2.742188 C 0.332031 -3.257813 0.425781 -3.734375 0.617188 -4.175781 C 0.800781 -4.609375 1.074219 -4.945313 1.429688 -5.1875 C 1.785156 -5.421875 2.203125 -5.542969 2.6875 -5.546875 C 3.324219 -5.542969 3.851563 -5.285156 4.269531 -4.769531 L 4.269531 -5.425781 L 5.117188 -5.425781 L 5.117188 -0.734375 C 5.113281 0.109375 5.027344 0.703125 4.859375 1.058594 C 4.683594 1.410156 4.414063 1.6875 4.042969 1.894531 C 3.667969 2.097656 3.207031 2.203125 2.667969 2.203125 C 2.015625 2.203125 1.492188 2.054688 1.097656 1.765625 C 0.695313 1.46875 0.503906 1.03125 0.519531 0.449219 Z M 1.28125 -2.808594 C 1.277344 -2.09375 1.417969 -1.574219 1.703125 -1.25 C 1.984375 -0.921875 2.339844 -0.761719 2.769531 -0.761719 C 3.1875 -0.761719 3.539063 -0.921875 3.828125 -1.25 C 4.109375 -1.570313 4.253906 -2.082031 4.257813 -2.777344 C 4.253906 -3.441406 4.105469 -3.941406 3.816406 -4.277344 C 3.519531 -4.613281 3.167969 -4.78125 2.753906 -4.785156 C 2.34375 -4.78125 1.996094 -4.613281 1.710938 -4.285156 C 1.421875 -3.949219 1.277344 -3.457031 1.28125 -2.808594 Z M 1.28125 -2.808594 \"/>\n",
       "</symbol>\n",
       "<symbol overflow=\"visible\" id=\"glyph0-10\">\n",
       "<path style=\"stroke:none;\" d=\"M 0.320313 -1.617188 L 1.230469 -1.761719 C 1.28125 -1.394531 1.421875 -1.113281 1.65625 -0.921875 C 1.886719 -0.726563 2.214844 -0.632813 2.636719 -0.632813 C 3.058594 -0.632813 3.371094 -0.71875 3.574219 -0.890625 C 3.777344 -1.0625 3.878906 -1.261719 3.882813 -1.496094 C 3.878906 -1.699219 3.789063 -1.863281 3.609375 -1.988281 C 3.484375 -2.066406 3.171875 -2.171875 2.671875 -2.296875 C 1.996094 -2.46875 1.527344 -2.613281 1.269531 -2.738281 C 1.007813 -2.859375 0.808594 -3.03125 0.675781 -3.253906 C 0.539063 -3.472656 0.472656 -3.71875 0.476563 -3.984375 C 0.472656 -4.226563 0.527344 -4.449219 0.640625 -4.65625 C 0.75 -4.859375 0.902344 -5.03125 1.09375 -5.167969 C 1.234375 -5.273438 1.429688 -5.363281 1.675781 -5.4375 C 1.921875 -5.507813 2.1875 -5.542969 2.472656 -5.546875 C 2.894531 -5.542969 3.265625 -5.480469 3.589844 -5.363281 C 3.910156 -5.238281 4.148438 -5.074219 4.304688 -4.863281 C 4.457031 -4.652344 4.5625 -4.371094 4.621094 -4.023438 L 3.722656 -3.902344 C 3.675781 -4.179688 3.558594 -4.394531 3.367188 -4.554688 C 3.167969 -4.707031 2.890625 -4.785156 2.539063 -4.789063 C 2.113281 -4.785156 1.8125 -4.714844 1.632813 -4.578125 C 1.449219 -4.4375 1.359375 -4.277344 1.363281 -4.089844 C 1.359375 -3.972656 1.398438 -3.863281 1.476563 -3.769531 C 1.550781 -3.667969 1.667969 -3.585938 1.828125 -3.523438 C 1.917969 -3.484375 2.1875 -3.40625 2.640625 -3.289063 C 3.289063 -3.109375 3.742188 -2.96875 4 -2.859375 C 4.253906 -2.75 4.457031 -2.589844 4.605469 -2.378906 C 4.753906 -2.167969 4.828125 -1.90625 4.828125 -1.59375 C 4.828125 -1.285156 4.738281 -0.996094 4.558594 -0.726563 C 4.378906 -0.453125 4.117188 -0.242188 3.78125 -0.0976563 C 3.441406 0.046875 3.0625 0.117188 2.640625 0.121094 C 1.933594 0.117188 1.394531 -0.0273438 1.027344 -0.316406 C 0.65625 -0.609375 0.421875 -1.042969 0.320313 -1.617188 Z M 0.320313 -1.617188 \"/>\n",
       "</symbol>\n",
       "<symbol overflow=\"visible\" id=\"glyph0-11\">\n",
       "<path style=\"stroke:none;\" d=\"M 3.382813 0 L 3.382813 -1.792969 L 0.132813 -1.792969 L 0.132813 -2.636719 L 3.550781 -7.488281 L 4.300781 -7.488281 L 4.300781 -2.636719 L 5.3125 -2.636719 L 5.3125 -1.792969 L 4.300781 -1.792969 L 4.300781 0 Z M 3.382813 -2.636719 L 3.382813 -6.011719 L 1.035156 -2.636719 Z M 3.382813 -2.636719 \"/>\n",
       "</symbol>\n",
       "<symbol overflow=\"visible\" id=\"glyph0-12\">\n",
       "<path style=\"stroke:none;\" d=\"M 5.203125 -5.652344 L 4.289063 -5.582031 C 4.207031 -5.941406 4.089844 -6.203125 3.941406 -6.367188 C 3.691406 -6.628906 3.386719 -6.761719 3.023438 -6.761719 C 2.730469 -6.761719 2.472656 -6.679688 2.253906 -6.515625 C 1.960938 -6.304688 1.730469 -5.996094 1.566406 -5.589844 C 1.394531 -5.183594 1.308594 -4.605469 1.308594 -3.859375 C 1.527344 -4.195313 1.800781 -4.445313 2.121094 -4.609375 C 2.441406 -4.769531 2.773438 -4.851563 3.125 -4.855469 C 3.734375 -4.851563 4.257813 -4.625 4.691406 -4.179688 C 5.117188 -3.726563 5.332031 -3.144531 5.335938 -2.429688 C 5.332031 -1.957031 5.230469 -1.519531 5.03125 -1.121094 C 4.828125 -0.714844 4.550781 -0.40625 4.199219 -0.191406 C 3.84375 0.0234375 3.441406 0.128906 2.992188 0.128906 C 2.222656 0.128906 1.597656 -0.152344 1.117188 -0.714844 C 0.632813 -1.277344 0.390625 -2.207031 0.394531 -3.503906 C 0.390625 -4.949219 0.660156 -6 1.195313 -6.660156 C 1.660156 -7.230469 2.285156 -7.515625 3.078125 -7.519531 C 3.664063 -7.515625 4.148438 -7.351563 4.527344 -7.023438 C 4.902344 -6.691406 5.128906 -6.234375 5.203125 -5.652344 Z M 1.449219 -2.425781 C 1.445313 -2.105469 1.515625 -1.800781 1.652344 -1.515625 C 1.785156 -1.222656 1.972656 -1.003906 2.214844 -0.855469 C 2.457031 -0.703125 2.710938 -0.625 2.976563 -0.628906 C 3.363281 -0.625 3.695313 -0.78125 3.976563 -1.097656 C 4.253906 -1.40625 4.394531 -1.832031 4.398438 -2.375 C 4.394531 -2.890625 4.257813 -3.300781 3.984375 -3.597656 C 3.707031 -3.894531 3.359375 -4.042969 2.941406 -4.046875 C 2.527344 -4.042969 2.171875 -3.894531 1.882813 -3.597656 C 1.589844 -3.300781 1.445313 -2.910156 1.449219 -2.425781 Z M 1.449219 -2.425781 \"/>\n",
       "</symbol>\n",
       "<symbol overflow=\"visible\" id=\"glyph0-13\">\n",
       "<path style=\"stroke:none;\" d=\"M 1.847656 -4.058594 C 1.464844 -4.195313 1.183594 -4.394531 1 -4.65625 C 0.816406 -4.914063 0.726563 -5.222656 0.726563 -5.585938 C 0.726563 -6.128906 0.921875 -6.589844 1.3125 -6.960938 C 1.703125 -7.332031 2.222656 -7.515625 2.875 -7.519531 C 3.527344 -7.515625 4.054688 -7.328125 4.453125 -6.949219 C 4.851563 -6.566406 5.050781 -6.101563 5.050781 -5.5625 C 5.050781 -5.210938 4.957031 -4.910156 4.777344 -4.65625 C 4.589844 -4.394531 4.316406 -4.195313 3.949219 -4.058594 C 4.40625 -3.90625 4.753906 -3.664063 4.996094 -3.335938 C 5.234375 -3 5.355469 -2.601563 5.359375 -2.140625 C 5.355469 -1.496094 5.128906 -0.957031 4.679688 -0.523438 C 4.222656 -0.0859375 3.625 0.128906 2.890625 0.128906 C 2.148438 0.128906 1.554688 -0.0898438 1.101563 -0.527344 C 0.648438 -0.964844 0.421875 -1.507813 0.425781 -2.164063 C 0.421875 -2.648438 0.542969 -3.058594 0.792969 -3.386719 C 1.035156 -3.714844 1.386719 -3.9375 1.847656 -4.058594 Z M 1.664063 -5.617188 C 1.664063 -5.261719 1.777344 -4.972656 2.003906 -4.75 C 2.230469 -4.523438 2.527344 -4.410156 2.894531 -4.414063 C 3.246094 -4.410156 3.535156 -4.523438 3.765625 -4.746094 C 3.988281 -4.96875 4.101563 -5.242188 4.105469 -5.566406 C 4.101563 -5.902344 3.984375 -6.183594 3.753906 -6.417969 C 3.519531 -6.644531 3.230469 -6.761719 2.886719 -6.761719 C 2.53125 -6.761719 2.238281 -6.648438 2.011719 -6.425781 C 1.777344 -6.199219 1.664063 -5.929688 1.664063 -5.617188 Z M 1.367188 -2.160156 C 1.363281 -1.894531 1.425781 -1.640625 1.554688 -1.398438 C 1.675781 -1.152344 1.863281 -0.960938 2.109375 -0.828125 C 2.351563 -0.691406 2.613281 -0.625 2.902344 -0.628906 C 3.335938 -0.625 3.699219 -0.765625 3.988281 -1.050781 C 4.273438 -1.332031 4.417969 -1.691406 4.417969 -2.128906 C 4.417969 -2.566406 4.269531 -2.933594 3.976563 -3.226563 C 3.679688 -3.511719 3.3125 -3.65625 2.871094 -3.660156 C 2.4375 -3.65625 2.078125 -3.511719 1.792969 -3.230469 C 1.507813 -2.941406 1.363281 -2.585938 1.367188 -2.160156 Z M 1.367188 -2.160156 \"/>\n",
       "</symbol>\n",
       "<symbol overflow=\"visible\" id=\"glyph0-14\">\n",
       "<path style=\"stroke:none;\" d=\"M 0.859375 0 L 0.859375 -7.488281 L 5.910156 -7.488281 L 5.910156 -6.605469 L 1.847656 -6.605469 L 1.847656 -4.285156 L 5.363281 -4.285156 L 5.363281 -3.402344 L 1.847656 -3.402344 L 1.847656 0 Z M 0.859375 0 \"/>\n",
       "</symbol>\n",
       "<symbol overflow=\"visible\" id=\"glyph0-15\">\n",
       "<path style=\"stroke:none;\" d=\"M 0.679688 0 L 0.679688 -5.425781 L 1.507813 -5.425781 L 1.507813 -4.601563 C 1.714844 -4.984375 1.910156 -5.238281 2.089844 -5.363281 C 2.265625 -5.480469 2.460938 -5.542969 2.679688 -5.546875 C 2.984375 -5.542969 3.300781 -5.445313 3.625 -5.25 L 3.308594 -4.398438 C 3.082031 -4.527344 2.859375 -4.59375 2.636719 -4.597656 C 2.433594 -4.59375 2.25 -4.53125 2.09375 -4.414063 C 1.929688 -4.289063 1.816406 -4.125 1.75 -3.914063 C 1.644531 -3.585938 1.59375 -3.226563 1.597656 -2.839844 L 1.597656 0 Z M 0.679688 0 \"/>\n",
       "</symbol>\n",
       "<symbol overflow=\"visible\" id=\"glyph0-16\">\n",
       "<path style=\"stroke:none;\" d=\"M 2.695313 -0.824219 L 2.828125 -0.0117188 C 2.566406 0.0429688 2.335938 0.0703125 2.136719 0.0703125 C 1.796875 0.0703125 1.535156 0.0195313 1.355469 -0.0859375 C 1.167969 -0.191406 1.039063 -0.332031 0.96875 -0.503906 C 0.890625 -0.675781 0.855469 -1.035156 0.859375 -1.589844 L 0.859375 -4.710938 L 0.183594 -4.710938 L 0.183594 -5.425781 L 0.859375 -5.425781 L 0.859375 -6.765625 L 1.773438 -7.320313 L 1.773438 -5.425781 L 2.695313 -5.425781 L 2.695313 -4.710938 L 1.773438 -4.710938 L 1.773438 -1.539063 C 1.769531 -1.273438 1.785156 -1.105469 1.820313 -1.03125 C 1.851563 -0.953125 1.90625 -0.890625 1.980469 -0.851563 C 2.050781 -0.804688 2.152344 -0.785156 2.292969 -0.785156 C 2.390625 -0.785156 2.527344 -0.796875 2.695313 -0.824219 Z M 2.695313 -0.824219 \"/>\n",
       "</symbol>\n",
       "<symbol overflow=\"visible\" id=\"glyph0-17\">\n",
       "<path style=\"stroke:none;\" d=\"M 4.402344 -1.746094 L 5.351563 -1.628906 C 5.199219 -1.074219 4.921875 -0.640625 4.519531 -0.335938 C 4.113281 -0.03125 3.597656 0.117188 2.96875 0.121094 C 2.171875 0.117188 1.542969 -0.125 1.078125 -0.609375 C 0.613281 -1.097656 0.378906 -1.78125 0.382813 -2.667969 C 0.378906 -3.574219 0.613281 -4.28125 1.085938 -4.789063 C 1.554688 -5.289063 2.167969 -5.542969 2.917969 -5.546875 C 3.640625 -5.542969 4.230469 -5.296875 4.691406 -4.804688 C 5.148438 -4.3125 5.378906 -3.617188 5.382813 -2.722656 C 5.378906 -2.664063 5.378906 -2.582031 5.378906 -2.476563 L 1.332031 -2.476563 C 1.363281 -1.878906 1.53125 -1.421875 1.835938 -1.105469 C 2.136719 -0.789063 2.515625 -0.632813 2.972656 -0.632813 C 3.304688 -0.632813 3.59375 -0.71875 3.832031 -0.898438 C 4.070313 -1.070313 4.257813 -1.355469 4.402344 -1.746094 Z M 1.382813 -3.234375 L 4.414063 -3.234375 C 4.367188 -3.6875 4.253906 -4.027344 4.066406 -4.257813 C 3.769531 -4.609375 3.386719 -4.785156 2.925781 -4.789063 C 2.5 -4.785156 2.144531 -4.644531 1.859375 -4.363281 C 1.570313 -4.078125 1.414063 -3.703125 1.382813 -3.234375 Z M 1.382813 -3.234375 \"/>\n",
       "</symbol>\n",
       "<symbol overflow=\"visible\" id=\"glyph0-18\">\n",
       "<path style=\"stroke:none;\" d=\"M 0.347656 -2.710938 C 0.34375 -3.714844 0.625 -4.460938 1.183594 -4.945313 C 1.648438 -5.34375 2.214844 -5.542969 2.890625 -5.546875 C 3.632813 -5.542969 4.242188 -5.296875 4.71875 -4.8125 C 5.1875 -4.320313 5.425781 -3.648438 5.429688 -2.789063 C 5.425781 -2.089844 5.320313 -1.539063 5.113281 -1.140625 C 4.902344 -0.738281 4.597656 -0.429688 4.199219 -0.210938 C 3.796875 0.0078125 3.359375 0.117188 2.890625 0.121094 C 2.125 0.117188 1.511719 -0.125 1.046875 -0.609375 C 0.578125 -1.09375 0.34375 -1.792969 0.347656 -2.710938 Z M 1.292969 -2.710938 C 1.289063 -2.015625 1.441406 -1.496094 1.746094 -1.152344 C 2.050781 -0.804688 2.429688 -0.632813 2.890625 -0.632813 C 3.34375 -0.632813 3.722656 -0.804688 4.027344 -1.152344 C 4.328125 -1.5 4.480469 -2.03125 4.484375 -2.742188 C 4.480469 -3.414063 4.328125 -3.921875 4.027344 -4.265625 C 3.71875 -4.609375 3.339844 -4.78125 2.890625 -4.785156 C 2.429688 -4.78125 2.050781 -4.609375 1.746094 -4.269531 C 1.441406 -3.921875 1.289063 -3.402344 1.292969 -2.710938 Z M 1.292969 -2.710938 \"/>\n",
       "</symbol>\n",
       "<symbol overflow=\"visible\" id=\"glyph0-19\">\n",
       "<path style=\"stroke:none;\" d=\"M 0.648438 2.089844 L 0.546875 1.226563 C 0.742188 1.277344 0.917969 1.304688 1.074219 1.308594 C 1.273438 1.304688 1.4375 1.269531 1.5625 1.203125 C 1.683594 1.132813 1.785156 1.039063 1.863281 0.917969 C 1.917969 0.824219 2.011719 0.597656 2.144531 0.234375 C 2.160156 0.183594 2.1875 0.109375 2.226563 0.0117188 L 0.167969 -5.425781 L 1.160156 -5.425781 L 2.289063 -2.28125 C 2.433594 -1.878906 2.5625 -1.460938 2.679688 -1.027344 C 2.78125 -1.445313 2.910156 -1.859375 3.058594 -2.261719 L 4.21875 -5.425781 L 5.136719 -5.425781 L 3.074219 0.09375 C 2.851563 0.6875 2.679688 1.097656 2.558594 1.324219 C 2.390625 1.625 2.203125 1.84375 1.996094 1.988281 C 1.78125 2.128906 1.53125 2.203125 1.242188 2.203125 C 1.0625 2.203125 0.863281 2.164063 0.648438 2.089844 Z M 0.648438 2.089844 \"/>\n",
       "</symbol>\n",
       "<symbol overflow=\"visible\" id=\"glyph0-20\">\n",
       "<path style=\"stroke:none;\" d=\"M -0.160156 2.078125 L -0.160156 1.414063 L 5.933594 1.414063 L 5.933594 2.078125 Z M -0.160156 2.078125 \"/>\n",
       "</symbol>\n",
       "<symbol overflow=\"visible\" id=\"glyph0-21\">\n",
       "<path style=\"stroke:none;\" d=\"M 4.230469 -1.988281 L 5.132813 -1.871094 C 5.03125 -1.242188 4.777344 -0.753906 4.375 -0.40625 C 3.964844 -0.0546875 3.464844 0.117188 2.875 0.121094 C 2.128906 0.117188 1.53125 -0.121094 1.085938 -0.605469 C 0.632813 -1.085938 0.410156 -1.78125 0.410156 -2.691406 C 0.410156 -3.273438 0.503906 -3.785156 0.699219 -4.226563 C 0.890625 -4.664063 1.1875 -4.996094 1.585938 -5.214844 C 1.980469 -5.433594 2.410156 -5.542969 2.878906 -5.546875 C 3.464844 -5.542969 3.949219 -5.394531 4.324219 -5.097656 C 4.699219 -4.800781 4.9375 -4.378906 5.046875 -3.832031 L 4.152344 -3.691406 C 4.0625 -4.054688 3.910156 -4.328125 3.699219 -4.511719 C 3.480469 -4.695313 3.222656 -4.785156 2.917969 -4.789063 C 2.453125 -4.785156 2.074219 -4.621094 1.785156 -4.289063 C 1.492188 -3.957031 1.347656 -3.433594 1.351563 -2.71875 C 1.347656 -1.988281 1.488281 -1.457031 1.769531 -1.128906 C 2.050781 -0.796875 2.414063 -0.632813 2.867188 -0.632813 C 3.222656 -0.632813 3.523438 -0.742188 3.769531 -0.964844 C 4.007813 -1.183594 4.164063 -1.523438 4.230469 -1.988281 Z M 4.230469 -1.988281 \"/>\n",
       "</symbol>\n",
       "<symbol overflow=\"visible\" id=\"glyph0-22\">\n",
       "<path style=\"stroke:none;\" d=\"M 0.824219 0 L 0.824219 -7.488281 L 4.140625 -7.488281 C 4.808594 -7.488281 5.316406 -7.417969 5.664063 -7.285156 C 6.007813 -7.148438 6.285156 -6.914063 6.496094 -6.574219 C 6.703125 -6.230469 6.808594 -5.851563 6.808594 -5.445313 C 6.808594 -4.910156 6.636719 -4.464844 6.292969 -4.101563 C 5.949219 -3.734375 5.417969 -3.5 4.699219 -3.40625 C 4.960938 -3.277344 5.160156 -3.15625 5.296875 -3.035156 C 5.585938 -2.769531 5.859375 -2.4375 6.117188 -2.039063 L 7.421875 0 L 6.175781 0 L 5.183594 -1.558594 C 4.890625 -2.003906 4.652344 -2.34375 4.46875 -2.585938 C 4.277344 -2.820313 4.109375 -2.988281 3.964844 -3.089844 C 3.8125 -3.183594 3.664063 -3.25 3.515625 -3.289063 C 3.398438 -3.308594 3.210938 -3.320313 2.960938 -3.324219 L 1.8125 -3.324219 L 1.8125 0 Z M 1.8125 -4.183594 L 3.941406 -4.183594 C 4.390625 -4.183594 4.746094 -4.230469 5.003906 -4.324219 C 5.257813 -4.417969 5.449219 -4.566406 5.585938 -4.773438 C 5.714844 -4.976563 5.78125 -5.199219 5.785156 -5.445313 C 5.78125 -5.796875 5.652344 -6.089844 5.398438 -6.316406 C 5.140625 -6.542969 4.738281 -6.65625 4.183594 -6.660156 L 1.8125 -6.660156 Z M 1.8125 -4.183594 \"/>\n",
       "</symbol>\n",
       "<symbol overflow=\"visible\" id=\"glyph0-23\">\n",
       "<path style=\"stroke:none;\" d=\"M 4.207031 0 L 4.207031 -0.683594 C 3.863281 -0.148438 3.355469 0.117188 2.691406 0.121094 C 2.253906 0.117188 1.859375 0 1.5 -0.234375 C 1.136719 -0.472656 0.855469 -0.804688 0.65625 -1.234375 C 0.457031 -1.660156 0.355469 -2.152344 0.359375 -2.707031 C 0.355469 -3.246094 0.445313 -3.734375 0.628906 -4.179688 C 0.804688 -4.617188 1.074219 -4.957031 1.4375 -5.195313 C 1.796875 -5.425781 2.203125 -5.542969 2.652344 -5.546875 C 2.976563 -5.542969 3.265625 -5.472656 3.523438 -5.339844 C 3.773438 -5.199219 3.984375 -5.019531 4.148438 -4.800781 L 4.148438 -7.488281 L 5.0625 -7.488281 L 5.0625 0 Z M 1.300781 -2.707031 C 1.300781 -2.011719 1.445313 -1.492188 1.738281 -1.148438 C 2.03125 -0.804688 2.378906 -0.632813 2.777344 -0.632813 C 3.179688 -0.632813 3.519531 -0.796875 3.800781 -1.125 C 4.078125 -1.453125 4.21875 -1.953125 4.222656 -2.628906 C 4.21875 -3.367188 4.074219 -3.910156 3.792969 -4.261719 C 3.503906 -4.605469 3.152344 -4.78125 2.738281 -4.785156 C 2.324219 -4.78125 1.984375 -4.613281 1.710938 -4.285156 C 1.4375 -3.949219 1.300781 -3.425781 1.300781 -2.707031 Z M 1.300781 -2.707031 \"/>\n",
       "</symbol>\n",
       "<symbol overflow=\"visible\" id=\"glyph1-0\">\n",
       "<path style=\"stroke:none;\" d=\"M -2.246094 -0.332031 L -3.171875 -0.332031 L -3.171875 -3.15625 L -2.246094 -3.15625 Z M -2.246094 -0.332031 \"/>\n",
       "</symbol>\n",
       "<symbol overflow=\"visible\" id=\"glyph1-1\">\n",
       "<path style=\"stroke:none;\" d=\"M -0.882813 -5.265625 L 0 -5.265625 L 0 -0.316406 C -0.21875 -0.308594 -0.429688 -0.34375 -0.636719 -0.425781 C -0.972656 -0.546875 -1.304688 -0.746094 -1.632813 -1.027344 C -1.957031 -1.300781 -2.335938 -1.703125 -2.769531 -2.230469 C -3.433594 -3.042969 -3.960938 -3.59375 -4.351563 -3.882813 C -4.738281 -4.167969 -5.109375 -4.3125 -5.460938 -4.3125 C -5.824219 -4.3125 -6.128906 -4.179688 -6.382813 -3.917969 C -6.628906 -3.65625 -6.753906 -3.316406 -6.757813 -2.902344 C -6.753906 -2.457031 -6.621094 -2.105469 -6.359375 -1.839844 C -6.089844 -1.574219 -5.722656 -1.4375 -5.253906 -1.433594 L -5.351563 -0.492188 C -6.054688 -0.554688 -6.59375 -0.796875 -6.964844 -1.21875 C -7.332031 -1.640625 -7.515625 -2.207031 -7.519531 -2.921875 C -7.515625 -3.636719 -7.316406 -4.203125 -6.921875 -4.625 C -6.519531 -5.039063 -6.027344 -5.25 -5.4375 -5.253906 C -5.136719 -5.25 -4.839844 -5.1875 -4.554688 -5.070313 C -4.261719 -4.945313 -3.957031 -4.742188 -3.640625 -4.460938 C -3.316406 -4.171875 -2.878906 -3.699219 -2.324219 -3.042969 C -1.859375 -2.488281 -1.542969 -2.136719 -1.378906 -1.980469 C -1.210938 -1.824219 -1.046875 -1.695313 -0.882813 -1.59375 Z M -0.882813 -5.265625 \"/>\n",
       "</symbol>\n",
       "<symbol overflow=\"visible\" id=\"glyph1-2\">\n",
       "<path style=\"stroke:none;\" d=\"M 0 -0.949219 L -1.046875 -0.949219 L -1.046875 -1.996094 L 0 -1.996094 Z M 0 -0.949219 \"/>\n",
       "</symbol>\n",
       "<symbol overflow=\"visible\" id=\"glyph1-3\">\n",
       "<path style=\"stroke:none;\" d=\"M -3.691406 -0.433594 C -4.574219 -0.433594 -5.285156 -0.523438 -5.828125 -0.707031 C -6.367188 -0.886719 -6.785156 -1.15625 -7.078125 -1.519531 C -7.371094 -1.875 -7.515625 -2.328125 -7.519531 -2.875 C -7.515625 -3.273438 -7.433594 -3.625 -7.273438 -3.929688 C -7.109375 -4.230469 -6.878906 -4.480469 -6.574219 -4.683594 C -6.269531 -4.878906 -5.898438 -5.035156 -5.460938 -5.148438 C -5.023438 -5.257813 -4.433594 -5.3125 -3.691406 -5.316406 C -2.8125 -5.3125 -2.101563 -5.222656 -1.566406 -5.046875 C -1.023438 -4.863281 -0.605469 -4.59375 -0.3125 -4.238281 C -0.015625 -3.875 0.128906 -3.421875 0.128906 -2.875 C 0.128906 -2.152344 -0.128906 -1.585938 -0.648438 -1.175781 C -1.269531 -0.679688 -2.285156 -0.433594 -3.691406 -0.433594 Z M -3.691406 -1.378906 C -2.460938 -1.375 -1.640625 -1.519531 -1.238281 -1.808594 C -0.828125 -2.09375 -0.625 -2.449219 -0.628906 -2.875 C -0.625 -3.292969 -0.832031 -3.648438 -1.242188 -3.9375 C -1.648438 -4.226563 -2.464844 -4.371094 -3.691406 -4.371094 C -4.925781 -4.371094 -5.742188 -4.226563 -6.148438 -3.9375 C -6.550781 -3.648438 -6.753906 -3.289063 -6.757813 -2.867188 C -6.753906 -2.4375 -6.578125 -2.101563 -6.222656 -1.855469 C -5.761719 -1.535156 -4.917969 -1.375 -3.691406 -1.378906 Z M -3.691406 -1.378906 \"/>\n",
       "</symbol>\n",
       "<symbol overflow=\"visible\" id=\"glyph1-4\">\n",
       "<path style=\"stroke:none;\" d=\"M 0 -3.898438 L 0 -2.976563 L -5.859375 -2.976563 C -5.648438 -2.753906 -5.4375 -2.460938 -5.226563 -2.105469 C -5.015625 -1.742188 -4.855469 -1.421875 -4.75 -1.140625 L -5.636719 -1.140625 C -5.878906 -1.652344 -6.171875 -2.101563 -6.515625 -2.484375 C -6.859375 -2.867188 -7.191406 -3.140625 -7.519531 -3.304688 L -7.519531 -3.898438 Z M 0 -3.898438 \"/>\n",
       "</symbol>\n",
       "<symbol overflow=\"visible\" id=\"glyph1-5\">\n",
       "<path style=\"stroke:none;\" d=\"M -1.960938 -0.433594 L -2.042969 -1.398438 C -1.570313 -1.46875 -1.21875 -1.636719 -0.984375 -1.898438 C -0.746094 -2.15625 -0.625 -2.46875 -0.628906 -2.839844 C -0.625 -3.28125 -0.792969 -3.65625 -1.128906 -3.960938 C -1.460938 -4.265625 -1.902344 -4.417969 -2.457031 -4.421875 C -2.976563 -4.417969 -3.390625 -4.269531 -3.695313 -3.980469 C -3.996094 -3.683594 -4.148438 -3.300781 -4.152344 -2.824219 C -4.148438 -2.527344 -4.082031 -2.257813 -3.949219 -2.019531 C -3.816406 -1.78125 -3.640625 -1.59375 -3.425781 -1.460938 L -3.539063 -0.597656 L -7.386719 -1.324219 L -7.386719 -5.046875 L -6.507813 -5.046875 L -6.507813 -2.058594 L -4.496094 -1.65625 C -4.804688 -2.101563 -4.960938 -2.574219 -4.964844 -3.070313 C -4.960938 -3.722656 -4.734375 -4.273438 -4.285156 -4.722656 C -3.828125 -5.171875 -3.246094 -5.394531 -2.539063 -5.398438 C -1.859375 -5.394531 -1.273438 -5.199219 -0.78125 -4.804688 C -0.171875 -4.324219 0.128906 -3.667969 0.128906 -2.839844 C 0.128906 -2.15625 -0.0585938 -1.601563 -0.441406 -1.171875 C -0.820313 -0.742188 -1.328125 -0.496094 -1.960938 -0.433594 Z M -1.960938 -0.433594 \"/>\n",
       "</symbol>\n",
       "<symbol overflow=\"visible\" id=\"glyph2-0\">\n",
       "<path style=\"stroke:none;\" d=\"M 0.90625 0 L 0.90625 -8.914063 L 3.792969 -8.914063 C 4.886719 -8.910156 5.601563 -8.867188 5.933594 -8.78125 C 6.441406 -8.644531 6.867188 -8.351563 7.214844 -7.90625 C 7.558594 -7.453125 7.734375 -6.875 7.734375 -6.171875 C 7.734375 -5.621094 7.632813 -5.160156 7.433594 -4.789063 C 7.234375 -4.414063 6.980469 -4.121094 6.675781 -3.910156 C 6.367188 -3.695313 6.058594 -3.554688 5.746094 -3.488281 C 5.3125 -3.402344 4.691406 -3.363281 3.878906 -3.363281 L 2.707031 -3.363281 L 2.707031 0 Z M 2.707031 -7.40625 L 2.707031 -4.875 L 3.691406 -4.875 C 4.398438 -4.875 4.871094 -4.921875 5.113281 -5.015625 C 5.351563 -5.109375 5.539063 -5.253906 5.675781 -5.453125 C 5.808594 -5.648438 5.875 -5.878906 5.878906 -6.148438 C 5.875 -6.46875 5.78125 -6.738281 5.59375 -6.949219 C 5.402344 -7.160156 5.160156 -7.289063 4.871094 -7.34375 C 4.652344 -7.382813 4.222656 -7.40625 3.574219 -7.40625 Z M 2.707031 -7.40625 \"/>\n",
       "</symbol>\n",
       "<symbol overflow=\"visible\" id=\"glyph2-1\">\n",
       "<path style=\"stroke:none;\" d=\"M 2.171875 -4.488281 L 0.621094 -4.765625 C 0.792969 -5.386719 1.089844 -5.851563 1.519531 -6.152344 C 1.941406 -6.449219 2.574219 -6.597656 3.417969 -6.601563 C 4.175781 -6.597656 4.742188 -6.507813 5.117188 -6.332031 C 5.488281 -6.148438 5.753906 -5.917969 5.90625 -5.644531 C 6.058594 -5.363281 6.132813 -4.855469 6.136719 -4.117188 L 6.117188 -2.121094 C 6.117188 -1.550781 6.144531 -1.128906 6.199219 -0.863281 C 6.253906 -0.589844 6.355469 -0.304688 6.503906 0 L 4.816406 0 C 4.769531 -0.113281 4.714844 -0.28125 4.652344 -0.503906 C 4.621094 -0.605469 4.597656 -0.671875 4.589844 -0.707031 C 4.292969 -0.421875 3.980469 -0.207031 3.652344 -0.0664063 C 3.316406 0.0742188 2.964844 0.140625 2.589844 0.144531 C 1.925781 0.140625 1.402344 -0.0351563 1.019531 -0.394531 C 0.636719 -0.753906 0.445313 -1.210938 0.445313 -1.761719 C 0.445313 -2.125 0.53125 -2.449219 0.703125 -2.738281 C 0.875 -3.019531 1.117188 -3.238281 1.4375 -3.394531 C 1.75 -3.542969 2.203125 -3.675781 2.796875 -3.792969 C 3.59375 -3.941406 4.148438 -4.082031 4.457031 -4.214844 L 4.457031 -4.382813 C 4.453125 -4.710938 4.371094 -4.945313 4.210938 -5.085938 C 4.046875 -5.226563 3.742188 -5.296875 3.296875 -5.296875 C 2.988281 -5.296875 2.75 -5.234375 2.582031 -5.117188 C 2.410156 -4.992188 2.273438 -4.785156 2.171875 -4.488281 Z M 4.457031 -3.101563 C 4.234375 -3.023438 3.886719 -2.9375 3.417969 -2.839844 C 2.941406 -2.734375 2.632813 -2.636719 2.488281 -2.542969 C 2.261719 -2.382813 2.148438 -2.179688 2.152344 -1.941406 C 2.148438 -1.699219 2.238281 -1.492188 2.417969 -1.320313 C 2.59375 -1.140625 2.820313 -1.054688 3.101563 -1.058594 C 3.40625 -1.054688 3.703125 -1.15625 3.984375 -1.363281 C 4.1875 -1.515625 4.320313 -1.703125 4.390625 -1.925781 C 4.429688 -2.070313 4.453125 -2.347656 4.457031 -2.761719 Z M 4.457031 -3.101563 \"/>\n",
       "</symbol>\n",
       "<symbol overflow=\"visible\" id=\"glyph2-2\">\n",
       "<path style=\"stroke:none;\" d=\"M 2.53125 0 L 0.820313 0 L 0.820313 -6.457031 L 2.40625 -6.457031 L 2.40625 -5.539063 C 2.675781 -5.96875 2.921875 -6.253906 3.140625 -6.394531 C 3.355469 -6.527344 3.601563 -6.597656 3.878906 -6.601563 C 4.265625 -6.597656 4.640625 -6.492188 5.003906 -6.28125 L 4.476563 -4.792969 C 4.1875 -4.976563 3.917969 -5.066406 3.671875 -5.070313 C 3.429688 -5.066406 3.226563 -5 3.0625 -4.871094 C 2.894531 -4.738281 2.765625 -4.5 2.671875 -4.15625 C 2.578125 -3.808594 2.53125 -3.089844 2.53125 -1.996094 Z M 2.53125 0 \"/>\n",
       "</symbol>\n",
       "<symbol overflow=\"visible\" id=\"glyph2-3\">\n",
       "<path style=\"stroke:none;\" d=\"M 3.855469 -6.457031 L 3.855469 -5.09375 L 2.6875 -5.09375 L 2.6875 -2.492188 C 2.683594 -1.960938 2.695313 -1.65625 2.71875 -1.570313 C 2.742188 -1.484375 2.792969 -1.410156 2.871094 -1.355469 C 2.949219 -1.292969 3.042969 -1.265625 3.160156 -1.269531 C 3.316406 -1.265625 3.546875 -1.320313 3.847656 -1.433594 L 3.996094 -0.109375 C 3.597656 0.0585938 3.144531 0.140625 2.644531 0.144531 C 2.332031 0.140625 2.054688 0.09375 1.8125 -0.0078125 C 1.5625 -0.109375 1.382813 -0.246094 1.265625 -0.410156 C 1.148438 -0.574219 1.066406 -0.796875 1.027344 -1.078125 C 0.988281 -1.273438 0.972656 -1.671875 0.972656 -2.28125 L 0.972656 -5.09375 L 0.1875 -5.09375 L 0.1875 -6.457031 L 0.972656 -6.457031 L 0.972656 -7.738281 L 2.6875 -8.738281 L 2.6875 -6.457031 Z M 3.855469 -6.457031 \"/>\n",
       "</symbol>\n",
       "<symbol overflow=\"visible\" id=\"glyph2-4\">\n",
       "<path style=\"stroke:none;\" d=\"M 0.894531 -7.332031 L 0.894531 -8.914063 L 2.601563 -8.914063 L 2.601563 -7.332031 Z M 0.894531 0 L 0.894531 -6.457031 L 2.601563 -6.457031 L 2.601563 0 Z M 0.894531 0 \"/>\n",
       "</symbol>\n",
       "<symbol overflow=\"visible\" id=\"glyph2-5\">\n",
       "<path style=\"stroke:none;\" d=\"M 0.894531 0 L 0.894531 -8.914063 L 2.601563 -8.914063 L 2.601563 0 Z M 0.894531 0 \"/>\n",
       "</symbol>\n",
       "<symbol overflow=\"visible\" id=\"glyph2-6\">\n",
       "<path style=\"stroke:none;\" d=\"\"/>\n",
       "</symbol>\n",
       "<symbol overflow=\"visible\" id=\"glyph2-7\">\n",
       "<path style=\"stroke:none;\" d=\"M 0.898438 -8.914063 L 4.1875 -8.914063 C 4.925781 -8.910156 5.492188 -8.855469 5.886719 -8.742188 C 6.40625 -8.585938 6.851563 -8.3125 7.226563 -7.921875 C 7.597656 -7.527344 7.882813 -7.042969 8.078125 -6.476563 C 8.269531 -5.90625 8.367188 -5.207031 8.371094 -4.371094 C 8.367188 -3.636719 8.277344 -3.003906 8.097656 -2.472656 C 7.875 -1.824219 7.554688 -1.296875 7.144531 -0.898438 C 6.828125 -0.59375 6.40625 -0.359375 5.878906 -0.1875 C 5.480469 -0.0625 4.949219 0 4.285156 0 L 0.898438 0 Z M 2.699219 -7.40625 L 2.699219 -1.5 L 4.042969 -1.5 C 4.542969 -1.5 4.90625 -1.527344 5.132813 -1.585938 C 5.421875 -1.65625 5.664063 -1.78125 5.859375 -1.957031 C 6.050781 -2.128906 6.207031 -2.414063 6.328125 -2.816406 C 6.449219 -3.214844 6.507813 -3.757813 6.511719 -4.449219 C 6.507813 -5.136719 6.449219 -5.667969 6.328125 -6.035156 C 6.207031 -6.402344 6.035156 -6.6875 5.820313 -6.898438 C 5.597656 -7.101563 5.320313 -7.242188 4.984375 -7.320313 C 4.730469 -7.375 4.238281 -7.40625 3.507813 -7.40625 Z M 2.699219 -7.40625 \"/>\n",
       "</symbol>\n",
       "<symbol overflow=\"visible\" id=\"glyph2-8\">\n",
       "<path style=\"stroke:none;\" d=\"M 4.632813 -2.054688 L 6.335938 -1.769531 C 6.113281 -1.144531 5.769531 -0.667969 5.296875 -0.34375 C 4.824219 -0.0195313 4.234375 0.140625 3.527344 0.144531 C 2.402344 0.140625 1.570313 -0.222656 1.035156 -0.953125 C 0.605469 -1.539063 0.390625 -2.28125 0.394531 -3.179688 C 0.390625 -4.246094 0.671875 -5.082031 1.234375 -5.691406 C 1.792969 -6.292969 2.5 -6.597656 3.355469 -6.601563 C 4.3125 -6.597656 5.070313 -6.28125 5.628906 -5.648438 C 6.183594 -5.015625 6.449219 -4.042969 6.425781 -2.734375 L 2.144531 -2.734375 C 2.15625 -2.226563 2.292969 -1.832031 2.558594 -1.554688 C 2.820313 -1.269531 3.148438 -1.128906 3.542969 -1.132813 C 3.808594 -1.128906 4.035156 -1.203125 4.21875 -1.351563 C 4.398438 -1.496094 4.535156 -1.730469 4.632813 -2.054688 Z M 4.730469 -3.78125 C 4.714844 -4.273438 4.589844 -4.652344 4.347656 -4.910156 C 4.105469 -5.167969 3.808594 -5.296875 3.460938 -5.296875 C 3.082031 -5.296875 2.773438 -5.160156 2.535156 -4.886719 C 2.289063 -4.613281 2.167969 -4.242188 2.175781 -3.78125 Z M 4.730469 -3.78125 \"/>\n",
       "</symbol>\n",
       "<symbol overflow=\"visible\" id=\"glyph2-9\">\n",
       "<path style=\"stroke:none;\" d=\"M 0.84375 -6.457031 L 2.4375 -6.457031 L 2.4375 -5.507813 C 2.644531 -5.832031 2.921875 -6.09375 3.277344 -6.296875 C 3.625 -6.496094 4.015625 -6.597656 4.449219 -6.601563 C 5.195313 -6.597656 5.832031 -6.304688 6.359375 -5.71875 C 6.878906 -5.132813 7.140625 -4.3125 7.144531 -3.265625 C 7.140625 -2.183594 6.878906 -1.347656 6.351563 -0.75 C 5.824219 -0.15625 5.183594 0.140625 4.4375 0.144531 C 4.078125 0.140625 3.757813 0.0742188 3.46875 -0.0664063 C 3.179688 -0.207031 2.875 -0.453125 2.554688 -0.796875 L 2.554688 2.457031 L 0.84375 2.457031 Z M 2.535156 -3.339844 C 2.53125 -2.613281 2.675781 -2.074219 2.964844 -1.730469 C 3.253906 -1.378906 3.605469 -1.207031 4.019531 -1.210938 C 4.414063 -1.207031 4.742188 -1.367188 5.007813 -1.6875 C 5.269531 -2.003906 5.402344 -2.523438 5.40625 -3.253906 C 5.402344 -3.925781 5.265625 -4.429688 4.996094 -4.761719 C 4.722656 -5.085938 4.386719 -5.25 3.988281 -5.253906 C 3.570313 -5.25 3.222656 -5.089844 2.949219 -4.769531 C 2.667969 -4.445313 2.53125 -3.96875 2.535156 -3.339844 Z M 2.535156 -3.339844 \"/>\n",
       "</symbol>\n",
       "<symbol overflow=\"visible\" id=\"glyph2-10\">\n",
       "<path style=\"stroke:none;\" d=\"M 6.765625 0 L 5.058594 0 L 5.058594 -3.296875 C 5.054688 -3.988281 5.019531 -4.4375 4.949219 -4.648438 C 4.875 -4.851563 4.757813 -5.011719 4.59375 -5.125 C 4.429688 -5.238281 4.230469 -5.296875 4 -5.296875 C 3.703125 -5.296875 3.4375 -5.214844 3.203125 -5.050781 C 2.964844 -4.886719 2.804688 -4.671875 2.71875 -4.40625 C 2.632813 -4.140625 2.589844 -3.644531 2.589844 -2.925781 L 2.589844 0 L 0.882813 0 L 0.882813 -6.457031 L 2.46875 -6.457031 L 2.46875 -5.507813 C 3.027344 -6.234375 3.738281 -6.597656 4.597656 -6.601563 C 4.96875 -6.597656 5.3125 -6.53125 5.628906 -6.398438 C 5.9375 -6.261719 6.171875 -6.085938 6.335938 -5.878906 C 6.492188 -5.664063 6.605469 -5.425781 6.671875 -5.160156 C 6.730469 -4.890625 6.761719 -4.507813 6.765625 -4.011719 Z M 6.765625 0 \"/>\n",
       "</symbol>\n",
       "<symbol overflow=\"visible\" id=\"glyph2-11\">\n",
       "<path style=\"stroke:none;\" d=\"M 6.816406 0 L 5.230469 0 L 5.230469 -0.949219 C 4.960938 -0.578125 4.648438 -0.300781 4.292969 -0.125 C 3.933594 0.0546875 3.574219 0.140625 3.210938 0.144531 C 2.46875 0.140625 1.832031 -0.15625 1.304688 -0.75 C 0.773438 -1.347656 0.507813 -2.179688 0.511719 -3.253906 C 0.507813 -4.34375 0.765625 -5.175781 1.28125 -5.746094 C 1.792969 -6.3125 2.445313 -6.597656 3.234375 -6.601563 C 3.953125 -6.597656 4.574219 -6.296875 5.105469 -5.703125 L 5.105469 -8.914063 L 6.816406 -8.914063 Z M 2.253906 -3.367188 C 2.25 -2.675781 2.347656 -2.175781 2.542969 -1.871094 C 2.816406 -1.421875 3.199219 -1.199219 3.695313 -1.203125 C 4.085938 -1.199219 4.421875 -1.367188 4.699219 -1.703125 C 4.972656 -2.035156 5.109375 -2.535156 5.113281 -3.203125 C 5.109375 -3.941406 4.976563 -4.476563 4.710938 -4.804688 C 4.445313 -5.132813 4.101563 -5.296875 3.683594 -5.296875 C 3.277344 -5.296875 2.9375 -5.132813 2.664063 -4.8125 C 2.386719 -4.484375 2.25 -4.003906 2.253906 -3.367188 Z M 2.253906 -3.367188 \"/>\n",
       "</symbol>\n",
       "<symbol overflow=\"visible\" id=\"glyph2-12\">\n",
       "<path style=\"stroke:none;\" d=\"M 6.523438 -4.546875 L 4.839844 -4.242188 C 4.78125 -4.578125 4.652344 -4.832031 4.453125 -5.003906 C 4.25 -5.171875 3.988281 -5.253906 3.671875 -5.257813 C 3.246094 -5.253906 2.90625 -5.109375 2.652344 -4.816406 C 2.398438 -4.523438 2.273438 -4.03125 2.273438 -3.34375 C 2.273438 -2.574219 2.402344 -2.03125 2.660156 -1.71875 C 2.917969 -1.398438 3.261719 -1.242188 3.695313 -1.246094 C 4.019531 -1.242188 4.285156 -1.335938 4.492188 -1.523438 C 4.699219 -1.707031 4.84375 -2.023438 4.929688 -2.472656 L 6.609375 -2.1875 C 6.433594 -1.414063 6.097656 -0.835938 5.605469 -0.445313 C 5.109375 -0.0546875 4.445313 0.140625 3.617188 0.144531 C 2.667969 0.140625 1.914063 -0.152344 1.355469 -0.746094 C 0.792969 -1.339844 0.515625 -2.167969 0.515625 -3.222656 C 0.515625 -4.285156 0.796875 -5.113281 1.359375 -5.710938 C 1.921875 -6.300781 2.683594 -6.597656 3.648438 -6.601563 C 4.433594 -6.597656 5.058594 -6.429688 5.523438 -6.09375 C 5.984375 -5.753906 6.316406 -5.238281 6.523438 -4.546875 Z M 6.523438 -4.546875 \"/>\n",
       "</symbol>\n",
       "<symbol overflow=\"visible\" id=\"glyph2-13\">\n",
       "<path style=\"stroke:none;\" d=\"M 0.5 -3.320313 C 0.496094 -3.886719 0.636719 -4.4375 0.917969 -4.96875 C 1.195313 -5.5 1.589844 -5.902344 2.105469 -6.183594 C 2.613281 -6.457031 3.1875 -6.597656 3.824219 -6.601563 C 4.796875 -6.597656 5.597656 -6.28125 6.226563 -5.648438 C 6.847656 -5.015625 7.160156 -4.214844 7.164063 -3.246094 C 7.160156 -2.269531 6.84375 -1.457031 6.214844 -0.816406 C 5.582031 -0.175781 4.789063 0.140625 3.835938 0.144531 C 3.242188 0.140625 2.675781 0.0117188 2.140625 -0.253906 C 1.601563 -0.519531 1.195313 -0.914063 0.917969 -1.429688 C 0.636719 -1.945313 0.496094 -2.574219 0.5 -3.320313 Z M 2.25 -3.230469 C 2.25 -2.585938 2.398438 -2.097656 2.703125 -1.757813 C 3.003906 -1.414063 3.382813 -1.242188 3.832031 -1.246094 C 4.277344 -1.242188 4.648438 -1.414063 4.953125 -1.757813 C 5.25 -2.097656 5.402344 -2.589844 5.40625 -3.242188 C 5.402344 -3.867188 5.25 -4.355469 4.953125 -4.699219 C 4.648438 -5.039063 4.277344 -5.207031 3.832031 -5.210938 C 3.382813 -5.207031 3.003906 -5.039063 2.703125 -4.699219 C 2.398438 -4.355469 2.25 -3.863281 2.25 -3.230469 Z M 2.25 -3.230469 \"/>\n",
       "</symbol>\n",
       "<symbol overflow=\"visible\" id=\"glyph2-14\">\n",
       "<path style=\"stroke:none;\" d=\"M 0.449219 -2.898438 L 2.199219 -3.070313 C 2.300781 -2.480469 2.515625 -2.046875 2.839844 -1.773438 C 3.160156 -1.496094 3.597656 -1.359375 4.148438 -1.363281 C 4.726563 -1.359375 5.160156 -1.480469 5.457031 -1.730469 C 5.746094 -1.972656 5.894531 -2.261719 5.898438 -2.589844 C 5.894531 -2.800781 5.832031 -2.980469 5.710938 -3.128906 C 5.585938 -3.277344 5.371094 -3.40625 5.066406 -3.515625 C 4.851563 -3.585938 4.371094 -3.714844 3.625 -3.902344 C 2.65625 -4.140625 1.980469 -4.433594 1.59375 -4.785156 C 1.046875 -5.273438 0.773438 -5.871094 0.773438 -6.578125 C 0.773438 -7.027344 0.898438 -7.453125 1.15625 -7.851563 C 1.410156 -8.246094 1.78125 -8.546875 2.269531 -8.753906 C 2.75 -8.960938 3.335938 -9.0625 4.023438 -9.066406 C 5.140625 -9.0625 5.984375 -8.816406 6.550781 -8.328125 C 7.113281 -7.835938 7.410156 -7.183594 7.441406 -6.367188 L 5.640625 -6.285156 C 5.5625 -6.742188 5.398438 -7.070313 5.144531 -7.273438 C 4.890625 -7.46875 4.511719 -7.570313 4.007813 -7.574219 C 3.484375 -7.570313 3.074219 -7.464844 2.777344 -7.253906 C 2.585938 -7.113281 2.488281 -6.925781 2.492188 -6.699219 C 2.488281 -6.484375 2.578125 -6.304688 2.761719 -6.160156 C 2.984375 -5.964844 3.535156 -5.765625 4.414063 -5.5625 C 5.285156 -5.351563 5.933594 -5.140625 6.355469 -4.921875 C 6.773438 -4.699219 7.101563 -4.394531 7.339844 -4.015625 C 7.578125 -3.628906 7.699219 -3.15625 7.699219 -2.597656 C 7.699219 -2.082031 7.554688 -1.605469 7.273438 -1.160156 C 6.984375 -0.714844 6.582031 -0.382813 6.066406 -0.167969 C 5.542969 0.046875 4.898438 0.152344 4.128906 0.15625 C 3 0.152344 2.132813 -0.105469 1.53125 -0.625 C 0.921875 -1.144531 0.5625 -1.902344 0.449219 -2.898438 Z M 0.449219 -2.898438 \"/>\n",
       "</symbol>\n",
       "<symbol overflow=\"visible\" id=\"glyph2-15\">\n",
       "<path style=\"stroke:none;\" d=\"M 2.667969 0 L 0.0664063 -6.457031 L 1.859375 -6.457031 L 3.078125 -3.160156 L 3.429688 -2.0625 C 3.519531 -2.339844 3.578125 -2.523438 3.605469 -2.613281 C 3.660156 -2.792969 3.722656 -2.972656 3.789063 -3.160156 L 5.015625 -6.457031 L 6.773438 -6.457031 L 4.207031 0 Z M 2.667969 0 \"/>\n",
       "</symbol>\n",
       "<symbol overflow=\"visible\" id=\"glyph2-16\">\n",
       "<path style=\"stroke:none;\" d=\"M 0.734375 0.425781 L 2.6875 0.664063 C 2.714844 0.886719 2.789063 1.042969 2.914063 1.132813 C 3.070313 1.25 3.328125 1.3125 3.679688 1.3125 C 4.125 1.3125 4.457031 1.246094 4.683594 1.113281 C 4.828125 1.023438 4.941406 0.878906 5.023438 0.679688 C 5.070313 0.539063 5.097656 0.28125 5.101563 -0.101563 L 5.101563 -1.046875 C 4.589844 -0.347656 3.945313 0 3.167969 0 C 2.296875 0 1.609375 -0.367188 1.105469 -1.101563 C 0.707031 -1.679688 0.507813 -2.398438 0.511719 -3.265625 C 0.507813 -4.34375 0.769531 -5.171875 1.292969 -5.742188 C 1.8125 -6.3125 2.460938 -6.597656 3.234375 -6.601563 C 4.03125 -6.597656 4.6875 -6.246094 5.210938 -5.550781 L 5.210938 -6.457031 L 6.808594 -6.457031 L 6.808594 -0.664063 C 6.808594 0.101563 6.746094 0.667969 6.621094 1.042969 C 6.496094 1.417969 6.316406 1.710938 6.089844 1.929688 C 5.859375 2.140625 5.558594 2.3125 5.179688 2.4375 C 4.800781 2.558594 4.320313 2.617188 3.746094 2.621094 C 2.648438 2.617188 1.875 2.429688 1.417969 2.058594 C 0.957031 1.679688 0.726563 1.207031 0.730469 0.632813 C 0.726563 0.574219 0.726563 0.503906 0.734375 0.425781 Z M 2.261719 -3.363281 C 2.261719 -2.675781 2.394531 -2.171875 2.660156 -1.855469 C 2.925781 -1.535156 3.25 -1.375 3.640625 -1.378906 C 4.054688 -1.375 4.410156 -1.539063 4.699219 -1.867188 C 4.988281 -2.191406 5.132813 -2.675781 5.132813 -3.320313 C 5.132813 -3.988281 4.992188 -4.484375 4.71875 -4.808594 C 4.4375 -5.132813 4.089844 -5.296875 3.671875 -5.296875 C 3.261719 -5.296875 2.925781 -5.136719 2.660156 -4.816406 C 2.394531 -4.496094 2.261719 -4.011719 2.261719 -3.363281 Z M 2.261719 -3.363281 \"/>\n",
       "</symbol>\n",
       "<symbol overflow=\"visible\" id=\"glyph2-17\">\n",
       "<path style=\"stroke:none;\" d=\"M 0.292969 -1.84375 L 2.007813 -2.105469 C 2.078125 -1.769531 2.226563 -1.519531 2.449219 -1.347656 C 2.671875 -1.175781 2.984375 -1.089844 3.386719 -1.089844 C 3.828125 -1.089844 4.160156 -1.167969 4.382813 -1.332031 C 4.53125 -1.441406 4.605469 -1.59375 4.609375 -1.789063 C 4.605469 -1.914063 4.566406 -2.023438 4.488281 -2.109375 C 4.402344 -2.1875 4.210938 -2.261719 3.914063 -2.335938 C 2.535156 -2.636719 1.660156 -2.914063 1.296875 -3.167969 C 0.78125 -3.515625 0.527344 -4 0.527344 -4.621094 C 0.527344 -5.179688 0.746094 -5.648438 1.191406 -6.03125 C 1.628906 -6.40625 2.316406 -6.597656 3.246094 -6.601563 C 4.128906 -6.597656 4.785156 -6.453125 5.214844 -6.167969 C 5.644531 -5.878906 5.941406 -5.453125 6.105469 -4.894531 L 4.492188 -4.597656 C 4.421875 -4.84375 4.292969 -5.035156 4.101563 -5.171875 C 3.90625 -5.304688 3.628906 -5.371094 3.277344 -5.375 C 2.824219 -5.371094 2.503906 -5.308594 2.308594 -5.1875 C 2.179688 -5.09375 2.113281 -4.980469 2.117188 -4.839844 C 2.113281 -4.714844 2.171875 -4.609375 2.285156 -4.53125 C 2.4375 -4.414063 2.96875 -4.253906 3.878906 -4.046875 C 4.789063 -3.839844 5.425781 -3.585938 5.789063 -3.289063 C 6.144531 -2.980469 6.320313 -2.558594 6.324219 -2.019531 C 6.320313 -1.425781 6.074219 -0.917969 5.582031 -0.492188 C 5.085938 -0.0703125 4.355469 0.140625 3.386719 0.144531 C 2.503906 0.140625 1.804688 -0.0351563 1.296875 -0.390625 C 0.78125 -0.746094 0.449219 -1.230469 0.292969 -1.84375 Z M 0.292969 -1.84375 \"/>\n",
       "</symbol>\n",
       "<symbol overflow=\"visible\" id=\"glyph2-18\">\n",
       "<path style=\"stroke:none;\" d=\"M 0.917969 0 L 0.917969 -8.914063 L 7.027344 -8.914063 L 7.027344 -7.40625 L 2.71875 -7.40625 L 2.71875 -5.296875 L 6.4375 -5.296875 L 6.4375 -3.789063 L 2.71875 -3.789063 L 2.71875 0 Z M 0.917969 0 \"/>\n",
       "</symbol>\n",
       "<symbol overflow=\"visible\" id=\"glyph2-19\">\n",
       "<path style=\"stroke:none;\" d=\"M 0.0859375 -6.457031 L 1.902344 -6.457031 L 3.449219 -1.871094 L 4.957031 -6.457031 L 6.722656 -6.457031 L 4.445313 -0.242188 L 4.039063 0.882813 C 3.882813 1.253906 3.742188 1.539063 3.609375 1.742188 C 3.472656 1.9375 3.316406 2.101563 3.140625 2.226563 C 2.960938 2.351563 2.742188 2.445313 2.488281 2.515625 C 2.230469 2.582031 1.941406 2.617188 1.617188 2.621094 C 1.289063 2.617188 0.964844 2.582031 0.652344 2.515625 L 0.5 1.179688 C 0.761719 1.226563 1.003906 1.253906 1.222656 1.257813 C 1.617188 1.253906 1.910156 1.136719 2.101563 0.90625 C 2.292969 0.671875 2.441406 0.375 2.542969 0.0195313 Z M 0.0859375 -6.457031 \"/>\n",
       "</symbol>\n",
       "<symbol overflow=\"visible\" id=\"glyph2-20\">\n",
       "<path style=\"stroke:none;\" d=\"M 0.910156 0 L 0.910156 -8.914063 L 4.699219 -8.914063 C 5.652344 -8.910156 6.34375 -8.832031 6.773438 -8.671875 C 7.203125 -8.511719 7.546875 -8.226563 7.8125 -7.816406 C 8.070313 -7.40625 8.203125 -6.9375 8.203125 -6.414063 C 8.203125 -5.742188 8.003906 -5.191406 7.613281 -4.757813 C 7.214844 -4.320313 6.628906 -4.042969 5.847656 -3.933594 C 6.238281 -3.703125 6.558594 -3.453125 6.8125 -3.183594 C 7.0625 -2.910156 7.402344 -2.429688 7.835938 -1.738281 L 8.925781 0 L 6.773438 0 L 5.472656 -1.941406 C 5.007813 -2.628906 4.691406 -3.066406 4.523438 -3.25 C 4.351563 -3.425781 4.167969 -3.550781 3.980469 -3.621094 C 3.785156 -3.6875 3.484375 -3.71875 3.078125 -3.722656 L 2.710938 -3.722656 L 2.710938 0 Z M 2.710938 -5.144531 L 4.042969 -5.144531 C 4.90625 -5.144531 5.445313 -5.179688 5.660156 -5.253906 C 5.875 -5.324219 6.042969 -5.449219 6.164063 -5.628906 C 6.285156 -5.804688 6.34375 -6.027344 6.347656 -6.300781 C 6.34375 -6.597656 6.265625 -6.839844 6.105469 -7.023438 C 5.945313 -7.207031 5.71875 -7.324219 5.429688 -7.375 C 5.28125 -7.394531 4.84375 -7.40625 4.117188 -7.40625 L 2.710938 -7.40625 Z M 2.710938 -5.144531 \"/>\n",
       "</symbol>\n",
       "</g>\n",
       "<clipPath id=\"clip1\">\n",
       "  <path d=\"M 49.003906 49.003906 L 227.902344 49.003906 L 227.902344 192.046875 L 49.003906 192.046875 Z M 49.003906 49.003906 \"/>\n",
       "</clipPath>\n",
       "<clipPath id=\"clip2\">\n",
       "  <path d=\"M 0 0 L 253 0 L 253 253 L 0 253 Z M 0 0 \"/>\n",
       "</clipPath>\n",
       "<clipPath id=\"clip3\">\n",
       "  <path d=\"M 301.003906 49.003906 L 479.902344 49.003906 L 479.902344 192.046875 L 301.003906 192.046875 Z M 301.003906 49.003906 \"/>\n",
       "</clipPath>\n",
       "<clipPath id=\"clip4\">\n",
       "  <path d=\"M 252 0 L 505 0 L 505 253 L 252 253 Z M 252 0 \"/>\n",
       "</clipPath>\n",
       "<clipPath id=\"clip5\">\n",
       "  <path d=\"M 49.003906 301.003906 L 227.902344 301.003906 L 227.902344 444.046875 L 49.003906 444.046875 Z M 49.003906 301.003906 \"/>\n",
       "</clipPath>\n",
       "<clipPath id=\"clip6\">\n",
       "  <path d=\"M 0 252 L 253 252 L 253 505 L 0 505 Z M 0 252 \"/>\n",
       "</clipPath>\n",
       "<clipPath id=\"clip7\">\n",
       "  <path d=\"M 252 252 L 505 252 L 505 505 L 252 505 Z M 252 252 \"/>\n",
       "</clipPath>\n",
       "<clipPath id=\"clip8\">\n",
       "  <path d=\"M 252 252 L 505 252 L 505 505 L 252 505 Z M 252 252 \"/>\n",
       "</clipPath>\n",
       "</defs>\n",
       "<g id=\"surface284\">\n",
       "<rect x=\"0\" y=\"0\" width=\"504\" height=\"504\" style=\"fill:rgb(100%,100%,100%);fill-opacity:1;stroke:none;\"/>\n",
       "<g clip-path=\"url(#clip1)\" clip-rule=\"nonzero\">\n",
       "<path style=\"fill:none;stroke-width:1;stroke-linecap:round;stroke-linejoin:round;stroke:rgb(0%,0%,0%);stroke-opacity:1;stroke-miterlimit:10;\" d=\"M 55.59375 54.417969 L 58.886719 54.417969 L 62.179688 54.265625 L 65.476563 54.265625 L 68.769531 54.339844 L 72.0625 55.25 L 75.359375 55.324219 L 78.652344 55.75 L 81.945313 56.464844 L 85.242188 60.109375 L 88.535156 69.222656 L 91.832031 72.25 L 95.125 95.261719 L 98.417969 113.4375 L 101.714844 161.472656 L 105.007813 180.90625 L 108.300781 185.785156 L 111.597656 181.160156 L 114.890625 182.394531 L 118.1875 178.867188 L 121.480469 164.648438 L 124.773438 172.890625 L 128.070313 173.113281 L 131.363281 174.222656 L 134.65625 174.136719 L 137.953125 173.964844 L 141.246094 171.675781 L 144.539063 165.257813 L 147.835938 163.6875 L 151.128906 159.863281 L 154.425781 158.339844 L 157.71875 156.558594 L 161.011719 155.433594 L 164.308594 153.773438 L 167.601563 153.808594 L 170.894531 152.445313 L 174.191406 151.929688 L 177.484375 145.546875 L 180.777344 145.546875 L 184.074219 115.113281 L 187.367188 115.113281 L 190.664063 96.640625 L 193.957031 97.179688 L 220.3125 97.179688 \"/>\n",
       "</g>\n",
       "<path style=\"fill:none;stroke-width:1;stroke-linecap:round;stroke-linejoin:round;stroke:rgb(0%,0%,0%);stroke-opacity:1;stroke-miterlimit:10;\" d=\"M 89.542969 191.042969 L 214.371094 191.042969 \"/>\n",
       "<path style=\"fill:none;stroke-width:1;stroke-linecap:round;stroke-linejoin:round;stroke:rgb(0%,0%,0%);stroke-opacity:1;stroke-miterlimit:10;\" d=\"M 89.542969 191.042969 L 89.542969 197.019531 \"/>\n",
       "<path style=\"fill:none;stroke-width:1;stroke-linecap:round;stroke-linejoin:round;stroke:rgb(0%,0%,0%);stroke-opacity:1;stroke-miterlimit:10;\" d=\"M 131.152344 191.042969 L 131.152344 197.019531 \"/>\n",
       "<path style=\"fill:none;stroke-width:1;stroke-linecap:round;stroke-linejoin:round;stroke:rgb(0%,0%,0%);stroke-opacity:1;stroke-miterlimit:10;\" d=\"M 172.761719 191.042969 L 172.761719 197.019531 \"/>\n",
       "<path style=\"fill:none;stroke-width:1;stroke-linecap:round;stroke-linejoin:round;stroke:rgb(0%,0%,0%);stroke-opacity:1;stroke-miterlimit:10;\" d=\"M 214.371094 191.042969 L 214.371094 197.019531 \"/>\n",
       "<g style=\"fill:rgb(0%,0%,0%);fill-opacity:1;\">\n",
       "  <use xlink:href=\"#glyph0-0\" x=\"86.632813\" y=\"213.753906\"/>\n",
       "</g>\n",
       "<g style=\"fill:rgb(0%,0%,0%);fill-opacity:1;\">\n",
       "  <use xlink:href=\"#glyph0-1\" x=\"125.335938\" y=\"213.753906\"/>\n",
       "  <use xlink:href=\"#glyph0-0\" x=\"131.153291\" y=\"213.753906\"/>\n",
       "</g>\n",
       "<g style=\"fill:rgb(0%,0%,0%);fill-opacity:1;\">\n",
       "  <use xlink:href=\"#glyph0-2\" x=\"166.945313\" y=\"213.753906\"/>\n",
       "  <use xlink:href=\"#glyph0-0\" x=\"172.762666\" y=\"213.753906\"/>\n",
       "</g>\n",
       "<g style=\"fill:rgb(0%,0%,0%);fill-opacity:1;\">\n",
       "  <use xlink:href=\"#glyph0-3\" x=\"208.554688\" y=\"213.753906\"/>\n",
       "  <use xlink:href=\"#glyph0-0\" x=\"214.372041\" y=\"213.753906\"/>\n",
       "</g>\n",
       "<path style=\"fill:none;stroke-width:1;stroke-linecap:round;stroke-linejoin:round;stroke:rgb(0%,0%,0%);stroke-opacity:1;stroke-miterlimit:10;\" d=\"M 49.003906 187.828125 L 49.003906 79.28125 \"/>\n",
       "<path style=\"fill:none;stroke-width:1;stroke-linecap:round;stroke-linejoin:round;stroke:rgb(0%,0%,0%);stroke-opacity:1;stroke-miterlimit:10;\" d=\"M 49.003906 187.828125 L 43.027344 187.828125 \"/>\n",
       "<path style=\"fill:none;stroke-width:1;stroke-linecap:round;stroke-linejoin:round;stroke:rgb(0%,0%,0%);stroke-opacity:1;stroke-miterlimit:10;\" d=\"M 49.003906 151.644531 L 43.027344 151.644531 \"/>\n",
       "<path style=\"fill:none;stroke-width:1;stroke-linecap:round;stroke-linejoin:round;stroke:rgb(0%,0%,0%);stroke-opacity:1;stroke-miterlimit:10;\" d=\"M 49.003906 115.464844 L 43.027344 115.464844 \"/>\n",
       "<path style=\"fill:none;stroke-width:1;stroke-linecap:round;stroke-linejoin:round;stroke:rgb(0%,0%,0%);stroke-opacity:1;stroke-miterlimit:10;\" d=\"M 49.003906 79.28125 L 43.027344 79.28125 \"/>\n",
       "<g style=\"fill:rgb(0%,0%,0%);fill-opacity:1;\">\n",
       "  <use xlink:href=\"#glyph1-0\" x=\"35.855469\" y=\"196.839844\"/>\n",
       "  <use xlink:href=\"#glyph1-1\" x=\"35.855469\" y=\"193.356582\"/>\n",
       "  <use xlink:href=\"#glyph1-2\" x=\"35.855469\" y=\"187.539229\"/>\n",
       "  <use xlink:href=\"#glyph1-3\" x=\"35.855469\" y=\"184.633105\"/>\n",
       "</g>\n",
       "<g style=\"fill:rgb(0%,0%,0%);fill-opacity:1;\">\n",
       "  <use xlink:href=\"#glyph1-0\" x=\"35.855469\" y=\"160.65625\"/>\n",
       "  <use xlink:href=\"#glyph1-4\" x=\"35.855469\" y=\"157.172988\"/>\n",
       "  <use xlink:href=\"#glyph1-2\" x=\"35.855469\" y=\"151.355635\"/>\n",
       "  <use xlink:href=\"#glyph1-5\" x=\"35.855469\" y=\"148.449512\"/>\n",
       "</g>\n",
       "<g style=\"fill:rgb(0%,0%,0%);fill-opacity:1;\">\n",
       "  <use xlink:href=\"#glyph1-0\" x=\"35.855469\" y=\"124.476563\"/>\n",
       "  <use xlink:href=\"#glyph1-4\" x=\"35.855469\" y=\"120.993301\"/>\n",
       "  <use xlink:href=\"#glyph1-2\" x=\"35.855469\" y=\"115.175947\"/>\n",
       "  <use xlink:href=\"#glyph1-3\" x=\"35.855469\" y=\"112.269824\"/>\n",
       "</g>\n",
       "<g style=\"fill:rgb(0%,0%,0%);fill-opacity:1;\">\n",
       "  <use xlink:href=\"#glyph1-0\" x=\"35.855469\" y=\"88.292969\"/>\n",
       "  <use xlink:href=\"#glyph1-3\" x=\"35.855469\" y=\"84.809707\"/>\n",
       "  <use xlink:href=\"#glyph1-2\" x=\"35.855469\" y=\"78.992354\"/>\n",
       "  <use xlink:href=\"#glyph1-5\" x=\"35.855469\" y=\"76.08623\"/>\n",
       "</g>\n",
       "<path style=\"fill:none;stroke-width:1;stroke-linecap:round;stroke-linejoin:round;stroke:rgb(0%,0%,0%);stroke-opacity:1;stroke-miterlimit:10;\" d=\"M 49.003906 191.042969 L 226.902344 191.042969 L 226.902344 49.003906 L 49.003906 49.003906 L 49.003906 191.042969 \"/>\n",
       "<g clip-path=\"url(#clip2)\" clip-rule=\"nonzero\">\n",
       "<g style=\"fill:rgb(0%,0%,0%);fill-opacity:1;\">\n",
       "  <use xlink:href=\"#glyph2-0\" x=\"45.226563\" y=\"28.957031\"/>\n",
       "  <use xlink:href=\"#glyph2-1\" x=\"53.531949\" y=\"28.957031\"/>\n",
       "  <use xlink:href=\"#glyph2-2\" x=\"60.457158\" y=\"28.957031\"/>\n",
       "  <use xlink:href=\"#glyph2-3\" x=\"65.30298\" y=\"28.957031\"/>\n",
       "  <use xlink:href=\"#glyph2-4\" x=\"69.449594\" y=\"28.957031\"/>\n",
       "  <use xlink:href=\"#glyph2-1\" x=\"72.909158\" y=\"28.957031\"/>\n",
       "  <use xlink:href=\"#glyph2-5\" x=\"79.834367\" y=\"28.957031\"/>\n",
       "  <use xlink:href=\"#glyph2-6\" x=\"83.293932\" y=\"28.957031\"/>\n",
       "  <use xlink:href=\"#glyph2-7\" x=\"86.753496\" y=\"28.957031\"/>\n",
       "  <use xlink:href=\"#glyph2-8\" x=\"95.745932\" y=\"28.957031\"/>\n",
       "  <use xlink:href=\"#glyph2-9\" x=\"102.671141\" y=\"28.957031\"/>\n",
       "  <use xlink:href=\"#glyph2-8\" x=\"110.277318\" y=\"28.957031\"/>\n",
       "  <use xlink:href=\"#glyph2-10\" x=\"117.202527\" y=\"28.957031\"/>\n",
       "  <use xlink:href=\"#glyph2-11\" x=\"124.808705\" y=\"28.957031\"/>\n",
       "  <use xlink:href=\"#glyph2-8\" x=\"132.414883\" y=\"28.957031\"/>\n",
       "  <use xlink:href=\"#glyph2-10\" x=\"139.340092\" y=\"28.957031\"/>\n",
       "  <use xlink:href=\"#glyph2-12\" x=\"146.94627\" y=\"28.957031\"/>\n",
       "  <use xlink:href=\"#glyph2-8\" x=\"153.871479\" y=\"28.957031\"/>\n",
       "  <use xlink:href=\"#glyph2-6\" x=\"160.796687\" y=\"28.957031\"/>\n",
       "  <use xlink:href=\"#glyph2-13\" x=\"164.256252\" y=\"28.957031\"/>\n",
       "  <use xlink:href=\"#glyph2-10\" x=\"171.86243\" y=\"28.957031\"/>\n",
       "  <use xlink:href=\"#glyph2-6\" x=\"179.468607\" y=\"28.957031\"/>\n",
       "  <use xlink:href=\"#glyph2-14\" x=\"182.928172\" y=\"28.957031\"/>\n",
       "  <use xlink:href=\"#glyph2-1\" x=\"191.233559\" y=\"28.957031\"/>\n",
       "  <use xlink:href=\"#glyph2-15\" x=\"198.158768\" y=\"28.957031\"/>\n",
       "  <use xlink:href=\"#glyph2-4\" x=\"205.083977\" y=\"28.957031\"/>\n",
       "  <use xlink:href=\"#glyph2-10\" x=\"208.543541\" y=\"28.957031\"/>\n",
       "  <use xlink:href=\"#glyph2-16\" x=\"216.149719\" y=\"28.957031\"/>\n",
       "  <use xlink:href=\"#glyph2-17\" x=\"223.755896\" y=\"28.957031\"/>\n",
       "</g>\n",
       "<g style=\"fill:rgb(0%,0%,0%);fill-opacity:1;\">\n",
       "  <use xlink:href=\"#glyph0-4\" x=\"119.347656\" y=\"237.65625\"/>\n",
       "  <use xlink:href=\"#glyph0-5\" x=\"126.324395\" y=\"237.65625\"/>\n",
       "  <use xlink:href=\"#glyph0-6\" x=\"132.141748\" y=\"237.65625\"/>\n",
       "  <use xlink:href=\"#glyph0-7\" x=\"137.371748\" y=\"237.65625\"/>\n",
       "  <use xlink:href=\"#glyph0-8\" x=\"139.695625\" y=\"237.65625\"/>\n",
       "  <use xlink:href=\"#glyph0-9\" x=\"145.512979\" y=\"237.65625\"/>\n",
       "  <use xlink:href=\"#glyph0-10\" x=\"151.330332\" y=\"237.65625\"/>\n",
       "</g>\n",
       "</g>\n",
       "<path style=\"fill:none;stroke-width:0.5;stroke-linecap:round;stroke-linejoin:round;stroke:rgb(0%,0%,0%);stroke-opacity:1;stroke-miterlimit:10;\" d=\"M 91.140625 191.042969 L 91.140625 186.785156 \"/>\n",
       "<path style=\"fill:none;stroke-width:0.5;stroke-linecap:round;stroke-linejoin:round;stroke:rgb(0%,0%,0%);stroke-opacity:1;stroke-miterlimit:10;\" d=\"M 94.789063 191.042969 L 94.789063 186.785156 \"/>\n",
       "<path style=\"fill:none;stroke-width:0.5;stroke-linecap:round;stroke-linejoin:round;stroke:rgb(0%,0%,0%);stroke-opacity:1;stroke-miterlimit:10;\" d=\"M 97.496094 191.042969 L 97.496094 186.785156 \"/>\n",
       "<path style=\"fill:none;stroke-width:0.5;stroke-linecap:round;stroke-linejoin:round;stroke:rgb(0%,0%,0%);stroke-opacity:1;stroke-miterlimit:10;\" d=\"M 99.761719 191.042969 L 99.761719 186.785156 \"/>\n",
       "<path style=\"fill:none;stroke-width:0.5;stroke-linecap:round;stroke-linejoin:round;stroke:rgb(0%,0%,0%);stroke-opacity:1;stroke-miterlimit:10;\" d=\"M 102.527344 191.042969 L 102.527344 186.785156 \"/>\n",
       "<path style=\"fill:none;stroke-width:0.5;stroke-linecap:round;stroke-linejoin:round;stroke:rgb(0%,0%,0%);stroke-opacity:1;stroke-miterlimit:10;\" d=\"M 105.273438 191.042969 L 105.273438 186.785156 \"/>\n",
       "<path style=\"fill:none;stroke-width:0.5;stroke-linecap:round;stroke-linejoin:round;stroke:rgb(0%,0%,0%);stroke-opacity:1;stroke-miterlimit:10;\" d=\"M 108.835938 191.042969 L 108.835938 186.785156 \"/>\n",
       "<path style=\"fill:none;stroke-width:0.5;stroke-linecap:round;stroke-linejoin:round;stroke:rgb(0%,0%,0%);stroke-opacity:1;stroke-miterlimit:10;\" d=\"M 113.707031 191.042969 L 113.707031 186.785156 \"/>\n",
       "<path style=\"fill:none;stroke-width:0.5;stroke-linecap:round;stroke-linejoin:round;stroke:rgb(0%,0%,0%);stroke-opacity:1;stroke-miterlimit:10;\" d=\"M 122.910156 191.042969 L 122.910156 186.785156 \"/>\n",
       "<g clip-path=\"url(#clip3)\" clip-rule=\"nonzero\">\n",
       "<path style=\"fill:none;stroke-width:1;stroke-linecap:round;stroke-linejoin:round;stroke:rgb(0%,0%,0%);stroke-opacity:1;stroke-miterlimit:10;\" d=\"M 307.59375 75.15625 L 310.886719 75.15625 L 314.179688 73.246094 L 317.476563 74.4375 L 320.769531 85.699219 L 324.0625 86.765625 L 327.359375 97.464844 L 330.652344 142.710938 L 333.945313 147.558594 L 337.242188 147.59375 L 340.535156 149.671875 L 343.832031 149.636719 L 347.125 149.636719 L 350.417969 161.957031 L 353.714844 152.972656 L 357.007813 167.886719 L 360.300781 168.40625 L 363.597656 178.648438 L 366.890625 180.164063 L 370.1875 180.808594 L 373.480469 182.875 L 376.773438 182.65625 L 380.070313 182.929688 L 383.363281 173.425781 L 386.65625 173.191406 L 389.953125 181.0625 L 393.246094 184.558594 L 396.539063 182.714844 L 399.835938 185.785156 L 403.128906 152.6875 L 406.425781 175.460938 L 409.71875 175.496094 L 413.011719 176.894531 L 416.308594 169.792969 L 419.601563 116.316406 L 422.894531 121.960938 L 426.191406 120.175781 L 429.484375 113.722656 L 432.777344 110.660156 L 436.074219 100.929688 L 439.367188 74.9375 L 442.664063 94.015625 L 445.957031 97.191406 L 449.25 95.507813 L 452.546875 94.6875 L 455.839844 99.917969 L 459.132813 88.074219 L 462.429688 88.136719 L 465.722656 79.035156 L 469.019531 66.402344 L 472.3125 54.265625 \"/>\n",
       "</g>\n",
       "<path style=\"fill:none;stroke-width:1;stroke-linecap:round;stroke-linejoin:round;stroke:rgb(0%,0%,0%);stroke-opacity:1;stroke-miterlimit:10;\" d=\"M 331.070313 191.042969 L 472.3125 191.042969 \"/>\n",
       "<path style=\"fill:none;stroke-width:1;stroke-linecap:round;stroke-linejoin:round;stroke:rgb(0%,0%,0%);stroke-opacity:1;stroke-miterlimit:10;\" d=\"M 331.070313 191.042969 L 331.070313 197.019531 \"/>\n",
       "<path style=\"fill:none;stroke-width:1;stroke-linecap:round;stroke-linejoin:round;stroke:rgb(0%,0%,0%);stroke-opacity:1;stroke-miterlimit:10;\" d=\"M 366.378906 191.042969 L 366.378906 197.019531 \"/>\n",
       "<path style=\"fill:none;stroke-width:1;stroke-linecap:round;stroke-linejoin:round;stroke:rgb(0%,0%,0%);stroke-opacity:1;stroke-miterlimit:10;\" d=\"M 401.691406 191.042969 L 401.691406 197.019531 \"/>\n",
       "<path style=\"fill:none;stroke-width:1;stroke-linecap:round;stroke-linejoin:round;stroke:rgb(0%,0%,0%);stroke-opacity:1;stroke-miterlimit:10;\" d=\"M 437 191.042969 L 437 197.019531 \"/>\n",
       "<path style=\"fill:none;stroke-width:1;stroke-linecap:round;stroke-linejoin:round;stroke:rgb(0%,0%,0%);stroke-opacity:1;stroke-miterlimit:10;\" d=\"M 472.3125 191.042969 L 472.3125 197.019531 \"/>\n",
       "<g style=\"fill:rgb(0%,0%,0%);fill-opacity:1;\">\n",
       "  <use xlink:href=\"#glyph0-2\" x=\"325.253906\" y=\"213.753906\"/>\n",
       "  <use xlink:href=\"#glyph0-0\" x=\"331.07126\" y=\"213.753906\"/>\n",
       "</g>\n",
       "<g style=\"fill:rgb(0%,0%,0%);fill-opacity:1;\">\n",
       "  <use xlink:href=\"#glyph0-11\" x=\"360.5625\" y=\"213.753906\"/>\n",
       "  <use xlink:href=\"#glyph0-0\" x=\"366.379854\" y=\"213.753906\"/>\n",
       "</g>\n",
       "<g style=\"fill:rgb(0%,0%,0%);fill-opacity:1;\">\n",
       "  <use xlink:href=\"#glyph0-12\" x=\"395.875\" y=\"213.753906\"/>\n",
       "  <use xlink:href=\"#glyph0-0\" x=\"401.692354\" y=\"213.753906\"/>\n",
       "</g>\n",
       "<g style=\"fill:rgb(0%,0%,0%);fill-opacity:1;\">\n",
       "  <use xlink:href=\"#glyph0-13\" x=\"431.183594\" y=\"213.753906\"/>\n",
       "  <use xlink:href=\"#glyph0-0\" x=\"437.000947\" y=\"213.753906\"/>\n",
       "</g>\n",
       "<g style=\"fill:rgb(0%,0%,0%);fill-opacity:1;\">\n",
       "  <use xlink:href=\"#glyph0-1\" x=\"463.585938\" y=\"213.753906\"/>\n",
       "  <use xlink:href=\"#glyph0-0\" x=\"469.403291\" y=\"213.753906\"/>\n",
       "  <use xlink:href=\"#glyph0-0\" x=\"475.220645\" y=\"213.753906\"/>\n",
       "</g>\n",
       "<path style=\"fill:none;stroke-width:1;stroke-linecap:round;stroke-linejoin:round;stroke:rgb(0%,0%,0%);stroke-opacity:1;stroke-miterlimit:10;\" d=\"M 301.003906 153.105469 L 301.003906 72.648438 \"/>\n",
       "<path style=\"fill:none;stroke-width:1;stroke-linecap:round;stroke-linejoin:round;stroke:rgb(0%,0%,0%);stroke-opacity:1;stroke-miterlimit:10;\" d=\"M 301.003906 153.105469 L 295.027344 153.105469 \"/>\n",
       "<path style=\"fill:none;stroke-width:1;stroke-linecap:round;stroke-linejoin:round;stroke:rgb(0%,0%,0%);stroke-opacity:1;stroke-miterlimit:10;\" d=\"M 301.003906 112.875 L 295.027344 112.875 \"/>\n",
       "<path style=\"fill:none;stroke-width:1;stroke-linecap:round;stroke-linejoin:round;stroke:rgb(0%,0%,0%);stroke-opacity:1;stroke-miterlimit:10;\" d=\"M 301.003906 72.648438 L 295.027344 72.648438 \"/>\n",
       "<g style=\"fill:rgb(0%,0%,0%);fill-opacity:1;\">\n",
       "  <use xlink:href=\"#glyph1-0\" x=\"287.855469\" y=\"162.117188\"/>\n",
       "  <use xlink:href=\"#glyph1-4\" x=\"287.855469\" y=\"158.633926\"/>\n",
       "  <use xlink:href=\"#glyph1-2\" x=\"287.855469\" y=\"152.816572\"/>\n",
       "  <use xlink:href=\"#glyph1-5\" x=\"287.855469\" y=\"149.910449\"/>\n",
       "</g>\n",
       "<g style=\"fill:rgb(0%,0%,0%);fill-opacity:1;\">\n",
       "  <use xlink:href=\"#glyph1-0\" x=\"287.855469\" y=\"121.886719\"/>\n",
       "  <use xlink:href=\"#glyph1-4\" x=\"287.855469\" y=\"118.403457\"/>\n",
       "  <use xlink:href=\"#glyph1-2\" x=\"287.855469\" y=\"112.586104\"/>\n",
       "  <use xlink:href=\"#glyph1-3\" x=\"287.855469\" y=\"109.67998\"/>\n",
       "</g>\n",
       "<g style=\"fill:rgb(0%,0%,0%);fill-opacity:1;\">\n",
       "  <use xlink:href=\"#glyph1-0\" x=\"287.855469\" y=\"81.660156\"/>\n",
       "  <use xlink:href=\"#glyph1-3\" x=\"287.855469\" y=\"78.176895\"/>\n",
       "  <use xlink:href=\"#glyph1-2\" x=\"287.855469\" y=\"72.359541\"/>\n",
       "  <use xlink:href=\"#glyph1-5\" x=\"287.855469\" y=\"69.453418\"/>\n",
       "</g>\n",
       "<path style=\"fill:none;stroke-width:1;stroke-linecap:round;stroke-linejoin:round;stroke:rgb(0%,0%,0%);stroke-opacity:1;stroke-miterlimit:10;\" d=\"M 301.003906 191.042969 L 478.902344 191.042969 L 478.902344 49.003906 L 301.003906 49.003906 L 301.003906 191.042969 \"/>\n",
       "<g clip-path=\"url(#clip4)\" clip-rule=\"nonzero\">\n",
       "<g style=\"fill:rgb(0%,0%,0%);fill-opacity:1;\">\n",
       "  <use xlink:href=\"#glyph2-0\" x=\"303.808594\" y=\"28.957031\"/>\n",
       "  <use xlink:href=\"#glyph2-1\" x=\"312.11398\" y=\"28.957031\"/>\n",
       "  <use xlink:href=\"#glyph2-2\" x=\"319.039189\" y=\"28.957031\"/>\n",
       "  <use xlink:href=\"#glyph2-3\" x=\"323.885012\" y=\"28.957031\"/>\n",
       "  <use xlink:href=\"#glyph2-4\" x=\"328.031625\" y=\"28.957031\"/>\n",
       "  <use xlink:href=\"#glyph2-1\" x=\"331.491189\" y=\"28.957031\"/>\n",
       "  <use xlink:href=\"#glyph2-5\" x=\"338.416398\" y=\"28.957031\"/>\n",
       "  <use xlink:href=\"#glyph2-6\" x=\"341.875963\" y=\"28.957031\"/>\n",
       "  <use xlink:href=\"#glyph2-7\" x=\"345.335527\" y=\"28.957031\"/>\n",
       "  <use xlink:href=\"#glyph2-8\" x=\"354.327963\" y=\"28.957031\"/>\n",
       "  <use xlink:href=\"#glyph2-9\" x=\"361.253172\" y=\"28.957031\"/>\n",
       "  <use xlink:href=\"#glyph2-8\" x=\"368.85935\" y=\"28.957031\"/>\n",
       "  <use xlink:href=\"#glyph2-10\" x=\"375.784559\" y=\"28.957031\"/>\n",
       "  <use xlink:href=\"#glyph2-11\" x=\"383.390736\" y=\"28.957031\"/>\n",
       "  <use xlink:href=\"#glyph2-8\" x=\"390.996914\" y=\"28.957031\"/>\n",
       "  <use xlink:href=\"#glyph2-10\" x=\"397.922123\" y=\"28.957031\"/>\n",
       "  <use xlink:href=\"#glyph2-12\" x=\"405.528301\" y=\"28.957031\"/>\n",
       "  <use xlink:href=\"#glyph2-8\" x=\"412.45351\" y=\"28.957031\"/>\n",
       "  <use xlink:href=\"#glyph2-6\" x=\"419.378719\" y=\"28.957031\"/>\n",
       "  <use xlink:href=\"#glyph2-13\" x=\"422.838283\" y=\"28.957031\"/>\n",
       "  <use xlink:href=\"#glyph2-10\" x=\"430.444461\" y=\"28.957031\"/>\n",
       "  <use xlink:href=\"#glyph2-6\" x=\"438.050639\" y=\"28.957031\"/>\n",
       "  <use xlink:href=\"#glyph2-18\" x=\"441.510203\" y=\"28.957031\"/>\n",
       "  <use xlink:href=\"#glyph2-4\" x=\"449.116381\" y=\"28.957031\"/>\n",
       "  <use xlink:href=\"#glyph2-10\" x=\"452.575945\" y=\"28.957031\"/>\n",
       "  <use xlink:href=\"#glyph2-2\" x=\"460.182123\" y=\"28.957031\"/>\n",
       "  <use xlink:href=\"#glyph2-1\" x=\"465.027945\" y=\"28.957031\"/>\n",
       "  <use xlink:href=\"#glyph2-3\" x=\"471.953154\" y=\"28.957031\"/>\n",
       "</g>\n",
       "<g style=\"fill:rgb(0%,0%,0%);fill-opacity:1;\">\n",
       "  <use xlink:href=\"#glyph0-14\" x=\"376.585938\" y=\"237.65625\"/>\n",
       "  <use xlink:href=\"#glyph0-7\" x=\"382.975322\" y=\"237.65625\"/>\n",
       "  <use xlink:href=\"#glyph0-8\" x=\"385.299199\" y=\"237.65625\"/>\n",
       "  <use xlink:href=\"#glyph0-15\" x=\"391.116553\" y=\"237.65625\"/>\n",
       "  <use xlink:href=\"#glyph0-5\" x=\"394.599814\" y=\"237.65625\"/>\n",
       "  <use xlink:href=\"#glyph0-16\" x=\"400.417168\" y=\"237.65625\"/>\n",
       "</g>\n",
       "</g>\n",
       "<path style=\"fill:none;stroke-width:0.5;stroke-linecap:round;stroke-linejoin:round;stroke:rgb(0%,0%,0%);stroke-opacity:1;stroke-miterlimit:10;\" d=\"M 371.136719 191.042969 L 371.136719 186.785156 \"/>\n",
       "<path style=\"fill:none;stroke-width:0.5;stroke-linecap:round;stroke-linejoin:round;stroke:rgb(0%,0%,0%);stroke-opacity:1;stroke-miterlimit:10;\" d=\"M 393.105469 191.042969 L 393.105469 186.785156 \"/>\n",
       "<path style=\"fill:none;stroke-width:0.5;stroke-linecap:round;stroke-linejoin:round;stroke:rgb(0%,0%,0%);stroke-opacity:1;stroke-miterlimit:10;\" d=\"M 409.226563 191.042969 L 409.226563 186.785156 \"/>\n",
       "<path style=\"fill:none;stroke-width:0.5;stroke-linecap:round;stroke-linejoin:round;stroke:rgb(0%,0%,0%);stroke-opacity:1;stroke-miterlimit:10;\" d=\"M 422.648438 191.042969 L 422.648438 186.785156 \"/>\n",
       "<path style=\"fill:none;stroke-width:0.5;stroke-linecap:round;stroke-linejoin:round;stroke:rgb(0%,0%,0%);stroke-opacity:1;stroke-miterlimit:10;\" d=\"M 432.21875 191.042969 L 432.21875 186.785156 \"/>\n",
       "<path style=\"fill:none;stroke-width:0.5;stroke-linecap:round;stroke-linejoin:round;stroke:rgb(0%,0%,0%);stroke-opacity:1;stroke-miterlimit:10;\" d=\"M 440.621094 191.042969 L 440.621094 186.785156 \"/>\n",
       "<path style=\"fill:none;stroke-width:0.5;stroke-linecap:round;stroke-linejoin:round;stroke:rgb(0%,0%,0%);stroke-opacity:1;stroke-miterlimit:10;\" d=\"M 447.851563 191.042969 L 447.851563 186.785156 \"/>\n",
       "<path style=\"fill:none;stroke-width:0.5;stroke-linecap:round;stroke-linejoin:round;stroke:rgb(0%,0%,0%);stroke-opacity:1;stroke-miterlimit:10;\" d=\"M 456.152344 191.042969 L 456.152344 186.785156 \"/>\n",
       "<path style=\"fill:none;stroke-width:0.5;stroke-linecap:round;stroke-linejoin:round;stroke:rgb(0%,0%,0%);stroke-opacity:1;stroke-miterlimit:10;\" d=\"M 465.789063 191.042969 L 465.789063 186.785156 \"/>\n",
       "<g clip-path=\"url(#clip5)\" clip-rule=\"nonzero\">\n",
       "<path style=\"fill:none;stroke-width:1;stroke-linecap:round;stroke-linejoin:round;stroke:rgb(0%,0%,0%);stroke-opacity:1;stroke-miterlimit:10;\" d=\"M 55.59375 306.265625 L 59.253906 314.09375 L 62.914063 316.1875 L 66.574219 343.300781 L 70.234375 356.15625 L 73.894531 375.222656 L 77.554688 376.6875 L 81.214844 388.75 L 84.875 414.574219 L 88.535156 416.898438 L 92.195313 415.46875 L 95.855469 420.289063 L 99.515625 430.320313 L 103.179688 431.316406 L 106.839844 436.976563 L 110.5 437.425781 L 114.160156 437.570313 L 117.820313 437.785156 L 121.480469 437.480469 L 125.140625 434.253906 L 128.800781 427.960938 L 132.460938 425.476563 L 136.121094 423.460938 L 139.78125 419.503906 L 143.441406 418.125 L 147.101563 418.992188 L 150.761719 418.425781 L 154.425781 418.8125 L 158.085938 384.765625 L 161.746094 415.6875 L 165.40625 415.6875 L 169.066406 402.449219 L 172.726563 396.195313 L 176.386719 396.890625 L 180.046875 396.828125 L 183.707031 396.828125 L 187.367188 396.378906 L 191.027344 396.378906 L 194.6875 377.847656 L 198.347656 377.765625 L 202.011719 377.675781 L 205.671875 356.4375 L 220.3125 356.4375 \"/>\n",
       "</g>\n",
       "<path style=\"fill:none;stroke-width:1;stroke-linecap:round;stroke-linejoin:round;stroke:rgb(0%,0%,0%);stroke-opacity:1;stroke-miterlimit:10;\" d=\"M 55.59375 443.042969 L 195.777344 443.042969 \"/>\n",
       "<path style=\"fill:none;stroke-width:1;stroke-linecap:round;stroke-linejoin:round;stroke:rgb(0%,0%,0%);stroke-opacity:1;stroke-miterlimit:10;\" d=\"M 55.59375 443.042969 L 55.59375 449.019531 \"/>\n",
       "<path style=\"fill:none;stroke-width:1;stroke-linecap:round;stroke-linejoin:round;stroke:rgb(0%,0%,0%);stroke-opacity:1;stroke-miterlimit:10;\" d=\"M 90.640625 443.042969 L 90.640625 449.019531 \"/>\n",
       "<path style=\"fill:none;stroke-width:1;stroke-linecap:round;stroke-linejoin:round;stroke:rgb(0%,0%,0%);stroke-opacity:1;stroke-miterlimit:10;\" d=\"M 125.6875 443.042969 L 125.6875 449.019531 \"/>\n",
       "<path style=\"fill:none;stroke-width:1;stroke-linecap:round;stroke-linejoin:round;stroke:rgb(0%,0%,0%);stroke-opacity:1;stroke-miterlimit:10;\" d=\"M 160.734375 443.042969 L 160.734375 449.019531 \"/>\n",
       "<path style=\"fill:none;stroke-width:1;stroke-linecap:round;stroke-linejoin:round;stroke:rgb(0%,0%,0%);stroke-opacity:1;stroke-miterlimit:10;\" d=\"M 195.777344 443.042969 L 195.777344 449.019531 \"/>\n",
       "<g style=\"fill:rgb(0%,0%,0%);fill-opacity:1;\">\n",
       "  <use xlink:href=\"#glyph0-0\" x=\"52.683594\" y=\"465.753906\"/>\n",
       "</g>\n",
       "<g style=\"fill:rgb(0%,0%,0%);fill-opacity:1;\">\n",
       "  <use xlink:href=\"#glyph0-1\" x=\"84.824219\" y=\"465.753906\"/>\n",
       "  <use xlink:href=\"#glyph0-0\" x=\"90.641572\" y=\"465.753906\"/>\n",
       "</g>\n",
       "<g style=\"fill:rgb(0%,0%,0%);fill-opacity:1;\">\n",
       "  <use xlink:href=\"#glyph0-2\" x=\"119.871094\" y=\"465.753906\"/>\n",
       "  <use xlink:href=\"#glyph0-0\" x=\"125.688447\" y=\"465.753906\"/>\n",
       "</g>\n",
       "<g style=\"fill:rgb(0%,0%,0%);fill-opacity:1;\">\n",
       "  <use xlink:href=\"#glyph0-3\" x=\"154.917969\" y=\"465.753906\"/>\n",
       "  <use xlink:href=\"#glyph0-0\" x=\"160.735322\" y=\"465.753906\"/>\n",
       "</g>\n",
       "<g style=\"fill:rgb(0%,0%,0%);fill-opacity:1;\">\n",
       "  <use xlink:href=\"#glyph0-11\" x=\"189.960938\" y=\"465.753906\"/>\n",
       "  <use xlink:href=\"#glyph0-0\" x=\"195.778291\" y=\"465.753906\"/>\n",
       "</g>\n",
       "<path style=\"fill:none;stroke-width:1;stroke-linecap:round;stroke-linejoin:round;stroke:rgb(0%,0%,0%);stroke-opacity:1;stroke-miterlimit:10;\" d=\"M 49.003906 418.601563 L 49.003906 315.523438 \"/>\n",
       "<path style=\"fill:none;stroke-width:1;stroke-linecap:round;stroke-linejoin:round;stroke:rgb(0%,0%,0%);stroke-opacity:1;stroke-miterlimit:10;\" d=\"M 49.003906 418.601563 L 43.027344 418.601563 \"/>\n",
       "<path style=\"fill:none;stroke-width:1;stroke-linecap:round;stroke-linejoin:round;stroke:rgb(0%,0%,0%);stroke-opacity:1;stroke-miterlimit:10;\" d=\"M 49.003906 384.242188 L 43.027344 384.242188 \"/>\n",
       "<path style=\"fill:none;stroke-width:1;stroke-linecap:round;stroke-linejoin:round;stroke:rgb(0%,0%,0%);stroke-opacity:1;stroke-miterlimit:10;\" d=\"M 49.003906 349.882813 L 43.027344 349.882813 \"/>\n",
       "<path style=\"fill:none;stroke-width:1;stroke-linecap:round;stroke-linejoin:round;stroke:rgb(0%,0%,0%);stroke-opacity:1;stroke-miterlimit:10;\" d=\"M 49.003906 315.523438 L 43.027344 315.523438 \"/>\n",
       "<g style=\"fill:rgb(0%,0%,0%);fill-opacity:1;\">\n",
       "  <use xlink:href=\"#glyph1-0\" x=\"35.855469\" y=\"427.613281\"/>\n",
       "  <use xlink:href=\"#glyph1-1\" x=\"35.855469\" y=\"424.13002\"/>\n",
       "  <use xlink:href=\"#glyph1-2\" x=\"35.855469\" y=\"418.312666\"/>\n",
       "  <use xlink:href=\"#glyph1-3\" x=\"35.855469\" y=\"415.406543\"/>\n",
       "</g>\n",
       "<g style=\"fill:rgb(0%,0%,0%);fill-opacity:1;\">\n",
       "  <use xlink:href=\"#glyph1-0\" x=\"35.855469\" y=\"393.253906\"/>\n",
       "  <use xlink:href=\"#glyph1-4\" x=\"35.855469\" y=\"389.770645\"/>\n",
       "  <use xlink:href=\"#glyph1-2\" x=\"35.855469\" y=\"383.953291\"/>\n",
       "  <use xlink:href=\"#glyph1-5\" x=\"35.855469\" y=\"381.047168\"/>\n",
       "</g>\n",
       "<g style=\"fill:rgb(0%,0%,0%);fill-opacity:1;\">\n",
       "  <use xlink:href=\"#glyph1-0\" x=\"35.855469\" y=\"358.894531\"/>\n",
       "  <use xlink:href=\"#glyph1-4\" x=\"35.855469\" y=\"355.41127\"/>\n",
       "  <use xlink:href=\"#glyph1-2\" x=\"35.855469\" y=\"349.593916\"/>\n",
       "  <use xlink:href=\"#glyph1-3\" x=\"35.855469\" y=\"346.687793\"/>\n",
       "</g>\n",
       "<g style=\"fill:rgb(0%,0%,0%);fill-opacity:1;\">\n",
       "  <use xlink:href=\"#glyph1-0\" x=\"35.855469\" y=\"324.535156\"/>\n",
       "  <use xlink:href=\"#glyph1-3\" x=\"35.855469\" y=\"321.051895\"/>\n",
       "  <use xlink:href=\"#glyph1-2\" x=\"35.855469\" y=\"315.234541\"/>\n",
       "  <use xlink:href=\"#glyph1-5\" x=\"35.855469\" y=\"312.328418\"/>\n",
       "</g>\n",
       "<path style=\"fill:none;stroke-width:1;stroke-linecap:round;stroke-linejoin:round;stroke:rgb(0%,0%,0%);stroke-opacity:1;stroke-miterlimit:10;\" d=\"M 49.003906 443.042969 L 226.902344 443.042969 L 226.902344 301.003906 L 49.003906 301.003906 L 49.003906 443.042969 \"/>\n",
       "<g clip-path=\"url(#clip6)\" clip-rule=\"nonzero\">\n",
       "<g style=\"fill:rgb(0%,0%,0%);fill-opacity:1;\">\n",
       "  <use xlink:href=\"#glyph2-0\" x=\"42.460938\" y=\"280.957031\"/>\n",
       "  <use xlink:href=\"#glyph2-1\" x=\"50.766324\" y=\"280.957031\"/>\n",
       "  <use xlink:href=\"#glyph2-2\" x=\"57.691533\" y=\"280.957031\"/>\n",
       "  <use xlink:href=\"#glyph2-3\" x=\"62.537355\" y=\"280.957031\"/>\n",
       "  <use xlink:href=\"#glyph2-4\" x=\"66.683969\" y=\"280.957031\"/>\n",
       "  <use xlink:href=\"#glyph2-1\" x=\"70.143533\" y=\"280.957031\"/>\n",
       "  <use xlink:href=\"#glyph2-5\" x=\"77.068742\" y=\"280.957031\"/>\n",
       "  <use xlink:href=\"#glyph2-6\" x=\"80.528307\" y=\"280.957031\"/>\n",
       "  <use xlink:href=\"#glyph2-7\" x=\"83.987871\" y=\"280.957031\"/>\n",
       "  <use xlink:href=\"#glyph2-8\" x=\"92.980307\" y=\"280.957031\"/>\n",
       "  <use xlink:href=\"#glyph2-9\" x=\"99.905516\" y=\"280.957031\"/>\n",
       "  <use xlink:href=\"#glyph2-8\" x=\"107.511693\" y=\"280.957031\"/>\n",
       "  <use xlink:href=\"#glyph2-10\" x=\"114.436902\" y=\"280.957031\"/>\n",
       "  <use xlink:href=\"#glyph2-11\" x=\"122.04308\" y=\"280.957031\"/>\n",
       "  <use xlink:href=\"#glyph2-8\" x=\"129.649258\" y=\"280.957031\"/>\n",
       "  <use xlink:href=\"#glyph2-10\" x=\"136.574467\" y=\"280.957031\"/>\n",
       "  <use xlink:href=\"#glyph2-12\" x=\"144.180645\" y=\"280.957031\"/>\n",
       "  <use xlink:href=\"#glyph2-8\" x=\"151.105854\" y=\"280.957031\"/>\n",
       "  <use xlink:href=\"#glyph2-6\" x=\"158.031062\" y=\"280.957031\"/>\n",
       "  <use xlink:href=\"#glyph2-13\" x=\"161.490627\" y=\"280.957031\"/>\n",
       "  <use xlink:href=\"#glyph2-10\" x=\"169.096805\" y=\"280.957031\"/>\n",
       "  <use xlink:href=\"#glyph2-6\" x=\"176.702982\" y=\"280.957031\"/>\n",
       "  <use xlink:href=\"#glyph2-14\" x=\"180.162547\" y=\"280.957031\"/>\n",
       "  <use xlink:href=\"#glyph2-8\" x=\"188.467934\" y=\"280.957031\"/>\n",
       "  <use xlink:href=\"#glyph2-10\" x=\"195.393143\" y=\"280.957031\"/>\n",
       "  <use xlink:href=\"#glyph2-4\" x=\"202.99932\" y=\"280.957031\"/>\n",
       "  <use xlink:href=\"#glyph2-13\" x=\"206.458885\" y=\"280.957031\"/>\n",
       "  <use xlink:href=\"#glyph2-2\" x=\"214.065062\" y=\"280.957031\"/>\n",
       "  <use xlink:href=\"#glyph2-4\" x=\"218.910885\" y=\"280.957031\"/>\n",
       "  <use xlink:href=\"#glyph2-3\" x=\"222.370449\" y=\"280.957031\"/>\n",
       "  <use xlink:href=\"#glyph2-19\" x=\"226.517062\" y=\"280.957031\"/>\n",
       "</g>\n",
       "<g style=\"fill:rgb(0%,0%,0%);fill-opacity:1;\">\n",
       "  <use xlink:href=\"#glyph0-4\" x=\"117.605469\" y=\"489.65625\"/>\n",
       "  <use xlink:href=\"#glyph0-17\" x=\"124.582207\" y=\"489.65625\"/>\n",
       "  <use xlink:href=\"#glyph0-8\" x=\"130.399561\" y=\"489.65625\"/>\n",
       "  <use xlink:href=\"#glyph0-7\" x=\"136.216914\" y=\"489.65625\"/>\n",
       "  <use xlink:href=\"#glyph0-18\" x=\"138.540791\" y=\"489.65625\"/>\n",
       "  <use xlink:href=\"#glyph0-15\" x=\"144.358145\" y=\"489.65625\"/>\n",
       "  <use xlink:href=\"#glyph0-7\" x=\"147.841406\" y=\"489.65625\"/>\n",
       "  <use xlink:href=\"#glyph0-16\" x=\"150.165283\" y=\"489.65625\"/>\n",
       "  <use xlink:href=\"#glyph0-19\" x=\"153.071406\" y=\"489.65625\"/>\n",
       "</g>\n",
       "</g>\n",
       "<path style=\"fill:none;stroke-width:0.5;stroke-linecap:round;stroke-linejoin:round;stroke:rgb(0%,0%,0%);stroke-opacity:1;stroke-miterlimit:10;\" d=\"M 55.59375 443.042969 L 55.59375 438.785156 \"/>\n",
       "<path style=\"fill:none;stroke-width:0.5;stroke-linecap:round;stroke-linejoin:round;stroke:rgb(0%,0%,0%);stroke-opacity:1;stroke-miterlimit:10;\" d=\"M 59.097656 443.042969 L 59.097656 438.785156 \"/>\n",
       "<path style=\"fill:none;stroke-width:0.5;stroke-linecap:round;stroke-linejoin:round;stroke:rgb(0%,0%,0%);stroke-opacity:1;stroke-miterlimit:10;\" d=\"M 62.601563 443.042969 L 62.601563 438.785156 \"/>\n",
       "<path style=\"fill:none;stroke-width:0.5;stroke-linecap:round;stroke-linejoin:round;stroke:rgb(0%,0%,0%);stroke-opacity:1;stroke-miterlimit:10;\" d=\"M 66.105469 443.042969 L 66.105469 438.785156 \"/>\n",
       "<path style=\"fill:none;stroke-width:0.5;stroke-linecap:round;stroke-linejoin:round;stroke:rgb(0%,0%,0%);stroke-opacity:1;stroke-miterlimit:10;\" d=\"M 73.117188 443.042969 L 73.117188 438.785156 \"/>\n",
       "<path style=\"fill:none;stroke-width:0.5;stroke-linecap:round;stroke-linejoin:round;stroke:rgb(0%,0%,0%);stroke-opacity:1;stroke-miterlimit:10;\" d=\"M 83.628906 443.042969 L 83.628906 438.785156 \"/>\n",
       "<path style=\"fill:none;stroke-width:0.5;stroke-linecap:round;stroke-linejoin:round;stroke:rgb(0%,0%,0%);stroke-opacity:1;stroke-miterlimit:10;\" d=\"M 90.640625 443.042969 L 90.640625 438.785156 \"/>\n",
       "<path style=\"fill:none;stroke-width:0.5;stroke-linecap:round;stroke-linejoin:round;stroke:rgb(0%,0%,0%);stroke-opacity:1;stroke-miterlimit:10;\" d=\"M 104.65625 443.042969 L 104.65625 438.785156 \"/>\n",
       "<path style=\"fill:none;stroke-width:0.5;stroke-linecap:round;stroke-linejoin:round;stroke:rgb(0%,0%,0%);stroke-opacity:1;stroke-miterlimit:10;\" d=\"M 125.6875 443.042969 L 125.6875 438.785156 \"/>\n",
       "<g clip-path=\"url(#clip7)\" clip-rule=\"nonzero\">\n",
       "<path style=\"fill-rule:nonzero;fill:rgb(0%,0%,100%);fill-opacity:1;stroke-width:1;stroke-linecap:round;stroke-linejoin:round;stroke:rgb(0%,0%,0%);stroke-opacity:1;stroke-miterlimit:10;\" d=\"M 307.59375 302.410156 L 382.464844 302.410156 L 382.464844 443.046875 L 307.59375 443.046875 Z M 307.59375 302.410156 \"/>\n",
       "<path style=\"fill-rule:nonzero;fill:rgb(0%,0%,100%);fill-opacity:1;stroke-width:1;stroke-linecap:round;stroke-linejoin:round;stroke:rgb(0%,0%,0%);stroke-opacity:1;stroke-miterlimit:10;\" d=\"M 397.4375 302.410156 L 472.308594 302.410156 L 472.308594 303.007813 L 397.4375 303.007813 Z M 397.4375 302.410156 \"/>\n",
       "</g>\n",
       "<g style=\"fill:rgb(0%,0%,0%);fill-opacity:1;\">\n",
       "  <use xlink:href=\"#glyph0-8\" x=\"329.035156\" y=\"465.753906\"/>\n",
       "  <use xlink:href=\"#glyph0-18\" x=\"334.85251\" y=\"465.753906\"/>\n",
       "  <use xlink:href=\"#glyph0-20\" x=\"340.669863\" y=\"465.753906\"/>\n",
       "  <use xlink:href=\"#glyph0-15\" x=\"346.487217\" y=\"465.753906\"/>\n",
       "  <use xlink:href=\"#glyph0-17\" x=\"349.970479\" y=\"465.753906\"/>\n",
       "  <use xlink:href=\"#glyph0-21\" x=\"355.787832\" y=\"465.753906\"/>\n",
       "</g>\n",
       "<g style=\"fill:rgb(0%,0%,0%);fill-opacity:1;\">\n",
       "  <use xlink:href=\"#glyph0-19\" x=\"416.5625\" y=\"465.753906\"/>\n",
       "  <use xlink:href=\"#glyph0-17\" x=\"421.7925\" y=\"465.753906\"/>\n",
       "  <use xlink:href=\"#glyph0-10\" x=\"427.609854\" y=\"465.753906\"/>\n",
       "  <use xlink:href=\"#glyph0-20\" x=\"432.839854\" y=\"465.753906\"/>\n",
       "  <use xlink:href=\"#glyph0-15\" x=\"438.657207\" y=\"465.753906\"/>\n",
       "  <use xlink:href=\"#glyph0-17\" x=\"442.140469\" y=\"465.753906\"/>\n",
       "  <use xlink:href=\"#glyph0-21\" x=\"447.957822\" y=\"465.753906\"/>\n",
       "</g>\n",
       "<g clip-path=\"url(#clip8)\" clip-rule=\"nonzero\">\n",
       "<g style=\"fill:rgb(0%,0%,0%);fill-opacity:1;\">\n",
       "  <use xlink:href=\"#glyph2-0\" x=\"296.1875\" y=\"280.957031\"/>\n",
       "  <use xlink:href=\"#glyph2-1\" x=\"304.492887\" y=\"280.957031\"/>\n",
       "  <use xlink:href=\"#glyph2-2\" x=\"311.418096\" y=\"280.957031\"/>\n",
       "  <use xlink:href=\"#glyph2-3\" x=\"316.263918\" y=\"280.957031\"/>\n",
       "  <use xlink:href=\"#glyph2-4\" x=\"320.410531\" y=\"280.957031\"/>\n",
       "  <use xlink:href=\"#glyph2-1\" x=\"323.870096\" y=\"280.957031\"/>\n",
       "  <use xlink:href=\"#glyph2-5\" x=\"330.795305\" y=\"280.957031\"/>\n",
       "  <use xlink:href=\"#glyph2-6\" x=\"334.254869\" y=\"280.957031\"/>\n",
       "  <use xlink:href=\"#glyph2-7\" x=\"337.714434\" y=\"280.957031\"/>\n",
       "  <use xlink:href=\"#glyph2-8\" x=\"346.706869\" y=\"280.957031\"/>\n",
       "  <use xlink:href=\"#glyph2-9\" x=\"353.632078\" y=\"280.957031\"/>\n",
       "  <use xlink:href=\"#glyph2-8\" x=\"361.238256\" y=\"280.957031\"/>\n",
       "  <use xlink:href=\"#glyph2-10\" x=\"368.163465\" y=\"280.957031\"/>\n",
       "  <use xlink:href=\"#glyph2-11\" x=\"375.769643\" y=\"280.957031\"/>\n",
       "  <use xlink:href=\"#glyph2-8\" x=\"383.37582\" y=\"280.957031\"/>\n",
       "  <use xlink:href=\"#glyph2-10\" x=\"390.301029\" y=\"280.957031\"/>\n",
       "  <use xlink:href=\"#glyph2-12\" x=\"397.907207\" y=\"280.957031\"/>\n",
       "  <use xlink:href=\"#glyph2-8\" x=\"404.832416\" y=\"280.957031\"/>\n",
       "  <use xlink:href=\"#glyph2-6\" x=\"411.757625\" y=\"280.957031\"/>\n",
       "  <use xlink:href=\"#glyph2-13\" x=\"415.217189\" y=\"280.957031\"/>\n",
       "  <use xlink:href=\"#glyph2-10\" x=\"422.823367\" y=\"280.957031\"/>\n",
       "  <use xlink:href=\"#glyph2-6\" x=\"430.429545\" y=\"280.957031\"/>\n",
       "  <use xlink:href=\"#glyph2-20\" x=\"433.889109\" y=\"280.957031\"/>\n",
       "  <use xlink:href=\"#glyph2-8\" x=\"442.881545\" y=\"280.957031\"/>\n",
       "  <use xlink:href=\"#glyph2-12\" x=\"449.806754\" y=\"280.957031\"/>\n",
       "  <use xlink:href=\"#glyph2-13\" x=\"456.731963\" y=\"280.957031\"/>\n",
       "  <use xlink:href=\"#glyph2-2\" x=\"464.338141\" y=\"280.957031\"/>\n",
       "  <use xlink:href=\"#glyph2-11\" x=\"469.183963\" y=\"280.957031\"/>\n",
       "  <use xlink:href=\"#glyph2-17\" x=\"476.790141\" y=\"280.957031\"/>\n",
       "</g>\n",
       "<g style=\"fill:rgb(0%,0%,0%);fill-opacity:1;\">\n",
       "  <use xlink:href=\"#glyph0-22\" x=\"370.480469\" y=\"489.65625\"/>\n",
       "  <use xlink:href=\"#glyph0-17\" x=\"378.034346\" y=\"489.65625\"/>\n",
       "  <use xlink:href=\"#glyph0-21\" x=\"383.851699\" y=\"489.65625\"/>\n",
       "  <use xlink:href=\"#glyph0-18\" x=\"389.081699\" y=\"489.65625\"/>\n",
       "  <use xlink:href=\"#glyph0-15\" x=\"394.899053\" y=\"489.65625\"/>\n",
       "  <use xlink:href=\"#glyph0-23\" x=\"398.382314\" y=\"489.65625\"/>\n",
       "  <use xlink:href=\"#glyph0-10\" x=\"404.199668\" y=\"489.65625\"/>\n",
       "</g>\n",
       "</g>\n",
       "<path style=\"fill:none;stroke-width:1;stroke-linecap:round;stroke-linejoin:round;stroke:rgb(0%,0%,0%);stroke-opacity:1;stroke-miterlimit:10;\" d=\"M 301.003906 425.148438 L 301.003906 302.410156 \"/>\n",
       "<path style=\"fill:none;stroke-width:1;stroke-linecap:round;stroke-linejoin:round;stroke:rgb(0%,0%,0%);stroke-opacity:1;stroke-miterlimit:10;\" d=\"M 301.003906 425.148438 L 295.027344 425.148438 \"/>\n",
       "<path style=\"fill:none;stroke-width:1;stroke-linecap:round;stroke-linejoin:round;stroke:rgb(0%,0%,0%);stroke-opacity:1;stroke-miterlimit:10;\" d=\"M 301.003906 394.464844 L 295.027344 394.464844 \"/>\n",
       "<path style=\"fill:none;stroke-width:1;stroke-linecap:round;stroke-linejoin:round;stroke:rgb(0%,0%,0%);stroke-opacity:1;stroke-miterlimit:10;\" d=\"M 301.003906 363.777344 L 295.027344 363.777344 \"/>\n",
       "<path style=\"fill:none;stroke-width:1;stroke-linecap:round;stroke-linejoin:round;stroke:rgb(0%,0%,0%);stroke-opacity:1;stroke-miterlimit:10;\" d=\"M 301.003906 333.09375 L 295.027344 333.09375 \"/>\n",
       "<path style=\"fill:none;stroke-width:1;stroke-linecap:round;stroke-linejoin:round;stroke:rgb(0%,0%,0%);stroke-opacity:1;stroke-miterlimit:10;\" d=\"M 301.003906 302.410156 L 295.027344 302.410156 \"/>\n",
       "<g style=\"fill:rgb(0%,0%,0%);fill-opacity:1;\">\n",
       "  <use xlink:href=\"#glyph1-0\" x=\"287.855469\" y=\"434.160156\"/>\n",
       "  <use xlink:href=\"#glyph1-1\" x=\"287.855469\" y=\"430.676895\"/>\n",
       "  <use xlink:href=\"#glyph1-2\" x=\"287.855469\" y=\"424.859541\"/>\n",
       "  <use xlink:href=\"#glyph1-3\" x=\"287.855469\" y=\"421.953418\"/>\n",
       "</g>\n",
       "<g style=\"fill:rgb(0%,0%,0%);fill-opacity:1;\">\n",
       "  <use xlink:href=\"#glyph1-0\" x=\"287.855469\" y=\"403.476563\"/>\n",
       "  <use xlink:href=\"#glyph1-4\" x=\"287.855469\" y=\"399.993301\"/>\n",
       "  <use xlink:href=\"#glyph1-2\" x=\"287.855469\" y=\"394.175947\"/>\n",
       "  <use xlink:href=\"#glyph1-5\" x=\"287.855469\" y=\"391.269824\"/>\n",
       "</g>\n",
       "<g style=\"fill:rgb(0%,0%,0%);fill-opacity:1;\">\n",
       "  <use xlink:href=\"#glyph1-0\" x=\"287.855469\" y=\"372.789063\"/>\n",
       "  <use xlink:href=\"#glyph1-4\" x=\"287.855469\" y=\"369.305801\"/>\n",
       "  <use xlink:href=\"#glyph1-2\" x=\"287.855469\" y=\"363.488447\"/>\n",
       "  <use xlink:href=\"#glyph1-3\" x=\"287.855469\" y=\"360.582324\"/>\n",
       "</g>\n",
       "<g style=\"fill:rgb(0%,0%,0%);fill-opacity:1;\">\n",
       "  <use xlink:href=\"#glyph1-0\" x=\"287.855469\" y=\"342.105469\"/>\n",
       "  <use xlink:href=\"#glyph1-3\" x=\"287.855469\" y=\"338.622207\"/>\n",
       "  <use xlink:href=\"#glyph1-2\" x=\"287.855469\" y=\"332.804854\"/>\n",
       "  <use xlink:href=\"#glyph1-5\" x=\"287.855469\" y=\"329.89873\"/>\n",
       "</g>\n",
       "<g style=\"fill:rgb(0%,0%,0%);fill-opacity:1;\">\n",
       "  <use xlink:href=\"#glyph1-3\" x=\"287.855469\" y=\"309.679688\"/>\n",
       "  <use xlink:href=\"#glyph1-2\" x=\"287.855469\" y=\"303.862334\"/>\n",
       "  <use xlink:href=\"#glyph1-3\" x=\"287.855469\" y=\"300.956211\"/>\n",
       "</g>\n",
       "</g>\n",
       "</svg>\n"
      ],
      "text/plain": [
       "Plot with title \"Partial Dependence on Records\""
      ]
     },
     "metadata": {
      "image/svg+xml": {
       "isolated": true
      }
     },
     "output_type": "display_data"
    }
   ],
   "source": [
    "op <- par(mfrow=c(2, 2))\n",
    "partialPlot(rf, cs_data_train, Savings, \"bad\")\n",
    "partialPlot(rf, cs_data_train, Finrat, \"bad\")\n",
    "partialPlot(rf, cs_data_train, Seniority, \"bad\")\n",
    "partialPlot(rf, cs_data_train, Records, \"bad\")"
   ]
  }
 ],
 "metadata": {
  "kernelspec": {
   "display_name": "R",
   "language": "R",
   "name": "ir"
  },
  "language_info": {
   "codemirror_mode": "r",
   "file_extension": ".r",
   "mimetype": "text/x-r-source",
   "name": "R",
   "pygments_lexer": "r",
   "version": "3.3.1"
  }
 },
 "nbformat": 4,
 "nbformat_minor": 0
}
