{
 "cells": [
  {
   "cell_type": "markdown",
   "metadata": {},
   "source": [
    "<h1 align = \"center\">Logistic Regression <br\\>(GLM) </h1>"
   ]
  },
  {
   "cell_type": "markdown",
   "metadata": {},
   "source": [
    "### Some important terms"
   ]
  },
  {
   "cell_type": "markdown",
   "metadata": {},
   "source": [
    "* Logit\n",
    "* Odds: P/(1-P); Odds ratio: the comparison between two odds (in lr, the ratio of the odds after one unit change in x and the original odds) exp(model$coefficients),\n",
    "* Likelihood is essentially a multiplication but log likelihood is a additive function. Remember to use y(i)logp(i) + (1-y(i))log(1-p(i))\n",
    "* Interpretation of the coefficient should be based on the odds ratio which is exp(beta) \n",
    "* Parameterized model: get the boundary as a weighted linear combination of features rather than the decision tree which splits the instance space to subregions \n",
    "* Deviance = -2*loglikelihood. It follows a Chi-squared distribution (analogy to SSE) \n",
    "* Likelihood ratio test: the deviance of baseline model - the deviance of lr model\n",
    "* Why it can produce probability as we think how certain we are about whether a new point belongs to which target, the closer to the boundary the more uncertain we are about this new point \n",
    "* Use maximum likelihood to compute the coefficients\n"
   ]
  },
  {
   "cell_type": "markdown",
   "metadata": {},
   "source": [
    "* Always check several situations"
   ]
  },
  {
   "cell_type": "markdown",
   "metadata": {},
   "source": [
    "1>  Incomplete information from predictors: Use goodness-of-fit chisquare test to make sure for each category or each category combination there is always a value.Check the expected frequencies in each cell of the table to make sure that they are greater than 1 and no more than 20% are less than 5. whenever samples are broken down into categories and one or more\n",
    "combinations are empty it creates problems. If it happens, that coefficient will have very large standard errors. So check the multi-way crosstabulations and the standard errors. \n",
    "\n",
    "2> Complete separation: when outcome variable can be perfectly predicted by one variable or a combination of variables. Think of one variable that perfectly separates the labels since there is no data points in between of the probability curve, it is hard to know how steep the curve should be "
   ]
  },
  {
   "cell_type": "markdown",
   "metadata": {},
   "source": [
    "* Null Deviance"
   ]
  },
  {
   "cell_type": "markdown",
   "metadata": {},
   "source": [
    "Use the majority vote to predict everything"
   ]
  },
  {
   "cell_type": "markdown",
   "metadata": {},
   "source": [
    "* KS statistics"
   ]
  },
  {
   "cell_type": "markdown",
   "metadata": {},
   "source": [
    "Think that x is the cumulative density of the data points based on the score. If a classifier is good, it should distinguish these two cumulative density (the positive and negative cases ) as far as possible. So the larger the KS statistics, the better the algorithm. So check the maximum of y=x and the scores for the positive cases."
   ]
  },
  {
   "cell_type": "markdown",
   "metadata": {},
   "source": [
    "## Assumptions"
   ]
  },
  {
   "cell_type": "markdown",
   "metadata": {},
   "source": [
    "* Linearity in the model and independence of the error term\n",
    "* No Multicolinearity (use the VIF test). \n",
    "* The feature space can be divided by a single line/hyperplane (in the linear form) \n",
    "* Don't have to scale unless they are on very very different scale and we run into the convergence problem"
   ]
  },
  {
   "cell_type": "markdown",
   "metadata": {},
   "source": [
    "  Strenghts     | Weakness\n",
    "  ------------- | -------------\n",
    "      1) Convenient probability scores for observations <br /> 2) Multi-collinearity is not really an issue and can be countered with L2 regularization to an extent| 1)Doesn’t perform well when feature space is too large <br /> \n",
    "  "
   ]
  },
  {
   "cell_type": "code",
   "execution_count": 1,
   "metadata": {
    "collapsed": true
   },
   "outputs": [],
   "source": [
    "eelData<-read.delim(\"E:/Personal/InterviewQuestion/Rscripts/LearningStatistics/eel.dat\", header = TRUE)"
   ]
  },
  {
   "cell_type": "code",
   "execution_count": 2,
   "metadata": {
    "collapsed": false
   },
   "outputs": [
    {
     "data": {
      "text/html": [
       "<table>\n",
       "<thead><tr><th></th><th scope=col>Cured</th><th scope=col>Intervention</th><th scope=col>Duration</th></tr></thead>\n",
       "<tbody>\n",
       "\t<tr><th scope=row>1</th><td>Not Cured   </td><td>No Treatment</td><td>7           </td></tr>\n",
       "\t<tr><th scope=row>2</th><td>Not Cured   </td><td>No Treatment</td><td>7           </td></tr>\n",
       "\t<tr><th scope=row>3</th><td>Not Cured   </td><td>No Treatment</td><td>6           </td></tr>\n",
       "\t<tr><th scope=row>4</th><td>Cured       </td><td>No Treatment</td><td>8           </td></tr>\n",
       "\t<tr><th scope=row>5</th><td>Cured       </td><td>Intervention</td><td>7           </td></tr>\n",
       "\t<tr><th scope=row>6</th><td>Cured       </td><td>No Treatment</td><td>6           </td></tr>\n",
       "</tbody>\n",
       "</table>\n"
      ],
      "text/latex": [
       "\\begin{tabular}{r|lll}\n",
       "  & Cured & Intervention & Duration\\\\\n",
       "\\hline\n",
       "\t1 & Not Cured    & No Treatment & 7           \\\\\n",
       "\t2 & Not Cured    & No Treatment & 7           \\\\\n",
       "\t3 & Not Cured    & No Treatment & 6           \\\\\n",
       "\t4 & Cured        & No Treatment & 8           \\\\\n",
       "\t5 & Cured        & Intervention & 7           \\\\\n",
       "\t6 & Cured        & No Treatment & 6           \\\\\n",
       "\\end{tabular}\n"
      ],
      "text/plain": [
       "      Cured Intervention Duration\n",
       "1 Not Cured No Treatment        7\n",
       "2 Not Cured No Treatment        7\n",
       "3 Not Cured No Treatment        6\n",
       "4     Cured No Treatment        8\n",
       "5     Cured Intervention        7\n",
       "6     Cured No Treatment        6"
      ]
     },
     "metadata": {},
     "output_type": "display_data"
    }
   ],
   "source": [
    "#look at first 6 cases of data\n",
    "head(eelData)"
   ]
  },
  {
   "cell_type": "code",
   "execution_count": 3,
   "metadata": {
    "collapsed": true
   },
   "outputs": [],
   "source": [
    "# specify the baseline category\n",
    "eelData$Cured<-relevel(eelData$Cured, \"Not Cured\")\n",
    "eelData$Intervention<-relevel(eelData$Intervention, \"No Treatment\")"
   ]
  },
  {
   "cell_type": "code",
   "execution_count": 4,
   "metadata": {
    "collapsed": true
   },
   "outputs": [],
   "source": [
    "#Alternatively Re-orders the levels of the factyor so that Not Cured and No Treatment are the baseline categories\n",
    "eelData$Cured<-factor(eelData$Cured, levels = c(\"Not Cured\", \"Cured\"))\n",
    "eelData$Intervention<-factor(eelData$Intervention, levels = c(\"No Treatment\", \"Intervention\"))"
   ]
  },
  {
   "cell_type": "code",
   "execution_count": 5,
   "metadata": {
    "collapsed": true
   },
   "outputs": [],
   "source": [
    "#Create the two hierarchical models:\n",
    "\n",
    "eelModel.1 <- glm(Cured ~ Intervention, data = eelData, family = binomial())\n",
    "eelModel.2 <- glm(Cured ~ Intervention + Duration, data = eelData, family = binomial())"
   ]
  },
  {
   "cell_type": "code",
   "execution_count": 6,
   "metadata": {
    "collapsed": false
   },
   "outputs": [
    {
     "data": {
      "text/plain": [
       "\n",
       "Call:\n",
       "glm(formula = Cured ~ Intervention, family = binomial(), data = eelData)\n",
       "\n",
       "Deviance Residuals: \n",
       "    Min       1Q   Median       3Q      Max  \n",
       "-1.5940  -1.0579   0.8118   0.8118   1.3018  \n",
       "\n",
       "Coefficients:\n",
       "                         Estimate Std. Error z value Pr(>|z|)   \n",
       "(Intercept)               -0.2877     0.2700  -1.065  0.28671   \n",
       "InterventionIntervention   1.2287     0.3998   3.074  0.00212 **\n",
       "---\n",
       "Signif. codes:  0 '***' 0.001 '**' 0.01 '*' 0.05 '.' 0.1 ' ' 1\n",
       "\n",
       "(Dispersion parameter for binomial family taken to be 1)\n",
       "\n",
       "    Null deviance: 154.08  on 112  degrees of freedom\n",
       "Residual deviance: 144.16  on 111  degrees of freedom\n",
       "AIC: 148.16\n",
       "\n",
       "Number of Fisher Scoring iterations: 4\n"
      ]
     },
     "metadata": {},
     "output_type": "display_data"
    },
    {
     "data": {
      "text/plain": [
       "\n",
       "Call:\n",
       "glm(formula = Cured ~ Intervention + Duration, family = binomial(), \n",
       "    data = eelData)\n",
       "\n",
       "Deviance Residuals: \n",
       "    Min       1Q   Median       3Q      Max  \n",
       "-1.6025  -1.0572   0.8107   0.8161   1.3095  \n",
       "\n",
       "Coefficients:\n",
       "                          Estimate Std. Error z value Pr(>|z|)   \n",
       "(Intercept)              -0.234660   1.220563  -0.192  0.84754   \n",
       "InterventionIntervention  1.233532   0.414565   2.975  0.00293 **\n",
       "Duration                 -0.007835   0.175913  -0.045  0.96447   \n",
       "---\n",
       "Signif. codes:  0 '***' 0.001 '**' 0.01 '*' 0.05 '.' 0.1 ' ' 1\n",
       "\n",
       "(Dispersion parameter for binomial family taken to be 1)\n",
       "\n",
       "    Null deviance: 154.08  on 112  degrees of freedom\n",
       "Residual deviance: 144.16  on 110  degrees of freedom\n",
       "AIC: 150.16\n",
       "\n",
       "Number of Fisher Scoring iterations: 4\n"
      ]
     },
     "metadata": {},
     "output_type": "display_data"
    }
   ],
   "source": [
    "summary(eelModel.1)\n",
    "summary(eelModel.2)"
   ]
  },
  {
   "cell_type": "code",
   "execution_count": 7,
   "metadata": {
    "collapsed": false
   },
   "outputs": [
    {
     "data": {
      "text/plain": [
       "\n",
       "Call:\n",
       "glm(formula = Cured ~ 1, family = binomial(), data = eelData)\n",
       "\n",
       "Deviance Residuals: \n",
       "   Min      1Q  Median      3Q     Max  \n",
       "-1.309  -1.309   1.052   1.052   1.052  \n",
       "\n",
       "Coefficients:\n",
       "            Estimate Std. Error z value Pr(>|z|)\n",
       "(Intercept)   0.3032     0.1903   1.593    0.111\n",
       "\n",
       "(Dispersion parameter for binomial family taken to be 1)\n",
       "\n",
       "    Null deviance: 154.08  on 112  degrees of freedom\n",
       "Residual deviance: 154.08  on 112  degrees of freedom\n",
       "AIC: 156.08\n",
       "\n",
       "Number of Fisher Scoring iterations: 4\n"
      ]
     },
     "metadata": {},
     "output_type": "display_data"
    }
   ],
   "source": [
    "#Just to prove what the null deviance is\n",
    "eelModel.0 <- glm(Cured ~ 1, data = eelData, family = binomial())\n",
    "summary(eelModel.0)"
   ]
  },
  {
   "cell_type": "markdown",
   "metadata": {},
   "source": [
    "* The improvements of the logistic regression over the baseline"
   ]
  },
  {
   "cell_type": "code",
   "execution_count": 8,
   "metadata": {
    "collapsed": false
   },
   "outputs": [
    {
     "data": {
      "text/html": [
       "9.92620121723331"
      ],
      "text/latex": [
       "9.92620121723331"
      ],
      "text/markdown": [
       "9.92620121723331"
      ],
      "text/plain": [
       "[1] 9.926201"
      ]
     },
     "metadata": {},
     "output_type": "display_data"
    },
    {
     "data": {
      "text/html": [
       "1"
      ],
      "text/latex": [
       "1"
      ],
      "text/markdown": [
       "1"
      ],
      "text/plain": [
       "[1] 1"
      ]
     },
     "metadata": {},
     "output_type": "display_data"
    },
    {
     "data": {
      "text/html": [
       "0.00162942474293104"
      ],
      "text/latex": [
       "0.00162942474293104"
      ],
      "text/markdown": [
       "0.00162942474293104"
      ],
      "text/plain": [
       "[1] 0.001629425"
      ]
     },
     "metadata": {},
     "output_type": "display_data"
    }
   ],
   "source": [
    "modelChi <- eelModel.1$null.deviance - eelModel.1$deviance\n",
    "chidf <- eelModel.1$df.null - eelModel.1$df.residual\n",
    "chisq.prob <- 1 - pchisq(modelChi, chidf)\n",
    "modelChi; chidf; chisq.prob"
   ]
  },
  {
   "cell_type": "code",
   "execution_count": 9,
   "metadata": {
    "collapsed": true
   },
   "outputs": [],
   "source": [
    "R2.hl<-modelChi/eelModel.1$null.deviance\n",
    "R.cs <- 1 - exp ((eelModel.1$deviance - eelModel.1$null.deviance)/113)\n",
    "R.n <- R.cs /( 1- ( exp (-(eelModel.1$null.deviance/ 113)))) "
   ]
  },
  {
   "cell_type": "code",
   "execution_count": 10,
   "metadata": {
    "collapsed": false
   },
   "outputs": [
    {
     "name": "stdout",
     "output_type": "stream",
     "text": [
      "Pseudo R^2 for logistic regression\n",
      "Hosmer and Lemeshow R^2   0.064 \n",
      "Cox and Snell R^2         0.084 \n",
      "Nagelkerke R^2            0.113 \n"
     ]
    }
   ],
   "source": [
    "###############################################\n",
    "# This section creates a function called      #\n",
    "# logisticPseudoR2s().  To use it             #\n",
    "# type logisticPseudoR2s(myLogisticModel)     #\n",
    "###############################################\n",
    " logisticPseudoR2s <- function(LogModel) {\n",
    "\tdev <- LogModel$deviance \n",
    "\tnullDev <- LogModel$null.deviance \n",
    "\tmodelN <-  length(LogModel$fitted.values)\n",
    "\tR.l <-  1 -  dev / nullDev\n",
    "\tR.cs <- 1- exp ( -(nullDev - dev) / modelN)\n",
    "\tR.n <- R.cs / ( 1 - ( exp (-(nullDev / modelN))))\n",
    "\tcat(\"Pseudo R^2 for logistic regression\\n\")\n",
    "\tcat(\"Hosmer and Lemeshow R^2  \", round(R.l, 3), \"\\n\")\n",
    "\tcat(\"Cox and Snell R^2        \", round(R.cs, 3), \"\\n\")\n",
    "\tcat(\"Nagelkerke R^2           \", round(R.n, 3),    \"\\n\")\n",
    "      }\n",
    "############End of function ######################\n",
    "\n",
    "logisticPseudoR2s(eelModel.1)"
   ]
  },
  {
   "cell_type": "code",
   "execution_count": 11,
   "metadata": {
    "collapsed": false
   },
   "outputs": [
    {
     "data": {
      "text/html": [
       "<dl class=dl-horizontal>\n",
       "\t<dt>(Intercept)</dt>\n",
       "\t\t<dd>0.750000000000001</dd>\n",
       "\t<dt>InterventionIntervention</dt>\n",
       "\t\t<dd>3.4166666666592</dd>\n",
       "</dl>\n"
      ],
      "text/latex": [
       "\\begin{description*}\n",
       "\\item[(Intercept)] 0.750000000000001\n",
       "\\item[InterventionIntervention] 3.4166666666592\n",
       "\\end{description*}\n"
      ],
      "text/markdown": [
       "(Intercept)\n",
       ":   0.750000000000001InterventionIntervention\n",
       ":   3.4166666666592\n",
       "\n"
      ],
      "text/plain": [
       "             (Intercept) InterventionIntervention \n",
       "                0.750000                 3.416667 "
      ]
     },
     "metadata": {},
     "output_type": "display_data"
    },
    {
     "name": "stderr",
     "output_type": "stream",
     "text": [
      "Waiting for profiling to be done...\n"
     ]
    },
    {
     "data": {
      "text/html": [
       "<table>\n",
       "<thead><tr><th></th><th scope=col>2.5 %</th><th scope=col>97.5 %</th></tr></thead>\n",
       "<tbody>\n",
       "\t<tr><th scope=row>(Intercept)</th><td>0.4374531</td><td>1.2686736</td></tr>\n",
       "\t<tr><th scope=row>InterventionIntervention</th><td>1.582013</td><td>7.625545</td></tr>\n",
       "</tbody>\n",
       "</table>\n"
      ],
      "text/latex": [
       "\\begin{tabular}{r|ll}\n",
       "  & 2.5 \\% & 97.5 \\%\\\\\n",
       "\\hline\n",
       "\t(Intercept) & 0.4374531 & 1.2686736\\\\\n",
       "\tInterventionIntervention & 1.582013 & 7.625545\\\\\n",
       "\\end{tabular}\n"
      ],
      "text/markdown": [
       "1. 0.437453053675042\n",
       "2. 1.58201270884639\n",
       "3. 1.26867360572313\n",
       "4. 7.62554526925998\n",
       "\n",
       "\n"
      ],
      "text/plain": [
       "                             2.5 %   97.5 %\n",
       "(Intercept)              0.4374531 1.268674\n",
       "InterventionIntervention 1.5820127 7.625545"
      ]
     },
     "metadata": {},
     "output_type": "display_data"
    }
   ],
   "source": [
    "#Compute odds ratio\n",
    "exp(eelModel.1$coefficients) \n",
    "exp(confint(eelModel.1))"
   ]
  },
  {
   "cell_type": "code",
   "execution_count": 12,
   "metadata": {
    "collapsed": false
   },
   "outputs": [
    {
     "data": {
      "text/html": [
       "0.00198352826538439"
      ],
      "text/latex": [
       "0.00198352826538439"
      ],
      "text/markdown": [
       "0.00198352826538439"
      ],
      "text/plain": [
       "[1] 0.001983528"
      ]
     },
     "metadata": {},
     "output_type": "display_data"
    },
    {
     "data": {
      "text/html": [
       "1"
      ],
      "text/latex": [
       "1"
      ],
      "text/markdown": [
       "1"
      ],
      "text/plain": [
       "[1] 1"
      ]
     },
     "metadata": {},
     "output_type": "display_data"
    },
    {
     "data": {
      "text/html": [
       "0.964476503595942"
      ],
      "text/latex": [
       "0.964476503595942"
      ],
      "text/markdown": [
       "0.964476503595942"
      ],
      "text/plain": [
       "[1] 0.9644765"
      ]
     },
     "metadata": {},
     "output_type": "display_data"
    },
    {
     "data": {
      "text/html": [
       "<table>\n",
       "<thead><tr><th></th><th scope=col>Resid. Df</th><th scope=col>Resid. Dev</th><th scope=col>Df</th><th scope=col>Deviance</th></tr></thead>\n",
       "<tbody>\n",
       "\t<tr><th scope=row>1</th><td>111.0000</td><td>144.1578</td><td>      NA</td><td>      NA</td></tr>\n",
       "\t<tr><th scope=row>2</th><td>1.100000e+02</td><td>1.441558e+02</td><td>1.000000e+00</td><td>1.983528e-03</td></tr>\n",
       "</tbody>\n",
       "</table>\n"
      ],
      "text/latex": [
       "\\begin{tabular}{r|llll}\n",
       "  & Resid. Df & Resid. Dev & Df & Deviance\\\\\n",
       "\\hline\n",
       "\t1 & 111.0000 & 144.1578 &       NA &       NA\\\\\n",
       "\t2 & 1.100000e+02 & 1.441558e+02 & 1.000000e+00 & 1.983528e-03\\\\\n",
       "\\end{tabular}\n"
      ],
      "text/plain": [
       "Analysis of Deviance Table\n",
       "\n",
       "Model 1: Cured ~ Intervention\n",
       "Model 2: Cured ~ Intervention + Duration\n",
       "  Resid. Df Resid. Dev Df  Deviance\n",
       "1       111     144.16             \n",
       "2       110     144.16  1 0.0019835"
      ]
     },
     "metadata": {},
     "output_type": "display_data"
    }
   ],
   "source": [
    "#compare model1 and model 2\n",
    "modelChi <- eelModel.1$deviance - eelModel.2$deviance\n",
    "chidf <- eelModel.1$df.residual - eelModel.2$df.residual\n",
    "chisq.prob <- 1 - pchisq(modelChi, chidf)\n",
    "modelChi; chidf; chisq.prob\n",
    "\n",
    "anova(eelModel.1, eelModel.2)"
   ]
  },
  {
   "cell_type": "code",
   "execution_count": null,
   "metadata": {
    "collapsed": true
   },
   "outputs": [],
   "source": [
    "#Diagnostics for model 1\n",
    "\n",
    "eelData$predicted.probabilities<-fitted(eelModel.1)\n",
    "eelData$standardized.residuals<-rstandard(eelModel.1)\n",
    "eelData$studentized.residuals<-rstudent(eelModel.1)\n",
    "eelData$dfbeta<-dfbeta(eelModel.1)\n",
    "eelData$dffit<-dffits(eelModel.1)\n",
    "eelData $leverage<-hatvalues(eelModel.1)\n",
    "\n",
    "head(eelData[, c(\"Cured\", \"Intervention\", \"Duration\", \"predicted.probabilities\")])\n",
    "eelData[, c(\"leverage\", \"studentized.residuals\", \"dfbeta\")]"
   ]
  },
  {
   "cell_type": "markdown",
   "metadata": {},
   "source": [
    "### Example"
   ]
  },
  {
   "cell_type": "code",
   "execution_count": null,
   "metadata": {
    "collapsed": true
   },
   "outputs": [],
   "source": [
    "<h3><font color = \"red\"> The dependent variable needs to be numeric"
   ]
  },
  {
   "cell_type": "code",
   "execution_count": 15,
   "metadata": {
    "collapsed": false
   },
   "outputs": [
    {
     "name": "stderr",
     "output_type": "stream",
     "text": [
      "\n",
      "Attaching package: 'dplyr'\n",
      "\n",
      "The following objects are masked from 'package:stats':\n",
      "\n",
      "    filter, lag\n",
      "\n",
      "The following objects are masked from 'package:base':\n",
      "\n",
      "    intersect, setdiff, setequal, union\n",
      "\n",
      "Loading required package: coefplot\n",
      "Loading required package: ggplot2\n",
      "\n",
      "Attaching package: 'GGally'\n",
      "\n",
      "The following object is masked from 'package:dplyr':\n",
      "\n",
      "    nasa\n",
      "\n",
      "Loading required package: Matrix\n",
      "Loading required package: foreach\n",
      "Loaded glmnet 2.0-5\n",
      "\n",
      "Loading required package: lattice\n"
     ]
    }
   ],
   "source": [
    "setwd(\"E:/Personal/InterviewQuestion/Rscripts/TakeHomeChallenge/Conversion\")\n",
    "library(dplyr)\n",
    "library(scales)\n",
    "library(ggthemes)\n",
    "require(coefplot)\n",
    "library(GGally)\n",
    "library(useful)\n",
    "library(glmnet)\n",
    "library(caret)\n",
    "conversionData = read.csv(\"conversion_data.csv\", header = TRUE, as.is = TRUE)"
   ]
  },
  {
   "cell_type": "markdown",
   "metadata": {},
   "source": [
    "## Construct train and test data"
   ]
  },
  {
   "cell_type": "code",
   "execution_count": 16,
   "metadata": {
    "collapsed": false
   },
   "outputs": [],
   "source": [
    "set.seed(19900830)\n",
    "percentofTraining = 0.85\n",
    "\n",
    "# Create the validation set and the training set\n",
    "sampling_vector = createDataPartition(conversionData$converted, p = percentofTraining, list = FALSE)\n",
    "# Get the label of the training set\n",
    "conversionData_train <- conversionData[sampling_vector,]\n",
    "conversionData_train_labels <- conversionData$converted[sampling_vector]\n",
    "# Get the label of the validation set\n",
    "conversionData_test_features <- conversionData[-sampling_vector,] %>% select(-converted)\n",
    "conversionData_test_labels <- conversionData$converted[-sampling_vector]\n",
    "conversionData[,c(1,4)] = sapply(conversionData[,c(1,4)], function(x)as.factor(x))"
   ]
  },
  {
   "cell_type": "code",
   "execution_count": 18,
   "metadata": {
    "collapsed": false
   },
   "outputs": [
    {
     "data": {
      "text/html": [
       "<table>\n",
       "<thead><tr><th></th><th scope=col>country</th><th scope=col>age</th><th scope=col>new_user</th><th scope=col>source</th><th scope=col>total_pages_visited</th><th scope=col>converted</th></tr></thead>\n",
       "<tbody>\n",
       "\t<tr><th scope=row>1</th><td>UK </td><td>25 </td><td>1  </td><td>Ads</td><td>1  </td><td>0  </td></tr>\n",
       "\t<tr><th scope=row>2</th><td>US </td><td>23 </td><td>1  </td><td>Seo</td><td>5  </td><td>0  </td></tr>\n",
       "\t<tr><th scope=row>3</th><td>US </td><td>28 </td><td>1  </td><td>Seo</td><td>4  </td><td>0  </td></tr>\n",
       "\t<tr><th scope=row>4</th><td>China</td><td>39   </td><td>1    </td><td>Seo  </td><td>5    </td><td>0    </td></tr>\n",
       "\t<tr><th scope=row>5</th><td>US </td><td>30 </td><td>1  </td><td>Seo</td><td>6  </td><td>0  </td></tr>\n",
       "\t<tr><th scope=row>6</th><td>US </td><td>31 </td><td>0  </td><td>Seo</td><td>1  </td><td>0  </td></tr>\n",
       "</tbody>\n",
       "</table>\n"
      ],
      "text/latex": [
       "\\begin{tabular}{r|llllll}\n",
       "  & country & age & new\\_user & source & total\\_pages\\_visited & converted\\\\\n",
       "\\hline\n",
       "\t1 & UK  & 25  & 1   & Ads & 1   & 0  \\\\\n",
       "\t2 & US  & 23  & 1   & Seo & 5   & 0  \\\\\n",
       "\t3 & US  & 28  & 1   & Seo & 4   & 0  \\\\\n",
       "\t4 & China & 39    & 1     & Seo   & 5     & 0    \\\\\n",
       "\t5 & US  & 30  & 1   & Seo & 6   & 0  \\\\\n",
       "\t6 & US  & 31  & 0   & Seo & 1   & 0  \\\\\n",
       "\\end{tabular}\n"
      ],
      "text/plain": [
       "  country age new_user source total_pages_visited converted\n",
       "1      UK  25        1    Ads                   1         0\n",
       "2      US  23        1    Seo                   5         0\n",
       "3      US  28        1    Seo                   4         0\n",
       "4   China  39        1    Seo                   5         0\n",
       "5      US  30        1    Seo                   6         0\n",
       "6      US  31        0    Seo                   1         0"
      ]
     },
     "metadata": {},
     "output_type": "display_data"
    }
   ],
   "source": [
    "head(conversionData)"
   ]
  },
  {
   "cell_type": "markdown",
   "metadata": {},
   "source": [
    "* The response variable should be numeric and please change all the characters to factors"
   ]
  },
  {
   "cell_type": "markdown",
   "metadata": {},
   "source": [
    "## Set up the model"
   ]
  },
  {
   "cell_type": "code",
   "execution_count": 19,
   "metadata": {
    "collapsed": false
   },
   "outputs": [],
   "source": [
    "conversionData_model <-  glm(formula = converted ~ ., family = binomial(\"logit\"), data = conversionData_train)"
   ]
  },
  {
   "cell_type": "markdown",
   "metadata": {},
   "source": [
    "* glm.control can specify the convergence tolerence meaning when it should mark as converge "
   ]
  },
  {
   "cell_type": "code",
   "execution_count": 9,
   "metadata": {
    "collapsed": false
   },
   "outputs": [
    {
     "data": {
      "text/plain": [
       "\n",
       "Call:\n",
       "glm(formula = converted ~ ., family = binomial(\"logit\"), data = conversionData_train)\n",
       "\n",
       "Deviance Residuals: \n",
       "    Min       1Q   Median       3Q      Max  \n",
       "-3.1446  -0.0627  -0.0240  -0.0097   4.4190  \n",
       "\n",
       "Coefficients:\n",
       "                      Estimate Std. Error z value Pr(>|z|)    \n",
       "(Intercept)         -10.299321   0.161237 -63.877  < 2e-16 ***\n",
       "countryGermany        3.752658   0.141346  26.549  < 2e-16 ***\n",
       "countryUK             3.554263   0.128282  27.707  < 2e-16 ***\n",
       "countryUS             3.195275   0.124337  25.698  < 2e-16 ***\n",
       "age                  -0.074473   0.002571 -28.971  < 2e-16 ***\n",
       "new_user             -1.721825   0.038527 -44.691  < 2e-16 ***\n",
       "sourceDirect         -0.196988   0.052712  -3.737 0.000186 ***\n",
       "sourceSeo            -0.039475   0.043136  -0.915 0.360121    \n",
       "total_pages_visited   0.759982   0.006746 112.653  < 2e-16 ***\n",
       "---\n",
       "Signif. codes:  0 '***' 0.001 '**' 0.01 '*' 0.05 '.' 0.1 ' ' 1\n",
       "\n",
       "(Dispersion parameter for binomial family taken to be 1)\n",
       "\n",
       "    Null deviance: 77010  on 268769  degrees of freedom\n",
       "Residual deviance: 21831  on 268761  degrees of freedom\n",
       "AIC: 21849\n",
       "\n",
       "Number of Fisher Scoring iterations: 10\n"
      ]
     },
     "metadata": {},
     "output_type": "display_data"
    }
   ],
   "source": [
    "summary(conversionData_model)"
   ]
  },
  {
   "cell_type": "markdown",
   "metadata": {},
   "source": [
    "* Sum of Deviance is like RSS. for each observation, d = -2*ylog(P)\n",
    "* Deviance residual is like residuals dr = d*sign(y-hat - P(y=1|x))\n",
    "* Null Deviance is similar to TSS by using the mean as the estimate for all the probability (the majority rule) \n",
    "* However we don't know whether our model is doing better than the null, we should use the Chi-squared test to see this. (deviance(baseline) - deviance(new) df = knew - kbaseline. Or we can use the difference in deviance to compare 2 models \n",
    "* Also the fisher score is typically in the range of 4 to 8 and is a convergence diagnostic. If the optimization procedure that R uses to train the logistic model has not converged, we expect to see a number that is high. If this happens, our model is suspect.\n",
    "* Look at the z-scores if it is higher, it means it is far away from 0 and thus more significant (normal distribution) \n",
    "* AIC = Deviance + 2k or difference in deviance to compare 2 models"
   ]
  },
  {
   "cell_type": "code",
   "execution_count": 10,
   "metadata": {
    "collapsed": true
   },
   "outputs": [],
   "source": [
    "log_likelihoods = function（y_labels, y_probs){\n",
    "    y_a = as.numeric(y_labels)\n",
    "    y_p = as.numeric(y_probs)\n",
    "    y_a * log(y_p) + (1 - y_a) * log(1 - y_p)\n",
    "}\n",
    "dataset_log_likelihoods = function(y_labels, y_probs){\n",
    "    sum(log_likelihoods(y_labels, y_probs))\n",
    "}\n",
    "deviance = function(y_labels, y_probs){\n",
    "    -2*log_likelihoods (y_labels, y_probs)\n",
    "}\n",
    "model_deviance = function(model, data, output_column){\n",
    "    y_labels = data[[output_column]]\n",
    "    y_probs = predict(model, newdata = data, type = \"response\")\n",
    "    dataset_deviance(y_labels, y_probs)\n",
    "}\n",
    "null_deviance =  function(data, output_column){\n",
    "    y_labels = data[[output_column]]\n",
    "    y_probs = mean( data[[output_column]])\n",
    "    dataset_deviance(y_labels, y_probs)\n",
    "}"
   ]
  },
  {
   "cell_type": "markdown",
   "metadata": {},
   "source": [
    "## Test Performance of the model"
   ]
  },
  {
   "cell_type": "code",
   "execution_count": 20,
   "metadata": {
    "collapsed": true
   },
   "outputs": [],
   "source": [
    "lr_predictions_prob = predict(conversionData_model, conversionData_test_features, type = \"response\") # should always use response (this is the probability estimation)\n",
    "#The default is on the scale of the linear predictors; \n",
    "# the alternative \"response\" is on the scale of the response variable. \n",
    "# Thus for a default binomial model the default predictions are of log-odds (probabilities on logit scale) and \n",
    "# type = \"response\" gives the predicted probabilities. \n",
    "# The \"terms\" option returns a matrix giving the fitted values of each term in the model formula on the linear predictor scale"
   ]
  },
  {
   "cell_type": "code",
   "execution_count": 22,
   "metadata": {
    "collapsed": false
   },
   "outputs": [
    {
     "data": {
      "text/html": [
       "0.986316677208518"
      ],
      "text/latex": [
       "0.986316677208518"
      ],
      "text/markdown": [
       "0.986316677208518"
      ],
      "text/plain": [
       "[1] 0.9863167"
      ]
     },
     "metadata": {},
     "output_type": "display_data"
    },
    {
     "data": {
      "text/plain": [
       "Confusion Matrix and Statistics\n",
       "\n",
       "          Reference\n",
       "Prediction     0     1\n",
       "         0 45794   483\n",
       "         1   166   987\n",
       "                                          \n",
       "               Accuracy : 0.9863          \n",
       "                 95% CI : (0.9852, 0.9873)\n",
       "    No Information Rate : 0.969           \n",
       "    P-Value [Acc > NIR] : < 2.2e-16       \n",
       "                                          \n",
       "                  Kappa : 0.7456          \n",
       " Mcnemar's Test P-Value : < 2.2e-16       \n",
       "                                          \n",
       "            Sensitivity : 0.9964          \n",
       "            Specificity : 0.6714          \n",
       "         Pos Pred Value : 0.9896          \n",
       "         Neg Pred Value : 0.8560          \n",
       "             Prevalence : 0.9690          \n",
       "         Detection Rate : 0.9655          \n",
       "   Detection Prevalence : 0.9757          \n",
       "      Balanced Accuracy : 0.8339          \n",
       "                                          \n",
       "       'Positive' Class : 0               \n",
       "                                          "
      ]
     },
     "metadata": {},
     "output_type": "display_data"
    }
   ],
   "source": [
    "test_class_predictions = as.numeric(lr_predictions_prob > 0.5) # give it a cutoff\n",
    "xtab <- table(test_class_predictions, conversionData_test_labels)\n",
    "mean(test_class_predictions == conversionData_test_labels) # Accuracy \n",
    "confusionMatrix(test_class_predictions, conversionData_test_labels)"
   ]
  },
  {
   "cell_type": "markdown",
   "metadata": {},
   "source": [
    "## Choose cutoff for the logistic regression to label 1 or 0"
   ]
  },
  {
   "cell_type": "markdown",
   "metadata": {},
   "source": [
    "#### Two ways to find the cut-off: \n",
    "* One is to use the precision and recall to see which cut-off will give the best performance \n",
    "* The other is to use the expectation of the profit to see whether we need to target it if our goal is the profit "
   ]
  },
  {
   "cell_type": "code",
   "execution_count": 23,
   "metadata": {
    "collapsed": false
   },
   "outputs": [
    {
     "name": "stderr",
     "output_type": "stream",
     "text": [
      "Loading required package: gplots\n",
      "\n",
      "Attaching package: 'gplots'\n",
      "\n",
      "The following object is masked from 'package:stats':\n",
      "\n",
      "    lowess\n",
      "\n"
     ]
    }
   ],
   "source": [
    "library(ROCR)"
   ]
  },
  {
   "cell_type": "code",
   "execution_count": 25,
   "metadata": {
    "collapsed": false
   },
   "outputs": [
    {
     "data": {
      "image/png": "[encoded data removed]",
      "image/svg+xml": [
       "<?xml version=\"1.0\" encoding=\"UTF-8\"?>\n",
       "<svg xmlns=\"http://www.w3.org/2000/svg\" xmlns:xlink=\"http://www.w3.org/1999/xlink\" width=\"504pt\" height=\"504pt\" viewBox=\"0 0 504 504\" version=\"1.1\">\n",
       "<defs>\n",
       "<g>\n",
       "<symbol overflow=\"visible\" id=\"glyph0-0\">\n",
       "<path style=\"stroke:none;\" d=\"M 0.984375 0 L 0.984375 -8.949219 L 4.949219 -8.949219 C 5.742188 -8.945313 6.347656 -8.867188 6.765625 -8.707031 C 7.179688 -8.542969 7.511719 -8.257813 7.761719 -7.855469 C 8.007813 -7.445313 8.132813 -6.996094 8.136719 -6.507813 C 8.132813 -5.871094 7.925781 -5.335938 7.519531 -4.902344 C 7.105469 -4.464844 6.472656 -4.1875 5.617188 -4.070313 C 5.925781 -3.917969 6.164063 -3.769531 6.328125 -3.625 C 6.671875 -3.304688 7 -2.90625 7.3125 -2.433594 L 8.867188 0 L 7.378906 0 L 6.195313 -1.863281 C 5.84375 -2.398438 5.558594 -2.808594 5.339844 -3.09375 C 5.113281 -3.378906 4.914063 -3.578125 4.738281 -3.691406 C 4.558594 -3.804688 4.378906 -3.882813 4.199219 -3.929688 C 4.0625 -3.957031 3.84375 -3.972656 3.539063 -3.972656 L 2.167969 -3.972656 L 2.167969 0 Z M 2.167969 -5 L 4.710938 -5 C 5.25 -4.996094 5.671875 -5.054688 5.980469 -5.167969 C 6.28125 -5.277344 6.511719 -5.453125 6.675781 -5.703125 C 6.832031 -5.945313 6.914063 -6.214844 6.914063 -6.507813 C 6.914063 -6.925781 6.757813 -7.273438 6.453125 -7.550781 C 6.140625 -7.820313 5.65625 -7.957031 5 -7.960938 L 2.167969 -7.960938 Z M 2.167969 -5 \"/>\n",
       "</symbol>\n",
       "<symbol overflow=\"visible\" id=\"glyph0-1\">\n",
       "<path style=\"stroke:none;\" d=\"M 5.261719 -2.085938 L 6.398438 -1.945313 C 6.21875 -1.28125 5.886719 -0.765625 5.402344 -0.402344 C 4.917969 -0.0351563 4.296875 0.144531 3.546875 0.148438 C 2.59375 0.144531 1.84375 -0.144531 1.289063 -0.726563 C 0.734375 -1.3125 0.457031 -2.132813 0.457031 -3.1875 C 0.457031 -4.273438 0.734375 -5.117188 1.296875 -5.722656 C 1.855469 -6.324219 2.585938 -6.625 3.484375 -6.628906 C 4.347656 -6.625 5.054688 -6.332031 5.609375 -5.742188 C 6.15625 -5.152344 6.433594 -4.320313 6.433594 -3.253906 C 6.433594 -3.183594 6.429688 -3.085938 6.425781 -2.960938 L 1.59375 -2.960938 C 1.632813 -2.242188 1.832031 -1.699219 2.195313 -1.324219 C 2.558594 -0.945313 3.011719 -0.753906 3.550781 -0.757813 C 3.953125 -0.753906 4.296875 -0.859375 4.582031 -1.074219 C 4.867188 -1.28125 5.09375 -1.621094 5.261719 -2.085938 Z M 1.652344 -3.863281 L 5.273438 -3.863281 C 5.222656 -4.402344 5.082031 -4.8125 4.859375 -5.089844 C 4.503906 -5.511719 4.050781 -5.722656 3.496094 -5.726563 C 2.992188 -5.722656 2.570313 -5.554688 2.226563 -5.21875 C 1.882813 -4.878906 1.691406 -4.425781 1.652344 -3.863281 Z M 1.652344 -3.863281 \"/>\n",
       "</symbol>\n",
       "<symbol overflow=\"visible\" id=\"glyph0-2\">\n",
       "<path style=\"stroke:none;\" d=\"M 5.054688 -2.375 L 6.132813 -2.234375 C 6.011719 -1.484375 5.710938 -0.902344 5.226563 -0.484375 C 4.742188 -0.0625 4.144531 0.144531 3.4375 0.148438 C 2.546875 0.144531 1.832031 -0.140625 1.296875 -0.722656 C 0.753906 -1.300781 0.484375 -2.132813 0.488281 -3.214844 C 0.484375 -3.914063 0.601563 -4.527344 0.835938 -5.050781 C 1.066406 -5.574219 1.417969 -5.96875 1.894531 -6.234375 C 2.363281 -6.496094 2.878906 -6.625 3.441406 -6.628906 C 4.144531 -6.625 4.722656 -6.449219 5.167969 -6.09375 C 5.613281 -5.734375 5.898438 -5.226563 6.03125 -4.578125 L 4.960938 -4.414063 C 4.855469 -4.84375 4.675781 -5.171875 4.421875 -5.394531 C 4.160156 -5.613281 3.847656 -5.722656 3.484375 -5.726563 C 2.929688 -5.722656 2.480469 -5.523438 2.136719 -5.128906 C 1.789063 -4.730469 1.617188 -4.105469 1.617188 -3.246094 C 1.617188 -2.375 1.78125 -1.742188 2.117188 -1.347656 C 2.445313 -0.953125 2.882813 -0.753906 3.425781 -0.757813 C 3.851563 -0.753906 4.210938 -0.886719 4.503906 -1.152344 C 4.789063 -1.414063 4.972656 -1.820313 5.054688 -2.375 Z M 5.054688 -2.375 \"/>\n",
       "</symbol>\n",
       "<symbol overflow=\"visible\" id=\"glyph0-3\">\n",
       "<path style=\"stroke:none;\" d=\"M 5.054688 -0.800781 C 4.644531 -0.453125 4.253906 -0.207031 3.878906 -0.0664063 C 3.5 0.078125 3.09375 0.144531 2.667969 0.148438 C 1.949219 0.144531 1.402344 -0.0273438 1.023438 -0.375 C 0.640625 -0.722656 0.449219 -1.167969 0.453125 -1.710938 C 0.449219 -2.023438 0.523438 -2.3125 0.667969 -2.578125 C 0.8125 -2.839844 1 -3.050781 1.234375 -3.210938 C 1.464844 -3.367188 1.730469 -3.484375 2.027344 -3.570313 C 2.242188 -3.625 2.566406 -3.679688 3.003906 -3.734375 C 3.886719 -3.835938 4.539063 -3.964844 4.960938 -4.113281 C 4.964844 -4.261719 4.96875 -4.355469 4.96875 -4.402344 C 4.96875 -4.84375 4.863281 -5.160156 4.65625 -5.347656 C 4.371094 -5.59375 3.953125 -5.71875 3.40625 -5.71875 C 2.882813 -5.71875 2.5 -5.625 2.257813 -5.445313 C 2.007813 -5.261719 1.828125 -4.941406 1.714844 -4.484375 L 0.640625 -4.632813 C 0.734375 -5.089844 0.894531 -5.460938 1.121094 -5.746094 C 1.339844 -6.027344 1.664063 -6.246094 2.089844 -6.398438 C 2.511719 -6.550781 3.003906 -6.625 3.5625 -6.628906 C 4.117188 -6.625 4.566406 -6.5625 4.914063 -6.433594 C 5.257813 -6.300781 5.511719 -6.136719 5.675781 -5.941406 C 5.835938 -5.742188 5.949219 -5.492188 6.019531 -5.195313 C 6.050781 -5.003906 6.070313 -4.664063 6.074219 -4.179688 L 6.074219 -2.714844 C 6.070313 -1.691406 6.09375 -1.046875 6.144531 -0.777344 C 6.1875 -0.503906 6.28125 -0.246094 6.421875 0 L 5.273438 0 C 5.15625 -0.226563 5.082031 -0.492188 5.054688 -0.800781 Z M 4.960938 -3.253906 C 4.558594 -3.085938 3.960938 -2.949219 3.167969 -2.839844 C 2.714844 -2.773438 2.394531 -2.699219 2.210938 -2.617188 C 2.019531 -2.535156 1.875 -2.417969 1.777344 -2.261719 C 1.671875 -2.105469 1.621094 -1.929688 1.625 -1.738281 C 1.621094 -1.445313 1.734375 -1.203125 1.957031 -1.007813 C 2.175781 -0.8125 2.5 -0.714844 2.929688 -0.714844 C 3.351563 -0.714844 3.726563 -0.804688 4.058594 -0.992188 C 4.386719 -1.171875 4.628906 -1.425781 4.785156 -1.75 C 4.898438 -1.996094 4.957031 -2.363281 4.960938 -2.851563 Z M 4.960938 -3.253906 \"/>\n",
       "</symbol>\n",
       "<symbol overflow=\"visible\" id=\"glyph0-4\">\n",
       "<path style=\"stroke:none;\" d=\"M 0.800781 0 L 0.800781 -8.949219 L 1.898438 -8.949219 L 1.898438 0 Z M 0.800781 0 \"/>\n",
       "</symbol>\n",
       "<symbol overflow=\"visible\" id=\"glyph0-5\">\n",
       "<path style=\"stroke:none;\" d=\"M 0.519531 -4.414063 C 0.515625 -5.46875 0.625 -6.320313 0.84375 -6.964844 C 1.0625 -7.609375 1.386719 -8.105469 1.816406 -8.457031 C 2.246094 -8.804688 2.785156 -8.980469 3.4375 -8.984375 C 3.914063 -8.980469 4.335938 -8.886719 4.699219 -8.695313 C 5.058594 -8.5 5.355469 -8.21875 5.59375 -7.859375 C 5.828125 -7.492188 6.015625 -7.050781 6.152344 -6.527344 C 6.285156 -6.003906 6.351563 -5.296875 6.355469 -4.414063 C 6.351563 -3.359375 6.242188 -2.511719 6.03125 -1.871094 C 5.8125 -1.222656 5.492188 -0.726563 5.0625 -0.375 C 4.632813 -0.0234375 4.089844 0.152344 3.4375 0.152344 C 2.570313 0.152344 1.890625 -0.15625 1.402344 -0.773438 C 0.808594 -1.515625 0.515625 -2.726563 0.519531 -4.414063 Z M 1.648438 -4.414063 C 1.644531 -2.941406 1.816406 -1.964844 2.164063 -1.480469 C 2.503906 -0.992188 2.929688 -0.75 3.4375 -0.75 C 3.9375 -0.75 4.359375 -0.992188 4.707031 -1.480469 C 5.050781 -1.96875 5.226563 -2.945313 5.226563 -4.414063 C 5.226563 -5.882813 5.050781 -6.863281 4.707031 -7.347656 C 4.359375 -7.832031 3.933594 -8.074219 3.425781 -8.074219 C 2.917969 -8.074219 2.515625 -7.859375 2.214844 -7.433594 C 1.835938 -6.886719 1.644531 -5.878906 1.648438 -4.414063 Z M 1.648438 -4.414063 \"/>\n",
       "</symbol>\n",
       "<symbol overflow=\"visible\" id=\"glyph0-6\">\n",
       "<path style=\"stroke:none;\" d=\"M 1.136719 0 L 1.136719 -1.25 L 2.386719 -1.25 L 2.386719 0 Z M 1.136719 0 \"/>\n",
       "</symbol>\n",
       "<symbol overflow=\"visible\" id=\"glyph0-7\">\n",
       "<path style=\"stroke:none;\" d=\"M 6.292969 -1.054688 L 6.292969 0 L 0.378906 0 C 0.367188 -0.265625 0.410156 -0.519531 0.507813 -0.761719 C 0.65625 -1.164063 0.898438 -1.558594 1.230469 -1.953125 C 1.558594 -2.339844 2.035156 -2.792969 2.667969 -3.308594 C 3.636719 -4.101563 4.292969 -4.734375 4.636719 -5.203125 C 4.976563 -5.667969 5.148438 -6.105469 5.152344 -6.523438 C 5.148438 -6.957031 4.992188 -7.324219 4.683594 -7.625 C 4.371094 -7.921875 3.96875 -8.074219 3.46875 -8.074219 C 2.9375 -8.074219 2.511719 -7.914063 2.195313 -7.597656 C 1.878906 -7.277344 1.71875 -6.839844 1.714844 -6.28125 L 0.585938 -6.398438 C 0.664063 -7.238281 0.953125 -7.878906 1.457031 -8.320313 C 1.960938 -8.761719 2.640625 -8.980469 3.492188 -8.984375 C 4.347656 -8.980469 5.023438 -8.742188 5.527344 -8.269531 C 6.027344 -7.789063 6.28125 -7.199219 6.28125 -6.5 C 6.28125 -6.140625 6.207031 -5.789063 6.058594 -5.445313 C 5.910156 -5.09375 5.664063 -4.730469 5.328125 -4.351563 C 4.984375 -3.964844 4.421875 -3.441406 3.636719 -2.777344 C 2.976563 -2.222656 2.554688 -1.84375 2.367188 -1.648438 C 2.179688 -1.449219 2.023438 -1.253906 1.90625 -1.054688 Z M 6.292969 -1.054688 \"/>\n",
       "</symbol>\n",
       "<symbol overflow=\"visible\" id=\"glyph0-8\">\n",
       "<path style=\"stroke:none;\" d=\"M 4.039063 0 L 4.039063 -2.140625 L 0.160156 -2.140625 L 0.160156 -3.148438 L 4.242188 -8.949219 L 5.140625 -8.949219 L 5.140625 -3.148438 L 6.347656 -3.148438 L 6.347656 -2.140625 L 5.140625 -2.140625 L 5.140625 0 Z M 4.039063 -3.148438 L 4.039063 -7.183594 L 1.238281 -3.148438 Z M 4.039063 -3.148438 \"/>\n",
       "</symbol>\n",
       "<symbol overflow=\"visible\" id=\"glyph0-9\">\n",
       "<path style=\"stroke:none;\" d=\"M 6.21875 -6.757813 L 5.125 -6.671875 C 5.027344 -7.097656 4.890625 -7.410156 4.710938 -7.609375 C 4.414063 -7.921875 4.046875 -8.078125 3.613281 -8.082031 C 3.261719 -8.078125 2.953125 -7.980469 2.691406 -7.789063 C 2.339844 -7.53125 2.066406 -7.164063 1.871094 -6.683594 C 1.667969 -6.195313 1.566406 -5.503906 1.5625 -4.613281 C 1.824219 -5.011719 2.148438 -5.3125 2.53125 -5.511719 C 2.914063 -5.703125 3.3125 -5.800781 3.734375 -5.804688 C 4.464844 -5.800781 5.089844 -5.53125 5.605469 -4.996094 C 6.117188 -4.453125 6.375 -3.757813 6.378906 -2.90625 C 6.375 -2.34375 6.253906 -1.820313 6.015625 -1.339844 C 5.769531 -0.855469 5.4375 -0.484375 5.015625 -0.230469 C 4.59375 0.0273438 4.113281 0.152344 3.578125 0.152344 C 2.660156 0.152344 1.914063 -0.183594 1.335938 -0.855469 C 0.757813 -1.527344 0.46875 -2.636719 0.46875 -4.1875 C 0.46875 -5.914063 0.789063 -7.171875 1.429688 -7.960938 C 1.984375 -8.640625 2.734375 -8.980469 3.679688 -8.984375 C 4.382813 -8.980469 4.957031 -8.785156 5.410156 -8.390625 C 5.855469 -7.996094 6.125 -7.449219 6.21875 -6.757813 Z M 1.734375 -2.898438 C 1.734375 -2.519531 1.8125 -2.15625 1.972656 -1.8125 C 2.132813 -1.460938 2.359375 -1.199219 2.648438 -1.019531 C 2.9375 -0.839844 3.238281 -0.75 3.558594 -0.75 C 4.019531 -0.75 4.417969 -0.9375 4.753906 -1.3125 C 5.082031 -1.6875 5.25 -2.195313 5.253906 -2.839844 C 5.25 -3.453125 5.085938 -3.941406 4.757813 -4.300781 C 4.429688 -4.65625 4.015625 -4.832031 3.515625 -4.835938 C 3.015625 -4.832031 2.59375 -4.65625 2.25 -4.300781 C 1.90625 -3.941406 1.734375 -3.472656 1.734375 -2.898438 Z M 1.734375 -2.898438 \"/>\n",
       "</symbol>\n",
       "<symbol overflow=\"visible\" id=\"glyph0-10\">\n",
       "<path style=\"stroke:none;\" d=\"M 2.210938 -4.851563 C 1.75 -5.015625 1.414063 -5.253906 1.195313 -5.566406 C 0.976563 -5.875 0.867188 -6.242188 0.867188 -6.675781 C 0.867188 -7.324219 1.097656 -7.871094 1.566406 -8.316406 C 2.03125 -8.757813 2.65625 -8.980469 3.4375 -8.984375 C 4.214844 -8.980469 4.84375 -8.753906 5.320313 -8.304688 C 5.796875 -7.847656 6.035156 -7.296875 6.035156 -6.648438 C 6.035156 -6.230469 5.925781 -5.867188 5.707031 -5.5625 C 5.488281 -5.25 5.15625 -5.015625 4.71875 -4.851563 C 5.265625 -4.671875 5.683594 -4.382813 5.972656 -3.984375 C 6.253906 -3.585938 6.398438 -3.109375 6.402344 -2.558594 C 6.398438 -1.789063 6.128906 -1.144531 5.589844 -0.628906 C 5.046875 -0.105469 4.332031 0.152344 3.453125 0.152344 C 2.566406 0.152344 1.855469 -0.105469 1.316406 -0.628906 C 0.773438 -1.148438 0.503906 -1.800781 0.507813 -2.585938 C 0.503906 -3.164063 0.652344 -3.652344 0.949219 -4.050781 C 1.242188 -4.441406 1.660156 -4.710938 2.210938 -4.851563 Z M 1.988281 -6.714844 C 1.984375 -6.289063 2.121094 -5.941406 2.398438 -5.675781 C 2.667969 -5.40625 3.023438 -5.273438 3.460938 -5.273438 C 3.878906 -5.273438 4.226563 -5.40625 4.5 -5.671875 C 4.769531 -5.9375 4.902344 -6.261719 4.90625 -6.652344 C 4.902344 -7.050781 4.765625 -7.390625 4.488281 -7.667969 C 4.207031 -7.941406 3.859375 -8.078125 3.449219 -8.082031 C 3.027344 -8.078125 2.679688 -7.945313 2.402344 -7.675781 C 2.125 -7.40625 1.984375 -7.085938 1.988281 -6.714844 Z M 1.636719 -2.582031 C 1.632813 -2.265625 1.707031 -1.960938 1.859375 -1.671875 C 2.003906 -1.375 2.226563 -1.148438 2.519531 -0.992188 C 2.8125 -0.828125 3.128906 -0.75 3.46875 -0.75 C 3.992188 -0.75 4.421875 -0.917969 4.765625 -1.257813 C 5.105469 -1.59375 5.277344 -2.023438 5.28125 -2.546875 C 5.277344 -3.074219 5.101563 -3.511719 4.75 -3.855469 C 4.394531 -4.199219 3.953125 -4.371094 3.429688 -4.375 C 2.910156 -4.371094 2.484375 -4.199219 2.144531 -3.863281 C 1.804688 -3.519531 1.632813 -3.09375 1.636719 -2.582031 Z M 1.636719 -2.582031 \"/>\n",
       "</symbol>\n",
       "<symbol overflow=\"visible\" id=\"glyph0-11\">\n",
       "<path style=\"stroke:none;\" d=\"M 4.65625 0 L 3.558594 0 L 3.558594 -7 C 3.289063 -6.746094 2.941406 -6.492188 2.515625 -6.242188 C 2.085938 -5.988281 1.703125 -5.800781 1.359375 -5.675781 L 1.359375 -6.738281 C 1.972656 -7.027344 2.507813 -7.375 2.972656 -7.789063 C 3.429688 -8.195313 3.757813 -8.59375 3.949219 -8.984375 L 4.65625 -8.984375 Z M 4.65625 0 \"/>\n",
       "</symbol>\n",
       "<symbol overflow=\"visible\" id=\"glyph1-0\">\n",
       "<path style=\"stroke:none;\" d=\"M 0 -0.964844 L -8.949219 -0.964844 L -8.949219 -4.339844 C -8.945313 -4.929688 -8.917969 -5.382813 -8.863281 -5.699219 C -8.789063 -6.136719 -8.648438 -6.503906 -8.445313 -6.804688 C -8.234375 -7.097656 -7.945313 -7.335938 -7.578125 -7.519531 C -7.203125 -7.699219 -6.796875 -7.792969 -6.359375 -7.792969 C -5.59375 -7.792969 -4.949219 -7.550781 -4.425781 -7.066406 C -3.894531 -6.582031 -3.632813 -5.707031 -3.636719 -4.445313 L -3.636719 -2.148438 L 0 -2.148438 Z M -4.695313 -2.148438 L -4.695313 -4.460938 C -4.691406 -5.222656 -4.835938 -5.765625 -5.121094 -6.089844 C -5.402344 -6.410156 -5.800781 -6.574219 -6.324219 -6.574219 C -6.691406 -6.574219 -7.011719 -6.476563 -7.28125 -6.289063 C -7.546875 -6.097656 -7.722656 -5.851563 -7.8125 -5.542969 C -7.859375 -5.339844 -7.886719 -4.96875 -7.890625 -4.4375 L -7.890625 -2.148438 Z M -4.695313 -2.148438 \"/>\n",
       "</symbol>\n",
       "<symbol overflow=\"visible\" id=\"glyph1-1\">\n",
       "<path style=\"stroke:none;\" d=\"M 0 -0.8125 L -6.480469 -0.8125 L -6.480469 -1.800781 L -5.5 -1.800781 C -5.957031 -2.050781 -6.257813 -2.285156 -6.40625 -2.5 C -6.550781 -2.710938 -6.625 -2.945313 -6.628906 -3.203125 C -6.625 -3.574219 -6.507813 -3.949219 -6.273438 -4.332031 L -5.253906 -3.957031 C -5.410156 -3.683594 -5.488281 -3.414063 -5.492188 -3.148438 C -5.488281 -2.90625 -5.417969 -2.691406 -5.273438 -2.5 C -5.128906 -2.308594 -4.929688 -2.171875 -4.675781 -2.09375 C -4.285156 -1.96875 -3.855469 -1.910156 -3.394531 -1.910156 L 0 -1.910156 Z M 0 -0.8125 \"/>\n",
       "</symbol>\n",
       "<symbol overflow=\"visible\" id=\"glyph1-2\">\n",
       "<path style=\"stroke:none;\" d=\"M -2.085938 -5.261719 L -1.945313 -6.398438 C -1.28125 -6.21875 -0.765625 -5.886719 -0.402344 -5.402344 C -0.0351563 -4.917969 0.144531 -4.296875 0.148438 -3.546875 C 0.144531 -2.59375 -0.144531 -1.84375 -0.726563 -1.289063 C -1.3125 -0.734375 -2.132813 -0.457031 -3.1875 -0.457031 C -4.273438 -0.457031 -5.117188 -0.734375 -5.722656 -1.296875 C -6.324219 -1.855469 -6.625 -2.585938 -6.628906 -3.484375 C -6.625 -4.347656 -6.332031 -5.054688 -5.742188 -5.609375 C -5.152344 -6.15625 -4.320313 -6.433594 -3.253906 -6.433594 C -3.183594 -6.433594 -3.085938 -6.429688 -2.960938 -6.425781 L -2.960938 -1.59375 C -2.242188 -1.632813 -1.699219 -1.832031 -1.324219 -2.195313 C -0.945313 -2.558594 -0.753906 -3.011719 -0.757813 -3.550781 C -0.753906 -3.953125 -0.859375 -4.296875 -1.074219 -4.582031 C -1.28125 -4.867188 -1.621094 -5.09375 -2.085938 -5.261719 Z M -3.863281 -1.652344 L -3.863281 -5.273438 C -4.402344 -5.222656 -4.8125 -5.082031 -5.089844 -4.859375 C -5.511719 -4.503906 -5.722656 -4.050781 -5.726563 -3.496094 C -5.722656 -2.992188 -5.554688 -2.570313 -5.21875 -2.226563 C -4.878906 -1.882813 -4.425781 -1.691406 -3.863281 -1.652344 Z M -3.863281 -1.652344 \"/>\n",
       "</symbol>\n",
       "<symbol overflow=\"visible\" id=\"glyph1-3\">\n",
       "<path style=\"stroke:none;\" d=\"M -2.375 -5.054688 L -2.234375 -6.132813 C -1.484375 -6.011719 -0.902344 -5.710938 -0.484375 -5.226563 C -0.0625 -4.742188 0.144531 -4.144531 0.148438 -3.4375 C 0.144531 -2.546875 -0.140625 -1.832031 -0.722656 -1.296875 C -1.300781 -0.753906 -2.132813 -0.484375 -3.214844 -0.488281 C -3.914063 -0.484375 -4.527344 -0.601563 -5.050781 -0.835938 C -5.574219 -1.066406 -5.96875 -1.417969 -6.234375 -1.894531 C -6.496094 -2.363281 -6.625 -2.878906 -6.628906 -3.441406 C -6.625 -4.144531 -6.449219 -4.722656 -6.09375 -5.167969 C -5.734375 -5.613281 -5.226563 -5.898438 -4.578125 -6.03125 L -4.414063 -4.960938 C -4.84375 -4.855469 -5.171875 -4.675781 -5.394531 -4.421875 C -5.613281 -4.160156 -5.722656 -3.847656 -5.726563 -3.484375 C -5.722656 -2.929688 -5.523438 -2.480469 -5.128906 -2.136719 C -4.730469 -1.789063 -4.105469 -1.617188 -3.246094 -1.617188 C -2.375 -1.617188 -1.742188 -1.78125 -1.347656 -2.117188 C -0.953125 -2.445313 -0.753906 -2.882813 -0.757813 -3.425781 C -0.753906 -3.851563 -0.886719 -4.210938 -1.152344 -4.503906 C -1.414063 -4.789063 -1.820313 -4.972656 -2.375 -5.054688 Z M -2.375 -5.054688 \"/>\n",
       "</symbol>\n",
       "<symbol overflow=\"visible\" id=\"glyph1-4\">\n",
       "<path style=\"stroke:none;\" d=\"M -7.683594 -0.832031 L -8.949219 -0.832031 L -8.949219 -1.929688 L -7.683594 -1.929688 Z M 0 -0.828125 L -6.480469 -0.832031 L -6.480469 -1.929688 L 0 -1.929688 Z M 0 -0.828125 \"/>\n",
       "</symbol>\n",
       "<symbol overflow=\"visible\" id=\"glyph1-5\">\n",
       "<path style=\"stroke:none;\" d=\"M -1.933594 -0.382813 L -2.105469 -1.472656 C -1.667969 -1.527344 -1.335938 -1.699219 -1.105469 -1.980469 C -0.871094 -2.257813 -0.753906 -2.644531 -0.757813 -3.148438 C -0.753906 -3.648438 -0.859375 -4.023438 -1.066406 -4.273438 C -1.269531 -4.515625 -1.507813 -4.640625 -1.789063 -4.640625 C -2.03125 -4.640625 -2.226563 -4.53125 -2.375 -4.316406 C -2.46875 -4.164063 -2.59375 -3.789063 -2.746094 -3.191406 C -2.945313 -2.382813 -3.121094 -1.824219 -3.273438 -1.515625 C -3.417969 -1.203125 -3.625 -0.96875 -3.890625 -0.808594 C -4.152344 -0.644531 -4.441406 -0.5625 -4.761719 -0.566406 C -5.046875 -0.5625 -5.3125 -0.628906 -5.5625 -0.765625 C -5.804688 -0.894531 -6.011719 -1.074219 -6.175781 -1.304688 C -6.300781 -1.472656 -6.40625 -1.707031 -6.496094 -2.003906 C -6.582031 -2.300781 -6.625 -2.617188 -6.628906 -2.953125 C -6.625 -3.460938 -6.550781 -3.90625 -6.40625 -4.292969 C -6.257813 -4.675781 -6.0625 -4.960938 -5.8125 -5.144531 C -5.5625 -5.328125 -5.226563 -5.453125 -4.808594 -5.523438 L -4.664063 -4.449219 C -4.996094 -4.394531 -5.253906 -4.253906 -5.445313 -4.023438 C -5.628906 -3.789063 -5.722656 -3.460938 -5.726563 -3.035156 C -5.722656 -2.527344 -5.640625 -2.164063 -5.476563 -1.953125 C -5.308594 -1.734375 -5.113281 -1.628906 -4.890625 -1.628906 C -4.746094 -1.628906 -4.617188 -1.671875 -4.503906 -1.765625 C -4.382813 -1.851563 -4.285156 -1.992188 -4.210938 -2.183594 C -4.167969 -2.292969 -4.074219 -2.617188 -3.929688 -3.15625 C -3.722656 -3.929688 -3.554688 -4.472656 -3.421875 -4.78125 C -3.289063 -5.085938 -3.09375 -5.324219 -2.84375 -5.503906 C -2.585938 -5.675781 -2.273438 -5.765625 -1.902344 -5.769531 C -1.535156 -5.765625 -1.191406 -5.65625 -0.867188 -5.445313 C -0.542969 -5.226563 -0.292969 -4.917969 -0.117188 -4.519531 C 0.0585938 -4.113281 0.144531 -3.660156 0.148438 -3.15625 C 0.144531 -2.308594 -0.0273438 -1.664063 -0.375 -1.226563 C -0.726563 -0.78125 -1.246094 -0.5 -1.933594 -0.382813 Z M -1.933594 -0.382813 \"/>\n",
       "</symbol>\n",
       "<symbol overflow=\"visible\" id=\"glyph1-6\">\n",
       "<path style=\"stroke:none;\" d=\"M -3.242188 -0.414063 C -4.4375 -0.410156 -5.328125 -0.746094 -5.90625 -1.417969 C -6.386719 -1.972656 -6.625 -2.648438 -6.628906 -3.453125 C -6.625 -4.34375 -6.332031 -5.074219 -5.75 -5.640625 C -5.164063 -6.203125 -4.359375 -6.484375 -3.332031 -6.488281 C -2.496094 -6.484375 -1.839844 -6.359375 -1.363281 -6.113281 C -0.882813 -5.859375 -0.511719 -5.496094 -0.25 -5.019531 C 0.015625 -4.539063 0.144531 -4.015625 0.148438 -3.453125 C 0.144531 -2.542969 -0.140625 -1.8125 -0.722656 -1.253906 C -1.300781 -0.691406 -2.140625 -0.410156 -3.242188 -0.414063 Z M -3.242188 -1.542969 C -2.40625 -1.539063 -1.785156 -1.722656 -1.375 -2.085938 C -0.960938 -2.445313 -0.753906 -2.898438 -0.757813 -3.453125 C -0.753906 -3.996094 -0.960938 -4.453125 -1.378906 -4.816406 C -1.789063 -5.175781 -2.421875 -5.355469 -3.277344 -5.359375 C -4.074219 -5.355469 -4.683594 -5.171875 -5.097656 -4.8125 C -5.511719 -4.445313 -5.71875 -3.992188 -5.71875 -3.453125 C -5.71875 -2.898438 -5.511719 -2.445313 -5.101563 -2.085938 C -4.6875 -1.722656 -4.066406 -1.539063 -3.242188 -1.542969 Z M -3.242188 -1.542969 \"/>\n",
       "</symbol>\n",
       "<symbol overflow=\"visible\" id=\"glyph1-7\">\n",
       "<path style=\"stroke:none;\" d=\"M 0 -0.824219 L -6.480469 -0.824219 L -6.480469 -1.8125 L -5.558594 -1.8125 C -6.269531 -2.285156 -6.625 -2.972656 -6.628906 -3.875 C -6.625 -4.261719 -6.554688 -4.621094 -6.417969 -4.953125 C -6.273438 -5.277344 -6.089844 -5.523438 -5.863281 -5.6875 C -5.632813 -5.847656 -5.363281 -5.960938 -5.054688 -6.03125 C -4.847656 -6.066406 -4.492188 -6.085938 -3.984375 -6.089844 L 0 -6.089844 L 0 -4.992188 L -3.941406 -4.992188 C -4.386719 -4.992188 -4.722656 -4.949219 -4.945313 -4.863281 C -5.167969 -4.777344 -5.34375 -4.625 -5.476563 -4.40625 C -5.605469 -4.1875 -5.671875 -3.933594 -5.675781 -3.644531 C -5.671875 -3.175781 -5.523438 -2.769531 -5.230469 -2.429688 C -4.929688 -2.089844 -4.367188 -1.921875 -3.539063 -1.921875 L 0 -1.921875 Z M 0 -0.824219 \"/>\n",
       "</symbol>\n",
       "<symbol overflow=\"visible\" id=\"glyph1-8\">\n",
       "<path style=\"stroke:none;\" d=\"M -4.414063 -0.519531 C -5.46875 -0.515625 -6.320313 -0.625 -6.964844 -0.84375 C -7.609375 -1.0625 -8.105469 -1.386719 -8.457031 -1.816406 C -8.804688 -2.246094 -8.980469 -2.785156 -8.984375 -3.4375 C -8.980469 -3.914063 -8.886719 -4.335938 -8.695313 -4.699219 C -8.5 -5.058594 -8.21875 -5.355469 -7.859375 -5.59375 C -7.492188 -5.828125 -7.050781 -6.015625 -6.527344 -6.152344 C -6.003906 -6.285156 -5.296875 -6.351563 -4.414063 -6.355469 C -3.359375 -6.351563 -2.511719 -6.242188 -1.871094 -6.03125 C -1.222656 -5.8125 -0.726563 -5.492188 -0.375 -5.0625 C -0.0234375 -4.632813 0.152344 -4.089844 0.152344 -3.4375 C 0.152344 -2.570313 -0.15625 -1.890625 -0.773438 -1.402344 C -1.515625 -0.808594 -2.726563 -0.515625 -4.414063 -0.519531 Z M -4.414063 -1.648438 C -2.941406 -1.644531 -1.964844 -1.816406 -1.480469 -2.164063 C -0.992188 -2.503906 -0.75 -2.929688 -0.75 -3.4375 C -0.75 -3.9375 -0.992188 -4.359375 -1.480469 -4.707031 C -1.96875 -5.050781 -2.945313 -5.226563 -4.414063 -5.226563 C -5.882813 -5.226563 -6.863281 -5.050781 -7.347656 -4.707031 C -7.832031 -4.359375 -8.074219 -3.933594 -8.074219 -3.425781 C -8.074219 -2.917969 -7.859375 -2.515625 -7.433594 -2.214844 C -6.886719 -1.835938 -5.878906 -1.644531 -4.414063 -1.648438 Z M -4.414063 -1.648438 \"/>\n",
       "</symbol>\n",
       "<symbol overflow=\"visible\" id=\"glyph1-9\">\n",
       "<path style=\"stroke:none;\" d=\"M 0 -1.136719 L -1.25 -1.136719 L -1.25 -2.386719 L 0 -2.386719 Z M 0 -1.136719 \"/>\n",
       "</symbol>\n",
       "<symbol overflow=\"visible\" id=\"glyph1-10\">\n",
       "<path style=\"stroke:none;\" d=\"M -1.054688 -6.292969 L 0 -6.292969 L 0 -0.378906 C -0.265625 -0.367188 -0.519531 -0.410156 -0.761719 -0.507813 C -1.164063 -0.65625 -1.558594 -0.898438 -1.953125 -1.230469 C -2.339844 -1.558594 -2.792969 -2.035156 -3.308594 -2.667969 C -4.101563 -3.636719 -4.734375 -4.292969 -5.203125 -4.636719 C -5.667969 -4.976563 -6.105469 -5.148438 -6.523438 -5.152344 C -6.957031 -5.148438 -7.324219 -4.992188 -7.625 -4.683594 C -7.921875 -4.371094 -8.074219 -3.96875 -8.074219 -3.46875 C -8.074219 -2.9375 -7.914063 -2.511719 -7.597656 -2.195313 C -7.277344 -1.878906 -6.839844 -1.71875 -6.28125 -1.714844 L -6.398438 -0.585938 C -7.238281 -0.664063 -7.878906 -0.953125 -8.320313 -1.457031 C -8.761719 -1.960938 -8.980469 -2.640625 -8.984375 -3.492188 C -8.980469 -4.347656 -8.742188 -5.023438 -8.269531 -5.527344 C -7.789063 -6.027344 -7.199219 -6.28125 -6.5 -6.28125 C -6.140625 -6.28125 -5.789063 -6.207031 -5.445313 -6.058594 C -5.09375 -5.910156 -4.730469 -5.664063 -4.351563 -5.328125 C -3.964844 -4.984375 -3.441406 -4.421875 -2.777344 -3.636719 C -2.222656 -2.976563 -1.84375 -2.554688 -1.648438 -2.367188 C -1.449219 -2.179688 -1.253906 -2.023438 -1.054688 -1.90625 Z M -1.054688 -6.292969 \"/>\n",
       "</symbol>\n",
       "<symbol overflow=\"visible\" id=\"glyph1-11\">\n",
       "<path style=\"stroke:none;\" d=\"M 0 -4.039063 L -2.140625 -4.039063 L -2.140625 -0.160156 L -3.148438 -0.160156 L -8.949219 -4.242188 L -8.949219 -5.140625 L -3.148438 -5.140625 L -3.148438 -6.347656 L -2.140625 -6.347656 L -2.140625 -5.140625 L 0 -5.140625 Z M -3.148438 -4.039063 L -7.183594 -4.039063 L -3.148438 -1.238281 Z M -3.148438 -4.039063 \"/>\n",
       "</symbol>\n",
       "<symbol overflow=\"visible\" id=\"glyph1-12\">\n",
       "<path style=\"stroke:none;\" d=\"M -6.757813 -6.21875 L -6.671875 -5.125 C -7.097656 -5.027344 -7.410156 -4.890625 -7.609375 -4.710938 C -7.921875 -4.414063 -8.078125 -4.046875 -8.082031 -3.613281 C -8.078125 -3.261719 -7.980469 -2.953125 -7.789063 -2.691406 C -7.53125 -2.339844 -7.164063 -2.066406 -6.683594 -1.871094 C -6.195313 -1.667969 -5.503906 -1.566406 -4.613281 -1.5625 C -5.011719 -1.824219 -5.3125 -2.148438 -5.511719 -2.53125 C -5.703125 -2.914063 -5.800781 -3.3125 -5.804688 -3.734375 C -5.800781 -4.464844 -5.53125 -5.089844 -4.996094 -5.605469 C -4.453125 -6.117188 -3.757813 -6.375 -2.90625 -6.378906 C -2.34375 -6.375 -1.820313 -6.253906 -1.339844 -6.015625 C -0.855469 -5.769531 -0.484375 -5.4375 -0.230469 -5.015625 C 0.0273438 -4.59375 0.152344 -4.113281 0.152344 -3.578125 C 0.152344 -2.660156 -0.183594 -1.914063 -0.855469 -1.335938 C -1.527344 -0.757813 -2.636719 -0.46875 -4.1875 -0.46875 C -5.914063 -0.46875 -7.171875 -0.789063 -7.960938 -1.429688 C -8.640625 -1.984375 -8.980469 -2.734375 -8.984375 -3.679688 C -8.980469 -4.382813 -8.785156 -4.957031 -8.390625 -5.410156 C -7.996094 -5.855469 -7.449219 -6.125 -6.757813 -6.21875 Z M -2.898438 -1.734375 C -2.519531 -1.734375 -2.15625 -1.8125 -1.8125 -1.972656 C -1.460938 -2.132813 -1.199219 -2.359375 -1.019531 -2.648438 C -0.839844 -2.9375 -0.75 -3.238281 -0.75 -3.558594 C -0.75 -4.019531 -0.9375 -4.417969 -1.3125 -4.753906 C -1.6875 -5.082031 -2.195313 -5.25 -2.839844 -5.253906 C -3.453125 -5.25 -3.941406 -5.085938 -4.300781 -4.757813 C -4.65625 -4.429688 -4.832031 -4.015625 -4.835938 -3.515625 C -4.832031 -3.015625 -4.65625 -2.59375 -4.300781 -2.25 C -3.941406 -1.90625 -3.472656 -1.734375 -2.898438 -1.734375 Z M -2.898438 -1.734375 \"/>\n",
       "</symbol>\n",
       "<symbol overflow=\"visible\" id=\"glyph1-13\">\n",
       "<path style=\"stroke:none;\" d=\"M -4.851563 -2.210938 C -5.015625 -1.75 -5.253906 -1.414063 -5.566406 -1.195313 C -5.875 -0.976563 -6.242188 -0.867188 -6.675781 -0.867188 C -7.324219 -0.867188 -7.871094 -1.097656 -8.316406 -1.566406 C -8.757813 -2.03125 -8.980469 -2.65625 -8.984375 -3.4375 C -8.980469 -4.214844 -8.753906 -4.84375 -8.304688 -5.320313 C -7.847656 -5.796875 -7.296875 -6.035156 -6.648438 -6.035156 C -6.230469 -6.035156 -5.867188 -5.925781 -5.5625 -5.707031 C -5.25 -5.488281 -5.015625 -5.15625 -4.851563 -4.71875 C -4.671875 -5.265625 -4.382813 -5.683594 -3.984375 -5.972656 C -3.585938 -6.253906 -3.109375 -6.398438 -2.558594 -6.402344 C -1.789063 -6.398438 -1.144531 -6.128906 -0.628906 -5.589844 C -0.105469 -5.046875 0.152344 -4.332031 0.152344 -3.453125 C 0.152344 -2.566406 -0.105469 -1.855469 -0.628906 -1.316406 C -1.148438 -0.773438 -1.800781 -0.503906 -2.585938 -0.507813 C -3.164063 -0.503906 -3.652344 -0.652344 -4.050781 -0.949219 C -4.441406 -1.242188 -4.710938 -1.660156 -4.851563 -2.210938 Z M -6.714844 -1.988281 C -6.289063 -1.984375 -5.941406 -2.121094 -5.675781 -2.398438 C -5.40625 -2.667969 -5.273438 -3.023438 -5.273438 -3.460938 C -5.273438 -3.878906 -5.40625 -4.226563 -5.671875 -4.5 C -5.9375 -4.769531 -6.261719 -4.902344 -6.652344 -4.90625 C -7.050781 -4.902344 -7.390625 -4.765625 -7.667969 -4.488281 C -7.941406 -4.207031 -8.078125 -3.859375 -8.082031 -3.449219 C -8.078125 -3.027344 -7.945313 -2.679688 -7.675781 -2.402344 C -7.40625 -2.125 -7.085938 -1.984375 -6.714844 -1.988281 Z M -2.582031 -1.636719 C -2.265625 -1.632813 -1.960938 -1.707031 -1.671875 -1.859375 C -1.375 -2.003906 -1.148438 -2.226563 -0.992188 -2.519531 C -0.828125 -2.8125 -0.75 -3.128906 -0.75 -3.46875 C -0.75 -3.992188 -0.917969 -4.421875 -1.257813 -4.765625 C -1.59375 -5.105469 -2.023438 -5.277344 -2.546875 -5.28125 C -3.074219 -5.277344 -3.511719 -5.101563 -3.855469 -4.75 C -4.199219 -4.394531 -4.371094 -3.953125 -4.375 -3.429688 C -4.371094 -2.910156 -4.199219 -2.484375 -3.863281 -2.144531 C -3.519531 -1.804688 -3.09375 -1.632813 -2.582031 -1.636719 Z M -2.582031 -1.636719 \"/>\n",
       "</symbol>\n",
       "<symbol overflow=\"visible\" id=\"glyph1-14\">\n",
       "<path style=\"stroke:none;\" d=\"M 0 -4.65625 L 0 -3.558594 L -7 -3.558594 C -6.746094 -3.289063 -6.492188 -2.941406 -6.242188 -2.515625 C -5.988281 -2.085938 -5.800781 -1.703125 -5.675781 -1.359375 L -6.738281 -1.359375 C -7.027344 -1.972656 -7.375 -2.507813 -7.789063 -2.972656 C -8.195313 -3.429688 -8.59375 -3.757813 -8.984375 -3.949219 L -8.984375 -4.65625 Z M 0 -4.65625 \"/>\n",
       "</symbol>\n",
       "</g>\n",
       "<clipPath id=\"clip1\">\n",
       "  <path d=\"M 59.039063 59.039063 L 474.757813 59.039063 L 474.757813 431.558594 L 59.039063 431.558594 Z M 59.039063 59.039063 \"/>\n",
       "</clipPath>\n",
       "</defs>\n",
       "<g id=\"surface89\">\n",
       "<rect x=\"0\" y=\"0\" width=\"504\" height=\"504\" style=\"fill:rgb(100%,100%,100%);fill-opacity:1;stroke:none;\"/>\n",
       "<g style=\"fill:rgb(0%,0%,0%);fill-opacity:1;\">\n",
       "  <use xlink:href=\"#glyph0-0\" x=\"249.03125\" y=\"486.71875\"/>\n",
       "  <use xlink:href=\"#glyph0-1\" x=\"258.05835\" y=\"486.71875\"/>\n",
       "  <use xlink:href=\"#glyph0-2\" x=\"265.010254\" y=\"486.71875\"/>\n",
       "  <use xlink:href=\"#glyph0-3\" x=\"271.260254\" y=\"486.71875\"/>\n",
       "  <use xlink:href=\"#glyph0-4\" x=\"278.212158\" y=\"486.71875\"/>\n",
       "  <use xlink:href=\"#glyph0-4\" x=\"280.989258\" y=\"486.71875\"/>\n",
       "</g>\n",
       "<g style=\"fill:rgb(0%,0%,0%);fill-opacity:1;\">\n",
       "  <use xlink:href=\"#glyph1-0\" x=\"14.398438\" y=\"270.503906\"/>\n",
       "  <use xlink:href=\"#glyph1-1\" x=\"14.398438\" y=\"262.166504\"/>\n",
       "  <use xlink:href=\"#glyph1-2\" x=\"14.398438\" y=\"258.003906\"/>\n",
       "  <use xlink:href=\"#glyph1-3\" x=\"14.398438\" y=\"251.052002\"/>\n",
       "  <use xlink:href=\"#glyph1-4\" x=\"14.398438\" y=\"244.802002\"/>\n",
       "  <use xlink:href=\"#glyph1-5\" x=\"14.398438\" y=\"242.024902\"/>\n",
       "  <use xlink:href=\"#glyph1-4\" x=\"14.398438\" y=\"235.774902\"/>\n",
       "  <use xlink:href=\"#glyph1-6\" x=\"14.398438\" y=\"232.997803\"/>\n",
       "  <use xlink:href=\"#glyph1-7\" x=\"14.398438\" y=\"226.045898\"/>\n",
       "</g>\n",
       "<path style=\"fill:none;stroke-width:1;stroke-linecap:round;stroke-linejoin:round;stroke:rgb(0%,0%,0%);stroke-opacity:1;stroke-miterlimit:10;\" d=\"M 74.136719 430.558594 L 458.398438 430.558594 \"/>\n",
       "<path style=\"fill:none;stroke-width:1;stroke-linecap:round;stroke-linejoin:round;stroke:rgb(0%,0%,0%);stroke-opacity:1;stroke-miterlimit:10;\" d=\"M 74.136719 430.558594 L 74.136719 437.761719 \"/>\n",
       "<path style=\"fill:none;stroke-width:1;stroke-linecap:round;stroke-linejoin:round;stroke:rgb(0%,0%,0%);stroke-opacity:1;stroke-miterlimit:10;\" d=\"M 150.992188 430.558594 L 150.992188 437.761719 \"/>\n",
       "<path style=\"fill:none;stroke-width:1;stroke-linecap:round;stroke-linejoin:round;stroke:rgb(0%,0%,0%);stroke-opacity:1;stroke-miterlimit:10;\" d=\"M 227.84375 430.558594 L 227.84375 437.761719 \"/>\n",
       "<path style=\"fill:none;stroke-width:1;stroke-linecap:round;stroke-linejoin:round;stroke:rgb(0%,0%,0%);stroke-opacity:1;stroke-miterlimit:10;\" d=\"M 304.695313 430.558594 L 304.695313 437.761719 \"/>\n",
       "<path style=\"fill:none;stroke-width:1;stroke-linecap:round;stroke-linejoin:round;stroke:rgb(0%,0%,0%);stroke-opacity:1;stroke-miterlimit:10;\" d=\"M 381.546875 430.558594 L 381.546875 437.761719 \"/>\n",
       "<path style=\"fill:none;stroke-width:1;stroke-linecap:round;stroke-linejoin:round;stroke:rgb(0%,0%,0%);stroke-opacity:1;stroke-miterlimit:10;\" d=\"M 458.398438 430.558594 L 458.398438 437.761719 \"/>\n",
       "<g style=\"fill:rgb(0%,0%,0%);fill-opacity:1;\">\n",
       "  <use xlink:href=\"#glyph0-5\" x=\"65.449219\" y=\"457.921875\"/>\n",
       "  <use xlink:href=\"#glyph0-6\" x=\"72.401123\" y=\"457.921875\"/>\n",
       "  <use xlink:href=\"#glyph0-5\" x=\"75.874023\" y=\"457.921875\"/>\n",
       "</g>\n",
       "<g style=\"fill:rgb(0%,0%,0%);fill-opacity:1;\">\n",
       "  <use xlink:href=\"#glyph0-5\" x=\"142.304688\" y=\"457.921875\"/>\n",
       "  <use xlink:href=\"#glyph0-6\" x=\"149.256592\" y=\"457.921875\"/>\n",
       "  <use xlink:href=\"#glyph0-7\" x=\"152.729492\" y=\"457.921875\"/>\n",
       "</g>\n",
       "<g style=\"fill:rgb(0%,0%,0%);fill-opacity:1;\">\n",
       "  <use xlink:href=\"#glyph0-5\" x=\"219.15625\" y=\"457.921875\"/>\n",
       "  <use xlink:href=\"#glyph0-6\" x=\"226.108154\" y=\"457.921875\"/>\n",
       "  <use xlink:href=\"#glyph0-8\" x=\"229.581055\" y=\"457.921875\"/>\n",
       "</g>\n",
       "<g style=\"fill:rgb(0%,0%,0%);fill-opacity:1;\">\n",
       "  <use xlink:href=\"#glyph0-5\" x=\"296.007813\" y=\"457.921875\"/>\n",
       "  <use xlink:href=\"#glyph0-6\" x=\"302.959717\" y=\"457.921875\"/>\n",
       "  <use xlink:href=\"#glyph0-9\" x=\"306.432617\" y=\"457.921875\"/>\n",
       "</g>\n",
       "<g style=\"fill:rgb(0%,0%,0%);fill-opacity:1;\">\n",
       "  <use xlink:href=\"#glyph0-5\" x=\"372.859375\" y=\"457.921875\"/>\n",
       "  <use xlink:href=\"#glyph0-6\" x=\"379.811279\" y=\"457.921875\"/>\n",
       "  <use xlink:href=\"#glyph0-10\" x=\"383.28418\" y=\"457.921875\"/>\n",
       "</g>\n",
       "<g style=\"fill:rgb(0%,0%,0%);fill-opacity:1;\">\n",
       "  <use xlink:href=\"#glyph0-11\" x=\"449.710938\" y=\"457.921875\"/>\n",
       "  <use xlink:href=\"#glyph0-6\" x=\"456.662842\" y=\"457.921875\"/>\n",
       "  <use xlink:href=\"#glyph0-5\" x=\"460.135742\" y=\"457.921875\"/>\n",
       "</g>\n",
       "<path style=\"fill:none;stroke-width:1;stroke-linecap:round;stroke-linejoin:round;stroke:rgb(0%,0%,0%);stroke-opacity:1;stroke-miterlimit:10;\" d=\"M 59.039063 427.800781 L 59.039063 72.800781 \"/>\n",
       "<path style=\"fill:none;stroke-width:1;stroke-linecap:round;stroke-linejoin:round;stroke:rgb(0%,0%,0%);stroke-opacity:1;stroke-miterlimit:10;\" d=\"M 59.039063 427.800781 L 51.839844 427.800781 \"/>\n",
       "<path style=\"fill:none;stroke-width:1;stroke-linecap:round;stroke-linejoin:round;stroke:rgb(0%,0%,0%);stroke-opacity:1;stroke-miterlimit:10;\" d=\"M 59.039063 356.800781 L 51.839844 356.800781 \"/>\n",
       "<path style=\"fill:none;stroke-width:1;stroke-linecap:round;stroke-linejoin:round;stroke:rgb(0%,0%,0%);stroke-opacity:1;stroke-miterlimit:10;\" d=\"M 59.039063 285.800781 L 51.839844 285.800781 \"/>\n",
       "<path style=\"fill:none;stroke-width:1;stroke-linecap:round;stroke-linejoin:round;stroke:rgb(0%,0%,0%);stroke-opacity:1;stroke-miterlimit:10;\" d=\"M 59.039063 214.800781 L 51.839844 214.800781 \"/>\n",
       "<path style=\"fill:none;stroke-width:1;stroke-linecap:round;stroke-linejoin:round;stroke:rgb(0%,0%,0%);stroke-opacity:1;stroke-miterlimit:10;\" d=\"M 59.039063 143.800781 L 51.839844 143.800781 \"/>\n",
       "<path style=\"fill:none;stroke-width:1;stroke-linecap:round;stroke-linejoin:round;stroke:rgb(0%,0%,0%);stroke-opacity:1;stroke-miterlimit:10;\" d=\"M 59.039063 72.800781 L 51.839844 72.800781 \"/>\n",
       "<g style=\"fill:rgb(0%,0%,0%);fill-opacity:1;\">\n",
       "  <use xlink:href=\"#glyph1-8\" x=\"43.199219\" y=\"436.488281\"/>\n",
       "  <use xlink:href=\"#glyph1-9\" x=\"43.199219\" y=\"429.536377\"/>\n",
       "  <use xlink:href=\"#glyph1-8\" x=\"43.199219\" y=\"426.063477\"/>\n",
       "</g>\n",
       "<g style=\"fill:rgb(0%,0%,0%);fill-opacity:1;\">\n",
       "  <use xlink:href=\"#glyph1-8\" x=\"43.199219\" y=\"365.488281\"/>\n",
       "  <use xlink:href=\"#glyph1-9\" x=\"43.199219\" y=\"358.536377\"/>\n",
       "  <use xlink:href=\"#glyph1-10\" x=\"43.199219\" y=\"355.063477\"/>\n",
       "</g>\n",
       "<g style=\"fill:rgb(0%,0%,0%);fill-opacity:1;\">\n",
       "  <use xlink:href=\"#glyph1-8\" x=\"43.199219\" y=\"294.488281\"/>\n",
       "  <use xlink:href=\"#glyph1-9\" x=\"43.199219\" y=\"287.536377\"/>\n",
       "  <use xlink:href=\"#glyph1-11\" x=\"43.199219\" y=\"284.063477\"/>\n",
       "</g>\n",
       "<g style=\"fill:rgb(0%,0%,0%);fill-opacity:1;\">\n",
       "  <use xlink:href=\"#glyph1-8\" x=\"43.199219\" y=\"223.488281\"/>\n",
       "  <use xlink:href=\"#glyph1-9\" x=\"43.199219\" y=\"216.536377\"/>\n",
       "  <use xlink:href=\"#glyph1-12\" x=\"43.199219\" y=\"213.063477\"/>\n",
       "</g>\n",
       "<g style=\"fill:rgb(0%,0%,0%);fill-opacity:1;\">\n",
       "  <use xlink:href=\"#glyph1-8\" x=\"43.199219\" y=\"152.488281\"/>\n",
       "  <use xlink:href=\"#glyph1-9\" x=\"43.199219\" y=\"145.536377\"/>\n",
       "  <use xlink:href=\"#glyph1-13\" x=\"43.199219\" y=\"142.063477\"/>\n",
       "</g>\n",
       "<g style=\"fill:rgb(0%,0%,0%);fill-opacity:1;\">\n",
       "  <use xlink:href=\"#glyph1-14\" x=\"43.199219\" y=\"81.488281\"/>\n",
       "  <use xlink:href=\"#glyph1-9\" x=\"43.199219\" y=\"74.536377\"/>\n",
       "  <use xlink:href=\"#glyph1-8\" x=\"43.199219\" y=\"71.063477\"/>\n",
       "</g>\n",
       "<path style=\"fill:none;stroke-width:1;stroke-linecap:round;stroke-linejoin:round;stroke:rgb(0%,0%,0%);stroke-opacity:1;stroke-miterlimit:10;\" d=\"M 59.039063 430.558594 L 473.761719 430.558594 L 473.761719 59.039063 L 59.039063 59.039063 L 59.039063 430.558594 \"/>\n",
       "<g clip-path=\"url(#clip1)\" clip-rule=\"nonzero\">\n",
       "<path style=\"fill:none;stroke-width:1;stroke-linecap:round;stroke-linejoin:round;stroke:rgb(0%,0%,0%);stroke-opacity:1;stroke-miterlimit:10;\" d=\"M 74.398438 72.800781 L 144.71875 72.800781 L 144.71875 74.109375 L 144.980469 74.105469 L 145.238281 74.101563 L 145.5 74.09375 L 146.808594 74.074219 L 147.59375 74.058594 L 148.117188 74.050781 L 148.375 74.046875 L 148.636719 74.042969 L 148.898438 74.035156 L 151.515625 73.996094 L 151.773438 73.992188 L 154.652344 73.949219 L 154.910156 73.945313 L 156.742188 73.917969 L 157.003906 73.917969 L 157.789063 73.90625 L 158.308594 73.898438 L 158.832031 73.890625 L 159.09375 73.890625 L 160.140625 73.875 L 160.664063 73.871094 L 161.1875 73.863281 L 161.707031 73.855469 L 161.96875 73.851563 L 162.230469 73.851563 L 162.492188 73.847656 L 163.539063 73.835938 L 164.324219 73.824219 L 164.582031 73.824219 L 165.367188 73.8125 L 165.628906 73.8125 L 167.199219 73.792969 L 167.460938 73.792969 L 167.71875 73.789063 L 167.980469 73.785156 L 168.242188 73.785156 L 169.027344 73.773438 L 169.550781 73.769531 L 169.8125 73.765625 L 170.597656 73.757813 L 171.117188 73.753906 L 171.378906 73.75 L 171.640625 73.75 L 171.902344 73.746094 L 172.164063 73.746094 L 172.949219 73.738281 L 173.472656 73.730469 L 173.734375 74.652344 L 173.996094 74.648438 L 174.253906 74.644531 L 175.5625 74.621094 L 175.824219 74.617188 L 176.347656 74.605469 L 177.132813 74.59375 L 177.390625 74.589844 L 177.652344 74.582031 L 179.222656 74.558594 L 180.007813 74.542969 L 180.53125 74.535156 L 181.050781 74.527344 L 183.667969 74.488281 L 184.1875 75.3125 L 184.449219 75.304688 L 184.710938 75.300781 L 185.234375 75.289063 L 186.019531 75.269531 L 186.28125 75.265625 L 186.542969 75.257813 L 186.804688 75.253906 L 187.0625 75.25 L 187.0625 76.058594 L 188.894531 76.003906 L 189.15625 76 L 190.203125 75.96875 L 190.460938 75.960938 L 190.984375 75.949219 L 191.507813 75.933594 L 191.769531 75.929688 L 192.03125 76.691406 L 193.078125 76.660156 L 193.339844 76.648438 L 193.597656 76.640625 L 195.429688 76.585938 L 195.429688 77.332031 L 195.691406 77.324219 L 196.214844 77.304688 L 196.734375 77.285156 L 196.734375 78.019531 L 196.996094 78.007813 L 197.257813 78 L 198.042969 77.964844 L 198.304688 77.957031 L 199.089844 77.921875 L 199.351563 77.914063 L 199.875 77.890625 L 200.394531 77.871094 L 200.65625 77.859375 L 200.917969 77.851563 L 200.917969 78.5625 L 203.011719 78.46875 L 203.269531 78.457031 L 204.054688 78.421875 L 205.101563 78.378906 L 205.363281 78.367188 L 205.625 78.359375 L 205.886719 78.347656 L 206.929688 78.304688 L 207.191406 78.292969 L 207.976563 78.261719 L 208.5 78.242188 L 209.023438 78.21875 L 209.546875 78.199219 L 210.066406 78.179688 L 210.328125 78.167969 L 210.589844 78.160156 L 211.113281 78.136719 L 211.375 78.128906 L 211.636719 78.117188 L 212.160156 78.097656 L 212.421875 78.089844 L 212.683594 78.078125 L 213.726563 78.039063 L 213.726563 78.683594 L 213.988281 78.671875 L 214.25 78.664063 L 215.035156 78.628906 L 215.296875 78.621094 L 215.558594 78.609375 L 215.558594 79.242188 L 215.820313 79.230469 L 216.078125 79.21875 L 216.339844 79.207031 L 216.601563 81.070313 L 217.125 81.042969 L 217.386719 81.027344 L 217.386719 81.644531 L 218.433594 81.582031 L 218.957031 82.160156 L 219.21875 82.140625 L 219.476563 82.125 L 220 82.09375 L 220.261719 82.679688 L 220.785156 82.644531 L 221.046875 82.628906 L 222.09375 82.558594 L 222.355469 83.132813 L 222.613281 83.117188 L 222.875 83.097656 L 223.136719 83.082031 L 223.398438 83.0625 L 223.660156 83.046875 L 223.921875 83.027344 L 224.183594 83.011719 L 224.96875 82.960938 L 225.230469 83.523438 L 225.75 83.484375 L 225.75 84.058594 L 226.535156 84.003906 L 226.796875 84.554688 L 228.367188 84.4375 L 228.628906 84.421875 L 228.890625 84.402344 L 229.148438 84.382813 L 229.933594 84.324219 L 230.457031 84.84375 L 230.457031 85.398438 L 230.71875 85.375 L 231.242188 85.335938 L 231.503906 85.863281 L 232.027344 85.824219 L 232.285156 85.800781 L 232.808594 85.761719 L 233.070313 86.28125 L 233.59375 86.238281 L 233.855469 86.21875 L 234.117188 86.195313 L 234.117188 86.734375 L 234.640625 86.6875 L 234.902344 86.667969 L 235.164063 86.644531 L 235.421875 86.625 L 235.421875 87.15625 L 235.945313 87.109375 L 236.992188 87.023438 L 237.253906 87 L 238.300781 86.914063 L 238.820313 86.871094 L 239.082031 87.367188 L 239.34375 87.34375 L 239.605469 87.324219 L 240.128906 87.277344 L 240.652344 87.234375 L 241.4375 87.171875 L 241.957031 87.636719 L 242.480469 87.589844 L 242.742188 87.570313 L 243.003906 88.050781 L 243.003906 88.554688 L 243.265625 89.03125 L 243.527344 89.007813 L 243.789063 89.480469 L 244.574219 89.410156 L 245.355469 89.335938 L 246.140625 89.265625 L 246.664063 89.214844 L 246.925781 89.191406 L 247.1875 89.65625 L 247.1875 90.625 L 247.710938 91.058594 L 248.234375 91.003906 L 248.492188 90.980469 L 248.753906 90.953125 L 249.015625 90.929688 L 249.539063 91.828125 L 250.0625 91.773438 L 250.0625 92.246094 L 251.109375 92.136719 L 251.628906 92.082031 L 251.628906 92.550781 L 252.414063 92.46875 L 252.414063 92.929688 L 253.199219 92.847656 L 253.460938 93.28125 L 253.722656 93.710938 L 253.984375 93.683594 L 254.246094 93.652344 L 254.769531 93.597656 L 256.074219 94.359375 L 256.335938 94.328125 L 256.859375 94.273438 L 257.121094 94.242188 L 257.382813 94.214844 L 258.164063 94.128906 L 258.425781 94.101563 L 258.949219 94.042969 L 259.210938 94.015625 L 259.472656 94.429688 L 259.734375 94.402344 L 260.78125 94.726563 L 261.042969 94.695313 L 261.300781 94.667969 L 261.5625 94.640625 L 261.824219 94.609375 L 262.085938 95.015625 L 262.085938 95.449219 L 262.347656 95.421875 L 263.132813 95.332031 L 263.394531 95.304688 L 263.917969 95.675781 L 264.179688 95.644531 L 264.179688 96.070313 L 264.441406 96.042969 L 265.222656 95.953125 L 265.746094 96.316406 L 266.007813 96.285156 L 267.054688 96.167969 L 267.835938 96.914063 L 268.359375 96.851563 L 268.359375 97.269531 L 269.40625 97.144531 L 269.929688 97.085938 L 269.929688 97.496094 L 270.714844 97.8125 L 270.972656 97.78125 L 271.496094 97.71875 L 271.757813 97.691406 L 272.28125 97.628906 L 273.328125 97.507813 L 273.328125 97.910156 L 273.589844 97.878906 L 274.113281 97.820313 L 274.371094 97.789063 L 275.15625 97.699219 L 275.417969 97.667969 L 275.941406 98.003906 L 276.203125 97.972656 L 276.464844 97.945313 L 276.726563 97.914063 L 276.726563 98.308594 L 277.25 98.640625 L 278.03125 98.550781 L 278.03125 98.941406 L 279.601563 98.753906 L 280.386719 98.664063 L 280.644531 99.019531 L 280.644531 99.40625 L 282.738281 99.15625 L 283 99.886719 L 283.785156 99.792969 L 284.042969 99.761719 L 284.828125 100.421875 L 285.089844 100.390625 L 285.351563 100.355469 L 285.875 100.292969 L 285.875 100.667969 L 286.660156 100.574219 L 286.921875 100.539063 L 287.179688 100.507813 L 287.964844 100.414063 L 288.488281 100.355469 L 289.273438 100.261719 L 289.273438 100.628906 L 290.058594 100.535156 L 290.316406 100.503906 L 290.578125 100.472656 L 290.578125 100.835938 L 291.625 100.710938 L 291.625 101.074219 L 292.148438 101.011719 L 292.671875 101.667969 L 293.457031 101.574219 L 293.976563 102.578125 L 294.238281 102.542969 L 294.238281 102.898438 L 294.5 102.867188 L 294.761719 102.832031 L 295.285156 102.769531 L 296.332031 102.988281 L 296.59375 102.957031 L 297.113281 103.238281 L 297.375 103.207031 L 297.898438 103.488281 L 298.683594 103.390625 L 298.683594 103.734375 L 299.988281 103.570313 L 299.988281 103.914063 L 300.25 104.222656 L 300.773438 104.15625 L 301.035156 104.125 L 301.296875 104.089844 L 301.558594 104.058594 L 301.558594 104.398438 L 301.820313 104.363281 L 301.820313 104.703125 L 302.082031 104.667969 L 302.34375 104.972656 L 302.605469 105.273438 L 302.605469 105.609375 L 303.128906 105.542969 L 303.128906 105.875 L 303.386719 105.839844 L 303.648438 105.804688 L 303.648438 106.800781 L 304.433594 106.695313 L 304.433594 107.355469 L 304.695313 107.648438 L 304.957031 107.609375 L 306.265625 107.433594 L 306.265625 107.757813 L 306.785156 108.011719 L 307.046875 107.976563 L 307.308594 108.265625 L 307.308594 108.585938 L 308.09375 108.480469 L 308.355469 108.441406 L 308.355469 109.71875 L 308.617188 109.683594 L 309.140625 109.925781 L 309.660156 109.851563 L 309.660156 110.796875 L 309.921875 110.761719 L 309.921875 112.011719 L 310.183594 111.972656 L 310.183594 112.285156 L 310.445313 112.554688 L 310.445313 113.171875 L 310.707031 113.132813 L 310.707031 113.441406 L 310.96875 113.707031 L 310.96875 114.015625 L 311.230469 114.28125 L 311.230469 115.195313 L 311.492188 115.757813 L 311.753906 115.714844 L 312.015625 115.976563 L 312.277344 115.933594 L 312.539063 116.191406 L 313.058594 116.109375 L 313.058594 116.410156 L 313.320313 116.367188 L 313.582031 116.625 L 313.582031 116.921875 L 314.105469 117.429688 L 314.367188 117.679688 L 314.628906 117.640625 L 315.9375 117.425781 L 316.195313 117.386719 L 316.457031 117.34375 L 316.457031 118.800781 L 317.765625 118.585938 L 318.027344 119.117188 L 318.027344 119.40625 L 318.289063 119.363281 L 318.289063 119.648438 L 318.8125 119.5625 L 319.074219 119.804688 L 319.59375 119.71875 L 319.59375 120.003906 L 319.855469 120.242188 L 320.117188 120.199219 L 320.117188 120.765625 L 320.640625 120.675781 L 320.902344 120.632813 L 321.949219 120.457031 L 322.472656 120.371094 L 322.730469 120.328125 L 322.992188 120.84375 L 322.992188 121.121094 L 323.253906 121.355469 L 323.777344 121.269531 L 324.5625 121.136719 L 325.609375 120.964844 L 325.609375 121.238281 L 325.867188 121.195313 L 326.390625 121.109375 L 327.699219 121.4375 L 327.699219 121.710938 L 328.484375 121.582031 L 328.484375 121.851563 L 328.746094 122.078125 L 329.003906 122.035156 L 329.789063 121.90625 L 329.789063 122.175781 L 330.050781 122.402344 L 330.3125 122.355469 L 331.097656 122.496094 L 331.097656 122.761719 L 331.359375 122.984375 L 331.359375 123.515625 L 331.621094 123.46875 L 331.882813 123.953125 L 332.144531 123.910156 L 332.144531 124.175781 L 332.402344 124.128906 L 332.664063 124.085938 L 332.925781 124.039063 L 333.1875 124.257813 L 333.449219 124.214844 L 333.710938 124.167969 L 333.972656 124.125 L 333.972656 124.90625 L 334.234375 124.863281 L 334.496094 125.078125 L 334.496094 126.367188 L 334.757813 126.578125 L 335.019531 127.300781 L 335.019531 127.554688 L 335.28125 127.507813 L 335.539063 127.714844 L 335.800781 127.667969 L 336.0625 127.875 L 336.0625 128.128906 L 336.324219 128.082031 L 336.324219 128.335938 L 336.585938 128.289063 L 337.109375 128.445313 L 337.109375 129.445313 L 337.371094 129.648438 L 337.632813 129.847656 L 337.632813 130.34375 L 338.679688 130.398438 L 338.9375 130.351563 L 339.199219 130.550781 L 339.460938 130.503906 L 339.460938 130.746094 L 339.722656 130.699219 L 339.722656 131.433594 L 339.984375 131.382813 L 340.246094 131.335938 L 340.246094 131.578125 L 340.507813 131.53125 L 340.507813 132.5 L 340.769531 132.449219 L 340.769531 132.691406 L 341.292969 132.59375 L 341.292969 132.832031 L 341.554688 133.261719 L 341.554688 133.738281 L 341.816406 133.929688 L 342.597656 133.78125 L 342.597656 134.253906 L 342.859375 134.441406 L 343.382813 134.578125 L 343.644531 134.527344 L 344.429688 134.378906 L 344.429688 134.847656 L 344.953125 135.214844 L 345.210938 135.164063 L 345.734375 135.296875 L 345.996094 135.25 L 346.257813 135.199219 L 346.257813 135.429688 L 346.519531 135.382813 L 346.78125 135.332031 L 346.78125 135.792969 L 347.042969 136.203125 L 347.042969 136.433594 L 347.304688 136.382813 L 347.304688 136.609375 L 347.566406 136.789063 L 347.566406 137.472656 L 348.089844 137.824219 L 348.351563 137.773438 L 348.609375 137.722656 L 349.132813 137.621094 L 349.394531 137.796875 L 349.65625 137.746094 L 349.65625 138.195313 L 349.917969 138.144531 L 349.917969 139.261719 L 350.179688 139.210938 L 350.441406 139.378906 L 350.703125 139.550781 L 350.964844 139.5 L 350.964844 139.71875 L 351.226563 139.890625 L 351.226563 140.109375 L 351.488281 140.058594 L 351.488281 140.277344 L 351.746094 140.226563 L 352.007813 140.613281 L 352.007813 140.832031 L 352.53125 140.945313 L 352.53125 141.164063 L 352.792969 141.109375 L 353.054688 141.710938 L 353.316406 141.65625 L 353.316406 141.871094 L 353.578125 141.820313 L 354.101563 141.933594 L 354.101563 142.359375 L 355.667969 142.902344 L 355.929688 142.847656 L 355.929688 144.746094 L 356.191406 144.691406 L 356.191406 145.527344 L 356.453125 145.890625 L 356.976563 146.195313 L 357.238281 146.554688 L 357.5 146.5 L 358.28125 146.339844 L 358.28125 146.542969 L 358.542969 146.488281 L 358.804688 146.4375 L 359.066406 146.382813 L 359.066406 146.585938 L 359.328125 146.535156 L 359.589844 146.480469 L 359.589844 147.496094 L 359.851563 147.644531 L 359.851563 149.851563 L 360.113281 150.195313 L 360.113281 151.183594 L 360.375 151.324219 L 360.375 151.914063 L 360.636719 151.855469 L 360.636719 152.832031 L 360.898438 152.777344 L 360.898438 153.164063 L 361.679688 153.1875 L 361.679688 154.53125 L 361.941406 154.476563 L 361.941406 154.855469 L 362.203125 154.800781 L 362.726563 154.6875 L 362.726563 154.875 L 362.988281 154.820313 L 362.988281 155.007813 L 363.25 155.332031 L 363.511719 155.648438 L 363.511719 156.589844 L 363.773438 156.53125 L 364.035156 156.847656 L 364.296875 156.976563 L 364.296875 157.71875 L 364.554688 157.84375 L 364.816406 157.972656 L 364.816406 158.15625 L 365.078125 158.097656 L 365.078125 158.832031 L 365.339844 158.957031 L 365.339844 159.867188 L 365.601563 159.808594 L 365.601563 160.351563 L 365.863281 160.832031 L 365.863281 161.191406 L 366.125 161.132813 L 366.125 161.492188 L 366.386719 161.429688 L 366.386719 164.085938 L 367.171875 164.253906 L 367.433594 164.195313 L 367.433594 164.367188 L 367.695313 164.65625 L 367.695313 165.003906 L 367.953125 164.941406 L 367.953125 167.34375 L 368.214844 167.789063 L 368.214844 168.128906 L 368.476563 168.234375 L 368.476563 168.402344 L 368.738281 168.34375 L 368.738281 168.511719 L 369.261719 168.386719 L 369.261719 169.054688 L 369.523438 169.328125 L 369.785156 169.265625 L 370.046875 169.703125 L 370.046875 169.867188 L 370.308594 169.804688 L 370.832031 170.175781 L 370.832031 170.832031 L 371.089844 171.097656 L 371.351563 171.035156 L 371.351563 171.199219 L 371.875 171.074219 L 371.875 171.5625 L 372.136719 171.660156 L 372.398438 171.597656 L 372.398438 171.761719 L 372.660156 171.699219 L 372.660156 172.183594 L 372.921875 172.121094 L 372.921875 172.601563 L 373.183594 172.699219 L 373.183594 172.859375 L 373.707031 173.371094 L 373.96875 173.785156 L 373.96875 174.261719 L 374.75 174.386719 L 375.011719 174.480469 L 375.011719 174.636719 L 375.273438 174.574219 L 375.535156 175.136719 L 375.796875 175.074219 L 375.796875 175.386719 L 376.058594 175.324219 L 376.320313 175.570313 L 376.320313 177.261719 L 376.84375 177.136719 L 377.105469 177.226563 L 377.367188 177.3125 L 377.367188 177.617188 L 377.625 177.859375 L 377.625 178.160156 L 377.886719 178.097656 L 377.886719 179.300781 L 378.148438 179.832031 L 378.410156 180.066406 L 378.671875 180.003906 L 378.671875 180.300781 L 379.195313 180.761719 L 379.457031 180.695313 L 379.71875 180.632813 L 379.980469 181.15625 L 379.980469 181.300781 L 380.242188 181.382813 L 380.242188 181.53125 L 380.503906 182.191406 L 380.503906 183.777344 L 381.023438 183.933594 L 381.285156 183.867188 L 381.285156 184.011719 L 381.546875 184.230469 L 381.546875 185.921875 L 381.808594 185.859375 L 382.070313 186.628906 L 382.332031 186.566406 L 382.59375 186.636719 L 382.59375 186.777344 L 382.855469 187.265625 L 382.855469 188.226563 L 383.117188 188.160156 L 383.378906 188.367188 L 383.640625 188.300781 L 383.640625 188.984375 L 383.898438 188.917969 L 383.898438 189.324219 L 384.160156 189.257813 L 384.160156 191.398438 L 384.683594 191.265625 L 384.683594 191.664063 L 385.207031 191.53125 L 385.207031 192.582031 L 385.46875 192.515625 L 385.730469 192.972656 L 385.730469 193.363281 L 385.992188 193.296875 L 385.992188 193.816406 L 386.515625 193.9375 L 386.515625 195.984375 L 386.777344 195.917969 L 386.777344 196.296875 L 387.039063 196.355469 L 387.039063 196.984375 L 387.296875 197.167969 L 387.296875 198.039063 L 387.558594 198.34375 L 387.558594 198.960938 L 388.082031 198.824219 L 388.082031 199.316406 L 388.34375 199.492188 L 388.34375 200.707031 L 388.605469 200.640625 L 388.605469 201.960938 L 388.867188 202.011719 L 388.867188 202.722656 L 389.128906 202.65625 L 389.128906 203.601563 L 389.390625 203.648438 L 389.390625 204.234375 L 389.652344 204.398438 L 389.914063 204.332031 L 389.914063 206.179688 L 390.175781 206.222656 L 390.175781 206.566406 L 390.695313 206.542969 L 390.695313 207.789063 L 390.957031 207.71875 L 390.957031 210.386719 L 391.21875 210.648438 L 391.480469 210.90625 L 391.480469 211.234375 L 391.742188 211.597656 L 391.742188 211.921875 L 392.003906 211.960938 L 392.003906 212.605469 L 392.265625 212.535156 L 392.527344 212.574219 L 393.050781 212.863281 L 393.050781 212.96875 L 393.3125 213.324219 L 393.3125 213.539063 L 394.355469 213.367188 L 394.617188 213.296875 L 395.140625 213.261719 L 395.140625 214.210938 L 395.402344 214.453125 L 395.402344 214.558594 L 395.664063 214.800781 L 395.664063 215.007813 L 395.925781 215.25 L 395.925781 215.558594 L 396.1875 215.59375 L 396.1875 215.800781 L 396.449219 216.445313 L 396.710938 216.480469 L 396.710938 216.785156 L 396.96875 216.917969 L 396.96875 217.222656 L 397.230469 217.152344 L 397.230469 217.558594 L 398.277344 217.683594 L 398.539063 217.8125 L 398.539063 218.511719 L 398.800781 219.234375 L 398.800781 220.214844 L 399.0625 220.34375 L 399.0625 221.121094 L 399.324219 221.050781 L 399.324219 221.53125 L 399.847656 221.777344 L 399.847656 222.640625 L 400.105469 222.664063 L 400.105469 223.328125 L 400.628906 223.566406 L 400.628906 224.316406 L 400.890625 224.339844 L 401.152344 224.269531 L 401.152344 224.640625 L 401.414063 224.757813 L 401.414063 224.851563 L 401.675781 224.78125 L 401.675781 224.875 L 402.199219 225.011719 L 402.199219 226.207031 L 402.460938 226.5 L 402.460938 227.945313 L 402.722656 227.875 L 402.722656 229.652344 L 402.984375 229.582031 L 402.984375 230.019531 L 403.242188 229.949219 L 403.242188 230.039063 L 403.503906 230.230469 L 403.503906 233.070313 L 404.027344 233.519531 L 404.289063 233.535156 L 404.289063 235.371094 L 404.550781 235.382813 L 404.550781 235.464844 L 405.074219 235.324219 L 405.074219 235.738281 L 405.335938 235.75 L 405.335938 235.832031 L 405.859375 235.9375 L 405.859375 236.265625 L 406.121094 236.277344 L 406.121094 236.4375 L 406.382813 236.613281 L 406.382813 236.9375 L 406.640625 237.429688 L 406.640625 238.070313 L 406.902344 238.082031 L 407.164063 238.089844 L 407.164063 238.25 L 407.425781 238.339844 L 407.425781 238.894531 L 407.6875 239.058594 L 407.6875 239.296875 L 407.949219 239.226563 L 407.949219 240.238281 L 408.210938 240.636719 L 408.210938 241.480469 L 408.472656 241.871094 L 408.734375 241.875 L 408.734375 242.027344 L 408.996094 242.261719 L 408.996094 243.015625 L 409.257813 243.023438 L 409.257813 243.472656 L 409.519531 243.402344 L 409.777344 243.558594 L 409.777344 244.078125 L 410.039063 244.304688 L 410.039063 245.183594 L 410.300781 245.1875 L 410.300781 245.261719 L 410.5625 245.265625 L 410.5625 245.484375 L 410.824219 245.488281 L 410.824219 245.707031 L 411.085938 246.214844 L 411.085938 246.648438 L 411.347656 246.648438 L 411.609375 247.082031 L 411.609375 247.863281 L 411.871094 247.792969 L 412.132813 247.9375 L 412.394531 248.007813 L 412.394531 248.148438 L 412.65625 248.152344 L 412.65625 248.292969 L 412.914063 248.503906 L 412.914063 248.710938 L 413.175781 249.128906 L 413.175781 250.164063 L 413.4375 250.097656 L 413.699219 250.097656 L 413.960938 250.507813 L 413.960938 251.523438 L 414.222656 251.453125 L 414.484375 251.453125 L 414.484375 252.191406 L 414.746094 252.320313 L 415.007813 252.453125 L 415.007813 255.003906 L 415.269531 255.066406 L 415.269531 255.257813 L 416.054688 255.3125 L 416.054688 256.269531 L 416.3125 256.390625 L 416.3125 257.394531 L 416.574219 257.328125 L 416.574219 259.242188 L 416.835938 259.175781 L 416.835938 260.207031 L 417.097656 260.320313 L 417.097656 260.441406 L 417.359375 260.613281 L 417.359375 261.09375 L 417.621094 261.203125 L 417.621094 262.445313 L 417.882813 262.671875 L 417.882813 262.789063 L 418.144531 262.71875 L 418.144531 263.128906 L 418.40625 263.351563 L 418.40625 263.582031 L 418.667969 263.6875 L 418.667969 264.203125 L 418.929688 264.136719 L 418.929688 264.421875 L 419.191406 264.753906 L 419.191406 265.148438 L 419.449219 265.703125 L 419.449219 267.914063 L 419.710938 268.171875 L 419.710938 268.820313 L 419.972656 269.023438 L 419.972656 269.929688 L 420.234375 270.128906 L 420.234375 270.445313 L 420.496094 270.378906 L 420.496094 270.539063 L 420.757813 270.523438 L 420.757813 270.578125 L 421.019531 270.773438 L 421.019531 271.292969 L 421.542969 271.265625 L 421.542969 271.371094 L 421.804688 271.355469 L 422.066406 271.394531 L 422.066406 271.445313 L 422.328125 271.894531 L 422.328125 272.152344 L 422.585938 272.085938 L 422.585938 272.394531 L 422.847656 272.53125 L 422.847656 275.234375 L 423.109375 275.167969 L 423.371094 275.300781 L 423.371094 276.5625 L 423.632813 276.546875 L 423.894531 276.675781 L 424.15625 276.851563 L 424.15625 276.992188 L 424.417969 276.929688 L 424.417969 277.074219 L 424.679688 277.054688 L 424.679688 277.152344 L 424.941406 277.085938 L 424.941406 279.292969 L 425.203125 279.738281 L 425.203125 284.15625 L 425.464844 284.21875 L 425.726563 284.414063 L 425.984375 284.480469 L 425.984375 284.953125 L 426.246094 285.058594 L 426.246094 285.101563 L 426.507813 285.082031 L 426.507813 285.421875 L 426.769531 285.359375 L 426.769531 286.742188 L 427.03125 286.722656 L 427.03125 287.671875 L 427.292969 287.605469 L 427.292969 287.6875 L 427.554688 287.707031 L 427.554688 291.140625 L 427.816406 291.308594 L 427.816406 291.8125 L 428.078125 291.789063 L 428.078125 292.210938 L 428.339844 292.1875 L 428.339844 292.644531 L 428.601563 292.808594 L 428.601563 293.527344 L 428.863281 293.464844 L 428.863281 294.0625 L 429.121094 294.183594 L 429.121094 295.832031 L 429.644531 295.890625 L 429.644531 296.140625 L 429.90625 296.222656 L 430.167969 296.269531 L 430.167969 296.414063 L 430.429688 296.707031 L 430.429688 298.496094 L 430.691406 298.46875 L 430.691406 298.984375 L 430.953125 299.472656 L 430.953125 300.75 L 431.214844 300.722656 L 431.214844 300.789063 L 431.476563 300.929688 L 431.476563 301.457031 L 431.738281 301.464844 L 431.738281 305.320313 L 432 305.386719 L 432 305.414063 L 432.261719 305.511719 L 432.261719 306.699219 L 432.519531 306.699219 L 432.519531 306.730469 L 432.78125 306.972656 L 432.78125 308.21875 L 433.042969 308.367188 L 433.042969 309.839844 L 433.304688 309.867188 L 433.304688 310.605469 L 433.566406 310.859375 L 433.566406 310.886719 L 433.828125 310.96875 L 433.828125 311.746094 L 434.089844 312.101563 L 434.089844 312.183594 L 434.351563 312.125 L 434.351563 312.886719 L 434.613281 312.859375 L 434.613281 313.289063 L 434.875 313.472656 L 434.875 314.320313 L 435.136719 314.421875 L 435.136719 314.472656 L 435.65625 314.492188 L 435.65625 315.015625 L 435.917969 315.191406 L 435.917969 316.238281 L 436.179688 316.234375 L 436.179688 316.4375 L 436.441406 316.382813 L 436.441406 318.023438 L 436.703125 318.015625 L 436.703125 318.527344 L 436.964844 318.523438 L 437.226563 318.492188 L 437.226563 319.117188 L 437.488281 319.089844 L 437.488281 319.183594 L 437.75 319.203125 L 437.75 320.171875 L 438.011719 320.234375 L 438.273438 320.203125 L 438.273438 321.433594 L 438.535156 321.5625 L 438.535156 324.078125 L 438.792969 324.351563 L 438.792969 325.417969 L 439.054688 325.410156 L 439.054688 326.476563 L 439.316406 326.425781 L 439.316406 326.941406 L 439.578125 326.910156 L 439.578125 327.074219 L 440.101563 327.316406 L 440.101563 328.441406 L 440.363281 328.507813 L 440.363281 330.433594 L 440.886719 330.503906 L 440.886719 331.445313 L 441.148438 331.46875 L 441.148438 332.648438 L 441.410156 332.671875 L 441.410156 334.660156 L 441.671875 334.765625 L 441.671875 335.796875 L 441.933594 335.765625 L 442.191406 335.785156 L 442.191406 337.933594 L 442.453125 337.917969 L 442.453125 338.640625 L 442.714844 338.65625 L 442.714844 339.492188 L 442.976563 339.566406 L 442.976563 341.183594 L 443.238281 341.152344 L 443.238281 341.289063 L 443.5 341.375 L 443.5 342.667969 L 443.761719 342.621094 L 443.761719 342.894531 L 444.023438 342.90625 L 444.023438 343.148438 L 444.285156 343.390625 L 444.285156 344.3125 L 444.546875 344.433594 L 444.546875 344.765625 L 444.808594 344.914063 L 444.808594 345.535156 L 445.328125 345.675781 L 445.328125 347.210938 L 445.589844 347.242188 L 445.589844 347.628906 L 445.851563 347.699219 L 445.851563 348.039063 L 446.113281 348.097656 L 446.113281 348.484375 L 446.375 348.480469 L 446.375 354.066406 L 446.636719 354.113281 L 446.636719 354.730469 L 446.898438 354.753906 L 446.898438 354.867188 L 447.160156 354.878906 L 447.160156 354.953125 L 447.421875 354.988281 L 447.421875 355.515625 L 447.683594 355.578125 L 447.683594 356.058594 L 447.945313 356.019531 L 447.945313 356.582031 L 448.207031 356.554688 L 448.207031 358.476563 L 448.464844 358.449219 L 448.464844 358.582031 L 448.726563 358.550781 L 448.726563 359.492188 L 448.988281 359.617188 L 448.988281 362.242188 L 449.25 362.324219 L 449.25 362.839844 L 449.511719 362.855469 L 449.511719 365.359375 L 449.773438 365.355469 L 449.773438 367.515625 L 450.035156 367.644531 L 450.035156 369.136719 L 450.296875 369.207031 L 450.296875 371.511719 L 450.558594 371.535156 L 450.558594 371.566406 L 450.820313 371.554688 L 450.820313 372.136719 L 451.082031 372.152344 L 451.082031 374.175781 L 451.34375 374.230469 L 451.34375 374.375 L 451.605469 374.371094 L 451.605469 377.101563 L 451.863281 377.082031 L 451.863281 377.476563 L 452.125 377.574219 L 452.125 377.589844 L 452.386719 377.597656 L 452.386719 377.792969 L 452.648438 377.851563 L 452.648438 378.140625 L 452.910156 378.160156 L 452.910156 380.8125 L 453.171875 380.808594 L 453.171875 382.488281 L 453.433594 382.464844 L 453.433594 384.742188 L 453.695313 384.722656 L 453.695313 385.542969 L 453.957031 385.621094 L 453.957031 386.160156 L 454.21875 386.234375 L 454.21875 388.617188 L 454.480469 388.605469 L 454.480469 389.414063 L 454.742188 389.457031 L 454.742188 390.097656 L 455 390.160156 L 455 393.5625 L 455.261719 393.574219 L 455.261719 395.789063 L 455.523438 395.839844 L 455.523438 396.53125 L 455.785156 396.542969 L 455.785156 398.140625 L 456.046875 398.164063 L 456.046875 399.636719 L 456.308594 399.625 L 456.308594 400.359375 L 456.570313 400.355469 L 456.570313 400.632813 L 456.832031 400.625 L 456.832031 401.171875 L 457.09375 401.164063 L 457.09375 402.355469 L 457.355469 402.339844 L 457.355469 403.828125 L 457.617188 403.824219 L 457.617188 405.910156 L 457.878906 405.917969 L 457.878906 406.28125 L 458.136719 406.277344 L 458.136719 413.175781 L 458.398438 413.171875 L 458.398438 416.800781 \"/>\n",
       "</g>\n",
       "</g>\n",
       "</svg>\n"
      ],
      "text/plain": [
       "plot without title"
      ]
     },
     "metadata": {
      "image/svg+xml": {
       "isolated": true
      }
     },
     "output_type": "display_data"
    }
   ],
   "source": [
    "library(ROCR)\n",
    "test_predictions <- predict(conversionData_model, newdata = conversionData_test_features,    type = \"response\")\n",
    "pred <- prediction(test_predictions, conversionData_test_labels) #Change the data to a standaridzed format for computing the ROC curve\n",
    "perf <- performance(pred, measure = \"prec\", x.measure = \"rec\") # it is a S4 class\n",
    "plot(perf)"
   ]
  },
  {
   "cell_type": "code",
   "execution_count": 26,
   "metadata": {
    "collapsed": true
   },
   "outputs": [],
   "source": [
    "logit_perf <- performance(pred, \"tpr\", \"fpr\")"
   ]
  },
  {
   "cell_type": "code",
   "execution_count": 28,
   "metadata": {
    "collapsed": false
   },
   "outputs": [
    {
     "data": {
      "image/png": "[encoded data removed]",
      "image/svg+xml": [
       "<?xml version=\"1.0\" encoding=\"UTF-8\"?>\n",
       "<svg xmlns=\"http://www.w3.org/2000/svg\" xmlns:xlink=\"http://www.w3.org/1999/xlink\" width=\"504pt\" height=\"504pt\" viewBox=\"0 0 504 504\" version=\"1.1\">\n",
       "<defs>\n",
       "<g>\n",
       "<symbol overflow=\"visible\" id=\"glyph0-0\">\n",
       "<path style=\"stroke:none;\" d=\"M 1.023438 0 L 1.023438 -8.949219 L 7.0625 -8.949219 L 7.0625 -7.890625 L 2.210938 -7.890625 L 2.210938 -5.121094 L 6.410156 -5.121094 L 6.410156 -4.066406 L 2.210938 -4.066406 L 2.210938 0 Z M 1.023438 0 \"/>\n",
       "</symbol>\n",
       "<symbol overflow=\"visible\" id=\"glyph0-1\">\n",
       "<path style=\"stroke:none;\" d=\"M 5.054688 -0.800781 C 4.644531 -0.453125 4.253906 -0.207031 3.878906 -0.0664063 C 3.5 0.078125 3.09375 0.144531 2.667969 0.148438 C 1.949219 0.144531 1.402344 -0.0273438 1.023438 -0.375 C 0.640625 -0.722656 0.449219 -1.167969 0.453125 -1.710938 C 0.449219 -2.023438 0.523438 -2.3125 0.667969 -2.578125 C 0.8125 -2.839844 1 -3.050781 1.234375 -3.210938 C 1.464844 -3.367188 1.730469 -3.484375 2.027344 -3.570313 C 2.242188 -3.625 2.566406 -3.679688 3.003906 -3.734375 C 3.886719 -3.835938 4.539063 -3.964844 4.960938 -4.113281 C 4.964844 -4.261719 4.96875 -4.355469 4.96875 -4.402344 C 4.96875 -4.84375 4.863281 -5.160156 4.65625 -5.347656 C 4.371094 -5.59375 3.953125 -5.71875 3.40625 -5.71875 C 2.882813 -5.71875 2.5 -5.625 2.257813 -5.445313 C 2.007813 -5.261719 1.828125 -4.941406 1.714844 -4.484375 L 0.640625 -4.632813 C 0.734375 -5.089844 0.894531 -5.460938 1.121094 -5.746094 C 1.339844 -6.027344 1.664063 -6.246094 2.089844 -6.398438 C 2.511719 -6.550781 3.003906 -6.625 3.5625 -6.628906 C 4.117188 -6.625 4.566406 -6.5625 4.914063 -6.433594 C 5.257813 -6.300781 5.511719 -6.136719 5.675781 -5.941406 C 5.835938 -5.742188 5.949219 -5.492188 6.019531 -5.195313 C 6.050781 -5.003906 6.070313 -4.664063 6.074219 -4.179688 L 6.074219 -2.714844 C 6.070313 -1.691406 6.09375 -1.046875 6.144531 -0.777344 C 6.1875 -0.503906 6.28125 -0.246094 6.421875 0 L 5.273438 0 C 5.15625 -0.226563 5.082031 -0.492188 5.054688 -0.800781 Z M 4.960938 -3.253906 C 4.558594 -3.085938 3.960938 -2.949219 3.167969 -2.839844 C 2.714844 -2.773438 2.394531 -2.699219 2.210938 -2.617188 C 2.019531 -2.535156 1.875 -2.417969 1.777344 -2.261719 C 1.671875 -2.105469 1.621094 -1.929688 1.625 -1.738281 C 1.621094 -1.445313 1.734375 -1.203125 1.957031 -1.007813 C 2.175781 -0.8125 2.5 -0.714844 2.929688 -0.714844 C 3.351563 -0.714844 3.726563 -0.804688 4.058594 -0.992188 C 4.386719 -1.171875 4.628906 -1.425781 4.785156 -1.75 C 4.898438 -1.996094 4.957031 -2.363281 4.960938 -2.851563 Z M 4.960938 -3.253906 \"/>\n",
       "</symbol>\n",
       "<symbol overflow=\"visible\" id=\"glyph0-2\">\n",
       "<path style=\"stroke:none;\" d=\"M 0.800781 0 L 0.800781 -8.949219 L 1.898438 -8.949219 L 1.898438 0 Z M 0.800781 0 \"/>\n",
       "</symbol>\n",
       "<symbol overflow=\"visible\" id=\"glyph0-3\">\n",
       "<path style=\"stroke:none;\" d=\"M 0.382813 -1.933594 L 1.472656 -2.105469 C 1.527344 -1.667969 1.699219 -1.335938 1.980469 -1.105469 C 2.257813 -0.871094 2.644531 -0.753906 3.148438 -0.757813 C 3.648438 -0.753906 4.023438 -0.859375 4.273438 -1.066406 C 4.515625 -1.269531 4.640625 -1.507813 4.640625 -1.789063 C 4.640625 -2.03125 4.53125 -2.226563 4.316406 -2.375 C 4.164063 -2.46875 3.789063 -2.59375 3.191406 -2.746094 C 2.382813 -2.945313 1.824219 -3.121094 1.515625 -3.273438 C 1.203125 -3.417969 0.96875 -3.625 0.808594 -3.890625 C 0.644531 -4.152344 0.5625 -4.441406 0.566406 -4.761719 C 0.5625 -5.046875 0.628906 -5.3125 0.765625 -5.5625 C 0.894531 -5.804688 1.074219 -6.011719 1.304688 -6.175781 C 1.472656 -6.300781 1.707031 -6.40625 2.003906 -6.496094 C 2.300781 -6.582031 2.617188 -6.625 2.953125 -6.628906 C 3.460938 -6.625 3.90625 -6.550781 4.292969 -6.40625 C 4.675781 -6.257813 4.960938 -6.0625 5.144531 -5.8125 C 5.328125 -5.5625 5.453125 -5.226563 5.523438 -4.808594 L 4.449219 -4.664063 C 4.394531 -4.996094 4.253906 -5.253906 4.023438 -5.445313 C 3.789063 -5.628906 3.460938 -5.722656 3.035156 -5.726563 C 2.527344 -5.722656 2.164063 -5.640625 1.953125 -5.476563 C 1.734375 -5.308594 1.628906 -5.113281 1.628906 -4.890625 C 1.628906 -4.746094 1.671875 -4.617188 1.765625 -4.503906 C 1.851563 -4.382813 1.992188 -4.285156 2.183594 -4.210938 C 2.292969 -4.167969 2.617188 -4.074219 3.15625 -3.929688 C 3.929688 -3.722656 4.472656 -3.554688 4.78125 -3.421875 C 5.085938 -3.289063 5.324219 -3.09375 5.503906 -2.84375 C 5.675781 -2.585938 5.765625 -2.273438 5.769531 -1.90625 C 5.765625 -1.535156 5.65625 -1.191406 5.445313 -0.867188 C 5.226563 -0.542969 4.917969 -0.292969 4.519531 -0.117188 C 4.113281 0.0585938 3.660156 0.144531 3.15625 0.148438 C 2.308594 0.144531 1.664063 -0.0273438 1.226563 -0.375 C 0.78125 -0.726563 0.5 -1.246094 0.382813 -1.933594 Z M 0.382813 -1.933594 \"/>\n",
       "</symbol>\n",
       "<symbol overflow=\"visible\" id=\"glyph0-4\">\n",
       "<path style=\"stroke:none;\" d=\"M 5.261719 -2.085938 L 6.398438 -1.945313 C 6.21875 -1.28125 5.886719 -0.765625 5.402344 -0.402344 C 4.917969 -0.0351563 4.296875 0.144531 3.546875 0.148438 C 2.59375 0.144531 1.84375 -0.144531 1.289063 -0.726563 C 0.734375 -1.3125 0.457031 -2.132813 0.457031 -3.1875 C 0.457031 -4.273438 0.734375 -5.117188 1.296875 -5.722656 C 1.855469 -6.324219 2.585938 -6.625 3.484375 -6.628906 C 4.347656 -6.625 5.054688 -6.332031 5.609375 -5.742188 C 6.15625 -5.152344 6.433594 -4.320313 6.433594 -3.253906 C 6.433594 -3.183594 6.429688 -3.085938 6.425781 -2.960938 L 1.59375 -2.960938 C 1.632813 -2.242188 1.832031 -1.699219 2.195313 -1.324219 C 2.558594 -0.945313 3.011719 -0.753906 3.550781 -0.757813 C 3.953125 -0.753906 4.296875 -0.859375 4.582031 -1.074219 C 4.867188 -1.28125 5.09375 -1.621094 5.261719 -2.085938 Z M 1.652344 -3.863281 L 5.273438 -3.863281 C 5.222656 -4.402344 5.082031 -4.8125 4.859375 -5.089844 C 4.503906 -5.511719 4.050781 -5.722656 3.496094 -5.726563 C 2.992188 -5.722656 2.570313 -5.554688 2.226563 -5.21875 C 1.882813 -4.878906 1.691406 -4.425781 1.652344 -3.863281 Z M 1.652344 -3.863281 \"/>\n",
       "</symbol>\n",
       "<symbol overflow=\"visible\" id=\"glyph0-5\">\n",
       "<path style=\"stroke:none;\" d=\"\"/>\n",
       "</symbol>\n",
       "<symbol overflow=\"visible\" id=\"glyph0-6\">\n",
       "<path style=\"stroke:none;\" d=\"M 0.824219 2.484375 L 0.824219 -6.480469 L 1.824219 -6.480469 L 1.824219 -5.640625 C 2.058594 -5.964844 2.328125 -6.210938 2.625 -6.378906 C 2.921875 -6.542969 3.28125 -6.625 3.703125 -6.628906 C 4.257813 -6.625 4.746094 -6.484375 5.167969 -6.199219 C 5.589844 -5.914063 5.910156 -5.511719 6.128906 -4.996094 C 6.34375 -4.476563 6.449219 -3.90625 6.453125 -3.289063 C 6.449219 -2.625 6.332031 -2.03125 6.09375 -1.5 C 5.855469 -0.96875 5.507813 -0.558594 5.054688 -0.277344 C 4.597656 0.0078125 4.121094 0.144531 3.625 0.148438 C 3.257813 0.144531 2.929688 0.0703125 2.640625 -0.0820313 C 2.347656 -0.238281 2.109375 -0.433594 1.921875 -0.671875 L 1.921875 2.484375 Z M 1.820313 -3.203125 C 1.816406 -2.367188 1.984375 -1.75 2.324219 -1.355469 C 2.660156 -0.953125 3.070313 -0.753906 3.550781 -0.757813 C 4.039063 -0.753906 4.457031 -0.960938 4.804688 -1.375 C 5.152344 -1.785156 5.324219 -2.425781 5.328125 -3.296875 C 5.324219 -4.121094 5.15625 -4.738281 4.816406 -5.152344 C 4.476563 -5.558594 4.070313 -5.765625 3.601563 -5.769531 C 3.128906 -5.765625 2.714844 -5.546875 2.359375 -5.113281 C 1.996094 -4.671875 1.816406 -4.035156 1.820313 -3.203125 Z M 1.820313 -3.203125 \"/>\n",
       "</symbol>\n",
       "<symbol overflow=\"visible\" id=\"glyph0-7\">\n",
       "<path style=\"stroke:none;\" d=\"M 0.414063 -3.242188 C 0.410156 -4.4375 0.742188 -5.328125 1.414063 -5.90625 C 1.96875 -6.386719 2.648438 -6.625 3.453125 -6.628906 C 4.34375 -6.625 5.074219 -6.332031 5.640625 -5.75 C 6.203125 -5.164063 6.484375 -4.359375 6.488281 -3.332031 C 6.484375 -2.496094 6.359375 -1.839844 6.113281 -1.363281 C 5.859375 -0.882813 5.496094 -0.511719 5.019531 -0.25 C 4.539063 0.015625 4.015625 0.144531 3.453125 0.148438 C 2.542969 0.144531 1.8125 -0.140625 1.253906 -0.722656 C 0.691406 -1.300781 0.410156 -2.140625 0.414063 -3.242188 Z M 1.542969 -3.242188 C 1.539063 -2.40625 1.722656 -1.785156 2.085938 -1.375 C 2.445313 -0.960938 2.898438 -0.753906 3.453125 -0.757813 C 3.996094 -0.753906 4.453125 -0.960938 4.816406 -1.378906 C 5.175781 -1.789063 5.355469 -2.421875 5.359375 -3.277344 C 5.355469 -4.074219 5.171875 -4.683594 4.8125 -5.097656 C 4.445313 -5.511719 3.992188 -5.71875 3.453125 -5.71875 C 2.898438 -5.71875 2.445313 -5.511719 2.085938 -5.101563 C 1.722656 -4.6875 1.539063 -4.066406 1.542969 -3.242188 Z M 1.542969 -3.242188 \"/>\n",
       "</symbol>\n",
       "<symbol overflow=\"visible\" id=\"glyph0-8\">\n",
       "<path style=\"stroke:none;\" d=\"M 0.828125 -7.683594 L 0.828125 -8.949219 L 1.929688 -8.949219 L 1.929688 -7.683594 Z M 0.828125 0 L 0.828125 -6.480469 L 1.929688 -6.480469 L 1.929688 0 Z M 0.828125 0 \"/>\n",
       "</symbol>\n",
       "<symbol overflow=\"visible\" id=\"glyph0-9\">\n",
       "<path style=\"stroke:none;\" d=\"M 3.222656 -0.984375 L 3.382813 -0.0117188 C 3.070313 0.0507813 2.792969 0.0820313 2.550781 0.0859375 C 2.148438 0.0820313 1.839844 0.0234375 1.621094 -0.101563 C 1.398438 -0.226563 1.242188 -0.394531 1.15625 -0.601563 C 1.0625 -0.804688 1.019531 -1.238281 1.023438 -1.898438 L 1.023438 -5.628906 L 0.21875 -5.628906 L 0.21875 -6.480469 L 1.023438 -6.480469 L 1.023438 -8.085938 L 2.117188 -8.746094 L 2.117188 -6.480469 L 3.222656 -6.480469 L 3.222656 -5.628906 L 2.117188 -5.628906 L 2.117188 -1.835938 C 2.113281 -1.519531 2.132813 -1.320313 2.175781 -1.230469 C 2.210938 -1.140625 2.273438 -1.070313 2.363281 -1.019531 C 2.449219 -0.964844 2.578125 -0.9375 2.742188 -0.941406 C 2.859375 -0.9375 3.019531 -0.953125 3.222656 -0.984375 Z M 3.222656 -0.984375 \"/>\n",
       "</symbol>\n",
       "<symbol overflow=\"visible\" id=\"glyph0-10\">\n",
       "<path style=\"stroke:none;\" d=\"M 2.625 0 L 0.160156 -6.480469 L 1.320313 -6.480469 L 2.710938 -2.601563 C 2.859375 -2.179688 2.996094 -1.742188 3.125 -1.292969 C 3.21875 -1.632813 3.355469 -2.042969 3.535156 -2.527344 L 4.972656 -6.480469 L 6.101563 -6.480469 L 3.648438 0 Z M 2.625 0 \"/>\n",
       "</symbol>\n",
       "<symbol overflow=\"visible\" id=\"glyph0-11\">\n",
       "<path style=\"stroke:none;\" d=\"M 0.8125 0 L 0.8125 -6.480469 L 1.800781 -6.480469 L 1.800781 -5.5 C 2.050781 -5.957031 2.285156 -6.257813 2.5 -6.40625 C 2.710938 -6.550781 2.945313 -6.625 3.203125 -6.628906 C 3.570313 -6.625 3.945313 -6.507813 4.332031 -6.273438 L 3.953125 -5.253906 C 3.683594 -5.410156 3.414063 -5.488281 3.148438 -5.492188 C 2.90625 -5.488281 2.691406 -5.417969 2.5 -5.273438 C 2.308594 -5.128906 2.171875 -4.929688 2.09375 -4.675781 C 1.96875 -4.285156 1.910156 -3.855469 1.910156 -3.394531 L 1.910156 0 Z M 0.8125 0 \"/>\n",
       "</symbol>\n",
       "<symbol overflow=\"visible\" id=\"glyph0-12\">\n",
       "<path style=\"stroke:none;\" d=\"M 0.519531 -4.414063 C 0.515625 -5.46875 0.625 -6.320313 0.84375 -6.964844 C 1.0625 -7.609375 1.386719 -8.105469 1.816406 -8.457031 C 2.246094 -8.804688 2.785156 -8.980469 3.4375 -8.984375 C 3.914063 -8.980469 4.335938 -8.886719 4.699219 -8.695313 C 5.058594 -8.5 5.355469 -8.21875 5.59375 -7.859375 C 5.828125 -7.492188 6.015625 -7.050781 6.152344 -6.527344 C 6.285156 -6.003906 6.351563 -5.296875 6.355469 -4.414063 C 6.351563 -3.359375 6.242188 -2.511719 6.03125 -1.871094 C 5.8125 -1.222656 5.492188 -0.726563 5.0625 -0.375 C 4.632813 -0.0234375 4.089844 0.152344 3.4375 0.152344 C 2.570313 0.152344 1.890625 -0.15625 1.402344 -0.773438 C 0.808594 -1.515625 0.515625 -2.726563 0.519531 -4.414063 Z M 1.648438 -4.414063 C 1.644531 -2.941406 1.816406 -1.964844 2.164063 -1.480469 C 2.503906 -0.992188 2.929688 -0.75 3.4375 -0.75 C 3.9375 -0.75 4.359375 -0.992188 4.707031 -1.480469 C 5.050781 -1.96875 5.226563 -2.945313 5.226563 -4.414063 C 5.226563 -5.882813 5.050781 -6.863281 4.707031 -7.347656 C 4.359375 -7.832031 3.933594 -8.074219 3.425781 -8.074219 C 2.917969 -8.074219 2.515625 -7.859375 2.214844 -7.433594 C 1.835938 -6.886719 1.644531 -5.878906 1.648438 -4.414063 Z M 1.648438 -4.414063 \"/>\n",
       "</symbol>\n",
       "<symbol overflow=\"visible\" id=\"glyph0-13\">\n",
       "<path style=\"stroke:none;\" d=\"M 1.136719 0 L 1.136719 -1.25 L 2.386719 -1.25 L 2.386719 0 Z M 1.136719 0 \"/>\n",
       "</symbol>\n",
       "<symbol overflow=\"visible\" id=\"glyph0-14\">\n",
       "<path style=\"stroke:none;\" d=\"M 6.292969 -1.054688 L 6.292969 0 L 0.378906 0 C 0.367188 -0.265625 0.410156 -0.519531 0.507813 -0.761719 C 0.65625 -1.164063 0.898438 -1.558594 1.230469 -1.953125 C 1.558594 -2.339844 2.035156 -2.792969 2.667969 -3.308594 C 3.636719 -4.101563 4.292969 -4.734375 4.636719 -5.203125 C 4.976563 -5.667969 5.148438 -6.105469 5.152344 -6.523438 C 5.148438 -6.957031 4.992188 -7.324219 4.683594 -7.625 C 4.371094 -7.921875 3.96875 -8.074219 3.46875 -8.074219 C 2.9375 -8.074219 2.511719 -7.914063 2.195313 -7.597656 C 1.878906 -7.277344 1.71875 -6.839844 1.714844 -6.28125 L 0.585938 -6.398438 C 0.664063 -7.238281 0.953125 -7.878906 1.457031 -8.320313 C 1.960938 -8.761719 2.640625 -8.980469 3.492188 -8.984375 C 4.347656 -8.980469 5.023438 -8.742188 5.527344 -8.269531 C 6.027344 -7.789063 6.28125 -7.199219 6.28125 -6.5 C 6.28125 -6.140625 6.207031 -5.789063 6.058594 -5.445313 C 5.910156 -5.09375 5.664063 -4.730469 5.328125 -4.351563 C 4.984375 -3.964844 4.421875 -3.441406 3.636719 -2.777344 C 2.976563 -2.222656 2.554688 -1.84375 2.367188 -1.648438 C 2.179688 -1.449219 2.023438 -1.253906 1.90625 -1.054688 Z M 6.292969 -1.054688 \"/>\n",
       "</symbol>\n",
       "<symbol overflow=\"visible\" id=\"glyph0-15\">\n",
       "<path style=\"stroke:none;\" d=\"M 4.039063 0 L 4.039063 -2.140625 L 0.160156 -2.140625 L 0.160156 -3.148438 L 4.242188 -8.949219 L 5.140625 -8.949219 L 5.140625 -3.148438 L 6.347656 -3.148438 L 6.347656 -2.140625 L 5.140625 -2.140625 L 5.140625 0 Z M 4.039063 -3.148438 L 4.039063 -7.183594 L 1.238281 -3.148438 Z M 4.039063 -3.148438 \"/>\n",
       "</symbol>\n",
       "<symbol overflow=\"visible\" id=\"glyph0-16\">\n",
       "<path style=\"stroke:none;\" d=\"M 6.21875 -6.757813 L 5.125 -6.671875 C 5.027344 -7.097656 4.890625 -7.410156 4.710938 -7.609375 C 4.414063 -7.921875 4.046875 -8.078125 3.613281 -8.082031 C 3.261719 -8.078125 2.953125 -7.980469 2.691406 -7.789063 C 2.339844 -7.53125 2.066406 -7.164063 1.871094 -6.683594 C 1.667969 -6.195313 1.566406 -5.503906 1.5625 -4.613281 C 1.824219 -5.011719 2.148438 -5.3125 2.53125 -5.511719 C 2.914063 -5.703125 3.3125 -5.800781 3.734375 -5.804688 C 4.464844 -5.800781 5.089844 -5.53125 5.605469 -4.996094 C 6.117188 -4.453125 6.375 -3.757813 6.378906 -2.90625 C 6.375 -2.34375 6.253906 -1.820313 6.015625 -1.339844 C 5.769531 -0.855469 5.4375 -0.484375 5.015625 -0.230469 C 4.59375 0.0273438 4.113281 0.152344 3.578125 0.152344 C 2.660156 0.152344 1.914063 -0.183594 1.335938 -0.855469 C 0.757813 -1.527344 0.46875 -2.636719 0.46875 -4.1875 C 0.46875 -5.914063 0.789063 -7.171875 1.429688 -7.960938 C 1.984375 -8.640625 2.734375 -8.980469 3.679688 -8.984375 C 4.382813 -8.980469 4.957031 -8.785156 5.410156 -8.390625 C 5.855469 -7.996094 6.125 -7.449219 6.21875 -6.757813 Z M 1.734375 -2.898438 C 1.734375 -2.519531 1.8125 -2.15625 1.972656 -1.8125 C 2.132813 -1.460938 2.359375 -1.199219 2.648438 -1.019531 C 2.9375 -0.839844 3.238281 -0.75 3.558594 -0.75 C 4.019531 -0.75 4.417969 -0.9375 4.753906 -1.3125 C 5.082031 -1.6875 5.25 -2.195313 5.253906 -2.839844 C 5.25 -3.453125 5.085938 -3.941406 4.757813 -4.300781 C 4.429688 -4.65625 4.015625 -4.832031 3.515625 -4.835938 C 3.015625 -4.832031 2.59375 -4.65625 2.25 -4.300781 C 1.90625 -3.941406 1.734375 -3.472656 1.734375 -2.898438 Z M 1.734375 -2.898438 \"/>\n",
       "</symbol>\n",
       "<symbol overflow=\"visible\" id=\"glyph0-17\">\n",
       "<path style=\"stroke:none;\" d=\"M 2.210938 -4.851563 C 1.75 -5.015625 1.414063 -5.253906 1.195313 -5.566406 C 0.976563 -5.875 0.867188 -6.242188 0.867188 -6.675781 C 0.867188 -7.324219 1.097656 -7.871094 1.566406 -8.316406 C 2.03125 -8.757813 2.65625 -8.980469 3.4375 -8.984375 C 4.214844 -8.980469 4.84375 -8.753906 5.320313 -8.304688 C 5.796875 -7.847656 6.035156 -7.296875 6.035156 -6.648438 C 6.035156 -6.230469 5.925781 -5.867188 5.707031 -5.5625 C 5.488281 -5.25 5.15625 -5.015625 4.71875 -4.851563 C 5.265625 -4.671875 5.683594 -4.382813 5.972656 -3.984375 C 6.253906 -3.585938 6.398438 -3.109375 6.402344 -2.558594 C 6.398438 -1.789063 6.128906 -1.144531 5.589844 -0.628906 C 5.046875 -0.105469 4.332031 0.152344 3.453125 0.152344 C 2.566406 0.152344 1.855469 -0.105469 1.316406 -0.628906 C 0.773438 -1.148438 0.503906 -1.800781 0.507813 -2.585938 C 0.503906 -3.164063 0.652344 -3.652344 0.949219 -4.050781 C 1.242188 -4.441406 1.660156 -4.710938 2.210938 -4.851563 Z M 1.988281 -6.714844 C 1.984375 -6.289063 2.121094 -5.941406 2.398438 -5.675781 C 2.667969 -5.40625 3.023438 -5.273438 3.460938 -5.273438 C 3.878906 -5.273438 4.226563 -5.40625 4.5 -5.671875 C 4.769531 -5.9375 4.902344 -6.261719 4.90625 -6.652344 C 4.902344 -7.050781 4.765625 -7.390625 4.488281 -7.667969 C 4.207031 -7.941406 3.859375 -8.078125 3.449219 -8.082031 C 3.027344 -8.078125 2.679688 -7.945313 2.402344 -7.675781 C 2.125 -7.40625 1.984375 -7.085938 1.988281 -6.714844 Z M 1.636719 -2.582031 C 1.632813 -2.265625 1.707031 -1.960938 1.859375 -1.671875 C 2.003906 -1.375 2.226563 -1.148438 2.519531 -0.992188 C 2.8125 -0.828125 3.128906 -0.75 3.46875 -0.75 C 3.992188 -0.75 4.421875 -0.917969 4.765625 -1.257813 C 5.105469 -1.59375 5.277344 -2.023438 5.28125 -2.546875 C 5.277344 -3.074219 5.101563 -3.511719 4.75 -3.855469 C 4.394531 -4.199219 3.953125 -4.371094 3.429688 -4.375 C 2.910156 -4.371094 2.484375 -4.199219 2.144531 -3.863281 C 1.804688 -3.519531 1.632813 -3.09375 1.636719 -2.582031 Z M 1.636719 -2.582031 \"/>\n",
       "</symbol>\n",
       "<symbol overflow=\"visible\" id=\"glyph0-18\">\n",
       "<path style=\"stroke:none;\" d=\"M 4.65625 0 L 3.558594 0 L 3.558594 -7 C 3.289063 -6.746094 2.941406 -6.492188 2.515625 -6.242188 C 2.085938 -5.988281 1.703125 -5.800781 1.359375 -5.675781 L 1.359375 -6.738281 C 1.972656 -7.027344 2.507813 -7.375 2.972656 -7.789063 C 3.429688 -8.195313 3.757813 -8.59375 3.949219 -8.984375 L 4.65625 -8.984375 Z M 4.65625 0 \"/>\n",
       "</symbol>\n",
       "<symbol overflow=\"visible\" id=\"glyph1-0\">\n",
       "<path style=\"stroke:none;\" d=\"M 0 -3.242188 L -7.890625 -3.242188 L -7.890625 -0.292969 L -8.949219 -0.292969 L -8.949219 -7.386719 L -7.890625 -7.386719 L -7.890625 -4.425781 L 0 -4.425781 Z M 0 -3.242188 \"/>\n",
       "</symbol>\n",
       "<symbol overflow=\"visible\" id=\"glyph1-1\">\n",
       "<path style=\"stroke:none;\" d=\"M 0 -0.8125 L -6.480469 -0.8125 L -6.480469 -1.800781 L -5.5 -1.800781 C -5.957031 -2.050781 -6.257813 -2.285156 -6.40625 -2.5 C -6.550781 -2.710938 -6.625 -2.945313 -6.628906 -3.203125 C -6.625 -3.574219 -6.507813 -3.949219 -6.273438 -4.332031 L -5.253906 -3.957031 C -5.410156 -3.683594 -5.488281 -3.414063 -5.492188 -3.148438 C -5.488281 -2.90625 -5.417969 -2.691406 -5.273438 -2.5 C -5.128906 -2.308594 -4.929688 -2.171875 -4.675781 -2.09375 C -4.285156 -1.96875 -3.855469 -1.910156 -3.394531 -1.910156 L 0 -1.910156 Z M 0 -0.8125 \"/>\n",
       "</symbol>\n",
       "<symbol overflow=\"visible\" id=\"glyph1-2\">\n",
       "<path style=\"stroke:none;\" d=\"M 0 -5.070313 L -0.953125 -5.070313 C -0.21875 -4.5625 0.144531 -3.878906 0.148438 -3.015625 C 0.144531 -2.628906 0.0742188 -2.269531 -0.0703125 -1.941406 C -0.21875 -1.605469 -0.402344 -1.359375 -0.625 -1.203125 C -0.84375 -1.039063 -1.117188 -0.929688 -1.441406 -0.867188 C -1.65625 -0.820313 -1.996094 -0.796875 -2.464844 -0.800781 L -6.480469 -0.800781 L -6.480469 -1.898438 L -2.886719 -1.898438 C -2.3125 -1.898438 -1.925781 -1.917969 -1.726563 -1.964844 C -1.433594 -2.03125 -1.207031 -2.179688 -1.046875 -2.40625 C -0.878906 -2.628906 -0.796875 -2.90625 -0.800781 -3.234375 C -0.796875 -3.5625 -0.878906 -3.871094 -1.050781 -4.164063 C -1.214844 -4.449219 -1.445313 -4.652344 -1.742188 -4.777344 C -2.03125 -4.894531 -2.453125 -4.957031 -3.007813 -4.957031 L -6.480469 -4.957031 L -6.480469 -6.054688 L 0 -6.054688 Z M 0 -5.070313 \"/>\n",
       "</symbol>\n",
       "<symbol overflow=\"visible\" id=\"glyph1-3\">\n",
       "<path style=\"stroke:none;\" d=\"M -2.085938 -5.261719 L -1.945313 -6.398438 C -1.28125 -6.21875 -0.765625 -5.886719 -0.402344 -5.402344 C -0.0351563 -4.917969 0.144531 -4.296875 0.148438 -3.546875 C 0.144531 -2.59375 -0.144531 -1.84375 -0.726563 -1.289063 C -1.3125 -0.734375 -2.132813 -0.457031 -3.1875 -0.457031 C -4.273438 -0.457031 -5.117188 -0.734375 -5.722656 -1.296875 C -6.324219 -1.855469 -6.625 -2.585938 -6.628906 -3.484375 C -6.625 -4.347656 -6.332031 -5.054688 -5.742188 -5.609375 C -5.152344 -6.15625 -4.320313 -6.433594 -3.253906 -6.433594 C -3.183594 -6.433594 -3.085938 -6.429688 -2.960938 -6.425781 L -2.960938 -1.59375 C -2.242188 -1.632813 -1.699219 -1.832031 -1.324219 -2.195313 C -0.945313 -2.558594 -0.753906 -3.011719 -0.757813 -3.550781 C -0.753906 -3.953125 -0.859375 -4.296875 -1.074219 -4.582031 C -1.28125 -4.867188 -1.621094 -5.09375 -2.085938 -5.261719 Z M -3.863281 -1.652344 L -3.863281 -5.273438 C -4.402344 -5.222656 -4.8125 -5.082031 -5.089844 -4.859375 C -5.511719 -4.503906 -5.722656 -4.050781 -5.726563 -3.496094 C -5.722656 -2.992188 -5.554688 -2.570313 -5.21875 -2.226563 C -4.878906 -1.882813 -4.425781 -1.691406 -3.863281 -1.652344 Z M -3.863281 -1.652344 \"/>\n",
       "</symbol>\n",
       "<symbol overflow=\"visible\" id=\"glyph1-4\">\n",
       "<path style=\"stroke:none;\" d=\"\"/>\n",
       "</symbol>\n",
       "<symbol overflow=\"visible\" id=\"glyph1-5\">\n",
       "<path style=\"stroke:none;\" d=\"M 2.484375 -0.824219 L -6.480469 -0.824219 L -6.480469 -1.824219 L -5.640625 -1.824219 C -5.964844 -2.058594 -6.210938 -2.328125 -6.378906 -2.625 C -6.542969 -2.921875 -6.625 -3.28125 -6.628906 -3.703125 C -6.625 -4.257813 -6.484375 -4.746094 -6.199219 -5.167969 C -5.914063 -5.589844 -5.511719 -5.910156 -4.996094 -6.128906 C -4.476563 -6.34375 -3.90625 -6.449219 -3.289063 -6.453125 C -2.621094 -6.449219 -2.023438 -6.332031 -1.496094 -6.09375 C -0.964844 -5.855469 -0.558594 -5.507813 -0.277344 -5.054688 C 0.0078125 -4.597656 0.144531 -4.121094 0.148438 -3.625 C 0.144531 -3.257813 0.0703125 -2.929688 -0.0820313 -2.640625 C -0.238281 -2.347656 -0.433594 -2.109375 -0.671875 -1.921875 L 2.484375 -1.921875 Z M -3.203125 -1.820313 C -2.367188 -1.816406 -1.75 -1.984375 -1.355469 -2.324219 C -0.953125 -2.660156 -0.753906 -3.070313 -0.757813 -3.550781 C -0.753906 -4.039063 -0.960938 -4.457031 -1.375 -4.804688 C -1.785156 -5.152344 -2.425781 -5.324219 -3.296875 -5.328125 C -4.121094 -5.324219 -4.738281 -5.15625 -5.152344 -4.816406 C -5.558594 -4.476563 -5.765625 -4.070313 -5.769531 -3.601563 C -5.765625 -3.128906 -5.546875 -2.714844 -5.113281 -2.359375 C -4.671875 -1.996094 -4.035156 -1.816406 -3.203125 -1.820313 Z M -3.203125 -1.820313 \"/>\n",
       "</symbol>\n",
       "<symbol overflow=\"visible\" id=\"glyph1-6\">\n",
       "<path style=\"stroke:none;\" d=\"M -3.242188 -0.414063 C -4.4375 -0.410156 -5.328125 -0.746094 -5.90625 -1.417969 C -6.386719 -1.972656 -6.625 -2.648438 -6.628906 -3.453125 C -6.625 -4.34375 -6.332031 -5.074219 -5.75 -5.640625 C -5.164063 -6.203125 -4.359375 -6.484375 -3.332031 -6.488281 C -2.496094 -6.484375 -1.839844 -6.359375 -1.363281 -6.113281 C -0.882813 -5.859375 -0.511719 -5.496094 -0.25 -5.019531 C 0.015625 -4.539063 0.144531 -4.015625 0.148438 -3.453125 C 0.144531 -2.542969 -0.140625 -1.8125 -0.722656 -1.253906 C -1.300781 -0.691406 -2.140625 -0.410156 -3.242188 -0.414063 Z M -3.242188 -1.542969 C -2.40625 -1.539063 -1.785156 -1.722656 -1.375 -2.085938 C -0.960938 -2.445313 -0.753906 -2.898438 -0.757813 -3.453125 C -0.753906 -3.996094 -0.960938 -4.453125 -1.378906 -4.816406 C -1.789063 -5.175781 -2.421875 -5.355469 -3.277344 -5.359375 C -4.074219 -5.355469 -4.683594 -5.171875 -5.097656 -4.8125 C -5.511719 -4.445313 -5.71875 -3.992188 -5.71875 -3.453125 C -5.71875 -2.898438 -5.511719 -2.445313 -5.101563 -2.085938 C -4.6875 -1.722656 -4.066406 -1.539063 -3.242188 -1.542969 Z M -3.242188 -1.542969 \"/>\n",
       "</symbol>\n",
       "<symbol overflow=\"visible\" id=\"glyph1-7\">\n",
       "<path style=\"stroke:none;\" d=\"M -1.933594 -0.382813 L -2.105469 -1.472656 C -1.667969 -1.527344 -1.335938 -1.699219 -1.105469 -1.980469 C -0.871094 -2.257813 -0.753906 -2.644531 -0.757813 -3.148438 C -0.753906 -3.648438 -0.859375 -4.023438 -1.066406 -4.273438 C -1.269531 -4.515625 -1.507813 -4.640625 -1.789063 -4.640625 C -2.03125 -4.640625 -2.226563 -4.53125 -2.375 -4.316406 C -2.46875 -4.164063 -2.59375 -3.789063 -2.746094 -3.191406 C -2.945313 -2.382813 -3.121094 -1.824219 -3.273438 -1.515625 C -3.417969 -1.203125 -3.625 -0.96875 -3.890625 -0.808594 C -4.152344 -0.644531 -4.441406 -0.5625 -4.761719 -0.566406 C -5.046875 -0.5625 -5.3125 -0.628906 -5.5625 -0.765625 C -5.804688 -0.894531 -6.011719 -1.074219 -6.175781 -1.304688 C -6.300781 -1.472656 -6.40625 -1.707031 -6.496094 -2.003906 C -6.582031 -2.300781 -6.625 -2.617188 -6.628906 -2.953125 C -6.625 -3.460938 -6.550781 -3.90625 -6.40625 -4.292969 C -6.257813 -4.675781 -6.0625 -4.960938 -5.8125 -5.144531 C -5.5625 -5.328125 -5.226563 -5.453125 -4.808594 -5.523438 L -4.664063 -4.449219 C -4.996094 -4.394531 -5.253906 -4.253906 -5.445313 -4.023438 C -5.628906 -3.789063 -5.722656 -3.460938 -5.726563 -3.035156 C -5.722656 -2.527344 -5.640625 -2.164063 -5.476563 -1.953125 C -5.308594 -1.734375 -5.113281 -1.628906 -4.890625 -1.628906 C -4.746094 -1.628906 -4.617188 -1.671875 -4.503906 -1.765625 C -4.382813 -1.851563 -4.285156 -1.992188 -4.210938 -2.183594 C -4.167969 -2.292969 -4.074219 -2.617188 -3.929688 -3.15625 C -3.722656 -3.929688 -3.554688 -4.472656 -3.421875 -4.78125 C -3.289063 -5.085938 -3.09375 -5.324219 -2.84375 -5.503906 C -2.585938 -5.675781 -2.273438 -5.765625 -1.902344 -5.769531 C -1.535156 -5.765625 -1.191406 -5.65625 -0.867188 -5.445313 C -0.542969 -5.226563 -0.292969 -4.917969 -0.117188 -4.519531 C 0.0585938 -4.113281 0.144531 -3.660156 0.148438 -3.15625 C 0.144531 -2.308594 -0.0273438 -1.664063 -0.375 -1.226563 C -0.726563 -0.78125 -1.246094 -0.5 -1.933594 -0.382813 Z M -1.933594 -0.382813 \"/>\n",
       "</symbol>\n",
       "<symbol overflow=\"visible\" id=\"glyph1-8\">\n",
       "<path style=\"stroke:none;\" d=\"M -7.683594 -0.832031 L -8.949219 -0.832031 L -8.949219 -1.929688 L -7.683594 -1.929688 Z M 0 -0.828125 L -6.480469 -0.832031 L -6.480469 -1.929688 L 0 -1.929688 Z M 0 -0.828125 \"/>\n",
       "</symbol>\n",
       "<symbol overflow=\"visible\" id=\"glyph1-9\">\n",
       "<path style=\"stroke:none;\" d=\"M -0.984375 -3.222656 L -0.0117188 -3.382813 C 0.0507813 -3.070313 0.0820313 -2.792969 0.0859375 -2.550781 C 0.0820313 -2.148438 0.0234375 -1.839844 -0.101563 -1.621094 C -0.226563 -1.398438 -0.394531 -1.242188 -0.601563 -1.15625 C -0.804688 -1.0625 -1.238281 -1.019531 -1.898438 -1.027344 L -5.628906 -1.027344 L -5.628906 -0.21875 L -6.480469 -0.21875 L -6.480469 -1.027344 L -8.085938 -1.027344 L -8.746094 -2.117188 L -6.480469 -2.117188 L -6.480469 -3.222656 L -5.628906 -3.222656 L -5.628906 -2.117188 L -1.835938 -2.117188 C -1.519531 -2.113281 -1.320313 -2.132813 -1.230469 -2.175781 C -1.140625 -2.210938 -1.070313 -2.273438 -1.019531 -2.363281 C -0.964844 -2.449219 -0.9375 -2.578125 -0.941406 -2.742188 C -0.9375 -2.859375 -0.953125 -3.019531 -0.984375 -3.222656 Z M -0.984375 -3.222656 \"/>\n",
       "</symbol>\n",
       "<symbol overflow=\"visible\" id=\"glyph1-10\">\n",
       "<path style=\"stroke:none;\" d=\"M 0 -2.625 L -6.480469 -0.160156 L -6.480469 -1.320313 L -2.601563 -2.710938 C -2.179688 -2.859375 -1.742188 -2.996094 -1.292969 -3.125 C -1.632813 -3.21875 -2.042969 -3.355469 -2.527344 -3.535156 L -6.480469 -4.972656 L -6.480469 -6.101563 L 0 -3.648438 Z M 0 -2.625 \"/>\n",
       "</symbol>\n",
       "<symbol overflow=\"visible\" id=\"glyph1-11\">\n",
       "<path style=\"stroke:none;\" d=\"M -0.800781 -5.054688 C -0.453125 -4.644531 -0.207031 -4.253906 -0.0664063 -3.878906 C 0.078125 -3.5 0.144531 -3.09375 0.148438 -2.667969 C 0.144531 -1.949219 -0.0273438 -1.402344 -0.375 -1.023438 C -0.722656 -0.640625 -1.167969 -0.449219 -1.710938 -0.453125 C -2.023438 -0.449219 -2.3125 -0.523438 -2.578125 -0.667969 C -2.839844 -0.8125 -3.050781 -1 -3.210938 -1.234375 C -3.367188 -1.464844 -3.484375 -1.730469 -3.570313 -2.027344 C -3.625 -2.242188 -3.679688 -2.566406 -3.734375 -3.003906 C -3.835938 -3.886719 -3.964844 -4.539063 -4.113281 -4.960938 C -4.261719 -4.964844 -4.355469 -4.96875 -4.402344 -4.96875 C -4.84375 -4.96875 -5.160156 -4.863281 -5.347656 -4.65625 C -5.59375 -4.371094 -5.71875 -3.953125 -5.71875 -3.40625 C -5.71875 -2.882813 -5.625 -2.5 -5.445313 -2.257813 C -5.261719 -2.007813 -4.941406 -1.828125 -4.484375 -1.714844 L -4.632813 -0.640625 C -5.089844 -0.734375 -5.460938 -0.894531 -5.746094 -1.121094 C -6.027344 -1.339844 -6.246094 -1.664063 -6.398438 -2.089844 C -6.550781 -2.511719 -6.625 -3.003906 -6.628906 -3.566406 C -6.625 -4.117188 -6.5625 -4.566406 -6.433594 -4.914063 C -6.300781 -5.257813 -6.136719 -5.511719 -5.941406 -5.675781 C -5.742188 -5.835938 -5.492188 -5.949219 -5.195313 -6.019531 C -5.003906 -6.050781 -4.664063 -6.070313 -4.179688 -6.074219 L -2.714844 -6.074219 C -1.691406 -6.070313 -1.046875 -6.09375 -0.777344 -6.144531 C -0.503906 -6.1875 -0.246094 -6.28125 0 -6.421875 L 0 -5.273438 C -0.226563 -5.15625 -0.492188 -5.082031 -0.800781 -5.054688 Z M -3.253906 -4.960938 C -3.085938 -4.558594 -2.949219 -3.960938 -2.839844 -3.167969 C -2.773438 -2.714844 -2.699219 -2.394531 -2.617188 -2.210938 C -2.535156 -2.019531 -2.417969 -1.875 -2.261719 -1.777344 C -2.105469 -1.671875 -1.929688 -1.621094 -1.738281 -1.625 C -1.445313 -1.621094 -1.203125 -1.734375 -1.007813 -1.957031 C -0.8125 -2.175781 -0.714844 -2.5 -0.714844 -2.929688 C -0.714844 -3.351563 -0.804688 -3.726563 -0.992188 -4.058594 C -1.171875 -4.386719 -1.425781 -4.628906 -1.75 -4.785156 C -1.996094 -4.898438 -2.363281 -4.957031 -2.851563 -4.960938 Z M -3.253906 -4.960938 \"/>\n",
       "</symbol>\n",
       "<symbol overflow=\"visible\" id=\"glyph1-12\">\n",
       "<path style=\"stroke:none;\" d=\"M -4.414063 -0.519531 C -5.46875 -0.515625 -6.320313 -0.625 -6.964844 -0.84375 C -7.609375 -1.0625 -8.105469 -1.386719 -8.457031 -1.816406 C -8.804688 -2.246094 -8.980469 -2.785156 -8.984375 -3.4375 C -8.980469 -3.914063 -8.886719 -4.335938 -8.695313 -4.699219 C -8.5 -5.058594 -8.21875 -5.355469 -7.859375 -5.59375 C -7.492188 -5.828125 -7.050781 -6.015625 -6.527344 -6.152344 C -6.003906 -6.285156 -5.296875 -6.351563 -4.414063 -6.355469 C -3.359375 -6.351563 -2.511719 -6.242188 -1.871094 -6.03125 C -1.222656 -5.8125 -0.726563 -5.492188 -0.375 -5.0625 C -0.0234375 -4.632813 0.152344 -4.089844 0.152344 -3.4375 C 0.152344 -2.570313 -0.15625 -1.890625 -0.773438 -1.402344 C -1.515625 -0.808594 -2.726563 -0.515625 -4.414063 -0.519531 Z M -4.414063 -1.648438 C -2.941406 -1.644531 -1.964844 -1.816406 -1.480469 -2.164063 C -0.992188 -2.503906 -0.75 -2.929688 -0.75 -3.4375 C -0.75 -3.9375 -0.992188 -4.359375 -1.480469 -4.707031 C -1.96875 -5.050781 -2.945313 -5.226563 -4.414063 -5.226563 C -5.882813 -5.226563 -6.863281 -5.050781 -7.347656 -4.707031 C -7.832031 -4.359375 -8.074219 -3.933594 -8.074219 -3.425781 C -8.074219 -2.917969 -7.859375 -2.515625 -7.433594 -2.214844 C -6.886719 -1.835938 -5.878906 -1.644531 -4.414063 -1.648438 Z M -4.414063 -1.648438 \"/>\n",
       "</symbol>\n",
       "<symbol overflow=\"visible\" id=\"glyph1-13\">\n",
       "<path style=\"stroke:none;\" d=\"M 0 -1.136719 L -1.25 -1.136719 L -1.25 -2.386719 L 0 -2.386719 Z M 0 -1.136719 \"/>\n",
       "</symbol>\n",
       "<symbol overflow=\"visible\" id=\"glyph1-14\">\n",
       "<path style=\"stroke:none;\" d=\"M -1.054688 -6.292969 L 0 -6.292969 L 0 -0.378906 C -0.265625 -0.367188 -0.519531 -0.410156 -0.761719 -0.507813 C -1.164063 -0.65625 -1.558594 -0.898438 -1.953125 -1.230469 C -2.339844 -1.558594 -2.792969 -2.035156 -3.308594 -2.667969 C -4.101563 -3.636719 -4.734375 -4.292969 -5.203125 -4.636719 C -5.667969 -4.976563 -6.105469 -5.148438 -6.523438 -5.152344 C -6.957031 -5.148438 -7.324219 -4.992188 -7.625 -4.683594 C -7.921875 -4.371094 -8.074219 -3.96875 -8.074219 -3.46875 C -8.074219 -2.9375 -7.914063 -2.511719 -7.597656 -2.195313 C -7.277344 -1.878906 -6.839844 -1.71875 -6.28125 -1.714844 L -6.398438 -0.585938 C -7.238281 -0.664063 -7.878906 -0.953125 -8.320313 -1.457031 C -8.761719 -1.960938 -8.980469 -2.640625 -8.984375 -3.492188 C -8.980469 -4.347656 -8.742188 -5.023438 -8.269531 -5.527344 C -7.789063 -6.027344 -7.199219 -6.28125 -6.5 -6.28125 C -6.140625 -6.28125 -5.789063 -6.207031 -5.445313 -6.058594 C -5.09375 -5.910156 -4.730469 -5.664063 -4.351563 -5.328125 C -3.964844 -4.984375 -3.441406 -4.421875 -2.777344 -3.636719 C -2.222656 -2.976563 -1.84375 -2.554688 -1.648438 -2.367188 C -1.449219 -2.179688 -1.253906 -2.023438 -1.054688 -1.90625 Z M -1.054688 -6.292969 \"/>\n",
       "</symbol>\n",
       "<symbol overflow=\"visible\" id=\"glyph1-15\">\n",
       "<path style=\"stroke:none;\" d=\"M 0 -4.039063 L -2.140625 -4.039063 L -2.140625 -0.160156 L -3.148438 -0.160156 L -8.949219 -4.242188 L -8.949219 -5.140625 L -3.148438 -5.140625 L -3.148438 -6.347656 L -2.140625 -6.347656 L -2.140625 -5.140625 L 0 -5.140625 Z M -3.148438 -4.039063 L -7.183594 -4.039063 L -3.148438 -1.238281 Z M -3.148438 -4.039063 \"/>\n",
       "</symbol>\n",
       "<symbol overflow=\"visible\" id=\"glyph1-16\">\n",
       "<path style=\"stroke:none;\" d=\"M -6.757813 -6.21875 L -6.671875 -5.125 C -7.097656 -5.027344 -7.410156 -4.890625 -7.609375 -4.710938 C -7.921875 -4.414063 -8.078125 -4.046875 -8.082031 -3.613281 C -8.078125 -3.261719 -7.980469 -2.953125 -7.789063 -2.691406 C -7.53125 -2.339844 -7.164063 -2.066406 -6.683594 -1.871094 C -6.195313 -1.667969 -5.503906 -1.566406 -4.613281 -1.5625 C -5.011719 -1.824219 -5.3125 -2.148438 -5.511719 -2.53125 C -5.703125 -2.914063 -5.800781 -3.3125 -5.804688 -3.734375 C -5.800781 -4.464844 -5.53125 -5.089844 -4.996094 -5.605469 C -4.453125 -6.117188 -3.757813 -6.375 -2.90625 -6.378906 C -2.34375 -6.375 -1.820313 -6.253906 -1.339844 -6.015625 C -0.855469 -5.769531 -0.484375 -5.4375 -0.230469 -5.015625 C 0.0273438 -4.59375 0.152344 -4.113281 0.152344 -3.578125 C 0.152344 -2.660156 -0.183594 -1.914063 -0.855469 -1.335938 C -1.527344 -0.757813 -2.636719 -0.46875 -4.1875 -0.46875 C -5.914063 -0.46875 -7.171875 -0.789063 -7.960938 -1.429688 C -8.640625 -1.984375 -8.980469 -2.734375 -8.984375 -3.679688 C -8.980469 -4.382813 -8.785156 -4.957031 -8.390625 -5.410156 C -7.996094 -5.855469 -7.449219 -6.125 -6.757813 -6.21875 Z M -2.898438 -1.734375 C -2.519531 -1.734375 -2.15625 -1.8125 -1.8125 -1.972656 C -1.460938 -2.132813 -1.199219 -2.359375 -1.019531 -2.648438 C -0.839844 -2.9375 -0.75 -3.238281 -0.75 -3.558594 C -0.75 -4.019531 -0.9375 -4.417969 -1.3125 -4.753906 C -1.6875 -5.082031 -2.195313 -5.25 -2.839844 -5.253906 C -3.453125 -5.25 -3.941406 -5.085938 -4.300781 -4.757813 C -4.65625 -4.429688 -4.832031 -4.015625 -4.835938 -3.515625 C -4.832031 -3.015625 -4.65625 -2.59375 -4.300781 -2.25 C -3.941406 -1.90625 -3.472656 -1.734375 -2.898438 -1.734375 Z M -2.898438 -1.734375 \"/>\n",
       "</symbol>\n",
       "<symbol overflow=\"visible\" id=\"glyph1-17\">\n",
       "<path style=\"stroke:none;\" d=\"M -4.851563 -2.210938 C -5.015625 -1.75 -5.253906 -1.414063 -5.566406 -1.195313 C -5.875 -0.976563 -6.242188 -0.867188 -6.675781 -0.867188 C -7.324219 -0.867188 -7.871094 -1.097656 -8.316406 -1.566406 C -8.757813 -2.03125 -8.980469 -2.65625 -8.984375 -3.4375 C -8.980469 -4.214844 -8.753906 -4.84375 -8.304688 -5.320313 C -7.847656 -5.796875 -7.296875 -6.035156 -6.648438 -6.035156 C -6.230469 -6.035156 -5.867188 -5.925781 -5.5625 -5.707031 C -5.25 -5.488281 -5.015625 -5.15625 -4.851563 -4.71875 C -4.671875 -5.265625 -4.382813 -5.683594 -3.984375 -5.972656 C -3.585938 -6.253906 -3.109375 -6.398438 -2.558594 -6.402344 C -1.789063 -6.398438 -1.144531 -6.128906 -0.628906 -5.589844 C -0.105469 -5.046875 0.152344 -4.332031 0.152344 -3.453125 C 0.152344 -2.566406 -0.105469 -1.855469 -0.628906 -1.316406 C -1.148438 -0.773438 -1.800781 -0.503906 -2.585938 -0.507813 C -3.164063 -0.503906 -3.652344 -0.652344 -4.050781 -0.949219 C -4.441406 -1.242188 -4.710938 -1.660156 -4.851563 -2.210938 Z M -6.714844 -1.988281 C -6.289063 -1.984375 -5.941406 -2.121094 -5.675781 -2.398438 C -5.40625 -2.667969 -5.273438 -3.023438 -5.273438 -3.460938 C -5.273438 -3.878906 -5.40625 -4.226563 -5.671875 -4.5 C -5.9375 -4.769531 -6.261719 -4.902344 -6.652344 -4.90625 C -7.050781 -4.902344 -7.390625 -4.765625 -7.667969 -4.488281 C -7.941406 -4.207031 -8.078125 -3.859375 -8.082031 -3.449219 C -8.078125 -3.027344 -7.945313 -2.679688 -7.675781 -2.402344 C -7.40625 -2.125 -7.085938 -1.984375 -6.714844 -1.988281 Z M -2.582031 -1.636719 C -2.265625 -1.632813 -1.960938 -1.707031 -1.671875 -1.859375 C -1.375 -2.003906 -1.148438 -2.226563 -0.992188 -2.519531 C -0.828125 -2.8125 -0.75 -3.128906 -0.75 -3.46875 C -0.75 -3.992188 -0.917969 -4.421875 -1.257813 -4.765625 C -1.59375 -5.105469 -2.023438 -5.277344 -2.546875 -5.28125 C -3.074219 -5.277344 -3.511719 -5.101563 -3.855469 -4.75 C -4.199219 -4.394531 -4.371094 -3.953125 -4.375 -3.429688 C -4.371094 -2.910156 -4.199219 -2.484375 -3.863281 -2.144531 C -3.519531 -1.804688 -3.09375 -1.632813 -2.582031 -1.636719 Z M -2.582031 -1.636719 \"/>\n",
       "</symbol>\n",
       "<symbol overflow=\"visible\" id=\"glyph1-18\">\n",
       "<path style=\"stroke:none;\" d=\"M 0 -4.65625 L 0 -3.558594 L -7 -3.558594 C -6.746094 -3.289063 -6.492188 -2.941406 -6.242188 -2.515625 C -5.988281 -2.085938 -5.800781 -1.703125 -5.675781 -1.359375 L -6.738281 -1.359375 C -7.027344 -1.972656 -7.375 -2.507813 -7.789063 -2.972656 C -8.195313 -3.429688 -8.59375 -3.757813 -8.984375 -3.949219 L -8.984375 -4.65625 Z M 0 -4.65625 \"/>\n",
       "</symbol>\n",
       "</g>\n",
       "<clipPath id=\"clip1\">\n",
       "  <path d=\"M 59.039063 59.039063 L 474.757813 59.039063 L 474.757813 431.558594 L 59.039063 431.558594 Z M 59.039063 59.039063 \"/>\n",
       "</clipPath>\n",
       "</defs>\n",
       "<g id=\"surface143\">\n",
       "<rect x=\"0\" y=\"0\" width=\"504\" height=\"504\" style=\"fill:rgb(100%,100%,100%);fill-opacity:1;stroke:none;\"/>\n",
       "<g style=\"fill:rgb(0%,0%,0%);fill-opacity:1;\">\n",
       "  <use xlink:href=\"#glyph0-0\" x=\"215.679688\" y=\"486.71875\"/>\n",
       "  <use xlink:href=\"#glyph0-1\" x=\"223.315186\" y=\"486.71875\"/>\n",
       "  <use xlink:href=\"#glyph0-2\" x=\"230.26709\" y=\"486.71875\"/>\n",
       "  <use xlink:href=\"#glyph0-3\" x=\"233.044189\" y=\"486.71875\"/>\n",
       "  <use xlink:href=\"#glyph0-4\" x=\"239.294189\" y=\"486.71875\"/>\n",
       "  <use xlink:href=\"#glyph0-5\" x=\"246.246094\" y=\"486.71875\"/>\n",
       "  <use xlink:href=\"#glyph0-6\" x=\"249.718994\" y=\"486.71875\"/>\n",
       "  <use xlink:href=\"#glyph0-7\" x=\"256.670898\" y=\"486.71875\"/>\n",
       "  <use xlink:href=\"#glyph0-3\" x=\"263.622803\" y=\"486.71875\"/>\n",
       "  <use xlink:href=\"#glyph0-8\" x=\"269.872803\" y=\"486.71875\"/>\n",
       "  <use xlink:href=\"#glyph0-9\" x=\"272.649902\" y=\"486.71875\"/>\n",
       "  <use xlink:href=\"#glyph0-8\" x=\"276.122803\" y=\"486.71875\"/>\n",
       "  <use xlink:href=\"#glyph0-10\" x=\"278.899902\" y=\"486.71875\"/>\n",
       "  <use xlink:href=\"#glyph0-4\" x=\"285.149902\" y=\"486.71875\"/>\n",
       "  <use xlink:href=\"#glyph0-5\" x=\"292.101807\" y=\"486.71875\"/>\n",
       "  <use xlink:href=\"#glyph0-11\" x=\"295.574707\" y=\"486.71875\"/>\n",
       "  <use xlink:href=\"#glyph0-1\" x=\"299.737305\" y=\"486.71875\"/>\n",
       "  <use xlink:href=\"#glyph0-9\" x=\"306.689209\" y=\"486.71875\"/>\n",
       "  <use xlink:href=\"#glyph0-4\" x=\"310.162109\" y=\"486.71875\"/>\n",
       "</g>\n",
       "<g style=\"fill:rgb(0%,0%,0%);fill-opacity:1;\">\n",
       "  <use xlink:href=\"#glyph1-0\" x=\"14.398438\" y=\"293.085938\"/>\n",
       "  <use xlink:href=\"#glyph1-1\" x=\"14.398438\" y=\"285.450439\"/>\n",
       "  <use xlink:href=\"#glyph1-2\" x=\"14.398438\" y=\"281.287842\"/>\n",
       "  <use xlink:href=\"#glyph1-3\" x=\"14.398438\" y=\"274.335938\"/>\n",
       "  <use xlink:href=\"#glyph1-4\" x=\"14.398438\" y=\"267.384033\"/>\n",
       "  <use xlink:href=\"#glyph1-5\" x=\"14.398438\" y=\"263.911133\"/>\n",
       "  <use xlink:href=\"#glyph1-6\" x=\"14.398438\" y=\"256.959229\"/>\n",
       "  <use xlink:href=\"#glyph1-7\" x=\"14.398438\" y=\"250.007324\"/>\n",
       "  <use xlink:href=\"#glyph1-8\" x=\"14.398438\" y=\"243.757324\"/>\n",
       "  <use xlink:href=\"#glyph1-9\" x=\"14.398438\" y=\"240.980225\"/>\n",
       "  <use xlink:href=\"#glyph1-8\" x=\"14.398438\" y=\"237.507324\"/>\n",
       "  <use xlink:href=\"#glyph1-10\" x=\"14.398438\" y=\"234.730225\"/>\n",
       "  <use xlink:href=\"#glyph1-3\" x=\"14.398438\" y=\"228.480225\"/>\n",
       "  <use xlink:href=\"#glyph1-4\" x=\"14.398438\" y=\"221.52832\"/>\n",
       "  <use xlink:href=\"#glyph1-1\" x=\"14.398438\" y=\"218.05542\"/>\n",
       "  <use xlink:href=\"#glyph1-11\" x=\"14.398438\" y=\"213.892822\"/>\n",
       "  <use xlink:href=\"#glyph1-9\" x=\"14.398438\" y=\"206.940918\"/>\n",
       "  <use xlink:href=\"#glyph1-3\" x=\"14.398438\" y=\"203.468018\"/>\n",
       "</g>\n",
       "<path style=\"fill:none;stroke-width:1;stroke-linecap:round;stroke-linejoin:round;stroke:rgb(0%,0%,0%);stroke-opacity:1;stroke-miterlimit:10;\" d=\"M 74.398438 430.558594 L 458.398438 430.558594 \"/>\n",
       "<path style=\"fill:none;stroke-width:1;stroke-linecap:round;stroke-linejoin:round;stroke:rgb(0%,0%,0%);stroke-opacity:1;stroke-miterlimit:10;\" d=\"M 74.398438 430.558594 L 74.398438 437.761719 \"/>\n",
       "<path style=\"fill:none;stroke-width:1;stroke-linecap:round;stroke-linejoin:round;stroke:rgb(0%,0%,0%);stroke-opacity:1;stroke-miterlimit:10;\" d=\"M 151.199219 430.558594 L 151.199219 437.761719 \"/>\n",
       "<path style=\"fill:none;stroke-width:1;stroke-linecap:round;stroke-linejoin:round;stroke:rgb(0%,0%,0%);stroke-opacity:1;stroke-miterlimit:10;\" d=\"M 228 430.558594 L 228 437.761719 \"/>\n",
       "<path style=\"fill:none;stroke-width:1;stroke-linecap:round;stroke-linejoin:round;stroke:rgb(0%,0%,0%);stroke-opacity:1;stroke-miterlimit:10;\" d=\"M 304.800781 430.558594 L 304.800781 437.761719 \"/>\n",
       "<path style=\"fill:none;stroke-width:1;stroke-linecap:round;stroke-linejoin:round;stroke:rgb(0%,0%,0%);stroke-opacity:1;stroke-miterlimit:10;\" d=\"M 381.601563 430.558594 L 381.601563 437.761719 \"/>\n",
       "<path style=\"fill:none;stroke-width:1;stroke-linecap:round;stroke-linejoin:round;stroke:rgb(0%,0%,0%);stroke-opacity:1;stroke-miterlimit:10;\" d=\"M 458.398438 430.558594 L 458.398438 437.761719 \"/>\n",
       "<g style=\"fill:rgb(0%,0%,0%);fill-opacity:1;\">\n",
       "  <use xlink:href=\"#glyph0-12\" x=\"65.710938\" y=\"457.921875\"/>\n",
       "  <use xlink:href=\"#glyph0-13\" x=\"72.662842\" y=\"457.921875\"/>\n",
       "  <use xlink:href=\"#glyph0-12\" x=\"76.135742\" y=\"457.921875\"/>\n",
       "</g>\n",
       "<g style=\"fill:rgb(0%,0%,0%);fill-opacity:1;\">\n",
       "  <use xlink:href=\"#glyph0-12\" x=\"142.511719\" y=\"457.921875\"/>\n",
       "  <use xlink:href=\"#glyph0-13\" x=\"149.463623\" y=\"457.921875\"/>\n",
       "  <use xlink:href=\"#glyph0-14\" x=\"152.936523\" y=\"457.921875\"/>\n",
       "</g>\n",
       "<g style=\"fill:rgb(0%,0%,0%);fill-opacity:1;\">\n",
       "  <use xlink:href=\"#glyph0-12\" x=\"219.3125\" y=\"457.921875\"/>\n",
       "  <use xlink:href=\"#glyph0-13\" x=\"226.264404\" y=\"457.921875\"/>\n",
       "  <use xlink:href=\"#glyph0-15\" x=\"229.737305\" y=\"457.921875\"/>\n",
       "</g>\n",
       "<g style=\"fill:rgb(0%,0%,0%);fill-opacity:1;\">\n",
       "  <use xlink:href=\"#glyph0-12\" x=\"296.113281\" y=\"457.921875\"/>\n",
       "  <use xlink:href=\"#glyph0-13\" x=\"303.065186\" y=\"457.921875\"/>\n",
       "  <use xlink:href=\"#glyph0-16\" x=\"306.538086\" y=\"457.921875\"/>\n",
       "</g>\n",
       "<g style=\"fill:rgb(0%,0%,0%);fill-opacity:1;\">\n",
       "  <use xlink:href=\"#glyph0-12\" x=\"372.914063\" y=\"457.921875\"/>\n",
       "  <use xlink:href=\"#glyph0-13\" x=\"379.865967\" y=\"457.921875\"/>\n",
       "  <use xlink:href=\"#glyph0-17\" x=\"383.338867\" y=\"457.921875\"/>\n",
       "</g>\n",
       "<g style=\"fill:rgb(0%,0%,0%);fill-opacity:1;\">\n",
       "  <use xlink:href=\"#glyph0-18\" x=\"449.710938\" y=\"457.921875\"/>\n",
       "  <use xlink:href=\"#glyph0-13\" x=\"456.662842\" y=\"457.921875\"/>\n",
       "  <use xlink:href=\"#glyph0-12\" x=\"460.135742\" y=\"457.921875\"/>\n",
       "</g>\n",
       "<path style=\"fill:none;stroke-width:1;stroke-linecap:round;stroke-linejoin:round;stroke:rgb(0%,0%,0%);stroke-opacity:1;stroke-miterlimit:10;\" d=\"M 59.039063 416.800781 L 59.039063 72.800781 \"/>\n",
       "<path style=\"fill:none;stroke-width:1;stroke-linecap:round;stroke-linejoin:round;stroke:rgb(0%,0%,0%);stroke-opacity:1;stroke-miterlimit:10;\" d=\"M 59.039063 416.800781 L 51.839844 416.800781 \"/>\n",
       "<path style=\"fill:none;stroke-width:1;stroke-linecap:round;stroke-linejoin:round;stroke:rgb(0%,0%,0%);stroke-opacity:1;stroke-miterlimit:10;\" d=\"M 59.039063 348 L 51.839844 348 \"/>\n",
       "<path style=\"fill:none;stroke-width:1;stroke-linecap:round;stroke-linejoin:round;stroke:rgb(0%,0%,0%);stroke-opacity:1;stroke-miterlimit:10;\" d=\"M 59.039063 279.199219 L 51.839844 279.199219 \"/>\n",
       "<path style=\"fill:none;stroke-width:1;stroke-linecap:round;stroke-linejoin:round;stroke:rgb(0%,0%,0%);stroke-opacity:1;stroke-miterlimit:10;\" d=\"M 59.039063 210.398438 L 51.839844 210.398438 \"/>\n",
       "<path style=\"fill:none;stroke-width:1;stroke-linecap:round;stroke-linejoin:round;stroke:rgb(0%,0%,0%);stroke-opacity:1;stroke-miterlimit:10;\" d=\"M 59.039063 141.601563 L 51.839844 141.601563 \"/>\n",
       "<path style=\"fill:none;stroke-width:1;stroke-linecap:round;stroke-linejoin:round;stroke:rgb(0%,0%,0%);stroke-opacity:1;stroke-miterlimit:10;\" d=\"M 59.039063 72.800781 L 51.839844 72.800781 \"/>\n",
       "<g style=\"fill:rgb(0%,0%,0%);fill-opacity:1;\">\n",
       "  <use xlink:href=\"#glyph1-12\" x=\"43.199219\" y=\"425.488281\"/>\n",
       "  <use xlink:href=\"#glyph1-13\" x=\"43.199219\" y=\"418.536377\"/>\n",
       "  <use xlink:href=\"#glyph1-12\" x=\"43.199219\" y=\"415.063477\"/>\n",
       "</g>\n",
       "<g style=\"fill:rgb(0%,0%,0%);fill-opacity:1;\">\n",
       "  <use xlink:href=\"#glyph1-12\" x=\"43.199219\" y=\"356.6875\"/>\n",
       "  <use xlink:href=\"#glyph1-13\" x=\"43.199219\" y=\"349.735596\"/>\n",
       "  <use xlink:href=\"#glyph1-14\" x=\"43.199219\" y=\"346.262695\"/>\n",
       "</g>\n",
       "<g style=\"fill:rgb(0%,0%,0%);fill-opacity:1;\">\n",
       "  <use xlink:href=\"#glyph1-12\" x=\"43.199219\" y=\"287.886719\"/>\n",
       "  <use xlink:href=\"#glyph1-13\" x=\"43.199219\" y=\"280.934814\"/>\n",
       "  <use xlink:href=\"#glyph1-15\" x=\"43.199219\" y=\"277.461914\"/>\n",
       "</g>\n",
       "<g style=\"fill:rgb(0%,0%,0%);fill-opacity:1;\">\n",
       "  <use xlink:href=\"#glyph1-12\" x=\"43.199219\" y=\"219.085938\"/>\n",
       "  <use xlink:href=\"#glyph1-13\" x=\"43.199219\" y=\"212.134033\"/>\n",
       "  <use xlink:href=\"#glyph1-16\" x=\"43.199219\" y=\"208.661133\"/>\n",
       "</g>\n",
       "<g style=\"fill:rgb(0%,0%,0%);fill-opacity:1;\">\n",
       "  <use xlink:href=\"#glyph1-12\" x=\"43.199219\" y=\"150.289063\"/>\n",
       "  <use xlink:href=\"#glyph1-13\" x=\"43.199219\" y=\"143.337158\"/>\n",
       "  <use xlink:href=\"#glyph1-17\" x=\"43.199219\" y=\"139.864258\"/>\n",
       "</g>\n",
       "<g style=\"fill:rgb(0%,0%,0%);fill-opacity:1;\">\n",
       "  <use xlink:href=\"#glyph1-18\" x=\"43.199219\" y=\"81.488281\"/>\n",
       "  <use xlink:href=\"#glyph1-13\" x=\"43.199219\" y=\"74.536377\"/>\n",
       "  <use xlink:href=\"#glyph1-12\" x=\"43.199219\" y=\"71.063477\"/>\n",
       "</g>\n",
       "<path style=\"fill:none;stroke-width:1;stroke-linecap:round;stroke-linejoin:round;stroke:rgb(0%,0%,0%);stroke-opacity:1;stroke-miterlimit:10;\" d=\"M 59.039063 430.558594 L 473.761719 430.558594 L 473.761719 59.039063 L 59.039063 59.039063 L 59.039063 430.558594 \"/>\n",
       "<g clip-path=\"url(#clip1)\" clip-rule=\"nonzero\">\n",
       "<path style=\"fill:none;stroke-width:1;stroke-linecap:round;stroke-linejoin:round;stroke:rgb(0%,0%,0%);stroke-opacity:1;stroke-miterlimit:10;\" d=\"M 74.398438 416.800781 L 74.398438 353.617188 L 74.410156 353.617188 L 74.410156 327.875 L 74.417969 327.640625 L 74.417969 318.75 L 74.425781 318.28125 L 74.425781 315.707031 L 74.433594 315.707031 L 74.433594 311.492188 L 74.441406 311.261719 L 74.441406 308.21875 L 74.449219 308.21875 L 74.449219 307.046875 L 74.457031 307.046875 L 74.457031 303.304688 L 74.46875 303.304688 L 74.46875 291.835938 L 74.476563 291.835938 L 74.476563 290.199219 L 74.484375 290.199219 L 74.484375 289.496094 L 74.507813 289.261719 L 74.507813 288.558594 L 74.515625 288.558594 L 74.515625 287.625 L 74.523438 287.15625 L 74.523438 286.21875 L 74.535156 285.988281 L 74.535156 284.347656 L 74.542969 284.113281 L 74.542969 281.773438 L 74.550781 281.539063 L 74.550781 281.070313 L 74.558594 281.070313 L 74.558594 280.371094 L 74.566406 280.136719 L 74.566406 277.328125 L 74.574219 276.859375 L 74.582031 276.859375 L 74.582031 276.15625 L 74.59375 275.921875 L 74.59375 274.753906 L 74.601563 274.519531 L 74.601563 273.582031 L 74.609375 273.582031 L 74.609375 272.414063 L 74.617188 272.414063 L 74.617188 269.371094 L 74.625 269.136719 L 74.625 267.03125 L 74.632813 266.5625 L 74.632813 265.859375 L 74.640625 265.628906 L 74.652344 265.628906 L 74.660156 265.394531 L 74.660156 265.160156 L 74.667969 264.925781 L 74.667969 262.117188 L 74.675781 261.882813 L 74.691406 261.882813 L 74.699219 261.414063 L 74.699219 260.246094 L 74.710938 260.011719 L 74.71875 259.777344 L 74.71875 259.308594 L 74.726563 259.308594 L 74.726563 257.90625 L 74.734375 257.90625 L 74.734375 257.203125 L 74.742188 257.203125 L 74.742188 256.5 L 74.757813 256.03125 L 74.757813 255.097656 L 74.777344 253.925781 L 74.777344 251.117188 L 74.785156 250.882813 L 74.785156 250.648438 L 74.792969 249.714844 L 74.792969 248.777344 L 74.800781 248.542969 L 74.808594 248.542969 L 74.808594 247.375 L 74.816406 246.90625 L 74.816406 246.671875 L 74.824219 246.671875 L 74.824219 245.734375 L 74.835938 245.269531 L 74.835938 244.097656 L 74.851563 243.394531 L 74.851563 242.929688 L 74.859375 242.929688 L 74.859375 241.523438 L 74.867188 241.523438 L 74.875 240.820313 L 74.875 238.480469 L 74.882813 238.480469 L 74.882813 236.609375 L 74.894531 236.140625 L 74.894531 235.441406 L 74.902344 235.441406 L 74.910156 234.972656 L 74.910156 234.269531 L 74.917969 234.269531 L 74.917969 232.164063 L 74.925781 231.929688 L 74.933594 231.929688 L 74.933594 230.058594 L 74.953125 229.824219 L 74.953125 228.886719 L 74.96875 228.183594 L 74.96875 227.25 L 74.976563 227.25 L 74.976563 224.207031 L 74.984375 224.207031 L 74.984375 223.035156 L 74.992188 223.035156 L 74.992188 222.101563 L 75 222.101563 L 75 221.632813 L 75.011719 221.398438 L 75.019531 221.164063 L 75.019531 220.460938 L 75.042969 219.996094 L 75.042969 219.761719 L 75.050781 219.761719 L 75.050781 218.824219 L 75.058594 217.886719 L 75.058594 217.65625 L 75.070313 217.1875 L 75.070313 216.953125 L 75.078125 216.484375 L 75.078125 215.78125 L 75.085938 215.78125 L 75.085938 214.613281 L 75.09375 214.613281 L 75.101563 214.378906 L 75.101563 213.207031 L 75.109375 213.207031 L 75.109375 212.972656 L 75.117188 212.972656 L 75.117188 212.738281 L 75.125 212.507813 L 75.136719 212.273438 L 75.144531 212.273438 L 75.144531 211.804688 L 75.152344 211.804688 L 75.152344 211.335938 L 75.175781 211.335938 L 75.175781 210.632813 L 75.195313 210.632813 L 75.203125 210.398438 L 75.203125 208.996094 L 75.210938 208.996094 L 75.21875 208.527344 L 75.21875 208.292969 L 75.226563 208.058594 L 75.234375 208.058594 L 75.234375 207.125 L 75.269531 207.125 L 75.269531 206.890625 L 75.277344 206.421875 L 75.277344 205.953125 L 75.300781 205.953125 L 75.300781 205.71875 L 75.335938 205.71875 L 75.335938 205.484375 L 75.34375 205.484375 L 75.351563 205.25 L 75.371094 205.25 L 75.371094 205.019531 L 75.378906 205.019531 L 75.386719 204.785156 L 75.394531 204.785156 L 75.402344 204.550781 L 75.425781 204.550781 L 75.445313 204.316406 L 75.445313 204.082031 L 75.453125 203.847656 L 75.453125 203.613281 L 75.460938 203.378906 L 75.460938 202.910156 L 75.46875 202.910156 L 75.46875 202.675781 L 75.476563 202.445313 L 75.484375 202.445313 L 75.503906 201.976563 L 75.511719 201.742188 L 75.511719 199.871094 L 75.554688 199.871094 L 75.554688 198.699219 L 75.570313 198.464844 L 75.578125 198.464844 L 75.578125 198.230469 L 75.585938 198.230469 L 75.585938 197.761719 L 75.59375 197.527344 L 75.59375 197.0625 L 75.601563 197.0625 L 75.613281 196.828125 L 75.613281 196.59375 L 75.628906 196.59375 L 75.628906 194.253906 L 75.644531 194.019531 L 75.652344 194.019531 L 75.660156 193.785156 L 75.660156 191.679688 L 75.671875 191.679688 L 75.671875 190.976563 L 75.6875 189.808594 L 75.695313 189.808594 L 75.695313 189.105469 L 75.703125 189.105469 L 75.710938 188.871094 L 75.710938 187.933594 L 75.71875 187.933594 L 75.726563 187.699219 L 75.726563 187.464844 L 75.738281 186.765625 L 75.746094 186.765625 L 75.753906 186.53125 L 75.769531 186.53125 L 75.769531 186.296875 L 75.785156 186.0625 L 75.785156 185.828125 L 75.796875 185.828125 L 75.796875 185.125 L 75.804688 184.890625 L 75.804688 184.191406 L 75.828125 184.191406 L 75.828125 183.957031 L 75.835938 183.722656 L 75.878906 183.722656 L 75.886719 183.488281 L 75.914063 183.253906 L 75.921875 183.253906 L 75.921875 183.019531 L 75.929688 182.785156 L 75.929688 182.550781 L 75.9375 182.320313 L 75.945313 182.320313 L 75.945313 182.085938 L 75.953125 182.085938 L 75.953125 181.851563 L 75.960938 181.382813 L 75.996094 181.382813 L 76.011719 180.914063 L 76.027344 180.914063 L 76.039063 179.976563 L 76.039063 179.746094 L 76.046875 179.511719 L 76.046875 179.277344 L 76.054688 179.277344 L 76.054688 179.042969 L 76.078125 179.042969 L 76.078125 178.574219 L 76.085938 178.574219 L 76.085938 178.339844 L 76.121094 178.339844 L 76.121094 178.105469 L 76.128906 178.105469 L 76.128906 177.636719 L 76.136719 177.636719 L 76.15625 177.402344 L 76.171875 177.402344 L 76.179688 177.171875 L 76.179688 176.46875 L 76.195313 176.46875 L 76.203125 176.234375 L 76.214844 175.765625 L 76.214844 174.828125 L 76.230469 174.828125 L 76.246094 174.363281 L 76.246094 174.128906 L 76.253906 173.660156 L 76.253906 173.191406 L 76.261719 173.191406 L 76.261719 172.722656 L 76.28125 172.722656 L 76.296875 172.488281 L 76.304688 172.488281 L 76.304688 172.253906 L 76.3125 172.253906 L 76.320313 172.023438 L 76.347656 172.023438 L 76.363281 171.554688 L 76.363281 170.617188 L 76.371094 170.382813 L 76.371094 170.148438 L 76.386719 170.148438 L 76.386719 169.914063 L 76.429688 169.914063 L 76.429688 169.679688 L 76.4375 169.449219 L 76.445313 169.214844 L 76.445313 168.980469 L 76.457031 168.980469 L 76.464844 168.746094 L 76.472656 168.746094 L 76.472656 168.511719 L 76.480469 168.511719 L 76.480469 168.277344 L 76.496094 168.042969 L 76.503906 168.042969 L 76.515625 167.574219 L 76.523438 167.574219 L 76.523438 167.339844 L 76.546875 167.109375 L 76.546875 166.875 L 76.554688 166.875 L 76.554688 166.640625 L 76.5625 166.171875 L 76.582031 166.171875 L 76.613281 164.765625 L 76.613281 164.535156 L 76.6875 164.535156 L 76.6875 164.300781 L 76.722656 164.300781 L 76.738281 164.066406 L 76.746094 163.832031 L 76.757813 163.597656 L 76.773438 163.363281 L 76.773438 162.425781 L 76.78125 162.425781 L 76.78125 161.726563 L 76.789063 161.726563 L 76.789063 161.257813 L 76.832031 161.257813 L 76.839844 161.023438 L 76.929688 161.023438 L 76.949219 160.789063 L 76.988281 160.789063 L 77 160.554688 L 77.023438 160.554688 L 77.023438 160.320313 L 77.066406 160.320313 L 77.066406 160.085938 L 77.082031 160.085938 L 77.089844 159.386719 L 77.148438 159.386719 L 77.148438 159.152344 L 77.164063 159.152344 L 77.164063 158.449219 L 77.175781 158.449219 L 77.175781 158.214844 L 77.183594 158.214844 L 77.214844 157.746094 L 77.257813 157.746094 L 77.257813 157.511719 L 77.273438 157.277344 L 77.28125 157.042969 L 77.316406 157.042969 L 77.324219 156.8125 L 77.332031 156.578125 L 77.339844 156.578125 L 77.339844 156.34375 L 77.375 156.34375 L 77.382813 156.109375 L 77.425781 156.109375 L 77.425781 155.875 L 77.449219 155.875 L 77.476563 155.640625 L 77.492188 155.640625 L 77.492188 155.40625 L 77.507813 155.40625 L 77.507813 155.171875 L 77.632813 155.171875 L 77.648438 154.472656 L 77.648438 154.238281 L 77.660156 154.238281 L 77.675781 154.003906 L 77.691406 154.003906 L 77.691406 153.769531 L 77.808594 153.769531 L 77.832031 153.535156 L 77.851563 153.535156 L 77.859375 153.300781 L 77.867188 153.300781 L 77.867188 153.066406 L 77.875 153.066406 L 77.875 152.597656 L 77.910156 152.597656 L 77.925781 152.363281 L 77.925781 152.128906 L 77.949219 151.898438 L 77.960938 151.898438 L 77.960938 151.664063 L 77.984375 151.195313 L 78.019531 151.195313 L 78.035156 150.960938 L 78.035156 150.726563 L 78.042969 150.726563 L 78.042969 150.257813 L 78.066406 150.257813 L 78.078125 150.023438 L 78.078125 149.789063 L 78.085938 149.789063 L 78.085938 149.554688 L 78.109375 149.554688 L 78.109375 149.324219 L 78.132813 149.324219 L 78.144531 149.089844 L 78.152344 149.089844 L 78.183594 148.621094 L 78.210938 148.386719 L 78.234375 148.386719 L 78.25 147.683594 L 78.261719 147.449219 L 78.269531 147.449219 L 78.269531 147.214844 L 78.300781 146.980469 L 78.300781 146.75 L 78.320313 146.75 L 78.320313 146.515625 L 78.335938 146.28125 L 78.425781 146.28125 L 78.425781 145.8125 L 78.433594 145.578125 L 78.445313 145.34375 L 78.460938 145.34375 L 78.476563 145.109375 L 78.492188 145.109375 L 78.492188 144.875 L 78.5625 144.875 L 78.59375 144.640625 L 78.609375 144.40625 L 78.609375 144.175781 L 78.628906 144.175781 L 78.660156 143.707031 L 78.660156 143.238281 L 78.695313 143.003906 L 78.703125 143.003906 L 78.710938 142.769531 L 78.71875 142.769531 L 78.761719 142.535156 L 78.851563 142.535156 L 78.871094 142.066406 L 78.871094 141.835938 L 78.878906 141.835938 L 78.894531 141.601563 L 78.996094 141.601563 L 78.996094 141.367188 L 79.046875 141.132813 L 79.046875 140.898438 L 79.054688 140.664063 L 79.0625 140.664063 L 79.09375 140.429688 L 79.152344 140.429688 L 79.152344 140.195313 L 79.171875 139.960938 L 79.171875 139.726563 L 79.210938 139.726563 L 79.210938 139.492188 L 79.238281 139.492188 L 79.238281 139.261719 L 79.371094 139.261719 L 79.371094 138.792969 L 79.394531 138.792969 L 79.394531 138.324219 L 79.464844 138.324219 L 79.464844 138.089844 L 79.496094 137.855469 L 79.523438 137.855469 L 79.523438 137.621094 L 79.554688 137.621094 L 79.570313 137.152344 L 79.707031 137.152344 L 79.707031 136.917969 L 79.730469 136.917969 L 79.738281 136.6875 L 79.78125 136.6875 L 79.796875 136.453125 L 79.855469 136.453125 L 79.882813 136.21875 L 79.921875 136.21875 L 79.921875 135.75 L 79.957031 135.75 L 79.972656 135.515625 L 80.054688 135.515625 L 80.054688 135.28125 L 80.148438 135.28125 L 80.15625 135.046875 L 80.207031 135.046875 L 80.207031 134.8125 L 80.273438 134.8125 L 80.28125 134.578125 L 80.324219 134.578125 L 80.339844 134.34375 L 80.339844 134.113281 L 80.472656 134.113281 L 80.484375 133.878906 L 80.507813 133.878906 L 80.515625 133.410156 L 80.609375 133.410156 L 80.609375 133.175781 L 80.808594 133.175781 L 80.832031 132.941406 L 80.859375 132.707031 L 80.882813 132.707031 L 80.917969 132.472656 L 80.941406 132.472656 L 80.949219 132.238281 L 81 132.238281 L 81 132.003906 L 81.007813 131.769531 L 81.042969 131.304688 L 81.050781 131.304688 L 81.085938 131.070313 L 81.101563 131.070313 L 81.109375 130.132813 L 81.109375 129.898438 L 81.117188 129.429688 L 81.191406 129.429688 L 81.21875 129.199219 L 81.226563 129.199219 L 81.25 128.964844 L 81.269531 128.964844 L 81.292969 128.730469 L 81.316406 128.730469 L 81.328125 128.496094 L 81.34375 128.496094 L 81.402344 128.261719 L 81.410156 128.027344 L 81.433594 128.027344 L 81.453125 127.792969 L 81.476563 127.792969 L 81.476563 127.558594 L 81.511719 127.558594 L 81.535156 126.855469 L 81.542969 126.625 L 81.558594 126.390625 L 81.617188 126.390625 L 81.6875 126.15625 L 81.769531 126.15625 L 81.785156 125.921875 L 81.851563 125.921875 L 81.851563 125.6875 L 81.894531 125.6875 L 81.929688 125.21875 L 82.003906 125.21875 L 82.011719 124.984375 L 82.070313 124.984375 L 82.101563 124.515625 L 82.171875 124.515625 L 82.179688 124.28125 L 82.179688 124.050781 L 82.210938 124.050781 L 82.230469 123.816406 L 82.238281 123.816406 L 82.238281 123.582031 L 82.246094 123.582031 L 82.269531 123.113281 L 82.378906 123.113281 L 82.414063 122.878906 L 82.546875 122.878906 L 82.546875 122.644531 L 82.714844 122.644531 L 82.714844 122.410156 L 82.753906 122.410156 L 82.753906 122.175781 L 82.761719 122.175781 L 82.789063 121.941406 L 83.0625 121.941406 L 83.121094 121.476563 L 83.132813 121.242188 L 83.316406 121.242188 L 83.324219 121.007813 L 83.332031 121.007813 L 83.332031 120.539063 L 83.375 120.539063 L 83.382813 120.304688 L 83.390625 120.304688 L 83.414063 119.835938 L 83.449219 119.835938 L 83.457031 119.601563 L 83.472656 119.601563 L 83.5 119.367188 L 83.53125 119.367188 L 83.589844 119.132813 L 83.65625 119.132813 L 83.664063 118.902344 L 83.675781 118.667969 L 83.691406 118.667969 L 83.707031 118.433594 L 83.765625 118.433594 L 83.792969 118.199219 L 83.816406 118.199219 L 83.816406 117.964844 L 83.925781 117.964844 L 83.976563 117.730469 L 84.066406 117.730469 L 84.117188 117.496094 L 84.125 117.261719 L 84.140625 117.261719 L 84.175781 117.027344 L 84.257813 117.027344 L 84.265625 116.792969 L 84.316406 116.792969 L 84.316406 116.558594 L 84.34375 116.328125 L 84.402344 116.328125 L 84.433594 116.09375 L 84.535156 116.09375 L 84.542969 115.859375 L 84.550781 115.859375 L 84.558594 115.625 L 84.585938 115.625 L 84.59375 115.390625 L 84.617188 115.390625 L 84.683594 115.15625 L 84.734375 115.15625 L 84.742188 114.921875 L 84.800781 114.6875 L 84.894531 114.6875 L 84.894531 114.453125 L 84.917969 114.21875 L 84.9375 113.988281 L 84.953125 113.988281 L 84.960938 113.753906 L 84.976563 113.753906 L 85.011719 113.519531 L 85.035156 113.519531 L 85.09375 113.285156 L 85.21875 113.285156 L 85.21875 113.050781 L 85.226563 112.816406 L 85.285156 112.582031 L 85.410156 112.582031 L 85.410156 112.347656 L 85.421875 112.113281 L 85.511719 112.113281 L 85.539063 111.878906 L 85.5625 111.644531 L 85.886719 111.644531 L 85.90625 111.414063 L 85.929688 111.414063 L 85.964844 110.710938 L 86.089844 110.710938 L 86.113281 110.476563 L 86.246094 110.476563 L 86.246094 110.242188 L 86.507813 110.242188 L 86.507813 110.007813 L 86.648438 110.007813 L 86.671875 109.773438 L 86.691406 109.773438 L 86.722656 109.539063 L 86.789063 109.539063 L 86.816406 109.304688 L 86.992188 109.304688 L 87.03125 109.070313 L 87.050781 109.070313 L 87.050781 108.839844 L 87.109375 108.839844 L 87.148438 108.605469 L 87.183594 108.605469 L 87.207031 108.371094 L 87.285156 108.371094 L 87.285156 108.136719 L 87.324219 108.136719 L 87.382813 107.902344 L 87.441406 107.902344 L 87.535156 107.667969 L 87.867188 107.667969 L 87.917969 107.433594 L 88.019531 107.433594 L 88.0625 107.199219 L 88.203125 107.199219 L 88.246094 106.964844 L 88.292969 106.964844 L 88.292969 106.730469 L 88.320313 106.730469 L 88.328125 106.496094 L 88.335938 106.496094 L 88.378906 106.265625 L 88.460938 106.265625 L 88.476563 105.796875 L 88.496094 105.796875 L 88.503906 105.5625 L 88.519531 105.328125 L 88.527344 105.328125 L 88.613281 105.09375 L 88.652344 105.09375 L 88.652344 104.859375 L 88.703125 104.859375 L 88.738281 104.625 L 89.1875 104.625 L 89.1875 104.390625 L 89.222656 104.15625 L 89.4375 104.15625 L 89.449219 103.921875 L 89.480469 103.691406 L 89.523438 103.457031 L 89.546875 103.457031 L 89.546875 103.222656 L 89.574219 103.222656 L 89.582031 102.988281 L 89.597656 102.988281 L 89.597656 102.753906 L 89.992188 102.753906 L 90.082031 102.519531 L 90.910156 102.519531 L 90.933594 102.285156 L 90.984375 102.050781 L 91.011719 101.816406 L 91.101563 101.816406 L 91.136719 101.582031 L 91.144531 101.582031 L 91.152344 101.351563 L 91.21875 101.351563 L 91.21875 101.117188 L 91.496094 101.117188 L 91.503906 100.882813 L 91.695313 100.882813 L 91.695313 100.648438 L 91.710938 100.648438 L 91.726563 100.414063 L 92.445313 100.414063 L 92.496094 100.179688 L 92.605469 100.179688 L 92.613281 99.945313 L 92.707031 99.945313 L 92.714844 99.710938 L 92.816406 99.710938 L 92.863281 99.476563 L 93.023438 99.476563 L 93.023438 99.242188 L 93.15625 99.242188 L 93.199219 99.007813 L 93.574219 99.007813 L 93.617188 98.542969 L 93.675781 98.542969 L 93.707031 98.308594 L 93.734375 98.074219 L 93.765625 98.074219 L 93.851563 97.839844 L 94.277344 97.839844 L 94.285156 97.605469 L 94.410156 97.605469 L 94.542969 97.371094 L 94.863281 97.371094 L 94.871094 97.136719 L 94.886719 97.136719 L 94.9375 96.902344 L 95.070313 96.902344 L 95.085938 96.667969 L 96.097656 96.667969 L 96.132813 96.433594 L 96.140625 96.433594 L 96.183594 96.203125 L 96.507813 96.203125 L 96.523438 95.96875 L 96.53125 95.96875 L 96.617188 95.734375 L 96.96875 95.734375 L 97.027344 95.5 L 97.453125 95.5 L 97.476563 95.265625 L 97.695313 95.265625 L 97.785156 95.03125 L 97.792969 95.03125 L 97.835938 94.796875 L 98.070313 94.796875 L 98.195313 94.5625 L 98.21875 94.5625 L 98.21875 94.328125 L 98.453125 94.328125 L 98.460938 94.09375 L 98.597656 94.09375 L 98.671875 93.859375 L 98.9375 93.859375 L 98.988281 93.628906 L 99.003906 93.628906 L 99.046875 93.160156 L 99.214844 93.160156 L 99.289063 92.925781 L 99.632813 92.925781 L 99.648438 92.691406 L 99.714844 92.691406 L 99.714844 92.457031 L 100.265625 92.457031 L 100.285156 92.222656 L 100.460938 92.222656 L 100.476563 91.988281 L 100.484375 91.753906 L 100.703125 91.753906 L 100.710938 91.519531 L 100.742188 91.519531 L 100.769531 91.285156 L 101.109375 91.285156 L 101.152344 91.054688 L 101.160156 90.820313 L 101.605469 90.820313 L 101.671875 90.585938 L 102.613281 90.585938 L 102.742188 90.351563 L 103.160156 90.351563 L 103.175781 90.117188 L 103.601563 90.117188 L 103.601563 89.882813 L 103.808594 89.882813 L 103.816406 89.648438 L 103.886719 89.648438 L 104.027344 89.179688 L 104.496094 89.179688 L 104.546875 88.945313 L 105.371094 88.945313 L 105.449219 88.480469 L 105.867188 88.480469 L 105.898438 88.246094 L 106.433594 88.246094 L 106.46875 88.011719 L 107.402344 88.011719 L 107.476563 87.777344 L 107.980469 87.777344 L 107.988281 87.542969 L 108.019531 87.308594 L 109.105469 87.308594 L 109.125 87.074219 L 109.5 87.074219 L 109.53125 86.839844 L 109.976563 86.839844 L 110.042969 86.605469 L 110.929688 86.605469 L 110.9375 86.371094 L 111.011719 86.371094 L 111.085938 86.140625 L 111.824219 86.140625 L 111.824219 85.90625 L 111.980469 85.90625 L 112.015625 85.671875 L 112.15625 85.671875 L 112.324219 85.4375 L 112.875 85.4375 L 112.976563 85.203125 L 113.175781 85.203125 L 113.292969 84.96875 L 113.675781 84.96875 L 113.820313 84.5 L 114.796875 84.5 L 114.847656 84.265625 L 115.097656 84.265625 L 115.171875 84.03125 L 115.398438 84.03125 L 115.464844 83.796875 L 115.722656 83.796875 L 115.75 83.566406 L 119.785156 83.566406 L 119.851563 83.332031 L 120.335938 83.332031 L 120.386719 83.097656 L 120.476563 83.097656 L 120.519531 82.863281 L 120.578125 82.863281 L 120.636719 82.628906 L 121.0625 82.628906 L 121.148438 82.394531 L 121.539063 82.394531 L 121.539063 82.160156 L 122.007813 82.160156 L 122.015625 81.925781 L 123.671875 81.925781 L 123.679688 81.691406 L 123.796875 81.691406 L 123.804688 81.457031 L 124.648438 81.457031 L 124.796875 81.222656 L 127.296875 81.222656 L 127.414063 80.992188 L 127.929688 80.992188 L 127.980469 80.757813 L 130.613281 80.757813 L 130.644531 80.523438 L 133.09375 80.523438 L 133.285156 80.289063 L 135.089844 80.289063 L 135.214844 80.054688 L 138.199219 80.054688 L 138.273438 79.820313 L 138.316406 79.820313 L 138.351563 79.585938 L 139.144531 79.585938 L 139.210938 79.351563 L 142.109375 79.351563 L 142.234375 79.117188 L 142.453125 79.117188 L 142.492188 78.882813 L 146.8125 78.882813 L 146.832031 78.648438 L 147.492188 78.648438 L 147.707031 78.417969 L 147.734375 78.417969 L 147.800781 78.183594 L 148.132813 78.183594 L 148.285156 77.949219 L 148.785156 77.949219 L 148.867188 77.714844 L 153.757813 77.714844 L 153.808594 77.480469 L 157.199219 77.480469 L 157.207031 77.246094 L 162.21875 77.246094 L 162.238281 77.011719 L 164.183594 77.011719 L 164.425781 76.777344 L 165.753906 76.777344 L 166.003906 76.542969 L 172.3125 76.542969 L 172.347656 76.308594 L 174.660156 76.308594 L 174.851563 76.078125 L 176.773438 76.078125 L 177.035156 75.84375 L 188.4375 75.84375 L 188.5625 75.609375 L 197.296875 75.609375 L 197.605469 75.375 L 200.59375 75.375 L 200.738281 75.140625 L 208.199219 75.140625 L 208.40625 74.90625 L 216.042969 74.90625 L 216.085938 74.671875 L 220.195313 74.671875 L 220.273438 74.4375 L 221.902344 74.4375 L 221.949219 74.203125 L 225.226563 74.203125 L 225.277344 73.96875 L 232.921875 73.96875 L 232.929688 73.734375 L 243.515625 73.734375 L 243.617188 73.503906 L 260.894531 73.503906 L 261.085938 73.269531 L 264.453125 73.269531 L 264.535156 73.035156 L 360.027344 73.035156 L 360.136719 72.800781 L 458.398438 72.800781 \"/>\n",
       "</g>\n",
       "</g>\n",
       "</svg>\n"
      ],
      "text/plain": [
       "plot without title"
      ]
     },
     "metadata": {
      "image/svg+xml": {
       "isolated": true
      }
     },
     "output_type": "display_data"
    }
   ],
   "source": [
    "plot(logit_perf)"
   ]
  },
  {
   "cell_type": "code",
   "execution_count": 27,
   "metadata": {
    "collapsed": false
   },
   "outputs": [
    {
     "data": {
      "text/html": [
       "0.877928011935845"
      ],
      "text/latex": [
       "0.877928011935845"
      ],
      "text/markdown": [
       "0.877928011935845"
      ],
      "text/plain": [
       "[1] 0.877928"
      ]
     },
     "metadata": {},
     "output_type": "display_data"
    }
   ],
   "source": [
    "logit_ks <- max(logit_perf@y.values[[1]]-logit_perf@x.values[[1]])\n",
    "logit_ks"
   ]
  },
  {
   "cell_type": "code",
   "execution_count": 18,
   "metadata": {
    "collapsed": true
   },
   "outputs": [],
   "source": [
    "thresholds <- data.frame(cutoffs = perf@alpha.values[[1]], recall =    perf@x.values[[1]], precision = perf@y.values[[1]])"
   ]
  },
  {
   "cell_type": "code",
   "execution_count": 19,
   "metadata": {
    "collapsed": false
   },
   "outputs": [
    {
     "data": {
      "text/html": [
       "<table>\n",
       "<thead><tr><th></th><th scope=col>cutoffs</th><th scope=col>recall</th><th scope=col>precision</th></tr></thead>\n",
       "<tbody>\n",
       "\t<tr><th scope=row>1</th><td>Inf</td><td>0  </td><td>NaN</td></tr>\n",
       "\t<tr><th scope=row>2</th><td>0.999992321360611   </td><td>0.000680272108843537</td><td>1                   </td></tr>\n",
       "\t<tr><th scope=row>3</th><td>0.999981798293203  </td><td>0.00136054421768707</td><td>1                  </td></tr>\n",
       "\t<tr><th scope=row>4</th><td>0.99997849307079   </td><td>0.00204081632653061</td><td>1                  </td></tr>\n",
       "\t<tr><th scope=row>5</th><td>0.999972888181115  </td><td>0.00272108843537415</td><td>1                  </td></tr>\n",
       "\t<tr><th scope=row>6</th><td>0.999968533878694  </td><td>0.00340136054421769</td><td>1                  </td></tr>\n",
       "</tbody>\n",
       "</table>\n"
      ],
      "text/latex": [
       "\\begin{tabular}{r|lll}\n",
       "  & cutoffs & recall & precision\\\\\n",
       "\\hline\n",
       "\t1 & Inf & 0   & NaN\\\\\n",
       "\t2 & 0.999992321360611    & 0.000680272108843537 & 1                   \\\\\n",
       "\t3 & 0.999981798293203   & 0.00136054421768707 & 1                  \\\\\n",
       "\t4 & 0.99997849307079    & 0.00204081632653061 & 1                  \\\\\n",
       "\t5 & 0.999972888181115   & 0.00272108843537415 & 1                  \\\\\n",
       "\t6 & 0.999968533878694   & 0.00340136054421769 & 1                  \\\\\n",
       "\\end{tabular}\n"
      ],
      "text/plain": [
       "    cutoffs       recall precision\n",
       "1       Inf 0.0000000000       NaN\n",
       "2 0.9999923 0.0006802721         1\n",
       "3 0.9999818 0.0013605442         1\n",
       "4 0.9999785 0.0020408163         1\n",
       "5 0.9999729 0.0027210884         1\n",
       "6 0.9999685 0.0034013605         1"
      ]
     },
     "metadata": {},
     "output_type": "display_data"
    }
   ],
   "source": [
    "head(thresholds) # Then we can know the exact threshold we can choose to get a desired recall and precision"
   ]
  },
  {
   "cell_type": "code",
   "execution_count": 25,
   "metadata": {
    "collapsed": false
   },
   "outputs": [
    {
     "data": {
      "text/html": [
       "<table>\n",
       "<thead><tr><th></th><th scope=col>cutoffs</th><th scope=col>recall</th><th scope=col>precision</th></tr></thead>\n",
       "<tbody>\n",
       "\t<tr><th scope=row>1</th><td>0.286788567354589</td><td>0.760544217687075</td><td>0.750335570469799</td></tr>\n",
       "</tbody>\n",
       "</table>\n"
      ],
      "text/latex": [
       "\\begin{tabular}{r|lll}\n",
       "  & cutoffs & recall & precision\\\\\n",
       "\\hline\n",
       "\t1 & 0.286788567354589 & 0.760544217687075 & 0.750335570469799\\\\\n",
       "\\end{tabular}\n"
      ],
      "text/plain": [
       "    cutoffs    recall precision\n",
       "1 0.2867886 0.7605442 0.7503356"
      ]
     },
     "metadata": {},
     "output_type": "display_data"
    }
   ],
   "source": [
    "filter(thresholds,   (recall >0.76) & (precision >0.75))"
   ]
  }
 ],
 "metadata": {
  "kernelspec": {
   "display_name": "R",
   "language": "R",
   "name": "ir"
  },
  "language_info": {
   "codemirror_mode": "r",
   "file_extension": ".r",
   "mimetype": "text/x-r-source",
   "name": "R",
   "pygments_lexer": "r",
   "version": "3.3.1"
  }
 },
 "nbformat": 4,
 "nbformat_minor": 0
}
