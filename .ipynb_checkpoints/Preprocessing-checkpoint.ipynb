{
 "cells": [
  {
   "cell_type": "markdown",
   "metadata": {},
   "source": [
    "<h1 align = \"center\"> Preprocessing Template </h1>"
   ]
  },
  {
   "cell_type": "code",
   "execution_count": 2,
   "metadata": {
    "collapsed": false
   },
   "outputs": [],
   "source": [
    "## Library all the necessary library and set the directory you are going to work with\n",
    "dir = \"E:/Personal/InterviewQuestion/Rscripts/TakeHomeChallenge/AirbnbDataChallenge\"\n",
    "setwd(dir)\n",
    "train = read.csv(\"train_users_2.csv\", header = TRUE, as.is = TRUE)\n",
    "sessions = read.csv(\"sessions.csv\", header = TRUE, as.is = TRUE)\n",
    "countries = read.csv(\"countries.csv\", header = TRUE, as.is = TRUE)"
   ]
  },
  {
   "cell_type": "code",
   "execution_count": 4,
   "metadata": {
    "collapsed": false
   },
   "outputs": [],
   "source": [
    "if(!require(ggplot2)){\n",
    "    install.packages(\"ggplot2\")\n",
    " }\n",
    "if(!require(lubridate)){\n",
    "    install.packages(\"lubridate\")\n",
    " }\n",
    "if(!require(dplyr)){\n",
    "    install.packages(\"dplyr\")\n",
    " }\n",
    "if(!require(plyr)){\n",
    "    install.packages(\"plyr\")\n",
    " }\n",
    "if(!require(tidyr)){\n",
    "    install.packages(\"tidyr\")\n",
    " }\n",
    "if(!require(scales)){\n",
    "    install.packages(\"scales\")\n",
    " }\n",
    "if(!require(caret)){\n",
    "    install.packages(\"caret\")\n",
    " }\n",
    "if(!require(stringr)){\n",
    "    install.packages(\"stringr\")\n",
    " }\n",
    "if(!require(Hmisc)){\n",
    "    install.packages(\"Hmisc\")\n",
    " }\n",
    "\n",
    "library(plyr) # Load plyr prior to dlyr\n",
    "library(ggplot2)\n",
    "library(lubridate)\n",
    "library(plyr)\n",
    "library(dplyr)\n",
    "library(tidyr)\n",
    "library(scales)\n",
    "library(caret)\n",
    "library(stringr)\n",
    "library(Hmisc)"
   ]
  },
  {
   "cell_type": "markdown",
   "metadata": {},
   "source": [
    "## Data Preprocessing"
   ]
  },
  {
   "cell_type": "markdown",
   "metadata": {},
   "source": [
    "### Look at the structure of the data"
   ]
  },
  {
   "cell_type": "code",
   "execution_count": 10,
   "metadata": {
    "collapsed": false,
    "scrolled": true
   },
   "outputs": [
    {
     "name": "stdout",
     "output_type": "stream",
     "text": [
      "'data.frame':\t213451 obs. of  16 variables:\n",
      " $ id                     : chr  \"gxn3p5htnn\" \"820tgsjxq7\" \"4ft3gnwmtx\" \"bjjt8pjhuk\" ...\n",
      " $ date_account_created   : chr  \"2010-06-28\" \"2011-05-25\" \"2010-09-28\" \"2011-12-05\" ...\n",
      " $ timestamp_first_active : num  2.01e+13 2.01e+13 2.01e+13 2.01e+13 2.01e+13 ...\n",
      " $ date_first_booking     : chr  \"\" \"\" \"2010-08-02\" \"2012-09-08\" ...\n",
      " $ gender                 : chr  \"-unknown-\" \"MALE\" \"FEMALE\" \"FEMALE\" ...\n",
      " $ age                    : num  NA 38 56 42 41 NA 46 47 50 46 ...\n",
      " $ signup_method          : chr  \"facebook\" \"facebook\" \"basic\" \"facebook\" ...\n",
      " $ signup_flow            : int  0 0 3 0 0 0 0 0 0 0 ...\n",
      " $ language               : chr  \"en\" \"en\" \"en\" \"en\" ...\n",
      " $ affiliate_channel      : chr  \"direct\" \"seo\" \"direct\" \"direct\" ...\n",
      " $ affiliate_provider     : chr  \"direct\" \"google\" \"direct\" \"direct\" ...\n",
      " $ first_affiliate_tracked: chr  \"untracked\" \"untracked\" \"untracked\" \"untracked\" ...\n",
      " $ signup_app             : chr  \"Web\" \"Web\" \"Web\" \"Web\" ...\n",
      " $ first_device_type      : chr  \"Mac Desktop\" \"Mac Desktop\" \"Windows Desktop\" \"Mac Desktop\" ...\n",
      " $ first_browser          : chr  \"Chrome\" \"Chrome\" \"IE\" \"Firefox\" ...\n",
      " $ country_destination    : chr  \"NDF\" \"NDF\" \"US\" \"other\" ...\n"
     ]
    }
   ],
   "source": [
    "str(train)"
   ]
  },
  {
   "cell_type": "markdown",
   "metadata": {},
   "source": [
    "* Look for missing values and outliers\n",
    "* We can see the date_first_booking has a lot of missings (probably the same info as the NDF), gender has \"-unknown-\" information."
   ]
  },
  {
   "cell_type": "code",
   "execution_count": 14,
   "metadata": {
    "collapsed": false
   },
   "outputs": [
    {
     "name": "stdout",
     "output_type": "stream",
     "text": [
      "'data.frame':\t10567737 obs. of  6 variables:\n",
      " $ user_id      : chr  \"d1mm9tcy42\" \"d1mm9tcy42\" \"d1mm9tcy42\" \"d1mm9tcy42\" ...\n",
      " $ action       : chr  \"lookup\" \"search_results\" \"lookup\" \"search_results\" ...\n",
      " $ action_type  : chr  \"\" \"click\" \"\" \"click\" ...\n",
      " $ action_detail: chr  \"\" \"view_search_results\" \"\" \"view_search_results\" ...\n",
      " $ device_type  : chr  \"Windows Desktop\" \"Windows Desktop\" \"Windows Desktop\" \"Windows Desktop\" ...\n",
      " $ secs_elapsed : num  319 67753 301 22141 435 ...\n"
     ]
    }
   ],
   "source": [
    "str(sessions)"
   ]
  },
  {
   "cell_type": "markdown",
   "metadata": {},
   "source": [
    "<h2 align = \"center\"><font color = \"red\"> IDs </font> </h2>"
   ]
  },
  {
   "cell_type": "markdown",
   "metadata": {},
   "source": [
    "### If there is only one table"
   ]
  },
  {
   "cell_type": "code",
   "execution_count": 9,
   "metadata": {
    "collapsed": false
   },
   "outputs": [
    {
     "data": {
      "text/html": [
       "TRUE"
      ],
      "text/latex": [
       "TRUE"
      ],
      "text/markdown": [
       "TRUE"
      ],
      "text/plain": [
       "[1] TRUE"
      ]
     },
     "metadata": {},
     "output_type": "display_data"
    }
   ],
   "source": [
    "## Look at the ids if there is any duplicates and what does this mean\n",
    "length(unique(train$id)) == nrow(train) # It makes sense since it is the users who first book an airbnb "
   ]
  },
  {
   "cell_type": "markdown",
   "metadata": {},
   "source": [
    "### If there are more than 2 tables"
   ]
  },
  {
   "cell_type": "code",
   "execution_count": 16,
   "metadata": {
    "collapsed": false
   },
   "outputs": [
    {
     "data": {
      "text/html": [
       "FALSE"
      ],
      "text/latex": [
       "FALSE"
      ],
      "text/markdown": [
       "FALSE"
      ],
      "text/plain": [
       "[1] FALSE"
      ]
     },
     "metadata": {},
     "output_type": "display_data"
    }
   ],
   "source": [
    "length(unique(train$id)) == length(unique(sessions$user_id))"
   ]
  },
  {
   "cell_type": "code",
   "execution_count": 18,
   "metadata": {
    "collapsed": false
   },
   "outputs": [
    {
     "data": {
      "text/html": [
       "0.6541829272292"
      ],
      "text/latex": [
       "0.6541829272292"
      ],
      "text/markdown": [
       "0.6541829272292"
      ],
      "text/plain": [
       "[1] 0.6541829"
      ]
     },
     "metadata": {},
     "output_type": "display_data"
    }
   ],
   "source": [
    "sum(!(unique(train$id) %in% unique(sessions$user_id)))/length(unique(train$id))  #Only available from 2014"
   ]
  },
  {
   "cell_type": "markdown",
   "metadata": {},
   "source": [
    "<h2 align = \"center\"><font color = \"red\"> Missing & Nulls </font> </h2>"
   ]
  },
  {
   "cell_type": "markdown",
   "metadata": {},
   "source": [
    "* Missing in categorical variables can just be treated as missing itself for machine learning but missing in numeric variable and dates need to be taken care of "
   ]
  },
  {
   "cell_type": "code",
   "execution_count": 19,
   "metadata": {
    "collapsed": false,
    "scrolled": true
   },
   "outputs": [
    {
     "data": {
      "text/html": [
       "<dl class=dl-horizontal>\n",
       "\t<dt>id</dt>\n",
       "\t\t<dd>0</dd>\n",
       "\t<dt>date_account_created</dt>\n",
       "\t\t<dd>0</dd>\n",
       "\t<dt>timestamp_first_active</dt>\n",
       "\t\t<dd>0</dd>\n",
       "\t<dt>date_first_booking</dt>\n",
       "\t\t<dd>124543</dd>\n",
       "\t<dt>gender</dt>\n",
       "\t\t<dd>0</dd>\n",
       "\t<dt>age</dt>\n",
       "\t\t<dd>87990</dd>\n",
       "\t<dt>signup_method</dt>\n",
       "\t\t<dd>0</dd>\n",
       "\t<dt>signup_flow</dt>\n",
       "\t\t<dd>0</dd>\n",
       "\t<dt>language</dt>\n",
       "\t\t<dd>0</dd>\n",
       "\t<dt>affiliate_channel</dt>\n",
       "\t\t<dd>0</dd>\n",
       "\t<dt>affiliate_provider</dt>\n",
       "\t\t<dd>0</dd>\n",
       "\t<dt>first_affiliate_tracked</dt>\n",
       "\t\t<dd>6065</dd>\n",
       "\t<dt>signup_app</dt>\n",
       "\t\t<dd>0</dd>\n",
       "\t<dt>first_device_type</dt>\n",
       "\t\t<dd>0</dd>\n",
       "\t<dt>first_browser</dt>\n",
       "\t\t<dd>0</dd>\n",
       "\t<dt>country_destination</dt>\n",
       "\t\t<dd>0</dd>\n",
       "</dl>\n"
      ],
      "text/latex": [
       "\\begin{description*}\n",
       "\\item[id] 0\n",
       "\\item[date\\textbackslash{}\\_account\\textbackslash{}\\_created] 0\n",
       "\\item[timestamp\\textbackslash{}\\_first\\textbackslash{}\\_active] 0\n",
       "\\item[date\\textbackslash{}\\_first\\textbackslash{}\\_booking] 124543\n",
       "\\item[gender] 0\n",
       "\\item[age] 87990\n",
       "\\item[signup\\textbackslash{}\\_method] 0\n",
       "\\item[signup\\textbackslash{}\\_flow] 0\n",
       "\\item[language] 0\n",
       "\\item[affiliate\\textbackslash{}\\_channel] 0\n",
       "\\item[affiliate\\textbackslash{}\\_provider] 0\n",
       "\\item[first\\textbackslash{}\\_affiliate\\textbackslash{}\\_tracked] 6065\n",
       "\\item[signup\\textbackslash{}\\_app] 0\n",
       "\\item[first\\textbackslash{}\\_device\\textbackslash{}\\_type] 0\n",
       "\\item[first\\textbackslash{}\\_browser] 0\n",
       "\\item[country\\textbackslash{}\\_destination] 0\n",
       "\\end{description*}\n"
      ],
      "text/markdown": [
       "id\n",
       ":   0date_account_created\n",
       ":   0timestamp_first_active\n",
       ":   0date_first_booking\n",
       ":   124543gender\n",
       ":   0age\n",
       ":   87990signup_method\n",
       ":   0signup_flow\n",
       ":   0language\n",
       ":   0affiliate_channel\n",
       ":   0affiliate_provider\n",
       ":   0first_affiliate_tracked\n",
       ":   6065signup_app\n",
       ":   0first_device_type\n",
       ":   0first_browser\n",
       ":   0country_destination\n",
       ":   0\n",
       "\n"
      ],
      "text/plain": [
       "                     id    date_account_created  timestamp_first_active \n",
       "                      0                       0                       0 \n",
       "     date_first_booking                  gender                     age \n",
       "                 124543                       0                   87990 \n",
       "          signup_method             signup_flow                language \n",
       "                      0                       0                       0 \n",
       "      affiliate_channel      affiliate_provider first_affiliate_tracked \n",
       "                      0                       0                    6065 \n",
       "             signup_app       first_device_type           first_browser \n",
       "                      0                       0                       0 \n",
       "    country_destination \n",
       "                      0 "
      ]
     },
     "metadata": {},
     "output_type": "display_data"
    }
   ],
   "source": [
    "sapply(train, function(x)sum(is.na(x)|x == \"\"))"
   ]
  },
  {
   "cell_type": "markdown",
   "metadata": {},
   "source": [
    "#### Variable 1 with Missing Values: date_first_booking"
   ]
  },
  {
   "cell_type": "code",
   "execution_count": 20,
   "metadata": {
    "collapsed": false
   },
   "outputs": [
    {
     "data": {
      "text/html": [
       "\"NDF\""
      ],
      "text/latex": [
       "\"NDF\""
      ],
      "text/markdown": [
       "\"NDF\""
      ],
      "text/plain": [
       "[1] \"NDF\""
      ]
     },
     "metadata": {},
     "output_type": "display_data"
    }
   ],
   "source": [
    "# Given the information, if the date_first_booking all corresponds to NDF, the data should be fine. \n",
    "unique(subset(train,date_first_booking == \"\" )$country_destination)"
   ]
  },
  {
   "cell_type": "markdown",
   "metadata": {},
   "source": [
    "#### Variable 2 with Missing Values: age"
   ]
  },
  {
   "cell_type": "code",
   "execution_count": 42,
   "metadata": {
    "collapsed": false
   },
   "outputs": [
    {
     "data": {
      "text/html": [
       "<ol class=list-inline>\n",
       "\t<li>NA</li>\n",
       "\t<li>38</li>\n",
       "\t<li>56</li>\n",
       "\t<li>42</li>\n",
       "\t<li>41</li>\n",
       "\t<li>46</li>\n",
       "\t<li>47</li>\n",
       "\t<li>50</li>\n",
       "\t<li>36</li>\n",
       "\t<li>37</li>\n",
       "\t<li>33</li>\n",
       "\t<li>31</li>\n",
       "\t<li>29</li>\n",
       "\t<li>30</li>\n",
       "\t<li>40</li>\n",
       "\t<li>26</li>\n",
       "\t<li>32</li>\n",
       "\t<li>35</li>\n",
       "\t<li>59</li>\n",
       "\t<li>49</li>\n",
       "\t<li>44</li>\n",
       "\t<li>34</li>\n",
       "\t<li>28</li>\n",
       "\t<li>19</li>\n",
       "\t<li>53</li>\n",
       "\t<li>52</li>\n",
       "\t<li>39</li>\n",
       "\t<li>57</li>\n",
       "\t<li>25</li>\n",
       "\t<li>54</li>\n",
       "\t<li>69</li>\n",
       "\t<li>63</li>\n",
       "\t<li>43</li>\n",
       "\t<li>55</li>\n",
       "\t<li>65</li>\n",
       "\t<li>58</li>\n",
       "\t<li>61</li>\n",
       "\t<li>18</li>\n",
       "\t<li>5</li>\n",
       "\t<li>27</li>\n",
       "\t<li>45</li>\n",
       "\t<li>60</li>\n",
       "\t<li>48</li>\n",
       "\t<li>51</li>\n",
       "\t<li>64</li>\n",
       "\t<li>72</li>\n",
       "\t<li>70</li>\n",
       "\t<li>67</li>\n",
       "\t<li>73</li>\n",
       "\t<li>2014</li>\n",
       "\t<li>104</li>\n",
       "\t<li>66</li>\n",
       "\t<li>105</li>\n",
       "\t<li>68</li>\n",
       "\t<li>95</li>\n",
       "\t<li>24</li>\n",
       "\t<li>94</li>\n",
       "\t<li>75</li>\n",
       "\t<li>79</li>\n",
       "\t<li>62</li>\n",
       "\t<li>2013</li>\n",
       "\t<li>16</li>\n",
       "\t<li>4</li>\n",
       "\t<li>23</li>\n",
       "\t<li>101</li>\n",
       "\t<li>98</li>\n",
       "\t<li>76</li>\n",
       "\t<li>74</li>\n",
       "\t<li>87</li>\n",
       "\t<li>92</li>\n",
       "\t<li>115</li>\n",
       "\t<li>71</li>\n",
       "\t<li>84</li>\n",
       "\t<li>107</li>\n",
       "\t<li>78</li>\n",
       "\t<li>99</li>\n",
       "\t<li>110</li>\n",
       "\t<li>102</li>\n",
       "\t<li>82</li>\n",
       "\t<li>77</li>\n",
       "\t<li>22</li>\n",
       "\t<li>89</li>\n",
       "\t<li>21</li>\n",
       "\t<li>15</li>\n",
       "\t<li>20</li>\n",
       "\t<li>103</li>\n",
       "\t<li>2</li>\n",
       "\t<li>17</li>\n",
       "\t<li>86</li>\n",
       "\t<li>97</li>\n",
       "\t<li>81</li>\n",
       "\t<li>90</li>\n",
       "\t<li>88</li>\n",
       "\t<li>80</li>\n",
       "\t<li>100</li>\n",
       "\t<li>91</li>\n",
       "\t<li>106</li>\n",
       "\t<li>83</li>\n",
       "\t<li>85</li>\n",
       "\t<li>108</li>\n",
       "\t<li>113</li>\n",
       "\t<li>109</li>\n",
       "\t<li>93</li>\n",
       "\t<li>96</li>\n",
       "\t<li>1949</li>\n",
       "\t<li>111</li>\n",
       "\t<li>1931</li>\n",
       "\t<li>1932</li>\n",
       "\t<li>112</li>\n",
       "\t<li>1928</li>\n",
       "\t<li>1</li>\n",
       "\t<li>1936</li>\n",
       "\t<li>1933</li>\n",
       "\t<li>1935</li>\n",
       "\t<li>1925</li>\n",
       "\t<li>1952</li>\n",
       "\t<li>150</li>\n",
       "\t<li>1927</li>\n",
       "\t<li>132</li>\n",
       "\t<li>1953</li>\n",
       "\t<li>1942</li>\n",
       "\t<li>1995</li>\n",
       "\t<li>2008</li>\n",
       "\t<li>1924</li>\n",
       "\t<li>1929</li>\n",
       "\t<li>1947</li>\n",
       "\t<li>1938</li>\n",
       "\t<li>1926</li>\n",
       "</ol>\n"
      ],
      "text/latex": [
       "\\begin{enumerate*}\n",
       "\\item NA\n",
       "\\item 38\n",
       "\\item 56\n",
       "\\item 42\n",
       "\\item 41\n",
       "\\item 46\n",
       "\\item 47\n",
       "\\item 50\n",
       "\\item 36\n",
       "\\item 37\n",
       "\\item 33\n",
       "\\item 31\n",
       "\\item 29\n",
       "\\item 30\n",
       "\\item 40\n",
       "\\item 26\n",
       "\\item 32\n",
       "\\item 35\n",
       "\\item 59\n",
       "\\item 49\n",
       "\\item 44\n",
       "\\item 34\n",
       "\\item 28\n",
       "\\item 19\n",
       "\\item 53\n",
       "\\item 52\n",
       "\\item 39\n",
       "\\item 57\n",
       "\\item 25\n",
       "\\item 54\n",
       "\\item 69\n",
       "\\item 63\n",
       "\\item 43\n",
       "\\item 55\n",
       "\\item 65\n",
       "\\item 58\n",
       "\\item 61\n",
       "\\item 18\n",
       "\\item 5\n",
       "\\item 27\n",
       "\\item 45\n",
       "\\item 60\n",
       "\\item 48\n",
       "\\item 51\n",
       "\\item 64\n",
       "\\item 72\n",
       "\\item 70\n",
       "\\item 67\n",
       "\\item 73\n",
       "\\item 2014\n",
       "\\item 104\n",
       "\\item 66\n",
       "\\item 105\n",
       "\\item 68\n",
       "\\item 95\n",
       "\\item 24\n",
       "\\item 94\n",
       "\\item 75\n",
       "\\item 79\n",
       "\\item 62\n",
       "\\item 2013\n",
       "\\item 16\n",
       "\\item 4\n",
       "\\item 23\n",
       "\\item 101\n",
       "\\item 98\n",
       "\\item 76\n",
       "\\item 74\n",
       "\\item 87\n",
       "\\item 92\n",
       "\\item 115\n",
       "\\item 71\n",
       "\\item 84\n",
       "\\item 107\n",
       "\\item 78\n",
       "\\item 99\n",
       "\\item 110\n",
       "\\item 102\n",
       "\\item 82\n",
       "\\item 77\n",
       "\\item 22\n",
       "\\item 89\n",
       "\\item 21\n",
       "\\item 15\n",
       "\\item 20\n",
       "\\item 103\n",
       "\\item 2\n",
       "\\item 17\n",
       "\\item 86\n",
       "\\item 97\n",
       "\\item 81\n",
       "\\item 90\n",
       "\\item 88\n",
       "\\item 80\n",
       "\\item 100\n",
       "\\item 91\n",
       "\\item 106\n",
       "\\item 83\n",
       "\\item 85\n",
       "\\item 108\n",
       "\\item 113\n",
       "\\item 109\n",
       "\\item 93\n",
       "\\item 96\n",
       "\\item 1949\n",
       "\\item 111\n",
       "\\item 1931\n",
       "\\item 1932\n",
       "\\item 112\n",
       "\\item 1928\n",
       "\\item 1\n",
       "\\item 1936\n",
       "\\item 1933\n",
       "\\item 1935\n",
       "\\item 1925\n",
       "\\item 1952\n",
       "\\item 150\n",
       "\\item 1927\n",
       "\\item 132\n",
       "\\item 1953\n",
       "\\item 1942\n",
       "\\item 1995\n",
       "\\item 2008\n",
       "\\item 1924\n",
       "\\item 1929\n",
       "\\item 1947\n",
       "\\item 1938\n",
       "\\item 1926\n",
       "\\end{enumerate*}\n"
      ],
      "text/markdown": [
       "1. NA\n",
       "2. 38\n",
       "3. 56\n",
       "4. 42\n",
       "5. 41\n",
       "6. 46\n",
       "7. 47\n",
       "8. 50\n",
       "9. 36\n",
       "10. 37\n",
       "11. 33\n",
       "12. 31\n",
       "13. 29\n",
       "14. 30\n",
       "15. 40\n",
       "16. 26\n",
       "17. 32\n",
       "18. 35\n",
       "19. 59\n",
       "20. 49\n",
       "21. 44\n",
       "22. 34\n",
       "23. 28\n",
       "24. 19\n",
       "25. 53\n",
       "26. 52\n",
       "27. 39\n",
       "28. 57\n",
       "29. 25\n",
       "30. 54\n",
       "31. 69\n",
       "32. 63\n",
       "33. 43\n",
       "34. 55\n",
       "35. 65\n",
       "36. 58\n",
       "37. 61\n",
       "38. 18\n",
       "39. 5\n",
       "40. 27\n",
       "41. 45\n",
       "42. 60\n",
       "43. 48\n",
       "44. 51\n",
       "45. 64\n",
       "46. 72\n",
       "47. 70\n",
       "48. 67\n",
       "49. 73\n",
       "50. 2014\n",
       "51. 104\n",
       "52. 66\n",
       "53. 105\n",
       "54. 68\n",
       "55. 95\n",
       "56. 24\n",
       "57. 94\n",
       "58. 75\n",
       "59. 79\n",
       "60. 62\n",
       "61. 2013\n",
       "62. 16\n",
       "63. 4\n",
       "64. 23\n",
       "65. 101\n",
       "66. 98\n",
       "67. 76\n",
       "68. 74\n",
       "69. 87\n",
       "70. 92\n",
       "71. 115\n",
       "72. 71\n",
       "73. 84\n",
       "74. 107\n",
       "75. 78\n",
       "76. 99\n",
       "77. 110\n",
       "78. 102\n",
       "79. 82\n",
       "80. 77\n",
       "81. 22\n",
       "82. 89\n",
       "83. 21\n",
       "84. 15\n",
       "85. 20\n",
       "86. 103\n",
       "87. 2\n",
       "88. 17\n",
       "89. 86\n",
       "90. 97\n",
       "91. 81\n",
       "92. 90\n",
       "93. 88\n",
       "94. 80\n",
       "95. 100\n",
       "96. 91\n",
       "97. 106\n",
       "98. 83\n",
       "99. 85\n",
       "100. 108\n",
       "101. 113\n",
       "102. 109\n",
       "103. 93\n",
       "104. 96\n",
       "105. 1949\n",
       "106. 111\n",
       "107. 1931\n",
       "108. 1932\n",
       "109. 112\n",
       "110. 1928\n",
       "111. 1\n",
       "112. 1936\n",
       "113. 1933\n",
       "114. 1935\n",
       "115. 1925\n",
       "116. 1952\n",
       "117. 150\n",
       "118. 1927\n",
       "119. 132\n",
       "120. 1953\n",
       "121. 1942\n",
       "122. 1995\n",
       "123. 2008\n",
       "124. 1924\n",
       "125. 1929\n",
       "126. 1947\n",
       "127. 1938\n",
       "128. 1926\n",
       "\n",
       "\n"
      ],
      "text/plain": [
       "  [1]   NA   38   56   42   41   46   47   50   36   37   33   31   29   30   40\n",
       " [16]   26   32   35   59   49   44   34   28   19   53   52   39   57   25   54\n",
       " [31]   69   63   43   55   65   58   61   18    5   27   45   60   48   51   64\n",
       " [46]   72   70   67   73 2014  104   66  105   68   95   24   94   75   79   62\n",
       " [61] 2013   16    4   23  101   98   76   74   87   92  115   71   84  107   78\n",
       " [76]   99  110  102   82   77   22   89   21   15   20  103    2   17   86   97\n",
       " [91]   81   90   88   80  100   91  106   83   85  108  113  109   93   96 1949\n",
       "[106]  111 1931 1932  112 1928    1 1936 1933 1935 1925 1952  150 1927  132 1953\n",
       "[121] 1942 1995 2008 1924 1929 1947 1938 1926"
      ]
     },
     "metadata": {},
     "output_type": "display_data"
    }
   ],
   "source": [
    "unique(train$age)# We see some weird outliers: might be an indicator of a user's loyalty"
   ]
  },
  {
   "cell_type": "markdown",
   "metadata": {},
   "source": [
    "* Some are very much have the 4 digit values considering change it to the normal age"
   ]
  },
  {
   "cell_type": "markdown",
   "metadata": {},
   "source": [
    "#### Variable 3 with Missing Values: first_affiliate_tracked"
   ]
  },
  {
   "cell_type": "code",
   "execution_count": 12,
   "metadata": {
    "collapsed": false
   },
   "outputs": [
    {
     "data": {
      "text/html": [
       "<ol class=list-inline>\n",
       "\t<li>\"untracked\"</li>\n",
       "\t<li>\"omg\"</li>\n",
       "\t<li>\"\"</li>\n",
       "\t<li>\"linked\"</li>\n",
       "\t<li>\"tracked-other\"</li>\n",
       "\t<li>\"product\"</li>\n",
       "\t<li>\"marketing\"</li>\n",
       "\t<li>\"local ops\"</li>\n",
       "</ol>\n"
      ],
      "text/latex": [
       "\\begin{enumerate*}\n",
       "\\item \"untracked\"\n",
       "\\item \"omg\"\n",
       "\\item \"\"\n",
       "\\item \"linked\"\n",
       "\\item \"tracked-other\"\n",
       "\\item \"product\"\n",
       "\\item \"marketing\"\n",
       "\\item \"local ops\"\n",
       "\\end{enumerate*}\n"
      ],
      "text/markdown": [
       "1. \"untracked\"\n",
       "2. \"omg\"\n",
       "3. \"\"\n",
       "4. \"linked\"\n",
       "5. \"tracked-other\"\n",
       "6. \"product\"\n",
       "7. \"marketing\"\n",
       "8. \"local ops\"\n",
       "\n",
       "\n"
      ],
      "text/plain": [
       "[1] \"untracked\"     \"omg\"           \"\"              \"linked\"       \n",
       "[5] \"tracked-other\" \"product\"       \"marketing\"     \"local ops\"    "
      ]
     },
     "metadata": {},
     "output_type": "display_data"
    }
   ],
   "source": [
    "unique(train$first_affiliate_tracked)"
   ]
  },
  {
   "cell_type": "code",
   "execution_count": 14,
   "metadata": {
    "collapsed": false
   },
   "outputs": [
    {
     "data": {
      "text/plain": [
       "\n",
       "   AU    CA    DE    ES    FR    GB    IT   NDF    NL other    PT    US \n",
       "   12    37    20    36   124    29    44  4327    11   113     3  1309 "
      ]
     },
     "metadata": {},
     "output_type": "display_data"
    }
   ],
   "source": [
    "table(subset(train,first_affiliate_tracked == \"\" )$country_destination)"
   ]
  },
  {
   "cell_type": "code",
   "execution_count": 15,
   "metadata": {
    "collapsed": false,
    "scrolled": false
   },
   "outputs": [
    {
     "data": {
      "text/plain": [
       "\n",
       "    AU     CA     DE     ES     FR     GB     IT    NDF     NL  other     PT \n",
       "   539   1428   1061   2249   5023   2324   2835 124543    762  10094    217 \n",
       "    US \n",
       " 62376 "
      ]
     },
     "metadata": {},
     "output_type": "display_data"
    }
   ],
   "source": [
    "table(train$country_destination)"
   ]
  },
  {
   "cell_type": "code",
   "execution_count": 26,
   "metadata": {
    "collapsed": false
   },
   "outputs": [],
   "source": [
    "contigency_first_affiliate_traked = data.frame(null = as.numeric(table(subset(train,first_affiliate_tracked == \"\" )$country_destination)), \n",
    "                                               overall = as.numeric(table(train$country_destination)))"
   ]
  },
  {
   "cell_type": "code",
   "execution_count": 29,
   "metadata": {
    "collapsed": false
   },
   "outputs": [
    {
     "data": {
      "text/html": [
       "<table>\n",
       "<thead><tr><th></th><th scope=col>null</th><th scope=col>overall</th></tr></thead>\n",
       "<tbody>\n",
       "\t<tr><th scope=row>1</th><td>12 </td><td>539</td></tr>\n",
       "\t<tr><th scope=row>2</th><td>37  </td><td>1428</td></tr>\n",
       "\t<tr><th scope=row>3</th><td>20  </td><td>1061</td></tr>\n",
       "\t<tr><th scope=row>4</th><td>36  </td><td>2249</td></tr>\n",
       "\t<tr><th scope=row>5</th><td>124 </td><td>5023</td></tr>\n",
       "\t<tr><th scope=row>6</th><td>29  </td><td>2324</td></tr>\n",
       "\t<tr><th scope=row>7</th><td>44  </td><td>2835</td></tr>\n",
       "\t<tr><th scope=row>8</th><td>4327  </td><td>124543</td></tr>\n",
       "\t<tr><th scope=row>9</th><td>11 </td><td>762</td></tr>\n",
       "\t<tr><th scope=row>10</th><td>113  </td><td>10094</td></tr>\n",
       "\t<tr><th scope=row>11</th><td>3  </td><td>217</td></tr>\n",
       "\t<tr><th scope=row>12</th><td>1309 </td><td>62376</td></tr>\n",
       "</tbody>\n",
       "</table>\n"
      ],
      "text/latex": [
       "\\begin{tabular}{r|ll}\n",
       "  & null & overall\\\\\n",
       "\\hline\n",
       "\t1 & 12  & 539\\\\\n",
       "\t2 & 37   & 1428\\\\\n",
       "\t3 & 20   & 1061\\\\\n",
       "\t4 & 36   & 2249\\\\\n",
       "\t5 & 124  & 5023\\\\\n",
       "\t6 & 29   & 2324\\\\\n",
       "\t7 & 44   & 2835\\\\\n",
       "\t8 & 4327   & 124543\\\\\n",
       "\t9 & 11  & 762\\\\\n",
       "\t10 & 113   & 10094\\\\\n",
       "\t11 & 3   & 217\\\\\n",
       "\t12 & 1309  & 62376\\\\\n",
       "\\end{tabular}\n"
      ],
      "text/plain": [
       "   null overall\n",
       "1    12     539\n",
       "2    37    1428\n",
       "3    20    1061\n",
       "4    36    2249\n",
       "5   124    5023\n",
       "6    29    2324\n",
       "7    44    2835\n",
       "8  4327  124543\n",
       "9    11     762\n",
       "10  113   10094\n",
       "11    3     217\n",
       "12 1309   62376"
      ]
     },
     "metadata": {},
     "output_type": "display_data"
    }
   ],
   "source": [
    "contigency_first_affiliate_traked"
   ]
  },
  {
   "cell_type": "code",
   "execution_count": 28,
   "metadata": {
    "collapsed": false
   },
   "outputs": [
    {
     "data": {
      "text/plain": [
       "\n",
       "\tPearson's Chi-squared test\n",
       "\n",
       "data:  contigency_first_affiliate_traked\n",
       "X-squared = 454.86, df = 11, p-value < 2.2e-16\n"
      ]
     },
     "metadata": {},
     "output_type": "display_data"
    }
   ],
   "source": [
    "chisq.test(contigency_first_affiliate_traked)"
   ]
  },
  {
   "cell_type": "markdown",
   "metadata": {},
   "source": [
    "<h2 align = \"center\"><font color = \"red\"> Date Information</font> </h2>"
   ]
  },
  {
   "cell_type": "markdown",
   "metadata": {},
   "source": [
    "1. If you are only interested in machine learning, the format of the date information does not matter and usually we change it to characters or numeric\n",
    "\n",
    "2. But if you are interested in visualizing the result, we should use the as.Date and lubridate\n",
    "\n",
    "3. If there are multiple dates, consider creating lag"
   ]
  },
  {
   "cell_type": "markdown",
   "metadata": {},
   "source": [
    "* Date in Date Format\n",
    "* yearmonthday in character\n",
    "* yearmonthweak in character\n",
    "* week in character\n",
    "* day of the week in character\n"
   ]
  },
  {
   "cell_type": "markdown",
   "metadata": {},
   "source": [
    "> %Y for 2015, %y for 15, %m/%d/%Y %H:%M, b% for Month's abbreviation"
   ]
  },
  {
   "cell_type": "markdown",
   "metadata": {},
   "source": [
    "#### Date in the standard date format but in character for example \"2016-05-13\""
   ]
  },
  {
   "cell_type": "code",
   "execution_count": 5,
   "metadata": {
    "collapsed": false,
    "scrolled": true
   },
   "outputs": [],
   "source": [
    "###timestamp_first_active and date_account_created\n",
    "# If the date is in character we can use separate to get the relevant date information or use as.Date if we need to visualize \n",
    "train = train %>% \n",
    "    separate(date_account_created, into = c(\"dac_year\", \"dac_month\", \"dac_day\"), sep = \"-\", remove=FALSE) %>%\n",
    "    dplyr::mutate( \n",
    "    date_account_created = as.Date(date_account_created),\n",
    "    dac_yearmonth = paste0(dac_year, dac_month),\n",
    "    dac_yearmonthday = as.numeric(paste0(dac_year, dac_month, dac_day)),\n",
    "    dac_week = as.numeric(format(date_account_created+3, \"%U\")),\n",
    "    dac_yearmonthweek = as.numeric(paste0(dac_year, dac_month, formatC(dac_week, width=2, flag=\"0\"))),\n",
    "    dac_weekday = weekdays(date_account_created)\n",
    "    )"
   ]
  },
  {
   "cell_type": "markdown",
   "metadata": {},
   "source": [
    "#### Date in the timestamp composed of yyyymmddhhss"
   ]
  },
  {
   "cell_type": "code",
   "execution_count": 7,
   "metadata": {
    "collapsed": false
   },
   "outputs": [],
   "source": [
    " train = train %>%  mutate(      \n",
    "    tfa_year = str_sub(timestamp_first_active, 1, 4),\n",
    "    tfa_month = str_sub(timestamp_first_active, 5, 6),\n",
    "    tfa_day = str_sub(timestamp_first_active, 7, 8),\n",
    "    tfa_yearmonth = str_sub(timestamp_first_active, 1, 6),\n",
    "    tfa_yearmonthday = as.numeric(str_sub(timestamp_first_active, 1, 8)),\n",
    "    tfa_date = as.Date(paste(tfa_year, tfa_month, tfa_day, sep=\"-\")),\n",
    "    tfa_week = as.numeric(format(tfa_date+3, \"%U\")),\n",
    "    tfa_yearmonthweek = as.numeric(paste0(tfa_year, tfa_month, formatC(tfa_week, width=2, flag=\"0\"))),\n",
    "     # formatC is used to add 0 before the single digit, \n",
    "    tfa_weekday = weekdays(tfa_date)\n",
    "     )"
   ]
  },
  {
   "cell_type": "markdown",
   "metadata": {},
   "source": [
    "#### Date in the timestamp composed of yyyy-mm-dd hh:MM:ss"
   ]
  },
  {
   "cell_type": "markdown",
   "metadata": {},
   "source": [
    "* Use the the function from <https://rpubs.com/davoodastaraky/lubridate>\n",
    "* Idea is use ymd or ymd_hms to transform string to a POXICT object and then use all the unit function to get each small time unit out of it\n",
    "* And use the interval to get the difference and as.period to get the actual length (specify different units)`as.period(interval(start,end), unit = \"seconds\")`"
   ]
  },
  {
   "cell_type": "code",
   "execution_count": 1,
   "metadata": {
    "collapsed": false
   },
   "outputs": [
    {
     "name": "stderr",
     "output_type": "stream",
     "text": [
      "\n",
      "Attaching package: 'lubridate'\n",
      "\n",
      "The following object is masked from 'package:base':\n",
      "\n",
      "    date\n",
      "\n"
     ]
    }
   ],
   "source": [
    "library(lubridate)"
   ]
  },
  {
   "cell_type": "code",
   "execution_count": 3,
   "metadata": {
    "collapsed": true
   },
   "outputs": [],
   "source": [
    "library(jsonlite)"
   ]
  },
  {
   "cell_type": "code",
   "execution_count": 5,
   "metadata": {
    "collapsed": false
   },
   "outputs": [],
   "source": [
    "song = fromJSON(\"E:/Personal/InterviewQuestion/Rscripts/TakeHomeChallenge/Song_Recommendation/song.json\")"
   ]
  },
  {
   "cell_type": "code",
   "execution_count": null,
   "metadata": {
    "collapsed": true
   },
   "outputs": [],
   "source": [
    "song = song %>%  mutate(      \n",
    "    user_sign_up_date = as.Date(user_sign_up_date, \"%Y-%m-%d\"),\n",
    "    time_played = ymd_hms(time_played),\n",
    "    ## Individual features from the sign up date\n",
    "    user_sign_up_month = month(user_sign_up_date),\n",
    "    user_sign_up_day_of_the_week = weekdays(user_sign_up_date), \n",
    "\n",
    "    ## Individual features from the play date time\n",
    "    played_month = month(time_played),\n",
    "    played_day = as.Date(time_played),\n",
    "    played_day_of_the_week = weekdays(time_played),\n",
    "    played_hour = hour(time_played)\n",
    "     ) %>% group_by(user_id) %>% \n",
    "    mutate(first_time_played = min(played_day), lag_signup_firstplayed =  as.numeric(first_time_played - user_sign_up_date))"
   ]
  },
  {
   "cell_type": "markdown",
   "metadata": {},
   "source": [
    "#### Date in the timestamp in Epoch time"
   ]
  },
  {
   "cell_type": "markdown",
   "metadata": {},
   "source": [
    "* Timezone is the key, pay attention to the values"
   ]
  },
  {
   "cell_type": "code",
   "execution_count": 40,
   "metadata": {
    "collapsed": true
   },
   "outputs": [],
   "source": [
    "lyftData = read.csv(\"//scratch2/scratch/menli/Data/test.csv\", header = TRUE, stringsAsFactors = FALSE)"
   ]
  },
  {
   "cell_type": "code",
   "execution_count": 41,
   "metadata": {
    "collapsed": false
   },
   "outputs": [
    {
     "data": {
      "text/html": [
       "<table>\n",
       "<thead><tr><th></th><th scope=col>row_id</th><th scope=col>start_lng</th><th scope=col>start_lat</th><th scope=col>end_lng</th><th scope=col>end_lat</th><th scope=col>start_timestamp</th></tr></thead>\n",
       "<tbody>\n",
       "\t<tr><th scope=row>1</th><td>0         </td><td>-73.993111</td><td>40.724289 </td><td>-74.000977</td><td>40.735222 </td><td>1422173589</td></tr>\n",
       "\t<tr><th scope=row>2</th><td>1         </td><td>-73.971924</td><td>40.762749 </td><td>-73.965698</td><td>40.771427 </td><td>1420567340</td></tr>\n",
       "\t<tr><th scope=row>3</th><td>2         </td><td>-73.953247</td><td>40.765816 </td><td>-73.952843</td><td>40.772453 </td><td>1420567343</td></tr>\n",
       "\t<tr><th scope=row>4</th><td>3         </td><td>-73.986618</td><td>40.739353 </td><td>-73.949158</td><td>40.805161 </td><td>1420103336</td></tr>\n",
       "\t<tr><th scope=row>5</th><td>4         </td><td>-73.968864</td><td>40.757317 </td><td>-73.982521</td><td>40.771305 </td><td>1420690180</td></tr>\n",
       "\t<tr><th scope=row>6</th><td>5         </td><td>-73.986465</td><td>40.739922 </td><td>-73.979027</td><td>40.721848 </td><td>1422582071</td></tr>\n",
       "</tbody>\n",
       "</table>\n"
      ],
      "text/latex": [
       "\\begin{tabular}{r|llllll}\n",
       "  & row\\_id & start\\_lng & start\\_lat & end\\_lng & end\\_lat & start\\_timestamp\\\\\n",
       "\\hline\n",
       "\t1 & 0          & -73.993111 & 40.724289  & -74.000977 & 40.735222  & 1422173589\\\\\n",
       "\t2 & 1          & -73.971924 & 40.762749  & -73.965698 & 40.771427  & 1420567340\\\\\n",
       "\t3 & 2          & -73.953247 & 40.765816  & -73.952843 & 40.772453  & 1420567343\\\\\n",
       "\t4 & 3          & -73.986618 & 40.739353  & -73.949158 & 40.805161  & 1420103336\\\\\n",
       "\t5 & 4          & -73.968864 & 40.757317  & -73.982521 & 40.771305  & 1420690180\\\\\n",
       "\t6 & 5          & -73.986465 & 40.739922  & -73.979027 & 40.721848  & 1422582071\\\\\n",
       "\\end{tabular}\n"
      ],
      "text/plain": [
       "  row_id start_lng start_lat   end_lng  end_lat start_timestamp\n",
       "1      0 -73.99311  40.72429 -74.00098 40.73522      1422173589\n",
       "2      1 -73.97192  40.76275 -73.96570 40.77143      1420567340\n",
       "3      2 -73.95325  40.76582 -73.95284 40.77245      1420567343\n",
       "4      3 -73.98662  40.73935 -73.94916 40.80516      1420103336\n",
       "5      4 -73.96886  40.75732 -73.98252 40.77130      1420690180\n",
       "6      5 -73.98646  40.73992 -73.97903 40.72185      1422582071"
      ]
     },
     "metadata": {},
     "output_type": "display_data"
    }
   ],
   "source": [
    "head(lyftData)"
   ]
  },
  {
   "cell_type": "code",
   "execution_count": 42,
   "metadata": {
    "collapsed": true
   },
   "outputs": [],
   "source": [
    "lyftData$start_time = as.POSIXct(lyftData$start_timestamp,origin=\"1970-01-01\",tz=\"America/New_York\")"
   ]
  },
  {
   "cell_type": "markdown",
   "metadata": {},
   "source": [
    "#### Create lag of dates"
   ]
  },
  {
   "cell_type": "markdown",
   "metadata": {},
   "source": [
    "* Check to see whether the order of the date is correct\n",
    "* make sure all your date is in date format"
   ]
  },
  {
   "cell_type": "code",
   "execution_count": 8,
   "metadata": {
    "collapsed": false
   },
   "outputs": [],
   "source": [
    "train = train %>% dplyr::mutate( \n",
    "    date_first_booking = ifelse(date_first_booking == \"\", NA, date_first_booking), #First change all the \"\" to NA\n",
    "    date_first_booking= as.Date(date_first_booking),\n",
    "    # Then perform the as.Date all the data or it will convert to a numberic if use as.Date in ifelse   \n",
    "    dac_lag = as.numeric(date_account_created - tfa_date),\n",
    "    dfb_dac_lag = as.numeric(date_first_booking - date_account_created),\n",
    "    dfb_dac_lag_cut = as.character(cut2(dfb_dac_lag, c(0, 1))),\n",
    "    dfb_dac_lag_flg = as.numeric(as.factor(ifelse(is.na(dfb_dac_lag_cut)==T, \"NA\", dfb_dac_lag_cut))) - 1,\n",
    "    dfb_tfa_lag = as.numeric(date_first_booking - tfa_date),\n",
    "    dfb_tfa_lag_cut = as.character(cut2(dfb_tfa_lag, c(0, 1))), #cut2 includes the beginning not the end [) untill the last one []\n",
    "    dfb_tfa_lag_flg = as.numeric(as.factor(ifelse(is.na(dfb_tfa_lag_cut)==T, \"NA\", dfb_tfa_lag_cut))) - 1 \n",
    "    ## Give NA, wrong information different labels\n",
    "  )"
   ]
  },
  {
   "cell_type": "markdown",
   "metadata": {},
   "source": [
    "<h2 align = \"center\"><font color = \"red\">Age Information</font> </h2>"
   ]
  },
  {
   "cell_type": "code",
   "execution_count": 60,
   "metadata": {
    "collapsed": false
   },
   "outputs": [],
   "source": [
    "train = train %>% mutate(\n",
    "                         age_cln = ifelse(age >= 1920, 2015 - age, age), #this will treat NA as it is \n",
    "                         age_cln2 = ifelse(age_cln < 14 | age_cln > 100, -1, age_cln),\n",
    "                         age_bucket = cut(age, breaks = c(min(age_cln), 4, 9, 14, 19, 24,\n",
    "                                     29, 34, 39, 44, 49, 54,\n",
    "                                     59, 64, 69, 74, 79, 84,\n",
    "                                     89, 94, 99, max(age_cln)\n",
    "                         ) ),\n",
    "                         age_bucket = plyr::mapvalues(age_bucket,\n",
    "                           from=c(\"(1,19]\",\n",
    "                                  \"(19,24]\", \"(24,29]\", \"(29,34]\", \"(34,39]\",\n",
    "                                  \"(39,44]\", \"(44,49]\", \"(49,54]\", \"(54,59]\",\n",
    "                                  \"(59,64]\", \"(64,69]\", \"(69,74]\", \"(74,79]\",\n",
    "                                  \"(79,99]\", \"(99,150]\"),\n",
    "                           to=c(\"0-19\", \n",
    "                                \"20-24\", \"25-29\", \"30-34\", \"35-39\",\n",
    "                                \"40-44\", \"45-49\", \"50-54\", \"55-59\",\n",
    "                                \"60-64\", \"65-69\", \"70-74\", \"75-79\",\n",
    "                                \"80-99\", \"100+\"))\n",
    "                         ) #mapValues like a lot of ifelse and you don't have to care about NA as it will treat as it is"
   ]
  },
  {
   "cell_type": "markdown",
   "metadata": {},
   "source": [
    "<h2 align = \"center\"><font color = \"red\">If there are joins between two tables</font> </h2>"
   ]
  },
  {
   "cell_type": "markdown",
   "metadata": {},
   "source": [
    "* Make sure whether there is potential N-to-N relationships\n",
    "\n",
    "* If not, make sure at least one table has one id per each row at least \n"
   ]
  },
  {
   "cell_type": "markdown",
   "metadata": {},
   "source": [
    "<h2 align = \"center\"><font color = \"red\">Seesion Information</font> </h2>"
   ]
  },
  {
   "cell_type": "code",
   "execution_count": 62,
   "metadata": {
    "collapsed": false
   },
   "outputs": [
    {
     "data": {
      "text/html": [
       "<table>\n",
       "<thead><tr><th></th><th scope=col>user_id</th><th scope=col>action</th><th scope=col>action_type</th><th scope=col>action_detail</th><th scope=col>device_type</th><th scope=col>secs_elapsed</th></tr></thead>\n",
       "<tbody>\n",
       "\t<tr><th scope=row>1</th><td>d1mm9tcy42     </td><td>lookup         </td><td>               </td><td>               </td><td>Windows Desktop</td><td>319            </td></tr>\n",
       "\t<tr><th scope=row>2</th><td>d1mm9tcy42         </td><td>search_results     </td><td>click              </td><td>view_search_results</td><td>Windows Desktop    </td><td>67753              </td></tr>\n",
       "\t<tr><th scope=row>3</th><td>d1mm9tcy42     </td><td>lookup         </td><td>               </td><td>               </td><td>Windows Desktop</td><td>301            </td></tr>\n",
       "\t<tr><th scope=row>4</th><td>d1mm9tcy42         </td><td>search_results     </td><td>click              </td><td>view_search_results</td><td>Windows Desktop    </td><td>22141              </td></tr>\n",
       "\t<tr><th scope=row>5</th><td>d1mm9tcy42     </td><td>lookup         </td><td>               </td><td>               </td><td>Windows Desktop</td><td>435            </td></tr>\n",
       "\t<tr><th scope=row>6</th><td>d1mm9tcy42         </td><td>search_results     </td><td>click              </td><td>view_search_results</td><td>Windows Desktop    </td><td>7703               </td></tr>\n",
       "</tbody>\n",
       "</table>\n"
      ],
      "text/latex": [
       "\\begin{tabular}{r|llllll}\n",
       "  & user\\_id & action & action\\_type & action\\_detail & device\\_type & secs\\_elapsed\\\\\n",
       "\\hline\n",
       "\t1 & d1mm9tcy42      & lookup          &                 &                 & Windows Desktop & 319            \\\\\n",
       "\t2 & d1mm9tcy42              & search\\_results        & click                   & view\\_search\\_results & Windows Desktop         & 67753                  \\\\\n",
       "\t3 & d1mm9tcy42      & lookup          &                 &                 & Windows Desktop & 301            \\\\\n",
       "\t4 & d1mm9tcy42              & search\\_results        & click                   & view\\_search\\_results & Windows Desktop         & 22141                  \\\\\n",
       "\t5 & d1mm9tcy42      & lookup          &                 &                 & Windows Desktop & 435            \\\\\n",
       "\t6 & d1mm9tcy42              & search\\_results        & click                   & view\\_search\\_results & Windows Desktop         & 7703                   \\\\\n",
       "\\end{tabular}\n"
      ],
      "text/plain": [
       "     user_id         action action_type       action_detail     device_type\n",
       "1 d1mm9tcy42         lookup                                 Windows Desktop\n",
       "2 d1mm9tcy42 search_results       click view_search_results Windows Desktop\n",
       "3 d1mm9tcy42         lookup                                 Windows Desktop\n",
       "4 d1mm9tcy42 search_results       click view_search_results Windows Desktop\n",
       "5 d1mm9tcy42         lookup                                 Windows Desktop\n",
       "6 d1mm9tcy42 search_results       click view_search_results Windows Desktop\n",
       "  secs_elapsed\n",
       "1          319\n",
       "2        67753\n",
       "3          301\n",
       "4        22141\n",
       "5          435\n",
       "6         7703"
      ]
     },
     "metadata": {},
     "output_type": "display_data"
    }
   ],
   "source": [
    "head(sessions)"
   ]
  },
  {
   "cell_type": "code",
   "execution_count": null,
   "metadata": {
    "collapsed": true
   },
   "outputs": [],
   "source": [
    "# **************************************\n",
    "# sessions features\n",
    "# **************************************\n",
    "sessions$flg <- 1\n",
    "sessions <- data.table(sessions)\n",
    "sessions[, seq := sequence(.N), by = c(\"user_id\")]\n",
    "sessions[, seq_rev := rev(sequence(.N)), by = c(\"user_id\")]\n",
    "sessions[, action2 := paste(action, action_type, action_detail, device_type, sep=\"_\"),]\n",
    "\n",
    "first_execution <- 1\n",
    "\n",
    "if(first_execution == 1){\n",
    "  sessions_action_se_sum <- sessions[,list(secs_elapsed_sum = sum(secs_elapsed, na.rm=T)),\n",
    "                                     by=list(user_id, action)]\n",
    "  sessions_action_se_sum <- melt.data.table(sessions_action_se_sum)\n",
    "  sessions_action_se_sum$variable <- NULL\n",
    "  sessions_action_se_sum <- data.frame(sessions_action_se_sum)\n",
    "  names(sessions_action_se_sum) <- c(\"id\", \"feature\", \"value\")\n",
    "  sessions_action_se_sum$feature <- paste(\"action_se_sum\", sessions_action_se_sum$feature, sep=\"_\")\n",
    "  n_distinct(sessions_action_se_sum$feature)\n",
    "  saveRDS(sessions_action_se_sum, \"cache/sessions_action_se_sum.RData\")\n",
    "  \n",
    "  \n",
    "  sessions_action_type_se_sum <- sessions[,list(secs_elapsed_sum = sum(secs_elapsed, na.rm=T)),\n",
    "                                          by=list(user_id, action_type)]\n",
    "  sessions_action_type_se_sum <- melt.data.table(sessions_action_type_se_sum)\n",
    "  sessions_action_type_se_sum$variable <- NULL\n",
    "  sessions_action_type_se_sum <- data.frame(sessions_action_type_se_sum)\n",
    "  names(sessions_action_type_se_sum) <- c(\"id\", \"feature\", \"value\")\n",
    "  sessions_action_type_se_sum$feature <- paste(\"action_type_se_sum\", sessions_action_type_se_sum$feature, sep=\"_\")\n",
    "  n_distinct(sessions_action_type_se_sum$feature)\n",
    "  saveRDS(sessions_action_type_se_sum, \"cache/sessions_action_type_se_sum.RData\")\n",
    "  \n",
    "  \n",
    "  sessions_action_detail_se_sum <- sessions[,list(secs_elapsed_sum = sum(secs_elapsed, na.rm=T)),\n",
    "                                            by=list(user_id, action_detail)]\n",
    "  sessions_action_detail_se_sum <- melt.data.table(sessions_action_detail_se_sum)\n",
    "  sessions_action_detail_se_sum$variable <- NULL\n",
    "  sessions_action_detail_se_sum <- data.frame(sessions_action_detail_se_sum)\n",
    "  names(sessions_action_detail_se_sum) <- c(\"id\", \"feature\", \"value\")\n",
    "  sessions_action_detail_se_sum$feature <- paste(\"action_detail_se_sum\", sessions_action_detail_se_sum$feature, sep=\"_\")\n",
    "  n_distinct(sessions_action_detail_se_sum$feature)\n",
    "  saveRDS(sessions_action_detail_se_sum, \"cache/sessions_action_detail_se_sum.RData\")\n",
    "  \n",
    "  \n",
    "  sessions_device_type_se_sum <- sessions[,list(secs_elapsed_sum = sum(secs_elapsed, na.rm=T)),\n",
    "                                          by=list(user_id, device_type)]\n",
    "  sessions_device_type_se_sum <- melt.data.table(sessions_device_type_se_sum)\n",
    "  sessions_device_type_se_sum$variable <- NULL\n",
    "  sessions_device_type_se_sum <- data.frame(sessions_device_type_se_sum)\n",
    "  names(sessions_device_type_se_sum) <- c(\"id\", \"feature\", \"value\")\n",
    "  sessions_device_type_se_sum$feature <- paste(\"device_type_se_sum\", sessions_device_type_se_sum$feature, sep=\"_\")\n",
    "  n_distinct(sessions_device_type_se_sum$feature)\n",
    "  saveRDS(sessions_device_type_se_sum, \"cache/sessions_device_type_se_sum.RData\")\n",
    "  \n",
    "  \n",
    "  sessions_action_flg_sum <- sessions[,list(flg_sum = sum(flg, na.rm=T)),\n",
    "                                      by=list(user_id, action)]\n",
    "  sessions_action_flg_sum <- melt.data.table(sessions_action_flg_sum)\n",
    "  sessions_action_flg_sum$variable <- NULL\n",
    "  sessions_action_flg_sum <- data.frame(sessions_action_flg_sum)\n",
    "  names(sessions_action_flg_sum) <- c(\"id\", \"feature\", \"value\")\n",
    "  sessions_action_flg_sum$feature <- paste(\"action_flg_sum\", sessions_action_flg_sum$feature, sep=\"_\")\n",
    "  n_distinct(sessions_action_flg_sum$feature)\n",
    "  saveRDS(sessions_action_flg_sum, \"cache/sessions_action_flg_sum.RData\")\n",
    "  \n",
    "  \n",
    "  sessions_action_type_flg_sum <- sessions[,list(flg_sum = sum(flg, na.rm=T)),\n",
    "                                           by=list(user_id, action_type)]\n",
    "  sessions_action_type_flg_sum <- melt.data.table(sessions_action_type_flg_sum)\n",
    "  sessions_action_type_flg_sum$variable <- NULL\n",
    "  sessions_action_type_flg_sum <- data.frame(sessions_action_type_flg_sum)\n",
    "  names(sessions_action_type_flg_sum) <- c(\"id\", \"feature\", \"value\")\n",
    "  sessions_action_type_flg_sum$feature <- paste(\"action_type_flg_sum\", sessions_action_type_flg_sum$feature, sep=\"_\")\n",
    "  n_distinct(sessions_action_type_flg_sum$feature)\n",
    "  saveRDS(sessions_action_type_flg_sum, \"cache/sessions_action_type_flg_sum.RData\")\n",
    "  \n",
    "  \n",
    "  sessions_action_detail_flg_sum <- sessions[,list(flg_sum = sum(flg, na.rm=T)),\n",
    "                                             by=list(user_id, action_detail)]\n",
    "  sessions_action_detail_flg_sum <- melt.data.table(sessions_action_detail_flg_sum)\n",
    "  sessions_action_detail_flg_sum$variable <- NULL\n",
    "  sessions_action_detail_flg_sum <- data.frame(sessions_action_detail_flg_sum)\n",
    "  names(sessions_action_detail_flg_sum) <- c(\"id\", \"feature\", \"value\")\n",
    "  sessions_action_detail_flg_sum$feature <- paste(\"action_detail_flg_sum\", sessions_action_detail_flg_sum$feature, sep=\"_\")\n",
    "  n_distinct(sessions_action_detail_flg_sum$feature)\n",
    "  saveRDS(sessions_action_detail_flg_sum, \"cache/sessions_action_detail_flg_sum.RData\")\n",
    "  \n",
    "  \n",
    "  sessions_device_type_flg_sum <- sessions[,list(flg_sum = sum(flg, na.rm=T)),\n",
    "                                           by=list(user_id, device_type)]\n",
    "  sessions_device_type_flg_sum <- melt.data.table(sessions_device_type_flg_sum)\n",
    "  sessions_device_type_flg_sum$variable <- NULL\n",
    "  sessions_device_type_flg_sum <- data.frame(sessions_device_type_flg_sum)\n",
    "  names(sessions_device_type_flg_sum) <- c(\"id\", \"feature\", \"value\")\n",
    "  sessions_device_type_flg_sum$feature <- paste(\"device_type_flg_sum\", sessions_device_type_flg_sum$feature, sep=\"_\")\n",
    "  n_distinct(sessions_device_type_flg_sum$feature)\n",
    "  saveRDS(sessions_device_type_flg_sum, \"cache/sessions_device_type_flg_sum.RData\")\n",
    "  \n",
    "  \n",
    "  sessions_action_se_mean <- sessions[,list(secs_elapsed_mean = mean(secs_elapsed, na.rm=T)),\n",
    "                                      by=list(user_id, action)]\n",
    "  sessions_action_se_mean <- melt.data.table(sessions_action_se_mean)\n",
    "  sessions_action_se_mean$variable <- NULL\n",
    "  sessions_action_se_mean <- data.frame(sessions_action_se_mean)\n",
    "  names(sessions_action_se_mean) <- c(\"id\", \"feature\", \"value\")\n",
    "  sessions_action_se_mean$feature <- paste(\"action_se_mean\", sessions_action_se_mean$feature, sep=\"_\")\n",
    "  n_distinct(sessions_action_se_mean$feature)\n",
    "  saveRDS(sessions_action_se_mean, \"cache/sessions_action_se_mean.RData\")\n",
    "  \n",
    "  \n",
    "  sessions_action_type_se_mean <- sessions[,list(secs_elapsed_mean = mean(secs_elapsed, na.rm=T)),\n",
    "                                           by=list(user_id, action_type)]\n",
    "  sessions_action_type_se_mean <- melt.data.table(sessions_action_type_se_mean)\n",
    "  sessions_action_type_se_mean$variable <- NULL\n",
    "  sessions_action_type_se_mean <- data.frame(sessions_action_type_se_mean)\n",
    "  names(sessions_action_type_se_mean) <- c(\"id\", \"feature\", \"value\")\n",
    "  sessions_action_type_se_mean$feature <- paste(\"action_type_se_mean\", sessions_action_type_se_mean$feature, sep=\"_\")\n",
    "  n_distinct(sessions_action_type_se_mean$feature)\n",
    "  saveRDS(sessions_action_type_se_mean, \"cache/sessions_action_type_se_mean.RData\")\n",
    "  \n",
    "  \n",
    "  sessions_action_detail_se_mean <- sessions[,list(secs_elapsed_mean = mean(secs_elapsed, na.rm=T)),\n",
    "                                             by=list(user_id, action_detail)]\n",
    "  sessions_action_detail_se_mean <- melt.data.table(sessions_action_detail_se_mean)\n",
    "  sessions_action_detail_se_mean$variable <- NULL\n",
    "  sessions_action_detail_se_mean <- data.frame(sessions_action_detail_se_mean)\n",
    "  names(sessions_action_detail_se_mean) <- c(\"id\", \"feature\", \"value\")\n",
    "  sessions_action_detail_se_mean$feature <- paste(\"action_detail_se_mean\", sessions_action_detail_se_mean$feature, sep=\"_\")\n",
    "  n_distinct(sessions_action_detail_se_mean$feature)\n",
    "  saveRDS(sessions_action_detail_se_mean, \"cache/sessions_action_detail_se_mean.RData\")\n",
    "  \n",
    "  \n",
    "  sessions_device_type_se_mean <- sessions[,list(secs_elapsed_mean = mean(secs_elapsed, na.rm=T)),\n",
    "                                           by=list(user_id, device_type)]\n",
    "  sessions_device_type_se_mean <- melt.data.table(sessions_device_type_se_mean)\n",
    "  sessions_device_type_se_mean$variable <- NULL\n",
    "  sessions_device_type_se_mean <- data.frame(sessions_device_type_se_mean)\n",
    "  names(sessions_device_type_se_mean) <- c(\"id\", \"feature\", \"value\")\n",
    "  sessions_device_type_se_mean$feature <- paste(\"device_type_se_mean\", sessions_device_type_se_mean$feature, sep=\"_\")\n",
    "  n_distinct(sessions_device_type_se_mean$feature)\n",
    "  saveRDS(sessions_device_type_se_mean, \"cache/sessions_device_type_se_mean.RData\")\n",
    "  \n",
    "  \n",
    "  sessions_action_se_sd <- sessions[,list(secs_elapsed_sd = sd(secs_elapsed, na.rm=T)),\n",
    "                                    by=list(user_id, action)]\n",
    "  sessions_action_se_sd <- melt.data.table(sessions_action_se_sd)\n",
    "  sessions_action_se_sd$variable <- NULL\n",
    "  sessions_action_se_sd <- data.frame(sessions_action_se_sd)\n",
    "  names(sessions_action_se_sd) <- c(\"id\", \"feature\", \"value\")\n",
    "  sessions_action_se_sd$feature <- paste(\"action_se_sd\", sessions_action_se_sd$feature, sep=\"_\")\n",
    "  n_distinct(sessions_action_se_sd$feature)\n",
    "  saveRDS(sessions_action_se_sd, \"cache/sessions_action_se_sd.RData\")\n",
    "  \n",
    "  \n",
    "  sessions_action_type_se_sd <- sessions[,list(secs_elapsed_sd = sd(secs_elapsed, na.rm=T)),\n",
    "                                         by=list(user_id, action_type)]\n",
    "  sessions_action_type_se_sd <- melt.data.table(sessions_action_type_se_sd)\n",
    "  sessions_action_type_se_sd$variable <- NULL\n",
    "  sessions_action_type_se_sd <- data.frame(sessions_action_type_se_sd)\n",
    "  names(sessions_action_type_se_sd) <- c(\"id\", \"feature\", \"value\")\n",
    "  sessions_action_type_se_sd$feature <- paste(\"action_type_se_sd\", sessions_action_type_se_sd$feature, sep=\"_\")\n",
    "  n_distinct(sessions_action_type_se_sd$feature)\n",
    "  saveRDS(sessions_action_type_se_sd, \"cache/sessions_action_type_se_sd.RData\")\n",
    "  \n",
    "  \n",
    "  sessions_action_detail_se_sd <- sessions[,list(secs_elapsed_sd = sd(secs_elapsed, na.rm=T)),\n",
    "                                           by=list(user_id, action_detail)]\n",
    "  sessions_action_detail_se_sd <- melt.data.table(sessions_action_detail_se_sd)\n",
    "  sessions_action_detail_se_sd$variable <- NULL\n",
    "  sessions_action_detail_se_sd <- data.frame(sessions_action_detail_se_sd)\n",
    "  names(sessions_action_detail_se_sd) <- c(\"id\", \"feature\", \"value\")\n",
    "  sessions_action_detail_se_sd$feature <- paste(\"action_detail_se_sd\", sessions_action_detail_se_sd$feature, sep=\"_\")\n",
    "  n_distinct(sessions_action_detail_se_sd$feature)\n",
    "  saveRDS(sessions_action_detail_se_sd, \"cache/sessions_action_detail_se_sd.RData\")\n",
    "  \n",
    "  \n",
    "  sessions_device_type_se_sd <- sessions[,list(secs_elapsed_sd = sd(secs_elapsed, na.rm=T)),\n",
    "                                         by=list(user_id, device_type)]\n",
    "  sessions_device_type_se_sd <- melt.data.table(sessions_device_type_se_sd)\n",
    "  sessions_device_type_se_sd$variable <- NULL\n",
    "  sessions_device_type_se_sd <- data.frame(sessions_device_type_se_sd)\n",
    "  names(sessions_device_type_se_sd) <- c(\"id\", \"feature\", \"value\")\n",
    "  sessions_device_type_se_sd$feature <- paste(\"device_type_se_sd\", sessions_device_type_se_sd$feature, sep=\"_\")\n",
    "  n_distinct(sessions_device_type_se_sd$feature)\n",
    "  saveRDS(sessions_device_type_se_sd, \"cache/sessions_device_type_se_sd.RData\")\n",
    "  \n",
    "  \n",
    "  sessions_action_se_wrmean <- sessions[,list(secs_elapsed_wrmean = weighted.mean(secs_elapsed, w = 1/seq_rev)),\n",
    "                                        by=list(user_id, action)]\n",
    "  sessions_action_se_wrmean <- melt.data.table(sessions_action_se_wrmean)\n",
    "  sessions_action_se_wrmean$variable <- NULL\n",
    "  sessions_action_se_wrmean <- data.frame(sessions_action_se_wrmean)\n",
    "  names(sessions_action_se_wrmean) <- c(\"id\", \"feature\", \"value\")\n",
    "  sessions_action_se_wrmean$feature <- paste(\"action_se_wrmean\", sessions_action_se_wrmean$feature, sep=\"_\")\n",
    "  n_distinct(sessions_action_se_wrmean$feature)\n",
    "  saveRDS(sessions_action_se_wrmean, \"cache/sessions_action_se_wrmean.RData\")\n",
    "  \n",
    "  \n",
    "  sessions_action_type_se_wrmean <- sessions[,list(secs_elapsed_wrmean = weighted.mean(secs_elapsed, w = 1/seq_rev)),\n",
    "                                             by=list(user_id, action_type)]\n",
    "  sessions_action_type_se_wrmean <- melt.data.table(sessions_action_type_se_wrmean)\n",
    "  sessions_action_type_se_wrmean$variable <- NULL\n",
    "  sessions_action_type_se_wrmean <- data.frame(sessions_action_type_se_wrmean)\n",
    "  names(sessions_action_type_se_wrmean) <- c(\"id\", \"feature\", \"value\")\n",
    "  sessions_action_type_se_wrmean$feature <- paste(\"action_type_se_wrmean\", sessions_action_type_se_wrmean$feature, sep=\"_\")\n",
    "  n_distinct(sessions_action_type_se_wrmean$feature)\n",
    "  saveRDS(sessions_action_type_se_wrmean, \"cache/sessions_action_type_se_wrmean.RData\")\n",
    "  \n",
    "  \n",
    "  sessions_action_detail_se_wrmean <- sessions[,list(secs_elapsed_wrmean = weighted.mean(secs_elapsed, w = 1/seq_rev)),\n",
    "                                               by=list(user_id, action_detail)]\n",
    "  sessions_action_detail_se_wrmean <- melt.data.table(sessions_action_detail_se_wrmean)\n",
    "  sessions_action_detail_se_wrmean$variable <- NULL\n",
    "  sessions_action_detail_se_wrmean <- data.frame(sessions_action_detail_se_wrmean)\n",
    "  names(sessions_action_detail_se_wrmean) <- c(\"id\", \"feature\", \"value\")\n",
    "  sessions_action_detail_se_wrmean$feature <- paste(\"action_detail_se_wrmean\", sessions_action_detail_se_wrmean$feature, sep=\"_\")\n",
    "  n_distinct(sessions_action_detail_se_wrmean$feature)\n",
    "  saveRDS(sessions_action_detail_se_wrmean, \"cache/sessions_action_detail_se_wrmean.RData\")\n",
    "  \n",
    "  \n",
    "  sessions_device_type_se_wrmean <- sessions[,list(secs_elapsed_wrmean = weighted.mean(secs_elapsed, w = 1/seq_rev)),\n",
    "                                             by=list(user_id, device_type)]\n",
    "  sessions_device_type_se_wrmean <- melt.data.table(sessions_device_type_se_wrmean)\n",
    "  sessions_device_type_se_wrmean$variable <- NULL\n",
    "  sessions_device_type_se_wrmean <- data.frame(sessions_device_type_se_wrmean)\n",
    "  names(sessions_device_type_se_wrmean) <- c(\"id\", \"feature\", \"value\")\n",
    "  sessions_device_type_se_wrmean$feature <- paste(\"device_type_se_wrmean\", sessions_device_type_se_wrmean$feature, sep=\"_\")\n",
    "  n_distinct(sessions_device_type_se_wrmean$feature)\n",
    "  saveRDS(sessions_device_type_se_wrmean, \"cache/sessions_device_type_se_wrmean.RData\")\n",
    "  \n",
    "  \n",
    "  sessions_action_se_wmean <- sessions[,list(secs_elapsed_wmean = weighted.mean(secs_elapsed, w = 1/seq)),\n",
    "                                       by=list(user_id, action)]\n",
    "  sessions_action_se_wmean <- melt.data.table(sessions_action_se_wmean)\n",
    "  sessions_action_se_wmean$variable <- NULL\n",
    "  sessions_action_se_wmean <- data.frame(sessions_action_se_wmean)\n",
    "  names(sessions_action_se_wmean) <- c(\"id\", \"feature\", \"value\")\n",
    "  sessions_action_se_wmean$feature <- paste(\"action_se_wmean\", sessions_action_se_wmean$feature, sep=\"_\")\n",
    "  n_distinct(sessions_action_se_wmean$feature)\n",
    "  saveRDS(sessions_action_se_wmean, \"cache/sessions_action_se_wmean.RData\")\n",
    "  \n",
    "  \n",
    "  sessions_action_type_se_wmean <- sessions[,list(secs_elapsed_wmean = weighted.mean(secs_elapsed, w = 1/seq)),\n",
    "                                            by=list(user_id, action_type)]\n",
    "  sessions_action_type_se_wmean <- melt.data.table(sessions_action_type_se_wmean)\n",
    "  sessions_action_type_se_wmean$variable <- NULL\n",
    "  sessions_action_type_se_wmean <- data.frame(sessions_action_type_se_wmean)\n",
    "  names(sessions_action_type_se_wmean) <- c(\"id\", \"feature\", \"value\")\n",
    "  sessions_action_type_se_wmean$feature <- paste(\"action_type_se_wmean\", sessions_action_type_se_wmean$feature, sep=\"_\")\n",
    "  n_distinct(sessions_action_type_se_wmean$feature)\n",
    "  saveRDS(sessions_action_type_se_wmean, \"cache/sessions_action_type_se_wmean.RData\")\n",
    "  \n",
    "  \n",
    "  sessions_action_detail_se_wmean <- sessions[,list(secs_elapsed_wmean = weighted.mean(secs_elapsed, w = 1/seq)),\n",
    "                                              by=list(user_id, action_detail)]\n",
    "  sessions_action_detail_se_wmean <- melt.data.table(sessions_action_detail_se_wmean)\n",
    "  sessions_action_detail_se_wmean$variable <- NULL\n",
    "  sessions_action_detail_se_wmean <- data.frame(sessions_action_detail_se_wmean)\n",
    "  names(sessions_action_detail_se_wmean) <- c(\"id\", \"feature\", \"value\")\n",
    "  sessions_action_detail_se_wmean$feature <- paste(\"action_detail_se_wmean\", sessions_action_detail_se_wmean$feature, sep=\"_\")\n",
    "  n_distinct(sessions_action_detail_se_wmean$feature)\n",
    "  saveRDS(sessions_action_detail_se_wmean, \"cache/sessions_action_detail_se_wmean.RData\")\n",
    "  \n",
    "  \n",
    "  sessions_device_type_se_wmean <- sessions[,list(secs_elapsed_wmean = weighted.mean(secs_elapsed, w = 1/seq)),\n",
    "                                            by=list(user_id, device_type)]\n",
    "  sessions_device_type_se_wmean <- melt.data.table(sessions_device_type_se_wmean)\n",
    "  sessions_device_type_se_wmean$variable <- NULL\n",
    "  sessions_device_type_se_wmean <- data.frame(sessions_device_type_se_wmean)\n",
    "  names(sessions_device_type_se_wmean) <- c(\"id\", \"feature\", \"value\")\n",
    "  sessions_device_type_se_wmean$feature <- paste(\"device_type_se_wmean\", sessions_device_type_se_wmean$feature, sep=\"_\")\n",
    "  n_distinct(sessions_device_type_se_wmean$feature)\n",
    "  saveRDS(sessions_device_type_se_wmean, \"cache/sessions_device_type_se_wmean.RData\")\n",
    "}\n",
    "\n",
    "sessions_action_se_sum <- readRDS(\"cache/sessions_action_se_sum.RData\")\n",
    "sessions_action_type_se_sum <- readRDS(\"cache/sessions_action_type_se_sum.RData\")\n",
    "sessions_action_detail_se_sum <- readRDS(\"cache/sessions_action_detail_se_sum.RData\")\n",
    "sessions_device_type_se_sum <- readRDS(\"cache/sessions_device_type_se_sum.RData\")\n",
    "sessions_action_flg_sum <- readRDS(\"cache/sessions_action_flg_sum.RData\")\n",
    "sessions_action_type_flg_sum <- readRDS(\"cache/sessions_action_type_flg_sum.RData\")\n",
    "sessions_action_detail_flg_sum <- readRDS(\"cache/sessions_action_detail_flg_sum.RData\")\n",
    "sessions_device_type_flg_sum <- readRDS(\"cache/sessions_device_type_flg_sum.RData\")\n",
    "sessions_action_se_mean <- readRDS(\"cache/sessions_action_se_mean.RData\")\n",
    "sessions_action_type_se_mean <- readRDS(\"cache/sessions_action_type_se_mean.RData\")\n",
    "sessions_action_detail_se_mean <- readRDS(\"cache/sessions_action_detail_se_mean.RData\")\n",
    "sessions_device_type_se_mean <- readRDS(\"cache/sessions_device_type_se_mean.RData\")\n",
    "sessions_action_se_sd <- readRDS(\"cache/sessions_action_se_sd.RData\")\n",
    "sessions_action_type_se_sd <- readRDS(\"cache/sessions_action_type_se_sd.RData\")\n",
    "sessions_action_detail_se_sd <- readRDS(\"cache/sessions_action_detail_se_sd.RData\")\n",
    "sessions_device_type_se_sd <- readRDS(\"cache/sessions_device_type_se_sd.RData\")\n",
    "sessions_action_se_wrmean <- readRDS(\"cache/sessions_action_se_wrmean.RData\")\n",
    "sessions_action_type_se_wrmean <- readRDS(\"cache/sessions_action_type_se_wrmean.RData\")\n",
    "sessions_action_detail_se_wrmean <- readRDS(\"cache/sessions_action_detail_se_wrmean.RData\")\n",
    "sessions_device_type_se_wrmean <- readRDS(\"cache/sessions_device_type_se_wrmean.RData\")\n",
    "sessions_action_se_wmean <- readRDS(\"cache/sessions_action_se_wmean.RData\")\n",
    "sessions_action_type_se_wmean <- readRDS(\"cache/sessions_action_type_se_wmean.RData\")\n",
    "sessions_action_detail_se_wmean <- readRDS(\"cache/sessions_action_detail_se_wmean.RData\")\n",
    "sessions_device_type_se_wmean <- readRDS(\"cache/sessions_device_type_se_wmean.RData\")"
   ]
  },
  {
   "cell_type": "code",
   "execution_count": null,
   "metadata": {
    "collapsed": true
   },
   "outputs": [],
   "source": []
  },
  {
   "cell_type": "code",
   "execution_count": null,
   "metadata": {
    "collapsed": true
   },
   "outputs": [],
   "source": []
  },
  {
   "cell_type": "code",
   "execution_count": null,
   "metadata": {
    "collapsed": true
   },
   "outputs": [],
   "source": []
  },
  {
   "cell_type": "code",
   "execution_count": null,
   "metadata": {
    "collapsed": true
   },
   "outputs": [],
   "source": []
  },
  {
   "cell_type": "markdown",
   "metadata": {
    "collapsed": true
   },
   "source": [
    "### Change all the features to the long format with the feature name as the combination of the broad category and subcategory"
   ]
  },
  {
   "cell_type": "code",
   "execution_count": 54,
   "metadata": {
    "collapsed": false
   },
   "outputs": [
    {
     "name": "stdout",
     "output_type": "stream",
     "text": [
      "[1] \"categorical feature\"\n",
      "[1] 148\n"
     ]
    }
   ],
   "source": [
    "ohe_feats = c('gender', 'signup_method', 'signup_flow', 'language', 'affiliate_channel', \n",
    "              'affiliate_provider', 'first_affiliate_tracked', 'signup_app', 'first_device_type', 'first_browser')\n",
    "df_all_ohe_feats <- list()\n",
    "i <- 1\n",
    "n_feats <- 0\n",
    "for(feat in ohe_feats){\n",
    "  df_all_ohe_feats_ <- train[c(\"id\", feat)]\n",
    "  df_all_ohe_feats_$feature <- paste(feat, df_all_ohe_feats_[[feat]] , sep=\"_\") ## double [] to get the actual value (so it won't be a df)\n",
    "  n_feats_ <- n_distinct(df_all_ohe_feats_$feature)\n",
    "  df_all_ohe_feats_$value <- 1\n",
    "  df_all_ohe_feats_ <- df_all_ohe_feats_[c(\"id\", \"feature\", \"value\")]\n",
    "  df_all_ohe_feats[[i]] <- df_all_ohe_feats_\n",
    "  i <- i + 1\n",
    "  n_feats <- n_feats + n_feats_\n",
    "}\n",
    "df_all_ohe_feats <- bind_rows(df_all_ohe_feats)\n",
    "print(\"categorical feature\")\n",
    "print(n_feats)\n"
   ]
  },
  {
   "cell_type": "code",
   "execution_count": 61,
   "metadata": {
    "collapsed": false
   },
   "outputs": [
    {
     "name": "stdout",
     "output_type": "stream",
     "text": [
      "[1] \"numeric feature\"\n",
      "[1] 16\n"
     ]
    }
   ],
   "source": [
    "# **************************************\n",
    "# stack numeric feature\n",
    "# **************************************\n",
    "num_feats <- c(\n",
    "  \"age_cln\",\n",
    "  \"age_cln2\",\n",
    "  \"dac_year\",\n",
    "  \"dac_month\",\n",
    "  \"dac_yearmonth\",\n",
    "  \"dac_yearmonthday\",\n",
    "  \"dac_yearmonthweek\",\n",
    "  \"dac_day\",\n",
    "  \"dac_week\",\n",
    "  \"tfa_year\",\n",
    "  \"tfa_month\",\n",
    "  \"tfa_yearmonth\",\n",
    "  \"tfa_yearmonthday\",\n",
    "  \"tfa_yearmonthweek\",\n",
    "  \"tfa_day\",\n",
    "  \"tfa_week\"#,\n",
    "  # \"dac_lag\",\n",
    "  # \"dfb_dac_lag\",\n",
    "  # \"dfb_tfa_lag\"\n",
    ")\n",
    "df_all_num_feats <- list()\n",
    "i <- 1\n",
    "for(feat in num_feats){\n",
    "  df_all_num_feats_ <- train[c(\"id\", feat)]\n",
    "  df_all_num_feats_$feature <- feat\n",
    "  df_all_num_feats_$value <- as.numeric(df_all_num_feats_[[feat]])\n",
    "  df_all_num_feats_ <- df_all_num_feats_[c(\"id\", \"feature\", \"value\")]\n",
    "  df_all_num_feats[[i]] <- df_all_num_feats_\n",
    "  i <- i + 1\n",
    "}\n",
    "df_all_num_feats <- bind_rows(df_all_num_feats)\n",
    "print(\"numeric feature\")\n",
    "print(n_distinct(df_all_num_feats$feature))"
   ]
  },
  {
   "cell_type": "code",
   "execution_count": null,
   "metadata": {
    "collapsed": true
   },
   "outputs": [],
   "source": []
  }
 ],
 "metadata": {
  "kernelspec": {
   "display_name": "R",
   "language": "R",
   "name": "ir"
  },
  "language_info": {
   "codemirror_mode": "r",
   "file_extension": ".r",
   "mimetype": "text/x-r-source",
   "name": "R",
   "pygments_lexer": "r",
   "version": "3.3.1"
  }
 },
 "nbformat": 4,
 "nbformat_minor": 0
}
