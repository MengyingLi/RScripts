{
 "cells": [
  {
   "cell_type": "markdown",
   "metadata": {},
   "source": [
    "<h2 align = \"center\"> Missing Values </h2> "
   ]
  },
  {
   "cell_type": "markdown",
   "metadata": {},
   "source": [
    "[http://www.stat.columbia.edu/~gelman/arm/missing.pdf]"
   ]
  },
  {
   "cell_type": "markdown",
   "metadata": {},
   "source": [
    "#### Missing Value Mechanism"
   ]
  },
  {
   "cell_type": "markdown",
   "metadata": {},
   "source": [
    "* Missing completely at random\n",
    "\n",
    "Whether a variable is missing is completely at random like tossing a coin every time you collect a variable\n",
    "\n",
    "* Missing at random\n",
    "\n",
    "Whether a variable is missing is random as long as you control for other variables.\n",
    "\n",
    "* Missing is associated with unobserved variables\n",
    "\n",
    "So for example, the missing of earning question is only due to the variables we can't measure or don't know such as surliness\n",
    "\n",
    "* Missing is associated with the variable itself\n",
    "\n",
    "For example, the higher income people are less likely to reveal their income level"
   ]
  },
  {
   "cell_type": "markdown",
   "metadata": {},
   "source": [
    "#### Identify what might cause the missing value"
   ]
  },
  {
   "cell_type": "markdown",
   "metadata": {},
   "source": [
    "1) Consider the probability of missingness: whether a certain group is more likely to have missing or whether there is the missing with the variable itself;\n",
    "\n",
    "2) Some MAR analysis methods using MNAR data are still pretty good:  May be another measured variable that indirectly can predict the probability of missingness\n",
    "Example: those with higher incomes are less likely to report income\n",
    "BUT we have a variable for years of education and/or number of\n",
    "investments\n"
   ]
  },
  {
   "cell_type": "markdown",
   "metadata": {},
   "source": [
    "#### How to deal with missing values"
   ]
  },
  {
   "cell_type": "markdown",
   "metadata": {},
   "source": [
    "##### Complete analysis: Only analyze cases with available data on each variable\n",
    "\n",
    "Advantages: Simplicity /Comparability across analyses\n",
    "\n",
    "Disadvantages: Reduces statistical power\n",
    "(because lowers n) Doesn‟t use all information Estimates may be biased if\n",
    "data not MCAR*"
   ]
  },
  {
   "cell_type": "markdown",
   "metadata": {},
   "source": [
    "##### Available Case analysis: Analysis with all cases in which the variables of interest are present. \n",
    "\n",
    "Advantage: Keeps as many cases as possible for each analysis/ Uses all information possible with each analysis\n",
    "\n",
    "Disadvantage: Can‟t compare analyses because sample different each time\n",
    "<font color = 'red'>in classification, it can be seen as reduced-feature models: keep all the models that apply only to the available features "
   ]
  },
  {
   "cell_type": "markdown",
   "metadata": {},
   "source": [
    "##### Imputation"
   ]
  },
  {
   "cell_type": "markdown",
   "metadata": {},
   "source": [
    "\n",
    "\n",
    "1) Mean/Mode\n",
    "\n",
    "**Advantages**: Can use complete case analysis methods\n",
    "\n",
    "**Disadvantages**: Reduces variability/weakens covariance and correlation estimates in the data\n",
    "\n",
    "2) Distribution-based imputation (multiple imputation)  <font color='red'>(Classification)</font>\n",
    "C4.5. Given a new instance, when the missing value is encountered, simulate the values for this value based on the values for this feature at this split and assign a weight according to the frequency of each value in the data and then go down the tree and look at the class member probability at the leaf node based on the pesudo value and then compute a composite class probability based on the weight of that value and the class member probability \n",
    "\n",
    "**Advantage**: Variability more accurate with multiple imputations for each missing value/Considers variability due to sampling AND variability due to imputation\n",
    "\n",
    "**Disadvantage**: Cumbersome coding/ Room for error when specifying models\n",
    "\n",
    "\n",
    "\n",
    "3) Dummy variable adjustment\n",
    "Create an indicator for missing value (1=value is missing for observation; 0=value is observed for observation)\n",
    "Impute missing values to a constant (such as the mean if it is a continuous variable or an extra category if it is a categorical variable) + Include missing indicator in regression.Indicator variables for missingness of categorical predictors. \n",
    "\n",
    "**Advantage**: Uses all available information about missing observation\n",
    "\n",
    "**Disadvantage**: Results in biased estimates (because it forces the slope to be the same across both missing-data groups.)/ Not theoretically driven\n",
    "\n",
    "4) Regression Imputation\n",
    "Replaces missing values with predicted score from a regression equation.\n",
    "\n",
    "**Advantage**: Uses information from observed data\n",
    "\n",
    "**Disadvantages**: Overestimates model fit and correlation estimates/ Weakens variance\n",
    "\n"
   ]
  },
  {
   "cell_type": "markdown",
   "metadata": {},
   "source": [
    "### General Tips"
   ]
  },
  {
   "cell_type": "markdown",
   "metadata": {},
   "source": [
    "Try a few methods: often if result in similar estimates, can put as a footnote to support method\n"
   ]
  },
  {
   "cell_type": "markdown",
   "metadata": {},
   "source": [
    "* Knn Impute"
   ]
  },
  {
   "cell_type": "code",
   "execution_count": null,
   "metadata": {
    "collapsed": true
   },
   "outputs": [],
   "source": [
    "library(DMwR) #\n",
    "knnOutput <- knnImputation(BostonHousing[, !names(BostonHousing) %in% \"medv\"])"
   ]
  },
  {
   "cell_type": "markdown",
   "metadata": {},
   "source": [
    "* Rpart Impute"
   ]
  },
  {
   "cell_type": "code",
   "execution_count": null,
   "metadata": {
    "collapsed": true
   },
   "outputs": [],
   "source": []
  }
 ],
 "metadata": {
  "kernelspec": {
   "display_name": "R",
   "language": "R",
   "name": "ir"
  },
  "language_info": {
   "codemirror_mode": "r",
   "file_extension": ".r",
   "mimetype": "text/x-r-source",
   "name": "R",
   "pygments_lexer": "r",
   "version": "3.3.1"
  }
 },
 "nbformat": 4,
 "nbformat_minor": 0
}
