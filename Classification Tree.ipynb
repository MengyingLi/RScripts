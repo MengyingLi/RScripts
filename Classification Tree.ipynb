{
 "cells": [
  {
   "cell_type": "markdown",
   "metadata": {},
   "source": [
    "<h2 align = \"center\"> Classification Tree </h2>"
   ]
  },
  {
   "cell_type": "markdown",
   "metadata": {},
   "source": [
    "## Some Important Terms"
   ]
  },
  {
   "cell_type": "markdown",
   "metadata": {},
   "source": [
    "* Root node, inner node and leaf node\n",
    "* Information gain: measure the change in the entropy due to the new information being added\n",
    "\n",
    "* Handle nominal data: 2^(k-1)-1 combinations (think of putting k balls to 2 baskets)\n",
    "\n",
    "* If the output is numeric, use RSS as the split critiria (variance) if it is categorical use either information gain (Gini, Entropy)\n",
    "\n",
    "* Laplace smoothing is to add 2 to denominator and 1 to nominator\n",
    "\n",
    "* Prepruning (specify how many observations should be in each leaf/or use hypothesis testing on the leaf node to see whether the information gain on the split is due to chance based on the p-value) and post-pruning (cost-complexity pruning add a panelty on the size of the nodes) [Use cross validation apply one penalty and then use cv to figure out the performance and repeate the process for all the possible penalty values, `rpart` has a cross-validation parameter]\n",
    "\n",
    "* All the purity indexes have the weight for the number of records in each node compared to the total number of node. And the k of the index refers to the number of target labels.\n",
    "* Remember the gini and entropy plots (entropy is higher than Gini)\n",
    "\n",
    "* C4.5 and beyond start using information gain ratio (the information gain normalized by split information value [ represents the potential increase in information we get just by the size of the partitions themselves]) rather than information gain as information gain tends to have selection bias to favor the categorical variables. C5.0 also has a better way to prune the tree. Instead of eliminating nodes and subtrees, it can remove internal nodes but push up the the nodes beneath it and it can also has a cost matrix so thant the algorithm can avoid making certain types of misclassifications over others.\n",
    "\n",
    "* Variable importance in the tree \n",
    "One interesting plot that we can obtain is a plot of variable importance . For every input feature, we keep track of the reduction in the optimization criterion (for example, deviance or SSE) that occurs every time it is used anywhere in the tree. We can then tally up this quantity for all the splits in the tree and thus obtain relative amounts of variable importance. Intuitively, features that are highly important will tend to have been used early to split the data (and hence appear higher up in the tree, closer to the root node) as well as more often. If a feature is never used, then it is not important and in this way we can see that we have a built-in feature selection.\n"
   ]
  },
  {
   "cell_type": "markdown",
   "metadata": {},
   "source": [
    "  Strenghts     | Weakness\n",
    "  ------------- | -------------\n",
    "  1) Easy to explain <br/> 2) closer to human reasoning <br/>  3) display qualitively <br/>  4) handle qualitative predictors <br/>  5) can handle missing data as well (Igonre the missing during the training but use surrogate splits in prediction. When the optimal feature has missing value, we keep a list of the features that produce the similar splits and use these features to predict this observation) 6) Excludes unimportant features 7) can do the feature selection automatically| 1) Biased toward splits on features having a large number of levels <br />  2) Easy to overfit or underfit the model <br/> 3) have trouble modeling some relationships due to reliance on axis-parallel splits <br/> 4) small changes in the training data can result in large changes to decision logic "
   ]
  },
  {
   "cell_type": "markdown",
   "metadata": {},
   "source": [
    "## Visualization"
   ]
  },
  {
   "cell_type": "markdown",
   "metadata": {},
   "source": [
    "* Tree model"
   ]
  },
  {
   "cell_type": "markdown",
   "metadata": {},
   "source": [
    "* Partition of Instance space: Scatter plot on some pairs of features. It is good to compare different algorithms as well to see how each algorithm is "
   ]
  },
  {
   "cell_type": "markdown",
   "metadata": {},
   "source": [
    "* Importance of each attribute based on the information gain (won't be in the same order as the splitting as this is the global ranking not the local ranking )"
   ]
  },
  {
   "cell_type": "markdown",
   "metadata": {},
   "source": [
    "## C5.0"
   ]
  },
  {
   "cell_type": "code",
   "execution_count": 6,
   "metadata": {
    "collapsed": true
   },
   "outputs": [],
   "source": [
    "setwd(\"E:/Personal/InterviewQuestion/Rscripts\")\n",
    "bnote = read.table(\"data_banknote_authentication.txt\", sep = \",\")\n",
    "colnames(bnote) = c(\"waveletVar\", \"waveletSkew\", \"waveletCurt\", \"entropy\",\"class\")\n",
    "bnote$class = as.factor(bnote$class)"
   ]
  },
  {
   "cell_type": "code",
   "execution_count": 7,
   "metadata": {
    "collapsed": false
   },
   "outputs": [
    {
     "name": "stderr",
     "output_type": "stream",
     "text": [
      "Loading required package: lattice\n",
      "Loading required package: ggplot2\n",
      "\n",
      "Attaching package: 'dplyr'\n",
      "\n",
      "The following objects are masked from 'package:stats':\n",
      "\n",
      "    filter, lag\n",
      "\n",
      "The following objects are masked from 'package:base':\n",
      "\n",
      "    intersect, setdiff, setequal, union\n",
      "\n"
     ]
    }
   ],
   "source": [
    "library(caret)\n",
    "library(dplyr)"
   ]
  },
  {
   "cell_type": "code",
   "execution_count": 10,
   "metadata": {
    "collapsed": false
   },
   "outputs": [],
   "source": [
    "set.seed(19900830)\n",
    "percentofTraining = 0.85\n",
    "\n",
    "# Create the validation set and the training set\n",
    "sampling_vector = createDataPartition(bnote$class, p = percentofTraining, list = FALSE)\n",
    "# Get the label of the training set\n",
    "bnote_train <- bnote[sampling_vector,]\n",
    "bnote_train_labels <- bnote$class[sampling_vector]\n",
    "# Get the label of the validation set\n",
    "bnote_test_features <- bnote[-sampling_vector,] %>% select(-class)\n",
    "bnote_test_labels <- bnote$class[-sampling_vector]"
   ]
  },
  {
   "cell_type": "code",
   "execution_count": 11,
   "metadata": {
    "collapsed": false
   },
   "outputs": [
    {
     "data": {
      "text/plain": [
       "\n",
       "Call:\n",
       "C5.0.formula(formula = class ~ ., data = bnote_train)\n",
       "\n",
       "\n",
       "C5.0 [Release 2.07 GPL Edition]  \tMon Jun 13 16:51:21 2016\n",
       "-------------------------------\n",
       "\n",
       "Class specified by attribute `outcome'\n",
       "\n",
       "Read 1167 cases (5 attributes) from undefined.data\n",
       "\n",
       "Decision tree:\n",
       "\n",
       "waveletVar <= 0.31803:\n",
       ":...waveletSkew > 6.1251:\n",
       ":   :...waveletVar <= -3.4605: 1 (33/1)\n",
       ":   :   waveletVar > -3.4605: 0 (79)\n",
       ":   waveletSkew <= 6.1251:\n",
       ":   :...waveletCurt <= 3.0423: 1 (262)\n",
       ":       waveletCurt > 3.0423:\n",
       ":       :...waveletSkew > -1.8624:\n",
       ":           :...waveletVar <= -2.1652: 1 (3/1)\n",
       ":           :   waveletVar > -2.1652: 0 (20)\n",
       ":           waveletSkew <= -1.8624:\n",
       ":           :...waveletVar <= -0.69078: 1 (155)\n",
       ":               waveletVar > -0.69078:\n",
       ":               :...entropy <= -0.73535: 0 (2)\n",
       ":                   entropy > -0.73535: 1 (7)\n",
       "waveletVar > 0.31803:\n",
       ":...waveletCurt <= -4.3882:\n",
       "    :...waveletSkew <= 6.9942: 1 (27)\n",
       "    :   waveletSkew > 6.9942: 0 (9)\n",
       "    waveletCurt > -4.3882:\n",
       "    :...waveletVar > 1.5904: 0 (418/2)\n",
       "        waveletVar <= 1.5904:\n",
       "        :...waveletCurt <= -2.3:\n",
       "            :...waveletSkew <= 5.6864: 1 (19)\n",
       "            :   waveletSkew > 5.6864: 0 (2)\n",
       "            waveletCurt > -2.3:\n",
       "            :...entropy <= 0.10645: 0 (102/1)\n",
       "                entropy > 0.10645:\n",
       "                :...waveletCurt > 1.7956: 0 (15)\n",
       "                    waveletCurt <= 1.7956:\n",
       "                    :...waveletSkew <= 3.5074: 1 (12)\n",
       "                        waveletSkew > 3.5074: 0 (2)\n",
       "\n",
       "\n",
       "Evaluation on training data (1167 cases):\n",
       "\n",
       "\t    Decision Tree   \n",
       "\t  ----------------  \n",
       "\t  Size      Errors  \n",
       "\n",
       "\t    17    5( 0.4%)   <<\n",
       "\n",
       "\n",
       "\t   (a)   (b)    <-classified as\n",
       "\t  ----  ----\n",
       "\t   646     2    (a): class 0\n",
       "\t     3   516    (b): class 1\n",
       "\n",
       "\n",
       "\tAttribute usage:\n",
       "\n",
       "\t100.00%\twaveletVar\n",
       "\t 90.40%\twaveletCurt\n",
       "\t 54.16%\twaveletSkew\n",
       "\t 12.00%\tentropy\n",
       "\n",
       "\n",
       "Time: 0.0 secs\n"
      ]
     },
     "metadata": {},
     "output_type": "display_data"
    }
   ],
   "source": [
    "library(C50)\n",
    "bnote_tree = C5.0 (class ~ ., data = bnote_train)\n",
    "summary(bnote_tree)"
   ]
  },
  {
   "cell_type": "markdown",
   "metadata": {},
   "source": [
    "* The number in the parentheses means the number of observations from each class that are assigned to that node. 33/1 means that 33 reach the decision and 1 has been misclassified in that class\n",
    "* The attribute usage is the importance of the variable"
   ]
  },
  {
   "cell_type": "markdown",
   "metadata": {},
   "source": [
    "#### C5.0 could do the adaptive boosting"
   ]
  },
  {
   "cell_type": "code",
   "execution_count": null,
   "metadata": {
    "collapsed": true
   },
   "outputs": [],
   "source": [
    "bnote_tree = C5.0 (class ~ ., data = bnote_train, trials = 10) \n",
    "#the number of separate decision trees to use in the boosted team and the trials parameter sets an upper limit; the algorithm\n",
    "#wil stop adding trees if it recofnizes that additional trials don't seem to be improving the accuracy"
   ]
  },
  {
   "cell_type": "markdown",
   "metadata": {},
   "source": [
    "#### Make mistakes more costlier than others (cost matrix)"
   ]
  },
  {
   "cell_type": "code",
   "execution_count": 1,
   "metadata": {
    "collapsed": true
   },
   "outputs": [],
   "source": [
    "matrix_dimensions = list(c(\"no\", \"yes\"), c(\"no\", \"yes\"))"
   ]
  },
  {
   "cell_type": "code",
   "execution_count": 2,
   "metadata": {
    "collapsed": true
   },
   "outputs": [],
   "source": [
    "names(matrix_dimensions) = c(\"predicted\", \"actual\")"
   ]
  },
  {
   "cell_type": "code",
   "execution_count": 3,
   "metadata": {
    "collapsed": false
   },
   "outputs": [],
   "source": [
    "error_cost = matrix(c(0,1,4,0), nrow =2, dimnames = matrix_dimensions)"
   ]
  },
  {
   "cell_type": "code",
   "execution_count": null,
   "metadata": {
    "collapsed": true
   },
   "outputs": [],
   "source": [
    "# Columns should correspond to the true classes and rows are the predicted classes. and it is opposite to the confusion matrix we see "
   ]
  },
  {
   "cell_type": "code",
   "execution_count": 5,
   "metadata": {
    "collapsed": false
   },
   "outputs": [
    {
     "name": "stdout",
     "output_type": "stream",
     "text": [
      "         actual\n",
      "predicted no yes\n",
      "      no   0   4\n",
      "      yes  1   0\n"
     ]
    }
   ],
   "source": [
    "print(error_cost)"
   ]
  },
  {
   "cell_type": "code",
   "execution_count": 10,
   "metadata": {
    "collapsed": false
   },
   "outputs": [
    {
     "name": "stdout",
     "output_type": "stream",
     "text": [
      "         actual\n",
      "predicted no yes\n",
      "      no   0   4\n",
      "      yes  1   0\n"
     ]
    }
   ],
   "source": [
    "print(error_cost)"
   ]
  },
  {
   "cell_type": "code",
   "execution_count": null,
   "metadata": {
    "collapsed": true
   },
   "outputs": [],
   "source": [
    "bnote_cost = C5.0(class ~ ., data = bnote_train, costs = error_cost)"
   ]
  },
  {
   "cell_type": "markdown",
   "metadata": {},
   "source": [
    "#### rules = TRUE to implement the classification rule"
   ]
  },
  {
   "cell_type": "markdown",
   "metadata": {},
   "source": [
    "## RPart"
   ]
  },
  {
   "cell_type": "code",
   "execution_count": 12,
   "metadata": {
    "collapsed": true
   },
   "outputs": [],
   "source": [
    "library(rpart)"
   ]
  },
  {
   "cell_type": "code",
   "execution_count": 13,
   "metadata": {
    "collapsed": false
   },
   "outputs": [],
   "source": [
    "rpart.bnote <- rpart(\n",
    "    formula = class ~ .,\n",
    "    data    = bnote_train,\n",
    "    weights = ,          # optional case weights.\n",
    "    na.action  = na.rpart,  # By default, deleted if outcome is missing, kept if predictors are missing\n",
    "    method     = \"class\",   # Classification for factor\n",
    "    model      = FALSE,\n",
    "    x          = FALSE,\n",
    "    y          = TRUE,\n",
    "\n",
    "    ## optional parameters for the splitting function\n",
    "    parms = list(\n",
    "        ## prior = c(0.5, 0.5), # prior probabilities. Defaults to observed data frequencies.\n",
    "        loss = matrix(c(0,1,1,0), ncol = 2), # loss matrix. Penalize false positive or negative more heavily\n",
    "        split = \"information\"      # gini or information\n",
    "    ),\n",
    "\n",
    "    ## rpart algorithm options (These are defaults, thus the whole control argument can be omitted)\n",
    "    control = rpart.control(\n",
    "        minsplit       = 20,   # minimum number of observations required before split or it is forced to a leaf node\n",
    "        minbucket      = 20/3, # minimum number of observations in any terminal node. deault = minsplit/3\n",
    "        cp             = 0.01, # complexity parameter used as the stopping rule\n",
    "        maxcompete     = 4,    # number of competitor splits retained in the output\n",
    "        maxsurrogate   = 5,    # number of surrogate splits retained in the output\n",
    "        usesurrogate   = 2,    # how to use surrogates in the splitting process\n",
    "        xval           = 10,   # number of cross-validations\n",
    "        surrogatestyle = 0,    # controls the selection of a best surrogate\n",
    "        maxdepth       = 30)   # maximum number of nodes between a leaf node and the root node\n",
    "    ##,\n",
    "    ## cost = c() # a vector of cost for each variable\n",
    "    )"
   ]
  },
  {
   "cell_type": "code",
   "execution_count": 13,
   "metadata": {
    "collapsed": false
   },
   "outputs": [
    {
     "name": "stdout",
     "output_type": "stream",
     "text": [
      "Call:\n",
      "rpart(formula = class ~ ., data = bnote_train, na.action = na.rpart, \n",
      "    method = \"class\", model = FALSE, x = FALSE, y = TRUE, parms = list(loss = matrix(c(0, \n",
      "        1, 1, 0), ncol = 2), split = \"information\"), control = rpart.control(minsplit = 20, \n",
      "        minbucket = 20/3, cp = 0.01, maxcompete = 4, maxsurrogate = 5, \n",
      "        usesurrogate = 2, xval = 10, surrogatestyle = 0, maxdepth = 30))\n",
      "  n= 1167 \n",
      "\n",
      "          CP nsplit  rel error     xerror       xstd\n",
      "1 0.68400771      0 1.00000000 1.00000000 0.03270909\n",
      "2 0.09248555      1 0.31599229 0.31791908 0.02293364\n",
      "3 0.05973025      2 0.22350674 0.23314066 0.02006577\n",
      "4 0.04046243      3 0.16377649 0.19460501 0.01850702\n",
      "5 0.01830443      5 0.08285164 0.11560694 0.01453606\n",
      "6 0.01000000      7 0.04624277 0.08285164 0.01239980\n",
      "\n",
      "Variable importance\n",
      " waveletVar waveletSkew waveletCurt     entropy \n",
      "         47          26          16          11 \n",
      "\n",
      "Node number 1: 1167 observations,    complexity param=0.6840077\n",
      "  predicted class=0  expected loss=0.4447301  P(node) =1\n",
      "    class counts:   648   519\n",
      "   probabilities: 0.555 0.445 \n",
      "  left son=2 (606 obs) right son=3 (561 obs)\n",
      "  Primary splits:\n",
      "      waveletVar  < 0.320165  to the right, improve=336.39040, (0 missing)\n",
      "      waveletSkew < 5.0956    to the right, improve=153.01740, (0 missing)\n",
      "      waveletCurt < 8.83885   to the left,  improve= 71.25165, (0 missing)\n",
      "      entropy     < 0.998035  to the right, improve=  4.18665, (0 missing)\n",
      "  Surrogate splits:\n",
      "      waveletSkew < -5.14425  to the right, agree=0.638, adj=0.246, (0 split)\n",
      "      waveletCurt < 5.3464    to the left,  agree=0.626, adj=0.223, (0 split)\n",
      "      entropy     < -2.2599   to the right, agree=0.581, adj=0.128, (0 split)\n",
      "\n",
      "Node number 2: 606 observations,    complexity param=0.04046243\n",
      "  predicted class=0  expected loss=0.1006601  P(node) =0.5192802\n",
      "    class counts:   545    61\n",
      "   probabilities: 0.899 0.101 \n",
      "  left son=4 (420 obs) right son=5 (186 obs)\n",
      "  Primary splits:\n",
      "      waveletVar  < 1.73755   to the right, improve=60.66182, (0 missing)\n",
      "      waveletCurt < -4.38605  to the right, improve=48.81309, (0 missing)\n",
      "      waveletSkew < 4.89795   to the right, improve=35.96172, (0 missing)\n",
      "      entropy     < -1.9366   to the right, improve=11.88159, (0 missing)\n",
      "  Surrogate splits:\n",
      "      waveletCurt < -4.4434   to the right, agree=0.716, adj=0.075, (0 split)\n",
      "      entropy     < -5.41375  to the right, agree=0.701, adj=0.027, (0 split)\n",
      "\n",
      "Node number 3: 561 observations,    complexity param=0.09248555\n",
      "  predicted class=1  expected loss=0.1836007  P(node) =0.4807198\n",
      "    class counts:   103   458\n",
      "   probabilities: 0.184 0.816 \n",
      "  left son=6 (112 obs) right son=7 (449 obs)\n",
      "  Primary splits:\n",
      "      waveletSkew < 6.13335   to the right, improve=109.73830, (0 missing)\n",
      "      entropy     < -3.32215  to the left,  improve= 39.05032, (0 missing)\n",
      "      waveletVar  < -2.7952   to the right, improve= 32.31191, (0 missing)\n",
      "      waveletCurt < 8.83885   to the left,  improve= 18.39067, (0 missing)\n",
      "  Surrogate splits:\n",
      "      entropy     < -4.4543   to the left,  agree=0.902, adj=0.509, (0 split)\n",
      "      waveletVar  < -5.14385  to the left,  agree=0.848, adj=0.241, (0 split)\n",
      "      waveletCurt < -3.68255  to the left,  agree=0.804, adj=0.018, (0 split)\n",
      "\n",
      "Node number 4: 420 observations\n",
      "  predicted class=0  expected loss=0.00952381  P(node) =0.3598972\n",
      "    class counts:   416     4\n",
      "   probabilities: 0.990 0.010 \n",
      "\n",
      "Node number 5: 186 observations,    complexity param=0.04046243\n",
      "  predicted class=0  expected loss=0.3064516  P(node) =0.159383\n",
      "    class counts:   129    57\n",
      "   probabilities: 0.694 0.306 \n",
      "  left son=10 (140 obs) right son=11 (46 obs)\n",
      "  Primary splits:\n",
      "      waveletCurt < -2.2859   to the right, improve=63.118460, (0 missing)\n",
      "      waveletSkew < 4.89795   to the right, improve=30.950940, (0 missing)\n",
      "      entropy     < -3.6267   to the right, improve= 9.270904, (0 missing)\n",
      "      waveletVar  < 0.33218   to the left,  improve= 3.006265, (0 missing)\n",
      "  Surrogate splits:\n",
      "      entropy < -3.6267   to the right, agree=0.801, adj=0.196, (0 split)\n",
      "\n",
      "Node number 6: 112 observations,    complexity param=0.05973025\n",
      "  predicted class=0  expected loss=0.2857143  P(node) =0.09597258\n",
      "    class counts:    80    32\n",
      "   probabilities: 0.714 0.286 \n",
      "  left son=12 (79 obs) right son=13 (33 obs)\n",
      "  Primary splits:\n",
      "      waveletVar  < -3.4311   to the right, improve=62.524990, (0 missing)\n",
      "      waveletSkew < 9.8694    to the right, improve=15.829740, (0 missing)\n",
      "      waveletCurt < 1.0913    to the right, improve=12.658560, (0 missing)\n",
      "      entropy     < -5.89095  to the right, improve= 8.550521, (0 missing)\n",
      "  Surrogate splits:\n",
      "      waveletSkew < 7.50945   to the right, agree=0.759, adj=0.182, (0 split)\n",
      "      entropy     < -5.89095  to the right, agree=0.723, adj=0.061, (0 split)\n",
      "\n",
      "Node number 7: 449 observations,    complexity param=0.01830443\n",
      "  predicted class=1  expected loss=0.05122494  P(node) =0.3847472\n",
      "    class counts:    23   426\n",
      "   probabilities: 0.051 0.949 \n",
      "  left son=14 (187 obs) right son=15 (262 obs)\n",
      "  Primary splits:\n",
      "      waveletCurt < 3.0642    to the right, improve=21.022900, (0 missing)\n",
      "      waveletVar  < -1.78335  to the right, improve=13.515970, (0 missing)\n",
      "      waveletSkew < -6.47065  to the right, improve= 7.088078, (0 missing)\n",
      "      entropy     < -0.51747  to the right, improve= 6.790592, (0 missing)\n",
      "  Surrogate splits:\n",
      "      waveletSkew < -4.5462   to the left,  agree=0.938, adj=0.850, (0 split)\n",
      "      waveletVar  < -3.57995  to the left,  agree=0.610, adj=0.064, (0 split)\n",
      "      entropy     < 0.77692   to the right, agree=0.610, adj=0.064, (0 split)\n",
      "\n",
      "Node number 10: 140 observations\n",
      "  predicted class=0  expected loss=0.09285714  P(node) =0.1199657\n",
      "    class counts:   127    13\n",
      "   probabilities: 0.907 0.093 \n",
      "\n",
      "Node number 11: 46 observations\n",
      "  predicted class=1  expected loss=0.04347826  P(node) =0.03941731\n",
      "    class counts:     2    44\n",
      "   probabilities: 0.043 0.957 \n",
      "\n",
      "Node number 12: 79 observations\n",
      "  predicted class=0  expected loss=0  P(node) =0.06769494\n",
      "    class counts:    79     0\n",
      "   probabilities: 1.000 0.000 \n",
      "\n",
      "Node number 13: 33 observations\n",
      "  predicted class=1  expected loss=0.03030303  P(node) =0.02827763\n",
      "    class counts:     1    32\n",
      "   probabilities: 0.030 0.970 \n",
      "\n",
      "Node number 14: 187 observations,    complexity param=0.01830443\n",
      "  predicted class=1  expected loss=0.1229947  P(node) =0.1602399\n",
      "    class counts:    23   164\n",
      "   probabilities: 0.123 0.877 \n",
      "  left son=28 (23 obs) right son=29 (164 obs)\n",
      "  Primary splits:\n",
      "      waveletSkew < -1.81995  to the right, improve=52.126560, (0 missing)\n",
      "      waveletVar  < -0.365255 to the right, improve=20.690280, (0 missing)\n",
      "      waveletCurt < 8.83885   to the left,  improve=14.772950, (0 missing)\n",
      "      entropy     < -0.51747  to the right, improve= 3.825686, (0 missing)\n",
      "  Surrogate splits:\n",
      "      waveletVar  < -0.49481  to the right, agree=0.914, adj=0.304, (0 split)\n",
      "      waveletCurt < 3.40005   to the left,  agree=0.888, adj=0.087, (0 split)\n",
      "\n",
      "Node number 15: 262 observations\n",
      "  predicted class=1  expected loss=0  P(node) =0.2245073\n",
      "    class counts:     0   262\n",
      "   probabilities: 0.000 1.000 \n",
      "\n",
      "Node number 28: 23 observations\n",
      "  predicted class=0  expected loss=0.08695652  P(node) =0.01970865\n",
      "    class counts:    21     2\n",
      "   probabilities: 0.913 0.087 \n",
      "\n",
      "Node number 29: 164 observations\n",
      "  predicted class=1  expected loss=0.01219512  P(node) =0.1405313\n",
      "    class counts:     2   162\n",
      "   probabilities: 0.012 0.988 \n",
      "\n"
     ]
    }
   ],
   "source": [
    "summary(rpart.bnote)"
   ]
  },
  {
   "cell_type": "code",
   "execution_count": 15,
   "metadata": {
    "collapsed": false
   },
   "outputs": [
    {
     "data": {
      "image/png": "[encoded data removed]",
      "image/svg+xml": [
       "<?xml version=\"1.0\" encoding=\"UTF-8\"?>\n",
       "<svg xmlns=\"http://www.w3.org/2000/svg\" xmlns:xlink=\"http://www.w3.org/1999/xlink\" width=\"504pt\" height=\"504pt\" viewBox=\"0 0 504 504\" version=\"1.1\">\n",
       "<defs>\n",
       "<g>\n",
       "<symbol overflow=\"visible\" id=\"glyph0-0\">\n",
       "<path style=\"stroke:none;\" d=\"M 4.65625 0 L 3.558594 0 L 3.558594 -7 C 3.289063 -6.746094 2.941406 -6.492188 2.515625 -6.242188 C 2.085938 -5.988281 1.703125 -5.800781 1.359375 -5.675781 L 1.359375 -6.738281 C 1.972656 -7.027344 2.507813 -7.375 2.972656 -7.789063 C 3.429688 -8.195313 3.757813 -8.59375 3.949219 -8.984375 L 4.65625 -8.984375 Z M 4.65625 0 \"/>\n",
       "</symbol>\n",
       "<symbol overflow=\"visible\" id=\"glyph0-1\">\n",
       "<path style=\"stroke:none;\" d=\"M 1.136719 0 L 1.136719 -1.25 L 2.386719 -1.25 L 2.386719 0 Z M 1.136719 0 \"/>\n",
       "</symbol>\n",
       "<symbol overflow=\"visible\" id=\"glyph0-2\">\n",
       "<path style=\"stroke:none;\" d=\"M 0.519531 -4.414063 C 0.515625 -5.46875 0.625 -6.320313 0.84375 -6.964844 C 1.0625 -7.609375 1.386719 -8.105469 1.816406 -8.457031 C 2.246094 -8.804688 2.785156 -8.980469 3.4375 -8.984375 C 3.914063 -8.980469 4.335938 -8.886719 4.699219 -8.695313 C 5.058594 -8.5 5.355469 -8.21875 5.59375 -7.859375 C 5.828125 -7.492188 6.015625 -7.050781 6.152344 -6.527344 C 6.285156 -6.003906 6.351563 -5.296875 6.355469 -4.414063 C 6.351563 -3.359375 6.242188 -2.511719 6.03125 -1.871094 C 5.8125 -1.222656 5.492188 -0.726563 5.0625 -0.375 C 4.632813 -0.0234375 4.089844 0.152344 3.4375 0.152344 C 2.570313 0.152344 1.890625 -0.15625 1.402344 -0.773438 C 0.808594 -1.515625 0.515625 -2.726563 0.519531 -4.414063 Z M 1.648438 -4.414063 C 1.644531 -2.941406 1.816406 -1.964844 2.164063 -1.480469 C 2.503906 -0.992188 2.929688 -0.75 3.4375 -0.75 C 3.9375 -0.75 4.359375 -0.992188 4.707031 -1.480469 C 5.050781 -1.96875 5.226563 -2.945313 5.226563 -4.414063 C 5.226563 -5.882813 5.050781 -6.863281 4.707031 -7.347656 C 4.359375 -7.832031 3.933594 -8.074219 3.425781 -8.074219 C 2.917969 -8.074219 2.515625 -7.859375 2.214844 -7.433594 C 1.835938 -6.886719 1.644531 -5.878906 1.648438 -4.414063 Z M 1.648438 -4.414063 \"/>\n",
       "</symbol>\n",
       "<symbol overflow=\"visible\" id=\"glyph0-3\">\n",
       "<path style=\"stroke:none;\" d=\"M 0.519531 -2.34375 L 1.671875 -2.441406 C 1.753906 -1.875 1.953125 -1.453125 2.265625 -1.171875 C 2.574219 -0.890625 2.949219 -0.75 3.394531 -0.75 C 3.917969 -0.75 4.367188 -0.949219 4.734375 -1.347656 C 5.101563 -1.746094 5.285156 -2.273438 5.285156 -2.9375 C 5.285156 -3.558594 5.109375 -4.054688 4.757813 -4.417969 C 4.40625 -4.777344 3.945313 -4.957031 3.375 -4.960938 C 3.019531 -4.957031 2.699219 -4.875 2.414063 -4.71875 C 2.128906 -4.554688 1.90625 -4.347656 1.746094 -4.09375 L 0.714844 -4.230469 L 1.582031 -8.824219 L 6.03125 -8.824219 L 6.03125 -7.777344 L 2.460938 -7.777344 L 1.976563 -5.371094 C 2.507813 -5.742188 3.074219 -5.929688 3.667969 -5.933594 C 4.449219 -5.929688 5.105469 -5.660156 5.644531 -5.121094 C 6.179688 -4.578125 6.449219 -3.882813 6.453125 -3.035156 C 6.449219 -2.222656 6.214844 -1.519531 5.742188 -0.933594 C 5.167969 -0.207031 4.382813 0.152344 3.394531 0.152344 C 2.574219 0.152344 1.910156 -0.0742188 1.398438 -0.53125 C 0.882813 -0.984375 0.589844 -1.589844 0.519531 -2.34375 Z M 0.519531 -2.34375 \"/>\n",
       "</symbol>\n",
       "<symbol overflow=\"visible\" id=\"glyph0-4\">\n",
       "<path style=\"stroke:none;\" d=\"M 6.292969 -1.054688 L 6.292969 0 L 0.378906 0 C 0.367188 -0.265625 0.410156 -0.519531 0.507813 -0.761719 C 0.65625 -1.164063 0.898438 -1.558594 1.230469 -1.953125 C 1.558594 -2.339844 2.035156 -2.792969 2.667969 -3.308594 C 3.636719 -4.101563 4.292969 -4.734375 4.636719 -5.203125 C 4.976563 -5.667969 5.148438 -6.105469 5.152344 -6.523438 C 5.148438 -6.957031 4.992188 -7.324219 4.683594 -7.625 C 4.371094 -7.921875 3.96875 -8.074219 3.46875 -8.074219 C 2.9375 -8.074219 2.511719 -7.914063 2.195313 -7.597656 C 1.878906 -7.277344 1.71875 -6.839844 1.714844 -6.28125 L 0.585938 -6.398438 C 0.664063 -7.238281 0.953125 -7.878906 1.457031 -8.320313 C 1.960938 -8.761719 2.640625 -8.980469 3.492188 -8.984375 C 4.347656 -8.980469 5.023438 -8.742188 5.527344 -8.269531 C 6.027344 -7.789063 6.28125 -7.199219 6.28125 -6.5 C 6.28125 -6.140625 6.207031 -5.789063 6.058594 -5.445313 C 5.910156 -5.09375 5.664063 -4.730469 5.328125 -4.351563 C 4.984375 -3.964844 4.421875 -3.441406 3.636719 -2.777344 C 2.976563 -2.222656 2.554688 -1.84375 2.367188 -1.648438 C 2.179688 -1.449219 2.023438 -1.253906 1.90625 -1.054688 Z M 6.292969 -1.054688 \"/>\n",
       "</symbol>\n",
       "<symbol overflow=\"visible\" id=\"glyph0-5\">\n",
       "<path style=\"stroke:none;\" d=\"M 0.523438 -2.363281 L 1.625 -2.507813 C 1.746094 -1.882813 1.960938 -1.433594 2.265625 -1.160156 C 2.566406 -0.886719 2.9375 -0.75 3.375 -0.75 C 3.890625 -0.75 4.324219 -0.925781 4.683594 -1.285156 C 5.035156 -1.640625 5.214844 -2.085938 5.21875 -2.617188 C 5.214844 -3.121094 5.050781 -3.539063 4.722656 -3.867188 C 4.394531 -4.195313 3.976563 -4.359375 3.46875 -4.359375 C 3.257813 -4.359375 2.996094 -4.316406 2.691406 -4.234375 L 2.8125 -5.199219 C 2.882813 -5.1875 2.941406 -5.183594 2.992188 -5.1875 C 3.457031 -5.183594 3.878906 -5.308594 4.253906 -5.554688 C 4.628906 -5.796875 4.816406 -6.171875 4.816406 -6.683594 C 4.816406 -7.085938 4.679688 -7.417969 4.40625 -7.683594 C 4.132813 -7.945313 3.78125 -8.078125 3.351563 -8.082031 C 2.921875 -8.078125 2.5625 -7.945313 2.28125 -7.675781 C 1.992188 -7.40625 1.8125 -7.003906 1.734375 -6.46875 L 0.632813 -6.664063 C 0.765625 -7.398438 1.070313 -7.96875 1.550781 -8.375 C 2.023438 -8.777344 2.617188 -8.980469 3.328125 -8.984375 C 3.8125 -8.980469 4.261719 -8.875 4.675781 -8.667969 C 5.085938 -8.457031 5.398438 -8.171875 5.617188 -7.8125 C 5.832031 -7.445313 5.941406 -7.0625 5.945313 -6.660156 C 5.941406 -6.269531 5.835938 -5.917969 5.632813 -5.601563 C 5.421875 -5.28125 5.117188 -5.027344 4.710938 -4.847656 C 5.238281 -4.722656 5.648438 -4.46875 5.941406 -4.085938 C 6.234375 -3.695313 6.378906 -3.214844 6.382813 -2.644531 C 6.378906 -1.859375 6.09375 -1.199219 5.527344 -0.65625 C 4.957031 -0.113281 4.238281 0.15625 3.367188 0.160156 C 2.582031 0.15625 1.929688 -0.0742188 1.410156 -0.542969 C 0.890625 -1.007813 0.59375 -1.613281 0.523438 -2.363281 Z M 0.523438 -2.363281 \"/>\n",
       "</symbol>\n",
       "<symbol overflow=\"visible\" id=\"glyph0-6\">\n",
       "<path style=\"stroke:none;\" d=\"M 4.039063 0 L 4.039063 -2.140625 L 0.160156 -2.140625 L 0.160156 -3.148438 L 4.242188 -8.949219 L 5.140625 -8.949219 L 5.140625 -3.148438 L 6.347656 -3.148438 L 6.347656 -2.140625 L 5.140625 -2.140625 L 5.140625 0 Z M 4.039063 -3.148438 L 4.039063 -7.183594 L 1.238281 -3.148438 Z M 4.039063 -3.148438 \"/>\n",
       "</symbol>\n",
       "<symbol overflow=\"visible\" id=\"glyph0-7\">\n",
       "<path style=\"stroke:none;\" d=\"M 1.164063 0 L 1.164063 -8.949219 L 2.351563 -8.949219 L 2.351563 0 Z M 1.164063 0 \"/>\n",
       "</symbol>\n",
       "<symbol overflow=\"visible\" id=\"glyph0-8\">\n",
       "<path style=\"stroke:none;\" d=\"M 0.824219 0 L 0.824219 -6.480469 L 1.8125 -6.480469 L 1.8125 -5.558594 C 2.285156 -6.269531 2.972656 -6.625 3.875 -6.628906 C 4.261719 -6.625 4.621094 -6.554688 4.953125 -6.417969 C 5.277344 -6.273438 5.523438 -6.089844 5.6875 -5.863281 C 5.847656 -5.632813 5.960938 -5.363281 6.03125 -5.054688 C 6.066406 -4.847656 6.085938 -4.492188 6.089844 -3.984375 L 6.089844 0 L 4.992188 0 L 4.992188 -3.941406 C 4.992188 -4.386719 4.949219 -4.722656 4.863281 -4.945313 C 4.777344 -5.167969 4.625 -5.34375 4.40625 -5.476563 C 4.1875 -5.605469 3.933594 -5.671875 3.644531 -5.675781 C 3.175781 -5.671875 2.769531 -5.523438 2.429688 -5.230469 C 2.089844 -4.929688 1.921875 -4.367188 1.921875 -3.539063 L 1.921875 0 Z M 0.824219 0 \"/>\n",
       "</symbol>\n",
       "<symbol overflow=\"visible\" id=\"glyph0-9\">\n",
       "<path style=\"stroke:none;\" d=\"M 5.03125 0 L 5.03125 -0.816406 C 4.617188 -0.171875 4.011719 0.144531 3.214844 0.148438 C 2.695313 0.144531 2.21875 0.0078125 1.789063 -0.277344 C 1.351563 -0.558594 1.015625 -0.957031 0.78125 -1.472656 C 0.539063 -1.980469 0.421875 -2.570313 0.425781 -3.234375 C 0.421875 -3.882813 0.53125 -4.46875 0.75 -4.996094 C 0.964844 -5.519531 1.285156 -5.921875 1.71875 -6.207031 C 2.148438 -6.484375 2.632813 -6.625 3.167969 -6.628906 C 3.554688 -6.625 3.902344 -6.542969 4.210938 -6.378906 C 4.511719 -6.210938 4.761719 -5.996094 4.957031 -5.738281 L 4.957031 -8.949219 L 6.046875 -8.949219 L 6.046875 0 Z M 1.554688 -3.234375 C 1.550781 -2.402344 1.726563 -1.78125 2.078125 -1.371094 C 2.425781 -0.960938 2.839844 -0.753906 3.320313 -0.757813 C 3.796875 -0.753906 4.203125 -0.949219 4.542969 -1.34375 C 4.875 -1.734375 5.042969 -2.335938 5.046875 -3.144531 C 5.042969 -4.027344 4.875 -4.675781 4.535156 -5.09375 C 4.191406 -5.507813 3.769531 -5.71875 3.273438 -5.71875 C 2.78125 -5.71875 2.371094 -5.519531 2.046875 -5.121094 C 1.714844 -4.722656 1.550781 -4.09375 1.554688 -3.234375 Z M 1.554688 -3.234375 \"/>\n",
       "</symbol>\n",
       "<symbol overflow=\"visible\" id=\"glyph0-10\">\n",
       "<path style=\"stroke:none;\" d=\"M 5.261719 -2.085938 L 6.398438 -1.945313 C 6.21875 -1.28125 5.886719 -0.765625 5.402344 -0.402344 C 4.917969 -0.0351563 4.296875 0.144531 3.546875 0.148438 C 2.59375 0.144531 1.84375 -0.144531 1.289063 -0.726563 C 0.734375 -1.3125 0.457031 -2.132813 0.457031 -3.1875 C 0.457031 -4.273438 0.734375 -5.117188 1.296875 -5.722656 C 1.855469 -6.324219 2.585938 -6.625 3.484375 -6.628906 C 4.347656 -6.625 5.054688 -6.332031 5.609375 -5.742188 C 6.15625 -5.152344 6.433594 -4.320313 6.433594 -3.253906 C 6.433594 -3.183594 6.429688 -3.085938 6.425781 -2.960938 L 1.59375 -2.960938 C 1.632813 -2.242188 1.832031 -1.699219 2.195313 -1.324219 C 2.558594 -0.945313 3.011719 -0.753906 3.550781 -0.757813 C 3.953125 -0.753906 4.296875 -0.859375 4.582031 -1.074219 C 4.867188 -1.28125 5.09375 -1.621094 5.261719 -2.085938 Z M 1.652344 -3.863281 L 5.273438 -3.863281 C 5.222656 -4.402344 5.082031 -4.8125 4.859375 -5.089844 C 4.503906 -5.511719 4.050781 -5.722656 3.496094 -5.726563 C 2.992188 -5.722656 2.570313 -5.554688 2.226563 -5.21875 C 1.882813 -4.878906 1.691406 -4.425781 1.652344 -3.863281 Z M 1.652344 -3.863281 \"/>\n",
       "</symbol>\n",
       "<symbol overflow=\"visible\" id=\"glyph0-11\">\n",
       "<path style=\"stroke:none;\" d=\"M 0.0898438 0 L 2.460938 -3.367188 L 0.269531 -6.480469 L 1.640625 -6.480469 L 2.636719 -4.960938 C 2.824219 -4.667969 2.972656 -4.425781 3.089844 -4.234375 C 3.261719 -4.503906 3.425781 -4.742188 3.582031 -4.949219 L 4.675781 -6.480469 L 5.988281 -6.480469 L 3.746094 -3.429688 L 6.160156 0 L 4.808594 0 L 3.480469 -2.015625 L 3.125 -2.558594 L 1.421875 0 Z M 0.0898438 0 \"/>\n",
       "</symbol>\n",
       "<symbol overflow=\"visible\" id=\"glyph1-0\">\n",
       "<path style=\"stroke:none;\" d=\"M -1.054688 -6.292969 L 0 -6.292969 L 0 -0.378906 C -0.265625 -0.367188 -0.519531 -0.410156 -0.761719 -0.507813 C -1.164063 -0.65625 -1.558594 -0.898438 -1.953125 -1.230469 C -2.339844 -1.558594 -2.792969 -2.035156 -3.308594 -2.667969 C -4.101563 -3.636719 -4.734375 -4.292969 -5.203125 -4.636719 C -5.667969 -4.976563 -6.105469 -5.148438 -6.523438 -5.152344 C -6.957031 -5.148438 -7.324219 -4.992188 -7.625 -4.683594 C -7.921875 -4.371094 -8.074219 -3.96875 -8.074219 -3.46875 C -8.074219 -2.9375 -7.914063 -2.511719 -7.597656 -2.195313 C -7.277344 -1.878906 -6.839844 -1.71875 -6.28125 -1.714844 L -6.398438 -0.585938 C -7.238281 -0.664063 -7.878906 -0.953125 -8.320313 -1.457031 C -8.761719 -1.960938 -8.980469 -2.640625 -8.984375 -3.492188 C -8.980469 -4.347656 -8.742188 -5.023438 -8.269531 -5.527344 C -7.789063 -6.027344 -7.199219 -6.28125 -6.5 -6.28125 C -6.140625 -6.28125 -5.789063 -6.207031 -5.445313 -6.058594 C -5.09375 -5.910156 -4.730469 -5.664063 -4.351563 -5.328125 C -3.964844 -4.984375 -3.441406 -4.421875 -2.777344 -3.636719 C -2.222656 -2.976563 -1.84375 -2.554688 -1.648438 -2.367188 C -1.449219 -2.179688 -1.253906 -2.023438 -1.054688 -1.90625 Z M -1.054688 -6.292969 \"/>\n",
       "</symbol>\n",
       "<symbol overflow=\"visible\" id=\"glyph1-1\">\n",
       "<path style=\"stroke:none;\" d=\"M -4.414063 -0.519531 C -5.46875 -0.515625 -6.320313 -0.625 -6.964844 -0.84375 C -7.609375 -1.0625 -8.105469 -1.386719 -8.457031 -1.816406 C -8.804688 -2.246094 -8.980469 -2.785156 -8.984375 -3.4375 C -8.980469 -3.914063 -8.886719 -4.335938 -8.695313 -4.699219 C -8.5 -5.058594 -8.21875 -5.355469 -7.859375 -5.59375 C -7.492188 -5.828125 -7.050781 -6.015625 -6.527344 -6.152344 C -6.003906 -6.285156 -5.296875 -6.351563 -4.414063 -6.355469 C -3.359375 -6.351563 -2.511719 -6.242188 -1.871094 -6.03125 C -1.222656 -5.8125 -0.726563 -5.492188 -0.375 -5.0625 C -0.0234375 -4.632813 0.152344 -4.089844 0.152344 -3.4375 C 0.152344 -2.570313 -0.15625 -1.890625 -0.773438 -1.402344 C -1.515625 -0.808594 -2.726563 -0.515625 -4.414063 -0.519531 Z M -4.414063 -1.648438 C -2.941406 -1.644531 -1.964844 -1.816406 -1.480469 -2.164063 C -0.992188 -2.503906 -0.75 -2.929688 -0.75 -3.4375 C -0.75 -3.9375 -0.992188 -4.359375 -1.480469 -4.707031 C -1.96875 -5.050781 -2.945313 -5.226563 -4.414063 -5.226563 C -5.882813 -5.226563 -6.863281 -5.050781 -7.347656 -4.707031 C -7.832031 -4.359375 -8.074219 -3.933594 -8.074219 -3.425781 C -8.074219 -2.917969 -7.859375 -2.515625 -7.433594 -2.214844 C -6.886719 -1.835938 -5.878906 -1.644531 -4.414063 -1.648438 Z M -4.414063 -1.648438 \"/>\n",
       "</symbol>\n",
       "<symbol overflow=\"visible\" id=\"glyph1-2\">\n",
       "<path style=\"stroke:none;\" d=\"M -2.363281 -0.523438 L -2.507813 -1.625 C -1.882813 -1.746094 -1.433594 -1.960938 -1.160156 -2.265625 C -0.886719 -2.566406 -0.75 -2.9375 -0.75 -3.375 C -0.75 -3.890625 -0.925781 -4.324219 -1.285156 -4.683594 C -1.640625 -5.035156 -2.085938 -5.214844 -2.617188 -5.21875 C -3.121094 -5.214844 -3.539063 -5.050781 -3.867188 -4.722656 C -4.195313 -4.394531 -4.359375 -3.976563 -4.359375 -3.46875 C -4.359375 -3.257813 -4.316406 -2.996094 -4.234375 -2.691406 L -5.199219 -2.8125 C -5.1875 -2.882813 -5.183594 -2.941406 -5.1875 -2.992188 C -5.183594 -3.457031 -5.308594 -3.878906 -5.554688 -4.253906 C -5.796875 -4.628906 -6.171875 -4.816406 -6.683594 -4.816406 C -7.085938 -4.816406 -7.417969 -4.679688 -7.683594 -4.40625 C -7.945313 -4.132813 -8.078125 -3.78125 -8.082031 -3.351563 C -8.078125 -2.921875 -7.945313 -2.5625 -7.675781 -2.28125 C -7.40625 -1.992188 -7.003906 -1.8125 -6.46875 -1.734375 L -6.664063 -0.636719 C -7.398438 -0.765625 -7.96875 -1.070313 -8.375 -1.550781 C -8.777344 -2.023438 -8.980469 -2.617188 -8.984375 -3.328125 C -8.980469 -3.8125 -8.875 -4.261719 -8.667969 -4.675781 C -8.457031 -5.085938 -8.171875 -5.398438 -7.8125 -5.617188 C -7.445313 -5.832031 -7.0625 -5.941406 -6.660156 -5.945313 C -6.269531 -5.941406 -5.917969 -5.835938 -5.601563 -5.632813 C -5.28125 -5.421875 -5.027344 -5.117188 -4.847656 -4.710938 C -4.722656 -5.238281 -4.46875 -5.648438 -4.085938 -5.941406 C -3.695313 -6.234375 -3.214844 -6.378906 -2.644531 -6.382813 C -1.859375 -6.378906 -1.199219 -6.09375 -0.65625 -5.527344 C -0.113281 -4.957031 0.15625 -4.238281 0.160156 -3.367188 C 0.15625 -2.582031 -0.0742188 -1.929688 -0.542969 -1.414063 C -1.007813 -0.890625 -1.613281 -0.59375 -2.363281 -0.523438 Z M -2.363281 -0.523438 \"/>\n",
       "</symbol>\n",
       "<symbol overflow=\"visible\" id=\"glyph1-3\">\n",
       "<path style=\"stroke:none;\" d=\"M 0 -4.039063 L -2.140625 -4.039063 L -2.140625 -0.160156 L -3.148438 -0.160156 L -8.949219 -4.242188 L -8.949219 -5.140625 L -3.148438 -5.140625 L -3.148438 -6.347656 L -2.140625 -6.347656 L -2.140625 -5.140625 L 0 -5.140625 Z M -3.148438 -4.039063 L -7.183594 -4.039063 L -3.148438 -1.238281 Z M -3.148438 -4.039063 \"/>\n",
       "</symbol>\n",
       "<symbol overflow=\"visible\" id=\"glyph1-4\">\n",
       "<path style=\"stroke:none;\" d=\"M -2.34375 -0.519531 L -2.441406 -1.671875 C -1.875 -1.753906 -1.453125 -1.953125 -1.171875 -2.265625 C -0.890625 -2.574219 -0.75 -2.949219 -0.75 -3.394531 C -0.75 -3.917969 -0.949219 -4.367188 -1.347656 -4.734375 C -1.746094 -5.101563 -2.273438 -5.285156 -2.9375 -5.285156 C -3.558594 -5.285156 -4.054688 -5.109375 -4.417969 -4.757813 C -4.777344 -4.40625 -4.957031 -3.945313 -4.960938 -3.375 C -4.957031 -3.019531 -4.875 -2.699219 -4.71875 -2.414063 C -4.554688 -2.128906 -4.347656 -1.90625 -4.09375 -1.746094 L -4.230469 -0.714844 L -8.824219 -1.582031 L -8.824219 -6.03125 L -7.777344 -6.03125 L -7.777344 -2.460938 L -5.371094 -1.976563 C -5.742188 -2.511719 -5.929688 -3.078125 -5.933594 -3.667969 C -5.929688 -4.449219 -5.660156 -5.105469 -5.121094 -5.644531 C -4.578125 -6.179688 -3.882813 -6.449219 -3.035156 -6.453125 C -2.222656 -6.449219 -1.519531 -6.214844 -0.933594 -5.742188 C -0.207031 -5.167969 0.152344 -4.382813 0.152344 -3.394531 C 0.152344 -2.574219 -0.0742188 -1.910156 -0.53125 -1.398438 C -0.984375 -0.882813 -1.589844 -0.589844 -2.34375 -0.519531 Z M -2.34375 -0.519531 \"/>\n",
       "</symbol>\n",
       "<symbol overflow=\"visible\" id=\"glyph1-5\">\n",
       "<path style=\"stroke:none;\" d=\"M 0 -0.8125 L -6.480469 -0.8125 L -6.480469 -1.800781 L -5.5 -1.800781 C -5.957031 -2.050781 -6.257813 -2.285156 -6.40625 -2.5 C -6.550781 -2.710938 -6.625 -2.945313 -6.628906 -3.203125 C -6.625 -3.574219 -6.507813 -3.949219 -6.273438 -4.332031 L -5.253906 -3.957031 C -5.410156 -3.683594 -5.488281 -3.414063 -5.492188 -3.148438 C -5.488281 -2.90625 -5.417969 -2.691406 -5.273438 -2.5 C -5.128906 -2.308594 -4.929688 -2.171875 -4.675781 -2.09375 C -4.285156 -1.96875 -3.855469 -1.910156 -3.394531 -1.910156 L 0 -1.910156 Z M 0 -0.8125 \"/>\n",
       "</symbol>\n",
       "<symbol overflow=\"visible\" id=\"glyph1-6\">\n",
       "<path style=\"stroke:none;\" d=\"M 2.484375 -0.824219 L -6.480469 -0.824219 L -6.480469 -1.824219 L -5.640625 -1.824219 C -5.964844 -2.058594 -6.210938 -2.328125 -6.378906 -2.625 C -6.542969 -2.921875 -6.625 -3.28125 -6.628906 -3.703125 C -6.625 -4.257813 -6.484375 -4.746094 -6.199219 -5.167969 C -5.914063 -5.589844 -5.511719 -5.910156 -4.996094 -6.128906 C -4.476563 -6.34375 -3.90625 -6.449219 -3.289063 -6.453125 C -2.621094 -6.449219 -2.023438 -6.332031 -1.496094 -6.09375 C -0.964844 -5.855469 -0.558594 -5.507813 -0.277344 -5.054688 C 0.0078125 -4.597656 0.144531 -4.121094 0.148438 -3.625 C 0.144531 -3.257813 0.0703125 -2.929688 -0.0820313 -2.640625 C -0.238281 -2.347656 -0.433594 -2.109375 -0.671875 -1.921875 L 2.484375 -1.921875 Z M -3.203125 -1.820313 C -2.367188 -1.816406 -1.75 -1.984375 -1.355469 -2.324219 C -0.953125 -2.660156 -0.753906 -3.070313 -0.757813 -3.550781 C -0.753906 -4.039063 -0.960938 -4.457031 -1.375 -4.804688 C -1.785156 -5.152344 -2.425781 -5.324219 -3.296875 -5.328125 C -4.121094 -5.324219 -4.738281 -5.15625 -5.152344 -4.816406 C -5.558594 -4.476563 -5.765625 -4.070313 -5.769531 -3.601563 C -5.765625 -3.128906 -5.546875 -2.714844 -5.113281 -2.359375 C -4.671875 -1.996094 -4.035156 -1.816406 -3.203125 -1.820313 Z M -3.203125 -1.820313 \"/>\n",
       "</symbol>\n",
       "<symbol overflow=\"visible\" id=\"glyph1-7\">\n",
       "<path style=\"stroke:none;\" d=\"M -0.800781 -5.054688 C -0.453125 -4.644531 -0.207031 -4.253906 -0.0664063 -3.878906 C 0.078125 -3.5 0.144531 -3.09375 0.148438 -2.667969 C 0.144531 -1.949219 -0.0273438 -1.402344 -0.375 -1.023438 C -0.722656 -0.640625 -1.167969 -0.449219 -1.710938 -0.453125 C -2.023438 -0.449219 -2.3125 -0.523438 -2.578125 -0.667969 C -2.839844 -0.8125 -3.050781 -1 -3.210938 -1.234375 C -3.367188 -1.464844 -3.484375 -1.730469 -3.570313 -2.027344 C -3.625 -2.242188 -3.679688 -2.566406 -3.734375 -3.003906 C -3.835938 -3.886719 -3.964844 -4.539063 -4.113281 -4.960938 C -4.261719 -4.964844 -4.355469 -4.96875 -4.402344 -4.96875 C -4.84375 -4.96875 -5.160156 -4.863281 -5.347656 -4.65625 C -5.59375 -4.371094 -5.71875 -3.953125 -5.71875 -3.40625 C -5.71875 -2.882813 -5.625 -2.5 -5.445313 -2.257813 C -5.261719 -2.007813 -4.941406 -1.828125 -4.484375 -1.714844 L -4.632813 -0.640625 C -5.089844 -0.734375 -5.460938 -0.894531 -5.746094 -1.121094 C -6.027344 -1.339844 -6.246094 -1.664063 -6.398438 -2.089844 C -6.550781 -2.511719 -6.625 -3.003906 -6.628906 -3.566406 C -6.625 -4.117188 -6.5625 -4.566406 -6.433594 -4.914063 C -6.300781 -5.257813 -6.136719 -5.511719 -5.941406 -5.675781 C -5.742188 -5.835938 -5.492188 -5.949219 -5.195313 -6.019531 C -5.003906 -6.050781 -4.664063 -6.070313 -4.179688 -6.074219 L -2.714844 -6.074219 C -1.691406 -6.070313 -1.046875 -6.09375 -0.777344 -6.144531 C -0.503906 -6.1875 -0.246094 -6.28125 0 -6.421875 L 0 -5.273438 C -0.226563 -5.15625 -0.492188 -5.082031 -0.800781 -5.054688 Z M -3.253906 -4.960938 C -3.085938 -4.558594 -2.949219 -3.960938 -2.839844 -3.167969 C -2.773438 -2.714844 -2.699219 -2.394531 -2.617188 -2.210938 C -2.535156 -2.019531 -2.417969 -1.875 -2.261719 -1.777344 C -2.105469 -1.671875 -1.929688 -1.621094 -1.738281 -1.625 C -1.445313 -1.621094 -1.203125 -1.734375 -1.007813 -1.957031 C -0.8125 -2.175781 -0.714844 -2.5 -0.714844 -2.929688 C -0.714844 -3.351563 -0.804688 -3.726563 -0.992188 -4.058594 C -1.171875 -4.386719 -1.425781 -4.628906 -1.75 -4.785156 C -1.996094 -4.898438 -2.363281 -4.957031 -2.851563 -4.960938 Z M -3.253906 -4.960938 \"/>\n",
       "</symbol>\n",
       "<symbol overflow=\"visible\" id=\"glyph1-8\">\n",
       "<path style=\"stroke:none;\" d=\"M -0.984375 -3.222656 L -0.0117188 -3.382813 C 0.0507813 -3.070313 0.0820313 -2.792969 0.0859375 -2.550781 C 0.0820313 -2.148438 0.0234375 -1.839844 -0.101563 -1.621094 C -0.226563 -1.398438 -0.394531 -1.242188 -0.601563 -1.15625 C -0.804688 -1.0625 -1.238281 -1.019531 -1.898438 -1.027344 L -5.628906 -1.027344 L -5.628906 -0.21875 L -6.480469 -0.21875 L -6.480469 -1.027344 L -8.085938 -1.027344 L -8.746094 -2.117188 L -6.480469 -2.117188 L -6.480469 -3.222656 L -5.628906 -3.222656 L -5.628906 -2.117188 L -1.835938 -2.117188 C -1.519531 -2.113281 -1.320313 -2.132813 -1.230469 -2.175781 C -1.140625 -2.210938 -1.070313 -2.273438 -1.019531 -2.363281 C -0.964844 -2.449219 -0.9375 -2.578125 -0.941406 -2.742188 C -0.9375 -2.859375 -0.953125 -3.019531 -0.984375 -3.222656 Z M -0.984375 -3.222656 \"/>\n",
       "</symbol>\n",
       "<symbol overflow=\"visible\" id=\"glyph1-9\">\n",
       "<path style=\"stroke:none;\" d=\"M 0 -1.136719 L -1.25 -1.136719 L -1.25 -2.386719 L 0 -2.386719 Z M 0 -1.136719 \"/>\n",
       "</symbol>\n",
       "<symbol overflow=\"visible\" id=\"glyph1-10\">\n",
       "<path style=\"stroke:none;\" d=\"M 0 -1.835938 L 0 -0.816406 L -8.949219 -0.816406 L -8.949219 -1.917969 L -5.753906 -1.917969 C -6.335938 -2.378906 -6.625 -2.972656 -6.628906 -3.691406 C -6.625 -4.089844 -6.546875 -4.464844 -6.386719 -4.824219 C -6.222656 -5.175781 -5.996094 -5.46875 -5.707031 -5.703125 C -5.417969 -5.929688 -5.066406 -6.109375 -4.65625 -6.242188 C -4.242188 -6.367188 -3.804688 -6.433594 -3.339844 -6.4375 C -2.226563 -6.433594 -1.367188 -6.160156 -0.761719 -5.613281 C -0.15625 -5.066406 0.144531 -4.40625 0.148438 -3.636719 C 0.144531 -2.871094 -0.171875 -2.269531 -0.8125 -1.835938 Z M -3.289063 -1.824219 C -2.507813 -1.820313 -1.949219 -1.925781 -1.605469 -2.140625 C -1.039063 -2.484375 -0.753906 -2.953125 -0.757813 -3.546875 C -0.753906 -4.023438 -0.964844 -4.4375 -1.382813 -4.789063 C -1.796875 -5.136719 -2.417969 -5.3125 -3.246094 -5.316406 C -4.089844 -5.3125 -4.714844 -5.144531 -5.121094 -4.8125 C -5.523438 -4.472656 -5.722656 -4.066406 -5.726563 -3.59375 C -5.722656 -3.109375 -5.515625 -2.695313 -5.097656 -2.347656 C -4.679688 -1.996094 -4.074219 -1.820313 -3.289063 -1.824219 Z M -3.289063 -1.824219 \"/>\n",
       "</symbol>\n",
       "<symbol overflow=\"visible\" id=\"glyph1-11\">\n",
       "<path style=\"stroke:none;\" d=\"M 0 -0.824219 L -6.480469 -0.824219 L -6.480469 -1.8125 L -5.558594 -1.8125 C -6.269531 -2.285156 -6.625 -2.972656 -6.628906 -3.875 C -6.625 -4.261719 -6.554688 -4.621094 -6.417969 -4.953125 C -6.273438 -5.277344 -6.089844 -5.523438 -5.863281 -5.6875 C -5.632813 -5.847656 -5.363281 -5.960938 -5.054688 -6.03125 C -4.847656 -6.066406 -4.492188 -6.085938 -3.984375 -6.089844 L 0 -6.089844 L 0 -4.992188 L -3.941406 -4.992188 C -4.386719 -4.992188 -4.722656 -4.949219 -4.945313 -4.863281 C -5.167969 -4.777344 -5.34375 -4.625 -5.476563 -4.40625 C -5.605469 -4.1875 -5.671875 -3.933594 -5.675781 -3.644531 C -5.671875 -3.175781 -5.523438 -2.769531 -5.230469 -2.429688 C -4.929688 -2.089844 -4.367188 -1.921875 -3.539063 -1.921875 L 0 -1.921875 Z M 0 -0.824219 \"/>\n",
       "</symbol>\n",
       "<symbol overflow=\"visible\" id=\"glyph1-12\">\n",
       "<path style=\"stroke:none;\" d=\"M -3.242188 -0.414063 C -4.4375 -0.410156 -5.328125 -0.746094 -5.90625 -1.417969 C -6.386719 -1.972656 -6.625 -2.648438 -6.628906 -3.453125 C -6.625 -4.34375 -6.332031 -5.074219 -5.75 -5.640625 C -5.164063 -6.203125 -4.359375 -6.484375 -3.332031 -6.488281 C -2.496094 -6.484375 -1.839844 -6.359375 -1.363281 -6.113281 C -0.882813 -5.859375 -0.511719 -5.496094 -0.25 -5.019531 C 0.015625 -4.539063 0.144531 -4.015625 0.148438 -3.453125 C 0.144531 -2.542969 -0.140625 -1.8125 -0.722656 -1.253906 C -1.300781 -0.691406 -2.140625 -0.410156 -3.242188 -0.414063 Z M -3.242188 -1.542969 C -2.40625 -1.539063 -1.785156 -1.722656 -1.375 -2.085938 C -0.960938 -2.445313 -0.753906 -2.898438 -0.757813 -3.453125 C -0.753906 -3.996094 -0.960938 -4.453125 -1.378906 -4.816406 C -1.789063 -5.175781 -2.421875 -5.355469 -3.277344 -5.359375 C -4.074219 -5.355469 -4.683594 -5.171875 -5.097656 -4.8125 C -5.511719 -4.445313 -5.71875 -3.992188 -5.71875 -3.453125 C -5.71875 -2.898438 -5.511719 -2.445313 -5.101563 -2.085938 C -4.6875 -1.722656 -4.066406 -1.539063 -3.242188 -1.542969 Z M -3.242188 -1.542969 \"/>\n",
       "</symbol>\n",
       "<symbol overflow=\"visible\" id=\"glyph1-13\">\n",
       "<path style=\"stroke:none;\" d=\"M -2.085938 -5.261719 L -1.945313 -6.398438 C -1.28125 -6.21875 -0.765625 -5.886719 -0.402344 -5.402344 C -0.0351563 -4.917969 0.144531 -4.296875 0.148438 -3.546875 C 0.144531 -2.59375 -0.144531 -1.84375 -0.726563 -1.289063 C -1.3125 -0.734375 -2.132813 -0.457031 -3.1875 -0.457031 C -4.273438 -0.457031 -5.117188 -0.734375 -5.722656 -1.296875 C -6.324219 -1.855469 -6.625 -2.585938 -6.628906 -3.484375 C -6.625 -4.347656 -6.332031 -5.054688 -5.742188 -5.609375 C -5.152344 -6.15625 -4.320313 -6.433594 -3.253906 -6.433594 C -3.183594 -6.433594 -3.085938 -6.429688 -2.960938 -6.425781 L -2.960938 -1.59375 C -2.242188 -1.632813 -1.699219 -1.832031 -1.324219 -2.195313 C -0.945313 -2.558594 -0.753906 -3.011719 -0.757813 -3.550781 C -0.753906 -3.953125 -0.859375 -4.296875 -1.074219 -4.582031 C -1.28125 -4.867188 -1.621094 -5.09375 -2.085938 -5.261719 Z M -3.863281 -1.652344 L -3.863281 -5.273438 C -4.402344 -5.222656 -4.8125 -5.082031 -5.089844 -4.859375 C -5.511719 -4.503906 -5.722656 -4.050781 -5.726563 -3.496094 C -5.722656 -2.992188 -5.554688 -2.570313 -5.21875 -2.226563 C -4.878906 -1.882813 -4.425781 -1.691406 -3.863281 -1.652344 Z M -3.863281 -1.652344 \"/>\n",
       "</symbol>\n",
       "<symbol overflow=\"visible\" id=\"glyph1-14\">\n",
       "<path style=\"stroke:none;\" d=\"M 1.289063 -3.113281 L 0.1875 -3.113281 C 0.117188 -2.558594 -0.00390625 -2.113281 -0.179688 -1.773438 C -0.355469 -1.425781 -0.640625 -1.128906 -1.035156 -0.882813 C -1.429688 -0.628906 -1.914063 -0.484375 -2.484375 -0.445313 L -2.691406 -1.550781 C -2.097656 -1.632813 -1.664063 -1.78125 -1.390625 -2 C -0.996094 -2.304688 -0.78125 -2.675781 -0.738281 -3.113281 L -4.234375 -3.113281 C -4.316406 -2.65625 -4.492188 -2.195313 -4.761719 -1.726563 C -4.953125 -1.375 -5.222656 -1.105469 -5.570313 -0.917969 C -5.914063 -0.726563 -6.308594 -0.632813 -6.75 -0.636719 C -7.53125 -0.632813 -8.164063 -0.910156 -8.648438 -1.464844 C -8.972656 -1.832031 -9.171875 -2.378906 -9.246094 -3.113281 L -9.773438 -3.113281 L -9.773438 -3.761719 L -9.246094 -3.761719 C -9.183594 -4.398438 -8.996094 -4.902344 -8.683594 -5.28125 C -8.285156 -5.757813 -7.738281 -6.046875 -7.042969 -6.144531 L -6.871094 -5.011719 C -7.300781 -4.941406 -7.632813 -4.808594 -7.863281 -4.605469 C -8.09375 -4.398438 -8.246094 -4.117188 -8.320313 -3.761719 L -5.152344 -3.761719 C -5.011719 -4.3125 -4.90625 -4.675781 -4.828125 -4.859375 C -4.675781 -5.195313 -4.492188 -5.476563 -4.277344 -5.695313 C -4.058594 -5.910156 -3.800781 -6.074219 -3.507813 -6.191406 C -3.207031 -6.304688 -2.886719 -6.363281 -2.546875 -6.367188 C -1.78125 -6.363281 -1.144531 -6.121094 -0.640625 -5.640625 C -0.132813 -5.152344 0.136719 -4.523438 0.175781 -3.757813 L 1.289063 -3.757813 Z M -8.332031 -3.113281 C -8.265625 -2.683594 -8.09375 -2.347656 -7.816406 -2.101563 C -7.539063 -1.855469 -7.210938 -1.734375 -6.835938 -1.734375 C -6.457031 -1.734375 -6.144531 -1.835938 -5.894531 -2.046875 C -5.640625 -2.253906 -5.4375 -2.609375 -5.292969 -3.113281 Z M -0.738281 -3.757813 C -0.789063 -4.183594 -0.972656 -4.539063 -1.292969 -4.820313 C -1.609375 -5.097656 -2.003906 -5.238281 -2.472656 -5.238281 C -2.871094 -5.238281 -3.191406 -5.136719 -3.433594 -4.941406 C -3.675781 -4.738281 -3.890625 -4.347656 -4.082031 -3.761719 Z M -0.738281 -3.757813 \"/>\n",
       "</symbol>\n",
       "<symbol overflow=\"visible\" id=\"glyph1-15\">\n",
       "<path style=\"stroke:none;\" d=\"M 0 -2.625 L -6.480469 -0.160156 L -6.480469 -1.320313 L -2.601563 -2.710938 C -2.179688 -2.859375 -1.742188 -2.996094 -1.292969 -3.125 C -1.632813 -3.21875 -2.042969 -3.355469 -2.527344 -3.535156 L -6.480469 -4.972656 L -6.480469 -6.101563 L 0 -3.648438 Z M 0 -2.625 \"/>\n",
       "</symbol>\n",
       "<symbol overflow=\"visible\" id=\"glyph1-16\">\n",
       "<path style=\"stroke:none;\" d=\"M -7.683594 -0.832031 L -8.949219 -0.832031 L -8.949219 -1.929688 L -7.683594 -1.929688 Z M 0 -0.828125 L -6.480469 -0.832031 L -6.480469 -1.929688 L 0 -1.929688 Z M 0 -0.828125 \"/>\n",
       "</symbol>\n",
       "<symbol overflow=\"visible\" id=\"glyph1-17\">\n",
       "<path style=\"stroke:none;\" d=\"M 0 -0.800781 L -8.949219 -0.800781 L -8.949219 -1.898438 L 0 -1.898438 Z M 0 -0.800781 \"/>\n",
       "</symbol>\n",
       "<symbol overflow=\"visible\" id=\"glyph1-18\">\n",
       "<path style=\"stroke:none;\" d=\"M 0 -0.824219 L -6.480469 -0.824219 L -6.480469 -1.808594 L -5.574219 -1.808594 C -5.886719 -2.007813 -6.140625 -2.277344 -6.335938 -2.617188 C -6.527344 -2.953125 -6.625 -3.339844 -6.628906 -3.773438 C -6.625 -4.25 -6.527344 -4.640625 -6.328125 -4.953125 C -6.128906 -5.257813 -5.847656 -5.476563 -5.492188 -5.601563 C -6.246094 -6.113281 -6.625 -6.78125 -6.628906 -7.605469 C -6.625 -8.246094 -6.449219 -8.738281 -6.09375 -9.085938 C -5.734375 -9.429688 -5.183594 -9.601563 -4.449219 -9.605469 L 0 -9.605469 L 0 -8.515625 L -4.082031 -8.515625 C -4.519531 -8.511719 -4.835938 -8.476563 -5.03125 -8.40625 C -5.222656 -8.332031 -5.378906 -8.203125 -5.496094 -8.019531 C -5.613281 -7.828125 -5.671875 -7.609375 -5.675781 -7.359375 C -5.671875 -6.902344 -5.519531 -6.523438 -5.21875 -6.222656 C -4.914063 -5.921875 -4.429688 -5.769531 -3.765625 -5.773438 L 0 -5.773438 L 0 -4.675781 L -4.210938 -4.675781 C -4.699219 -4.675781 -5.066406 -4.585938 -5.308594 -4.40625 C -5.550781 -4.226563 -5.671875 -3.933594 -5.675781 -3.527344 C -5.671875 -3.214844 -5.589844 -2.925781 -5.429688 -2.667969 C -5.265625 -2.402344 -5.027344 -2.214844 -4.71875 -2.097656 C -4.402344 -1.980469 -3.953125 -1.921875 -3.363281 -1.921875 L 0 -1.921875 Z M 0 -0.824219 \"/>\n",
       "</symbol>\n",
       "<symbol overflow=\"visible\" id=\"glyph1-19\">\n",
       "<path style=\"stroke:none;\" d=\"M -2.375 -5.054688 L -2.234375 -6.132813 C -1.484375 -6.011719 -0.902344 -5.710938 -0.484375 -5.226563 C -0.0625 -4.742188 0.144531 -4.144531 0.148438 -3.4375 C 0.144531 -2.546875 -0.140625 -1.832031 -0.722656 -1.296875 C -1.300781 -0.753906 -2.132813 -0.484375 -3.214844 -0.488281 C -3.914063 -0.484375 -4.527344 -0.601563 -5.050781 -0.835938 C -5.574219 -1.066406 -5.96875 -1.417969 -6.234375 -1.894531 C -6.496094 -2.363281 -6.625 -2.878906 -6.628906 -3.441406 C -6.625 -4.144531 -6.449219 -4.722656 -6.09375 -5.167969 C -5.734375 -5.613281 -5.226563 -5.898438 -4.578125 -6.03125 L -4.414063 -4.960938 C -4.84375 -4.855469 -5.171875 -4.675781 -5.394531 -4.421875 C -5.613281 -4.160156 -5.722656 -3.847656 -5.726563 -3.484375 C -5.722656 -2.929688 -5.523438 -2.480469 -5.128906 -2.136719 C -4.730469 -1.789063 -4.105469 -1.617188 -3.246094 -1.617188 C -2.375 -1.617188 -1.742188 -1.78125 -1.347656 -2.117188 C -0.953125 -2.445313 -0.753906 -2.882813 -0.757813 -3.425781 C -0.753906 -3.851563 -0.886719 -4.210938 -1.152344 -4.503906 C -1.414063 -4.789063 -1.820313 -4.972656 -2.375 -5.054688 Z M -2.375 -5.054688 \"/>\n",
       "</symbol>\n",
       "</g>\n",
       "<clipPath id=\"clip1\">\n",
       "  <path d=\"M 59.039063 59.039063 L 474.757813 59.039063 L 474.757813 431.558594 L 59.039063 431.558594 Z M 59.039063 59.039063 \"/>\n",
       "</clipPath>\n",
       "</defs>\n",
       "<g id=\"surface98\">\n",
       "<rect x=\"0\" y=\"0\" width=\"504\" height=\"504\" style=\"fill:rgb(100%,100%,100%);fill-opacity:1;stroke:none;\"/>\n",
       "<g clip-path=\"url(#clip1)\" clip-rule=\"nonzero\">\n",
       "<path style=\"fill:none;stroke-width:1;stroke-linecap:round;stroke-linejoin:round;stroke:rgb(0%,0%,0%);stroke-opacity:1;stroke-miterlimit:10;\" d=\"M 77.601563 72.800781 C 77.601563 77.066406 71.199219 77.066406 71.199219 72.800781 C 71.199219 68.535156 77.601563 68.535156 77.601563 72.800781 \"/>\n",
       "<path style=\"fill:none;stroke-width:1;stroke-linecap:round;stroke-linejoin:round;stroke:rgb(0%,0%,0%);stroke-opacity:1;stroke-miterlimit:10;\" d=\"M 205.601563 277.703125 C 205.601563 281.972656 199.199219 281.972656 199.199219 277.703125 C 199.199219 273.4375 205.601563 273.4375 205.601563 277.703125 \"/>\n",
       "<path style=\"fill:none;stroke-width:1;stroke-linecap:round;stroke-linejoin:round;stroke:rgb(0%,0%,0%);stroke-opacity:1;stroke-miterlimit:10;\" d=\"M 333.601563 370.339844 C 333.601563 374.605469 327.199219 374.605469 327.199219 370.339844 C 327.199219 366.074219 333.601563 366.074219 333.601563 370.339844 \"/>\n",
       "<path style=\"fill:none;stroke-width:1;stroke-linecap:round;stroke-linejoin:round;stroke:rgb(0%,0%,0%);stroke-opacity:1;stroke-miterlimit:10;\" d=\"M 461.601563 416.800781 C 461.601563 421.066406 455.199219 421.066406 455.199219 416.800781 C 455.199219 412.535156 461.601563 412.535156 461.601563 416.800781 \"/>\n",
       "</g>\n",
       "<path style=\"fill:none;stroke-width:1;stroke-linecap:round;stroke-linejoin:round;stroke:rgb(0%,0%,0%);stroke-opacity:1;stroke-miterlimit:10;\" d=\"M 74.398438 430.558594 L 458.398438 430.558594 \"/>\n",
       "<path style=\"fill:none;stroke-width:1;stroke-linecap:round;stroke-linejoin:round;stroke:rgb(0%,0%,0%);stroke-opacity:1;stroke-miterlimit:10;\" d=\"M 74.398438 430.558594 L 74.398438 437.761719 \"/>\n",
       "<path style=\"fill:none;stroke-width:1;stroke-linecap:round;stroke-linejoin:round;stroke:rgb(0%,0%,0%);stroke-opacity:1;stroke-miterlimit:10;\" d=\"M 138.398438 430.558594 L 138.398438 437.761719 \"/>\n",
       "<path style=\"fill:none;stroke-width:1;stroke-linecap:round;stroke-linejoin:round;stroke:rgb(0%,0%,0%);stroke-opacity:1;stroke-miterlimit:10;\" d=\"M 202.398438 430.558594 L 202.398438 437.761719 \"/>\n",
       "<path style=\"fill:none;stroke-width:1;stroke-linecap:round;stroke-linejoin:round;stroke:rgb(0%,0%,0%);stroke-opacity:1;stroke-miterlimit:10;\" d=\"M 266.398438 430.558594 L 266.398438 437.761719 \"/>\n",
       "<path style=\"fill:none;stroke-width:1;stroke-linecap:round;stroke-linejoin:round;stroke:rgb(0%,0%,0%);stroke-opacity:1;stroke-miterlimit:10;\" d=\"M 330.398438 430.558594 L 330.398438 437.761719 \"/>\n",
       "<path style=\"fill:none;stroke-width:1;stroke-linecap:round;stroke-linejoin:round;stroke:rgb(0%,0%,0%);stroke-opacity:1;stroke-miterlimit:10;\" d=\"M 394.398438 430.558594 L 394.398438 437.761719 \"/>\n",
       "<path style=\"fill:none;stroke-width:1;stroke-linecap:round;stroke-linejoin:round;stroke:rgb(0%,0%,0%);stroke-opacity:1;stroke-miterlimit:10;\" d=\"M 458.398438 430.558594 L 458.398438 437.761719 \"/>\n",
       "<g style=\"fill:rgb(0%,0%,0%);fill-opacity:1;\">\n",
       "  <use xlink:href=\"#glyph0-0\" x=\"65.710938\" y=\"457.921875\"/>\n",
       "  <use xlink:href=\"#glyph0-1\" x=\"72.662842\" y=\"457.921875\"/>\n",
       "  <use xlink:href=\"#glyph0-2\" x=\"76.135742\" y=\"457.921875\"/>\n",
       "</g>\n",
       "<g style=\"fill:rgb(0%,0%,0%);fill-opacity:1;\">\n",
       "  <use xlink:href=\"#glyph0-0\" x=\"129.710938\" y=\"457.921875\"/>\n",
       "  <use xlink:href=\"#glyph0-1\" x=\"136.662842\" y=\"457.921875\"/>\n",
       "  <use xlink:href=\"#glyph0-3\" x=\"140.135742\" y=\"457.921875\"/>\n",
       "</g>\n",
       "<g style=\"fill:rgb(0%,0%,0%);fill-opacity:1;\">\n",
       "  <use xlink:href=\"#glyph0-4\" x=\"193.710938\" y=\"457.921875\"/>\n",
       "  <use xlink:href=\"#glyph0-1\" x=\"200.662842\" y=\"457.921875\"/>\n",
       "  <use xlink:href=\"#glyph0-2\" x=\"204.135742\" y=\"457.921875\"/>\n",
       "</g>\n",
       "<g style=\"fill:rgb(0%,0%,0%);fill-opacity:1;\">\n",
       "  <use xlink:href=\"#glyph0-4\" x=\"257.710938\" y=\"457.921875\"/>\n",
       "  <use xlink:href=\"#glyph0-1\" x=\"264.662842\" y=\"457.921875\"/>\n",
       "  <use xlink:href=\"#glyph0-3\" x=\"268.135742\" y=\"457.921875\"/>\n",
       "</g>\n",
       "<g style=\"fill:rgb(0%,0%,0%);fill-opacity:1;\">\n",
       "  <use xlink:href=\"#glyph0-5\" x=\"321.710938\" y=\"457.921875\"/>\n",
       "  <use xlink:href=\"#glyph0-1\" x=\"328.662842\" y=\"457.921875\"/>\n",
       "  <use xlink:href=\"#glyph0-2\" x=\"332.135742\" y=\"457.921875\"/>\n",
       "</g>\n",
       "<g style=\"fill:rgb(0%,0%,0%);fill-opacity:1;\">\n",
       "  <use xlink:href=\"#glyph0-5\" x=\"385.710938\" y=\"457.921875\"/>\n",
       "  <use xlink:href=\"#glyph0-1\" x=\"392.662842\" y=\"457.921875\"/>\n",
       "  <use xlink:href=\"#glyph0-3\" x=\"396.135742\" y=\"457.921875\"/>\n",
       "</g>\n",
       "<g style=\"fill:rgb(0%,0%,0%);fill-opacity:1;\">\n",
       "  <use xlink:href=\"#glyph0-6\" x=\"449.710938\" y=\"457.921875\"/>\n",
       "  <use xlink:href=\"#glyph0-1\" x=\"456.662842\" y=\"457.921875\"/>\n",
       "  <use xlink:href=\"#glyph0-2\" x=\"460.135742\" y=\"457.921875\"/>\n",
       "</g>\n",
       "<path style=\"fill:none;stroke-width:1;stroke-linecap:round;stroke-linejoin:round;stroke:rgb(0%,0%,0%);stroke-opacity:1;stroke-miterlimit:10;\" d=\"M 59.039063 343.679688 L 59.039063 75.699219 \"/>\n",
       "<path style=\"fill:none;stroke-width:1;stroke-linecap:round;stroke-linejoin:round;stroke:rgb(0%,0%,0%);stroke-opacity:1;stroke-miterlimit:10;\" d=\"M 59.039063 343.679688 L 51.839844 343.679688 \"/>\n",
       "<path style=\"fill:none;stroke-width:1;stroke-linecap:round;stroke-linejoin:round;stroke:rgb(0%,0%,0%);stroke-opacity:1;stroke-miterlimit:10;\" d=\"M 59.039063 254.351563 L 51.839844 254.351563 \"/>\n",
       "<path style=\"fill:none;stroke-width:1;stroke-linecap:round;stroke-linejoin:round;stroke:rgb(0%,0%,0%);stroke-opacity:1;stroke-miterlimit:10;\" d=\"M 59.039063 165.027344 L 51.839844 165.027344 \"/>\n",
       "<path style=\"fill:none;stroke-width:1;stroke-linecap:round;stroke-linejoin:round;stroke:rgb(0%,0%,0%);stroke-opacity:1;stroke-miterlimit:10;\" d=\"M 59.039063 75.699219 L 51.839844 75.699219 \"/>\n",
       "<g style=\"fill:rgb(0%,0%,0%);fill-opacity:1;\">\n",
       "  <use xlink:href=\"#glyph1-0\" x=\"43.199219\" y=\"354.109375\"/>\n",
       "  <use xlink:href=\"#glyph1-1\" x=\"43.199219\" y=\"347.157471\"/>\n",
       "  <use xlink:href=\"#glyph1-1\" x=\"43.199219\" y=\"340.205566\"/>\n",
       "</g>\n",
       "<g style=\"fill:rgb(0%,0%,0%);fill-opacity:1;\">\n",
       "  <use xlink:href=\"#glyph1-2\" x=\"43.199219\" y=\"264.78125\"/>\n",
       "  <use xlink:href=\"#glyph1-1\" x=\"43.199219\" y=\"257.829346\"/>\n",
       "  <use xlink:href=\"#glyph1-1\" x=\"43.199219\" y=\"250.877441\"/>\n",
       "</g>\n",
       "<g style=\"fill:rgb(0%,0%,0%);fill-opacity:1;\">\n",
       "  <use xlink:href=\"#glyph1-3\" x=\"43.199219\" y=\"175.457031\"/>\n",
       "  <use xlink:href=\"#glyph1-1\" x=\"43.199219\" y=\"168.505127\"/>\n",
       "  <use xlink:href=\"#glyph1-1\" x=\"43.199219\" y=\"161.553223\"/>\n",
       "</g>\n",
       "<g style=\"fill:rgb(0%,0%,0%);fill-opacity:1;\">\n",
       "  <use xlink:href=\"#glyph1-4\" x=\"43.199219\" y=\"86.128906\"/>\n",
       "  <use xlink:href=\"#glyph1-1\" x=\"43.199219\" y=\"79.177002\"/>\n",
       "  <use xlink:href=\"#glyph1-1\" x=\"43.199219\" y=\"72.225098\"/>\n",
       "</g>\n",
       "<path style=\"fill:none;stroke-width:1;stroke-linecap:round;stroke-linejoin:round;stroke:rgb(0%,0%,0%);stroke-opacity:1;stroke-miterlimit:10;\" d=\"M 59.039063 430.558594 L 473.761719 430.558594 L 473.761719 59.039063 L 59.039063 59.039063 L 59.039063 430.558594 \"/>\n",
       "<g style=\"fill:rgb(0%,0%,0%);fill-opacity:1;\">\n",
       "  <use xlink:href=\"#glyph0-7\" x=\"251.109375\" y=\"486.71875\"/>\n",
       "  <use xlink:href=\"#glyph0-8\" x=\"254.582275\" y=\"486.71875\"/>\n",
       "  <use xlink:href=\"#glyph0-9\" x=\"261.53418\" y=\"486.71875\"/>\n",
       "  <use xlink:href=\"#glyph0-10\" x=\"268.486084\" y=\"486.71875\"/>\n",
       "  <use xlink:href=\"#glyph0-11\" x=\"275.437988\" y=\"486.71875\"/>\n",
       "</g>\n",
       "<g style=\"fill:rgb(0%,0%,0%);fill-opacity:1;\">\n",
       "  <use xlink:href=\"#glyph1-5\" x=\"14.398438\" y=\"333.046875\"/>\n",
       "  <use xlink:href=\"#glyph1-6\" x=\"14.398438\" y=\"328.884277\"/>\n",
       "  <use xlink:href=\"#glyph1-7\" x=\"14.398438\" y=\"321.932373\"/>\n",
       "  <use xlink:href=\"#glyph1-5\" x=\"14.398438\" y=\"314.980469\"/>\n",
       "  <use xlink:href=\"#glyph1-8\" x=\"14.398438\" y=\"310.817871\"/>\n",
       "  <use xlink:href=\"#glyph1-9\" x=\"14.398438\" y=\"307.344971\"/>\n",
       "  <use xlink:href=\"#glyph1-10\" x=\"14.398438\" y=\"303.87207\"/>\n",
       "  <use xlink:href=\"#glyph1-11\" x=\"14.398438\" y=\"296.920166\"/>\n",
       "  <use xlink:href=\"#glyph1-12\" x=\"14.398438\" y=\"289.968262\"/>\n",
       "  <use xlink:href=\"#glyph1-8\" x=\"14.398438\" y=\"283.016357\"/>\n",
       "  <use xlink:href=\"#glyph1-13\" x=\"14.398438\" y=\"279.543457\"/>\n",
       "  <use xlink:href=\"#glyph1-14\" x=\"14.398438\" y=\"272.591553\"/>\n",
       "  <use xlink:href=\"#glyph1-15\" x=\"14.398438\" y=\"265.639648\"/>\n",
       "  <use xlink:href=\"#glyph1-7\" x=\"14.398438\" y=\"259.389648\"/>\n",
       "  <use xlink:href=\"#glyph1-5\" x=\"14.398438\" y=\"252.437744\"/>\n",
       "  <use xlink:href=\"#glyph1-16\" x=\"14.398438\" y=\"248.275146\"/>\n",
       "  <use xlink:href=\"#glyph1-7\" x=\"14.398438\" y=\"245.498047\"/>\n",
       "  <use xlink:href=\"#glyph1-10\" x=\"14.398438\" y=\"238.546143\"/>\n",
       "  <use xlink:href=\"#glyph1-17\" x=\"14.398438\" y=\"231.594238\"/>\n",
       "  <use xlink:href=\"#glyph1-13\" x=\"14.398438\" y=\"228.817139\"/>\n",
       "  <use xlink:href=\"#glyph1-9\" x=\"14.398438\" y=\"221.865234\"/>\n",
       "  <use xlink:href=\"#glyph1-16\" x=\"14.398438\" y=\"218.392334\"/>\n",
       "  <use xlink:href=\"#glyph1-18\" x=\"14.398438\" y=\"215.615234\"/>\n",
       "  <use xlink:href=\"#glyph1-6\" x=\"14.398438\" y=\"205.202637\"/>\n",
       "  <use xlink:href=\"#glyph1-12\" x=\"14.398438\" y=\"198.250732\"/>\n",
       "  <use xlink:href=\"#glyph1-5\" x=\"14.398438\" y=\"191.298828\"/>\n",
       "  <use xlink:href=\"#glyph1-8\" x=\"14.398438\" y=\"187.13623\"/>\n",
       "  <use xlink:href=\"#glyph1-7\" x=\"14.398438\" y=\"183.66333\"/>\n",
       "  <use xlink:href=\"#glyph1-11\" x=\"14.398438\" y=\"176.711426\"/>\n",
       "  <use xlink:href=\"#glyph1-19\" x=\"14.398438\" y=\"169.759521\"/>\n",
       "  <use xlink:href=\"#glyph1-13\" x=\"14.398438\" y=\"163.509521\"/>\n",
       "</g>\n",
       "</g>\n",
       "</svg>\n"
      ],
      "text/plain": [
       "plot without title"
      ]
     },
     "metadata": {
      "image/svg+xml": {
       "isolated": true
      }
     },
     "output_type": "display_data"
    }
   ],
   "source": [
    "plot(rpart.bnote$variable.importance)"
   ]
  },
  {
   "cell_type": "code",
   "execution_count": null,
   "metadata": {
    "collapsed": true
   },
   "outputs": [],
   "source": []
  },
  {
   "cell_type": "code",
   "execution_count": null,
   "metadata": {
    "collapsed": true
   },
   "outputs": [],
   "source": []
  },
  {
   "cell_type": "code",
   "execution_count": null,
   "metadata": {
    "collapsed": true
   },
   "outputs": [],
   "source": []
  }
 ],
 "metadata": {
  "kernelspec": {
   "display_name": "R",
   "language": "R",
   "name": "ir"
  },
  "language_info": {
   "codemirror_mode": "r",
   "file_extension": ".r",
   "mimetype": "text/x-r-source",
   "name": "R",
   "pygments_lexer": "r",
   "version": "3.3.1"
  }
 },
 "nbformat": 4,
 "nbformat_minor": 0
}
