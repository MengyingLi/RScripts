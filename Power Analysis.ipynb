{
 "cells": [
  {
   "cell_type": "markdown",
   "metadata": {},
   "source": [
    "### Some Important Terms"
   ]
  },
  {
   "cell_type": "markdown",
   "metadata": {},
   "source": [
    "1. Type II errors and Type I errors can't be decreasing together unless you have a bigger sample size.\n",
    "2. Type I error means the probability you are going to reject the Null but indeed the null is true.\n",
    "3. Power can be increased by the effect size. The larger the effect size, the easier to detect the difference, the more likely the null will be rejected \n",
    "4. Two usage case of power analysis: either you know the sample size, you want to calculate the power or you know the power you want to achieve and you don't know the sample size "
   ]
  },
  {
   "cell_type": "code",
   "execution_count": 1,
   "metadata": {
    "collapsed": true
   },
   "outputs": [],
   "source": [
    "library(pwr)"
   ]
  },
  {
   "cell_type": "markdown",
   "metadata": {},
   "source": [
    "#### Equal Sample Size "
   ]
  },
  {
   "cell_type": "markdown",
   "metadata": {},
   "source": [
    "* n is the sample size, d is the effect size, and type indicate"
   ]
  },
  {
   "cell_type": "code",
   "execution_count": 2,
   "metadata": {
    "collapsed": false,
    "scrolled": true
   },
   "outputs": [
    {
     "data": {
      "text/plain": [
       "\n",
       "     Two-sample t test power calculation \n",
       "\n",
       "              n = 41.31968\n",
       "              d = 0.6238303\n",
       "      sig.level = 0.05\n",
       "          power = 0.8\n",
       "    alternative = two.sided\n",
       "\n",
       "NOTE: n is number in *each* group\n"
      ]
     },
     "metadata": {},
     "output_type": "display_data"
    }
   ],
   "source": [
    "pwr.t.test(d=(0-10)/16.03,power=.8,sig.level=.05,type=\"two.sample\",alternative=\"two.sided\")\n",
    "pwr.t.test(n=, d =, sig.level = , power =, type = c(\"two.sample\", \"one.sample\", \"paired\"))"
   ]
  },
  {
   "cell_type": "markdown",
   "metadata": {},
   "source": [
    "* n = sample size\n",
    "* delta = ∆ = µ2 − µ1 (delta/sd: effect size) signal\n",
    "* sd = σ = population SD (Noise)\n",
    "* sig.level = α = significance level\n",
    "* power = the power\n",
    "* type = type of data (two-sample, one-sample, paired)\n",
    "* alternative = two-sided or one-sided test"
   ]
  },
  {
   "cell_type": "markdown",
   "metadata": {},
   "source": [
    "#### Unequal Sample Size "
   ]
  },
  {
   "cell_type": "code",
   "execution_count": null,
   "metadata": {
    "collapsed": true
   },
   "outputs": [],
   "source": [
    "pwr.t2n.test(n1 = , n2= , d = , sig.level =, power = , alternative = \"two.sided\", \"less\", \"greater\") # n1 and n2 are sample sizes"
   ]
  },
  {
   "cell_type": "code",
   "execution_count": null,
   "metadata": {
    "collapsed": true
   },
   "outputs": [],
   "source": [
    "pwr.anova.test(k = , n = , f = , sig.level = , power = ) #k is the number of groups and n is the common sample size in each group"
   ]
  }
 ],
 "metadata": {
  "kernelspec": {
   "display_name": "R",
   "language": "R",
   "name": "ir"
  },
  "language_info": {
   "codemirror_mode": "r",
   "file_extension": ".r",
   "mimetype": "text/x-r-source",
   "name": "R",
   "pygments_lexer": "r",
   "version": "3.3.0"
  }
 },
 "nbformat": 4,
 "nbformat_minor": 0
}
