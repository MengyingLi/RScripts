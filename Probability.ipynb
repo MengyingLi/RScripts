{
 "cells": [
  {
   "cell_type": "markdown",
   "metadata": {},
   "source": [
    "<h2 align = \"center\"> Probability </h2>"
   ]
  },
  {
   "cell_type": "markdown",
   "metadata": {},
   "source": [
    " Distribution     | Parameter |MemoryTip\n",
    "  ------------- | -------------| -------------\n",
    "  Exponential Distribution| lambda (number of count per unit of time) | Memoryless(waiting for shooting star has nothing to do with how long you have been waiting) + Expected waiting time for one start to come is 1/lambda\n",
    "Gamma Distribution|lambda and count (how many occurances of events do you expect to see) |waiting time until you see n shooting stars\n",
    "Normal Distribution| mu and sigma|Central limit thereom is very important \n",
    "Chisqure Distribution| df| squared normal distribution\n",
    "    "
   ]
  },
  {
   "cell_type": "code",
   "execution_count": null,
   "metadata": {
    "collapsed": true
   },
   "outputs": [],
   "source": []
  }
 ],
 "metadata": {
  "kernelspec": {
   "display_name": "R",
   "language": "R",
   "name": "ir"
  },
  "language_info": {
   "codemirror_mode": "r",
   "file_extension": ".r",
   "mimetype": "text/x-r-source",
   "name": "R",
   "pygments_lexer": "r",
   "version": "3.3.1"
  }
 },
 "nbformat": 4,
 "nbformat_minor": 0
}
