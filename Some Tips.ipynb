{
 "cells": [
  {
   "cell_type": "markdown",
   "metadata": {},
   "source": [
    "colorSchema = c(\"#FF5A5F\",\n",
    "  \"#FFB400\", \"#007A87\", \"#FFAA91\", \"#7B0051\")\n",
    "  \n",
    "  "
   ]
  }
 ],
 "metadata": {
  "kernelspec": {
   "display_name": "R",
   "language": "R",
   "name": "ir"
  },
  "language_info": {
   "codemirror_mode": "r",
   "file_extension": ".r",
   "mimetype": "text/x-r-source",
   "name": "R",
   "pygments_lexer": "r",
   "version": "3.3.1"
  }
 },
 "nbformat": 4,
 "nbformat_minor": 0
}
