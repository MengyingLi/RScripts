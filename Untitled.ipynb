{
 "cells": [
  {
   "cell_type": "markdown",
   "metadata": {},
   "source": [
    "<h1 align = \"center\"> Airbnb Kaggle Challenge"
   ]
  },
  {
   "cell_type": "markdown",
   "metadata": {},
   "source": [
    "#### whats the first marketing the user interacted with before the signing up"
   ]
  },
  {
   "cell_type": "code",
   "execution_count": 1,
   "metadata": {
    "collapsed": true
   },
   "outputs": [],
   "source": [
    "setwd(\"E:/Personal/InterviewQuestion/Rscripts/TakeHomeChallenge/AirbnbDataChallenge\")"
   ]
  },
  {
   "cell_type": "markdown",
   "metadata": {},
   "source": [
    "<h2 align = \"center\"> Load the data and library"
   ]
  },
  {
   "cell_type": "code",
   "execution_count": 6,
   "metadata": {
    "collapsed": false
   },
   "outputs": [
    {
     "name": "stderr",
     "output_type": "stream",
     "text": [
      "Scanning ttf files in C:\\WINDOWS\\Fonts ...\n",
      "Extracting .afm files from .ttf files...\n",
      "C:\\Windows\\Fonts\\Circular Air-Bold 3.46.45 PM.ttf : CircularAir-Bold already registered in fonts database. Skipping.\n",
      "C:\\Windows\\Fonts\\Circular Air-Medium 3.46.45 PM.ttf : CircularAir-Medium already registered in fonts database. Skipping.\n",
      "Found FontName for 0 fonts.\n",
      "Scanning afm files in C:/Users/menli/Documents/R/win-library/3.3/extrafontdb/metrics\n"
     ]
    }
   ],
   "source": [
    "if(!require(ggplot2)){\n",
    "    install.packages(\"ggplot2\")\n",
    " }\n",
    "if(!require(lubridate)){\n",
    "    install.packages(\"lubridate\")\n",
    " }\n",
    "if(!require(dplyr)){\n",
    "    install.packages(\"dplyr\")\n",
    " }\n",
    "if(!require(plyr)){\n",
    "    install.packages(\"plyr\")\n",
    " }\n",
    "if(!require(tidyr)){\n",
    "    install.packages(\"tidyr\")\n",
    " }\n",
    "if(!require(scales)){\n",
    "    install.packages(\"scales\")\n",
    " }\n",
    "if(!require(caret)){\n",
    "    install.packages(\"caret\")\n",
    " }\n",
    "if(!require(stringr)){\n",
    "    install.packages(\"stringr\")\n",
    " }\n",
    "if(!require(Hmisc)){\n",
    "    install.packages(\"Hmisc\")\n",
    " }\n",
    "\n",
    "if(!require(gridExtra)){\n",
    "    install.packages(\"gridExtra\")\n",
    " }\n",
    "if(!require(grid)){\n",
    "    install.packages(\"grid\")\n",
    " }\n",
    "if(!require(lattice)){\n",
    "    install.packages(\"lattice\")\n",
    " }\n",
    "\n",
    "if(!require(ggthemes)){\n",
    "    install.packages(\"ggthemes\")\n",
    " }\n",
    "if(!require(ggtech)){\n",
    "    install.packages(\"ggtech\")\n",
    " }\n",
    "\n",
    "if(!require(extrafont)){\n",
    "    install.packages(\"extrafont\")\n",
    " }\n",
    "font_import(pattern = 'Circular', prompt=FALSE)"
   ]
  },
  {
   "cell_type": "code",
   "execution_count": 7,
   "metadata": {
    "collapsed": true
   },
   "outputs": [],
   "source": [
    "load(\"Airbnb_sample.rda\")"
   ]
  },
  {
   "cell_type": "markdown",
   "metadata": {},
   "source": [
    "<h2 align = \"center\"> Data Preprocessing"
   ]
  },
  {
   "cell_type": "code",
   "execution_count": 9,
   "metadata": {
    "collapsed": false
   },
   "outputs": [
    {
     "name": "stdout",
     "output_type": "stream",
     "text": [
      "'data.frame':\t64036 obs. of  17 variables:\n",
      " $ id                     : chr  \"bjjt8pjhuk\" \"lsw9q7uk0j\" \"dy3rgx56cu\" \"cxlg85pg1r\" ...\n",
      " $ date_account_created   : chr  \"2011-12-05\" \"2010-01-02\" \"2010-01-05\" \"2010-01-08\" ...\n",
      " $ timestamp_first_active : num  2.01e+13 2.01e+13 2.01e+13 2.01e+13 2.01e+13 ...\n",
      " $ date_first_booking     : chr  \"2012-09-08\" \"2010-01-05\" \"\" \"\" ...\n",
      " $ gender                 : chr  \"FEMALE\" \"FEMALE\" \"FEMALE\" \"-unknown-\" ...\n",
      " $ age                    : num  42 46 37 NA 30 35 31 29 NA 35 ...\n",
      " $ signup_method          : chr  \"facebook\" \"basic\" \"basic\" \"basic\" ...\n",
      " $ signup_flow            : int  0 0 0 0 0 0 0 0 0 0 ...\n",
      " $ language               : chr  \"en\" \"en\" \"en\" \"en\" ...\n",
      " $ affiliate_channel      : chr  \"direct\" \"other\" \"other\" \"seo\" ...\n",
      " $ affiliate_provider     : chr  \"direct\" \"craigslist\" \"craigslist\" \"facebook\" ...\n",
      " $ first_affiliate_tracked: chr  \"untracked\" \"untracked\" \"linked\" \"\" ...\n",
      " $ signup_app             : chr  \"Web\" \"Web\" \"Web\" \"Web\" ...\n",
      " $ first_device_type      : chr  \"Mac Desktop\" \"Mac Desktop\" \"Mac Desktop\" \"Other/Unknown\" ...\n",
      " $ first_browser          : chr  \"Firefox\" \"Safari\" \"Firefox\" \"-unknown-\" ...\n",
      " $ country_destination    : chr  \"other\" \"US\" \"NDF\" \"NDF\" ...\n",
      " $ booking                : num  1 1 0 0 1 1 0 0 0 0 ...\n"
     ]
    }
   ],
   "source": [
    "str(sample)"
   ]
  },
  {
   "cell_type": "markdown",
   "metadata": {},
   "source": [
    "### Check IDs"
   ]
  },
  {
   "cell_type": "code",
   "execution_count": 10,
   "metadata": {
    "collapsed": false
   },
   "outputs": [
    {
     "data": {
      "text/html": [
       "TRUE"
      ],
      "text/latex": [
       "TRUE"
      ],
      "text/markdown": [
       "TRUE"
      ],
      "text/plain": [
       "[1] TRUE"
      ]
     },
     "metadata": {},
     "output_type": "display_data"
    }
   ],
   "source": [
    "length(unique(sample$id)) == nrow(sample)"
   ]
  },
  {
   "cell_type": "markdown",
   "metadata": {},
   "source": [
    "### Check missing values"
   ]
  },
  {
   "cell_type": "code",
   "execution_count": 23,
   "metadata": {
    "collapsed": true
   },
   "outputs": [],
   "source": [
    "categoryDataVector = which(sapply(sample,class) == \"character\")"
   ]
  },
  {
   "cell_type": "code",
   "execution_count": 26,
   "metadata": {
    "collapsed": false
   },
   "outputs": [
    {
     "data": {
      "text/html": [
       "<dl class=dl-horizontal>\n",
       "\t<dt>id</dt>\n",
       "\t\t<dd>0</dd>\n",
       "\t<dt>date_account_created</dt>\n",
       "\t\t<dd>0</dd>\n",
       "\t<dt>date_first_booking</dt>\n",
       "\t\t<dd>37261</dd>\n",
       "\t<dt>gender</dt>\n",
       "\t\t<dd>0</dd>\n",
       "\t<dt>signup_method</dt>\n",
       "\t\t<dd>0</dd>\n",
       "\t<dt>language</dt>\n",
       "\t\t<dd>0</dd>\n",
       "\t<dt>affiliate_channel</dt>\n",
       "\t\t<dd>0</dd>\n",
       "\t<dt>affiliate_provider</dt>\n",
       "\t\t<dd>0</dd>\n",
       "\t<dt>first_affiliate_tracked</dt>\n",
       "\t\t<dd>1784</dd>\n",
       "\t<dt>signup_app</dt>\n",
       "\t\t<dd>0</dd>\n",
       "\t<dt>first_device_type</dt>\n",
       "\t\t<dd>0</dd>\n",
       "\t<dt>first_browser</dt>\n",
       "\t\t<dd>0</dd>\n",
       "\t<dt>country_destination</dt>\n",
       "\t\t<dd>0</dd>\n",
       "</dl>\n"
      ],
      "text/latex": [
       "\\begin{description*}\n",
       "\\item[id] 0\n",
       "\\item[date\\textbackslash{}\\_account\\textbackslash{}\\_created] 0\n",
       "\\item[date\\textbackslash{}\\_first\\textbackslash{}\\_booking] 37261\n",
       "\\item[gender] 0\n",
       "\\item[signup\\textbackslash{}\\_method] 0\n",
       "\\item[language] 0\n",
       "\\item[affiliate\\textbackslash{}\\_channel] 0\n",
       "\\item[affiliate\\textbackslash{}\\_provider] 0\n",
       "\\item[first\\textbackslash{}\\_affiliate\\textbackslash{}\\_tracked] 1784\n",
       "\\item[signup\\textbackslash{}\\_app] 0\n",
       "\\item[first\\textbackslash{}\\_device\\textbackslash{}\\_type] 0\n",
       "\\item[first\\textbackslash{}\\_browser] 0\n",
       "\\item[country\\textbackslash{}\\_destination] 0\n",
       "\\end{description*}\n"
      ],
      "text/markdown": [
       "id\n",
       ":   0date_account_created\n",
       ":   0date_first_booking\n",
       ":   37261gender\n",
       ":   0signup_method\n",
       ":   0language\n",
       ":   0affiliate_channel\n",
       ":   0affiliate_provider\n",
       ":   0first_affiliate_tracked\n",
       ":   1784signup_app\n",
       ":   0first_device_type\n",
       ":   0first_browser\n",
       ":   0country_destination\n",
       ":   0\n",
       "\n"
      ],
      "text/plain": [
       "                     id    date_account_created      date_first_booking \n",
       "                      0                       0                   37261 \n",
       "                 gender           signup_method                language \n",
       "                      0                       0                       0 \n",
       "      affiliate_channel      affiliate_provider first_affiliate_tracked \n",
       "                      0                       0                    1784 \n",
       "             signup_app       first_device_type           first_browser \n",
       "                      0                       0                       0 \n",
       "    country_destination \n",
       "                      0 "
      ]
     },
     "metadata": {},
     "output_type": "display_data"
    }
   ],
   "source": [
    "sapply(sample[,categoryDataVector], function(x)sum(x==\"\"|x==\"NULL\")) "
   ]
  },
  {
   "cell_type": "code",
   "execution_count": 27,
   "metadata": {
    "collapsed": false
   },
   "outputs": [
    {
     "data": {
      "text/html": [
       "<dl class=dl-horizontal>\n",
       "\t<dt>timestamp_first_active</dt>\n",
       "\t\t<dd>0</dd>\n",
       "\t<dt>age</dt>\n",
       "\t\t<dd>26526</dd>\n",
       "\t<dt>signup_flow</dt>\n",
       "\t\t<dd>0</dd>\n",
       "\t<dt>booking</dt>\n",
       "\t\t<dd>0</dd>\n",
       "</dl>\n"
      ],
      "text/latex": [
       "\\begin{description*}\n",
       "\\item[timestamp\\textbackslash{}\\_first\\textbackslash{}\\_active] 0\n",
       "\\item[age] 26526\n",
       "\\item[signup\\textbackslash{}\\_flow] 0\n",
       "\\item[booking] 0\n",
       "\\end{description*}\n"
      ],
      "text/markdown": [
       "timestamp_first_active\n",
       ":   0age\n",
       ":   26526signup_flow\n",
       ":   0booking\n",
       ":   0\n",
       "\n"
      ],
      "text/plain": [
       "timestamp_first_active                    age            signup_flow \n",
       "                     0                  26526                      0 \n",
       "               booking \n",
       "                     0 "
      ]
     },
     "metadata": {},
     "output_type": "display_data"
    }
   ],
   "source": [
    "sapply(sample[,-categoryDataVector], function(x)sum(is.na(x))) "
   ]
  },
  {
   "cell_type": "markdown",
   "metadata": {},
   "source": [
    "### Change the format of the data "
   ]
  },
  {
   "cell_type": "code",
   "execution_count": null,
   "metadata": {
    "collapsed": true
   },
   "outputs": [],
   "source": []
  }
 ],
 "metadata": {
  "kernelspec": {
   "display_name": "R",
   "language": "R",
   "name": "ir"
  },
  "language_info": {
   "codemirror_mode": "r",
   "file_extension": ".r",
   "mimetype": "text/x-r-source",
   "name": "R",
   "pygments_lexer": "r",
   "version": "3.3.1"
  }
 },
 "nbformat": 4,
 "nbformat_minor": 0
}
